{
 "cells": [
  {
   "cell_type": "code",
   "execution_count": 1,
   "metadata": {},
   "outputs": [],
   "source": [
    "\n",
    "from scipy.interpolate import UnivariateSpline\n",
    "import scipy.integrate as integrate\n",
    "import numpy as np\n",
    "import scipy\n",
    "from scipy import stats\n",
    "import matplotlib.pyplot as plt\n",
    "from jupyterthemes import jtplot\n",
    "from  scipy.integrate import * \n",
    "jtplot.style(theme=\"grade3\", context=\"notebook\", ticks=True, grid=False)\n",
    "import pickle\n",
    "#import solver related modules\n",
    "from MCEq.core import MCEqRun\n",
    "import mceq_config as config\n",
    "#import primary model choices\n",
    "import crflux.models as pm\n",
    "\n"
   ]
  },
  {
   "cell_type": "code",
   "execution_count": 2,
   "metadata": {},
   "outputs": [
    {
     "name": "stdout",
     "output_type": "stream",
     "text": [
      "MCEqRun::set_interaction_model(): SIBYLL23C\n",
      "ParticleManager::_init_default_tracking(): Initializing default tracking categories (pi, K, mu)\n",
      "MCEqRun::set_density_model(): Setting density profile to CORSIKA ('BK_USStd', None)\n",
      "MCEqRun::set_primary_model(): HillasGaisser2012 H4a\n",
      "MCEqRun::set_density_model(): Setting density profile to CORSIKA ('Karlsruhe', None)\n"
     ]
    }
   ],
   "source": [
    "atmosphere = ('CORSIKA', (\"Karlsruhe\", None))\n",
    "mceq_run = MCEqRun(\n",
    "        interaction_model='SIBYLL2.3c',\n",
    "        primary_model=(pm.HillasGaisser2012,'H4a'),\n",
    "        theta_deg=0,\n",
    "    )\n",
    "mceq_run.set_density_model(atmosphere)\n",
    "\n",
    "\n",
    "#Power of energy to scale the flux (the results will be returned as E**mag * flux)\n",
    "mag = 0\n",
    "\n",
    "#obtain energy grid (fixed) of the solution for the x-axis of the plots\n",
    "e_grid = mceq_run.e_grid\n",
    "\n",
    "#Dictionary for results\n",
    "flux = {}\n",
    "#theta \n",
    "theta=[0]\n",
    "numu_conv={}\n",
    "numu_pr={}\n",
    "nue_conv={}\n",
    "nue_pr={}\n",
    "nutau_conv={}\n",
    "nutau_pr={}\n"
   ]
  },
  {
   "cell_type": "code",
   "execution_count": null,
   "metadata": {},
   "outputs": [],
   "source": []
  },
  {
   "cell_type": "code",
   "execution_count": null,
   "metadata": {},
   "outputs": [],
   "source": []
  },
  {
   "cell_type": "code",
   "execution_count": 3,
   "metadata": {},
   "outputs": [],
   "source": [
    "#Galactic centre -----------------\n",
    "sigma_nu_theo= 10**(-23) # cm^3/s   thermally averaged cross section to neutrinos 300 GeV to 3 TeV from Fermi-LAT and HESS \n",
    "sigma_nu1=5* 10**(-26) # 1 MeV/c^2\n",
    "sigma_nu2=10**(-17) # 10^11 GeV/c^2\n",
    "Kappa_m=2 # majorana DM  ----- This is used for the paper--------\n",
    "Kappa_d=4 # Dirac DM\n",
    "\n",
    "h=0.674\n",
    "\n",
    "n=-1.316# power spetcrum index\n",
    "rho_c_mpc=(2.7754e11)# h^-2 M_0 Mpc^-3-------------> Mpc!!!!!\n",
    "\n"
   ]
  },
  {
   "cell_type": "code",
   "execution_count": 4,
   "metadata": {},
   "outputs": [],
   "source": [
    "rho_0=0.4 # GeV cm^-3\n",
    "R_0= 8.127*10**(-3) # Mparsec (Mpc) --- Gc to Sun -------------!!!!!!!!!!!!!!!!!!!!!!!!\n",
    "gamma=1.3186 # NFW parameter --- slope parameter -----\n",
    "rho_m=29.65e12 # M_sun Mpc^-3\n"
   ]
  },
  {
   "cell_type": "code",
   "execution_count": 5,
   "metadata": {},
   "outputs": [],
   "source": [
    "#values of  J for P-ONE ------------\n",
    "\n",
    "#c_zenith_1= [-1,-0.5]\n",
    "J_s1=0.87e23\n",
    "J_p1=0.85e17\n",
    "J_d1=1.4e11\n",
    "\n",
    "\n",
    "#c_zenith_2= [-0.5,0.5]\n",
    "J_s2=1.2e23\n",
    "J_p2=1.2e17\n",
    "J_d2=2.0e11\n",
    "\n",
    "#c_zenith_3= [0.5,1]\n",
    "J_s3=0.13e23\n",
    "J_p3=0.13e17\n",
    "J_d3=0.18e11"
   ]
  },
  {
   "cell_type": "code",
   "execution_count": 6,
   "metadata": {},
   "outputs": [],
   "source": [
    "M=np.logspace(-1,15,400,10)\n",
    "E=np.logspace(-1,8,100,10)"
   ]
  },
  {
   "cell_type": "code",
   "execution_count": 7,
   "metadata": {},
   "outputs": [],
   "source": [
    "H_0=71# km/(Mpc*s) hubble time --- \n",
    "#rho_s scale density \n",
    "r_s=20 # kpc scale radius ----\n",
    "gamma=1.318 #  change accordingly-------\n",
    "rho_0=0.4 # GeV cm^(-3) \n",
    "R_0=8.127 # kpc\n",
    "omega_k=-0.09\n",
    "omega_m=0.27\n",
    "omega_c=0.2589\n",
    "omega_DM=0.23\n",
    "omega_L=0.721 # dark energy density \n",
    "omega_B=0.046\n",
    "omega_re=9.8e-5\n",
    "rho_B=omega_B*rho_c_mpc# baryonic mass density -------\n",
    "# radiation density of these the most accurately measured ---------"
   ]
  },
  {
   "cell_type": "code",
   "execution_count": null,
   "metadata": {},
   "outputs": [],
   "source": [
    "m_dm=[1,1e2,1e4,1e6]\n",
    "k=2\n",
    "sigma_nu=5e-29"
   ]
  },
  {
   "cell_type": "code",
   "execution_count": null,
   "metadata": {},
   "outputs": [],
   "source": []
  },
  {
   "cell_type": "code",
   "execution_count": 8,
   "metadata": {},
   "outputs": [],
   "source": [
    "def dN_nu_E_nu(m_x,E):\n",
    "    if E==m_x:\n",
    "        return 1/(E) # 3 is for three active neutrino flavours\n",
    "    else:\n",
    "        return 0\n",
    "    \n",
    "    \n"
   ]
  },
  {
   "cell_type": "code",
   "execution_count": 9,
   "metadata": {},
   "outputs": [],
   "source": [
    "def dphi_dE_g(sigma,k,m,E,J):\n",
    "    return (1/(4*np.pi))*(sigma/(3*k*m**2))*(dN_nu_E_nu(m,E))*J"
   ]
  },
  {
   "cell_type": "code",
   "execution_count": null,
   "metadata": {},
   "outputs": [],
   "source": [
    "\n"
   ]
  },
  {
   "cell_type": "code",
   "execution_count": null,
   "metadata": {},
   "outputs": [],
   "source": []
  },
  {
   "cell_type": "code",
   "execution_count": 10,
   "metadata": {},
   "outputs": [],
   "source": [
    "def dN_nu_E_nu_Extra(m_x,E):#\n",
    "    if E<=m_x:\n",
    "        return 1/(3*E) # 3 is for three active neutrino flavours\n",
    "    else: \n",
    "        return 0\n"
   ]
  },
  {
   "cell_type": "code",
   "execution_count": 11,
   "metadata": {},
   "outputs": [],
   "source": [
    "J=J_s1+J_p1+J_d1+J_s2+J_s3+J_p2+J_p3+J_d2+J_d3"
   ]
  },
  {
   "cell_type": "code",
   "execution_count": null,
   "metadata": {},
   "outputs": [],
   "source": []
  },
  {
   "cell_type": "code",
   "execution_count": 13,
   "metadata": {},
   "outputs": [],
   "source": [
    "def R(rho_b,M): # baryon density as per 2008 ZARIJA stdudy-------\n",
    "    return (3*M/(4*rho_b*np.pi))**(1/3)"
   ]
  },
  {
   "cell_type": "code",
   "execution_count": 14,
   "metadata": {},
   "outputs": [],
   "source": [
    "# Extra galactic contribution ----------------------------"
   ]
  },
  {
   "cell_type": "code",
   "execution_count": 15,
   "metadata": {},
   "outputs": [],
   "source": [
    "def a_z(z):\n",
    "    return 1/(1+z)"
   ]
  },
  {
   "cell_type": "code",
   "execution_count": 16,
   "metadata": {},
   "outputs": [],
   "source": [
    "def H(a,H_0,Omega_m,Omega_L): # time dependent Hubble parameter \n",
    "    \n",
    "    return ( (Omega_m/a**3) +Omega_L)**(1/2)\n",
    "    "
   ]
  },
  {
   "cell_type": "code",
   "execution_count": 17,
   "metadata": {},
   "outputs": [],
   "source": [
    "def D_to_inte(a,H_0,Omega_m,Omega_L):\n",
    "    return 1/ ( ( a*H(a,H_0,Omega_m,Omega_L) )**3 )"
   ]
  },
  {
   "cell_type": "code",
   "execution_count": null,
   "metadata": {},
   "outputs": [],
   "source": []
  },
  {
   "cell_type": "code",
   "execution_count": 18,
   "metadata": {},
   "outputs": [],
   "source": [
    "def D(a,H_0,Omega_m,Omega_L):\n",
    "        return (5 * Omega_m * H(a,H_0,Omega_m,Omega_L) / (2*H_0) \n",
    "               ) *( integrate.quad( D_to_inte, 0, a, args=(H_0,Omega_m,Omega_L))[0])\n",
    "   "
   ]
  },
  {
   "cell_type": "code",
   "execution_count": 19,
   "metadata": {},
   "outputs": [],
   "source": [
    "def d(a,H_0,Omega_m,Omega_L):\n",
    "    t=D(a,H_0,Omega_m,Omega_L)\n",
    "    return t/D(1,H_0,Omega_m,Omega_L)"
   ]
  },
  {
   "cell_type": "code",
   "execution_count": 20,
   "metadata": {},
   "outputs": [],
   "source": [
    "def omega_mz(z): # I have neglected omega_re and omega_k couldn't find proper values\n",
    "    return (omega_m * (1+z)**3 ) /(omega_L+(omega_m*(1+z)**3))"
   ]
  },
  {
   "cell_type": "code",
   "execution_count": 21,
   "metadata": {},
   "outputs": [],
   "source": [
    "def A_z(z):\n",
    "   return omega_mz(z)*( 0.99*((1+z)**(-3.216)) + 0.074)"
   ]
  },
  {
   "cell_type": "code",
   "execution_count": 22,
   "metadata": {},
   "outputs": [],
   "source": [
    "def alpha_z(z):\n",
    "    return    omega_mz(z)*(5.907*((1+z)**(-3.599)) + 2.344)"
   ]
  },
  {
   "cell_type": "code",
   "execution_count": 23,
   "metadata": {},
   "outputs": [],
   "source": [
    "def beta_z(z):\n",
    "        return omega_mz(z)*(3.136*((1+z)**(-3.058)) +2.349 )"
   ]
  },
  {
   "cell_type": "code",
   "execution_count": 24,
   "metadata": {},
   "outputs": [],
   "source": [
    "Z=np.linspace(0,60,60)\n",
    "D_s=np.vectorize(d)(a_z(Z),H_0,omega_m,omega_L)"
   ]
  },
  {
   "cell_type": "code",
   "execution_count": null,
   "metadata": {},
   "outputs": [],
   "source": []
  },
  {
   "cell_type": "code",
   "execution_count": 25,
   "metadata": {},
   "outputs": [],
   "source": [
    "#Literature values for comparisons----------- \n",
    "dn_dlogM_20=np.loadtxt(\"z_2.csv\",delimiter=\",\")\n",
    "dn_dlogM_0=np.loadtxt(\"z_0.txt\",delimiter=\",\")\n",
    "dn_dlogM_15=np.loadtxt(\"z_15.csv\",delimiter=\",\")\n",
    "dn_dlogM_5=np.loadtxt(\"z_5.csv\",delimiter=\",\")\n",
    "dn_dlogM_10=np.loadtxt(\"z_10.csv\",delimiter=\",\")\n"
   ]
  },
  {
   "cell_type": "code",
   "execution_count": null,
   "metadata": {},
   "outputs": [],
   "source": []
  },
  {
   "cell_type": "code",
   "execution_count": 26,
   "metadata": {},
   "outputs": [],
   "source": [
    "def rho_s(R,r_s,g,rho_0):\n",
    "    \"\"\"\n",
    "    rho_s from rho_0 in GeV cm**-3  \n",
    "    \"\"\"\n",
    "    \n",
    "    r_r=R/r_s \n",
    "    return rho_0*(((r_r)**(g))*(1+r_r)**(3-g))/(2**(3-g))"
   ]
  },
  {
   "cell_type": "code",
   "execution_count": 27,
   "metadata": {},
   "outputs": [],
   "source": [
    "Delta=200 # Lopez et al. ---------- M_min=10e-5------"
   ]
  },
  {
   "cell_type": "code",
   "execution_count": null,
   "metadata": {},
   "outputs": [],
   "source": []
  },
  {
   "cell_type": "code",
   "execution_count": 28,
   "metadata": {},
   "outputs": [],
   "source": [
    "Rho_s=rho_s(8.127,20,1.28,0.4)"
   ]
  },
  {
   "cell_type": "code",
   "execution_count": null,
   "metadata": {},
   "outputs": [],
   "source": []
  },
  {
   "cell_type": "code",
   "execution_count": 30,
   "metadata": {},
   "outputs": [],
   "source": [
    "#----------Lopez----------------"
   ]
  },
  {
   "cell_type": "code",
   "execution_count": 31,
   "metadata": {},
   "outputs": [],
   "source": [
    "def sigma_lopez(M):\n",
    "    return np.exp((2.6*M**(0.001745))-0.2506*M**0.07536)"
   ]
  },
  {
   "cell_type": "code",
   "execution_count": 32,
   "metadata": {
    "scrolled": true
   },
   "outputs": [],
   "source": [
    "def f_178(M,z):\n",
    "    \"\"\"\n",
    "    f_178 from lopez eq b19\n",
    "    \n",
    "    \n",
    "    \"\"\"\n",
    "    \n",
    "    \n",
    "    \n",
    "    A=omega_mz(z)*(1.907*(1+z)**(-3.216) + 0.074)\n",
    "    al=omega_mz(z)*(5.907*(1+z)**(-3.599) + 2.344)\n",
    "    beta=omega_mz(z)*(3.136*(1+z)**(-3.068) + 2.349)\n",
    "    gamma=1.318\n",
    "    \n",
    "    sigma=sigma_lopez(M)*d(a_z(z),H_0,omega_m,omega_L)\n",
    "    \n",
    "    \n",
    "    return A*(  (sigma/beta)**(-al) + 1    )*np.exp(-gamma/sigma**2)\n",
    "    "
   ]
  },
  {
   "cell_type": "code",
   "execution_count": null,
   "metadata": {},
   "outputs": [],
   "source": []
  },
  {
   "cell_type": "code",
   "execution_count": 33,
   "metadata": {},
   "outputs": [],
   "source": [
    "def f_delta(M,z):\n",
    "    \n",
    "    \"\"\"\n",
    "    f_delta from lopez eq b21\n",
    "    \"\"\"\n",
    "    sigma=sigma_lopez(M)*d(a_z(z),H_0, omega_m, omega_L)\n",
    "    delta=200\n",
    "    b_t= np.exp( ((delta/178) -1) * (0.023-(0.072/sigma**2.13) ))* (delta/178)**( (-0.456*omega_mz(z)) - 0.139) \n",
    "    return f_178(M,z)*b_t"
   ]
  },
  {
   "cell_type": "code",
   "execution_count": null,
   "metadata": {},
   "outputs": [],
   "source": []
  },
  {
   "cell_type": "code",
   "execution_count": 34,
   "metadata": {},
   "outputs": [],
   "source": [
    "def g_tild(M,z):\n",
    "    \n",
    "    c_0 = 3.681\n",
    "    c_1 = 5.033\n",
    "    al = 6.948\n",
    "    x_0 = 0.424\n",
    "    s_0 = 1.047\n",
    "    s_1 = 1.646\n",
    "    b = 7.386\n",
    "    x_1 = 0.526\n",
    "\n",
    "    A = 2.881\n",
    "    b = 1.257\n",
    "    c = 1.022\n",
    "    d_2 = 0.060\n",
    "    \n",
    "    D_s= d(a_z(z),H_0,omega_m,omega_L)\n",
    "    sigma=sigma_lopez(M)*D_s\n",
    "\n",
    "    x=(1/(1+z))*(omega_L/omega_m)**(1/3)\n",
    "    def c_min(x):\n",
    "        return c_0+(c_1-c_0)*(  ( np.arctan(al*(x-x_0)) / np.pi ) + (1/2))\n",
    "    def s_min(x):\n",
    "        return s_0+(s_1-s_0)*(  ( np.arctan(b*(x-x_1)) / np.pi ) + (1/2))\n",
    "\n",
    "    def B_0(x):\n",
    "        return c_min(x)/c_min(1.393)\n",
    "    def B_1(x):\n",
    "        return s_min(x)/s_min(1.393)\n",
    "\n",
    "    def s_in(x):\n",
    "        return B_1(x)*sigma\n",
    "    def C(x):\n",
    "        aa=(   ((s_in(x)/b)**c)   + 1   )\n",
    "        dd=np.exp(d_2/s_in(x)**2)\n",
    "        return A*aa*dd\n",
    "\n",
    "    def c_200(x):\n",
    "        return B_1(x)*C(x)\n",
    "    if c_200(x)>=100:\n",
    "        a=100\n",
    "    else:\n",
    "        a=c_200(x)\n",
    "    return (a**3)*(1-(1+a)**(-3))/(3*(np.log(1+a)-a*(1+a)**(-1)))**2"
   ]
  },
  {
   "cell_type": "code",
   "execution_count": null,
   "metadata": {},
   "outputs": [],
   "source": []
  },
  {
   "cell_type": "code",
   "execution_count": 35,
   "metadata": {},
   "outputs": [],
   "source": [
    "def dln_sigma_1(M):\n",
    "    \n",
    "    return 0.2506*0.07536*M**(0.07536-1)- 2.6*0.001745*M**(0.001745-1)\n",
    "    "
   ]
  },
  {
   "cell_type": "code",
   "execution_count": 55,
   "metadata": {},
   "outputs": [],
   "source": [
    "def G_lopez(z):\n",
    "    def integrand(M,z):\n",
    "        return dln_sigma_1(M)*f_delta(M,z)*g_tild(M,z)\n",
    "    \n",
    "    aa=((omega_m/omega_DM)**2)*Delta/(3*omega_mz(z))\n",
    "    \n",
    "    bb=integrate.quad(integrand,1e-2,1e1,args=(z))[0]+integrate.quad(integrand,1e1,1e10,args=(z))[0]+integrate.quad(integrand,1e10,1e17,args=(z))[0]\n",
    "     \n",
    "    return aa*bb\n",
    "    "
   ]
  },
  {
   "cell_type": "code",
   "execution_count": null,
   "metadata": {},
   "outputs": [],
   "source": []
  },
  {
   "cell_type": "code",
   "execution_count": 37,
   "metadata": {},
   "outputs": [],
   "source": [
    "def dphide_lopez(E,m_x,snu):\n",
    "    \"\"\"\n",
    "    \n",
    "    \"\"\"\n",
    "    if E<=m_x:\n",
    "        z=(m_x/E) - 1\n",
    "        \n",
    "        a_t=(1+G_lopez(z))*(1+z)**3\n",
    "        \n",
    "        b_t=H(a_z(z),H_0,omega_m,omega_L)\n",
    "        \n",
    "        a_g=a_t/b_t\n",
    "        \n",
    "        aaa=snu*((omega_DM*rho_c_mpc)**2)\n",
    "        \n",
    "        b=8*np.pi*m_x**2\n",
    "        \n",
    "        return aaa*a_g/(3*E*b)\n",
    "    else:\n",
    "        return 0\n",
    "    "
   ]
  },
  {
   "cell_type": "code",
   "execution_count": 38,
   "metadata": {},
   "outputs": [],
   "source": [
    "def dphi_astro(E):\n",
    "    \"\"\"\n",
    "    Astrophysical flux because of muon background as per the power law described in new constraints on supersymmetry\n",
    "    using neutrino telescopes\n",
    "    \"\"\"\n",
    "    return 3*1e-18*1.66*(E/1e5)**(-2.53)"
   ]
  },
  {
   "cell_type": "code",
   "execution_count": null,
   "metadata": {},
   "outputs": [],
   "source": []
  },
  {
   "cell_type": "code",
   "execution_count": null,
   "metadata": {},
   "outputs": [],
   "source": []
  },
  {
   "cell_type": "code",
   "execution_count": 39,
   "metadata": {},
   "outputs": [],
   "source": [
    "def A_eff():\n",
    "    \"\"\"\n",
    "    A_eff from PONE paper \n",
    "    \n",
    "    returns :\n",
    "    three tuples for cos(theta)  1 to 0.5 , 0.5 to -0.5 , -0.5 to -1 \n",
    "    \n",
    "    \"\"\"\n",
    "    A_5_5=np.loadtxt(\"A_55.csv\",delimiter=\",\")\n",
    "    A_1_5=np.loadtxt(\"A_1_5.csv\",delimiter=\",\")\n",
    "    A1_5=np.loadtxt(\"A51.csv\",delimiter=\",\")\n",
    "    A_5_5=(A_5_5[A_5_5[:,0].argsort()])\n",
    "    A_1_5=(A_1_5[A_1_5[:,0].argsort()])\n",
    "    A1_5=(A1_5[A1_5[:,0].argsort()])\n",
    "    A_5_5=np.concatenate((np.array([[100,0]]),A_5_5),axis=0)\n",
    "    A_1_5=np.concatenate((np.array([[100,0]]),A_1_5),axis=0)\n",
    "    A1_5=np.concatenate((np.array([[100,0]]),A1_5),axis=0)\n",
    "    \n",
    "    A_1_5=UnivariateSpline(A_1_5[:,0],A_1_5[:,1],k=1,s=0,ext=3)\n",
    "    A1_5=UnivariateSpline(A1_5[:,0],A1_5[:,1],k=1,s=0,ext=3)\n",
    "    A_5_5=UnivariateSpline(A_5_5[:,0],A_5_5[:,1],k=1,s=0,ext=3)\n",
    "    return A1_5,A_5_5,A_1_5\n"
   ]
  },
  {
   "cell_type": "code",
   "execution_count": null,
   "metadata": {},
   "outputs": [],
   "source": []
  },
  {
   "cell_type": "code",
   "execution_count": 40,
   "metadata": {},
   "outputs": [
    {
     "data": {
      "text/plain": [
       "'dphi_1=np.loadtxt(\"m_1.csv\",delimiter=\",\")\\ndphi_1e2=np.loadtxt(\"m_1e2.csv\",delimiter=\",\")\\ndphi_1e4=np.loadtxt(\"m_1e4.csv\",delimiter=\",\")\\ndphi_1e6=np.loadtxt(\"m_1e6.csv\",delimiter=\",\")\\ndphi_1e4=(dphi_1e4[dphi_1e4[:,0].argsort()])\\ndphi_1e6=(dphi_1e6[dphi_1e6[:,0].argsort()])\\n\\nE[m_dm[0]]=dphi_1e4[:,0]\\nE[m_dm[1]]=dphi_1e6[:,0]\\n#E[m_dm[2]]=dphi_1e4[:,0]\\n#E[m_dm[3]]=dphi_1e6[:,0]'"
      ]
     },
     "execution_count": 40,
     "metadata": {},
     "output_type": "execute_result"
    }
   ],
   "source": [
    "\"\"\"dphi_1=np.loadtxt(\"m_1.csv\",delimiter=\",\")\n",
    "dphi_1e2=np.loadtxt(\"m_1e2.csv\",delimiter=\",\")\n",
    "dphi_1e4=np.loadtxt(\"m_1e4.csv\",delimiter=\",\")\n",
    "dphi_1e6=np.loadtxt(\"m_1e6.csv\",delimiter=\",\")\n",
    "dphi_1e4=(dphi_1e4[dphi_1e4[:,0].argsort()])\n",
    "dphi_1e6=(dphi_1e6[dphi_1e6[:,0].argsort()])\n",
    "\n",
    "E[m_dm[0]]=dphi_1e4[:,0]\n",
    "E[m_dm[1]]=dphi_1e6[:,0]\n",
    "#E[m_dm[2]]=dphi_1e4[:,0]\n",
    "#E[m_dm[3]]=dphi_1e6[:,0]\"\"\""
   ]
  },
  {
   "cell_type": "code",
   "execution_count": 41,
   "metadata": {},
   "outputs": [],
   "source": [
    "for i in theta: #Set the zenith angle\n",
    "    mceq_run.set_theta_deg(i)\n",
    "    #Run the solver\n",
    "    mceq_run.solve()\n",
    "\n",
    "    numu_conv[i] = (mceq_run.get_solution('conv_numu', mag)\n",
    "                 + mceq_run.get_solution('conv_antinumu', mag))\n",
    "\n",
    "    numu_pr[i] = (mceq_run.get_solution('pr_numu', mag)\n",
    "               + mceq_run.get_solution('pr_antinumu', mag))\n",
    "    nue_conv[i] = (mceq_run.get_solution('conv_nue', mag)\n",
    "                 + mceq_run.get_solution('conv_antinue', mag))\n",
    "\n",
    "    nue_pr[i] = (mceq_run.get_solution('pr_nue', mag)\n",
    "               + mceq_run.get_solution('pr_antinue', mag))\n",
    "\n",
    "    nutau_conv[i] = (mceq_run.get_solution('conv_nutau', mag)\n",
    "                 + mceq_run.get_solution('conv_antinutau', mag))\n",
    "\n",
    "    nutau_pr[i] = (mceq_run.get_solution('pr_nutau', mag)\n",
    "               + mceq_run.get_solution('pr_antinutau', mag))\n"
   ]
  },
  {
   "cell_type": "code",
   "execution_count": 64,
   "metadata": {},
   "outputs": [],
   "source": [
    "m_dm=np.logspace(3,6,15,10)\n",
    "snu=np.logspace(-26,-23,15,10)\n",
    "A_1_5=A_eff()[2](e_grid)\n",
    "A_5_5=A_eff()[1](e_grid)\n",
    "A1_5=A_eff()[0](e_grid)\n",
    "A=(A_5_5*(np.pi/2 - np.pi/3)   + A_1_5*((2*np.pi/3)) + A1_5*(np.pi/2 - np.pi/3))\n",
    "\n",
    "numu_total=(numu_conv[0]+numu_pr[0]+(1/3)*dphi_astro(mceq_run.e_grid))*mceq_run.e_widths*A*5*60*60*24*365"
   ]
  },
  {
   "cell_type": "code",
   "execution_count": null,
   "metadata": {},
   "outputs": [],
   "source": []
  },
  {
   "cell_type": "code",
   "execution_count": 65,
   "metadata": {},
   "outputs": [],
   "source": [
    "def find_nearest(array, value):\n",
    "    array = np.asarray(array)\n",
    "    idx = (np.abs(array - value)).argmin()\n",
    "    return idx"
   ]
  },
  {
   "cell_type": "code",
   "execution_count": null,
   "metadata": {},
   "outputs": [],
   "source": []
  },
  {
   "cell_type": "code",
   "execution_count": 66,
   "metadata": {},
   "outputs": [],
   "source": [
    "def x_stat(m_d,sn):\n",
    "    #s_lo=np.zeros((sn.shape,m.shape[0]))\n",
    "    for i,m in enumerate(m_d):\n",
    "     \n",
    "        s_lo_t=np.array([])\n",
    "        s_lo_t_2=np.array([])\n",
    "        for j,s in enumerate(sn): \n",
    "            t_up=find_nearest(mceq_run.e_grid,m+1)\n",
    "            t_d=find_nearest(mceq_run.e_grid,5e2)\n",
    "            r=np.vectorize(dphide_lopez)(mceq_run.e_grid[t_d:t_up],m,s)+np.vectorize(dphi_dE_g)(s,2,m,e_grid[t_d:t_up],J)\n",
    "            \n",
    "            r=np.nan_to_num(r)\n",
    "            #print(np.nan_to_num(r))\n",
    "            #print(numu_total[t_d:t_up])\n",
    "            \n",
    "            x=((r*mceq_run.e_widths[t_d:t_up]*A[t_d:t_up]*60*60*24*365*5)**2)/numu_total[t_d:t_up]\n",
    "            xx=((r*mceq_run.e_widths[t_d:t_up]*A[t_d:t_up]*60*60*24*365*5)**2)/np.sqrt(numu_total[t_d:t_up])\n",
    "\n",
    "            y=stats.chi2.sf(np.sum(np.nan_to_num(x)),2)\n",
    "            yy=stats.chi2.sf(np.sum(np.nan_to_num(xx)),2)\n",
    "            s_lo_t=np.append(s_lo_t,y)\n",
    "            s_lo_t_2=np.append(s_lo_t_2,yy)\n",
    "        \n",
    "        if i==0:\n",
    "            s_lo=np.array([s_lo_t])\n",
    "            s_lo_2=np.array([s_lo_t_2])\n",
    "        else:\n",
    "            s_lo=np.concatenate((s_lo,np.array([s_lo_t])),axis=0)\n",
    "            s_lo_2=np.concatenate((s_lo_2,np.array([s_lo_t_2])),axis=0)\n",
    "    return s_lo,s_lo_2"
   ]
  },
  {
   "cell_type": "markdown",
   "metadata": {
    "scrolled": true
   },
   "source": []
  },
  {
   "cell_type": "code",
   "execution_count": null,
   "metadata": {
    "scrolled": true
   },
   "outputs": [
    {
     "name": "stderr",
     "output_type": "stream",
     "text": [
      "<ipython-input-55-0bd4e5b6d5a3>:7: IntegrationWarning: The algorithm does not converge.  Roundoff error is detected\n",
      "  in the extrapolation table.  It is assumed that the requested tolerance\n",
      "  cannot be achieved, and that the returned result (if full_output = 1) is \n",
      "  the best which can be obtained.\n",
      "  bb=integrate.quad(integrand,1e-2,1e1,args=(z))[0]+integrate.quad(integrand,1e1,1e10,args=(z))[0]+integrate.quad(integrand,1e10,1e17,args=(z))[0]\n",
      "<ipython-input-34-8ddc7113ccb6>:35: RuntimeWarning: overflow encountered in exp\n",
      "  dd=np.exp(d_2/s_in(x)**2)\n",
      "<ipython-input-55-0bd4e5b6d5a3>:7: IntegrationWarning: The integral is probably divergent, or slowly convergent.\n",
      "  bb=integrate.quad(integrand,1e-2,1e1,args=(z))[0]+integrate.quad(integrand,1e1,1e10,args=(z))[0]+integrate.quad(integrand,1e10,1e17,args=(z))[0]\n",
      "<ipython-input-34-8ddc7113ccb6>:36: RuntimeWarning: overflow encountered in double_scalars\n",
      "  return A*aa*dd\n"
     ]
    }
   ],
   "source": [
    "%time tmp_res = x_stat(m_dm, snu)"
   ]
  },
  {
   "cell_type": "code",
   "execution_count": null,
   "metadata": {},
   "outputs": [],
   "source": []
  },
  {
   "cell_type": "code",
   "execution_count": null,
   "metadata": {},
   "outputs": [],
   "source": []
  },
  {
   "cell_type": "code",
   "execution_count": null,
   "metadata": {},
   "outputs": [],
   "source": [
    "pickle.dump(tmp_res,open('30_06_15.pkl','wb'))"
   ]
  },
  {
   "cell_type": "code",
   "execution_count": null,
   "metadata": {},
   "outputs": [],
   "source": [
    "cl_lit=np.loadtxt('CL_PONE.csv',delimiter=\",\")\n",
    "cl_lit=(cl_lit[cl_lit[:,0].argsort()])\n"
   ]
  },
  {
   "cell_type": "code",
   "execution_count": null,
   "metadata": {},
   "outputs": [],
   "source": [
    "cl=pickle.load(open(\"30_06_15.pkl\",\"rb\"))"
   ]
  },
  {
   "cell_type": "code",
   "execution_count": null,
   "metadata": {},
   "outputs": [],
   "source": []
  },
  {
   "cell_type": "code",
   "execution_count": 61,
   "metadata": {},
   "outputs": [
    {
     "name": "stderr",
     "output_type": "stream",
     "text": [
      "<ipython-input-61-ce7209a22b4c>:4: MatplotlibDeprecationWarning: shading='flat' when X and Y have the same dimensions as C is deprecated since 3.3.  Either specify the corners of the quadrilaterals with X and Y, or pass shading='auto', 'nearest' or 'gouraud', or set rcParams['pcolor.shading'].  This will become an error two minor releases later.\n",
      "  plt.pcolor(m_dm,snu,1-cl[0].T,cmap=plt.cm.Accent)\n"
     ]
    },
    {
     "data": {
      "text/plain": [
       "<matplotlib.legend.Legend at 0x7f55148de0d0>"
      ]
     },
     "execution_count": 61,
     "metadata": {},
     "output_type": "execute_result"
    },
    {
     "data": {
      "image/png": "[encoded data removed]",
      "text/plain": [
       "<Figure size 576x504 with 2 Axes>"
      ]
     },
     "metadata": {},
     "output_type": "display_data"
    }
   ],
   "source": [
    "plt.title(\"1/background\")\n",
    "plt.contour(m_dm,snu,1-cl[0].T,levels=[0.9,1])\n",
    "#plt.contour(m_dm,snu,1-cl[1].T,levels=[0.9,1])\n",
    "plt.pcolor(m_dm,snu,1-cl[0].T,cmap=plt.cm.Accent)\n",
    "plt.plot(cl_lit[:,0],cl_lit[:,1],'r',label='literature 90% C.L')\n",
    "plt.xscale(\"log\")\n",
    "plt.yscale(\"log\")\n",
    "plt.colorbar()\n",
    "plt.xlabel(r\"$m_{x}$\")\n",
    "plt.ylabel(r\"<$\\sigma \\nu$>\")\n",
    "plt.legend()"
   ]
  },
  {
   "cell_type": "code",
   "execution_count": 62,
   "metadata": {},
   "outputs": [
    {
     "name": "stderr",
     "output_type": "stream",
     "text": [
      "<ipython-input-62-0d00d01f592b>:3: MatplotlibDeprecationWarning: shading='flat' when X and Y have the same dimensions as C is deprecated since 3.3.  Either specify the corners of the quadrilaterals with X and Y, or pass shading='auto', 'nearest' or 'gouraud', or set rcParams['pcolor.shading'].  This will become an error two minor releases later.\n",
      "  plt.pcolor(m_dm,snu,1-cl[1].T,cmap=plt.cm.Accent)\n"
     ]
    },
    {
     "data": {
      "text/plain": [
       "<matplotlib.legend.Legend at 0x7f5514db4dc0>"
      ]
     },
     "execution_count": 62,
     "metadata": {},
     "output_type": "execute_result"
    },
    {
     "data": {
      "image/png": "[encoded data removed]",
      "text/plain": [
       "<Figure size 576x504 with 2 Axes>"
      ]
     },
     "metadata": {},
     "output_type": "display_data"
    }
   ],
   "source": [
    "plt.title(\"1/ sqrt (background)\")\n",
    "plt.contour(m_dm,snu,1-cl[1].T,levels=[0.9,1])\n",
    "plt.pcolor(m_dm,snu,1-cl[1].T,cmap=plt.cm.Accent)\n",
    "plt.plot(cl_lit[:,0],cl_lit[:,1],'r',label='literature 90% C.L')\n",
    "plt.xscale(\"log\")\n",
    "plt.yscale(\"log\")\n",
    "plt.colorbar()\n",
    "plt.xlabel(r\"$m_{x}$\")\n",
    "plt.ylabel(r\"<$\\sigma \\nu$>\")\n",
    "plt.legend()"
   ]
  },
  {
   "cell_type": "code",
   "execution_count": 63,
   "metadata": {},
   "outputs": [
    {
     "name": "stderr",
     "output_type": "stream",
     "text": [
      "No handles with labels found to put in legend.\n"
     ]
    },
    {
     "data": {
      "image/png": "[encoded data removed]",
      "text/plain": [
       "<Figure size 432x432 with 2 Axes>"
      ]
     },
     "metadata": {},
     "output_type": "display_data"
    }
   ],
   "source": [
    "plt.figure(figsize=(6,6))\n",
    "plt.contour(m_dm,snu,1-cl[0].T,levels=[0.8,0.9,1])\n",
    "plt.xscale(\"log\")\n",
    "plt.yscale(\"log\")\n",
    "plt.colorbar()\n",
    "plt.legend()\n",
    "plt.xlabel(r\"$m_{x}$\")\n",
    "plt.ylabel(r\"<$\\sigma \\nu$>\")\n",
    "plt.grid()"
   ]
  },
  {
   "cell_type": "code",
   "execution_count": null,
   "metadata": {},
   "outputs": [],
   "source": []
  },
  {
   "cell_type": "code",
   "execution_count": null,
   "metadata": {},
   "outputs": [],
   "source": []
  },
  {
   "cell_type": "code",
   "execution_count": null,
   "metadata": {},
   "outputs": [],
   "source": []
  },
  {
   "cell_type": "code",
   "execution_count": null,
   "metadata": {},
   "outputs": [],
   "source": [
    "A=(A_5_5(mceq_run.e_grid)+A_1_5(mceq_run.e_grid)+A1_5(mceq_run.e_grid))\n",
    "plt.figure(figsize=(6,6))\n",
    "plt.title(r\"$\\nu_{\\mu}$ , -1<$cos(\\theta)$<1\"+r\"$<\\igma_{nu}>$=$3\\times 10^26$\")\n",
    "for j,m in enumerate(m_dm):\n",
    "    #plt.scatter(E,ddd[m]*(E**2),label='m_x='+'{:e}'.format(m))\n",
    "    plt.step(e_grid,(s_lo[m])*(A)*60*60*24*365*mceq_run.e_widths,label=r'$m_\\chi$='+name[j]+\"GeV\")\n",
    "\n",
    "    #plt.step(e_grid,(s_fit[m](e_grid))*(A)*60*60*24*365*mceq_run.e_widths,label=r'spline $m_\\chi$='+name[j]+\"GeV\")\n",
    "plt.step(e_grid,(numu_conv[theta[0]]+numu_pr[theta[0]])*A*60*60*24*365*mceq_run.e_widths,label='Atmospheric' )\n",
    "plt.step(e_grid,(1/3)*dphi_astro(e_grid)*(A)*60*60*24*365*mceq_run.e_widths,label='Astrophysical flux')\n",
    "plt.xscale('log')\n",
    "plt.yscale('log')\n",
    "plt.xlabel(r'$E_{\\nu}$ [GeV]')\n",
    "plt.ylabel(r'counts / year')\n",
    "plt.ylim(1e0,1e5)\n",
    "plt.xlim(1e2,1e6)\n",
    "plt.legend()\n",
    "\n"
   ]
  },
  {
   "cell_type": "code",
   "execution_count": null,
   "metadata": {},
   "outputs": [],
   "source": [
    "plt.figure(figsize=(6,6))\n",
    "plt.title(r\"$\\nu_{tau}$ , -1<$cos(\\theta)$<1\")\n",
    "for j,m in enumerate(m_dm):\n",
    "    #plt.scatter(E,ddd[m]*(E**2),label='m_x='+'{:e}'.format(m))\n",
    "    plt.step(e_grid,(s_lo[m])*(A)*60*60*24*365*mceq_run.e_widths,label=r'$m_\\chi$='+name[j]+\"GeV\")\n",
    "\n",
    "    #plt.step(e_grid,(s_fit[m](e_grid))*(A)*60*60*24*365*mceq_run.e_widths,label=r'spline $m_\\chi$='+name[j]+\"GeV\")\n",
    "plt.step(e_grid,(nutau_conv[theta[0]]+nutau_pr[theta[0]])*A*60*60*24*365*mceq_run.e_widths,label='Atmospheric' )\n",
    "plt.step(e_grid,(1/3)*dphi_astro(e_grid)*(A)*60*60*24*365*mceq_run.e_widths,label='Astrophysical flux')\n",
    "plt.xscale('log')\n",
    "plt.yscale('log')\n",
    "plt.xlabel(r'$E_{\\nu}$ [GeV]')\n",
    "plt.ylabel(r'counts / year')\n",
    "plt.ylim(1e0,1e4)\n",
    "plt.xlim(1e2,1e6)\n",
    "plt.legend()\n",
    "\n"
   ]
  },
  {
   "cell_type": "code",
   "execution_count": null,
   "metadata": {},
   "outputs": [],
   "source": [
    "plt.figure(figsize=(6,6))\n",
    "plt.title(r\"$\\nu_{e}$ , -1<$cos(\\theta)$<1\")\n",
    "for j,m in enumerate(m_dm):\n",
    "    #plt.scatter(E,ddd[m]*(E**2),label='m_x='+'{:e}'.format(m))\n",
    "    plt.step(e_grid,(s_lo[m])*(A)*60*60*24*365*mceq_run.e_widths,label=r'$m_\\chi$='+name[j]+\"GeV\")\n",
    "\n",
    "    #plt.step(e_grid,(s_fit[m](e_grid))*(A)*60*60*24*365*mceq_run.e_widths,label=r'spline $m_\\chi$='+name[j]+\"GeV\")\n",
    "plt.step(e_grid,(nue_conv[theta[0]]+nue_pr[theta[0]])*A*60*60*24*365*mceq_run.e_widths,label='Atmospheric' )\n",
    "plt.step(e_grid,(1/3)*dphi_astro(e_grid)*(A)*60*60*24*365*mceq_run.e_widths,label='Astrophysical flux')\n",
    "plt.xscale('log')\n",
    "plt.yscale('log')\n",
    "plt.xlabel(r'$E_{\\nu}$ [GeV]')\n",
    "plt.ylabel(r'counts / year')\n",
    "plt.ylim(1e0,1e4)\n",
    "plt.xlim(1e2,1e6)\n",
    "plt.legend()\n",
    "\n"
   ]
  },
  {
   "cell_type": "code",
   "execution_count": null,
   "metadata": {},
   "outputs": [],
   "source": [
    "s_fit={}\n",
    "s_fit[m_dm[0]]=UnivariateSpline(E[m_dm[0]],dphi_1e4[:,1]*E[m_dm[0]]**-2,k=1,s=0,ext=1)\n",
    "#np.vectorize(dphide_lopez)(E[m_dm[1]],m_dm[1],1e-25)\n",
    "#np.vectorize(dphide_lopez)(E[m_dm[0]],m_dm[0],1e-25)\n",
    "s_fit[m_dm[1]]=UnivariateSpline(E[m_dm[1]],dphi_1e6[:,1]*E[m_dm[1]]**-2,k=1,s=0,ext=1)"
   ]
  },
  {
   "cell_type": "code",
   "execution_count": null,
   "metadata": {},
   "outputs": [],
   "source": [
    "def phi_A_1_5(theta):\n",
    "    \"\"\"\n",
    "    theta could be taken as 0 for now or later on could be taken as an array \n",
    "    theta\n",
    "    \n",
    "    returns :\n",
    "    an effective phi over the corresponding part of cos(theta)\n",
    "    \"\"\"\n",
    "    \n",
    "    dphi_dE=np.zeros(len(mceq_run.e_grid))\n",
    "    if len(theta)!=1:\n",
    "        numu_co={}\n",
    "        numu_p={}\n",
    "        cos_width=np.spacing(np.cos(np.deg2rad(theta)))\n",
    "        for n,i in enumerate(theta):\n",
    "            #Set the zenith angle\n",
    "            mceq_run.set_theta_deg(i)\n",
    "            #Run the solver\n",
    "            mceq_run.solve()\n",
    "\n",
    "            numu_co[i] = (mceq_run.get_solution('conv_numu', mag)\n",
    "                         + mceq_run.get_solution('conv_antinumu', mag))\n",
    "\n",
    "            numu_p[i] = (mceq_run.get_solution('pr_numu', mag)\n",
    "                       + mceq_run.get_solution('pr_antinumu', mag))\n",
    "            dphi_dE=dphi_dE+numu_co[i]*cos_width[n]+numu_p[i]*cos_width[n]\n",
    "    \n",
    "    \n",
    "    else :\n",
    "            numu_p=np.array([])\n",
    "            numu_co=np.array([])\n",
    "            mceq_run.set_theta_deg(theta[0])\n",
    "            #Run the solver\n",
    "            mceq_run.solve()\n",
    "\n",
    "            numu_co= (mceq_run.get_solution('conv_numu', mag)\n",
    "                         + mceq_run.get_solution('conv_antinumu', mag))\n",
    "\n",
    "            numu_p= (mceq_run.get_solution('pr_numu', mag)\n",
    "                       + mceq_run.get_solution('pr_antinumu', mag))\n",
    "            dphi_dE=dphi_dE+numu_co+numu_p+dphi_astro(mceq_run.e_grid)\n",
    "            \n",
    "    return np.sum(dphi_dE[37:68]*mceq_run.e_widths[37:68]*A_1_5(mceq_run.e_grid[37:68]))\n",
    "    \n",
    "    \n",
    "    "
   ]
  },
  {
   "cell_type": "code",
   "execution_count": null,
   "metadata": {},
   "outputs": [],
   "source": [
    "def phi_A1_5(theta):\n",
    "    \"\"\"\n",
    "    theta could be taken as 0 for now or later on could be taken as an array \n",
    "    \n",
    "    \n",
    "    returns :\n",
    "    an effective phi over the corresponding part of cos(theta)\n",
    "    \"\"\"\n",
    "    \n",
    "    dphi_dE=np.zeros(len(mceq_run.e_grid))\n",
    "    if len(theta)!=1:\n",
    "         numu_co={}\n",
    "         numu_p={}\n",
    "         for i in theta: #Set the zenith angle\n",
    "            mceq_run.set_theta_deg(i)\n",
    "            #Run the solver\n",
    "            mceq_run.solve()\n",
    "\n",
    "            numu_co[i] = (mceq_run.get_solution('conv_numu', mag)\n",
    "                         + mceq_run.get_solution('conv_antinumu', mag))\n",
    "\n",
    "            numu_p[i] = (mceq_run.get_solution('pr_numu', mag)\n",
    "                       + mceq_run.get_solution('pr_antinumu', mag))\n",
    "            dphi_dE=dphi_dE+numu_co[i]*cos_width+numu_p[i]*cos_width\n",
    "    else :\n",
    "            numu_p=np.array([])\n",
    "            numu_co=np.array([])\n",
    "            mceq_run.set_theta_deg(theta[0])\n",
    "            #Run the solver\n",
    "            mceq_run.solve()\n",
    "\n",
    "            numu_co= (mceq_run.get_solution('conv_numu', mag)\n",
    "                         + mceq_run.get_solution('conv_antinumu', mag))\n",
    "\n",
    "            numu_p= (mceq_run.get_solution('pr_numu', mag)\n",
    "                       + mceq_run.get_solution('pr_antinumu', mag))\n",
    "            dphi_dE=dphi_dE+numu_co+numu_p+dphi_astro(mceq_run.e_grid)\n",
    "            \n",
    "    return np.sum(dphi_dE[37:68]*mceq_run.e_widths[37:68]*A1_5(mceq_run.e_grid[37:68]))\n"
   ]
  },
  {
   "cell_type": "code",
   "execution_count": null,
   "metadata": {},
   "outputs": [],
   "source": [
    "def phi_A_5_5(theta):\n",
    "    \"\"\"\n",
    "    theta could be taken as 0 for now or later on could be taken as an array \n",
    "    \n",
    "    \n",
    "    returns :\n",
    "    an effective phi over the corresponding part of cos(theta)\n",
    "    \"\"\"\n",
    "    \n",
    "    dphi_dE=np.zeros(len(mceq_run.e_grid))\n",
    "    if len(theta)!=1:\n",
    "        numu_conv={}\n",
    "        numu_pr={}\n",
    "        for i in theta: #Set the zenith angle\n",
    "            mceq_run.set_theta_deg(i)\n",
    "            #Run the solver\n",
    "            mceq_run.solve()\n",
    "\n",
    "            numu_conv[i] = (mceq_run.get_solution('conv_numu', mag)\n",
    "                         + mceq_run.get_solution('conv_antinumu', mag))\n",
    "\n",
    "            numu_pr[i] = (mceq_run.get_solution('pr_numu', mag)\n",
    "                       + mceq_run.get_solution('pr_antinumu', mag))\n",
    "            dphi_dE=dphi_dE+numu_conv[i]*cos_width+numu_pr[i]*cos_width\n",
    "    else :\n",
    "            numu_pr=np.array([])\n",
    "            numu_conv=np.array([])\n",
    "            mceq_run.set_theta_deg(theta[0])\n",
    "            #Run the solver\n",
    "            mceq_run.solve()\n",
    "\n",
    "            numu_conv= (mceq_run.get_solution('conv_numu', mag)\n",
    "                         + mceq_run.get_solution('conv_antinumu', mag))\n",
    "\n",
    "            numu_pr= (mceq_run.get_solution('pr_numu', mag)\n",
    "                       + mceq_run.get_solution('pr_antinumu', mag))\n",
    "            dphi_dE=dphi_dE+numu_conv+numu_pr+dphi_astro(mceq_run.e_grid)\n",
    "            \n",
    "    return np.sum(dphi_dE[37:68]*mceq_run.e_widths[37:68]*A_5_5(mceq_run.e_grid[37:68]))\n"
   ]
  }
 ],
 "metadata": {
  "kernelspec": {
   "display_name": "Python 3",
   "language": "python",
   "name": "python3"
  },
  "language_info": {
   "codemirror_mode": {
    "name": "ipython",
    "version": 3
   },
   "file_extension": ".py",
   "mimetype": "text/x-python",
   "name": "python",
   "nbconvert_exporter": "python",
   "pygments_lexer": "ipython3",
   "version": "3.8.5"
  }
 },
 "nbformat": 4,
 "nbformat_minor": 4
}
