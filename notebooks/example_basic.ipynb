{
 "cells": [
  {
   "cell_type": "code",
   "execution_count": 1,
   "id": "4f886dd3",
   "metadata": {},
   "outputs": [],
   "source": [
    "# Name: example_basic\n",
    "# Authors: Stephan Meighen-Berger\n",
    "# A basic example how to use the package"
   ]
  },
  {
   "cell_type": "code",
   "execution_count": 2,
   "id": "f0aecdb0",
   "metadata": {},
   "outputs": [],
   "source": [
    "# imports\n",
    "import sys\n",
    "import numpy as np\n",
    "sys.path.append(\"../\")\n",
    "from pone_dm import PDM, config"
   ]
  },
  {
   "cell_type": "code",
   "execution_count": 3,
   "id": "bb8f33bf",
   "metadata": {},
   "outputs": [],
   "source": [
    "# picture path\n",
    "PICS = '../pics/'"
   ]
  },
  {
   "cell_type": "code",
   "execution_count": 4,
   "id": "1ba1fc8b",
   "metadata": {},
   "outputs": [],
   "source": [
    "# Some example settings\n",
    "config['atmospheric showers']['primary model'] = 'H4a'\n",
    "config['atmospheric showers']['theta angles'] = np.array([0.])"
   ]
  },
  {
   "cell_type": "code",
   "execution_count": 5,
   "id": "d6930cde",
   "metadata": {},
   "outputs": [],
   "source": [
    "pdm = PDM()"
   ]
  }
 ],
 "metadata": {
  "kernelspec": {
   "display_name": "Python 3",
   "language": "python",
   "name": "python3"
  },
  "language_info": {
   "codemirror_mode": {
    "name": "ipython",
    "version": 3
   },
   "file_extension": ".py",
   "mimetype": "text/x-python",
   "name": "python",
   "nbconvert_exporter": "python",
   "pygments_lexer": "ipython3",
   "version": "3.9.5"
  }
 },
 "nbformat": 4,
 "nbformat_minor": 5
}
