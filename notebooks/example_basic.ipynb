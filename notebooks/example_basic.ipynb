{
 "cells": [
  {
   "cell_type": "code",
   "execution_count": null,
   "id": "4f886dd3",
   "metadata": {},
   "outputs": [],
   "source": [
    "# Name: example_basic\n",
    "# Authors: Stephan Meighen-Berger\n",
    "# A basic example how to use the package"
   ]
  },
  {
   "cell_type": "code",
   "execution_count": 1,
   "id": "f0aecdb0",
   "metadata": {},
   "outputs": [],
   "source": [
    "# imports\n",
    "import sys\n",
    "import numpy as np\n",
    "import matplotlib.pyplot as plt\n",
    "from scipy.stats import chi2\n",
    "import pickle\n",
    "sys.path.append(\"../\")\n",
    "from pone_dm import PDM, config, dm2nu, atm_shower \n",
    "from jupyterthemes import jtplot\n",
    "jtplot.style(theme=\"grade3\", context=\"notebook\", ticks=True, grid=False)\n",
    "from scipy.interpolate import UnivariateSpline"
   ]
  },
  {
   "cell_type": "code",
   "execution_count": 2,
   "id": "bb8f33bf",
   "metadata": {},
   "outputs": [],
   "source": [
    "# picture path\n",
    "PICS = '../pics/'\n",
    "name=[r'$\\nu_{\\mu}$',r'$\\nu_{e}$',r'$\\nu_{\\tau}$']"
   ]
  },
  {
   "cell_type": "code",
   "execution_count": 3,
   "id": "1ba1fc8b",
   "metadata": {},
   "outputs": [],
   "source": [
    "# Some example settings\n",
    "config['atmospheric showers']['interaction model'] = 'SIBYLL2.3c'\n",
    "config['atmospheric showers']['theta angles'] = np.linspace(0., 90., 91)\n",
    "#config['atmospheric showers']['particles of interest']=['nue']"
   ]
  },
  {
   "cell_type": "code",
   "execution_count": 4,
   "id": "22ede0a9",
   "metadata": {},
   "outputs": [],
   "source": [
    "p=atm_shower.Atm_Shower()"
   ]
  },
  {
   "cell_type": "code",
   "execution_count": null,
   "id": "d6930cde",
   "metadata": {},
   "outputs": [],
   "source": [
    "pdm = PDM()"
   ]
  },
  {
   "cell_type": "code",
   "execution_count": null,
   "id": "3ee02570",
   "metadata": {},
   "outputs": [],
   "source": [
    "# Grids\n",
    "mass_grid = np.logspace(3, 6, 31)\n",
    "sv_grid = np.logspace(-26, -22, 50)\n",
    "# The limit calculation\n",
    "pdm.limit_calc(mass_grid=mass_grid, sv_grid=sv_grid[::-1])"
   ]
  },
  {
   "cell_type": "code",
   "execution_count": 5,
   "id": "0b663fac",
   "metadata": {},
   "outputs": [],
   "source": [
    "\n",
    "dphi_6=np.loadtxt(open(\"../data/m_1e6.csv\"), delimiter = \",\")\n",
    "dphi_6 = dphi_6[dphi_6[:,0].argsort()]\n"
   ]
  },
  {
   "cell_type": "code",
   "execution_count": 6,
   "id": "a1e2e400",
   "metadata": {},
   "outputs": [
    {
     "ename": "ValueError",
     "evalue": "x must be strictly increasing if s = 0",
     "output_type": "error",
     "traceback": [
      "\u001b[0;31m---------------------------------------------------------------------------\u001b[0m",
      "\u001b[0;31mValueError\u001b[0m                                Traceback (most recent call last)",
      "\u001b[0;32m<ipython-input-6-d4536c46101f>\u001b[0m in \u001b[0;36m<module>\u001b[0;34m\u001b[0m\n\u001b[0;32m----> 1\u001b[0;31m \u001b[0mdphi\u001b[0m\u001b[0;34m=\u001b[0m\u001b[0mUnivariateSpline\u001b[0m\u001b[0;34m(\u001b[0m\u001b[0mdphi_6\u001b[0m\u001b[0;34m[\u001b[0m\u001b[0;34m:\u001b[0m\u001b[0;34m,\u001b[0m\u001b[0;36m0\u001b[0m\u001b[0;34m]\u001b[0m\u001b[0;34m,\u001b[0m\u001b[0mdphi_6\u001b[0m\u001b[0;34m[\u001b[0m\u001b[0;34m:\u001b[0m\u001b[0;34m,\u001b[0m\u001b[0;36m1\u001b[0m\u001b[0;34m]\u001b[0m\u001b[0;34m,\u001b[0m\u001b[0mk\u001b[0m\u001b[0;34m=\u001b[0m\u001b[0;36m1\u001b[0m\u001b[0;34m,\u001b[0m\u001b[0ms\u001b[0m\u001b[0;34m=\u001b[0m\u001b[0;36m0\u001b[0m\u001b[0;34m)\u001b[0m\u001b[0;34m\u001b[0m\u001b[0;34m\u001b[0m\u001b[0m\n\u001b[0m",
      "\u001b[0;32m~/miniconda3/envs/pdm/lib/python3.9/site-packages/scipy/interpolate/fitpack2.py\u001b[0m in \u001b[0;36m__init__\u001b[0;34m(self, x, y, w, bbox, k, s, ext, check_finite)\u001b[0m\n\u001b[1;32m    196\u001b[0m                  ext=0, check_finite=False):\n\u001b[1;32m    197\u001b[0m \u001b[0;34m\u001b[0m\u001b[0m\n\u001b[0;32m--> 198\u001b[0;31m         x, y, w, bbox, self.ext = self.validate_input(x, y, w, bbox, k, s, ext,\n\u001b[0m\u001b[1;32m    199\u001b[0m                                                       check_finite)\n\u001b[1;32m    200\u001b[0m \u001b[0;34m\u001b[0m\u001b[0m\n",
      "\u001b[0;32m~/miniconda3/envs/pdm/lib/python3.9/site-packages/scipy/interpolate/fitpack2.py\u001b[0m in \u001b[0;36mvalidate_input\u001b[0;34m(x, y, w, bbox, k, s, ext, check_finite)\u001b[0m\n\u001b[1;32m    224\u001b[0m         \u001b[0;32melse\u001b[0m\u001b[0;34m:\u001b[0m\u001b[0;34m\u001b[0m\u001b[0;34m\u001b[0m\u001b[0m\n\u001b[1;32m    225\u001b[0m             \u001b[0;32mif\u001b[0m \u001b[0;32mnot\u001b[0m \u001b[0mnp\u001b[0m\u001b[0;34m.\u001b[0m\u001b[0mall\u001b[0m\u001b[0;34m(\u001b[0m\u001b[0mdiff\u001b[0m\u001b[0;34m(\u001b[0m\u001b[0mx\u001b[0m\u001b[0;34m)\u001b[0m \u001b[0;34m>\u001b[0m \u001b[0;36m0.0\u001b[0m\u001b[0;34m)\u001b[0m\u001b[0;34m:\u001b[0m\u001b[0;34m\u001b[0m\u001b[0;34m\u001b[0m\u001b[0m\n\u001b[0;32m--> 226\u001b[0;31m                 \u001b[0;32mraise\u001b[0m \u001b[0mValueError\u001b[0m\u001b[0;34m(\u001b[0m\u001b[0;34m\"x must be strictly increasing if s = 0\"\u001b[0m\u001b[0;34m)\u001b[0m\u001b[0;34m\u001b[0m\u001b[0;34m\u001b[0m\u001b[0m\n\u001b[0m\u001b[1;32m    227\u001b[0m         \u001b[0;32mif\u001b[0m \u001b[0mx\u001b[0m\u001b[0;34m.\u001b[0m\u001b[0msize\u001b[0m \u001b[0;34m!=\u001b[0m \u001b[0my\u001b[0m\u001b[0;34m.\u001b[0m\u001b[0msize\u001b[0m\u001b[0;34m:\u001b[0m\u001b[0;34m\u001b[0m\u001b[0;34m\u001b[0m\u001b[0m\n\u001b[1;32m    228\u001b[0m             \u001b[0;32mraise\u001b[0m \u001b[0mValueError\u001b[0m\u001b[0;34m(\u001b[0m\u001b[0;34m\"x and y should have a same length\"\u001b[0m\u001b[0;34m)\u001b[0m\u001b[0;34m\u001b[0m\u001b[0;34m\u001b[0m\u001b[0m\n",
      "\u001b[0;31mValueError\u001b[0m: x must be strictly increasing if s = 0"
     ]
    }
   ],
   "source": [
    "dphi=UnivariateSpline(dphi_6[:,0],dphi_6[:,1],k=1,s=0)"
   ]
  },
  {
   "cell_type": "code",
   "execution_count": null,
   "id": "666cd07f",
   "metadata": {},
   "outputs": [],
   "source": [
    "mass_id = -18\n",
    "sv_id = -25\n",
    "#plt.step(pdm._shower_sim.egrid,\n",
    "         #pdm._limit_calc._signal_counts[mass_grid[mass_id]][sv_grid[sv_id]],\n",
    "         #label=r'$m_{x}$ = %.1e GeV, <$\\sigma\\nu$> = %.1e' %(mass_grid[mass_id], sv_grid[sv_id]))\n",
    "plt.step(dphi_6[:,0],(dphi_6[:,0]**2)*dphi_6[:,1] / pdm._limit_calc._signal_counts[mass_grid[mass_id]][sv_grid[sv_id]]\n",
    "         ,label='m = 1e4 GeV Lit')\n",
    "plt.xscale('log')\n",
    "plt.yscale('log')\n",
    "plt.legend()\n",
    "plt.xlim(1e2,3.3e4)\n"
   ]
  },
  {
   "cell_type": "code",
   "execution_count": null,
   "id": "01c36432",
   "metadata": {},
   "outputs": [],
   "source": []
  },
  {
   "cell_type": "code",
   "execution_count": null,
   "id": "96c7da35",
   "metadata": {},
   "outputs": [],
   "source": [
    "# Plotting standards\n",
    "std_size = 15.  # Size of the plot\n",
    "fontsize = 25.  # Fontsize in the plot\n",
    "lw=0.5  # Linewidth\n",
    "h_length=0.5  # Handle length for the legends\n",
    "export_dpi = 500  # Dpi for the image export"
   ]
  },
  {
   "cell_type": "code",
   "execution_count": null,
   "id": "e219829f",
   "metadata": {},
   "outputs": [],
   "source": [
    "th_cl = np.loadtxt(open(\"../data/thermal_relic.csv\"), delimiter = \",\")"
   ]
  },
  {
   "cell_type": "code",
   "execution_count": null,
   "id": "bd8dab1d",
   "metadata": {
    "scrolled": true
   },
   "outputs": [],
   "source": [
    "# plotting the Counts----\n",
    "for j,i in enumerate(config['atmospheric showers']['particles of interest']):\n",
    "    # Particle counts\n",
    "    # ---------------------------------------------\n",
    "    # Setup\n",
    "    figure, ax1 = plt.subplots(1, 1, figsize=(10,7), sharey=True)\n",
    "    # ---------------------------------------------\n",
    "    # Plotting\n",
    "    ax1.step(dphi_6[:,0],(dphi_6[:,0]**2)*dphi_6[:,1],label='m = 1e4 GeV Lit')\n",
    "    ax1.step(pdm._shower_sim.egrid,\n",
    "             pdm._limit_calc._bkgrd[i],\n",
    "             label='Background')\n",
    "    mass_id = -20\n",
    "    sv_id = -25\n",
    "    ax1.step(pdm._shower_sim.egrid,\n",
    "             pdm._limit_calc._signal_counts[mass_grid[mass_id]][sv_grid[sv_id]],\n",
    "             label=r'$m_{x}$ = %.1e GeV, <$\\sigma\\nu$> = %.1e' %(mass_grid[mass_id], sv_grid[sv_id]))\n",
    "    # The correspondin CL value\n",
    "    x = (\n",
    "        (pdm._limit_calc._signal_counts[mass_grid[mass_id]][sv_grid[sv_id]]**2.)[pdm._limit_calc._t_d:] /\n",
    "        pdm._limit_calc._bkgrd[i][pdm._limit_calc._t_d:]\n",
    "    )\n",
    "   \n",
    "    mass_id = 5\n",
    "    sv_id = -10\n",
    "    ax1.step(pdm._shower_sim.egrid,\n",
    "             pdm._limit_calc._signal_counts[mass_grid[mass_id]][sv_grid[sv_id]],\n",
    "             label=r'$m_{x}$ = %.1e GeV, <$\\sigma\\nu$> = %.1e' %(mass_grid[mass_id], sv_grid[sv_id]))\n",
    "    # Corresponding CL value\n",
    "    x = (\n",
    "        (pdm._limit_calc._signal_counts[mass_grid[mass_id]][sv_grid[sv_id]]**2.)[pdm._limit_calc._t_d:] /\n",
    "        pdm._limit_calc._bkgrd[i][pdm._limit_calc._t_d:]\n",
    "    )\n",
    "   \n",
    "    # ---------------------------------------------\n",
    "    # Axis options\n",
    "    ax1.set_xscale(\"log\")\n",
    "    ax1.set_yscale(\"log\")\n",
    "    ax1.set_xlabel(r\"E [GeV]\", fontsize=fontsize)\n",
    "    ax1.set_ylabel(\"Counts;  \" + name[j], fontsize=fontsize)\n",
    "    ax1.tick_params(axis = 'both', which = 'major', labelsize=fontsize, direction='in')\n",
    "    ax1.tick_params(axis = 'both', which = 'minor', labelsize=fontsize, direction='in')\n",
    "    \n",
    "    if j==0:\n",
    "        ax1.set_ylim(1e0, 1e10)\n",
    "        ax1.set_xlim(1e2, 1e7)\n",
    "    elif j==1:\n",
    "        ax1.set_ylim(1e0, 1e5)\n",
    "        ax1.set_xlim(1e2, 1e7)\n",
    "    elif j==2:\n",
    "        ax1.set_ylim(1e0, 1e4)\n",
    "        ax1.set_xlim(1e2, 1e7)\n",
    "    \n",
    "    # ---------------------------------------------\n",
    "    # Legend\n",
    "    h, l = ax1.get_legend_handles_labels()\n",
    "    \n",
    "    lgd1 = ax1.legend([h[0]], [l[0]], loc=9, bbox_to_anchor=(0.5, +1.1),\n",
    "                      ncol=2, fontsize=fontsize-2, handlelength=h_length,\n",
    "                      fancybox=True, frameon=False)\n",
    "    lgd2 = ax1.legend(h[1:], l[1:], loc=9, bbox_to_anchor=(0.65, +1.0),\n",
    "                      ncol=1, fontsize=fontsize-2, handlelength=h_length,\n",
    "                      fancybox=True, frameon=False)\n",
    "    ax1.add_artist(lgd1)\n",
    "    # ---------------------------------------------\n",
    "    # Showing the image\n",
    "    plt.show()\n",
    "    # ---------------------------------------------\n",
    "    # Storing the image\n",
    "    figure.savefig(PICS + \"Flux_Example_\"+i+\".png\",\n",
    "                   bbox_inches='tight', dpi=export_dpi)"
   ]
  },
  {
   "cell_type": "code",
   "execution_count": null,
   "id": "e9dcdb6f",
   "metadata": {},
   "outputs": [],
   "source": [
    "test_chi2 = {}\n",
    "for i in config[\"pone\"][\"specific particle scaling\"].keys():\n",
    "    test_chi2[i] = np.array([[\n",
    "        (pdm._limit_calc._signal_counts[mass_grid[mass_id]][sv_grid[sv_id]]**2.)[pdm._limit_calc._t_d:] /\n",
    "        pdm._limit_calc._bkgrd[i][pdm._limit_calc._t_d:] for mass_id in range(0, len(mass_grid))\n",
    "    ] for sv_id in range(0, len(sv_grid))])"
   ]
  },
  {
   "cell_type": "code",
   "execution_count": null,
   "id": "e39b23fc",
   "metadata": {},
   "outputs": [],
   "source": [
    "CL_test = {}\n",
    "for i in config[\"pone\"][\"specific particle scaling\"].keys():\n",
    "    CL_test[i] = np.array([[\n",
    "        1. - chi2.sf(np.sum(np.nan_to_num(SoB)), 2) for SoB in line\n",
    "    ] for line in test_chi2[i]])"
   ]
  },
  {
   "cell_type": "code",
   "execution_count": null,
   "id": "7c9dd239",
   "metadata": {},
   "outputs": [],
   "source": [
    "# Loading comparison data\n",
    "cl_lit = np.loadtxt('../data/CL_PONE.csv', delimiter=\",\")\n",
    "cl_lit = (cl_lit[cl_lit[:, 0].argsort()])"
   ]
  },
  {
   "cell_type": "code",
   "execution_count": null,
   "id": "9cd23e7e",
   "metadata": {},
   "outputs": [],
   "source": [
    "for j,i in enumerate(config[\"pone\"][\"specific particle scaling\"].keys()):\n",
    "    # Limits\n",
    "    # ---------------------------------------------\n",
    "    # Setup\n",
    "\n",
    "    figure, (ax1) = plt.subplots(1, 1, figsize=(std_size, std_size * 6. / 8.), sharex=True)\n",
    "    # ---------------------------------------------\n",
    "    # Plotting\n",
    "    plt.title(name[j],fontsize=fontsize)\n",
    "    ax1.contour(1 - pdm.results[i], levels = [0.9], colors='purple',\n",
    "                origin='upper', extent=(min(np.log10(mass_grid)), max(np.log10(mass_grid)),\n",
    "                                        min(np.log10(sv_grid)), max(np.log10(sv_grid))))\n",
    "    pos = ax1.imshow(1 - pdm.results[i], extent=(min(np.log10(mass_grid)), max(np.log10(mass_grid)),\n",
    "                                              min(np.log10(sv_grid)), max(np.log10(sv_grid))),\n",
    "                     origin='upper', aspect='auto',cmap=plt.cm.afmhot)\n",
    "    figure.colorbar(pos, ax=ax1)\n",
    "    ax1.plot(np.log10(cl_lit[:, 0]), np.log10(cl_lit[:, 1]), 'g', label='literature 90% C.L')\n",
    "    # ---------------------------------------------\n",
    "    # Axis options\n",
    "    ax1.set_xscale(\"linear\")\n",
    "    ax1.set_yscale(\"linear\")\n",
    "    ax1.set_xlabel(r\"$\\log m_{\\chi}$\", fontsize=fontsize)\n",
    "    ax1.set_ylabel(r\"$\\log<\\sigma \\nu$>\", fontsize=fontsize)\n",
    "    ax1.tick_params(axis = 'both', which = 'major', labelsize=fontsize, direction='in')\n",
    "    ax1.tick_params(axis = 'both', which = 'minor', labelsize=fontsize, direction='in')\n",
    "    ax1.set_xlim(min(np.log10(mass_grid)), max(np.log10(mass_grid)))\n",
    "    ax1.set_ylim(min(np.log10(sv_grid)), max(np.log10(sv_grid)))\n",
    "    # ---------------------------------------------\n",
    "    # Legend\n",
    "    # plt.legend(fontsize=fontsize)\n",
    "    h, l = ax1.get_legend_handles_labels()\n",
    "    lgd1 = ax1.legend(h, l, loc=9, bbox_to_anchor=(0.5, +0.8),\n",
    "                     ncol=2, fontsize=fontsize, handlelength=h_length,\n",
    "                     fancybox=True, frameon=False)\n",
    "    ax1.add_artist(lgd1)\n",
    "    # ---------------------------------------------\n",
    "    # Showing the image\n",
    "    plt.show()\n",
    "    # ---------------------------------------------\n",
    "    # Storing the image\n",
    "    figure.savefig(PICS + \"Limits_Example_\"+i+\".png\",\n",
    "                   bbox_inches='tight', dpi=export_dpi)"
   ]
  },
  {
   "cell_type": "code",
   "execution_count": null,
   "id": "699d55d0",
   "metadata": {},
   "outputs": [],
   "source": [
    "# All Limits-------------------------------------------\n",
    "# Setup\n",
    "figure, (ax1) = plt.subplots(1, 1, figsize=(std_size, std_size * 6. / 8.), sharex=True)\n",
    "# ---------------------------------------------\n",
    "# Plotting\n",
    "ax1.contour(1 - pdm.results[\"numu\"], levels = [0.9], colors='purple', linestyles='-',\n",
    "            origin='upper', extent=(min(np.log10(mass_grid)), max(np.log10(mass_grid)),\n",
    "                                    min(np.log10(sv_grid)), max(np.log10(sv_grid))))\n",
    "ax1.contour(1 - pdm.results[\"nue\"], levels = [0.9], colors='purple', linestyles='--',\n",
    "            origin='upper', extent=(min(np.log10(mass_grid)), max(np.log10(mass_grid)),\n",
    "                                    min(np.log10(sv_grid)), max(np.log10(sv_grid))))\n",
    "ax1.contour(1 - pdm.results[\"nutau\"], levels = [0.9], colors='purple', linestyles='-.',\n",
    "            origin='upper', extent=(min(np.log10(mass_grid)), max(np.log10(mass_grid)),\n",
    "                                    min(np.log10(sv_grid)), max(np.log10(sv_grid))))\n",
    "ax1.plot(np.log10(cl_lit[:, 0]), np.log10(cl_lit[:, 1]), 'g', label='literature 90% C.L')\n",
    "ax1.plot(np.log10(th_cl[:, 0]), np.log10(th_cl[:, 1]), 'b', \n",
    "         label='literature Thermal Relic Abundance')\n",
    "# ---------------------------------------------\n",
    "# Axis options\n",
    "ax1.set_xscale(\"linear\")\n",
    "ax1.set_yscale(\"linear\")\n",
    "ax1.set_xlabel(r\"log $m_{\\chi}$\", fontsize=fontsize)\n",
    "ax1.set_ylabel(r\"log <$\\sigma\\nu$>\", fontsize=fontsize)\n",
    "ax1.tick_params(axis = 'both', which = 'major', labelsize=fontsize-5, direction='in')\n",
    "ax1.tick_params(axis = 'both', which = 'minor', labelsize=fontsize-5, direction='in')\n",
    "ax1.set_xlim(min(np.log10(mass_grid)), max(np.log10(mass_grid)))\n",
    "ax1.set_ylim(min(np.log10(sv_grid)),-23.0)\n",
    "# ---------------------------------------------\n",
    "# Legend\n",
    "# plt.legend(fontsize=fontsize)\n",
    "h, l = ax1.get_legend_handles_labels()\n",
    "lgd1 = ax1.legend(h, l, loc=9, bbox_to_anchor=(0.4, +1.),\n",
    "                 ncol=1, fontsize=fontsize-3, handlelength=h_length,\n",
    "                 fancybox=True, frameon=False)\n",
    "ax1.add_artist(lgd1)\n",
    "# ---------------------------------------------\n",
    "ax1.text(3.2, -24.3, r\"$\\nu_\\mu$\", fontsize=fontsize)\n",
    "ax1.text(3.2, -24.9, r\"$\\nu_e$\", fontsize=fontsize)\n",
    "ax1.text(3.1, -25.3, r\"$\\nu_\\tau$\", fontsize=fontsize)\n",
    "ax1.text(4.2, -25.5, \"Thermal Relic Abundance\", fontsize=fontsize)\n",
    "plt.grid()\n",
    "# ---------------------------------------------\n",
    "# Showing the image\n",
    "plt.show()\n",
    "# ---------------------------------------------\n",
    "# Storing the image\n",
    "figure.savefig(PICS + \"All_Limits.png\",\n",
    "               bbox_inches='tight', dpi=export_dpi)"
   ]
  },
  {
   "cell_type": "code",
   "execution_count": null,
   "id": "5733f229",
   "metadata": {},
   "outputs": [],
   "source": []
  }
 ],
 "metadata": {
  "kernelspec": {
   "display_name": "Python 3",
   "language": "python",
   "name": "python3"
  },
  "language_info": {
   "codemirror_mode": {
    "name": "ipython",
    "version": 3
   },
   "file_extension": ".py",
   "mimetype": "text/x-python",
   "name": "python",
   "nbconvert_exporter": "python",
   "pygments_lexer": "ipython3",
   "version": "3.9.5"
  }
 },
 "nbformat": 4,
 "nbformat_minor": 5
}
