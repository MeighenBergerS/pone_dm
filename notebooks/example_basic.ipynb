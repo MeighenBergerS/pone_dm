{
 "cells": [
  {
   "cell_type": "code",
   "execution_count": null,
   "id": "4f886dd3",
   "metadata": {},
   "outputs": [],
   "source": [
    "# Name: example_basic\n",
    "# Authors: Stephan Meighen-Berger\n",
    "# A basic example how to use the package"
   ]
  },
  {
   "cell_type": "code",
   "execution_count": 1,
   "id": "f0aecdb0",
   "metadata": {},
   "outputs": [],
   "source": [
    "# imports\n",
    "import sys\n",
    "import numpy as np\n",
    "import matplotlib.pyplot as plt\n",
    "from scipy.stats import chi2\n",
    "import pickle\n",
    "sys.path.append(\"../\")\n",
    "from pone_dm import PDM, config, dm2nu, atm_shower \n",
    "from jupyterthemes import jtplot\n",
    "jtplot.style(theme=\"grade3\", context=\"notebook\", ticks=True, grid=False)"
   ]
  },
  {
   "cell_type": "code",
   "execution_count": 2,
   "id": "bb8f33bf",
   "metadata": {},
   "outputs": [],
   "source": [
    "# picture path\n",
    "PICS = '../pics/'"
   ]
  },
  {
   "cell_type": "code",
   "execution_count": 3,
   "id": "1ba1fc8b",
   "metadata": {},
   "outputs": [],
   "source": [
    "# Some example settings\n",
    "config['atmospheric showers']['interaction model'] = 'SIBYLL2.3c'\n",
    "config['atmospheric showers']['theta angles'] = np.linspace(0., 90., 91)\n",
    "#config['atmospheric showers']['particles of interest']=['nue']"
   ]
  },
  {
   "cell_type": "code",
   "execution_count": 4,
   "id": "22ede0a9",
   "metadata": {},
   "outputs": [
    {
     "name": "stdout",
     "output_type": "stream",
     "text": [
      "ayay\n"
     ]
    }
   ],
   "source": [
    "p=atm_shower.Atm_Shower()"
   ]
  },
  {
   "cell_type": "code",
   "execution_count": 5,
   "id": "fa2ea95b",
   "metadata": {},
   "outputs": [
    {
     "ename": "AttributeError",
     "evalue": "'Atm_Shower' object has no attribute '_mceq_instance'",
     "output_type": "error",
     "traceback": [
      "\u001b[0;31m---------------------------------------------------------------------------\u001b[0m",
      "\u001b[0;31mAttributeError\u001b[0m                            Traceback (most recent call last)",
      "\u001b[0;32m<ipython-input-5-e916a4dc5498>\u001b[0m in \u001b[0;36m<module>\u001b[0;34m\u001b[0m\n\u001b[0;32m----> 1\u001b[0;31m \u001b[0mp\u001b[0m\u001b[0;34m.\u001b[0m\u001b[0m_run_mceq\u001b[0m\u001b[0;34m(\u001b[0m\u001b[0;34m)\u001b[0m\u001b[0;34m\u001b[0m\u001b[0;34m\u001b[0m\u001b[0m\n\u001b[0m",
      "\u001b[0;32m~/Desktop/DM_nu_simulation_P-One/PONE_git/pone_dm-main/notebooks/../pone_dm/atm_shower.py\u001b[0m in \u001b[0;36m_run_mceq\u001b[0;34m(self)\u001b[0m\n\u001b[1;32m    136\u001b[0m             \u001b[0;31m# Setting the angles\u001b[0m\u001b[0;34m\u001b[0m\u001b[0;34m\u001b[0m\u001b[0;34m\u001b[0m\u001b[0m\n\u001b[1;32m    137\u001b[0m             \u001b[0m_log\u001b[0m\u001b[0;34m.\u001b[0m\u001b[0mdebug\u001b[0m\u001b[0;34m(\u001b[0m\u001b[0;34m'Setting the angle'\u001b[0m\u001b[0;34m)\u001b[0m\u001b[0;34m\u001b[0m\u001b[0;34m\u001b[0m\u001b[0m\n\u001b[0;32m--> 138\u001b[0;31m             \u001b[0mself\u001b[0m\u001b[0;34m.\u001b[0m\u001b[0m_mceq_instance\u001b[0m\u001b[0;34m.\u001b[0m\u001b[0mset_theta_deg\u001b[0m\u001b[0;34m(\u001b[0m\u001b[0mangle\u001b[0m\u001b[0;34m)\u001b[0m\u001b[0;34m\u001b[0m\u001b[0;34m\u001b[0m\u001b[0m\n\u001b[0m\u001b[1;32m    139\u001b[0m             \u001b[0m_log\u001b[0m\u001b[0;34m.\u001b[0m\u001b[0mdebug\u001b[0m\u001b[0;34m(\u001b[0m\u001b[0;34m'Running the simulation'\u001b[0m\u001b[0;34m)\u001b[0m\u001b[0;34m\u001b[0m\u001b[0;34m\u001b[0m\u001b[0m\n\u001b[1;32m    140\u001b[0m             \u001b[0mself\u001b[0m\u001b[0;34m.\u001b[0m\u001b[0m_mceq_instance\u001b[0m\u001b[0;34m.\u001b[0m\u001b[0msolve\u001b[0m\u001b[0;34m(\u001b[0m\u001b[0;34m)\u001b[0m\u001b[0;34m\u001b[0m\u001b[0;34m\u001b[0m\u001b[0m\n",
      "\u001b[0;31mAttributeError\u001b[0m: 'Atm_Shower' object has no attribute '_mceq_instance'"
     ]
    }
   ],
   "source": [
    "p._run_mceq()"
   ]
  },
  {
   "cell_type": "code",
   "execution_count": null,
   "id": "38046d60",
   "metadata": {},
   "outputs": [],
   "source": []
  },
  {
   "cell_type": "code",
   "execution_count": 5,
   "id": "d6930cde",
   "metadata": {},
   "outputs": [],
   "source": [
    "pdm = PDM()"
   ]
  },
  {
   "cell_type": "code",
   "execution_count": 6,
   "id": "3ee02570",
   "metadata": {},
   "outputs": [
    {
     "name": "stderr",
     "output_type": "stream",
     "text": [
      "  0%|          | 0/200 [00:00<?, ?it/s]/home/kruteesh/Desktop/DM_nu_simulation_P-One/PONE_git/pone_dm-main/notebooks/../pone_dm/dm2nu.py:336: RuntimeWarning: overflow encountered in exp\n",
      "  dd = np.exp(d_2 / s_in(x)**2)\n",
      "/home/kruteesh/Desktop/DM_nu_simulation_P-One/PONE_git/pone_dm-main/notebooks/../pone_dm/dm2nu.py:337: RuntimeWarning: overflow encountered in multiply\n",
      "  return A * aa * dd\n"
     ]
    },
    {
     "ename": "KeyError",
     "evalue": "'numu'",
     "output_type": "error",
     "traceback": [
      "\u001b[0;31m---------------------------------------------------------------------------\u001b[0m",
      "\u001b[0;31mKeyError\u001b[0m                                  Traceback (most recent call last)",
      "\u001b[0;32m<ipython-input-6-f1fd62f74475>\u001b[0m in \u001b[0;36m<module>\u001b[0;34m\u001b[0m\n\u001b[1;32m      3\u001b[0m \u001b[0msv_grid\u001b[0m \u001b[0;34m=\u001b[0m \u001b[0mnp\u001b[0m\u001b[0;34m.\u001b[0m\u001b[0mlogspace\u001b[0m\u001b[0;34m(\u001b[0m\u001b[0;34m-\u001b[0m\u001b[0;36m26\u001b[0m\u001b[0;34m,\u001b[0m \u001b[0;34m-\u001b[0m\u001b[0;36m22\u001b[0m\u001b[0;34m,\u001b[0m \u001b[0;36m200\u001b[0m\u001b[0;34m)\u001b[0m\u001b[0;34m\u001b[0m\u001b[0;34m\u001b[0m\u001b[0m\n\u001b[1;32m      4\u001b[0m \u001b[0;31m# The limit calculation\u001b[0m\u001b[0;34m\u001b[0m\u001b[0;34m\u001b[0m\u001b[0;34m\u001b[0m\u001b[0m\n\u001b[0;32m----> 5\u001b[0;31m \u001b[0mpdm\u001b[0m\u001b[0;34m.\u001b[0m\u001b[0mlimit_calc\u001b[0m\u001b[0;34m(\u001b[0m\u001b[0mmass_grid\u001b[0m\u001b[0;34m=\u001b[0m\u001b[0mmass_grid\u001b[0m\u001b[0;34m,\u001b[0m \u001b[0msv_grid\u001b[0m\u001b[0;34m=\u001b[0m\u001b[0msv_grid\u001b[0m\u001b[0;34m[\u001b[0m\u001b[0;34m:\u001b[0m\u001b[0;34m:\u001b[0m\u001b[0;34m-\u001b[0m\u001b[0;36m1\u001b[0m\u001b[0;34m]\u001b[0m\u001b[0;34m)\u001b[0m\u001b[0;34m\u001b[0m\u001b[0;34m\u001b[0m\u001b[0m\n\u001b[0m",
      "\u001b[0;32m~/Desktop/DM_nu_simulation_P-One/PONE_git/pone_dm-main/notebooks/../pone_dm/pdm.py\u001b[0m in \u001b[0;36mlimit_calc\u001b[0;34m(self, mass_grid, sv_grid)\u001b[0m\n\u001b[1;32m    135\u001b[0m         \u001b[0;32mNone\u001b[0m\u001b[0;34m\u001b[0m\u001b[0;34m\u001b[0m\u001b[0m\n\u001b[1;32m    136\u001b[0m         \"\"\"\n\u001b[0;32m--> 137\u001b[0;31m         self._results = self._limit_calc.limit_calc(\n\u001b[0m\u001b[1;32m    138\u001b[0m             \u001b[0mmass_grid\u001b[0m\u001b[0;34m=\u001b[0m\u001b[0mmass_grid\u001b[0m\u001b[0;34m,\u001b[0m \u001b[0msv_grid\u001b[0m\u001b[0;34m=\u001b[0m\u001b[0msv_grid\u001b[0m\u001b[0;34m\u001b[0m\u001b[0;34m\u001b[0m\u001b[0m\n\u001b[1;32m    139\u001b[0m         )\n",
      "\u001b[0;32m~/Desktop/DM_nu_simulation_P-One/PONE_git/pone_dm-main/notebooks/../pone_dm/limit_calc.py\u001b[0m in \u001b[0;36mlimit_calc\u001b[0;34m(self, mass_grid, sv_grid)\u001b[0m\n\u001b[1;32m    136\u001b[0m             \u001b[0;31m# The low energy cut off\u001b[0m\u001b[0;34m\u001b[0m\u001b[0;34m\u001b[0m\u001b[0;34m\u001b[0m\u001b[0m\n\u001b[1;32m    137\u001b[0m             \u001b[0mself\u001b[0m\u001b[0;34m.\u001b[0m\u001b[0m_t_d\u001b[0m \u001b[0;34m=\u001b[0m \u001b[0mself\u001b[0m\u001b[0;34m.\u001b[0m\u001b[0m_find_nearest\u001b[0m\u001b[0;34m(\u001b[0m\u001b[0mself\u001b[0m\u001b[0;34m.\u001b[0m\u001b[0m_egrid\u001b[0m\u001b[0;34m,\u001b[0m \u001b[0;36m5e2\u001b[0m\u001b[0;34m)\u001b[0m\u001b[0;34m\u001b[0m\u001b[0;34m\u001b[0m\u001b[0m\n\u001b[0;32m--> 138\u001b[0;31m             self._limit_scan_grid_base = np.array([[\n\u001b[0m\u001b[1;32m    139\u001b[0m                 (self._signal_calc(self._egrid, mass,\n\u001b[1;32m    140\u001b[0m                     \u001b[0msv\u001b[0m\u001b[0;34m,\u001b[0m \u001b[0mconfig\u001b[0m\u001b[0;34m[\u001b[0m\u001b[0;34m'atmospheric showers'\u001b[0m\u001b[0;34m]\u001b[0m\u001b[0;34m[\u001b[0m\u001b[0;34m'theta angles'\u001b[0m\u001b[0;34m]\u001b[0m\u001b[0;34m\u001b[0m\u001b[0;34m\u001b[0m\u001b[0m\n",
      "\u001b[0;32m~/Desktop/DM_nu_simulation_P-One/PONE_git/pone_dm-main/notebooks/../pone_dm/limit_calc.py\u001b[0m in \u001b[0;36m<listcomp>\u001b[0;34m(.0)\u001b[0m\n\u001b[1;32m    136\u001b[0m             \u001b[0;31m# The low energy cut off\u001b[0m\u001b[0;34m\u001b[0m\u001b[0;34m\u001b[0m\u001b[0;34m\u001b[0m\u001b[0m\n\u001b[1;32m    137\u001b[0m             \u001b[0mself\u001b[0m\u001b[0;34m.\u001b[0m\u001b[0m_t_d\u001b[0m \u001b[0;34m=\u001b[0m \u001b[0mself\u001b[0m\u001b[0;34m.\u001b[0m\u001b[0m_find_nearest\u001b[0m\u001b[0;34m(\u001b[0m\u001b[0mself\u001b[0m\u001b[0;34m.\u001b[0m\u001b[0m_egrid\u001b[0m\u001b[0;34m,\u001b[0m \u001b[0;36m5e2\u001b[0m\u001b[0;34m)\u001b[0m\u001b[0;34m\u001b[0m\u001b[0;34m\u001b[0m\u001b[0m\n\u001b[0;32m--> 138\u001b[0;31m             self._limit_scan_grid_base = np.array([[\n\u001b[0m\u001b[1;32m    139\u001b[0m                 (self._signal_calc(self._egrid, mass,\n\u001b[1;32m    140\u001b[0m                     \u001b[0msv\u001b[0m\u001b[0;34m,\u001b[0m \u001b[0mconfig\u001b[0m\u001b[0;34m[\u001b[0m\u001b[0;34m'atmospheric showers'\u001b[0m\u001b[0;34m]\u001b[0m\u001b[0;34m[\u001b[0m\u001b[0;34m'theta angles'\u001b[0m\u001b[0;34m]\u001b[0m\u001b[0;34m\u001b[0m\u001b[0;34m\u001b[0m\u001b[0m\n",
      "\u001b[0;32m~/Desktop/DM_nu_simulation_P-One/PONE_git/pone_dm-main/notebooks/../pone_dm/limit_calc.py\u001b[0m in \u001b[0;36m<listcomp>\u001b[0;34m(.0)\u001b[0m\n\u001b[1;32m    140\u001b[0m                     \u001b[0msv\u001b[0m\u001b[0;34m,\u001b[0m \u001b[0mconfig\u001b[0m\u001b[0;34m[\u001b[0m\u001b[0;34m'atmospheric showers'\u001b[0m\u001b[0;34m]\u001b[0m\u001b[0;34m[\u001b[0m\u001b[0;34m'theta angles'\u001b[0m\u001b[0;34m]\u001b[0m\u001b[0;34m\u001b[0m\u001b[0;34m\u001b[0m\u001b[0m\n\u001b[1;32m    141\u001b[0m                 )**2.)[self._t_d:] /\n\u001b[0;32m--> 142\u001b[0;31m                 \u001b[0mself\u001b[0m\u001b[0;34m.\u001b[0m\u001b[0m_bkgrd\u001b[0m\u001b[0;34m[\u001b[0m\u001b[0mi\u001b[0m\u001b[0;34m]\u001b[0m\u001b[0;34m[\u001b[0m\u001b[0mself\u001b[0m\u001b[0;34m.\u001b[0m\u001b[0m_t_d\u001b[0m\u001b[0;34m:\u001b[0m\u001b[0;34m]\u001b[0m\u001b[0;34m\u001b[0m\u001b[0;34m\u001b[0m\u001b[0m\n\u001b[0m\u001b[1;32m    143\u001b[0m                 for mass in mass_grid] for sv in tqdm(sv_grid)])\n\u001b[1;32m    144\u001b[0m             y[i] = np.array([[\n",
      "\u001b[0;31mKeyError\u001b[0m: 'numu'"
     ]
    }
   ],
   "source": [
    "# Grids\n",
    "mass_grid = np.logspace(3, 6, 31)\n",
    "sv_grid = np.logspace(-26, -22, 200)\n",
    "# The limit calculation\n",
    "pdm.limit_calc(mass_grid=mass_grid, sv_grid=sv_grid[::-1])"
   ]
  },
  {
   "cell_type": "code",
   "execution_count": 7,
   "id": "96c7da35",
   "metadata": {},
   "outputs": [],
   "source": [
    "# Plotting standards\n",
    "std_size = 10.  # Size of the plot\n",
    "fontsize = 20.  # Fontsize in the plot\n",
    "lw=0.5  # Linewidth\n",
    "h_length=0.5  # Handle length for the legends\n",
    "export_dpi = 500  # Dpi for the image export"
   ]
  },
  {
   "cell_type": "code",
   "execution_count": 8,
   "id": "e219829f",
   "metadata": {},
   "outputs": [
    {
     "data": {
      "text/plain": [
       "dict_keys(['numu', 'nue', 'nutau'])"
      ]
     },
     "execution_count": 8,
     "metadata": {},
     "output_type": "execute_result"
    }
   ],
   "source": [
    "config[\"pone\"][\"specific particle scaling\"].keys()\n",
    "   "
   ]
  },
  {
   "cell_type": "code",
   "execution_count": 9,
   "id": "bd8dab1d",
   "metadata": {},
   "outputs": [
    {
     "ename": "KeyError",
     "evalue": "'numu'",
     "output_type": "error",
     "traceback": [
      "\u001b[0;31m---------------------------------------------------------------------------\u001b[0m",
      "\u001b[0;31mKeyError\u001b[0m                                  Traceback (most recent call last)",
      "\u001b[0;32m<ipython-input-9-1bee0ece8853>\u001b[0m in \u001b[0;36m<module>\u001b[0;34m\u001b[0m\n\u001b[1;32m     11\u001b[0m     \u001b[0;31m# Plotting\u001b[0m\u001b[0;34m\u001b[0m\u001b[0;34m\u001b[0m\u001b[0;34m\u001b[0m\u001b[0m\n\u001b[1;32m     12\u001b[0m     ax1.step(pdm._shower_sim.egrid,\n\u001b[0;32m---> 13\u001b[0;31m              \u001b[0mpdm\u001b[0m\u001b[0;34m.\u001b[0m\u001b[0m_limit_calc\u001b[0m\u001b[0;34m.\u001b[0m\u001b[0m_bkgrd\u001b[0m\u001b[0;34m[\u001b[0m\u001b[0mi\u001b[0m\u001b[0;34m]\u001b[0m\u001b[0;34m,\u001b[0m\u001b[0;34m\u001b[0m\u001b[0;34m\u001b[0m\u001b[0m\n\u001b[0m\u001b[1;32m     14\u001b[0m              label='Background')\n\u001b[1;32m     15\u001b[0m     \u001b[0mmass_id\u001b[0m \u001b[0;34m=\u001b[0m \u001b[0;34m-\u001b[0m\u001b[0;36m10\u001b[0m\u001b[0;34m\u001b[0m\u001b[0;34m\u001b[0m\u001b[0m\n",
      "\u001b[0;31mKeyError\u001b[0m: 'numu'"
     ]
    },
    {
     "data": {
      "image/png": "[encoded data removed]",
      "text/plain": [
       "<Figure size 720x540 with 1 Axes>"
      ]
     },
     "metadata": {},
     "output_type": "display_data"
    }
   ],
   "source": [
    "for i in config[\"pone\"][\"specific particle scaling\"].keys():\n",
    "    # Particle counts\n",
    "    # ---------------------------------------------\n",
    "    # Setup\n",
    "\n",
    "    \n",
    "    \n",
    "    \n",
    "    figure, (ax1) = plt.subplots(1, 1, figsize=(std_size, std_size * 6. / 8.), sharex=True)\n",
    "    # ---------------------------------------------\n",
    "    # Plotting\n",
    "    ax1.step(pdm._shower_sim.egrid,\n",
    "             pdm._limit_calc._bkgrd[i],\n",
    "             label='Background')\n",
    "    mass_id = -10\n",
    "    sv_id = -1\n",
    "    ax1.step(pdm._shower_sim.egrid,\n",
    "             pdm._limit_calc._signal_counts[mass_grid[mass_id]][sv_grid[sv_id]],\n",
    "             label='m = %.1e GeV, sv = %.1e' %(mass_grid[mass_id], sv_grid[sv_id]))\n",
    "    # The correspondin CL value\n",
    "    x = (\n",
    "        (pdm._limit_calc._signal_counts[mass_grid[mass_id]][sv_grid[sv_id]]**2.)[pdm._limit_calc._t_d:] /\n",
    "        pdm._limit_calc._bkgrd[i][pdm._limit_calc._t_d:]\n",
    "    )\n",
    "    print(1. - chi2.sf(np.sum(np.nan_to_num(x)), 2))\n",
    "    mass_id = -10\n",
    "    sv_id = 18\n",
    "    ax1.step(pdm._shower_sim.egrid,\n",
    "             pdm._limit_calc._signal_counts[mass_grid[mass_id]][sv_grid[sv_id]],\n",
    "             label='m = %.1e GeV, sv = %.1e' %(mass_grid[mass_id], sv_grid[sv_id]))\n",
    "    # Corresponding CL value\n",
    "    x = (\n",
    "        (pdm._limit_calc._signal_counts[mass_grid[mass_id]][sv_grid[sv_id]]**2.)[pdm._limit_calc._t_d:] /\n",
    "        pdm._limit_calc._bkgrd[i][pdm._limit_calc._t_d:]\n",
    "    )\n",
    "    print(1. - chi2.sf(np.sum(np.nan_to_num(x)), 2))\n",
    "    # ---------------------------------------------\n",
    "    # Axis options\n",
    "    ax1.set_xscale(\"log\")\n",
    "    ax1.set_yscale(\"log\")\n",
    "    ax1.set_xlabel(r\"E [GeV]\", fontsize=fontsize)\n",
    "    ax1.set_ylabel(r\"$Counts\\;\"+r\"$\"+i+\"$\", fontsize=fontsize)\n",
    "    ax1.tick_params(axis = 'both', which = 'major', labelsize=fontsize, direction='in')\n",
    "    ax1.tick_params(axis = 'both', which = 'minor', labelsize=fontsize, direction='in')\n",
    "    ax1.set_ylim(1e0, 1e6)\n",
    "    ax1.set_xlim(1e2, 1e7)\n",
    "    # ---------------------------------------------\n",
    "    # Legend\n",
    "    h, l = ax1.get_legend_handles_labels()\n",
    "    print(h)\n",
    "    lgd1 = ax1.legend([h[0]], [l[0]], loc=9, bbox_to_anchor=(0.5, +1.1),\n",
    "                      ncol=2, fontsize=fontsize, handlelength=h_length,\n",
    "                      fancybox=True, frameon=False)\n",
    "    lgd2 = ax1.legend(h[1:], l[1:], loc=9, bbox_to_anchor=(0.65, +1.0),\n",
    "                      ncol=1, fontsize=fontsize, handlelength=h_length,\n",
    "                      fancybox=True, frameon=False)\n",
    "    ax1.add_artist(lgd1)\n",
    "    # ---------------------------------------------\n",
    "    # Showing the image\n",
    "    plt.show()\n",
    "    # ---------------------------------------------\n",
    "    # Storing the image\n",
    "    figure.savefig(PICS + \"Flux_Example_\"+r\"$\"+i+\"$\"+\".png\",\n",
    "                   bbox_inches='tight', dpi=export_dpi)"
   ]
  },
  {
   "cell_type": "code",
   "execution_count": null,
   "id": "e9dcdb6f",
   "metadata": {},
   "outputs": [],
   "source": [
    "for i in config[\"pone\"][\"specific particle scaling\"].keys():\n",
    "    test_chi2[i] = np.array([[\n",
    "        (pdm._limit_calc._signal_counts[mass_grid[mass_id]][sv_grid[sv_id]]**2.)[pdm._limit_calc._t_d:] /\n",
    "        pdm._limit_calc._bkgrd[i][pdm._limit_calc._t_d:] for mass_id in range(0, len(mass_grid))\n",
    "    ] for sv_id in range(0, len(sv_grid))])"
   ]
  },
  {
   "cell_type": "code",
   "execution_count": null,
   "id": "e39b23fc",
   "metadata": {},
   "outputs": [],
   "source": [
    "for i in config[\"pone\"][\"specific particle scaling\"].keys():\n",
    "    CL_test[i] = np.array([[\n",
    "        1. - chi2.sf(np.sum(np.nan_to_num(SoB)), 2) for SoB in line\n",
    "    ] for line in test_chi2[i]])"
   ]
  },
  {
   "cell_type": "code",
   "execution_count": null,
   "id": "7c9dd239",
   "metadata": {},
   "outputs": [],
   "source": [
    "# Loading comparison data\n",
    "cl_lit = np.loadtxt('../data/CL_PONE.csv', delimiter=\",\")\n",
    "cl_lit = (cl_lit[cl_lit[:, 0].argsort()])"
   ]
  },
  {
   "cell_type": "code",
   "execution_count": null,
   "id": "9cd23e7e",
   "metadata": {},
   "outputs": [],
   "source": [
    "for i in config[\"pone\"][\"specific particle scaling\"].keys():\n",
    "    # Limits\n",
    "    # ---------------------------------------------\n",
    "    # Setup\n",
    "\n",
    "    figure, (ax1) = plt.subplots(1, 1, figsize=(std_size, std_size * 6. / 8.), sharex=True)\n",
    "    # ---------------------------------------------\n",
    "    # Plotting\n",
    "    plt.title(r\"$\"+i+\"$\",fontsize=fontsize)\n",
    "    ax1.contour(1 - pdm.results[i], levels = [0.9], colors='purple',\n",
    "                origin='upper', extent=(min(np.log10(mass_grid)), max(np.log10(mass_grid)),\n",
    "                                        min(np.log10(sv_grid)), max(np.log10(sv_grid))))\n",
    "    pos = ax1.imshow(1 - pdm.results[i], extent=(min(np.log10(mass_grid)), max(np.log10(mass_grid)),\n",
    "                                              min(np.log10(sv_grid)), max(np.log10(sv_grid))),\n",
    "                     origin='upper', aspect='auto',cmap=plt.cm.afmhot)\n",
    "    figure.colorbar(pos, ax=ax1)\n",
    "    ax1.plot(np.log10(cl_lit[:, 0]), np.log10(cl_lit[:, 1]), 'r', label='literature 90% C.L')\n",
    "    # ---------------------------------------------\n",
    "    # Axis options\n",
    "    ax1.set_xscale(\"linear\")\n",
    "    ax1.set_yscale(\"linear\")\n",
    "    ax1.set_xlabel(r\"$\\log m_{\\chi}$\", fontsize=fontsize)\n",
    "    ax1.set_ylabel(r\"$\\log<\\sigma \\nu$>\", fontsize=fontsize)\n",
    "    ax1.tick_params(axis = 'both', which = 'major', labelsize=fontsize, direction='in')\n",
    "    ax1.tick_params(axis = 'both', which = 'minor', labelsize=fontsize, direction='in')\n",
    "    ax1.set_xlim(min(np.log10(mass_grid)), max(np.log10(mass_grid)))\n",
    "    ax1.set_ylim(min(np.log10(sv_grid)), max(np.log10(sv_grid)))\n",
    "    # ---------------------------------------------\n",
    "    # Legend\n",
    "    plt.legend(fontsize=fontsize)\n",
    "    #h, l = ax1.get_legend_handles_labels()\n",
    "    #lgd1 = ax1.legend(h, l, loc=9, bbox_to_anchor=(0.5, +1.1),\n",
    "    #                 ncol=2, fontsize=fontsize, handlelength=h_length,\n",
    "    #                 fancybox=True, frameon=False)\n",
    "    #ax1.add_artist(lgd1)\n",
    "    # ---------------------------------------------\n",
    "    # Showing the image\n",
    "    plt.show()\n",
    "    # ---------------------------------------------\n",
    "    # Storing the image\n",
    "    figure.savefig(PICS + \"Limits_Example_\"+r\"$\"+i+\"$\"+\".png\",\n",
    "                   bbox_inches='tight', dpi=export_dpi)"
   ]
  },
  {
   "cell_type": "code",
   "execution_count": null,
   "id": "acefb097",
   "metadata": {},
   "outputs": [],
   "source": []
  },
  {
   "cell_type": "code",
   "execution_count": null,
   "id": "336aa969",
   "metadata": {},
   "outputs": [],
   "source": []
  }
 ],
 "metadata": {
  "kernelspec": {
   "display_name": "Python 3",
   "language": "python",
   "name": "python3"
  },
  "language_info": {
   "codemirror_mode": {
    "name": "ipython",
    "version": 3
   },
   "file_extension": ".py",
   "mimetype": "text/x-python",
   "name": "python",
   "nbconvert_exporter": "python",
   "pygments_lexer": "ipython3",
   "version": "3.9.5"
  }
 },
 "nbformat": 4,
 "nbformat_minor": 5
}
