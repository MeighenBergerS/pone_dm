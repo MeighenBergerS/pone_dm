{
 "cells": [
  {
   "cell_type": "code",
   "execution_count": 1,
   "source": [
    "# Name: example_basic\n",
    "# Authors: Stephan Meighen-Berger, Kruteesh Desai\n",
    "# A basic example how to use the package"
   ],
   "outputs": [],
   "metadata": {}
  },
  {
   "cell_type": "code",
   "execution_count": 2,
   "source": [
    "# imports\n",
    "import sys\n",
    "import numpy as np\n",
    "import matplotlib.pyplot as plt\n",
    "from scipy.stats import chi2\n",
    "import pickle\n",
    "sys.path.append(\"../\")\n",
    "from pone_dm import PDM, config, dm2nu, atm_shower \n",
    "# from jupyterthemes import jtplot\n",
    "# jtplot.style(theme=\"grade3\", context=\"notebook\", ticks=True, grid=False)\n",
    "from scipy.interpolate import UnivariateSpline"
   ],
   "outputs": [],
   "metadata": {}
  },
  {
   "cell_type": "code",
   "execution_count": 3,
   "source": [
    "# picture path\n",
    "PICS = '../pics/'\n",
    "name=[r'$\\nu_{\\mu}$',r'$\\nu_{e}$',r'$\\nu_{\\tau}$']"
   ],
   "outputs": [],
   "metadata": {}
  },
  {
   "cell_type": "code",
   "execution_count": 4,
   "source": [
    "# Some example settings\n",
    "config['atmospheric showers']['interaction model'] = 'SIBYLL2.3c'\n",
    "config['atmospheric showers']['theta angles'] = np.linspace(0., 90., 91)\n",
    "#config['atmospheric showers']['particles of interest']=['nue']"
   ],
   "outputs": [],
   "metadata": {}
  },
  {
   "cell_type": "code",
   "execution_count": 5,
   "source": [
    "p=atm_shower.Atm_Shower()\n"
   ],
   "outputs": [
    {
     "output_type": "stream",
     "name": "stdout",
     "text": [
      "ayay\n"
     ]
    }
   ],
   "metadata": {}
  },
  {
   "cell_type": "code",
   "execution_count": 6,
   "source": [
    "pdm = PDM()"
   ],
   "outputs": [
    {
     "output_type": "stream",
     "name": "stdout",
     "text": [
      "ayay\n"
     ]
    }
   ],
   "metadata": {}
  },
  {
   "cell_type": "code",
   "execution_count": 8,
   "source": [
    "# Grids\n",
    "mass_grid = np.logspace(3, 6, 11)\n",
    "sv_grid = np.logspace(-26, -22, 11)\n",
    "# The limit calculation\n",
    "pdm.limit_calc(mass_grid=mass_grid, sv_grid=sv_grid[::-1])"
   ],
   "outputs": [
    {
     "output_type": "stream",
     "name": "stderr",
     "text": [
      "100%|██████████| 11/11 [00:06<00:00,  1.71it/s]\n",
      "100%|██████████| 11/11 [00:06<00:00,  1.78it/s]\n",
      "100%|██████████| 11/11 [00:05<00:00,  1.85it/s]\n"
     ]
    }
   ],
   "metadata": {}
  },
  {
   "cell_type": "code",
   "execution_count": 9,
   "source": [
    "\n",
    "dphi_6=np.loadtxt(open(\"../data/m_1e6.csv\"), delimiter = \",\")\n",
    "dphi_6[dphi_6[:,0].sort()]\n",
    "print(dphi_6)"
   ],
   "outputs": [
    {
     "output_type": "stream",
     "name": "stdout",
     "text": [
      "[[4.71523093e+04 1.53459280e-10]\n",
      " [5.60497613e+04 1.96288387e-10]\n",
      " [7.04102047e+04 2.26695859e-10]\n",
      " [9.25043476e+04 2.62434648e-10]\n",
      " [1.15056452e+05 2.83833139e-10]\n",
      " [1.48558994e+05 3.20599461e-10]\n",
      " [1.93633804e+05 3.92318799e-10]\n",
      " [2.52276868e+05 5.18154640e-10]\n",
      " [3.09297992e+05 6.89257983e-10]\n",
      " [3.56977496e+05 9.89944054e-10]\n",
      " [3.87710108e+05 2.29779058e-09]\n",
      " [4.53992662e+05 3.17683977e-09]\n",
      " [4.82168854e+05 4.38613018e-09]\n",
      " [5.21973227e+05 6.05574703e-09]\n",
      " [5.73914043e+05 9.73019151e-09]\n",
      " [6.31028068e+05 7.24924411e-09]\n",
      " [6.93825892e+05 2.03091762e-08]\n",
      " [7.45239618e+05 1.59696980e-08]\n",
      " [7.98043927e+05 1.22436833e-08]\n",
      " [8.51217508e+05 1.76706590e-09]\n",
      " [9.15185392e+05 1.37202694e-09]\n",
      " [9.96285866e+05 1.14931629e-10]]\n"
     ]
    }
   ],
   "metadata": {}
  },
  {
   "cell_type": "code",
   "execution_count": 10,
   "source": [
    "dphi=UnivariateSpline(dphi_6[:,0],dphi_6[:,1],k=1,s=0)"
   ],
   "outputs": [],
   "metadata": {}
  },
  {
   "cell_type": "code",
   "execution_count": 11,
   "source": [
    "mass_id = 10\n",
    "sv_id = -1\n",
    "#plt.step(pdm._shower_sim.egrid,pdm._limit_calc._signal_counts[mass_grid[mass_id]][sv_grid[sv_id]],label=r'$m_{x}$ = %.1e GeV, <$\\sigma\\nu$> = %.1e' %(mass_grid[mass_id], sv_grid[sv_id]))\n",
    "plt.step(dphi_6[:-1,0], dphi_6[:-1,1], label='m = 1e6 GeV Lit')\n",
    "plt.step(pdm._shower_sim.egrid, pdm._dm_nu.extra_galactic_flux(pdm._shower_sim.egrid, 1e6, 0.5e-24) * pdm._shower_sim.egrid**2.,\n",
    "         label='m = 1e6 GeV Sim')\n",
    "plt.xscale('log')\n",
    "plt.yscale('log')\n",
    "plt.legend()\n",
    "plt.xlim(1e4, 1.1e6)\n"
   ],
   "outputs": [
    {
     "output_type": "stream",
     "name": "stderr",
     "text": [
      "/home/kruteesh/Desktop/DM_nu_simulation_P-One/PONE_git/pone_work/notebooks/../pone_dm/dm2nu.py:334: RuntimeWarning: overflow encountered in exp\n",
      "  dd = np.exp(d_2 / s_in(x)**2)\n",
      "/home/kruteesh/Desktop/DM_nu_simulation_P-One/PONE_git/pone_work/notebooks/../pone_dm/dm2nu.py:335: RuntimeWarning: overflow encountered in multiply\n",
      "  return A * aa * dd\n"
     ]
    },
    {
     "output_type": "execute_result",
     "data": {
      "text/plain": [
       "(10000.0, 1100000.0)"
      ]
     },
     "metadata": {},
     "execution_count": 11
    },
    {
     "output_type": "display_data",
     "data": {
      "text/plain": [
       "<Figure size 432x288 with 1 Axes>"
      ],
      "image/svg+xml": "<?xml version=\"1.0\" encoding=\"utf-8\" standalone=\"no\"?>\n<!DOCTYPE svg PUBLIC \"-//W3C//DTD SVG 1.1//EN\"\n  \"http://www.w3.org/Graphics/SVG/1.1/DTD/svg11.dtd\">\n<!-- Created with matplotlib (https://matplotlib.org/) -->\n<svg height=\"248.518125pt\" version=\"1.1\" viewBox=\"0 0 386.111364 248.518125\" width=\"386.111364pt\" xmlns=\"http://www.w3.org/2000/svg\" xmlns:xlink=\"http://www.w3.org/1999/xlink\">\n <metadata>\n  <rdf:RDF xmlns:cc=\"http://creativecommons.org/ns#\" xmlns:dc=\"http://purl.org/dc/elements/1.1/\" xmlns:rdf=\"http://www.w3.org/1999/02/22-rdf-syntax-ns#\">\n   <cc:Work>\n    <dc:type rdf:resource=\"http://purl.org/dc/dcmitype/StillImage\"/>\n    <dc:date>2021-08-12T15:23:45.429706</dc:date>\n    <dc:format>image/svg+xml</dc:format>\n    <dc:creator>\n     <cc:Agent>\n      <dc:title>Matplotlib v3.3.4, https://matplotlib.org/</dc:title>\n     </cc:Agent>\n    </dc:creator>\n   </cc:Work>\n  </rdf:RDF>\n </metadata>\n <defs>\n  <style type=\"text/css\">*{stroke-linecap:butt;stroke-linejoin:round;}</style>\n </defs>\n <g id=\"figure_1\">\n  <g id=\"patch_1\">\n   <path d=\"M 0 248.518125 \nL 386.111364 248.518125 \nL 386.111364 0 \nL 0 0 \nz\n\" style=\"fill:none;\"/>\n  </g>\n  <g id=\"axes_1\">\n   <g id=\"patch_2\">\n    <path d=\"M 42.1 224.64 \nL 376.9 224.64 \nL 376.9 7.2 \nL 42.1 7.2 \nz\n\" style=\"fill:#ffffff;\"/>\n   </g>\n   <g id=\"matplotlib.axis_1\">\n    <g id=\"xtick_1\">\n     <g id=\"line2d_1\">\n      <defs>\n       <path d=\"M 0 0 \nL 0 3.5 \n\" id=\"m682416cd1b\" style=\"stroke:#000000;stroke-width:0.8;\"/>\n      </defs>\n      <g>\n       <use style=\"stroke:#000000;stroke-width:0.8;\" x=\"42.1\" xlink:href=\"#m682416cd1b\" y=\"224.64\"/>\n      </g>\n     </g>\n     <g id=\"text_1\">\n      <!-- $\\mathdefault{10^{4}}$ -->\n      <g transform=\"translate(33.3 239.238437)scale(0.1 -0.1)\">\n       <defs>\n        <path d=\"M 12.40625 8.296875 \nL 28.515625 8.296875 \nL 28.515625 63.921875 \nL 10.984375 60.40625 \nL 10.984375 69.390625 \nL 28.421875 72.90625 \nL 38.28125 72.90625 \nL 38.28125 8.296875 \nL 54.390625 8.296875 \nL 54.390625 0 \nL 12.40625 0 \nz\n\" id=\"DejaVuSans-49\"/>\n        <path d=\"M 31.78125 66.40625 \nQ 24.171875 66.40625 20.328125 58.90625 \nQ 16.5 51.421875 16.5 36.375 \nQ 16.5 21.390625 20.328125 13.890625 \nQ 24.171875 6.390625 31.78125 6.390625 \nQ 39.453125 6.390625 43.28125 13.890625 \nQ 47.125 21.390625 47.125 36.375 \nQ 47.125 51.421875 43.28125 58.90625 \nQ 39.453125 66.40625 31.78125 66.40625 \nz\nM 31.78125 74.21875 \nQ 44.046875 74.21875 50.515625 64.515625 \nQ 56.984375 54.828125 56.984375 36.375 \nQ 56.984375 17.96875 50.515625 8.265625 \nQ 44.046875 -1.421875 31.78125 -1.421875 \nQ 19.53125 -1.421875 13.0625 8.265625 \nQ 6.59375 17.96875 6.59375 36.375 \nQ 6.59375 54.828125 13.0625 64.515625 \nQ 19.53125 74.21875 31.78125 74.21875 \nz\n\" id=\"DejaVuSans-48\"/>\n        <path d=\"M 37.796875 64.3125 \nL 12.890625 25.390625 \nL 37.796875 25.390625 \nz\nM 35.203125 72.90625 \nL 47.609375 72.90625 \nL 47.609375 25.390625 \nL 58.015625 25.390625 \nL 58.015625 17.1875 \nL 47.609375 17.1875 \nL 47.609375 0 \nL 37.796875 0 \nL 37.796875 17.1875 \nL 4.890625 17.1875 \nL 4.890625 26.703125 \nz\n\" id=\"DejaVuSans-52\"/>\n       </defs>\n       <use transform=\"translate(0 0.684375)\" xlink:href=\"#DejaVuSans-49\"/>\n       <use transform=\"translate(63.623047 0.684375)\" xlink:href=\"#DejaVuSans-48\"/>\n       <use transform=\"translate(128.203125 38.965625)scale(0.7)\" xlink:href=\"#DejaVuSans-52\"/>\n      </g>\n     </g>\n    </g>\n    <g id=\"xtick_2\">\n     <g id=\"line2d_2\">\n      <g>\n       <use style=\"stroke:#000000;stroke-width:0.8;\" x=\"206.105682\" xlink:href=\"#m682416cd1b\" y=\"224.64\"/>\n      </g>\n     </g>\n     <g id=\"text_2\">\n      <!-- $\\mathdefault{10^{5}}$ -->\n      <g transform=\"translate(197.305682 239.238437)scale(0.1 -0.1)\">\n       <defs>\n        <path d=\"M 10.796875 72.90625 \nL 49.515625 72.90625 \nL 49.515625 64.59375 \nL 19.828125 64.59375 \nL 19.828125 46.734375 \nQ 21.96875 47.46875 24.109375 47.828125 \nQ 26.265625 48.1875 28.421875 48.1875 \nQ 40.625 48.1875 47.75 41.5 \nQ 54.890625 34.8125 54.890625 23.390625 \nQ 54.890625 11.625 47.5625 5.09375 \nQ 40.234375 -1.421875 26.90625 -1.421875 \nQ 22.3125 -1.421875 17.546875 -0.640625 \nQ 12.796875 0.140625 7.71875 1.703125 \nL 7.71875 11.625 \nQ 12.109375 9.234375 16.796875 8.0625 \nQ 21.484375 6.890625 26.703125 6.890625 \nQ 35.15625 6.890625 40.078125 11.328125 \nQ 45.015625 15.765625 45.015625 23.390625 \nQ 45.015625 31 40.078125 35.4375 \nQ 35.15625 39.890625 26.703125 39.890625 \nQ 22.75 39.890625 18.8125 39.015625 \nQ 14.890625 38.140625 10.796875 36.28125 \nz\n\" id=\"DejaVuSans-53\"/>\n       </defs>\n       <use transform=\"translate(0 0.684375)\" xlink:href=\"#DejaVuSans-49\"/>\n       <use transform=\"translate(63.623047 0.684375)\" xlink:href=\"#DejaVuSans-48\"/>\n       <use transform=\"translate(128.203125 38.965625)scale(0.7)\" xlink:href=\"#DejaVuSans-53\"/>\n      </g>\n     </g>\n    </g>\n    <g id=\"xtick_3\">\n     <g id=\"line2d_3\">\n      <g>\n       <use style=\"stroke:#000000;stroke-width:0.8;\" x=\"370.111364\" xlink:href=\"#m682416cd1b\" y=\"224.64\"/>\n      </g>\n     </g>\n     <g id=\"text_3\">\n      <!-- $\\mathdefault{10^{6}}$ -->\n      <g transform=\"translate(361.311364 239.238437)scale(0.1 -0.1)\">\n       <defs>\n        <path d=\"M 33.015625 40.375 \nQ 26.375 40.375 22.484375 35.828125 \nQ 18.609375 31.296875 18.609375 23.390625 \nQ 18.609375 15.53125 22.484375 10.953125 \nQ 26.375 6.390625 33.015625 6.390625 \nQ 39.65625 6.390625 43.53125 10.953125 \nQ 47.40625 15.53125 47.40625 23.390625 \nQ 47.40625 31.296875 43.53125 35.828125 \nQ 39.65625 40.375 33.015625 40.375 \nz\nM 52.59375 71.296875 \nL 52.59375 62.3125 \nQ 48.875 64.0625 45.09375 64.984375 \nQ 41.3125 65.921875 37.59375 65.921875 \nQ 27.828125 65.921875 22.671875 59.328125 \nQ 17.53125 52.734375 16.796875 39.40625 \nQ 19.671875 43.65625 24.015625 45.921875 \nQ 28.375 48.1875 33.59375 48.1875 \nQ 44.578125 48.1875 50.953125 41.515625 \nQ 57.328125 34.859375 57.328125 23.390625 \nQ 57.328125 12.15625 50.6875 5.359375 \nQ 44.046875 -1.421875 33.015625 -1.421875 \nQ 20.359375 -1.421875 13.671875 8.265625 \nQ 6.984375 17.96875 6.984375 36.375 \nQ 6.984375 53.65625 15.1875 63.9375 \nQ 23.390625 74.21875 37.203125 74.21875 \nQ 40.921875 74.21875 44.703125 73.484375 \nQ 48.484375 72.75 52.59375 71.296875 \nz\n\" id=\"DejaVuSans-54\"/>\n       </defs>\n       <use transform=\"translate(0 0.765625)\" xlink:href=\"#DejaVuSans-49\"/>\n       <use transform=\"translate(63.623047 0.765625)\" xlink:href=\"#DejaVuSans-48\"/>\n       <use transform=\"translate(128.203125 39.046875)scale(0.7)\" xlink:href=\"#DejaVuSans-54\"/>\n      </g>\n     </g>\n    </g>\n    <g id=\"xtick_4\">\n     <g id=\"line2d_4\">\n      <defs>\n       <path d=\"M 0 0 \nL 0 2 \n\" id=\"m7b9e22f3b5\" style=\"stroke:#000000;stroke-width:0.6;\"/>\n      </defs>\n      <g>\n       <use style=\"stroke:#000000;stroke-width:0.6;\" x=\"91.47063\" xlink:href=\"#m7b9e22f3b5\" y=\"224.64\"/>\n      </g>\n     </g>\n    </g>\n    <g id=\"xtick_5\">\n     <g id=\"line2d_5\">\n      <g>\n       <use style=\"stroke:#000000;stroke-width:0.6;\" x=\"120.350597\" xlink:href=\"#m7b9e22f3b5\" y=\"224.64\"/>\n      </g>\n     </g>\n    </g>\n    <g id=\"xtick_6\">\n     <g id=\"line2d_6\">\n      <g>\n       <use style=\"stroke:#000000;stroke-width:0.6;\" x=\"140.84126\" xlink:href=\"#m7b9e22f3b5\" y=\"224.64\"/>\n      </g>\n     </g>\n    </g>\n    <g id=\"xtick_7\">\n     <g id=\"line2d_7\">\n      <g>\n       <use style=\"stroke:#000000;stroke-width:0.6;\" x=\"156.735052\" xlink:href=\"#m7b9e22f3b5\" y=\"224.64\"/>\n      </g>\n     </g>\n    </g>\n    <g id=\"xtick_8\">\n     <g id=\"line2d_8\">\n      <g>\n       <use style=\"stroke:#000000;stroke-width:0.6;\" x=\"169.721227\" xlink:href=\"#m7b9e22f3b5\" y=\"224.64\"/>\n      </g>\n     </g>\n    </g>\n    <g id=\"xtick_9\">\n     <g id=\"line2d_9\">\n      <g>\n       <use style=\"stroke:#000000;stroke-width:0.6;\" x=\"180.700881\" xlink:href=\"#m7b9e22f3b5\" y=\"224.64\"/>\n      </g>\n     </g>\n    </g>\n    <g id=\"xtick_10\">\n     <g id=\"line2d_10\">\n      <g>\n       <use style=\"stroke:#000000;stroke-width:0.6;\" x=\"190.211889\" xlink:href=\"#m7b9e22f3b5\" y=\"224.64\"/>\n      </g>\n     </g>\n    </g>\n    <g id=\"xtick_11\">\n     <g id=\"line2d_11\">\n      <g>\n       <use style=\"stroke:#000000;stroke-width:0.6;\" x=\"198.601194\" xlink:href=\"#m7b9e22f3b5\" y=\"224.64\"/>\n      </g>\n     </g>\n    </g>\n    <g id=\"xtick_12\">\n     <g id=\"line2d_12\">\n      <g>\n       <use style=\"stroke:#000000;stroke-width:0.6;\" x=\"255.476312\" xlink:href=\"#m7b9e22f3b5\" y=\"224.64\"/>\n      </g>\n     </g>\n    </g>\n    <g id=\"xtick_13\">\n     <g id=\"line2d_13\">\n      <g>\n       <use style=\"stroke:#000000;stroke-width:0.6;\" x=\"284.356279\" xlink:href=\"#m7b9e22f3b5\" y=\"224.64\"/>\n      </g>\n     </g>\n    </g>\n    <g id=\"xtick_14\">\n     <g id=\"line2d_14\">\n      <g>\n       <use style=\"stroke:#000000;stroke-width:0.6;\" x=\"304.846942\" xlink:href=\"#m7b9e22f3b5\" y=\"224.64\"/>\n      </g>\n     </g>\n    </g>\n    <g id=\"xtick_15\">\n     <g id=\"line2d_15\">\n      <g>\n       <use style=\"stroke:#000000;stroke-width:0.6;\" x=\"320.740735\" xlink:href=\"#m7b9e22f3b5\" y=\"224.64\"/>\n      </g>\n     </g>\n    </g>\n    <g id=\"xtick_16\">\n     <g id=\"line2d_16\">\n      <g>\n       <use style=\"stroke:#000000;stroke-width:0.6;\" x=\"333.726909\" xlink:href=\"#m7b9e22f3b5\" y=\"224.64\"/>\n      </g>\n     </g>\n    </g>\n    <g id=\"xtick_17\">\n     <g id=\"line2d_17\">\n      <g>\n       <use style=\"stroke:#000000;stroke-width:0.6;\" x=\"344.706563\" xlink:href=\"#m7b9e22f3b5\" y=\"224.64\"/>\n      </g>\n     </g>\n    </g>\n    <g id=\"xtick_18\">\n     <g id=\"line2d_18\">\n      <g>\n       <use style=\"stroke:#000000;stroke-width:0.6;\" x=\"354.217572\" xlink:href=\"#m7b9e22f3b5\" y=\"224.64\"/>\n      </g>\n     </g>\n    </g>\n    <g id=\"xtick_19\">\n     <g id=\"line2d_19\">\n      <g>\n       <use style=\"stroke:#000000;stroke-width:0.6;\" x=\"362.606876\" xlink:href=\"#m7b9e22f3b5\" y=\"224.64\"/>\n      </g>\n     </g>\n    </g>\n   </g>\n   <g id=\"matplotlib.axis_2\">\n    <g id=\"ytick_1\">\n     <g id=\"line2d_20\">\n      <defs>\n       <path d=\"M 0 0 \nL -3.5 0 \n\" id=\"m2ee857a014\" style=\"stroke:#000000;stroke-width:0.8;\"/>\n      </defs>\n      <g>\n       <use style=\"stroke:#000000;stroke-width:0.8;\" x=\"42.1\" xlink:href=\"#m2ee857a014\" y=\"197.888698\"/>\n      </g>\n     </g>\n     <g id=\"text_4\">\n      <!-- $\\mathdefault{10^{-11}}$ -->\n      <g transform=\"translate(7.2 201.687917)scale(0.1 -0.1)\">\n       <defs>\n        <path d=\"M 10.59375 35.5 \nL 73.1875 35.5 \nL 73.1875 27.203125 \nL 10.59375 27.203125 \nz\n\" id=\"DejaVuSans-8722\"/>\n       </defs>\n       <use transform=\"translate(0 0.684375)\" xlink:href=\"#DejaVuSans-49\"/>\n       <use transform=\"translate(63.623047 0.684375)\" xlink:href=\"#DejaVuSans-48\"/>\n       <use transform=\"translate(128.203125 38.965625)scale(0.7)\" xlink:href=\"#DejaVuSans-8722\"/>\n       <use transform=\"translate(186.855469 38.965625)scale(0.7)\" xlink:href=\"#DejaVuSans-49\"/>\n       <use transform=\"translate(231.391602 38.965625)scale(0.7)\" xlink:href=\"#DejaVuSans-49\"/>\n      </g>\n     </g>\n    </g>\n    <g id=\"ytick_2\">\n     <g id=\"line2d_21\">\n      <g>\n       <use style=\"stroke:#000000;stroke-width:0.8;\" x=\"42.1\" xlink:href=\"#m2ee857a014\" y=\"143.226703\"/>\n      </g>\n     </g>\n     <g id=\"text_5\">\n      <!-- $\\mathdefault{10^{-10}}$ -->\n      <g transform=\"translate(7.2 147.025921)scale(0.1 -0.1)\">\n       <use transform=\"translate(0 0.765625)\" xlink:href=\"#DejaVuSans-49\"/>\n       <use transform=\"translate(63.623047 0.765625)\" xlink:href=\"#DejaVuSans-48\"/>\n       <use transform=\"translate(128.203125 39.046875)scale(0.7)\" xlink:href=\"#DejaVuSans-8722\"/>\n       <use transform=\"translate(186.855469 39.046875)scale(0.7)\" xlink:href=\"#DejaVuSans-49\"/>\n       <use transform=\"translate(231.391602 39.046875)scale(0.7)\" xlink:href=\"#DejaVuSans-48\"/>\n      </g>\n     </g>\n    </g>\n    <g id=\"ytick_3\">\n     <g id=\"line2d_22\">\n      <g>\n       <use style=\"stroke:#000000;stroke-width:0.8;\" x=\"42.1\" xlink:href=\"#m2ee857a014\" y=\"88.564707\"/>\n      </g>\n     </g>\n     <g id=\"text_6\">\n      <!-- $\\mathdefault{10^{-9}}$ -->\n      <g transform=\"translate(11.6 92.363926)scale(0.1 -0.1)\">\n       <defs>\n        <path d=\"M 10.984375 1.515625 \nL 10.984375 10.5 \nQ 14.703125 8.734375 18.5 7.8125 \nQ 22.3125 6.890625 25.984375 6.890625 \nQ 35.75 6.890625 40.890625 13.453125 \nQ 46.046875 20.015625 46.78125 33.40625 \nQ 43.953125 29.203125 39.59375 26.953125 \nQ 35.25 24.703125 29.984375 24.703125 \nQ 19.046875 24.703125 12.671875 31.3125 \nQ 6.296875 37.9375 6.296875 49.421875 \nQ 6.296875 60.640625 12.9375 67.421875 \nQ 19.578125 74.21875 30.609375 74.21875 \nQ 43.265625 74.21875 49.921875 64.515625 \nQ 56.59375 54.828125 56.59375 36.375 \nQ 56.59375 19.140625 48.40625 8.859375 \nQ 40.234375 -1.421875 26.421875 -1.421875 \nQ 22.703125 -1.421875 18.890625 -0.6875 \nQ 15.09375 0.046875 10.984375 1.515625 \nz\nM 30.609375 32.421875 \nQ 37.25 32.421875 41.125 36.953125 \nQ 45.015625 41.5 45.015625 49.421875 \nQ 45.015625 57.28125 41.125 61.84375 \nQ 37.25 66.40625 30.609375 66.40625 \nQ 23.96875 66.40625 20.09375 61.84375 \nQ 16.21875 57.28125 16.21875 49.421875 \nQ 16.21875 41.5 20.09375 36.953125 \nQ 23.96875 32.421875 30.609375 32.421875 \nz\n\" id=\"DejaVuSans-57\"/>\n       </defs>\n       <use transform=\"translate(0 0.765625)\" xlink:href=\"#DejaVuSans-49\"/>\n       <use transform=\"translate(63.623047 0.765625)\" xlink:href=\"#DejaVuSans-48\"/>\n       <use transform=\"translate(128.203125 39.046875)scale(0.7)\" xlink:href=\"#DejaVuSans-8722\"/>\n       <use transform=\"translate(186.855469 39.046875)scale(0.7)\" xlink:href=\"#DejaVuSans-57\"/>\n      </g>\n     </g>\n    </g>\n    <g id=\"ytick_4\">\n     <g id=\"line2d_23\">\n      <g>\n       <use style=\"stroke:#000000;stroke-width:0.8;\" x=\"42.1\" xlink:href=\"#m2ee857a014\" y=\"33.902712\"/>\n      </g>\n     </g>\n     <g id=\"text_7\">\n      <!-- $\\mathdefault{10^{-8}}$ -->\n      <g transform=\"translate(11.6 37.701931)scale(0.1 -0.1)\">\n       <defs>\n        <path d=\"M 31.78125 34.625 \nQ 24.75 34.625 20.71875 30.859375 \nQ 16.703125 27.09375 16.703125 20.515625 \nQ 16.703125 13.921875 20.71875 10.15625 \nQ 24.75 6.390625 31.78125 6.390625 \nQ 38.8125 6.390625 42.859375 10.171875 \nQ 46.921875 13.96875 46.921875 20.515625 \nQ 46.921875 27.09375 42.890625 30.859375 \nQ 38.875 34.625 31.78125 34.625 \nz\nM 21.921875 38.8125 \nQ 15.578125 40.375 12.03125 44.71875 \nQ 8.5 49.078125 8.5 55.328125 \nQ 8.5 64.0625 14.71875 69.140625 \nQ 20.953125 74.21875 31.78125 74.21875 \nQ 42.671875 74.21875 48.875 69.140625 \nQ 55.078125 64.0625 55.078125 55.328125 \nQ 55.078125 49.078125 51.53125 44.71875 \nQ 48 40.375 41.703125 38.8125 \nQ 48.828125 37.15625 52.796875 32.3125 \nQ 56.78125 27.484375 56.78125 20.515625 \nQ 56.78125 9.90625 50.3125 4.234375 \nQ 43.84375 -1.421875 31.78125 -1.421875 \nQ 19.734375 -1.421875 13.25 4.234375 \nQ 6.78125 9.90625 6.78125 20.515625 \nQ 6.78125 27.484375 10.78125 32.3125 \nQ 14.796875 37.15625 21.921875 38.8125 \nz\nM 18.3125 54.390625 \nQ 18.3125 48.734375 21.84375 45.5625 \nQ 25.390625 42.390625 31.78125 42.390625 \nQ 38.140625 42.390625 41.71875 45.5625 \nQ 45.3125 48.734375 45.3125 54.390625 \nQ 45.3125 60.0625 41.71875 63.234375 \nQ 38.140625 66.40625 31.78125 66.40625 \nQ 25.390625 66.40625 21.84375 63.234375 \nQ 18.3125 60.0625 18.3125 54.390625 \nz\n\" id=\"DejaVuSans-56\"/>\n       </defs>\n       <use transform=\"translate(0 0.765625)\" xlink:href=\"#DejaVuSans-49\"/>\n       <use transform=\"translate(63.623047 0.765625)\" xlink:href=\"#DejaVuSans-48\"/>\n       <use transform=\"translate(128.203125 39.046875)scale(0.7)\" xlink:href=\"#DejaVuSans-8722\"/>\n       <use transform=\"translate(186.855469 39.046875)scale(0.7)\" xlink:href=\"#DejaVuSans-56\"/>\n      </g>\n     </g>\n    </g>\n    <g id=\"ytick_5\">\n     <g id=\"line2d_24\">\n      <defs>\n       <path d=\"M 0 0 \nL -2 0 \n\" id=\"mb78694f9d0\" style=\"stroke:#000000;stroke-width:0.6;\"/>\n      </defs>\n      <g>\n       <use style=\"stroke:#000000;stroke-width:0.6;\" x=\"42.1\" xlink:href=\"#mb78694f9d0\" y=\"219.640893\"/>\n      </g>\n     </g>\n    </g>\n    <g id=\"ytick_6\">\n     <g id=\"line2d_25\">\n      <g>\n       <use style=\"stroke:#000000;stroke-width:0.6;\" x=\"42.1\" xlink:href=\"#mb78694f9d0\" y=\"214.343598\"/>\n      </g>\n     </g>\n    </g>\n    <g id=\"ytick_7\">\n     <g id=\"line2d_26\">\n      <g>\n       <use style=\"stroke:#000000;stroke-width:0.6;\" x=\"42.1\" xlink:href=\"#mb78694f9d0\" y=\"210.015393\"/>\n      </g>\n     </g>\n    </g>\n    <g id=\"ytick_8\">\n     <g id=\"line2d_27\">\n      <g>\n       <use style=\"stroke:#000000;stroke-width:0.6;\" x=\"42.1\" xlink:href=\"#mb78694f9d0\" y=\"206.355948\"/>\n      </g>\n     </g>\n    </g>\n    <g id=\"ytick_9\">\n     <g id=\"line2d_28\">\n      <g>\n       <use style=\"stroke:#000000;stroke-width:0.6;\" x=\"42.1\" xlink:href=\"#mb78694f9d0\" y=\"203.185993\"/>\n      </g>\n     </g>\n    </g>\n    <g id=\"ytick_10\">\n     <g id=\"line2d_29\">\n      <g>\n       <use style=\"stroke:#000000;stroke-width:0.6;\" x=\"42.1\" xlink:href=\"#mb78694f9d0\" y=\"200.389894\"/>\n      </g>\n     </g>\n    </g>\n    <g id=\"ytick_11\">\n     <g id=\"line2d_30\">\n      <g>\n       <use style=\"stroke:#000000;stroke-width:0.6;\" x=\"42.1\" xlink:href=\"#mb78694f9d0\" y=\"181.433798\"/>\n      </g>\n     </g>\n    </g>\n    <g id=\"ytick_12\">\n     <g id=\"line2d_31\">\n      <g>\n       <use style=\"stroke:#000000;stroke-width:0.6;\" x=\"42.1\" xlink:href=\"#mb78694f9d0\" y=\"171.808298\"/>\n      </g>\n     </g>\n    </g>\n    <g id=\"ytick_13\">\n     <g id=\"line2d_32\">\n      <g>\n       <use style=\"stroke:#000000;stroke-width:0.6;\" x=\"42.1\" xlink:href=\"#mb78694f9d0\" y=\"164.978898\"/>\n      </g>\n     </g>\n    </g>\n    <g id=\"ytick_14\">\n     <g id=\"line2d_33\">\n      <g>\n       <use style=\"stroke:#000000;stroke-width:0.6;\" x=\"42.1\" xlink:href=\"#mb78694f9d0\" y=\"159.681603\"/>\n      </g>\n     </g>\n    </g>\n    <g id=\"ytick_15\">\n     <g id=\"line2d_34\">\n      <g>\n       <use style=\"stroke:#000000;stroke-width:0.6;\" x=\"42.1\" xlink:href=\"#mb78694f9d0\" y=\"155.353398\"/>\n      </g>\n     </g>\n    </g>\n    <g id=\"ytick_16\">\n     <g id=\"line2d_35\">\n      <g>\n       <use style=\"stroke:#000000;stroke-width:0.6;\" x=\"42.1\" xlink:href=\"#mb78694f9d0\" y=\"151.693953\"/>\n      </g>\n     </g>\n    </g>\n    <g id=\"ytick_17\">\n     <g id=\"line2d_36\">\n      <g>\n       <use style=\"stroke:#000000;stroke-width:0.6;\" x=\"42.1\" xlink:href=\"#mb78694f9d0\" y=\"148.523997\"/>\n      </g>\n     </g>\n    </g>\n    <g id=\"ytick_18\">\n     <g id=\"line2d_37\">\n      <g>\n       <use style=\"stroke:#000000;stroke-width:0.6;\" x=\"42.1\" xlink:href=\"#mb78694f9d0\" y=\"145.727898\"/>\n      </g>\n     </g>\n    </g>\n    <g id=\"ytick_19\">\n     <g id=\"line2d_38\">\n      <g>\n       <use style=\"stroke:#000000;stroke-width:0.6;\" x=\"42.1\" xlink:href=\"#mb78694f9d0\" y=\"126.771802\"/>\n      </g>\n     </g>\n    </g>\n    <g id=\"ytick_20\">\n     <g id=\"line2d_39\">\n      <g>\n       <use style=\"stroke:#000000;stroke-width:0.6;\" x=\"42.1\" xlink:href=\"#mb78694f9d0\" y=\"117.146303\"/>\n      </g>\n     </g>\n    </g>\n    <g id=\"ytick_21\">\n     <g id=\"line2d_40\">\n      <g>\n       <use style=\"stroke:#000000;stroke-width:0.6;\" x=\"42.1\" xlink:href=\"#mb78694f9d0\" y=\"110.316902\"/>\n      </g>\n     </g>\n    </g>\n    <g id=\"ytick_22\">\n     <g id=\"line2d_41\">\n      <g>\n       <use style=\"stroke:#000000;stroke-width:0.6;\" x=\"42.1\" xlink:href=\"#mb78694f9d0\" y=\"105.019608\"/>\n      </g>\n     </g>\n    </g>\n    <g id=\"ytick_23\">\n     <g id=\"line2d_42\">\n      <g>\n       <use style=\"stroke:#000000;stroke-width:0.6;\" x=\"42.1\" xlink:href=\"#mb78694f9d0\" y=\"100.691403\"/>\n      </g>\n     </g>\n    </g>\n    <g id=\"ytick_24\">\n     <g id=\"line2d_43\">\n      <g>\n       <use style=\"stroke:#000000;stroke-width:0.6;\" x=\"42.1\" xlink:href=\"#mb78694f9d0\" y=\"97.031958\"/>\n      </g>\n     </g>\n    </g>\n    <g id=\"ytick_25\">\n     <g id=\"line2d_44\">\n      <g>\n       <use style=\"stroke:#000000;stroke-width:0.6;\" x=\"42.1\" xlink:href=\"#mb78694f9d0\" y=\"93.862002\"/>\n      </g>\n     </g>\n    </g>\n    <g id=\"ytick_26\">\n     <g id=\"line2d_45\">\n      <g>\n       <use style=\"stroke:#000000;stroke-width:0.6;\" x=\"42.1\" xlink:href=\"#mb78694f9d0\" y=\"91.065903\"/>\n      </g>\n     </g>\n    </g>\n    <g id=\"ytick_27\">\n     <g id=\"line2d_46\">\n      <g>\n       <use style=\"stroke:#000000;stroke-width:0.6;\" x=\"42.1\" xlink:href=\"#mb78694f9d0\" y=\"72.109807\"/>\n      </g>\n     </g>\n    </g>\n    <g id=\"ytick_28\">\n     <g id=\"line2d_47\">\n      <g>\n       <use style=\"stroke:#000000;stroke-width:0.6;\" x=\"42.1\" xlink:href=\"#mb78694f9d0\" y=\"62.484307\"/>\n      </g>\n     </g>\n    </g>\n    <g id=\"ytick_29\">\n     <g id=\"line2d_48\">\n      <g>\n       <use style=\"stroke:#000000;stroke-width:0.6;\" x=\"42.1\" xlink:href=\"#mb78694f9d0\" y=\"55.654907\"/>\n      </g>\n     </g>\n    </g>\n    <g id=\"ytick_30\">\n     <g id=\"line2d_49\">\n      <g>\n       <use style=\"stroke:#000000;stroke-width:0.6;\" x=\"42.1\" xlink:href=\"#mb78694f9d0\" y=\"50.357612\"/>\n      </g>\n     </g>\n    </g>\n    <g id=\"ytick_31\">\n     <g id=\"line2d_50\">\n      <g>\n       <use style=\"stroke:#000000;stroke-width:0.6;\" x=\"42.1\" xlink:href=\"#mb78694f9d0\" y=\"46.029407\"/>\n      </g>\n     </g>\n    </g>\n    <g id=\"ytick_32\">\n     <g id=\"line2d_51\">\n      <g>\n       <use style=\"stroke:#000000;stroke-width:0.6;\" x=\"42.1\" xlink:href=\"#mb78694f9d0\" y=\"42.369962\"/>\n      </g>\n     </g>\n    </g>\n    <g id=\"ytick_33\">\n     <g id=\"line2d_52\">\n      <g>\n       <use style=\"stroke:#000000;stroke-width:0.6;\" x=\"42.1\" xlink:href=\"#mb78694f9d0\" y=\"39.200007\"/>\n      </g>\n     </g>\n    </g>\n    <g id=\"ytick_34\">\n     <g id=\"line2d_53\">\n      <g>\n       <use style=\"stroke:#000000;stroke-width:0.6;\" x=\"42.1\" xlink:href=\"#mb78694f9d0\" y=\"36.403908\"/>\n      </g>\n     </g>\n    </g>\n    <g id=\"ytick_35\">\n     <g id=\"line2d_54\">\n      <g>\n       <use style=\"stroke:#000000;stroke-width:0.6;\" x=\"42.1\" xlink:href=\"#mb78694f9d0\" y=\"17.447812\"/>\n      </g>\n     </g>\n    </g>\n    <g id=\"ytick_36\">\n     <g id=\"line2d_55\">\n      <g>\n       <use style=\"stroke:#000000;stroke-width:0.6;\" x=\"42.1\" xlink:href=\"#mb78694f9d0\" y=\"7.822312\"/>\n      </g>\n     </g>\n    </g>\n   </g>\n   <g id=\"line2d_56\">\n    <path clip-path=\"url(#pe71e524d05)\" d=\"M 152.558314 133.059946 \nL 152.558314 127.216499 \nL 164.870351 127.216499 \nL 164.870351 123.797447 \nL 181.117056 123.797447 \nL 181.117056 120.322169 \nL 200.556082 120.322169 \nL 200.556082 118.46137 \nL 216.095429 118.46137 \nL 216.095429 115.569767 \nL 234.298087 115.569767 \nL 234.298087 110.777204 \nL 253.172226 110.777204 \nL 253.172226 104.172927 \nL 272.015864 104.172927 \nL 272.015864 97.39908 \nL 286.530313 97.39908 \nL 286.530313 88.804638 \nL 296.74192 88.804638 \nL 296.74192 68.814757 \nL 302.624195 68.814757 \nL 302.624195 61.124642 \nL 313.865424 61.124642 \nL 313.865424 53.46725 \nL 318.154226 53.46725 \nL 318.154226 45.809859 \nL 323.804069 45.809859 \nL 323.804069 34.55202 \nL 330.560878 34.55202 \nL 330.560878 41.53939 \nL 337.318211 41.53939 \nL 337.318211 17.083636 \nL 344.075545 17.083636 \nL 344.075545 22.790108 \nL 349.167172 22.790108 \nL 349.167172 29.097262 \nL 354.043202 29.097262 \nL 354.043202 75.049379 \nL 358.637617 75.049379 \nL 358.637617 81.056191 \nL 363.798635 81.056191 \n\" style=\"fill:none;stroke:#1f77b4;stroke-linecap:square;stroke-width:1.5;\"/>\n   </g>\n   <g id=\"line2d_57\">\n    <path clip-path=\"url(#pe71e524d05)\" d=\"M -1 198.447595 \nL 1.098579 198.447595 \nL 1.098579 201.180701 \nL 17.499148 201.180701 \nL 17.499148 203.913812 \nL 33.899716 203.913812 \nL 33.899716 206.646934 \nL 50.300284 206.646934 \nL 50.300284 209.380078 \nL 66.700852 209.380078 \nL 66.700852 212.113084 \nL 83.101421 212.113084 \nL 83.101421 214.756364 \nL 99.501989 214.756364 \nL 99.501989 213.242748 \nL 115.902557 213.242748 \nL 115.902557 190.452957 \nL 132.303125 190.452957 \nL 132.303125 160.82859 \nL 148.703693 160.82859 \nL 148.703693 139.48742 \nL 165.104262 139.48742 \nL 165.104262 125.934057 \nL 181.50483 125.934057 \nL 181.50483 117.416495 \nL 197.905398 117.416495 \nL 197.905398 111.893437 \nL 214.305966 111.893437 \nL 214.305966 107.821762 \nL 230.706535 107.821762 \nL 230.706535 104.240971 \nL 247.107103 104.240971 \nL 247.107103 100.05394 \nL 263.507671 100.05394 \nL 263.507671 94.170647 \nL 279.908239 94.170647 \nL 279.908239 85.461686 \nL 296.308807 85.461686 \nL 296.308807 73.390837 \nL 312.709376 73.390837 \nL 312.709376 58.467825 \nL 329.109944 58.467825 \nL 329.109944 42.135391 \nL 345.510512 42.135391 \nL 345.510512 26.124999 \nL 361.91108 26.124999 \nL 361.91108 249.518125 \nL 361.91108 249.518125 \n\" style=\"fill:none;stroke:#ff7f0e;stroke-linecap:square;stroke-width:1.5;\"/>\n   </g>\n   <g id=\"patch_3\">\n    <path d=\"M 42.1 224.64 \nL 42.1 7.2 \n\" style=\"fill:none;stroke:#000000;stroke-linecap:square;stroke-linejoin:miter;stroke-width:0.8;\"/>\n   </g>\n   <g id=\"patch_4\">\n    <path d=\"M 376.9 224.64 \nL 376.9 7.2 \n\" style=\"fill:none;stroke:#000000;stroke-linecap:square;stroke-linejoin:miter;stroke-width:0.8;\"/>\n   </g>\n   <g id=\"patch_5\">\n    <path d=\"M 42.1 224.64 \nL 376.9 224.64 \n\" style=\"fill:none;stroke:#000000;stroke-linecap:square;stroke-linejoin:miter;stroke-width:0.8;\"/>\n   </g>\n   <g id=\"patch_6\">\n    <path d=\"M 42.1 7.2 \nL 376.9 7.2 \n\" style=\"fill:none;stroke:#000000;stroke-linecap:square;stroke-linejoin:miter;stroke-width:0.8;\"/>\n   </g>\n   <g id=\"legend_1\">\n    <g id=\"patch_7\">\n     <path d=\"M 49.1 44.55625 \nL 170.420313 44.55625 \nQ 172.420313 44.55625 172.420313 42.55625 \nL 172.420313 14.2 \nQ 172.420313 12.2 170.420313 12.2 \nL 49.1 12.2 \nQ 47.1 12.2 47.1 14.2 \nL 47.1 42.55625 \nQ 47.1 44.55625 49.1 44.55625 \nz\n\" style=\"fill:#ffffff;opacity:0.8;stroke:#cccccc;stroke-linejoin:miter;\"/>\n    </g>\n    <g id=\"line2d_58\">\n     <path d=\"M 51.1 20.298437 \nL 71.1 20.298437 \n\" style=\"fill:none;stroke:#1f77b4;stroke-linecap:square;stroke-width:1.5;\"/>\n    </g>\n    <g id=\"line2d_59\"/>\n    <g id=\"text_8\">\n     <!-- m = 1e6 GeV Lit -->\n     <g transform=\"translate(79.1 23.798437)scale(0.1 -0.1)\">\n      <defs>\n       <path d=\"M 52 44.1875 \nQ 55.375 50.25 60.0625 53.125 \nQ 64.75 56 71.09375 56 \nQ 79.640625 56 84.28125 50.015625 \nQ 88.921875 44.046875 88.921875 33.015625 \nL 88.921875 0 \nL 79.890625 0 \nL 79.890625 32.71875 \nQ 79.890625 40.578125 77.09375 44.375 \nQ 74.3125 48.1875 68.609375 48.1875 \nQ 61.625 48.1875 57.5625 43.546875 \nQ 53.515625 38.921875 53.515625 30.90625 \nL 53.515625 0 \nL 44.484375 0 \nL 44.484375 32.71875 \nQ 44.484375 40.625 41.703125 44.40625 \nQ 38.921875 48.1875 33.109375 48.1875 \nQ 26.21875 48.1875 22.15625 43.53125 \nQ 18.109375 38.875 18.109375 30.90625 \nL 18.109375 0 \nL 9.078125 0 \nL 9.078125 54.6875 \nL 18.109375 54.6875 \nL 18.109375 46.1875 \nQ 21.1875 51.21875 25.484375 53.609375 \nQ 29.78125 56 35.6875 56 \nQ 41.65625 56 45.828125 52.96875 \nQ 50 49.953125 52 44.1875 \nz\n\" id=\"DejaVuSans-109\"/>\n       <path id=\"DejaVuSans-32\"/>\n       <path d=\"M 10.59375 45.40625 \nL 73.1875 45.40625 \nL 73.1875 37.203125 \nL 10.59375 37.203125 \nz\nM 10.59375 25.484375 \nL 73.1875 25.484375 \nL 73.1875 17.1875 \nL 10.59375 17.1875 \nz\n\" id=\"DejaVuSans-61\"/>\n       <path d=\"M 56.203125 29.59375 \nL 56.203125 25.203125 \nL 14.890625 25.203125 \nQ 15.484375 15.921875 20.484375 11.0625 \nQ 25.484375 6.203125 34.421875 6.203125 \nQ 39.59375 6.203125 44.453125 7.46875 \nQ 49.3125 8.734375 54.109375 11.28125 \nL 54.109375 2.78125 \nQ 49.265625 0.734375 44.1875 -0.34375 \nQ 39.109375 -1.421875 33.890625 -1.421875 \nQ 20.796875 -1.421875 13.15625 6.1875 \nQ 5.515625 13.8125 5.515625 26.8125 \nQ 5.515625 40.234375 12.765625 48.109375 \nQ 20.015625 56 32.328125 56 \nQ 43.359375 56 49.78125 48.890625 \nQ 56.203125 41.796875 56.203125 29.59375 \nz\nM 47.21875 32.234375 \nQ 47.125 39.59375 43.09375 43.984375 \nQ 39.0625 48.390625 32.421875 48.390625 \nQ 24.90625 48.390625 20.390625 44.140625 \nQ 15.875 39.890625 15.1875 32.171875 \nz\n\" id=\"DejaVuSans-101\"/>\n       <path d=\"M 59.515625 10.40625 \nL 59.515625 29.984375 \nL 43.40625 29.984375 \nL 43.40625 38.09375 \nL 69.28125 38.09375 \nL 69.28125 6.78125 \nQ 63.578125 2.734375 56.6875 0.65625 \nQ 49.8125 -1.421875 42 -1.421875 \nQ 24.90625 -1.421875 15.25 8.5625 \nQ 5.609375 18.5625 5.609375 36.375 \nQ 5.609375 54.25 15.25 64.234375 \nQ 24.90625 74.21875 42 74.21875 \nQ 49.125 74.21875 55.546875 72.453125 \nQ 61.96875 70.703125 67.390625 67.28125 \nL 67.390625 56.78125 \nQ 61.921875 61.421875 55.765625 63.765625 \nQ 49.609375 66.109375 42.828125 66.109375 \nQ 29.4375 66.109375 22.71875 58.640625 \nQ 16.015625 51.171875 16.015625 36.375 \nQ 16.015625 21.625 22.71875 14.15625 \nQ 29.4375 6.6875 42.828125 6.6875 \nQ 48.046875 6.6875 52.140625 7.59375 \nQ 56.25 8.5 59.515625 10.40625 \nz\n\" id=\"DejaVuSans-71\"/>\n       <path d=\"M 28.609375 0 \nL 0.78125 72.90625 \nL 11.078125 72.90625 \nL 34.1875 11.53125 \nL 57.328125 72.90625 \nL 67.578125 72.90625 \nL 39.796875 0 \nz\n\" id=\"DejaVuSans-86\"/>\n       <path d=\"M 9.8125 72.90625 \nL 19.671875 72.90625 \nL 19.671875 8.296875 \nL 55.171875 8.296875 \nL 55.171875 0 \nL 9.8125 0 \nz\n\" id=\"DejaVuSans-76\"/>\n       <path d=\"M 9.421875 54.6875 \nL 18.40625 54.6875 \nL 18.40625 0 \nL 9.421875 0 \nz\nM 9.421875 75.984375 \nL 18.40625 75.984375 \nL 18.40625 64.59375 \nL 9.421875 64.59375 \nz\n\" id=\"DejaVuSans-105\"/>\n       <path d=\"M 18.3125 70.21875 \nL 18.3125 54.6875 \nL 36.8125 54.6875 \nL 36.8125 47.703125 \nL 18.3125 47.703125 \nL 18.3125 18.015625 \nQ 18.3125 11.328125 20.140625 9.421875 \nQ 21.96875 7.515625 27.59375 7.515625 \nL 36.8125 7.515625 \nL 36.8125 0 \nL 27.59375 0 \nQ 17.1875 0 13.234375 3.875 \nQ 9.28125 7.765625 9.28125 18.015625 \nL 9.28125 47.703125 \nL 2.6875 47.703125 \nL 2.6875 54.6875 \nL 9.28125 54.6875 \nL 9.28125 70.21875 \nz\n\" id=\"DejaVuSans-116\"/>\n      </defs>\n      <use xlink:href=\"#DejaVuSans-109\"/>\n      <use x=\"97.412109\" xlink:href=\"#DejaVuSans-32\"/>\n      <use x=\"129.199219\" xlink:href=\"#DejaVuSans-61\"/>\n      <use x=\"212.988281\" xlink:href=\"#DejaVuSans-32\"/>\n      <use x=\"244.775391\" xlink:href=\"#DejaVuSans-49\"/>\n      <use x=\"308.398438\" xlink:href=\"#DejaVuSans-101\"/>\n      <use x=\"369.921875\" xlink:href=\"#DejaVuSans-54\"/>\n      <use x=\"433.544922\" xlink:href=\"#DejaVuSans-32\"/>\n      <use x=\"465.332031\" xlink:href=\"#DejaVuSans-71\"/>\n      <use x=\"542.822266\" xlink:href=\"#DejaVuSans-101\"/>\n      <use x=\"604.345703\" xlink:href=\"#DejaVuSans-86\"/>\n      <use x=\"672.753906\" xlink:href=\"#DejaVuSans-32\"/>\n      <use x=\"704.541016\" xlink:href=\"#DejaVuSans-76\"/>\n      <use x=\"760.253906\" xlink:href=\"#DejaVuSans-105\"/>\n      <use x=\"788.037109\" xlink:href=\"#DejaVuSans-116\"/>\n     </g>\n    </g>\n    <g id=\"line2d_60\">\n     <path d=\"M 51.1 34.976562 \nL 71.1 34.976562 \n\" style=\"fill:none;stroke:#ff7f0e;stroke-linecap:square;stroke-width:1.5;\"/>\n    </g>\n    <g id=\"line2d_61\"/>\n    <g id=\"text_9\">\n     <!-- m = 1e6 GeV Sim -->\n     <g transform=\"translate(79.1 38.476562)scale(0.1 -0.1)\">\n      <defs>\n       <path d=\"M 53.515625 70.515625 \nL 53.515625 60.890625 \nQ 47.90625 63.578125 42.921875 64.890625 \nQ 37.9375 66.21875 33.296875 66.21875 \nQ 25.25 66.21875 20.875 63.09375 \nQ 16.5 59.96875 16.5 54.203125 \nQ 16.5 49.359375 19.40625 46.890625 \nQ 22.3125 44.4375 30.421875 42.921875 \nL 36.375 41.703125 \nQ 47.40625 39.59375 52.65625 34.296875 \nQ 57.90625 29 57.90625 20.125 \nQ 57.90625 9.515625 50.796875 4.046875 \nQ 43.703125 -1.421875 29.984375 -1.421875 \nQ 24.8125 -1.421875 18.96875 -0.25 \nQ 13.140625 0.921875 6.890625 3.21875 \nL 6.890625 13.375 \nQ 12.890625 10.015625 18.65625 8.296875 \nQ 24.421875 6.59375 29.984375 6.59375 \nQ 38.421875 6.59375 43.015625 9.90625 \nQ 47.609375 13.234375 47.609375 19.390625 \nQ 47.609375 24.75 44.3125 27.78125 \nQ 41.015625 30.8125 33.5 32.328125 \nL 27.484375 33.5 \nQ 16.453125 35.6875 11.515625 40.375 \nQ 6.59375 45.0625 6.59375 53.421875 \nQ 6.59375 63.09375 13.40625 68.65625 \nQ 20.21875 74.21875 32.171875 74.21875 \nQ 37.3125 74.21875 42.625 73.28125 \nQ 47.953125 72.359375 53.515625 70.515625 \nz\n\" id=\"DejaVuSans-83\"/>\n      </defs>\n      <use xlink:href=\"#DejaVuSans-109\"/>\n      <use x=\"97.412109\" xlink:href=\"#DejaVuSans-32\"/>\n      <use x=\"129.199219\" xlink:href=\"#DejaVuSans-61\"/>\n      <use x=\"212.988281\" xlink:href=\"#DejaVuSans-32\"/>\n      <use x=\"244.775391\" xlink:href=\"#DejaVuSans-49\"/>\n      <use x=\"308.398438\" xlink:href=\"#DejaVuSans-101\"/>\n      <use x=\"369.921875\" xlink:href=\"#DejaVuSans-54\"/>\n      <use x=\"433.544922\" xlink:href=\"#DejaVuSans-32\"/>\n      <use x=\"465.332031\" xlink:href=\"#DejaVuSans-71\"/>\n      <use x=\"542.822266\" xlink:href=\"#DejaVuSans-101\"/>\n      <use x=\"604.345703\" xlink:href=\"#DejaVuSans-86\"/>\n      <use x=\"672.753906\" xlink:href=\"#DejaVuSans-32\"/>\n      <use x=\"704.541016\" xlink:href=\"#DejaVuSans-83\"/>\n      <use x=\"768.017578\" xlink:href=\"#DejaVuSans-105\"/>\n      <use x=\"795.800781\" xlink:href=\"#DejaVuSans-109\"/>\n     </g>\n    </g>\n   </g>\n  </g>\n </g>\n <defs>\n  <clipPath id=\"pe71e524d05\">\n   <rect height=\"217.44\" width=\"334.8\" x=\"42.1\" y=\"7.2\"/>\n  </clipPath>\n </defs>\n</svg>\n",
      "image/png": "[encoded data removed]"
     },
     "metadata": {
      "needs_background": "light"
     }
    }
   ],
   "metadata": {}
  },
  {
   "cell_type": "code",
   "execution_count": null,
   "source": [
    "mass_id = -18\n",
    "sv_id = -25\n",
    "#plt.step(pdm._shower_sim.egrid,\n",
    "         #pdm._limit_calc._signal_counts[mass_grid[mass_id]][sv_grid[sv_id]],\n",
    "         #label=r'$m_{x}$ = %.1e GeV, <$\\sigma\\nu$> = %.1e' %(mass_grid[mass_id], sv_grid[sv_id]))\n",
    "plt.step(pdm._shower_sim.egrid,\n",
    "         (pdm._dm_nu.extra_galactic_flux(pdm._shower_sim.egrid, 1e4, 1e-23) * pdm._shower_sim.egrid**2.) /\n",
    "         dphi(pdm._shower_sim.egrid))\n",
    "plt.xscale('log')\n",
    "plt.yscale('log')\n",
    "plt.legend()\n",
    "plt.xlim(1e2, 3.3e4)"
   ],
   "outputs": [],
   "metadata": {}
  },
  {
   "cell_type": "code",
   "execution_count": null,
   "source": [],
   "outputs": [],
   "metadata": {}
  },
  {
   "cell_type": "code",
   "execution_count": null,
   "source": [
    "# Plotting standards\n",
    "std_size = 15.  # Size of the plot\n",
    "fontsize = 25.  # Fontsize in the plot\n",
    "lw=0.5  # Linewidth\n",
    "h_length=0.5  # Handle length for the legends\n",
    "export_dpi = 500  # Dpi for the image export"
   ],
   "outputs": [],
   "metadata": {}
  },
  {
   "cell_type": "code",
   "execution_count": null,
   "source": [
    "th_cl = np.loadtxt(open(\"../data/thermal_relic.csv\"), delimiter = \",\")"
   ],
   "outputs": [],
   "metadata": {}
  },
  {
   "cell_type": "code",
   "execution_count": 12,
   "source": [
    "# plotting the Counts----\n",
    "for j,i in enumerate(config['atmospheric showers']['particles of interest']):\n",
    "    # Particle counts\n",
    "    # ---------------------------------------------\n",
    "    # Setup\n",
    "    figure, ax1 = plt.subplots(1, 1, figsize=(10,7), sharey=True)\n",
    "    # ---------------------------------------------\n",
    "    # Plotting\n",
    "    ax1.step(dphi_6[:,0],(dphi_6[:,0]**2)*dphi_6[:,1],label='m = 1e4 GeV Lit')\n",
    "    ax1.step(pdm._shower_sim.egrid,\n",
    "             pdm._limit_calc._bkgrd[i],\n",
    "             label='Background')\n",
    "    mass_id = -1\n",
    "    sv_id = -2\n",
    "    ax1.step(pdm._shower_sim.egrid,\n",
    "             pdm._limit_calc._signal_counts[mass_grid[mass_id]][sv_grid[sv_id]],\n",
    "             label=r'$m_{x}$ = %.1e GeV, <$\\sigma\\nu$> = %.1e' %(mass_grid[mass_id], sv_grid[sv_id]))\n",
    "    # The correspondin CL value\n",
    "    x = (\n",
    "        (pdm._limit_calc._signal_counts[mass_grid[mass_id]][sv_grid[sv_id]]**2.)[pdm._limit_calc._t_d:] /\n",
    "        pdm._limit_calc._bkgrd[i][pdm._limit_calc._t_d:]\n",
    "    )\n",
    "   \n",
    "    mass_id = 5\n",
    "    sv_id = -10\n",
    "    ax1.step(pdm._shower_sim.egrid,\n",
    "             pdm._limit_calc._signal_counts[mass_grid[mass_id]][sv_grid[sv_id]],\n",
    "             label=r'$m_{x}$ = %.1e GeV, <$\\sigma\\nu$> = %.1e' %(mass_grid[mass_id], sv_grid[sv_id]))\n",
    "    # Corresponding CL value\n",
    "    x = (\n",
    "        (pdm._limit_calc._signal_counts[mass_grid[mass_id]][sv_grid[sv_id]]**2.)[pdm._limit_calc._t_d:] /\n",
    "        pdm._limit_calc._bkgrd[i][pdm._limit_calc._t_d:]\n",
    "    )\n",
    "   \n",
    "    # ---------------------------------------------\n",
    "    # Axis options\n",
    "    ax1.set_xscale(\"log\")\n",
    "    ax1.set_yscale(\"log\")\n",
    "    ax1.set_xlabel(r\"E [GeV]\", fontsize=fontsize)\n",
    "    ax1.set_ylabel(\"Counts;  \" + name[j], fontsize=fontsize)\n",
    "    ax1.tick_params(axis = 'both', which = 'major', labelsize=fontsize, direction='in')\n",
    "    ax1.tick_params(axis = 'both', which = 'minor', labelsize=fontsize, direction='in')\n",
    "    \n",
    "    if j==0:\n",
    "        ax1.set_ylim(1e0, 1e10)\n",
    "        ax1.set_xlim(1e2, 1e7)\n",
    "    elif j==1:\n",
    "        ax1.set_ylim(1e0, 1e5)\n",
    "        ax1.set_xlim(1e2, 1e7)\n",
    "    elif j==2:\n",
    "        ax1.set_ylim(1e0, 1e4)\n",
    "        ax1.set_xlim(1e2, 1e7)\n",
    "    \n",
    "    # ---------------------------------------------\n",
    "    # Legend\n",
    "    h, l = ax1.get_legend_handles_labels()\n",
    "    \n",
    "    lgd1 = ax1.legend([h[0]], [l[0]], loc=9, bbox_to_anchor=(0.5, +1.1),\n",
    "                      ncol=2, fontsize=fontsize-2, handlelength=h_length,\n",
    "                      fancybox=True, frameon=False)\n",
    "    lgd2 = ax1.legend(h[1:], l[1:], loc=9, bbox_to_anchor=(0.65, +1.0),\n",
    "                      ncol=1, fontsize=fontsize-2, handlelength=h_length,\n",
    "                      fancybox=True, frameon=False)\n",
    "    ax1.add_artist(lgd1)\n",
    "    # ---------------------------------------------\n",
    "    # Showing the image\n",
    "    plt.show()\n",
    "    # ---------------------------------------------\n",
    "    # Storing the image\n",
    "    figure.savefig(PICS + \"Flux_Example_\"+i+\".png\",\n",
    "                   bbox_inches='tight', dpi=export_dpi)"
   ],
   "outputs": [
    {
     "output_type": "error",
     "ename": "NameError",
     "evalue": "name 'fontsize' is not defined",
     "traceback": [
      "\u001b[0;31m---------------------------------------------------------------------------\u001b[0m",
      "\u001b[0;31mNameError\u001b[0m                                 Traceback (most recent call last)",
      "\u001b[0;32m<ipython-input-12-17606cfa13d5>\u001b[0m in \u001b[0;36m<module>\u001b[0;34m\u001b[0m\n\u001b[1;32m     37\u001b[0m     \u001b[0max1\u001b[0m\u001b[0;34m.\u001b[0m\u001b[0mset_xscale\u001b[0m\u001b[0;34m(\u001b[0m\u001b[0;34m\"log\"\u001b[0m\u001b[0;34m)\u001b[0m\u001b[0;34m\u001b[0m\u001b[0;34m\u001b[0m\u001b[0m\n\u001b[1;32m     38\u001b[0m     \u001b[0max1\u001b[0m\u001b[0;34m.\u001b[0m\u001b[0mset_yscale\u001b[0m\u001b[0;34m(\u001b[0m\u001b[0;34m\"log\"\u001b[0m\u001b[0;34m)\u001b[0m\u001b[0;34m\u001b[0m\u001b[0;34m\u001b[0m\u001b[0m\n\u001b[0;32m---> 39\u001b[0;31m     \u001b[0max1\u001b[0m\u001b[0;34m.\u001b[0m\u001b[0mset_xlabel\u001b[0m\u001b[0;34m(\u001b[0m\u001b[0;34mr\"E [GeV]\"\u001b[0m\u001b[0;34m,\u001b[0m \u001b[0mfontsize\u001b[0m\u001b[0;34m=\u001b[0m\u001b[0mfontsize\u001b[0m\u001b[0;34m)\u001b[0m\u001b[0;34m\u001b[0m\u001b[0;34m\u001b[0m\u001b[0m\n\u001b[0m\u001b[1;32m     40\u001b[0m     \u001b[0max1\u001b[0m\u001b[0;34m.\u001b[0m\u001b[0mset_ylabel\u001b[0m\u001b[0;34m(\u001b[0m\u001b[0;34m\"Counts;  \"\u001b[0m \u001b[0;34m+\u001b[0m \u001b[0mname\u001b[0m\u001b[0;34m[\u001b[0m\u001b[0mj\u001b[0m\u001b[0;34m]\u001b[0m\u001b[0;34m,\u001b[0m \u001b[0mfontsize\u001b[0m\u001b[0;34m=\u001b[0m\u001b[0mfontsize\u001b[0m\u001b[0;34m)\u001b[0m\u001b[0;34m\u001b[0m\u001b[0;34m\u001b[0m\u001b[0m\n\u001b[1;32m     41\u001b[0m     \u001b[0max1\u001b[0m\u001b[0;34m.\u001b[0m\u001b[0mtick_params\u001b[0m\u001b[0;34m(\u001b[0m\u001b[0maxis\u001b[0m \u001b[0;34m=\u001b[0m \u001b[0;34m'both'\u001b[0m\u001b[0;34m,\u001b[0m \u001b[0mwhich\u001b[0m \u001b[0;34m=\u001b[0m \u001b[0;34m'major'\u001b[0m\u001b[0;34m,\u001b[0m \u001b[0mlabelsize\u001b[0m\u001b[0;34m=\u001b[0m\u001b[0mfontsize\u001b[0m\u001b[0;34m,\u001b[0m \u001b[0mdirection\u001b[0m\u001b[0;34m=\u001b[0m\u001b[0;34m'in'\u001b[0m\u001b[0;34m)\u001b[0m\u001b[0;34m\u001b[0m\u001b[0;34m\u001b[0m\u001b[0m\n",
      "\u001b[0;31mNameError\u001b[0m: name 'fontsize' is not defined"
     ]
    },
    {
     "output_type": "display_data",
     "data": {
      "text/plain": [
       "<Figure size 720x504 with 1 Axes>"
      ],
      "image/svg+xml": "<?xml version=\"1.0\" encoding=\"utf-8\" standalone=\"no\"?>\n<!DOCTYPE svg PUBLIC \"-//W3C//DTD SVG 1.1//EN\"\n  \"http://www.w3.org/Graphics/SVG/1.1/DTD/svg11.dtd\">\n<!-- Created with matplotlib (https://matplotlib.org/) -->\n<svg height=\"411.598125pt\" version=\"1.1\" viewBox=\"0 0 602.9 411.598125\" width=\"602.9pt\" xmlns=\"http://www.w3.org/2000/svg\" xmlns:xlink=\"http://www.w3.org/1999/xlink\">\n <metadata>\n  <rdf:RDF xmlns:cc=\"http://creativecommons.org/ns#\" xmlns:dc=\"http://purl.org/dc/elements/1.1/\" xmlns:rdf=\"http://www.w3.org/1999/02/22-rdf-syntax-ns#\">\n   <cc:Work>\n    <dc:type rdf:resource=\"http://purl.org/dc/dcmitype/StillImage\"/>\n    <dc:date>2021-08-12T15:23:52.886013</dc:date>\n    <dc:format>image/svg+xml</dc:format>\n    <dc:creator>\n     <cc:Agent>\n      <dc:title>Matplotlib v3.3.4, https://matplotlib.org/</dc:title>\n     </cc:Agent>\n    </dc:creator>\n   </cc:Work>\n  </rdf:RDF>\n </metadata>\n <defs>\n  <style type=\"text/css\">*{stroke-linecap:butt;stroke-linejoin:round;}</style>\n </defs>\n <g id=\"figure_1\">\n  <g id=\"patch_1\">\n   <path d=\"M 0 411.598125 \nL 602.9 411.598125 \nL 602.9 0 \nL 0 0 \nz\n\" style=\"fill:none;\"/>\n  </g>\n  <g id=\"axes_1\">\n   <g id=\"patch_2\">\n    <path d=\"M 37.7 387.72 \nL 595.7 387.72 \nL 595.7 7.2 \nL 37.7 7.2 \nz\n\" style=\"fill:#ffffff;\"/>\n   </g>\n   <g id=\"matplotlib.axis_1\">\n    <g id=\"xtick_1\">\n     <g id=\"line2d_1\">\n      <defs>\n       <path d=\"M 0 0 \nL 0 3.5 \n\" id=\"m6b2e1918ed\" style=\"stroke:#000000;stroke-width:0.8;\"/>\n      </defs>\n      <g>\n       <use style=\"stroke:#000000;stroke-width:0.8;\" x=\"107.45\" xlink:href=\"#m6b2e1918ed\" y=\"387.72\"/>\n      </g>\n     </g>\n     <g id=\"text_1\">\n      <!-- $\\mathdefault{10^{0}}$ -->\n      <g transform=\"translate(98.65 402.318437)scale(0.1 -0.1)\">\n       <defs>\n        <path d=\"M 12.40625 8.296875 \nL 28.515625 8.296875 \nL 28.515625 63.921875 \nL 10.984375 60.40625 \nL 10.984375 69.390625 \nL 28.421875 72.90625 \nL 38.28125 72.90625 \nL 38.28125 8.296875 \nL 54.390625 8.296875 \nL 54.390625 0 \nL 12.40625 0 \nz\n\" id=\"DejaVuSans-49\"/>\n        <path d=\"M 31.78125 66.40625 \nQ 24.171875 66.40625 20.328125 58.90625 \nQ 16.5 51.421875 16.5 36.375 \nQ 16.5 21.390625 20.328125 13.890625 \nQ 24.171875 6.390625 31.78125 6.390625 \nQ 39.453125 6.390625 43.28125 13.890625 \nQ 47.125 21.390625 47.125 36.375 \nQ 47.125 51.421875 43.28125 58.90625 \nQ 39.453125 66.40625 31.78125 66.40625 \nz\nM 31.78125 74.21875 \nQ 44.046875 74.21875 50.515625 64.515625 \nQ 56.984375 54.828125 56.984375 36.375 \nQ 56.984375 17.96875 50.515625 8.265625 \nQ 44.046875 -1.421875 31.78125 -1.421875 \nQ 19.53125 -1.421875 13.0625 8.265625 \nQ 6.59375 17.96875 6.59375 36.375 \nQ 6.59375 54.828125 13.0625 64.515625 \nQ 19.53125 74.21875 31.78125 74.21875 \nz\n\" id=\"DejaVuSans-48\"/>\n       </defs>\n       <use transform=\"translate(0 0.765625)\" xlink:href=\"#DejaVuSans-49\"/>\n       <use transform=\"translate(63.623047 0.765625)\" xlink:href=\"#DejaVuSans-48\"/>\n       <use transform=\"translate(128.203125 39.046875)scale(0.7)\" xlink:href=\"#DejaVuSans-48\"/>\n      </g>\n     </g>\n    </g>\n    <g id=\"xtick_2\">\n     <g id=\"line2d_2\">\n      <g>\n       <use style=\"stroke:#000000;stroke-width:0.8;\" x=\"191.995455\" xlink:href=\"#m6b2e1918ed\" y=\"387.72\"/>\n      </g>\n     </g>\n     <g id=\"text_2\">\n      <!-- $\\mathdefault{10^{2}}$ -->\n      <g transform=\"translate(183.195455 402.318437)scale(0.1 -0.1)\">\n       <defs>\n        <path d=\"M 19.1875 8.296875 \nL 53.609375 8.296875 \nL 53.609375 0 \nL 7.328125 0 \nL 7.328125 8.296875 \nQ 12.9375 14.109375 22.625 23.890625 \nQ 32.328125 33.6875 34.8125 36.53125 \nQ 39.546875 41.84375 41.421875 45.53125 \nQ 43.3125 49.21875 43.3125 52.78125 \nQ 43.3125 58.59375 39.234375 62.25 \nQ 35.15625 65.921875 28.609375 65.921875 \nQ 23.96875 65.921875 18.8125 64.3125 \nQ 13.671875 62.703125 7.8125 59.421875 \nL 7.8125 69.390625 \nQ 13.765625 71.78125 18.9375 73 \nQ 24.125 74.21875 28.421875 74.21875 \nQ 39.75 74.21875 46.484375 68.546875 \nQ 53.21875 62.890625 53.21875 53.421875 \nQ 53.21875 48.921875 51.53125 44.890625 \nQ 49.859375 40.875 45.40625 35.40625 \nQ 44.1875 33.984375 37.640625 27.21875 \nQ 31.109375 20.453125 19.1875 8.296875 \nz\n\" id=\"DejaVuSans-50\"/>\n       </defs>\n       <use transform=\"translate(0 0.765625)\" xlink:href=\"#DejaVuSans-49\"/>\n       <use transform=\"translate(63.623047 0.765625)\" xlink:href=\"#DejaVuSans-48\"/>\n       <use transform=\"translate(128.203125 39.046875)scale(0.7)\" xlink:href=\"#DejaVuSans-50\"/>\n      </g>\n     </g>\n    </g>\n    <g id=\"xtick_3\">\n     <g id=\"line2d_3\">\n      <g>\n       <use style=\"stroke:#000000;stroke-width:0.8;\" x=\"276.540909\" xlink:href=\"#m6b2e1918ed\" y=\"387.72\"/>\n      </g>\n     </g>\n     <g id=\"text_3\">\n      <!-- $\\mathdefault{10^{4}}$ -->\n      <g transform=\"translate(267.740909 402.318437)scale(0.1 -0.1)\">\n       <defs>\n        <path d=\"M 37.796875 64.3125 \nL 12.890625 25.390625 \nL 37.796875 25.390625 \nz\nM 35.203125 72.90625 \nL 47.609375 72.90625 \nL 47.609375 25.390625 \nL 58.015625 25.390625 \nL 58.015625 17.1875 \nL 47.609375 17.1875 \nL 47.609375 0 \nL 37.796875 0 \nL 37.796875 17.1875 \nL 4.890625 17.1875 \nL 4.890625 26.703125 \nz\n\" id=\"DejaVuSans-52\"/>\n       </defs>\n       <use transform=\"translate(0 0.684375)\" xlink:href=\"#DejaVuSans-49\"/>\n       <use transform=\"translate(63.623047 0.684375)\" xlink:href=\"#DejaVuSans-48\"/>\n       <use transform=\"translate(128.203125 38.965625)scale(0.7)\" xlink:href=\"#DejaVuSans-52\"/>\n      </g>\n     </g>\n    </g>\n    <g id=\"xtick_4\">\n     <g id=\"line2d_4\">\n      <g>\n       <use style=\"stroke:#000000;stroke-width:0.8;\" x=\"361.086364\" xlink:href=\"#m6b2e1918ed\" y=\"387.72\"/>\n      </g>\n     </g>\n     <g id=\"text_4\">\n      <!-- $\\mathdefault{10^{6}}$ -->\n      <g transform=\"translate(352.286364 402.318437)scale(0.1 -0.1)\">\n       <defs>\n        <path d=\"M 33.015625 40.375 \nQ 26.375 40.375 22.484375 35.828125 \nQ 18.609375 31.296875 18.609375 23.390625 \nQ 18.609375 15.53125 22.484375 10.953125 \nQ 26.375 6.390625 33.015625 6.390625 \nQ 39.65625 6.390625 43.53125 10.953125 \nQ 47.40625 15.53125 47.40625 23.390625 \nQ 47.40625 31.296875 43.53125 35.828125 \nQ 39.65625 40.375 33.015625 40.375 \nz\nM 52.59375 71.296875 \nL 52.59375 62.3125 \nQ 48.875 64.0625 45.09375 64.984375 \nQ 41.3125 65.921875 37.59375 65.921875 \nQ 27.828125 65.921875 22.671875 59.328125 \nQ 17.53125 52.734375 16.796875 39.40625 \nQ 19.671875 43.65625 24.015625 45.921875 \nQ 28.375 48.1875 33.59375 48.1875 \nQ 44.578125 48.1875 50.953125 41.515625 \nQ 57.328125 34.859375 57.328125 23.390625 \nQ 57.328125 12.15625 50.6875 5.359375 \nQ 44.046875 -1.421875 33.015625 -1.421875 \nQ 20.359375 -1.421875 13.671875 8.265625 \nQ 6.984375 17.96875 6.984375 36.375 \nQ 6.984375 53.65625 15.1875 63.9375 \nQ 23.390625 74.21875 37.203125 74.21875 \nQ 40.921875 74.21875 44.703125 73.484375 \nQ 48.484375 72.75 52.59375 71.296875 \nz\n\" id=\"DejaVuSans-54\"/>\n       </defs>\n       <use transform=\"translate(0 0.765625)\" xlink:href=\"#DejaVuSans-49\"/>\n       <use transform=\"translate(63.623047 0.765625)\" xlink:href=\"#DejaVuSans-48\"/>\n       <use transform=\"translate(128.203125 39.046875)scale(0.7)\" xlink:href=\"#DejaVuSans-54\"/>\n      </g>\n     </g>\n    </g>\n    <g id=\"xtick_5\">\n     <g id=\"line2d_5\">\n      <g>\n       <use style=\"stroke:#000000;stroke-width:0.8;\" x=\"445.631818\" xlink:href=\"#m6b2e1918ed\" y=\"387.72\"/>\n      </g>\n     </g>\n     <g id=\"text_5\">\n      <!-- $\\mathdefault{10^{8}}$ -->\n      <g transform=\"translate(436.831818 402.318437)scale(0.1 -0.1)\">\n       <defs>\n        <path d=\"M 31.78125 34.625 \nQ 24.75 34.625 20.71875 30.859375 \nQ 16.703125 27.09375 16.703125 20.515625 \nQ 16.703125 13.921875 20.71875 10.15625 \nQ 24.75 6.390625 31.78125 6.390625 \nQ 38.8125 6.390625 42.859375 10.171875 \nQ 46.921875 13.96875 46.921875 20.515625 \nQ 46.921875 27.09375 42.890625 30.859375 \nQ 38.875 34.625 31.78125 34.625 \nz\nM 21.921875 38.8125 \nQ 15.578125 40.375 12.03125 44.71875 \nQ 8.5 49.078125 8.5 55.328125 \nQ 8.5 64.0625 14.71875 69.140625 \nQ 20.953125 74.21875 31.78125 74.21875 \nQ 42.671875 74.21875 48.875 69.140625 \nQ 55.078125 64.0625 55.078125 55.328125 \nQ 55.078125 49.078125 51.53125 44.71875 \nQ 48 40.375 41.703125 38.8125 \nQ 48.828125 37.15625 52.796875 32.3125 \nQ 56.78125 27.484375 56.78125 20.515625 \nQ 56.78125 9.90625 50.3125 4.234375 \nQ 43.84375 -1.421875 31.78125 -1.421875 \nQ 19.734375 -1.421875 13.25 4.234375 \nQ 6.78125 9.90625 6.78125 20.515625 \nQ 6.78125 27.484375 10.78125 32.3125 \nQ 14.796875 37.15625 21.921875 38.8125 \nz\nM 18.3125 54.390625 \nQ 18.3125 48.734375 21.84375 45.5625 \nQ 25.390625 42.390625 31.78125 42.390625 \nQ 38.140625 42.390625 41.71875 45.5625 \nQ 45.3125 48.734375 45.3125 54.390625 \nQ 45.3125 60.0625 41.71875 63.234375 \nQ 38.140625 66.40625 31.78125 66.40625 \nQ 25.390625 66.40625 21.84375 63.234375 \nQ 18.3125 60.0625 18.3125 54.390625 \nz\n\" id=\"DejaVuSans-56\"/>\n       </defs>\n       <use transform=\"translate(0 0.765625)\" xlink:href=\"#DejaVuSans-49\"/>\n       <use transform=\"translate(63.623047 0.765625)\" xlink:href=\"#DejaVuSans-48\"/>\n       <use transform=\"translate(128.203125 39.046875)scale(0.7)\" xlink:href=\"#DejaVuSans-56\"/>\n      </g>\n     </g>\n    </g>\n    <g id=\"xtick_6\">\n     <g id=\"line2d_6\">\n      <g>\n       <use style=\"stroke:#000000;stroke-width:0.8;\" x=\"530.177273\" xlink:href=\"#m6b2e1918ed\" y=\"387.72\"/>\n      </g>\n     </g>\n     <g id=\"text_6\">\n      <!-- $\\mathdefault{10^{10}}$ -->\n      <g transform=\"translate(519.127273 402.318437)scale(0.1 -0.1)\">\n       <use transform=\"translate(0 0.765625)\" xlink:href=\"#DejaVuSans-49\"/>\n       <use transform=\"translate(63.623047 0.765625)\" xlink:href=\"#DejaVuSans-48\"/>\n       <use transform=\"translate(128.203125 39.046875)scale(0.7)\" xlink:href=\"#DejaVuSans-49\"/>\n       <use transform=\"translate(172.739258 39.046875)scale(0.7)\" xlink:href=\"#DejaVuSans-48\"/>\n      </g>\n     </g>\n    </g>\n   </g>\n   <g id=\"matplotlib.axis_2\">\n    <g id=\"ytick_1\">\n     <g id=\"line2d_7\">\n      <defs>\n       <path d=\"M 0 0 \nL -3.5 0 \n\" id=\"m8484100c64\" style=\"stroke:#000000;stroke-width:0.8;\"/>\n      </defs>\n      <g>\n       <use style=\"stroke:#000000;stroke-width:0.8;\" x=\"37.7\" xlink:href=\"#m8484100c64\" y=\"329.599778\"/>\n      </g>\n     </g>\n     <g id=\"text_7\">\n      <!-- $\\mathdefault{10^{-5}}$ -->\n      <g transform=\"translate(7.2 333.398997)scale(0.1 -0.1)\">\n       <defs>\n        <path d=\"M 10.59375 35.5 \nL 73.1875 35.5 \nL 73.1875 27.203125 \nL 10.59375 27.203125 \nz\n\" id=\"DejaVuSans-8722\"/>\n        <path d=\"M 10.796875 72.90625 \nL 49.515625 72.90625 \nL 49.515625 64.59375 \nL 19.828125 64.59375 \nL 19.828125 46.734375 \nQ 21.96875 47.46875 24.109375 47.828125 \nQ 26.265625 48.1875 28.421875 48.1875 \nQ 40.625 48.1875 47.75 41.5 \nQ 54.890625 34.8125 54.890625 23.390625 \nQ 54.890625 11.625 47.5625 5.09375 \nQ 40.234375 -1.421875 26.90625 -1.421875 \nQ 22.3125 -1.421875 17.546875 -0.640625 \nQ 12.796875 0.140625 7.71875 1.703125 \nL 7.71875 11.625 \nQ 12.109375 9.234375 16.796875 8.0625 \nQ 21.484375 6.890625 26.703125 6.890625 \nQ 35.15625 6.890625 40.078125 11.328125 \nQ 45.015625 15.765625 45.015625 23.390625 \nQ 45.015625 31 40.078125 35.4375 \nQ 35.15625 39.890625 26.703125 39.890625 \nQ 22.75 39.890625 18.8125 39.015625 \nQ 14.890625 38.140625 10.796875 36.28125 \nz\n\" id=\"DejaVuSans-53\"/>\n       </defs>\n       <use transform=\"translate(0 0.684375)\" xlink:href=\"#DejaVuSans-49\"/>\n       <use transform=\"translate(63.623047 0.684375)\" xlink:href=\"#DejaVuSans-48\"/>\n       <use transform=\"translate(128.203125 38.965625)scale(0.7)\" xlink:href=\"#DejaVuSans-8722\"/>\n       <use transform=\"translate(186.855469 38.965625)scale(0.7)\" xlink:href=\"#DejaVuSans-53\"/>\n      </g>\n     </g>\n    </g>\n    <g id=\"ytick_2\">\n     <g id=\"line2d_8\">\n      <g>\n       <use style=\"stroke:#000000;stroke-width:0.8;\" x=\"37.7\" xlink:href=\"#m8484100c64\" y=\"269.671541\"/>\n      </g>\n     </g>\n     <g id=\"text_8\">\n      <!-- $\\mathdefault{10^{-3}}$ -->\n      <g transform=\"translate(7.2 273.47076)scale(0.1 -0.1)\">\n       <defs>\n        <path d=\"M 40.578125 39.3125 \nQ 47.65625 37.796875 51.625 33 \nQ 55.609375 28.21875 55.609375 21.1875 \nQ 55.609375 10.40625 48.1875 4.484375 \nQ 40.765625 -1.421875 27.09375 -1.421875 \nQ 22.515625 -1.421875 17.65625 -0.515625 \nQ 12.796875 0.390625 7.625 2.203125 \nL 7.625 11.71875 \nQ 11.71875 9.328125 16.59375 8.109375 \nQ 21.484375 6.890625 26.8125 6.890625 \nQ 36.078125 6.890625 40.9375 10.546875 \nQ 45.796875 14.203125 45.796875 21.1875 \nQ 45.796875 27.640625 41.28125 31.265625 \nQ 36.765625 34.90625 28.71875 34.90625 \nL 20.21875 34.90625 \nL 20.21875 43.015625 \nL 29.109375 43.015625 \nQ 36.375 43.015625 40.234375 45.921875 \nQ 44.09375 48.828125 44.09375 54.296875 \nQ 44.09375 59.90625 40.109375 62.90625 \nQ 36.140625 65.921875 28.71875 65.921875 \nQ 24.65625 65.921875 20.015625 65.03125 \nQ 15.375 64.15625 9.8125 62.3125 \nL 9.8125 71.09375 \nQ 15.4375 72.65625 20.34375 73.4375 \nQ 25.25 74.21875 29.59375 74.21875 \nQ 40.828125 74.21875 47.359375 69.109375 \nQ 53.90625 64.015625 53.90625 55.328125 \nQ 53.90625 49.265625 50.4375 45.09375 \nQ 46.96875 40.921875 40.578125 39.3125 \nz\n\" id=\"DejaVuSans-51\"/>\n       </defs>\n       <use transform=\"translate(0 0.765625)\" xlink:href=\"#DejaVuSans-49\"/>\n       <use transform=\"translate(63.623047 0.765625)\" xlink:href=\"#DejaVuSans-48\"/>\n       <use transform=\"translate(128.203125 39.046875)scale(0.7)\" xlink:href=\"#DejaVuSans-8722\"/>\n       <use transform=\"translate(186.855469 39.046875)scale(0.7)\" xlink:href=\"#DejaVuSans-51\"/>\n      </g>\n     </g>\n    </g>\n    <g id=\"ytick_3\">\n     <g id=\"line2d_9\">\n      <g>\n       <use style=\"stroke:#000000;stroke-width:0.8;\" x=\"37.7\" xlink:href=\"#m8484100c64\" y=\"209.743305\"/>\n      </g>\n     </g>\n     <g id=\"text_9\">\n      <!-- $\\mathdefault{10^{-1}}$ -->\n      <g transform=\"translate(7.2 213.542524)scale(0.1 -0.1)\">\n       <use transform=\"translate(0 0.684375)\" xlink:href=\"#DejaVuSans-49\"/>\n       <use transform=\"translate(63.623047 0.684375)\" xlink:href=\"#DejaVuSans-48\"/>\n       <use transform=\"translate(128.203125 38.965625)scale(0.7)\" xlink:href=\"#DejaVuSans-8722\"/>\n       <use transform=\"translate(186.855469 38.965625)scale(0.7)\" xlink:href=\"#DejaVuSans-49\"/>\n      </g>\n     </g>\n    </g>\n    <g id=\"ytick_4\">\n     <g id=\"line2d_10\">\n      <g>\n       <use style=\"stroke:#000000;stroke-width:0.8;\" x=\"37.7\" xlink:href=\"#m8484100c64\" y=\"149.815069\"/>\n      </g>\n     </g>\n     <g id=\"text_10\">\n      <!-- $\\mathdefault{10^{1}}$ -->\n      <g transform=\"translate(13.1 153.614287)scale(0.1 -0.1)\">\n       <use transform=\"translate(0 0.684375)\" xlink:href=\"#DejaVuSans-49\"/>\n       <use transform=\"translate(63.623047 0.684375)\" xlink:href=\"#DejaVuSans-48\"/>\n       <use transform=\"translate(128.203125 38.965625)scale(0.7)\" xlink:href=\"#DejaVuSans-49\"/>\n      </g>\n     </g>\n    </g>\n    <g id=\"ytick_5\">\n     <g id=\"line2d_11\">\n      <g>\n       <use style=\"stroke:#000000;stroke-width:0.8;\" x=\"37.7\" xlink:href=\"#m8484100c64\" y=\"89.886832\"/>\n      </g>\n     </g>\n     <g id=\"text_11\">\n      <!-- $\\mathdefault{10^{3}}$ -->\n      <g transform=\"translate(13.1 93.686051)scale(0.1 -0.1)\">\n       <use transform=\"translate(0 0.765625)\" xlink:href=\"#DejaVuSans-49\"/>\n       <use transform=\"translate(63.623047 0.765625)\" xlink:href=\"#DejaVuSans-48\"/>\n       <use transform=\"translate(128.203125 39.046875)scale(0.7)\" xlink:href=\"#DejaVuSans-51\"/>\n      </g>\n     </g>\n    </g>\n    <g id=\"ytick_6\">\n     <g id=\"line2d_12\">\n      <g>\n       <use style=\"stroke:#000000;stroke-width:0.8;\" x=\"37.7\" xlink:href=\"#m8484100c64\" y=\"29.958596\"/>\n      </g>\n     </g>\n     <g id=\"text_12\">\n      <!-- $\\mathdefault{10^{5}}$ -->\n      <g transform=\"translate(13.1 33.757815)scale(0.1 -0.1)\">\n       <use transform=\"translate(0 0.684375)\" xlink:href=\"#DejaVuSans-49\"/>\n       <use transform=\"translate(63.623047 0.684375)\" xlink:href=\"#DejaVuSans-48\"/>\n       <use transform=\"translate(128.203125 38.965625)scale(0.7)\" xlink:href=\"#DejaVuSans-53\"/>\n      </g>\n     </g>\n    </g>\n   </g>\n   <g id=\"line2d_13\">\n    <path clip-path=\"url(#p87c4327944)\" d=\"M 305.011716 193.772457 \nL 305.011716 186.070389 \nL 308.185164 186.070389 \nL 308.185164 178.259563 \nL 312.372778 178.259563 \nL 312.372778 169.25143 \nL 317.383218 169.25143 \nL 317.383218 162.553263 \nL 321.388509 162.553263 \nL 321.388509 154.316857 \nL 326.080274 154.316857 \nL 326.080274 144.793038 \nL 330.945113 144.793038 \nL 330.945113 134.287236 \nL 335.802091 134.287236 \nL 335.802091 125.270381 \nL 339.543214 125.270381 \nL 339.543214 116.827801 \nL 342.175272 116.827801 \nL 342.175272 103.720526 \nL 343.691438 103.720526 \nL 343.691438 95.397444 \nL 346.588883 95.397444 \nL 346.588883 89.632742 \nL 347.694328 89.632742 \nL 347.694328 83.37071 \nL 349.150584 83.37071 \nL 349.150584 74.730529 \nL 350.892162 74.730529 \nL 350.892162 76.09165 \nL 352.633876 76.09165 \nL 352.633876 60.216563 \nL 354.375589 60.216563 \nL 354.375589 61.484187 \nL 355.687964 61.484187 \nL 355.687964 63.159867 \nL 356.944769 63.159867 \nL 356.944769 86.670668 \nL 358.128987 86.670668 \nL 358.128987 88.077575 \nL 359.459247 88.077575 \nL 359.459247 118.136778 \nL 361.01805 118.136778 \n\" style=\"fill:none;stroke:#1f77b4;stroke-linecap:square;stroke-width:1.5;\"/>\n   </g>\n   <g id=\"line2d_14\">\n    <path clip-path=\"url(#p87c4327944)\" d=\"M 189.881818 412.598125 \nL 189.881818 36.572515 \nL 194.109091 36.572515 \nL 194.109091 26.722424 \nL 198.336364 26.722424 \nL 198.336364 24.496364 \nL 206.790909 24.528833 \nL 206.790909 25.670018 \nL 211.018182 25.670018 \nL 211.018182 27.466026 \nL 215.245455 27.466026 \nL 215.245455 29.690498 \nL 219.472727 29.690498 \nL 219.472727 32.247729 \nL 223.7 32.247729 \nL 223.7 35.064276 \nL 227.927273 35.064276 \nL 227.927273 38.093719 \nL 232.154545 38.093719 \nL 232.154545 41.286803 \nL 236.381818 41.286803 \nL 236.381818 43.752553 \nL 240.609091 43.752553 \nL 240.609091 44.962642 \nL 244.836364 44.962642 \nL 244.836364 47.054213 \nL 249.063636 47.054213 \nL 249.063636 49.464197 \nL 253.290909 49.464197 \nL 253.290909 52.358368 \nL 257.518182 52.358368 \nL 257.518182 55.539995 \nL 261.745455 55.539995 \nL 261.745455 58.833008 \nL 265.972727 58.833008 \nL 265.972727 62.353652 \nL 270.2 62.353652 \nL 270.2 66.107511 \nL 274.427273 66.107511 \nL 274.427273 69.989463 \nL 278.654545 69.989463 \nL 278.654545 74.08175 \nL 282.881818 74.08175 \nL 282.881818 78.33033 \nL 287.109091 78.33033 \nL 287.109091 82.777892 \nL 291.336364 82.777892 \nL 291.336364 87.439544 \nL 295.563636 87.439544 \nL 295.563636 92.121405 \nL 299.790909 92.121405 \nL 299.790909 97.062625 \nL 304.018182 97.062625 \nL 304.018182 101.908839 \nL 308.245455 101.908839 \nL 308.245455 106.677135 \nL 312.472727 106.677135 \nL 312.472727 111.460359 \nL 316.7 111.460359 \nL 316.7 116.162332 \nL 320.927273 116.162332 \nL 320.927273 120.675012 \nL 325.154545 120.675012 \nL 325.154545 125.116964 \nL 329.381818 125.116964 \nL 329.381818 129.356709 \nL 333.609091 129.356709 \nL 333.609091 133.369362 \nL 337.836364 133.369362 \nL 337.836364 137.359886 \nL 342.063636 137.359886 \nL 342.063636 141.147846 \nL 346.290909 141.147846 \nL 346.290909 144.757566 \nL 350.518182 144.757566 \nL 350.518182 148.419696 \nL 354.745455 148.419696 \nL 354.745455 151.949461 \nL 358.972727 151.949461 \nL 358.972727 155.417816 \nL 363.2 155.417816 \nL 363.2 158.95172 \nL 367.427273 158.95172 \nL 367.427273 162.419925 \nL 371.654545 162.419925 \nL 371.654545 165.881737 \nL 375.881818 165.881737 \nL 375.881818 169.384369 \nL 380.109091 169.384369 \nL 380.109091 172.858651 \nL 384.336364 172.858651 \nL 384.336364 176.352015 \nL 388.563636 176.352015 \nL 388.563636 179.89884 \nL 392.790909 179.89884 \nL 392.790909 183.385043 \nL 397.018182 183.385043 \nL 397.018182 186.948953 \nL 401.245455 186.948953 \nL 401.245455 191.545566 \nL 405.472727 191.545566 \nL 405.472727 196.138075 \nL 409.7 196.138075 \nL 409.7 200.729565 \nL 413.927273 200.729565 \nL 413.927273 205.320259 \nL 418.154545 205.320259 \nL 418.154545 209.910176 \nL 422.381818 209.910176 \nL 422.381818 214.49993 \nL 426.609091 214.49993 \nL 426.609091 219.089409 \nL 430.836364 219.089409 \nL 430.836364 223.678702 \nL 435.063636 223.678702 \nL 435.063636 228.267805 \nL 439.290909 228.267805 \nL 439.290909 232.85664 \nL 443.518182 232.85664 \nL 443.518182 237.445146 \nL 447.745455 237.445146 \nL 447.745455 242.033318 \nL 451.972727 242.033318 \nL 451.972727 246.621231 \nL 456.2 246.621231 \nL 456.2 251.208882 \nL 460.427273 251.208882 \nL 460.427273 255.796185 \nL 464.654545 255.796185 \nL 464.654545 260.382963 \nL 468.881818 260.382963 \nL 468.881818 264.969578 \nL 473.109091 264.969578 \nL 473.109091 269.55585 \nL 477.336364 269.55585 \nL 477.336364 274.141806 \nL 481.563636 274.141806 \nL 481.563636 278.727563 \nL 485.790909 278.727563 \nL 485.790909 283.313132 \nL 490.018182 283.313132 \nL 490.018182 287.898548 \nL 494.245455 287.898548 \nL 494.245455 292.483821 \nL 498.472727 292.483821 \nL 498.472727 297.068941 \nL 502.7 297.068941 \nL 502.7 301.653962 \nL 506.927273 301.653962 \nL 506.927273 306.238887 \nL 511.154545 306.238887 \nL 511.154545 310.82376 \nL 515.381818 310.82376 \nL 515.381818 315.408503 \nL 519.609091 315.408503 \nL 519.609091 319.993296 \nL 523.836364 319.993296 \nL 523.836364 324.577984 \nL 528.063636 324.577984 \nL 528.063636 329.162634 \nL 532.290909 329.162634 \nL 532.290909 333.747253 \nL 536.518182 333.747253 \nL 536.518182 338.331852 \nL 540.745455 338.331852 \nL 540.745455 342.916439 \nL 544.972727 342.916439 \nL 544.972727 347.501011 \nL 549.2 347.501011 \nL 549.2 352.085562 \nL 553.427273 352.085562 \nL 553.427273 356.670094 \nL 557.654545 356.670094 \nL 557.654545 361.254614 \nL 561.881818 361.254614 \nL 561.881818 365.839126 \nL 566.109091 365.839126 \nL 566.109091 370.423636 \nL 570.336364 370.423636 \nL 570.336364 370.423636 \n\" style=\"fill:none;stroke:#ff7f0e;stroke-linecap:square;stroke-width:1.5;\"/>\n   </g>\n   <g id=\"line2d_15\">\n    <path clip-path=\"url(#p87c4327944)\" d=\"M 189.881818 412.598125 \nL 189.881818 224.45236 \nL 194.109091 224.45236 \nL 194.109091 213.094822 \nL 198.336364 213.094822 \nL 198.336364 209.32917 \nL 202.563636 209.32917 \nL 202.563636 207.77589 \nL 206.790909 207.77589 \nL 206.790909 207.275135 \nL 215.245455 207.378904 \nL 215.245455 207.866988 \nL 219.472727 207.866988 \nL 219.472727 208.61521 \nL 223.7 208.61521 \nL 223.7 209.54703 \nL 227.927273 209.54703 \nL 227.927273 210.612272 \nL 232.154545 210.612272 \nL 232.154545 211.76545 \nL 236.381818 211.76545 \nL 236.381818 212.183502 \nL 240.609091 212.183502 \nL 240.609091 211.280591 \nL 253.290909 211.293125 \nL 253.290909 211.745546 \nL 257.518182 211.745546 \nL 257.518182 212.366451 \nL 261.745455 212.366451 \nL 261.745455 212.996621 \nL 265.972727 212.996621 \nL 265.972727 213.779761 \nL 270.2 213.779761 \nL 270.2 214.80989 \nL 274.427273 214.80989 \nL 274.427273 215.852743 \nL 278.654545 215.852743 \nL 278.654545 217.042248 \nL 282.881818 217.042248 \nL 282.881818 218.367865 \nL 287.109091 218.367865 \nL 287.109091 219.820439 \nL 291.336364 219.820439 \nL 291.336364 219.213822 \nL 295.563636 219.213822 \nL 295.563636 206.994253 \nL 299.790909 206.994253 \nL 299.790909 191.304443 \nL 304.018182 191.304443 \nL 304.018182 180.165299 \nL 308.245455 180.165299 \nL 308.245455 173.382443 \nL 312.472727 173.382443 \nL 312.472727 169.532833 \nL 316.7 169.532833 \nL 316.7 167.429169 \nL 320.927273 167.429169 \nL 320.927273 166.17247 \nL 325.154545 166.17247 \nL 325.154545 165.361556 \nL 329.381818 165.361556 \nL 329.381818 164.273747 \nL 333.609091 164.273747 \nL 333.609091 162.290473 \nL 337.836364 162.290473 \nL 337.836364 158.968221 \nL 342.063636 158.968221 \nL 342.063636 153.805549 \nL 346.290909 153.805549 \nL 346.290909 147.080701 \nL 350.518182 147.080701 \nL 350.518182 139.777875 \nL 354.745455 139.777875 \nL 354.745455 132.038179 \nL 358.972727 132.038179 \nL 358.972727 412.598125 \nL 358.972727 412.598125 \n\" style=\"fill:none;stroke:#2ca02c;stroke-linecap:square;stroke-width:1.5;\"/>\n   </g>\n   <g id=\"line2d_16\">\n    <path clip-path=\"url(#p87c4327944)\" d=\"M 189.881818 412.598125 \nL 189.881818 297.864451 \nL 194.109091 297.864451 \nL 194.109091 286.506913 \nL 198.336364 286.506913 \nL 198.336364 282.741262 \nL 202.563636 282.741262 \nL 202.563636 281.187985 \nL 206.790909 281.187985 \nL 206.790909 280.687237 \nL 215.245455 280.791018 \nL 215.245455 281.279127 \nL 219.472727 281.279127 \nL 219.472727 282.027296 \nL 223.7 282.027296 \nL 223.7 282.90988 \nL 227.927273 282.90988 \nL 227.927273 281.647196 \nL 232.154545 281.647196 \nL 232.154545 268.809466 \nL 236.381818 268.809466 \nL 236.381818 251.490095 \nL 240.609091 251.490095 \nL 240.609091 237.390369 \nL 244.836364 237.390369 \nL 244.836364 228.357504 \nL 249.063636 228.357504 \nL 249.063636 222.307851 \nL 253.290909 222.307851 \nL 253.290909 218.234485 \nL 257.518182 218.234485 \nL 257.518182 215.12521 \nL 261.745455 215.12521 \nL 261.745455 212.294287 \nL 265.972727 212.294287 \nL 265.972727 209.284009 \nL 270.2 209.284009 \nL 270.2 205.590875 \nL 274.427273 205.590875 \nL 274.427273 200.361511 \nL 278.654545 200.361511 \nL 278.654545 193.435897 \nL 282.881818 193.435897 \nL 282.881818 185.082998 \nL 287.109091 185.082998 \nL 287.109091 176.133636 \nL 291.336364 176.133636 \nL 291.336364 167.010638 \nL 295.563636 167.010638 \nL 295.563636 412.598125 \nL 295.563636 412.598125 \n\" style=\"fill:none;stroke:#d62728;stroke-linecap:square;stroke-width:1.5;\"/>\n   </g>\n   <g id=\"patch_3\">\n    <path d=\"M 37.7 387.72 \nL 37.7 7.2 \n\" style=\"fill:none;stroke:#000000;stroke-linecap:square;stroke-linejoin:miter;stroke-width:0.8;\"/>\n   </g>\n   <g id=\"patch_4\">\n    <path d=\"M 595.7 387.72 \nL 595.7 7.2 \n\" style=\"fill:none;stroke:#000000;stroke-linecap:square;stroke-linejoin:miter;stroke-width:0.8;\"/>\n   </g>\n   <g id=\"patch_5\">\n    <path d=\"M 37.7 387.72 \nL 595.7 387.72 \n\" style=\"fill:none;stroke:#000000;stroke-linecap:square;stroke-linejoin:miter;stroke-width:0.8;\"/>\n   </g>\n   <g id=\"patch_6\">\n    <path d=\"M 37.7 7.2 \nL 595.7 7.2 \n\" style=\"fill:none;stroke:#000000;stroke-linecap:square;stroke-linejoin:miter;stroke-width:0.8;\"/>\n   </g>\n  </g>\n </g>\n <defs>\n  <clipPath id=\"p87c4327944\">\n   <rect height=\"380.52\" width=\"558\" x=\"37.7\" y=\"7.2\"/>\n  </clipPath>\n </defs>\n</svg>\n",
      "image/png": "[encoded data removed]"
     },
     "metadata": {
      "needs_background": "light"
     }
    }
   ],
   "metadata": {
    "scrolled": true
   }
  },
  {
   "cell_type": "code",
   "execution_count": null,
   "source": [
    "test_chi2 = {}\n",
    "for i in config[\"pone\"][\"specific particle scaling\"].keys():\n",
    "    test_chi2[i] = np.array([[\n",
    "        (pdm._limit_calc._signal_counts[mass_grid[mass_id]][sv_grid[sv_id]]**2.)[pdm._limit_calc._t_d:] /\n",
    "        pdm._limit_calc._bkgrd[i][pdm._limit_calc._t_d:] for mass_id in range(0, len(mass_grid))\n",
    "    ] for sv_id in range(0, len(sv_grid))])"
   ],
   "outputs": [],
   "metadata": {}
  },
  {
   "cell_type": "code",
   "execution_count": null,
   "source": [
    "CL_test = {}\n",
    "for i in config[\"pone\"][\"specific particle scaling\"].keys():\n",
    "    CL_test[i] = np.array([[\n",
    "        1. - chi2.sf(np.sum(np.nan_to_num(SoB)), 2) for SoB in line\n",
    "    ] for line in test_chi2[i]])"
   ],
   "outputs": [],
   "metadata": {}
  },
  {
   "cell_type": "code",
   "execution_count": null,
   "source": [
    "# Loading comparison data\n",
    "cl_lit = np.loadtxt('../data/CL_PONE.csv', delimiter=\",\")\n",
    "cl_lit = (cl_lit[cl_lit[:, 0].argsort()])"
   ],
   "outputs": [],
   "metadata": {}
  },
  {
   "cell_type": "code",
   "execution_count": null,
   "source": [
    "for j,i in enumerate(config[\"pone\"][\"specific particle scaling\"].keys()):\n",
    "    # Limits\n",
    "    # ---------------------------------------------\n",
    "    # Setup\n",
    "\n",
    "    figure, (ax1) = plt.subplots(1, 1, figsize=(std_size, std_size * 6. / 8.), sharex=True)\n",
    "    # ---------------------------------------------\n",
    "    # Plotting\n",
    "    plt.title(name[j],fontsize=fontsize)\n",
    "    ax1.contour(1 - pdm.results[i], levels = [0.9], colors='purple',\n",
    "                origin='upper', extent=(min(np.log10(mass_grid)), max(np.log10(mass_grid)),\n",
    "                                        min(np.log10(sv_grid)), max(np.log10(sv_grid))))\n",
    "    pos = ax1.imshow(1 - pdm.results[i], extent=(min(np.log10(mass_grid)), max(np.log10(mass_grid)),\n",
    "                                              min(np.log10(sv_grid)), max(np.log10(sv_grid))),\n",
    "                     origin='upper', aspect='auto',cmap=plt.cm.afmhot)\n",
    "    figure.colorbar(pos, ax=ax1)\n",
    "    ax1.plot(np.log10(cl_lit[:, 0]), np.log10(cl_lit[:, 1]), 'g', label='literature 90% C.L')\n",
    "    # ---------------------------------------------\n",
    "    # Axis options\n",
    "    ax1.set_xscale(\"linear\")\n",
    "    ax1.set_yscale(\"linear\")\n",
    "    ax1.set_xlabel(r\"$\\log m_{\\chi}$\", fontsize=fontsize)\n",
    "    ax1.set_ylabel(r\"$\\log<\\sigma \\nu$>\", fontsize=fontsize)\n",
    "    ax1.tick_params(axis = 'both', which = 'major', labelsize=fontsize, direction='in')\n",
    "    ax1.tick_params(axis = 'both', which = 'minor', labelsize=fontsize, direction='in')\n",
    "    ax1.set_xlim(min(np.log10(mass_grid)), max(np.log10(mass_grid)))\n",
    "    ax1.set_ylim(min(np.log10(sv_grid)), max(np.log10(sv_grid)))\n",
    "    # ---------------------------------------------\n",
    "    # Legend\n",
    "    # plt.legend(fontsize=fontsize)\n",
    "    h, l = ax1.get_legend_handles_labels()\n",
    "    lgd1 = ax1.legend(h, l, loc=9, bbox_to_anchor=(0.5, +0.8),\n",
    "                     ncol=2, fontsize=fontsize, handlelength=h_length,\n",
    "                     fancybox=True, frameon=False)\n",
    "    ax1.add_artist(lgd1)\n",
    "    # ---------------------------------------------\n",
    "    # Showing the image\n",
    "    plt.show()\n",
    "    # ---------------------------------------------\n",
    "    # Storing the image\n",
    "    figure.savefig(PICS + \"Limits_Example_\"+i+\".png\",\n",
    "                   bbox_inches='tight', dpi=export_dpi)"
   ],
   "outputs": [],
   "metadata": {}
  },
  {
   "cell_type": "code",
   "execution_count": null,
   "source": [
    "# All Limits-------------------------------------------\n",
    "# Setup\n",
    "figure, (ax1) = plt.subplots(1, 1, figsize=(std_size, std_size * 6. / 8.), sharex=True)\n",
    "# ---------------------------------------------\n",
    "# Plotting\n",
    "ax1.contour(1 - pdm.results[\"numu\"], levels = [0.9], colors='purple', linestyles='-',\n",
    "            origin='upper', extent=(min(np.log10(mass_grid)), max(np.log10(mass_grid)),\n",
    "                                    min(np.log10(sv_grid)), max(np.log10(sv_grid))))\n",
    "ax1.contour(1 - pdm.results[\"nue\"], levels = [0.9], colors='purple', linestyles='--',\n",
    "            origin='upper', extent=(min(np.log10(mass_grid)), max(np.log10(mass_grid)),\n",
    "                                    min(np.log10(sv_grid)), max(np.log10(sv_grid))))\n",
    "ax1.contour(1 - pdm.results[\"nutau\"], levels = [0.9], colors='purple', linestyles='-.',\n",
    "            origin='upper', extent=(min(np.log10(mass_grid)), max(np.log10(mass_grid)),\n",
    "                                    min(np.log10(sv_grid)), max(np.log10(sv_grid))))\n",
    "ax1.plot(np.log10(cl_lit[:, 0]), np.log10(cl_lit[:, 1]), 'g', label='literature 90% C.L')\n",
    "ax1.plot(np.log10(th_cl[:, 0]), np.log10(th_cl[:, 1]), 'b', \n",
    "         label='literature Thermal Relic Abundance')\n",
    "# ---------------------------------------------\n",
    "# Axis options\n",
    "ax1.set_xscale(\"linear\")\n",
    "ax1.set_yscale(\"linear\")\n",
    "ax1.set_xlabel(r\"log $m_{\\chi}$\", fontsize=fontsize)\n",
    "ax1.set_ylabel(r\"log <$\\sigma\\nu$>\", fontsize=fontsize)\n",
    "ax1.tick_params(axis = 'both', which = 'major', labelsize=fontsize-5, direction='in')\n",
    "ax1.tick_params(axis = 'both', which = 'minor', labelsize=fontsize-5, direction='in')\n",
    "ax1.set_xlim(min(np.log10(mass_grid)), max(np.log10(mass_grid)))\n",
    "ax1.set_ylim(min(np.log10(sv_grid)),-23.0)\n",
    "# ---------------------------------------------\n",
    "# Legend\n",
    "# plt.legend(fontsize=fontsize)\n",
    "h, l = ax1.get_legend_handles_labels()\n",
    "lgd1 = ax1.legend(h, l, loc=9, bbox_to_anchor=(0.4, +1.),\n",
    "                 ncol=1, fontsize=fontsize-3, handlelength=h_length,\n",
    "                 fancybox=True, frameon=False)\n",
    "ax1.add_artist(lgd1)\n",
    "# ---------------------------------------------\n",
    "ax1.text(3.2, -24.3, r\"$\\nu_\\mu$\", fontsize=fontsize)\n",
    "ax1.text(3.2, -24.9, r\"$\\nu_e$\", fontsize=fontsize)\n",
    "ax1.text(3.1, -25.3, r\"$\\nu_\\tau$\", fontsize=fontsize)\n",
    "ax1.text(4.2, -25.5, \"Thermal Relic Abundance\", fontsize=fontsize)\n",
    "plt.grid()\n",
    "# ---------------------------------------------\n",
    "# Showing the image\n",
    "plt.show()\n",
    "# ---------------------------------------------\n",
    "# Storing the image\n",
    "figure.savefig(PICS + \"All_Limits.png\",\n",
    "               bbox_inches='tight', dpi=export_dpi)"
   ],
   "outputs": [],
   "metadata": {}
  },
  {
   "cell_type": "code",
   "execution_count": null,
   "source": [],
   "outputs": [],
   "metadata": {}
  }
 ],
 "metadata": {
  "kernelspec": {
   "name": "python3",
   "display_name": "Python 3.9.5 64-bit ('pdm': conda)"
  },
  "language_info": {
   "codemirror_mode": {
    "name": "ipython",
    "version": 3
   },
   "file_extension": ".py",
   "mimetype": "text/x-python",
   "name": "python",
   "nbconvert_exporter": "python",
   "pygments_lexer": "ipython3",
   "version": "3.9.5"
  },
  "interpreter": {
   "hash": "3a7673f786b35a19d50e5cf2cf3b9e2e95b6450e9b11bcd8718b86195d64c4be"
  }
 },
 "nbformat": 4,
 "nbformat_minor": 5
}