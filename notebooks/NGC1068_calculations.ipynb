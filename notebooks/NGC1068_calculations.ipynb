{
 "cells": [
  {
   "cell_type": "code",
   "execution_count": 1,
   "metadata": {},
   "outputs": [],
   "source": [
    "%matplotlib inline\n",
    "import os,time\n",
    "import numpy as np\n",
    "import matplotlib.pyplot as plt \n",
    "import pandas as pd\n",
    "from numpy import load\n",
    "import scipy.integrate as integrate\n",
    "from IPython.display import display, Math"
   ]
  },
  {
   "cell_type": "markdown",
   "metadata": {},
   "source": [
    "### 1.Estimate $r_s$ and $\\rho_s$ ###"
   ]
  },
  {
   "cell_type": "code",
   "execution_count": 2,
   "metadata": {},
   "outputs": [
    {
     "data": {
      "text/plain": [
       "(array([10.19517206, 10.66889231, 11.73483422, 12.50467956, 13.27458198,\n",
       "        14.38329624]),\n",
       " array([1.27171717, 1.24141414, 1.17575758, 1.12828283, 1.08282828,\n",
       "        1.03131313]))"
      ]
     },
     "execution_count": 2,
     "metadata": {},
     "output_type": "execute_result"
    }
   ],
   "source": [
    "#data extract from plot. Reference Prada's paper\n",
    "raw_data=np.asarray([241710902106662.06, 1.0313131313131314,\n",
    "18818368905895.32, 1.082828282828283,\n",
    "3196535735740.5576, 1.1282828282828283,\n",
    "543042997516.4798, 1.1757575757575758,\n",
    "46654368246.511154, 1.2414141414141415,\n",
    "15673719113.755852, 1.2717171717171718])\n",
    "\n",
    "even_index = np.arange(0,len(raw_data),2)\n",
    "odd_index = np.arange(1,len(raw_data)+1,2)\n",
    "x_data = np.sort(raw_data[even_index])\n",
    "logx = np.log10(x_data)\n",
    "y_data = np.sort(raw_data[odd_index])[::-1]\n",
    "logx,y_data"
   ]
  },
  {
   "cell_type": "code",
   "execution_count": 3,
   "metadata": {},
   "outputs": [],
   "source": [
    "error_raw_data = np.asarray([11339277979487.898, 1.0949494949494951,\n",
    "11552088393356.969, 1.0808080808080809,\n",
    "11543742487270.742, 1.0696969696969698,\n",
    "6201972239258.078, 1.1181818181818184,\n",
    "6319613541701.501, 1.107070707070707,\n",
    "6439486307864.316, 1.095959595959596,\n",
    "3809975794380.673, 1.1272727272727274,\n",
    "3883010110656.9927, 1.1191919191919193,\n",
    "3881224676131.749, 1.1121212121212123,\n",
    "2003827867164.7502, 1.1484848484848487,\n",
    "2002906493448.289, 1.1414141414141414,\n",
    "2041434797562.3398, 1.1343434343434344,\n",
    "1207197241317.5615, 1.1575757575757577,\n",
    "1206642163794.706, 1.1505050505050507,\n",
    "1206166586206.2786, 1.1444444444444446,\n",
    "685963269612.3024, 1.1676767676767679,\n",
    "712888719841.1057, 1.1595959595959597,\n",
    "713076096734.9534, 1.1636363636363638])\n",
    "\n",
    "x_pos_1 = np.arange(0,len(error_raw_data),6)\n",
    "x_pos_2 = np.arange(0,len(error_raw_data),6)+2\n",
    "x_pos_3 = np.arange(0,len(error_raw_data),6)+4\n",
    "x_pos = (error_raw_data[x_pos_1]+error_raw_data[x_pos_2]+error_raw_data[x_pos_3])/3\n",
    "y_pos_index = np.arange(0,len(error_raw_data),6)+3\n",
    "y_pos = error_raw_data[y_pos_index]\n",
    "errorbar_pos_1 = np.arange(0,len(error_raw_data),6)+1\n",
    "errorbar_pos_2 = np.arange(0,len(error_raw_data),6)+3\n",
    "errorbar = (error_raw_data[errorbar_pos_1]-error_raw_data[errorbar_pos_2])"
   ]
  },
  {
   "cell_type": "code",
   "execution_count": 4,
   "metadata": {},
   "outputs": [
    {
     "data": {
      "text/plain": [
       "1.3357024093064997"
      ]
     },
     "execution_count": 4,
     "metadata": {},
     "output_type": "execute_result"
    }
   ],
   "source": [
    "#extrapolate the data, expect (log(x))**2 = y\n",
    "poly_1 = np.polyfit(logx[:], y_data[:],deg=3)\n",
    "ngc_mass = 1e9\n",
    "y_fit_1 = np.polyval(poly_1,np.log10(ngc_mass))\n",
    "y_fit_1"
   ]
  },
  {
   "cell_type": "code",
   "execution_count": 5,
   "metadata": {},
   "outputs": [
    {
     "data": {
      "text/plain": [
       "1.3997001960043007"
      ]
     },
     "execution_count": 5,
     "metadata": {},
     "output_type": "execute_result"
    }
   ],
   "source": [
    "#consider errorbar upper limit\n",
    "y_data_upper = np.copy(y_data)\n",
    "y_data_upper[-2] -=0.06\n",
    "y_data_upper[-3] -=0.01\n",
    "y_data_upper\n",
    "\n",
    "poly_2 = np.polyfit(logx[:], y_data_upper,deg=2)\n",
    "ngc_mass = 1e9\n",
    "y_fit_2 = np.polyval(poly_2,np.log10(ngc_mass))\n",
    "y_fit_2"
   ]
  },
  {
   "cell_type": "code",
   "execution_count": 6,
   "metadata": {},
   "outputs": [
    {
     "data": {
      "text/plain": [
       "1.3661885167771677"
      ]
     },
     "execution_count": 6,
     "metadata": {},
     "output_type": "execute_result"
    }
   ],
   "source": [
    "#consider errorbar upper limit\n",
    "y_data_lower = np.copy(y_data)\n",
    "y_data_lower[-1] +=0.02\n",
    "y_data_lower[-2] +=0.01\n",
    "\n",
    "#extrapolate the data, expect (log(x))**2 = y\n",
    "poly_3 = np.polyfit(logx[:], y_data_lower,deg=2)\n",
    "ngc_mass = 1e9\n",
    "y_fit_3 = np.polyval(poly_3,np.log10(ngc_mass))\n",
    "y_fit_3"
   ]
  },
  {
   "cell_type": "code",
   "execution_count": 7,
   "metadata": {},
   "outputs": [
    {
     "data": {
      "text/plain": [
       "<matplotlib.legend.Legend at 0x7ff6ec751580>"
      ]
     },
     "execution_count": 7,
     "metadata": {},
     "output_type": "execute_result"
    },
    {
     "data": {
      "image/png": "[encoded data removed]",
      "text/plain": [
       "<Figure size 432x288 with 1 Axes>"
      ]
     },
     "metadata": {
      "needs_background": "light"
     },
     "output_type": "display_data"
    }
   ],
   "source": [
    "plt.plot(x_data,y_data,'bo')\n",
    "\n",
    "plt.plot(x_data,np.polyval(poly_1, np.log10(x_data)),'b-',label='polyfit averaged')\n",
    "plt.plot(x_data,np.polyval(poly_2, np.log10(x_data)),'r--',label='polyfit upper limit')\n",
    "plt.plot(x_data,np.polyval(poly_3, np.log10(x_data)),'r--',label='polyfit lower limit')\n",
    "#plt.fill_between(x_data, np.polyval(poly_2, np.log10(x_data)), np.polyval(poly_3, np.log10(x_data)),alpha=0.5)\n",
    "\n",
    "plt.xscale('log')\n",
    "plt.xlabel(r'$M_\\odot$')\n",
    "plt.ylabel(r'$V_{max}/V_{200}$')\n",
    "plt.scatter(ngc_mass,y_fit_1,marker='*',label=('M=NGC1068'))\n",
    "plt.errorbar(x_pos,y_pos,yerr=errorbar,ls='none',fmt='o', capsize=3,label=\"error\")\n",
    "plt.legend()"
   ]
  },
  {
   "cell_type": "code",
   "execution_count": 8,
   "metadata": {},
   "outputs": [],
   "source": [
    "#above conclusion\n",
    "V_ratio = [1.36,1.39]"
   ]
  },
  {
   "cell_type": "code",
   "execution_count": 9,
   "metadata": {},
   "outputs": [
    {
     "name": "stdout",
     "output_type": "stream",
     "text": [
      "[17.75257294]\n"
     ]
    },
    {
     "data": {
      "text/plain": [
       "array([ True])"
      ]
     },
     "execution_count": 9,
     "metadata": {},
     "output_type": "execute_result"
    }
   ],
   "source": [
    "from scipy.optimize import fsolve\n",
    "def func(x):\n",
    "    return (0.216*x/(np.log(1+x)-x/(1+x)))**0.5-V_ratio[1]\n",
    "root = fsolve(func, 13)\n",
    "print(root)\n",
    "np.isclose(func(root), 0)  # func(root) should be almost 0.0."
   ]
  },
  {
   "cell_type": "code",
   "execution_count": 10,
   "metadata": {},
   "outputs": [],
   "source": [
    "#take NGC1068 morpholohy data from NED database\n",
    "M_200 = 0.9e9\n",
    "R_200 = [14.91,27.7] #for gamma>2.5 and gamma =1\n",
    "\n",
    "c = np.asarray([16.38,17.75])\n",
    "r_s = R_200[0]/c\n",
    "gamma = 1"
   ]
  },
  {
   "cell_type": "code",
   "execution_count": 11,
   "metadata": {},
   "outputs": [
    {
     "data": {
      "text/latex": [
       "$\\displaystyle \\rho_s=624279247.0183218 M_\\odot/kpc^3$"
      ],
      "text/plain": [
       "<IPython.core.display.Math object>"
      ]
     },
     "metadata": {},
     "output_type": "display_data"
    }
   ],
   "source": [
    "int_NFW = integrate.quad(lambda x: x**2/( (x/0.91) * (1+x/0.91)**2 ), 0, 14.91)\n",
    "rho_s = M_200/int_NFW[0]\n",
    "display(Math(r'$\\rho_s={} M_\\odot/kpc^3$'.format(str(rho_s))))\n",
    "#galaxy 4e7\n",
    "rho_s_GeV = 0.181*rho_s/4e7 #unit GeV/cm^3"
   ]
  },
  {
   "cell_type": "markdown",
   "metadata": {},
   "source": [
    "### 2.load MadDM and Pythia dN/dE spectrum data ###"
   ]
  },
  {
   "cell_type": "code",
   "execution_count": 12,
   "metadata": {},
   "outputs": [
    {
     "name": "stdout",
     "output_type": "stream",
     "text": [
      "6.425608182609789e-14\n",
      "7.959683361904154e-09\n"
     ]
    }
   ],
   "source": [
    "#list out all parameters and data, some parameter are calculated in different script\n",
    "\n",
    "#dm properties. Reference: Carlos' paper\n",
    "dm_mass = [1e3,1e4] # unit GeV\n",
    "sigma_v_1TeV = 9e-24 #above were excluded, unit cm^3/s\n",
    "sigma_v_10TeV = 2e-23 #above were excluded\n",
    "\n",
    "#spectrum propagation\n",
    "J_NGCplane = 7.959683361904154e+22 #average J for NGC1068 galaxy plane unit GeV^2/cm^5\n",
    "G = 0.99 #attenuation of neutrino\n",
    "cosmo_scale = J_NGCplane*G\n",
    "\n",
    "#particle properties\n",
    "sigmav = sigma_v_10TeV\n",
    "m_chi = dm_mass[1]\n",
    "\n",
    "#cosmology properties\n",
    "rho_D = rho_s\n",
    "D = r_s[0]   #here convert to cm\n",
    "D_cm = r_s[0]*3.08e21\n",
    "gamma = 1\n",
    "gamma_sp = 2.5\n",
    "R_spike = 0.1\n",
    "R_core = 1\n",
    "R_s=0.2\n",
    "R_in = 1.5*np.sqrt((20*R_s)**2+R_core**2)\n",
    "\n",
    "\n",
    "#eq16\n",
    "spike_scale = (rho_s_GeV**2 * sigma_v_10TeV *D_cm /2/m_chi**2) * ((R_spike/D)**(3-2*gamma))* ((R_spike/R_in)**(2*gamma_sp-3))\n",
    "print(spike_scale)\n",
    "\n",
    "#diffuse\n",
    "plane_scale=J_NGCplane*sigma_v_10TeV/2/m_chi**2\n",
    "print(plane_scale)"
   ]
  },
  {
   "cell_type": "markdown",
   "metadata": {},
   "source": [
    "### 3.J-factor, G-factor and Flux according to eq.(16) ###"
   ]
  },
  {
   "cell_type": "code",
   "execution_count": 13,
   "metadata": {},
   "outputs": [
    {
     "ename": "FileNotFoundError",
     "evalue": "[Errno 2] No such file or directory: '../data/energy_grid.npy'",
     "output_type": "error",
     "traceback": [
      "\u001b[0;31m---------------------------------------------------------------------------\u001b[0m",
      "\u001b[0;31mFileNotFoundError\u001b[0m                         Traceback (most recent call last)",
      "\u001b[1;32m/home/kruteesh/Desktop/DM_nu_simulation_P-One/PONE_git/pone_work/notebooks/NGC1068_calculations.ipynb Cell 16'\u001b[0m in \u001b[0;36m<cell line: 2>\u001b[0;34m()\u001b[0m\n\u001b[1;32m      <a href='vscode-notebook-cell:/home/kruteesh/Desktop/DM_nu_simulation_P-One/PONE_git/pone_work/notebooks/NGC1068_calculations.ipynb#ch0000015?line=0'>1</a>\u001b[0m \u001b[39m#spectrum generate by charon,unit of the axis is x=E/M, convert unit to E\u001b[39;00m\n\u001b[0;32m----> <a href='vscode-notebook-cell:/home/kruteesh/Desktop/DM_nu_simulation_P-One/PONE_git/pone_work/notebooks/NGC1068_calculations.ipynb#ch0000015?line=1'>2</a>\u001b[0m x \u001b[39m=\u001b[39m load(\u001b[39m'\u001b[39;49m\u001b[39m../data/energy_grid.npy\u001b[39;49m\u001b[39m'\u001b[39;49m)\u001b[39m*\u001b[39mdm_mass[\u001b[39m1\u001b[39m]\n\u001b[1;32m      <a href='vscode-notebook-cell:/home/kruteesh/Desktop/DM_nu_simulation_P-One/PONE_git/pone_work/notebooks/NGC1068_calculations.ipynb#ch0000015?line=2'>3</a>\u001b[0m y \u001b[39m=\u001b[39m load(\u001b[39m'\u001b[39m\u001b[39m../data/channel_bb_mass_10000.0_Halo_init.npy\u001b[39m\u001b[39m'\u001b[39m)\n\u001b[1;32m      <a href='vscode-notebook-cell:/home/kruteesh/Desktop/DM_nu_simulation_P-One/PONE_git/pone_work/notebooks/NGC1068_calculations.ipynb#ch0000015?line=3'>4</a>\u001b[0m y1 \u001b[39m=\u001b[39m y[\u001b[39m'\u001b[39m\u001b[39mnu_mu\u001b[39m\u001b[39m'\u001b[39m]\u001b[39m+\u001b[39my[\u001b[39m'\u001b[39m\u001b[39mnu_mu_bar\u001b[39m\u001b[39m'\u001b[39m]\u001b[39m/\u001b[39mdm_mass[\u001b[39m1\u001b[39m]\n",
      "File \u001b[0;32m~/miniconda3/envs/pdm/lib/python3.9/site-packages/numpy/lib/npyio.py:417\u001b[0m, in \u001b[0;36mload\u001b[0;34m(file, mmap_mode, allow_pickle, fix_imports, encoding)\u001b[0m\n\u001b[1;32m    415\u001b[0m     own_fid \u001b[39m=\u001b[39m \u001b[39mFalse\u001b[39;00m\n\u001b[1;32m    416\u001b[0m \u001b[39melse\u001b[39;00m:\n\u001b[0;32m--> 417\u001b[0m     fid \u001b[39m=\u001b[39m stack\u001b[39m.\u001b[39menter_context(\u001b[39mopen\u001b[39;49m(os_fspath(file), \u001b[39m\"\u001b[39;49m\u001b[39mrb\u001b[39;49m\u001b[39m\"\u001b[39;49m))\n\u001b[1;32m    418\u001b[0m     own_fid \u001b[39m=\u001b[39m \u001b[39mTrue\u001b[39;00m\n\u001b[1;32m    420\u001b[0m \u001b[39m# Code to distinguish from NumPy binary files and pickles.\u001b[39;00m\n",
      "\u001b[0;31mFileNotFoundError\u001b[0m: [Errno 2] No such file or directory: '../data/energy_grid.npy'"
     ]
    }
   ],
   "source": [
    "#spectrum generate by charon,unit of the axis is x=E/M, convert unit to E\n",
    "x = load('../data/energy_grid.npy')*dm_mass[1]\n",
    "y = load('../data/channel_bb_mass_10000.0_Halo_init.npy')\n",
    "y1 = y['nu_mu']+y['nu_mu_bar']/dm_mass[1]\n",
    "plt.plot(x, x**2 * y1,'b.',label='bb channel, dm mass=10TeV')\n",
    "plt.xlim([1e3,1e4])\n",
    "plt.yscale('log')\n",
    "plt.xlabel(r\"$E [GeV]$\")\n",
    "plt.ylabel(r\"$E2 dN/dE$\")\n",
    "plt.legend()"
   ]
  },
  {
   "cell_type": "code",
   "execution_count": null,
   "metadata": {},
   "outputs": [
    {
     "data": {
      "text/plain": [
       "<matplotlib.legend.Legend at 0x7ff5185ecb50>"
      ]
     },
     "execution_count": 114,
     "metadata": {},
     "output_type": "execute_result"
    },
    {
     "data": {
      "image/png": "[encoded data removed]",
      "text/plain": [
       "<Figure size 432x288 with 1 Axes>"
      ]
     },
     "metadata": {
      "needs_background": "light"
     },
     "output_type": "display_data"
    }
   ],
   "source": [
    "#spectrum generate by charon\n",
    "x = load('../data/energy_grid.npy')*dm_mass[1]\n",
    "y = load('../data/channel_tautau_mass_10000.0_Halo_init.npy')\n",
    "y2 = y['nu_mu']+y['nu_mu_bar']/dm_mass[1]\n",
    "plt.plot(x, x**2 * y2,'b.',label='WW channel, dm mass=1TeV')\n",
    "plt.xlim([1e3,1e4])\n",
    "plt.yscale('log')\n",
    "plt.xlabel(r\"$E [GeV]$\")\n",
    "plt.ylabel(r\"$E^2 dN/dE$\")\n",
    "plt.legend()"
   ]
  },
  {
   "cell_type": "code",
   "execution_count": null,
   "metadata": {},
   "outputs": [
    {
     "data": {
      "text/plain": [
       "<matplotlib.legend.Legend at 0x7ff519ac4ee0>"
      ]
     },
     "execution_count": 116,
     "metadata": {},
     "output_type": "execute_result"
    },
    {
     "data": {
      "image/png": "[encoded data removed]",
      "text/plain": [
       "<Figure size 432x288 with 1 Axes>"
      ]
     },
     "metadata": {
      "needs_background": "light"
     },
     "output_type": "display_data"
    }
   ],
   "source": [
    "y3=(0.3*y1+0.7*y2) #combine most hard and most soft channel\n",
    "plt.plot(x,x**2 *y3,'b.',label='semi real channel, dm mass=10TeV')\n",
    "plt.xlim([1e3,1e4])\n",
    "plt.yscale('log')\n",
    "plt.xlabel(r\"$E [GeV]$\")\n",
    "plt.ylabel(r\"$E^2 dN/dE$\")\n",
    "plt.legend()"
   ]
  },
  {
   "cell_type": "markdown",
   "metadata": {},
   "source": [
    "### 4.NGC1068 point source search fit power spectrum ###"
   ]
  },
  {
   "cell_type": "code",
   "execution_count": null,
   "metadata": {},
   "outputs": [],
   "source": [
    "x = load('../data/energy_grid.npy')\n",
    "x_true = x*dm_mass[1]"
   ]
  },
  {
   "cell_type": "code",
   "execution_count": null,
   "metadata": {},
   "outputs": [],
   "source": [
    "gamma = 3.2 #+-0.2\n",
    "Phi_0 = 5e-14 #+-1.5stat,+-0.6sys, unit TeV^-1cm^-2s^-1,only muon nu, at 1TeV, e-11 for TeV^-1 unit, e-14 for GeV-1 unit\n",
    "E_0 = 1000 #GeV\n",
    "L_nu = 2.9e42 #+-1.1,unit ergs^-1, 1.5TeV to 15TeV\n",
    "n_hat = 79 #+22-20 events"
   ]
  },
  {
   "cell_type": "code",
   "execution_count": null,
   "metadata": {},
   "outputs": [
    {
     "data": {
      "image/png": "[encoded data removed]",
      "text/plain": [
       "<Figure size 432x288 with 1 Axes>"
      ]
     },
     "metadata": {
      "needs_background": "light"
     },
     "output_type": "display_data"
    }
   ],
   "source": [
    "scale_factor=1000000\n",
    "Phi_dm = y3*plane_scale/scale_factor\n",
    "\n",
    "Phi_E_no_error = Phi_0 * (x_true/E_0)**(-gamma)\n",
    "Phi_E_upper = (Phi_0+1.5e-14+0.6e-14) * (x_true/E_0)**(-gamma-0.2)\n",
    "Phi_E_lower = (Phi_0-1.5e-14-0.6e-14) * (x_true/E_0)**(-gamma+0.2)\n",
    "\n",
    "plt.plot(x_true,x_true**2 * Phi_E_no_error,'b-',label='power law')\n",
    "plt.plot(x_true,x_true**2 * Phi_E_upper,'r--',label='power law upper limit')\n",
    "plt.plot(x_true,x_true**2 * Phi_E_lower,'r--',label='power law lower limit')\n",
    "plt.fill_between(x_true, x_true**2 * Phi_E_lower, Phi_E_upper,alpha=0.5)\n",
    "plt.plot(x_true,Phi_dm,'k-',label='dm spectrum')\n",
    "\n",
    "plt.yscale('log')\n",
    "plt.xlabel(r\"$E [GeV]$\")\n",
    "plt.xlim([1e3,1e4])\n",
    "#plt.ylim([1e-18,1e-13])\n",
    "plt.ylabel(r\"$E^2 d\\Phi(E)/dE$\")\n",
    "plt.legend()\n",
    "plt.show()"
   ]
  },
  {
   "cell_type": "markdown",
   "metadata": {},
   "source": [
    "### conclusion ###"
   ]
  },
  {
   "cell_type": "code",
   "execution_count": null,
   "metadata": {},
   "outputs": [],
   "source": []
  }
 ],
 "metadata": {
  "kernelspec": {
   "display_name": "Python 3.9.11 ('pdm')",
   "language": "python",
   "name": "python3"
  },
  "language_info": {
   "codemirror_mode": {
    "name": "ipython",
    "version": 3
   },
   "file_extension": ".py",
   "mimetype": "text/x-python",
   "name": "python",
   "nbconvert_exporter": "python",
   "pygments_lexer": "ipython3",
   "version": "3.9.11"
  },
  "vscode": {
   "interpreter": {
    "hash": "82a3a656d33f35b7f3fe77a22343614a58c995dc979ba6da45d214804d59b344"
   }
  }
 },
 "nbformat": 4,
 "nbformat_minor": 4
}
