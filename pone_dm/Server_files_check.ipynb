{
 "cells": [
  {
   "cell_type": "code",
   "execution_count": 2,
   "metadata": {},
   "outputs": [],
   "source": [
    "# Limit Calculation Likelyhood Analysis \n",
    "# Trying it out first time\n"
   ]
  },
  {
   "cell_type": "code",
   "execution_count": 3,
   "metadata": {},
   "outputs": [],
   "source": [
    "# imports\n",
    "from constants import pdm_constants as const\n",
    "from config import config\n",
    "from pone_aeff import Aeff\n",
    "from dm2nu import DM2Nu\n",
    "from atm_shower import Atm_Shower\n",
    "from detectors import Detector\n",
    "import numpy as np\n",
    "\n",
    "import matplotlib.pyplot as plt\n",
    "from matplotlib.lines import Line2D\n",
    "import matplotlib.patches as mpatches\n",
    "\n",
    "from limit_calc import Limits\n",
    "from bkgrd_calc import Background\n",
    "from signal_calc import Signal\n",
    "from pdm import PDM\n",
    "from scipy.interpolate import UnivariateSpline\n",
    "from scipy.stats import chi2\n",
    "from scipy.stats import *\n",
    "from pone_aeff import Aeff\n",
    "import pickle\n",
    "from matplotlib import rc\n",
    "\n",
    "import os\n",
    "import shutil\n",
    "def find_nearest(array, value: float):\n",
    "    \n",
    "    \"\"\" Returns: index of the nearest vlaue of an array to the given number\n",
    "    --------------\n",
    "    idx :  float\n",
    "    \"\"\"\n",
    "    array = np.array(array)\n",
    "    idx = (np.abs(array - value)).argmin()\n",
    "    return idx"
   ]
  },
  {
   "cell_type": "code",
   "execution_count": 4,
   "metadata": {},
   "outputs": [],
   "source": [
    "# picture path\n",
    "PICS = '../pics/'\n",
    "name=[r'$\\nu_{\\mu}$', r\"$\\nu_e$\", r\"$\\nu_{\\tau}$\"]  # ,r'$\\nu_{e}$',r'$\\nu_{\\tau}$'\n",
    "# Plotting standards\n",
    "std_size = 6.  # Size of the plot\n",
    "fontsize = 15.  # Fontsize in the plot\n",
    "\n",
    "h_length=1.5  # Handle length for the legends\n",
    "export_dpi = 500  # Dpi for the image export\n",
    "color_pone='#7570b3'\n",
    "color_ice='#e7298a'\n",
    "color_combined='#33a02c'\n",
    "color_thermal='#1f78b4'\n",
    "color_unitary='k'\n",
    "color_4='#1b9e77'\n",
    "color_6='#d95f02'\n",
    "color_km = '#1a9641'\n",
    "rc('font',**{'family':'sans-serif','sans-serif':['Helvetica']})\n",
    "rc('text', usetex=True)"
   ]
  },
  {
   "cell_type": "code",
   "execution_count": 5,
   "metadata": {},
   "outputs": [],
   "source": [
    "# Grids\n",
    "mass_grid = config['simulation parameters']['mass grid']\n",
    "sv_grid = config['simulation parameters']['sv grid']\n",
    "m_4_id = find_nearest(mass_grid, 1e4)\n",
    "m_6_id = find_nearest(mass_grid, 1e6)\n",
    "m_3_id = find_nearest(mass_grid, 1e3)\n",
    "m_5_id = find_nearest(mass_grid, 1e5)\n",
    "sv_56 = find_nearest(sv_grid, 2.1e-23)\n",
    "sv_7 = find_nearest(sv_grid, 7e-22)\n",
    "m_2_id = find_nearest(mass_grid, 1e2)\n",
    "# The limit calculation"
   ]
  },
  {
   "cell_type": "code",
   "execution_count": 6,
   "metadata": {},
   "outputs": [],
   "source": [
    "signal_desk = pickle.load(open('/home/kruteesh/Desktop/dm_data_server/18_04_desk/data/limits_signal_IceCube.pkl','rb'))\n",
    "signal_nu = pickle.load(open('/home/kruteesh/Desktop/dm_data_server/10_12_22_gal/data/limits_signal_grid_re_gal_\\[Tau].pkl','rb'))#'/home/kruteesh/Desktop/server_com_dm/pone_dm/data/limits_signal_grid_re_gal_All.pkl','rb'))\n",
    "background_desk = pickle.load(open('/home/kruteesh/Desktop/dm_data_server/18_04_desk/data/background_ice.pkl','rb'))\n",
    "background_DM = pickle.load(open('/home/kruteesh/Desktop/dm_data_server/18_04_DM/data/background_ice.pkl','rb'))"
   ]
  },
  {
   "cell_type": "code",
   "execution_count": 7,
   "metadata": {},
   "outputs": [],
   "source": [
    "#diff_si = signal_DM - signal_desk\n",
    "#diff_ba = np.array(background_DM[\"numu\"]) - np.array(background_DM[\"numu\"]) \n",
    "e_grid = pickle.load(open('/home/kruteesh/Desktop/fluxes/e_grid_mceq.pkl', 'rb'))"
   ]
  },
  {
   "cell_type": "code",
   "execution_count": 8,
   "metadata": {},
   "outputs": [],
   "source": [
    "signal_tt = pickle.load(open('/home/kruteesh/Desktop/dm_data_server/04_12_22_gal/data/limits_signal_grid_re_gal_\\[Tau].pkl', 'rb'))\n",
    "signal_tt_des = pickle.load(open('/home/kruteesh/Desktop/server_com_dm/pone_dm/data/limits_signal_grid_re_gal_\\[Tau].pkl', 'rb'))"
   ]
  },
  {
   "cell_type": "code",
   "execution_count": 9,
   "metadata": {},
   "outputs": [],
   "source": [
    "background_ic = pickle.load(open('/home/kruteesh/Desktop/dm_data_server/28_03_desk/data/background_ice.pkl','rb'))\n",
    "back_ice_ob = pickle.load(open('../data/tmp_files/background_ice_data_total.pkl','rb'))"
   ]
  },
  {
   "cell_type": "code",
   "execution_count": 10,
   "metadata": {},
   "outputs": [
    {
     "data": {
      "text/plain": [
       "array([[[0., 0., 0., ..., 0., 0., 0.],\n",
       "        [0., 0., 0., ..., 0., 0., 0.],\n",
       "        [0., 0., 0., ..., 0., 0., 0.],\n",
       "        ...,\n",
       "        [0., 0., 0., ..., 0., 0., 0.],\n",
       "        [0., 0., 0., ..., 0., 0., 0.],\n",
       "        [0., 0., 0., ..., 0., 0., 0.]],\n",
       "\n",
       "       [[0., 0., 0., ..., 0., 0., 0.],\n",
       "        [0., 0., 0., ..., 0., 0., 0.],\n",
       "        [0., 0., 0., ..., 0., 0., 0.],\n",
       "        ...,\n",
       "        [0., 0., 0., ..., 0., 0., 0.],\n",
       "        [0., 0., 0., ..., 0., 0., 0.],\n",
       "        [0., 0., 0., ..., 0., 0., 0.]],\n",
       "\n",
       "       [[0., 0., 0., ..., 0., 0., 0.],\n",
       "        [0., 0., 0., ..., 0., 0., 0.],\n",
       "        [0., 0., 0., ..., 0., 0., 0.],\n",
       "        ...,\n",
       "        [0., 0., 0., ..., 0., 0., 0.],\n",
       "        [0., 0., 0., ..., 0., 0., 0.],\n",
       "        [0., 0., 0., ..., 0., 0., 0.]],\n",
       "\n",
       "       ...,\n",
       "\n",
       "       [[0., 0., 0., ..., 0., 0., 0.],\n",
       "        [0., 0., 0., ..., 0., 0., 0.],\n",
       "        [0., 0., 0., ..., 0., 0., 0.],\n",
       "        ...,\n",
       "        [0., 0., 0., ..., 0., 0., 0.],\n",
       "        [0., 0., 0., ..., 0., 0., 0.],\n",
       "        [0., 0., 0., ..., 0., 0., 0.]],\n",
       "\n",
       "       [[0., 0., 0., ..., 0., 0., 0.],\n",
       "        [0., 0., 0., ..., 0., 0., 0.],\n",
       "        [0., 0., 0., ..., 0., 0., 0.],\n",
       "        ...,\n",
       "        [0., 0., 0., ..., 0., 0., 0.],\n",
       "        [0., 0., 0., ..., 0., 0., 0.],\n",
       "        [0., 0., 0., ..., 0., 0., 0.]],\n",
       "\n",
       "       [[0., 0., 0., ..., 0., 0., 0.],\n",
       "        [0., 0., 0., ..., 0., 0., 0.],\n",
       "        [0., 0., 0., ..., 0., 0., 0.],\n",
       "        ...,\n",
       "        [0., 0., 0., ..., 0., 0., 0.],\n",
       "        [0., 0., 0., ..., 0., 0., 0.],\n",
       "        [0., 0., 0., ..., 0., 0., 0.]]])"
      ]
     },
     "execution_count": 10,
     "metadata": {},
     "output_type": "execute_result"
    }
   ],
   "source": [
    "signal_nu"
   ]
  },
  {
   "cell_type": "code",
   "execution_count": 11,
   "metadata": {},
   "outputs": [
    {
     "data": {
      "image/png": "[encoded data removed]",
      "text/plain": [
       "<Figure size 600x600 with 1 Axes>"
      ]
     },
     "metadata": {},
     "output_type": "display_data"
    }
   ],
   "source": [
    "figure, (ax1) = plt.subplots(1, 1, figsize=(std_size,std_size), sharex=True) \n",
    "##ax1 = fig.add_gridspec(2, 1, hspace=0.06, wspace=0.05)\n",
    "##(ax1) = gs.subplots( sharex=True, sharey=True)\n",
    "#\n",
    "#\n",
    "ax1.set_title(r'$<\\sigma \\nu> = $ $%.1e$' % (sv_grid[sv_7]), fontsize=fontsize)\n",
    "ax1.step(np.log10(e_grid[-len(signal_nu[0][0]):]), signal_tt_des[0][0], color='b', linestyle='-',\n",
    "         label=r'$m_{x}=%.1e$ $\\textrm{GeV}$' % (mass_grid[m_3_id]))\n",
    "#ax10p(010(e_grid[-len(signal_nu[0][1]):]), signal_nu[sv_7][m_4_id], color=color_4, linestyle='-',\n",
    "#         label=r'$m_{x}=%.1e$ $\\textrm{GeV}$' % (mass_grid[m_4_id]))\n",
    "#ax1.step(np.log10(e_grid[-len(signal_nu[sv_56][m_3_id]):]), signal_nu[sv_7][m_6_id], color=color_6, linestyle='-',\n",
    "#         label=r'$m_{x}=%.1e$ $\\textrm{GeV}$' % (mass_grid[m_6_id]))\n",
    "#\n",
    "#\n",
    "ax1.step(np.log10(e_grid[-len(signal_tt[sv_56][m_3_id]):]), np.sum(background_ic['numu'], axis=0)[-len(signal_tt[sv_56][m_3_id]):], '-', color=color_ice, label=r'$\\textrm{IceCube Observed}$')\n",
    "\n",
    "ax1.set_yscale(\"log\")\n",
    "ax1.set_xlabel(r'$\\log_{10}$( $\\textrm{E}$ / $\\textrm{GeV}$ )', fontsize=fontsize)\n",
    "ax1.set_ylabel(r'$N_{events}$', fontsize=fontsize)\n",
    "ax1.tick_params(axis = 'both', which = 'major', labelsize=fontsize, direction='in')\n",
    "ax1.tick_params(axis = 'both', which = 'minor', labelsize=fontsize, direction='in')\n",
    "ax1.set_xlim(2.8, 6)\n",
    "ax1.set_ylim(1e0,1e6)\n",
    "h, l = ax1.get_legend_handles_labels()\n",
    "lgd1 = ax1.legend(h, l, loc=7, bbox_to_anchor=(0.95, +1.1),\n",
    "                 ncol=2, fontsize=fontsize-2, handlelength=h_length,\n",
    "                 fancybox=True, frameon=False)\n",
    "ax1.add_artist(lgd1)\n",
    "\n",
    "plt.show()\n",
    "#figure.savefig(PICS + \"Final_signal_ice\"+\".png\",\n",
    "#               bbox_inches='tight', dpi=export_dpi, facecolor='white')"
   ]
  },
  {
   "cell_type": "code",
   "execution_count": 12,
   "metadata": {},
   "outputs": [
    {
     "data": {
      "text/plain": [
       "array([0.00000000e+00, 0.00000000e+00, 0.00000000e+00, 0.00000000e+00,\n",
       "       0.00000000e+00, 0.00000000e+00, 0.00000000e+00, 0.00000000e+00,\n",
       "       0.00000000e+00, 0.00000000e+00, 0.00000000e+00, 0.00000000e+00,\n",
       "       0.00000000e+00, 0.00000000e+00, 0.00000000e+00, 0.00000000e+00,\n",
       "       0.00000000e+00, 0.00000000e+00, 0.00000000e+00, 0.00000000e+00,\n",
       "       0.00000000e+00, 1.03246074e-06, 1.41293606e-05, 3.43357172e-05,\n",
       "       9.98843325e-05, 1.93326243e-04, 4.23272075e-04, 7.92099933e-04,\n",
       "       1.36461132e-03, 2.27821249e-03, 2.79081704e-03, 3.65461012e-03,\n",
       "       5.22435460e-03, 1.03575902e-02, 2.63605228e-02, 5.62189135e-02,\n",
       "       1.54901152e-01, 2.90265463e-01, 4.46893402e-01, 4.81812179e-01,\n",
       "       3.87287835e-01, 2.76822905e-01, 1.91732518e-01, 1.52927639e-01,\n",
       "       1.05425751e-01, 6.19397968e-02, 3.09785925e-02, 1.38996137e-02,\n",
       "       8.58281035e-03, 4.20536619e-03, 2.47050757e-03, 1.51330939e-03,\n",
       "       1.06312903e-03, 5.24342217e-04, 3.11528620e-04, 1.53323150e-05,\n",
       "       5.10171852e-06, 1.50341725e-06, 1.07368033e-06, 2.13798838e-08,\n",
       "       2.13798838e-08, 0.00000000e+00, 0.00000000e+00, 0.00000000e+00,\n",
       "       0.00000000e+00, 0.00000000e+00, 0.00000000e+00, 0.00000000e+00,\n",
       "       0.00000000e+00, 0.00000000e+00, 0.00000000e+00, 0.00000000e+00,\n",
       "       0.00000000e+00, 0.00000000e+00, 0.00000000e+00, 0.00000000e+00,\n",
       "       0.00000000e+00, 0.00000000e+00, 0.00000000e+00, 0.00000000e+00,\n",
       "       0.00000000e+00, 0.00000000e+00, 0.00000000e+00, 0.00000000e+00,\n",
       "       0.00000000e+00, 0.00000000e+00, 0.00000000e+00, 0.00000000e+00,\n",
       "       0.00000000e+00, 0.00000000e+00, 0.00000000e+00, 0.00000000e+00,\n",
       "       0.00000000e+00, 0.00000000e+00, 0.00000000e+00, 0.00000000e+00,\n",
       "       0.00000000e+00, 0.00000000e+00, 0.00000000e+00, 0.00000000e+00,\n",
       "       0.00000000e+00, 0.00000000e+00, 0.00000000e+00, 0.00000000e+00,\n",
       "       0.00000000e+00, 0.00000000e+00, 0.00000000e+00, 0.00000000e+00,\n",
       "       0.00000000e+00, 0.00000000e+00, 0.00000000e+00, 0.00000000e+00,\n",
       "       0.00000000e+00, 0.00000000e+00, 0.00000000e+00, 0.00000000e+00,\n",
       "       0.00000000e+00, 0.00000000e+00, 0.00000000e+00, 0.00000000e+00,\n",
       "       0.00000000e+00])"
      ]
     },
     "execution_count": 12,
     "metadata": {},
     "output_type": "execute_result"
    }
   ],
   "source": [
    "signal_nu[0][1] #-signal_nu[0][0]"
   ]
  },
  {
   "cell_type": "code",
   "execution_count": 13,
   "metadata": {},
   "outputs": [
    {
     "data": {
      "text/plain": [
       "1e-21"
      ]
     },
     "execution_count": 13,
     "metadata": {},
     "output_type": "execute_result"
    }
   ],
   "source": [
    "sv_grid[8]"
   ]
  },
  {
   "cell_type": "code",
   "execution_count": null,
   "metadata": {},
   "outputs": [],
   "source": []
  }
 ],
 "metadata": {
  "interpreter": {
   "hash": "82a3a656d33f35b7f3fe77a22343614a58c995dc979ba6da45d214804d59b344"
  },
  "kernelspec": {
   "display_name": "Python 3.9.11 ('pdm')",
   "language": "python",
   "name": "python3"
  },
  "language_info": {
   "codemirror_mode": {
    "name": "ipython",
    "version": 3
   },
   "file_extension": ".py",
   "mimetype": "text/x-python",
   "name": "python",
   "nbconvert_exporter": "python",
   "pygments_lexer": "ipython3",
   "version": "3.10.6"
  },
  "orig_nbformat": 4
 },
 "nbformat": 4,
 "nbformat_minor": 2
}
