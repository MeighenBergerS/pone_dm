{
 "cells": [
  {
   "cell_type": "code",
   "execution_count": 1,
   "metadata": {},
   "outputs": [],
   "source": [
    "# to compare the dm2nu changes"
   ]
  },
  {
   "cell_type": "code",
   "execution_count": 2,
   "metadata": {},
   "outputs": [],
   "source": [
    "# imports\n",
    "from constants import pdm_constants as const\n",
    "from config import config\n",
    "from pone_aeff import Aeff\n",
    "from dm2nu import DM2Nu\n",
    "from atm_shower import Atm_Shower\n",
    "from detectors import Detector\n",
    "import numpy as np\n",
    "\n",
    "import matplotlib.pyplot as plt\n",
    "from matplotlib.lines import Line2D\n",
    "import matplotlib.patches as mpatches\n",
    "\n",
    "from limit_calc import Limits\n",
    "from bkgrd_calc import Background\n",
    "from signal_calc import Signal\n",
    "from pdm import PDM\n",
    "from scipy.interpolate import UnivariateSpline\n",
    "from scipy.stats import chi2\n",
    "from scipy.stats import *\n",
    "from pone_aeff import Aeff\n",
    "import pickle\n",
    "from matplotlib import rc\n",
    "import pandas as pd\n",
    "import os\n",
    "import shutil\n",
    "def find_nearest(array, value: float):\n",
    "    \n",
    "    \"\"\" Returns: index of the nearest vlaue of an array to the given number\n",
    "    --------------\n",
    "    idx :  float\n",
    "    \"\"\"\n",
    "    array = np.array(array)\n",
    "    idx = (np.abs(array - value)).argmin()\n",
    "    return idx"
   ]
  },
  {
   "cell_type": "code",
   "execution_count": 3,
   "metadata": {},
   "outputs": [],
   "source": [
    "# picture path\n",
    "PICS = '../pics/'\n",
    "name=[r'$\\nu_{\\mu}$', r\"$\\nu_e$\", r\"$\\nu_{\\tau}$\"]  # ,r'$\\nu_{e}$',r'$\\nu_{\\tau}$'\n",
    "# Plotting standards\n",
    "std_size = 6.  # Size of the plot\n",
    "fontsize = 15.  # Fontsize in the plot\n",
    "\n",
    "h_length=1.5  # Handle length for the legends\n",
    "export_dpi = 500  # Dpi for the image export\n",
    "color_pone='#7570b3'\n",
    "color_ice='#e7298a'\n",
    "color_combined='#33a02c'\n",
    "color_thermal='#1f78b4'\n",
    "color_unitary='k'\n",
    "color_4='#1b9e77'\n",
    "color_6='#d95f02'\n",
    "color_km = '#1a9641'\n",
    "rc('font',**{'family':'sans-serif','sans-serif':['Helvetica']})\n",
    "rc('text', usetex=True)"
   ]
  },
  {
   "cell_type": "code",
   "execution_count": 4,
   "metadata": {},
   "outputs": [],
   "source": [
    "low_E_sigma = {\n",
    "                'numu': [0.45, 0.35, 0.25, 0.15],\n",
    "                'nue': [0.55, 0.45, 0.35, 0.25],\n",
    "                'nutau': [0.55, 0.45, 0.35, 0.25]},\n",
    "high_E_sigma = {\n",
    "                'numu': [0.25, 0.15, 0.10, 0.09],\n",
    "                'nue': [0.15, 0.12, 0.09, 0.07],\n",
    "                'nutau': [0.15, 0.12, 0.09, 0.07] }"
   ]
  },
  {
   "cell_type": "code",
   "execution_count": 5,
   "metadata": {},
   "outputs": [],
   "source": [
    "# Some example settings\n",
    "#config['atmospheric showers']['interaction model'] = 'SIBYLL2.3c'\n",
    "#config['atmospheric showers']['theta angles'] = np.linspace(0., 90., 91)|\n",
    "#config['atmospheric showers']['particles of interest']=['nue']\n",
    "#for i in name_part:\n",
    "config['general']['detector'] = 'POne'\n",
    "config['general']['pone type'] = 'old'\n",
    "config['general']['density'] = \"NFW\" # \"Burkert\" # 'NFW'\n",
    "config['general'][\"channel\"] = \"All\" \n",
    "config['pone']['smearing'] = 'unsmeared'\n",
    "config['general']['sigma_model'] = 'lopez'\n",
    "config['pone']['low E sigma'] = {'numu': 0.25,\n",
    "                                 'nue': 0.25,\n",
    "                                 'nutau': 0.25}\n",
    "config['pone']['high E sigma'] = {'numu': 0.15,\n",
    "                                 'nue': 0.07,\n",
    "                                 'nutau': 0.07}\n",
    "##low E sigma': {\n",
    "##                'numu': [0.45, 0.35, 0.25, 0.15],\n",
    "##                'nue': [0.55, 0.45, 0.35, 0.25],\n",
    "##                'nutau': [0.55, 0.45, 0.35, 0.25]},\n",
    "##            'high E sigma': {\n",
    "##                'numu': [0.25, 0.15, 0.10, 0.09],\n",
    "##                'nue': [0.15, 0.12, 0.09, 0.07],\n",
    "##                'nutau': [0.15, 0.12, 0.09, 0.07]\n",
    "#    pdm = PDM()\n",
    "#    os.replace('../data/tmp_files/unsmeared/limits_results_POne_un_NFW.pkl', '../data/rescaled_pone_corrected/limits_results_POne_NFW_re_%s_ex.pkl' %(i))\n",
    "#    os.replace('../data/tmp_files/unsmeared/signal_grid_POne_un_NFW.pkl', '../data/rescaled_pone_corrected/signal_POne_NFW_re_%s_ex.pkl' %(i))"
   ]
  },
  {
   "cell_type": "code",
   "execution_count": 6,
   "metadata": {},
   "outputs": [],
   "source": [
    "dm2nu = DM2Nu()"
   ]
  },
  {
   "cell_type": "code",
   "execution_count": 7,
   "metadata": {},
   "outputs": [],
   "source": [
    "#tau tau channel\n",
    "#dm2nu = DM2Nu()\n",
    "config['general']['detector'] = 'POne'\n",
    "config['general']['pone type'] = 'old'\n",
    "config['general']['density'] = \"NFW\" # \"Burkert\" # 'NFW'\n",
    "config['pone']['smearing'] = 'unsmeared'\n",
    "config['general'][\"channel\"] = \"\\[Tau]\" \n",
    "config['pone']['smearing'] = 'unsmeared'\n",
    "config['general']['sigma_model'] = 'lopez'\n",
    "config['pone']['low E sigma'] = {'numu': 0.25,\n",
    "                                 'nue': 0.25,\n",
    "                                 'nutau': 0.25}\n",
    "config['pone']['high E sigma'] = {'numu': 0.15,\n",
    "                                 'nue': 0.07,\n",
    "                                 'nutau': 0.07}\n"
   ]
  },
  {
   "cell_type": "code",
   "execution_count": 8,
   "metadata": {},
   "outputs": [],
   "source": [
    "dm2nu_ex = DM2Nu()"
   ]
  },
  {
   "cell_type": "code",
   "execution_count": 9,
   "metadata": {},
   "outputs": [],
   "source": [
    "surface_fluxe = pickle.load(open(\"../data/\" +\n",
    "                                                   \"surf_store_v1.p\", \"rb\"))\n",
    "shower = pickle.load(open('../data/shower.p', \"rb\"))"
   ]
  },
  {
   "cell_type": "code",
   "execution_count": 10,
   "metadata": {},
   "outputs": [],
   "source": [
    "#pdm = PDM()\n"
   ]
  },
  {
   "cell_type": "code",
   "execution_count": 11,
   "metadata": {},
   "outputs": [],
   "source": [
    "e_grid = shower[0]\n",
    "e_width = shower[1]\n"
   ]
  },
  {
   "cell_type": "code",
   "execution_count": 12,
   "metadata": {},
   "outputs": [],
   "source": [
    "_bkgrd_ice_data = [\n",
    "                        '../data/icecube_10year_ps/events/IC40_exp.csv',\n",
    "                        '../data/icecube_10year_ps/events/IC59_exp.csv',\n",
    "                        '../data/icecube_10year_ps/events/IC79_exp.csv',\n",
    "                        '../data/icecube_10year_ps/events/IC86_I_exp.csv',\n",
    "                        '../data/icecube_10year_ps/events/IC86_II_exp.csv',\n",
    "                        '../data/icecube_10year_ps/events/IC86_III_exp.csv',\n",
    "                        '../data/icecube_10year_ps/events/IC86_IV_exp.csv',\n",
    "                        '../data/icecube_10year_ps/events/IC86_V_exp.csv',\n",
    "                        '../data/icecube_10year_ps/events/IC86_VI_exp.csv',\n",
    "                        '../data/icecube_10year_ps/events/IC86_VII_exp.csv',\n",
    "                    ]"
   ]
  },
  {
   "cell_type": "code",
   "execution_count": 13,
   "metadata": {},
   "outputs": [
    {
     "data": {
      "text/plain": [
       "array([[[1.12213735e-01, 5.18012421e+03],\n",
       "        [1.37253779e-01, 5.17453752e+03],\n",
       "        [1.67882407e-01, 5.15330781e+03],\n",
       "        [2.05402080e-01, 4.46402703e+03],\n",
       "        [2.51340810e-01, 3.61010290e+03],\n",
       "        [3.07548986e-01, 2.94322776e+03],\n",
       "        [3.76333148e-01, 2.38021746e+03],\n",
       "        [4.60500161e-01, 1.92685193e+03],\n",
       "        [5.63496176e-01, 1.55276172e+03],\n",
       "        [6.89521569e-01, 1.25763899e+03],\n",
       "        [8.43748309e-01, 1.00887470e+03],\n",
       "        [1.03247331e+00, 8.08499081e+02],\n",
       "        [1.26340879e+00, 6.48575846e+02],\n",
       "        [1.54600882e+00, 5.18448615e+02],\n",
       "        [1.89183036e+00, 4.13383668e+02],\n",
       "        [2.31504197e+00, 3.27121324e+02],\n",
       "        [2.83295614e+00, 2.57554826e+02],\n",
       "        [3.46678459e+00, 2.01352926e+02],\n",
       "        [4.24245140e+00, 1.56859167e+02],\n",
       "        [5.19176039e+00, 1.21090870e+02],\n",
       "        [6.35360412e+00, 9.26322958e+01],\n",
       "        [7.77560640e+00, 7.01494143e+01],\n",
       "        [9.51605608e+00, 5.25891636e+01],\n",
       "        [1.16464363e+01, 3.88118995e+01],\n",
       "        [1.42539331e+01, 2.84564302e+01],\n",
       "        [1.74462887e+01, 2.02203550e+01],\n",
       "        [2.11577784e+01, 1.47976111e+01],\n",
       "        [2.56610400e+01, 1.03665013e+01],\n",
       "        [3.11242183e+01, 7.09361206e+00],\n",
       "        [3.74053376e+01, 4.92770810e+00],\n",
       "        [4.75057377e+01, 2.97355835e+00],\n",
       "        [5.65694619e+01, 2.12194319e+00],\n",
       "        [6.79856676e+01, 1.47371481e+00],\n",
       "        [8.17053906e+01, 1.02588874e+00],\n",
       "        [9.81915896e+01, 7.22381509e-01],\n",
       "        [1.20175920e+02, 5.28705702e-01],\n",
       "        [1.47058617e+02, 4.20179667e-01],\n",
       "        [1.74634168e+02, 3.80638972e-01]]])"
      ]
     },
     "execution_count": 13,
     "metadata": {},
     "output_type": "execute_result"
    }
   ],
   "source": [
    "J_ice = np.loadtxt(open('../data/J_ice.csv'), delimiter = \",\")\n",
    "J_ice[J_ice[:, 0].sort()]"
   ]
  },
  {
   "cell_type": "code",
   "execution_count": 14,
   "metadata": {},
   "outputs": [],
   "source": [
    "con = const()\n",
    "theta = config['atmospheric showers']['theta angles']\n",
    "J_ice_ = con.J_ice_spline(theta)  * 3.086e21 # type: ignore"
   ]
  },
  {
   "cell_type": "code",
   "execution_count": 15,
   "metadata": {},
   "outputs": [
    {
     "data": {
      "text/plain": [
       "array([1.12213735e-01, 1.37253779e-01, 1.67882407e-01, 2.05402080e-01,\n",
       "       2.51340810e-01, 3.07548986e-01, 3.76333148e-01, 4.60500161e-01,\n",
       "       5.63496176e-01, 6.89521569e-01, 8.43748309e-01, 1.03247331e+00,\n",
       "       1.26340879e+00, 1.54600882e+00, 1.89183036e+00, 2.31504197e+00,\n",
       "       2.83295614e+00, 3.46678459e+00, 4.24245140e+00, 5.19176039e+00,\n",
       "       6.35360412e+00, 7.77560640e+00, 9.51605608e+00, 1.16464363e+01,\n",
       "       1.42539331e+01, 1.74462887e+01, 2.11577784e+01, 2.56610400e+01,\n",
       "       3.11242183e+01, 3.74053376e+01, 4.75057377e+01, 5.65694619e+01,\n",
       "       6.79856676e+01, 8.17053906e+01, 9.81915896e+01, 1.20175920e+02,\n",
       "       1.47058617e+02, 1.74634168e+02])"
      ]
     },
     "execution_count": 15,
     "metadata": {},
     "output_type": "execute_result"
    }
   ],
   "source": [
    "J_ice[:,0]"
   ]
  },
  {
   "cell_type": "code",
   "execution_count": 16,
   "metadata": {},
   "outputs": [
    {
     "name": "stderr",
     "output_type": "stream",
     "text": [
      "/tmp/ipykernel_5408/3132098579.py:2: RuntimeWarning: divide by zero encountered in log10\n",
      "  plt.plot(np.log10(theta), np.log10(J_ice_  ))\n"
     ]
    },
    {
     "data": {
      "text/plain": [
       "Text(0.5, 0, '$\\\\log_{10}$ $\\\\phi$ $[degree]$')"
      ]
     },
     "execution_count": 16,
     "metadata": {},
     "output_type": "execute_result"
    },
    {
     "data": {
      "image/png": "[encoded data removed]",
      "text/plain": [
       "<Figure size 640x480 with 1 Axes>"
      ]
     },
     "metadata": {},
     "output_type": "display_data"
    }
   ],
   "source": [
    "plt.plot(np.log10(J_ice[:,0]), np.log10(J_ice[:,1] * 3.086e21))\n",
    "plt.plot(np.log10(theta), np.log10(J_ice_  ))\n",
    "plt.ylabel(r'$\\log_{10}$ $J$ $[GeV^{2} cm^{-5}]$', fontsize=fontsize)\n",
    "plt.xlabel(r'$\\log_{10}$ $\\phi$ $[degree]$', fontsize=fontsize)"
   ]
  },
  {
   "cell_type": "code",
   "execution_count": 17,
   "metadata": {},
   "outputs": [],
   "source": [
    "# Grids\n",
    "mass_grid = config['simulation parameters']['mass grid']\n",
    "sv_grid = config['simulation parameters']['sv grid']\n",
    "m_4_id = find_nearest(mass_grid, 1e4)\n",
    "m_6_id = find_nearest(mass_grid, 1e6)\n",
    "m_3_id = find_nearest(mass_grid, 1e3)\n",
    "m_5_id = find_nearest(mass_grid, 1e5)\n",
    "sv_56 = find_nearest(sv_grid, 3e-26)\n",
    "# The limit calculation\n"
   ]
  },
  {
   "cell_type": "code",
   "execution_count": 18,
   "metadata": {},
   "outputs": [
    {
     "data": {
      "text/plain": [
       "array([[[1.07967921e-01, 3.44304933e-07],\n",
       "        [1.90484352e-01, 2.60733160e-07],\n",
       "        [3.36065456e-01, 1.96956897e-07],\n",
       "        [5.92909546e-01, 1.47310508e-07],\n",
       "        [1.04605137e+00, 1.12109637e-07],\n",
       "        [1.66451479e+00, 1.20520743e-07],\n",
       "        [2.15457920e+00, 2.94457805e-07],\n",
       "        [2.45131919e+00, 6.15486001e-07],\n",
       "        [2.78892777e+00, 1.25185552e-06],\n",
       "        [3.34110119e+00, 2.61667219e-06],\n",
       "        [4.21460573e+00, 5.15056005e-06],\n",
       "        [6.36907905e+00, 9.99820973e-06],\n",
       "        [1.12367627e+01, 1.45450441e-05],\n",
       "        [1.98246613e+01, 1.86897263e-05],\n",
       "        [3.15457185e+01, 3.12774451e-05],\n",
       "        [4.19008379e+01, 6.25701428e-05],\n",
       "        [5.15089327e+01, 1.21324857e-04],\n",
       "        [5.73114978e+01, 8.09386054e-04],\n",
       "        [6.67076781e+01, 2.62183074e-04],\n",
       "        [6.67076781e+01, 2.62183074e-04],\n",
       "        [7.38128320e+01, 4.02393691e-04],\n",
       "        [8.16747685e+01, 5.54863359e-04],\n",
       "        [9.56890142e+01, 1.05500815e-03],\n",
       "        [1.00000000e+02, 1.80224552e-04]]])"
      ]
     },
     "execution_count": 18,
     "metadata": {},
     "output_type": "execute_result"
    }
   ],
   "source": [
    "dphi_2=np.loadtxt(open(\"../data/m_1e2.csv\"), delimiter = \",\")\n",
    "dphi_2[dphi_2[:,0].sort()]\n",
    "\n",
    "dphi_3=np.loadtxt(open(\"../data/ref_flux_1_TeV.csv\"), delimiter = \",\")\n",
    "dphi_3[dphi_3[:,0].sort()]\n",
    "\n",
    "\n",
    "dphi_4=np.loadtxt(open(\"../data/m_1e4.csv\"), delimiter = \",\")\n",
    "dphi_4[dphi_4[:,0].sort()]\n",
    "\n",
    "dphi_6 = np.loadtxt(open(\"../data/m_1e6.csv\"), delimiter = \",\")\n",
    "dphi_6[dphi_6[:,0].sort()]\n",
    "#dphi_ice=np.loadtxt(open(\"../data/icecube.csv\"), delimiter = \",\")\n",
    "#dphi_ice[dphi_ice[:,0].sort()]\n",
    "\n",
    "dphi_2_km = np.loadtxt(open(\"../data/km3_numu.csv\"), delimiter = \",\")\n",
    "dphi_2[dphi_2[:,0].sort()]"
   ]
  },
  {
   "cell_type": "code",
   "execution_count": 19,
   "metadata": {},
   "outputs": [],
   "source": [
    "dphi_4=UnivariateSpline(dphi_4[:,0],dphi_4[:,1],k=1,s=0,ext=1)\n",
    "#mass_grid[0],sv_grid[-1],mass_grid[-1],sv_grid[-1]\n",
    "#dphi_ic=UnivariateSpline(dphi_ice[:,0],dphi_ice[:,1],k=1,s=0,ext=1)\n",
    "dphi_6=UnivariateSpline(dphi_6[:,0],dphi_6[:,1],k=1,s=0, ext=1)\n",
    "#dphi_2=UnivariateSpline(dphi_2[:,0],dphi_2[:,1],k=1,s=0, ext=1)\n"
   ]
  },
  {
   "cell_type": "code",
   "execution_count": 20,
   "metadata": {},
   "outputs": [],
   "source": [
    "\n",
    "\n",
    "shower_flux = pickle.load(open('../data/shower.p','rb'))\n",
    "shower_po = shower_flux[2][45]['numu']\n",
    "surface_fluxe_ice = pickle.load(open(\"../data/surf_store_v1.p\", \"rb\"))\n",
    "shower_ice = surface_fluxe_ice[20][3] # background fluxes at 20° ----\n",
    "\n"
   ]
  },
  {
   "cell_type": "code",
   "execution_count": 21,
   "metadata": {},
   "outputs": [],
   "source": [
    "np.logspace(2,6,53)[26]\n",
    "sv_7 = find_nearest(sv_grid, 1e-27)\n",
    "m_2_id = find_nearest(mass_grid, 1e2)"
   ]
  },
  {
   "cell_type": "code",
   "execution_count": 22,
   "metadata": {},
   "outputs": [],
   "source": [
    "#dm2nu.m_keysnfw_flux_2 = (dm2nu.extra_galactic_flux_c(e_grid,mass_grid[m_2_id],sv_grid[sv_7]))\n",
    "#----------------------------------------------------------------------------------------------------\n",
    "# 'All' channel or \"\\\\[Nu]\\\\[Mu]\" \n",
    "#config['general']['detector'] = 'POne'\n",
    "#config['general']['pone type'] = 'old'\n",
    "#config['general']['density'] = \"NFW\" # \"Burkert\" # 'NFW'\n",
    "#config['pone']['smearing'] = 'unsmeared'\n",
    "#config['general'][\"channel\"] = \"All\" \n",
    "#config['general']['sigma_model'] = 'lopez'\n",
    "#config['pone']['low E sigma'] = {'numu': 0.25,\n",
    "#                                 'nue': 0.25,\n",
    " #                                'nutau': 0.25}\n",
    "#config['pone']['high E sigma'] = {'numu': 0.15,\n",
    "#                                 'nue': 0.07,\n",
    "#                                 'nutau': 0.07}#\n",
    "\n",
    "#dm2nu = DM2Nu()\n",
    "#\n",
    "\n",
    "#--------------------------------------------------------------------------------------------------\n",
    "#tau tau channel\n",
    "\n",
    "#config['general'][\"channel\"] = \"\\[Tau]\" \n",
    "#config['pone']['smearing'] = 'unsmeared'\n",
    "#config['general']['sigma_model'] = 'prada'\n",
    "\n",
    "#dm2nu_ex = DM2Nu()\n",
    "#nfw_flux_4_ex = (dm2nu_ex.extra_galactic_flux_c(e_grid,mass_grid[m_4_id],sv_grid[sv_56]))# + dm2nu.galactic_flux(e_grid,mass_grid[m_4_id],sv_grid[sv_56], 2 , 2.3e23)\n",
    "#nfw_flux_6_ex = (dm2nu.extra_galactic_flux_c(e_grid,mass_grid[m_6_id],sv_grid[sv_56]))"
   ]
  },
  {
   "cell_type": "code",
   "execution_count": 23,
   "metadata": {},
   "outputs": [
    {
     "name": "stderr",
     "output_type": "stream",
     "text": [
      "/home/kruteesh/Desktop/DM_nu_simulation/pone_dm/pone_dm/dm2nu.py:366: RuntimeWarning: overflow encountered in exp\n",
      "  dd = np.exp(d_2 / s_in(x)**2)\n",
      "/home/kruteesh/Desktop/DM_nu_simulation/pone_dm/pone_dm/dm2nu.py:367: RuntimeWarning: overflow encountered in multiply\n",
      "  return A * aa * dd\n"
     ]
    }
   ],
   "source": [
    "\n",
    "#--------------------------------------------------------------------------------------------------\n",
    "nfw_flux_3_ex = (dm2nu_ex.extra_galactic_flux_c(e_grid,mass_grid[m_3_id],sv_grid[sv_56]))# + dm2nu.galactic_flux(e_grid,mass_grid[m_3_id],sv_grid[sv_56], 2 , 2.3e23)\n",
    "nfw_flux_4_ex = (dm2nu.extra_galactic_flux_nfw(e_grid,mass_grid[m_4_id],sv_grid[sv_56]))# + dm2nu.galactic_flux(e_grid,mass_grid[m_4_id],sv_grid[sv_56], 2 , 2.3e23)\n",
    "#nfw_flux_6_ex = (dm2nu.extra_galactic_flux_c(e_grid,mass_grid[m_6_id],sv_grid[sv_56]))"
   ]
  },
  {
   "cell_type": "code",
   "execution_count": 24,
   "metadata": {},
   "outputs": [
    {
     "data": {
      "image/png": "[encoded data removed]",
      "text/plain": [
       "<Figure size 600x1200 with 2 Axes>"
      ]
     },
     "metadata": {},
     "output_type": "display_data"
    }
   ],
   "source": [
    "from asyncio import constants\n",
    "\n",
    "fig = plt.figure( figsize=(std_size,std_size+std_size))\n",
    "gs = fig.add_gridspec(2, hspace=0.01) \n",
    "(ax1,ax2) = gs.subplots(sharex=True)\n",
    "\n",
    "ax1.set_title(r'$\\textrm{Extra-galactic}$ $\\left \\langle\\sigma\\nu\\right \\rangle = %.1e$  $\\textrm{cm}^{3}\\textrm{s}^{-1}$' % (sv_grid[sv_56]), y=1.12, fontsize=fontsize)\n",
    "ax1.step(np.log10(e_grid), (shower_po)*e_grid**2, color=color_pone)#, label=r'$\\textrm{P}$-$\\textrm{ONE}$ [ $\\textrm{MCEq}$ ]') # Karlsruhe Corsika\n",
    "ax2.step(np.log10(e_grid), (shower_po)*e_grid**2, color=color_pone) # Karlsruhe Corsika\n",
    "ax1.step(np.log10(e_grid), dphi_4(e_grid),'o', color=\"y\", label=r'$\\textrm{C. Argüelles et. al}$')\n",
    "ax2.step(np.log10(dphi_3[:,0]), dphi_3[:,1], 'o', color=color_4, label=r'$\\textrm{A. Moline et. al}$')\n",
    "#\n",
    "ax1.step(np.log10(e_grid), 4*np.pi*nfw_flux_4_ex * e_grid**2, '--', color=color_4, label=r'$m_{\\chi}=10$ $\\textrm{TeV}$'\n",
    "        )\n",
    "#ax1.step(np.log10(e_grid), nfw_flux_5 * e_grid**2., '*', color='b',\n",
    "#         )\n",
    "ax2.step(np.log10(e_grid), 4*np.pi*nfw_flux_3_ex * e_grid**2, '--', color=color_6, label=r'$m_{\\chi}=1$ $\\textrm{TeV}$'  # type: ignore\n",
    "         )\n",
    "\n",
    "#ax1.set_xscale(\"log\")\n",
    "ax1.set_yscale(\"log\")\n",
    "ax1.set_xlabel(r'$\\log_{10}$ ( $\\textrm{E}$ / $\\textrm{GeV}$ )', fontsize=fontsize)\n",
    "ax1.set_ylabel(r'\\textbf{$E^2$} $\\textrm{d}$\\textbf{$\\phi$} / \\textrm{d}\\textbf{$E$}\\textrm{d}$\\Omega$   [ $\\textrm{GeV}$ $\\textrm{cm}^{-2}$ $\\textrm{s}^{-1}$ $\\textrm{sr}^{-1}$ ]', fontsize=fontsize)\n",
    "ax1.tick_params(axis = 'both', which = 'major', labelsize=fontsize, direction='in')\n",
    "ax1.tick_params(axis = 'both', which = 'minor', labelsize=fontsize, direction='in')\n",
    "\n",
    "ax2.set_yscale(\"log\")\n",
    "ax2.set_xlabel(r'$\\log_{10}$ ( $\\textrm{E}$ / $\\textrm{GeV}$ )', fontsize=fontsize)\n",
    "ax2.set_ylabel(r'\\textbf{$E^2$} $\\textrm{d}$\\textbf{$\\phi$} / \\textrm{d}\\textbf{$E$}\\textrm{d}$\\Omega$   [ $\\textrm{GeV}$ $\\textrm{cm}^{-2}$ $\\textrm{s}^{-1}$ $\\textrm{sr}^{-1}$ ]', fontsize=fontsize)\n",
    "ax2.tick_params(axis = 'both', which = 'major', labelsize=fontsize, direction='in')\n",
    "ax2.tick_params(axis = 'both', which = 'minor', labelsize=fontsize, direction='in')\n",
    "\n",
    "#ax1.set_xlim(1.9, 7)\n",
    "#ax1.set_ylim(1.1e-11,1.2e-3)\n",
    "ax2.set_ylim(1e-16, 1e-6)\n",
    "h, l = ax1.get_legend_handles_labels()\n",
    "lgd1 = ax1.legend(h, l, loc=7, bbox_to_anchor=(0.9, +1.08),\n",
    "                 ncol=3, fontsize=fontsize-2, handlelength=h_length,\n",
    "                 fancybox=True, frameon=False)\n",
    "ax1.add_artist(lgd1)\n",
    "h_, l_ = ax2.get_legend_handles_labels()\n",
    "lgd2 = ax2.legend(h_, l_, loc=7, bbox_to_anchor=(0.85, +2.04),\n",
    "                 ncol=3, fontsize=fontsize-2, handlelength=h_length,\n",
    "                 fancybox=True, frameon=False)\n",
    "ax2.add_artist(lgd2)\n",
    "\n",
    "ax1.text(5, 1e-5, r'$\\chi\\chi \\rightarrow  \\nu_{\\mu}\\bar{\\nu}_{\\mu}$', fontsize=fontsize+4)\n",
    "ax2.text(5, 1e-5, r'$\\chi\\chi \\rightarrow \\tau^{+}\\tau^{-}$', fontsize=fontsize+4)\n",
    "\n",
    "fig.savefig(PICS + \"Final_flux\"+\".png\",\n",
    "               bbox_inches='tight', dpi=export_dpi, facecolor='white')"
   ]
  },
  {
   "cell_type": "code",
   "execution_count": 25,
   "metadata": {},
   "outputs": [],
   "source": [
    "M_grid = np.logspace(5, 19, 150)\n",
    "MdndM = dm2nu.M_dndM(M_grid, z=0)"
   ]
  },
  {
   "cell_type": "code",
   "execution_count": 26,
   "metadata": {},
   "outputs": [
    {
     "data": {
      "text/plain": [
       "array([6.26436396e-007, 5.05173476e-007, 4.07401621e-007, 3.28567354e-007,\n",
       "       2.65000287e-007, 2.13741783e-007, 1.72406873e-007, 1.39072978e-007,\n",
       "       1.12190215e-007, 9.05091149e-008, 7.30223650e-008, 5.89178503e-008,\n",
       "       4.75408078e-008, 3.83633214e-008, 3.09597327e-008, 2.49868217e-008,\n",
       "       2.01678303e-008, 1.62795839e-008, 1.31421095e-008, 1.06102671e-008,\n",
       "       8.56700234e-009, 6.91790798e-009, 5.58683820e-009, 4.51237340e-009,\n",
       "       3.64496960e-009, 2.94466016e-009, 2.37920253e-009, 1.92258397e-009,\n",
       "       1.55381654e-009, 1.25596541e-009, 1.01536523e-009, 8.20988122e-010,\n",
       "       6.63934013e-010, 5.37019519e-010, 4.34446362e-010, 3.51533904e-010,\n",
       "       2.84503385e-010, 2.30303869e-010, 1.86471823e-010, 1.51017823e-010,\n",
       "       1.22335141e-010, 9.91259874e-011, 8.03419869e-011, 6.51361418e-011,\n",
       "       5.28240643e-011, 4.28526841e-011, 3.47749893e-011, 2.82296357e-011,\n",
       "       2.29244837e-011, 1.86233065e-011, 1.51350565e-011, 1.23051968e-011,\n",
       "       1.00087010e-011, 8.14439766e-012, 6.63040210e-012, 5.40042537e-012,\n",
       "       4.40079179e-012, 3.58802858e-012, 2.92691769e-012, 2.38892094e-012,\n",
       "       1.95090670e-012, 1.59412021e-012, 1.30335086e-012, 1.06625855e-012,\n",
       "       8.72828637e-013, 7.14930945e-013, 5.85962746e-013, 4.80559773e-013,\n",
       "       3.94362205e-013, 3.23825119e-013, 2.66064943e-013, 2.18735016e-013,\n",
       "       1.79924726e-013, 1.48077728e-013, 1.21925617e-013, 1.00434116e-013,\n",
       "       8.27594004e-014, 6.82126438e-014, 5.62312223e-014, 4.63553193e-014,\n",
       "       3.82089107e-014, 3.14843033e-014, 2.59295575e-014, 2.13382504e-014,\n",
       "       1.75411416e-014, 1.43993814e-014, 1.17989761e-014, 9.64627190e-015,\n",
       "       7.86426937e-015, 6.38961190e-015, 5.17012347e-015, 4.16279302e-015,\n",
       "       3.33212239e-015, 2.64877067e-015, 2.08844000e-015, 1.63095878e-015,\n",
       "       1.25952649e-015, 9.60091873e-016, 7.20841573e-016, 5.31781850e-016,\n",
       "       3.84399453e-016, 2.71391172e-016, 1.86453601e-016, 1.24125899e-016,\n",
       "       7.96784194e-017, 4.90392120e-017, 2.87487754e-017, 1.59316263e-017,\n",
       "       8.27218409e-018, 3.98309360e-018, 1.75725026e-018, 7.00399964e-019,\n",
       "       2.48081104e-019, 7.65883616e-020, 2.01442832e-020, 4.39423305e-021,\n",
       "       7.70112830e-022, 1.04427965e-022, 1.04776166e-023, 7.37565615e-025,\n",
       "       3.41898335e-026, 9.67483876e-028, 1.52623115e-029, 1.20363236e-031,\n",
       "       4.16194566e-034, 5.38640071e-037, 2.15466340e-040, 2.11233590e-044,\n",
       "       3.82791171e-049, 9.09325281e-055, 1.86074194e-061, 1.96109105e-069,\n",
       "       5.65998268e-079, 2.05482848e-090, 3.59032683e-104, 9.18679808e-121,\n",
       "       7.85442706e-141, 3.56160912e-165, 8.59416273e-195, 6.18911944e-231,\n",
       "       3.56036099e-275, 0.00000000e+000, 0.00000000e+000, 0.00000000e+000,\n",
       "       0.00000000e+000, 0.00000000e+000, 0.00000000e+000, 0.00000000e+000,\n",
       "       0.00000000e+000, 0.00000000e+000])"
      ]
     },
     "execution_count": 26,
     "metadata": {},
     "output_type": "execute_result"
    }
   ],
   "source": [
    "abs(MdndM)"
   ]
  },
  {
   "cell_type": "code",
   "execution_count": 27,
   "metadata": {},
   "outputs": [
    {
     "data": {
      "text/plain": [
       "array([[[6.98692794e+07, 1.26152375e-03],\n",
       "        [1.12074431e+08, 1.29787202e-03],\n",
       "        [1.64098679e+08, 1.36635980e-03],\n",
       "        [2.39710845e+08, 1.50549433e-03],\n",
       "        [3.65222259e+08, 1.80072147e-03],\n",
       "        [5.56450829e+08, 2.32655739e-03],\n",
       "        [8.47805732e+08, 2.86052275e-03],\n",
       "        [1.29171262e+09, 3.70398972e-03],\n",
       "        [1.96804697e+09, 4.60708664e-03],\n",
       "        [2.99850663e+09, 5.93604503e-03],\n",
       "        [4.56850988e+09, 7.61891280e-03],\n",
       "        [7.25990736e+09, 1.07272547e-02],\n",
       "        [1.10611590e+10, 1.37078749e-02],\n",
       "        [1.73731046e+10, 1.73480596e-02],\n",
       "        [2.62230511e+10, 1.87110186e-02],\n",
       "        [3.91209416e+10, 2.37169083e-02],\n",
       "        [6.14449365e+10, 2.72227715e-02],\n",
       "        [9.85612898e+10, 2.94129441e-02],\n",
       "        [1.44312822e+11, 2.88141103e-02],\n",
       "        [2.17317532e+11, 3.21078554e-02],\n",
       "        [3.28020172e+11, 3.40966950e-02],\n",
       "        [5.04468293e+11, 3.88273559e-02],\n",
       "        [7.61446968e+11, 3.89416187e-02],\n",
       "        [1.17104338e+12, 4.34568432e-02],\n",
       "        [1.76757875e+12, 4.37527697e-02],\n",
       "        [2.71839207e+12, 5.01133070e-02],\n",
       "        [4.36046067e+12, 4.87814513e-02],\n",
       "        [6.99443521e+12, 4.77414977e-02],\n",
       "        [9.93445272e+12, 4.85431265e-02],\n",
       "        [1.42096398e+13, 5.56813237e-02],\n",
       "        [2.23182362e+13, 4.78351156e-02],\n",
       "        [3.36872576e+13, 4.42514975e-02],\n",
       "        [5.13257391e+13, 6.70950090e-02],\n",
       "        [7.98634826e+13, 5.10953279e-02],\n",
       "        [1.21679607e+14, 2.03823790e-02],\n",
       "        [1.81528106e+14, 4.47527789e-02],\n",
       "        [2.82459971e+14, 1.54063024e-02],\n",
       "        [4.30354615e+14, 2.46087824e-02],\n",
       "        [6.55686164e+14, 1.82355738e-02]]])"
      ]
     },
     "execution_count": 27,
     "metadata": {},
     "output_type": "execute_result"
    }
   ],
   "source": [
    "MdndM_lit=np.loadtxt(open(\"../data/MdndM_moline.csv\"), delimiter = \",\")\n",
    "MdndM_lit[MdndM_lit[:,0].sort()]"
   ]
  },
  {
   "cell_type": "code",
   "execution_count": 28,
   "metadata": {},
   "outputs": [
    {
     "data": {
      "image/png": "[encoded data removed]",
      "text/plain": [
       "<Figure size 600x600 with 1 Axes>"
      ]
     },
     "metadata": {},
     "output_type": "display_data"
    }
   ],
   "source": [
    "\n",
    "figure, (ax1) = plt.subplots(1, 1, figsize=(std_size,std_size), sharex=True)\n",
    "\n",
    "ax1.step(np.log10(M_grid), abs(MdndM)*M_grid, label=r'$\\textrm{Simulation}$')\n",
    "ax1.step(np.log10(MdndM_lit[:,0]), MdndM_lit[:,1], label=r'$\\textrm{A. Moline et. al}$')\n",
    "\n",
    "h, l = ax1.get_legend_handles_labels()\n",
    "lgd1 = ax1.legend(h, l, loc=7, bbox_to_anchor=(1.0, +1.051),\n",
    "             ncol=2, fontsize=fontsize, handlelength=h_length,\n",
    "             fancybox=True, frameon=False)\n",
    "ax1.add_artist(lgd1)\n",
    "#ax1.set_xscale(\"log\")\n",
    "ax1.set_yscale(\"log\")\n",
    "ax1.set_xlabel(r\"$M_200 [h^{-1} M_{\\cdot}]$\", fontsize=fontsize+1)\n",
    "ax1.set_ylabel(r\"$(M_200 / \\rho_{m,0})$ $dn/dln M_200$\", fontsize=fontsize+1)\n",
    "#ax1.text(3.1, -25.3, r'$\\chi\\chi \\rightarrow \\nu_{\\mu}\\bar{\\nu}_{\\mu}$', fontsize=fontsize+4)\n",
    "#ax1.text(3.1, -24.9, r'$\\textrm{NFW}$', fontsize=fontsize+2)\n",
    "#ax1.tick_params(axis = 'both', which='major', labelsize=fontsize, direction='in')\n",
    "ax1.tick_params(axis = 'both', which='major', labelsize=fontsize, direction='in')\n",
    "ax1.tick_params(axis = 'both', which = 'minor', labelsize=fontsize, direction='in')\n",
    "#ax1.set_xlim(2.9, max(np.log10(mass_grid)))\n",
    "ax1.set_ylim(1e-3, 2e-1)  # min(np.log10(sv_grid)), -21\n",
    "figure.savefig('../pics/Limits_result_ice_cmap.png',bbox_inches='tight', dpi=export_dpi, facecolor='white')\n",
    "plt.show()"
   ]
  },
  {
   "cell_type": "code",
   "execution_count": 29,
   "metadata": {},
   "outputs": [
    {
     "name": "stdout",
     "output_type": "stream",
     "text": [
      "Unexpected exception formatting exception. Falling back to standard exception\n"
     ]
    },
    {
     "name": "stderr",
     "output_type": "stream",
     "text": [
      "Traceback (most recent call last):\n",
      "  File \"/home/kruteesh/miniconda3/envs/pdm/lib/python3.10/site-packages/IPython/core/interactiveshell.py\", line 3398, in run_code\n",
      "    exec(code_obj, self.user_global_ns, self.user_ns)\n",
      "  File \"/tmp/ipykernel_5408/3466807482.py\", line 2, in <cell line: 2>\n",
      "    burkert_flux_4 = (dm2nu.extra_galactic_flux_burkert(e_grid,mass_grid[m_4_id],sv_grid[sv_56]))# + dm2nu_dm_nu.galactic_flux(e_grid,mass_grid[m_4_id],sv_grid[sv_56], 2 , 2.3e23)\n",
      "AttributeError: 'DM2Nu' object has no attribute 'extra_galactic_flux_burkert'\n",
      "\n",
      "During handling of the above exception, another exception occurred:\n",
      "\n",
      "Traceback (most recent call last):\n",
      "  File \"/home/kruteesh/miniconda3/envs/pdm/lib/python3.10/site-packages/executing/executing.py\", line 317, in executing\n",
      "    args = executing_cache[key]\n",
      "KeyError: (<code object run_code at 0x7fb5f8d1e760, file \"/home/kruteesh/miniconda3/envs/pdm/lib/python3.10/site-packages/IPython/core/interactiveshell.py\", line 3362>, 140419540313952, 76)\n",
      "\n",
      "During handling of the above exception, another exception occurred:\n",
      "\n",
      "Traceback (most recent call last):\n",
      "  File \"/home/kruteesh/miniconda3/envs/pdm/lib/python3.10/site-packages/IPython/core/interactiveshell.py\", line 1993, in showtraceback\n",
      "    stb = self.InteractiveTB.structured_traceback(\n",
      "  File \"/home/kruteesh/miniconda3/envs/pdm/lib/python3.10/site-packages/IPython/core/ultratb.py\", line 1118, in structured_traceback\n",
      "    return FormattedTB.structured_traceback(\n",
      "  File \"/home/kruteesh/miniconda3/envs/pdm/lib/python3.10/site-packages/IPython/core/ultratb.py\", line 1012, in structured_traceback\n",
      "    return VerboseTB.structured_traceback(\n",
      "  File \"/home/kruteesh/miniconda3/envs/pdm/lib/python3.10/site-packages/IPython/core/ultratb.py\", line 865, in structured_traceback\n",
      "    formatted_exception = self.format_exception_as_a_whole(etype, evalue, etb, number_of_lines_of_context,\n",
      "  File \"/home/kruteesh/miniconda3/envs/pdm/lib/python3.10/site-packages/IPython/core/ultratb.py\", line 799, in format_exception_as_a_whole\n",
      "    self.get_records(etb, number_of_lines_of_context, tb_offset) if etb else []\n",
      "  File \"/home/kruteesh/miniconda3/envs/pdm/lib/python3.10/site-packages/IPython/core/ultratb.py\", line 854, in get_records\n",
      "    return list(stack_data.FrameInfo.stack_data(etb, options=options))[tb_offset:]\n",
      "  File \"/home/kruteesh/miniconda3/envs/pdm/lib/python3.10/site-packages/stack_data/core.py\", line 565, in stack_data\n",
      "    yield from collapse_repeated(\n",
      "  File \"/home/kruteesh/miniconda3/envs/pdm/lib/python3.10/site-packages/stack_data/utils.py\", line 84, in collapse_repeated\n",
      "    yield from map(mapper, original_group)\n",
      "  File \"/home/kruteesh/miniconda3/envs/pdm/lib/python3.10/site-packages/stack_data/core.py\", line 555, in mapper\n",
      "    return cls(f, options)\n",
      "  File \"/home/kruteesh/miniconda3/envs/pdm/lib/python3.10/site-packages/stack_data/core.py\", line 520, in __init__\n",
      "    self.executing = Source.executing(frame_or_tb)\n",
      "  File \"/home/kruteesh/miniconda3/envs/pdm/lib/python3.10/site-packages/executing/executing.py\", line 369, in executing\n",
      "    args = find(source=cls.for_frame(frame), retry_cache=True)\n",
      "  File \"/home/kruteesh/miniconda3/envs/pdm/lib/python3.10/site-packages/executing/executing.py\", line 252, in for_frame\n",
      "    return cls.for_filename(frame.f_code.co_filename, frame.f_globals or {}, use_cache)\n",
      "  File \"/home/kruteesh/miniconda3/envs/pdm/lib/python3.10/site-packages/executing/executing.py\", line 270, in for_filename\n",
      "    result = source_cache[filename] = cls._for_filename_and_lines(filename, lines)\n",
      "  File \"/home/kruteesh/miniconda3/envs/pdm/lib/python3.10/site-packages/executing/executing.py\", line 281, in _for_filename_and_lines\n",
      "    result = source_cache[(filename, lines)] = cls(filename, lines)\n",
      "  File \"/home/kruteesh/miniconda3/envs/pdm/lib/python3.10/site-packages/stack_data/core.py\", line 81, in __init__\n",
      "    self.asttokens()\n",
      "  File \"/home/kruteesh/miniconda3/envs/pdm/lib/python3.10/site-packages/executing/executing.py\", line 413, in asttokens\n",
      "    return ASTTokens(\n",
      "  File \"/home/kruteesh/miniconda3/envs/pdm/lib/python3.10/site-packages/asttokens/asttokens.py\", line 65, in __init__\n",
      "    self.mark_tokens(self._tree)\n",
      "  File \"/home/kruteesh/miniconda3/envs/pdm/lib/python3.10/site-packages/asttokens/asttokens.py\", line 76, in mark_tokens\n",
      "    MarkTokens(self).visit_tree(root_node)\n",
      "  File \"/home/kruteesh/miniconda3/envs/pdm/lib/python3.10/site-packages/asttokens/mark_tokens.py\", line 47, in visit_tree\n",
      "    util.visit_tree(node, self._visit_before_children, self._visit_after_children)\n",
      "  File \"/home/kruteesh/miniconda3/envs/pdm/lib/python3.10/site-packages/asttokens/util.py\", line 192, in visit_tree\n",
      "    ret = postvisit(current, par_value, value)\n",
      "  File \"/home/kruteesh/miniconda3/envs/pdm/lib/python3.10/site-packages/asttokens/mark_tokens.py\", line 90, in _visit_after_children\n",
      "    nfirst, nlast = self._methods.get(self, node.__class__)(node, first, last)\n",
      "  File \"/home/kruteesh/miniconda3/envs/pdm/lib/python3.10/site-packages/asttokens/mark_tokens.py\", line 268, in visit_keyword\n",
      "    util.expect_token(name, token.NAME, node.arg)\n",
      "  File \"/home/kruteesh/miniconda3/envs/pdm/lib/python3.10/site-packages/asttokens/util.py\", line 56, in expect_token\n",
      "    raise ValueError(\"Expected token %s, got %s on line %s col %s\" % (\n",
      "ValueError: Expected token NAME:'help', got NAME:'ast_transformers' on line 264 col 5\n"
     ]
    }
   ],
   "source": [
    "#         label=r'$m_{x}$ = %.1e , $<\\sigma\\nu>$ = %.1eGeV Sim'%(mass_grid[0],sv))\n",
    "burkert_flux_4 = (dm2nu.extra_galactic_flux_burkert(e_grid,mass_grid[m_4_id],sv_grid[sv_56]))# + dm2nu_dm_nu.galactic_flux(e_grid,mass_grid[m_4_id],sv_grid[sv_56], 2 , 2.3e23)\n",
    "burkert_flux_6 = (dm2nu.extra_galactic_flux_burkert(e_grid,mass_grid[m_6_id],sv_grid[sv_56]))# + dm2nu.galactic_flux(e_grid,mass_grid[m_6_id],sv_grid[sv_56], 2 , 2.3e23)\n",
    "#nfw_flux_2 = (dm2nu.extra_galactic_flux_nfw(e_grid,mass_grid[m_2_id],sv_grid[sv_7]))\n",
    "#nfw_flux_3 = (dm2nu.extra_galactic_flux_nfw(e_grid,mass_grid[m_3_id],sv_grid[sv_56]))# + dm2nu.galactic_flux(e_grid,mass_grid[m_3_id],sv_grid[sv_56], 2 , 2.3e23)\n",
    "#nfw_flux_4 = (dm2nu.extra_galactic_flux_nfw(e_grid,mass_grid[m_4_id],sv_grid[sv_56]))# + dm2nu.galactic_flux(e_grid,mass_grid[m_4_id],sv_grid[sv_56], 2 , 2.3e23)\n",
    "#nfw_flux_6 = (dm2nu.extra_galactic_flux_nfw(e_grid,mass_grid[m_6_id],sv_grid[sv_56]))# + dm2nu.galactic_flux(e_grid,mass_grid[m_6_id],sv_grid[sv_56], 2 , 2.3e23)\n",
    "#nfw_flux_5 = (dm2nu.extra_galactic_flux_nfw(e_grid,mass_grid[m_5_id],sv_grid[sv_7])) + dm2nu.galactic_flux(e_grid,mass_grid[m_5_id],sv_grid[sv_56], 2 , 2.3e23)\n",
    "#ax1.step(np.log10(e_grid), burkert_flux_4 * e_grid**2., color=color_4, linest\n",
    "\n",
    "nfw_flux_2_g = dm2nu.galactic_flux_c(e_grid,mass_grid[m_2_id],sv_grid[sv_56], 2 , 2.3e23)\n",
    "nfw_flux_3_g = dm2nu.galactic_flux_c(e_grid,mass_grid[m_3_id],sv_grid[sv_56], 2 , 2.3e23)\n",
    "nfw_flux_4_g = dm2nu.galactic_flux_c(e_grid,mass_grid[m_4_id],sv_grid[sv_56], 2 , 2.3e23)\n",
    "nfw_flux_6_g = dm2nu.galactic_flux_c(e_grid,mass_grid[m_6_id],sv_grid[sv_56], 2 , 2.3e23)\n",
    "nfw_flux_5_g = dm2nu.galactic_flux_c(e_grid,mass_grid[m_5_id],sv_grid[sv_56], 2 , 2.3e23)\n"
   ]
  },
  {
   "cell_type": "code",
   "execution_count": null,
   "metadata": {},
   "outputs": [],
   "source": []
  },
  {
   "cell_type": "code",
   "execution_count": 30,
   "metadata": {},
   "outputs": [],
   "source": [
    "#pickle.dump(nfw_flux_2, open('../../../fluxes/Extra_galactic/tau/z_5/nfw_1e2.pkl', 'wb'))\n",
    "#pickle.dump(nfw_flux_3, open('../../../fluxes/Extra_galactic/tau/z_5/nfw_1e3.pkl', 'wb'))\n",
    "#pickle.dump(nfw_flux_4, open('../../../fluxes/Extra_galactic/tau/z_5/nfw_1e4.pkl', 'wb'))\n",
    "#pickle.dump(nfw_flux_5, open('../../../fluxes/Extra_galactic/tau/z_5/nfw_1e5.pkl', 'wb'))\n"
   ]
  },
  {
   "cell_type": "code",
   "execution_count": 31,
   "metadata": {},
   "outputs": [
    {
     "data": {
      "image/png": "[encoded data removed]",
      "text/plain": [
       "<Figure size 600x600 with 1 Axes>"
      ]
     },
     "metadata": {},
     "output_type": "display_data"
    }
   ],
   "source": [
    "from asyncio import constants\n",
    "\n",
    "\n",
    "figure, ax1 = plt.subplots(1, 1, figsize=(std_size,std_size), sharex=True) \n",
    "#  $<\\sigma\\nu>=%.1e$ $cm^{3}s^{-1}$' ,sv_grid[sv_56]\n",
    "#label=r'$m_{x}=1.0e+04$ $\\textrm{GeV} (Carlos$ $et.al)$'\n",
    "#label=r'$m_{x}=1.0e+06$ $\\textrm{\\textrm{\\textrm{GeV}}} (Carlos$ $et.al)$'\n",
    "ax1.set_title(r'$\\textrm{extra Galactic}$ $\\sigma\\nu = %.1e$' % (sv_grid[sv_56]), y=1.17, fontsize=fontsize)\n",
    "#ax1.step(np.log10(e_grid), dphi_2(e_grid),'o', color=\"y\")\n",
    "#plt.step(np.log10(e_grid), dphi_4(e_grid), 'o', color=color_4)\n",
    "#plt.step(np.log10(e_grid), dphi_6(e_grid), 'o',color=color_6)\n",
    "plt.step(np.log10(dphi_3[:,0]), dphi_3[:,1], 'o', color='k')\n",
    "#plt.step(np.log10(dphi_2_km[:,0]), dphi_2_km[:,1], '*',color=color_4)\n",
    "#ax1.step(e_grid, (dm2nu_dm_nu.extra_galactic_flux(e_grid,mass_grid[0],sv)) * e_grid**2.,'-.',\n",
    "\n",
    "#ax1.step([0],[0],':' , lw=1.7, color='k', label=r'$\\textrm{Burkert Profile}$' )\n",
    "#plt.plot([0],[0],'o', color='k', label=r'$\\textrm{A. Moline et. al.}$' )\n",
    "#plt.plot([0],[0],'*', color='k', label=r'$\\textrm{L.S. Miranda et. al. (KM3NeT)}$' )\n",
    "# 4*pi factor from now on is because of the plot y axis not being diffused meaning the d\\Omega integral hasnt been done ------------------------\n",
    "#ax1.step(np.log10(e_grid), burkert_flux_4 * e_grid**2 , ':', color=color_4, lw=2.1\n",
    "#         )\n",
    "#ax1.step(np.log10(e_grid), burkert_flux_6 * e_grid**2, ':', color=color_6, lw=2.1\n",
    "#         )\n",
    "ax1.step([0],[0],'--', color='k', label=r'$\\textrm{Simulation}$' )\n",
    "#ax1.plot(np.log10(e_grid), nfw_flux_2 * e_grid**2, '.', color=color_4\n",
    " #       )\n",
    "#ax1.step(np.log10(e_grid), nfw_flux_5 * e_grid**2., '*', color='b',\n",
    "#         )\n",
    "ax1.plot(np.log10(e_grid), nfw_flux_3_ex * e_grid**2 / (4*np.pi), '--', color=color_6  # type: ignore\n",
    "         )\n",
    "ax1.step(np.log10(e_grid), (shower_po)*e_grid**2, color=color_pone, label=r'$\\textrm{P}$-$\\textrm{ONE}$ [ $\\textrm{MCEq}$ ]') # Karlsruhe Corsika\n",
    "# ax1.step(np.log10(e_grid), (shower_ice + pdm._Detector.astro_flux())*e_grid**2, color=color_ice, label=r'IceCube')\n",
    "#ax1.set_xscale(\"log\")\n",
    "ax1.set_yscale(\"log\")\n",
    "ax1.set_xlabel(r'$\\log_{10}$ ( $\\textrm{E}$ / $\\textrm{GeV}$ )', fontsize=fontsize)\n",
    "ax1.set_ylabel(r'\\textbf{$E^2$} $\\textrm{d}$\\textbf{$\\phi$} / \\textrm{d}\\textbf{$E$}\\textrm{d}$\\Omega$   [ $\\textrm{GeV}$ $\\textrm{cm}^{-2}$ $\\textrm{s}^{-1}$ $\\textrm{sr}^{-1}$ ]', fontsize=fontsize)\n",
    "ax1.tick_params(axis = 'both', which = 'major', labelsize=fontsize, direction='in')\n",
    "ax1.tick_params(axis = 'both', which = 'minor', labelsize=fontsize, direction='in')\n",
    "ax1.set_xlim(0.1, 2.9)\n",
    "ax1.set_ylim(1.1e-15,1.2e-2)\n",
    "h, l = ax1.get_legend_handles_labels()\n",
    "lgd1 = ax1.legend(h, l, loc=7, bbox_to_anchor=(0.95, +1.1),\n",
    "                 ncol=2, fontsize=fontsize-2, handlelength=h_length,\n",
    "                 fancybox=True, frameon=False)\n",
    "ax1.add_artist(lgd1)\n",
    "legend_elements_s = [\n",
    "        #Line2D([0], [0], color='y', linestyle='-', lw=1.3),\n",
    "        #Line2D([0], [0], color=color_4,linestyle='-',lw=1.3),\n",
    "        #Line2D([0], [0], color=color_4,linestyle='-',lw=1.7),\n",
    "        #Line2D([0], [0], color='b', linestyle='-', lw=1.3),\n",
    "        Line2D([0], [0], color=color_6, linestyle='-', lw=1.7)\n",
    "                  ]\n",
    "labels_s = [\n",
    "        #r'$m_{x}=%.1e$ $\\textrm{GeV}$ ' %(mass_grid[m_2_id]),\n",
    "        #r'$m_{x}=%.1e$ $\\textrm{GeV}$ ' %(mass_grid[m_2_id]),\n",
    "        #r'$m_{x}=%.1e$ $\\textrm{GeV}$ ' %(mass_grid[m_2_id]),\n",
    "        #r'$m_{x}=%.1e$ $\\textrm{GeV}$ ' %(mass_grid[m_5_id]),\n",
    "        r'$m_{x}=%.1e$ $\\textrm{GeV}$ ' %(mass_grid[m_3_id])\n",
    "          ]\n",
    "lgd2 = ax1.legend(legend_elements_s, labels_s, loc=7, bbox_to_anchor=(1.01, +0.1),\n",
    "             ncol=1, fontsize=fontsize-2, handlelength=h_length,\n",
    "             fancybox=True, frameon=False)\n",
    "ax1.add_artist(lgd2)\n",
    "ax1.text(2.1, 3e-6, r'$\\chi\\chi \\rightarrow \\tau^{+}\\tau^{-}$', fontsize=fontsize+4)\n",
    "ax1.text(2.1, 1e-7, r'$\\textrm{NFW}$', fontsize=fontsize+2)\n",
    "# ---------------------------------------------\n",
    "# Showing the image\n",
    "\n",
    "plt.show()\n",
    "figure.savefig(PICS + \"Final_flux\"+\".png\",\n",
    "               bbox_inches='tight', dpi=export_dpi, facecolor='white')"
   ]
  },
  {
   "cell_type": "code",
   "execution_count": null,
   "metadata": {},
   "outputs": [],
   "source": []
  },
  {
   "cell_type": "code",
   "execution_count": 32,
   "metadata": {},
   "outputs": [
    {
     "name": "stdout",
     "output_type": "stream",
     "text": [
      "POne\n"
     ]
    }
   ],
   "source": [
    "det = Detector(aeff=Aeff())\n",
    "sig = Signal(Aeff(), dm2nu, det)\n",
    "from constants import pdm_constants as const"
   ]
  },
  {
   "cell_type": "code",
   "execution_count": 33,
   "metadata": {},
   "outputs": [],
   "source": [
    "con_ = const()"
   ]
  },
  {
   "cell_type": "code",
   "execution_count": 34,
   "metadata": {},
   "outputs": [
    {
     "name": "stdout",
     "output_type": "stream",
     "text": [
      "Unexpected exception formatting exception. Falling back to standard exception\n"
     ]
    },
    {
     "name": "stderr",
     "output_type": "stream",
     "text": [
      "Traceback (most recent call last):\n",
      "  File \"/home/kruteesh/miniconda3/envs/pdm/lib/python3.10/site-packages/pandas/core/indexes/base.py\", line 3629, in get_loc\n",
      "    return self._engine.get_loc(casted_key)\n",
      "  File \"pandas/_libs/index.pyx\", line 136, in pandas._libs.index.IndexEngine.get_loc\n",
      "  File \"pandas/_libs/index.pyx\", line 163, in pandas._libs.index.IndexEngine.get_loc\n",
      "  File \"pandas/_libs/hashtable_class_helper.pxi\", line 5198, in pandas._libs.hashtable.PyObjectHashTable.get_item\n",
      "  File \"pandas/_libs/hashtable_class_helper.pxi\", line 5206, in pandas._libs.hashtable.PyObjectHashTable.get_item\n",
      "KeyError: 'All'\n",
      "\n",
      "The above exception was the direct cause of the following exception:\n",
      "\n",
      "Traceback (most recent call last):\n",
      "  File \"/home/kruteesh/miniconda3/envs/pdm/lib/python3.10/site-packages/IPython/core/interactiveshell.py\", line 3398, in run_code\n",
      "    exec(code_obj, self.user_global_ns, self.user_ns)\n",
      "  File \"/tmp/ipykernel_5408/1562728336.py\", line 5, in <cell line: 3>\n",
      "    flux[a]['numu'] = dm2nu.galactic_flux_c(e_grid,mass_grid[m_4_id],sv_grid[sv_7], 2 , J_s[i])\n",
      "  File \"/home/kruteesh/Desktop/DM_nu_simulation/pone_dm/pone_dm/dm2nu.py\", line 99, in galactic_flux_c\n",
      "    dNdlogE = self.nu_e[self.nu_e['mDM'] == m_x][ch]\n",
      "  File \"/home/kruteesh/miniconda3/envs/pdm/lib/python3.10/site-packages/pandas/core/frame.py\", line 3505, in __getitem__\n",
      "    indexer = self.columns.get_loc(key)\n",
      "  File \"/home/kruteesh/miniconda3/envs/pdm/lib/python3.10/site-packages/pandas/core/indexes/base.py\", line 3631, in get_loc\n",
      "    raise KeyError(key) from err\n",
      "KeyError: 'All'\n",
      "\n",
      "During handling of the above exception, another exception occurred:\n",
      "\n",
      "Traceback (most recent call last):\n",
      "  File \"/home/kruteesh/miniconda3/envs/pdm/lib/python3.10/site-packages/executing/executing.py\", line 317, in executing\n",
      "    args = executing_cache[key]\n",
      "KeyError: (<code object run_code at 0x7fb5f8d1e760, file \"/home/kruteesh/miniconda3/envs/pdm/lib/python3.10/site-packages/IPython/core/interactiveshell.py\", line 3362>, 140419540313952, 76)\n",
      "\n",
      "During handling of the above exception, another exception occurred:\n",
      "\n",
      "Traceback (most recent call last):\n",
      "  File \"/home/kruteesh/miniconda3/envs/pdm/lib/python3.10/site-packages/IPython/core/interactiveshell.py\", line 1993, in showtraceback\n",
      "    stb = self.InteractiveTB.structured_traceback(\n",
      "  File \"/home/kruteesh/miniconda3/envs/pdm/lib/python3.10/site-packages/IPython/core/ultratb.py\", line 1118, in structured_traceback\n",
      "    return FormattedTB.structured_traceback(\n",
      "  File \"/home/kruteesh/miniconda3/envs/pdm/lib/python3.10/site-packages/IPython/core/ultratb.py\", line 1012, in structured_traceback\n",
      "    return VerboseTB.structured_traceback(\n",
      "  File \"/home/kruteesh/miniconda3/envs/pdm/lib/python3.10/site-packages/IPython/core/ultratb.py\", line 865, in structured_traceback\n",
      "    formatted_exception = self.format_exception_as_a_whole(etype, evalue, etb, number_of_lines_of_context,\n",
      "  File \"/home/kruteesh/miniconda3/envs/pdm/lib/python3.10/site-packages/IPython/core/ultratb.py\", line 799, in format_exception_as_a_whole\n",
      "    self.get_records(etb, number_of_lines_of_context, tb_offset) if etb else []\n",
      "  File \"/home/kruteesh/miniconda3/envs/pdm/lib/python3.10/site-packages/IPython/core/ultratb.py\", line 854, in get_records\n",
      "    return list(stack_data.FrameInfo.stack_data(etb, options=options))[tb_offset:]\n",
      "  File \"/home/kruteesh/miniconda3/envs/pdm/lib/python3.10/site-packages/stack_data/core.py\", line 565, in stack_data\n",
      "    yield from collapse_repeated(\n",
      "  File \"/home/kruteesh/miniconda3/envs/pdm/lib/python3.10/site-packages/stack_data/utils.py\", line 84, in collapse_repeated\n",
      "    yield from map(mapper, original_group)\n",
      "  File \"/home/kruteesh/miniconda3/envs/pdm/lib/python3.10/site-packages/stack_data/core.py\", line 555, in mapper\n",
      "    return cls(f, options)\n",
      "  File \"/home/kruteesh/miniconda3/envs/pdm/lib/python3.10/site-packages/stack_data/core.py\", line 520, in __init__\n",
      "    self.executing = Source.executing(frame_or_tb)\n",
      "  File \"/home/kruteesh/miniconda3/envs/pdm/lib/python3.10/site-packages/executing/executing.py\", line 369, in executing\n",
      "    args = find(source=cls.for_frame(frame), retry_cache=True)\n",
      "  File \"/home/kruteesh/miniconda3/envs/pdm/lib/python3.10/site-packages/executing/executing.py\", line 252, in for_frame\n",
      "    return cls.for_filename(frame.f_code.co_filename, frame.f_globals or {}, use_cache)\n",
      "  File \"/home/kruteesh/miniconda3/envs/pdm/lib/python3.10/site-packages/executing/executing.py\", line 270, in for_filename\n",
      "    result = source_cache[filename] = cls._for_filename_and_lines(filename, lines)\n",
      "  File \"/home/kruteesh/miniconda3/envs/pdm/lib/python3.10/site-packages/executing/executing.py\", line 281, in _for_filename_and_lines\n",
      "    result = source_cache[(filename, lines)] = cls(filename, lines)\n",
      "  File \"/home/kruteesh/miniconda3/envs/pdm/lib/python3.10/site-packages/stack_data/core.py\", line 81, in __init__\n",
      "    self.asttokens()\n",
      "  File \"/home/kruteesh/miniconda3/envs/pdm/lib/python3.10/site-packages/executing/executing.py\", line 413, in asttokens\n",
      "    return ASTTokens(\n",
      "  File \"/home/kruteesh/miniconda3/envs/pdm/lib/python3.10/site-packages/asttokens/asttokens.py\", line 65, in __init__\n",
      "    self.mark_tokens(self._tree)\n",
      "  File \"/home/kruteesh/miniconda3/envs/pdm/lib/python3.10/site-packages/asttokens/asttokens.py\", line 76, in mark_tokens\n",
      "    MarkTokens(self).visit_tree(root_node)\n",
      "  File \"/home/kruteesh/miniconda3/envs/pdm/lib/python3.10/site-packages/asttokens/mark_tokens.py\", line 47, in visit_tree\n",
      "    util.visit_tree(node, self._visit_before_children, self._visit_after_children)\n",
      "  File \"/home/kruteesh/miniconda3/envs/pdm/lib/python3.10/site-packages/asttokens/util.py\", line 192, in visit_tree\n",
      "    ret = postvisit(current, par_value, value)\n",
      "  File \"/home/kruteesh/miniconda3/envs/pdm/lib/python3.10/site-packages/asttokens/mark_tokens.py\", line 90, in _visit_after_children\n",
      "    nfirst, nlast = self._methods.get(self, node.__class__)(node, first, last)\n",
      "  File \"/home/kruteesh/miniconda3/envs/pdm/lib/python3.10/site-packages/asttokens/mark_tokens.py\", line 268, in visit_keyword\n",
      "    util.expect_token(name, token.NAME, node.arg)\n",
      "  File \"/home/kruteesh/miniconda3/envs/pdm/lib/python3.10/site-packages/asttokens/util.py\", line 56, in expect_token\n",
      "    raise ValueError(\"Expected token %s, got %s on line %s col %s\" % (\n",
      "ValueError: Expected token NAME:'help', got NAME:'ast_transformers' on line 264 col 5\n"
     ]
    }
   ],
   "source": [
    "flux={}\n",
    "J_s = [con_.J_s1, con_.J_s2, con_.J_s3 ]\n",
    "for i,a in enumerate([15, 85, 120]):\n",
    "    flux[a] = {}\n",
    "    flux[a]['numu'] = dm2nu.galactic_flux_c(e_grid,mass_grid[m_4_id],sv_grid[sv_7], 2 , J_s[i])\n",
    "    flux[a]['nue'] = dm2nu.galactic_flux_c(e_grid,mass_grid[m_4_id],sv_grid[sv_7], 2 , J_s[i])\n",
    "    flux[a]['nutau'] = dm2nu.galactic_flux_c(e_grid,mass_grid[m_4_id],sv_grid[sv_7], 2 , J_s[i])\n",
    "sig_ = det.simdec_Pone(flux, boolean_sig=True)"
   ]
  },
  {
   "cell_type": "code",
   "execution_count": null,
   "metadata": {},
   "outputs": [],
   "source": []
  },
  {
   "cell_type": "code",
   "execution_count": 35,
   "metadata": {},
   "outputs": [
    {
     "name": "stdout",
     "output_type": "stream",
     "text": [
      "Unexpected exception formatting exception. Falling back to standard exception\n"
     ]
    },
    {
     "name": "stderr",
     "output_type": "stream",
     "text": [
      "Traceback (most recent call last):\n",
      "  File \"/home/kruteesh/miniconda3/envs/pdm/lib/python3.10/site-packages/pandas/core/indexes/base.py\", line 3629, in get_loc\n",
      "    return self._engine.get_loc(casted_key)\n",
      "  File \"pandas/_libs/index.pyx\", line 136, in pandas._libs.index.IndexEngine.get_loc\n",
      "  File \"pandas/_libs/index.pyx\", line 163, in pandas._libs.index.IndexEngine.get_loc\n",
      "  File \"pandas/_libs/hashtable_class_helper.pxi\", line 5198, in pandas._libs.hashtable.PyObjectHashTable.get_item\n",
      "  File \"pandas/_libs/hashtable_class_helper.pxi\", line 5206, in pandas._libs.hashtable.PyObjectHashTable.get_item\n",
      "KeyError: 'All'\n",
      "\n",
      "The above exception was the direct cause of the following exception:\n",
      "\n",
      "Traceback (most recent call last):\n",
      "  File \"/home/kruteesh/miniconda3/envs/pdm/lib/python3.10/site-packages/IPython/core/interactiveshell.py\", line 3398, in run_code\n",
      "    exec(code_obj, self.user_global_ns, self.user_ns)\n",
      "  File \"/tmp/ipykernel_5408/2169010250.py\", line 1, in <cell line: 1>\n",
      "    sig_sig_calc = sig.signal_calc_pone(e_grid, 1e4, 1e-23)\n",
      "  File \"/home/kruteesh/Desktop/DM_nu_simulation/pone_dm/pone_dm/signal_calc.py\", line 219, in _signal_calc_pone\n",
      "    _flux[15][i] = (self._galac_dm(\n",
      "  File \"/home/kruteesh/Desktop/DM_nu_simulation/pone_dm/pone_dm/dm2nu.py\", line 99, in galactic_flux_c\n",
      "    dNdlogE = self.nu_e[self.nu_e['mDM'] == m_x][ch]\n",
      "  File \"/home/kruteesh/miniconda3/envs/pdm/lib/python3.10/site-packages/pandas/core/frame.py\", line 3505, in __getitem__\n",
      "    indexer = self.columns.get_loc(key)\n",
      "  File \"/home/kruteesh/miniconda3/envs/pdm/lib/python3.10/site-packages/pandas/core/indexes/base.py\", line 3631, in get_loc\n",
      "    raise KeyError(key) from err\n",
      "KeyError: 'All'\n",
      "\n",
      "During handling of the above exception, another exception occurred:\n",
      "\n",
      "Traceback (most recent call last):\n",
      "  File \"/home/kruteesh/miniconda3/envs/pdm/lib/python3.10/site-packages/executing/executing.py\", line 317, in executing\n",
      "    args = executing_cache[key]\n",
      "KeyError: (<code object run_code at 0x7fb5f8d1e760, file \"/home/kruteesh/miniconda3/envs/pdm/lib/python3.10/site-packages/IPython/core/interactiveshell.py\", line 3362>, 140419540313952, 76)\n",
      "\n",
      "During handling of the above exception, another exception occurred:\n",
      "\n",
      "Traceback (most recent call last):\n",
      "  File \"/home/kruteesh/miniconda3/envs/pdm/lib/python3.10/site-packages/IPython/core/interactiveshell.py\", line 1993, in showtraceback\n",
      "    stb = self.InteractiveTB.structured_traceback(\n",
      "  File \"/home/kruteesh/miniconda3/envs/pdm/lib/python3.10/site-packages/IPython/core/ultratb.py\", line 1118, in structured_traceback\n",
      "    return FormattedTB.structured_traceback(\n",
      "  File \"/home/kruteesh/miniconda3/envs/pdm/lib/python3.10/site-packages/IPython/core/ultratb.py\", line 1012, in structured_traceback\n",
      "    return VerboseTB.structured_traceback(\n",
      "  File \"/home/kruteesh/miniconda3/envs/pdm/lib/python3.10/site-packages/IPython/core/ultratb.py\", line 865, in structured_traceback\n",
      "    formatted_exception = self.format_exception_as_a_whole(etype, evalue, etb, number_of_lines_of_context,\n",
      "  File \"/home/kruteesh/miniconda3/envs/pdm/lib/python3.10/site-packages/IPython/core/ultratb.py\", line 799, in format_exception_as_a_whole\n",
      "    self.get_records(etb, number_of_lines_of_context, tb_offset) if etb else []\n",
      "  File \"/home/kruteesh/miniconda3/envs/pdm/lib/python3.10/site-packages/IPython/core/ultratb.py\", line 854, in get_records\n",
      "    return list(stack_data.FrameInfo.stack_data(etb, options=options))[tb_offset:]\n",
      "  File \"/home/kruteesh/miniconda3/envs/pdm/lib/python3.10/site-packages/stack_data/core.py\", line 565, in stack_data\n",
      "    yield from collapse_repeated(\n",
      "  File \"/home/kruteesh/miniconda3/envs/pdm/lib/python3.10/site-packages/stack_data/utils.py\", line 84, in collapse_repeated\n",
      "    yield from map(mapper, original_group)\n",
      "  File \"/home/kruteesh/miniconda3/envs/pdm/lib/python3.10/site-packages/stack_data/core.py\", line 555, in mapper\n",
      "    return cls(f, options)\n",
      "  File \"/home/kruteesh/miniconda3/envs/pdm/lib/python3.10/site-packages/stack_data/core.py\", line 520, in __init__\n",
      "    self.executing = Source.executing(frame_or_tb)\n",
      "  File \"/home/kruteesh/miniconda3/envs/pdm/lib/python3.10/site-packages/executing/executing.py\", line 369, in executing\n",
      "    args = find(source=cls.for_frame(frame), retry_cache=True)\n",
      "  File \"/home/kruteesh/miniconda3/envs/pdm/lib/python3.10/site-packages/executing/executing.py\", line 252, in for_frame\n",
      "    return cls.for_filename(frame.f_code.co_filename, frame.f_globals or {}, use_cache)\n",
      "  File \"/home/kruteesh/miniconda3/envs/pdm/lib/python3.10/site-packages/executing/executing.py\", line 270, in for_filename\n",
      "    result = source_cache[filename] = cls._for_filename_and_lines(filename, lines)\n",
      "  File \"/home/kruteesh/miniconda3/envs/pdm/lib/python3.10/site-packages/executing/executing.py\", line 281, in _for_filename_and_lines\n",
      "    result = source_cache[(filename, lines)] = cls(filename, lines)\n",
      "  File \"/home/kruteesh/miniconda3/envs/pdm/lib/python3.10/site-packages/stack_data/core.py\", line 81, in __init__\n",
      "    self.asttokens()\n",
      "  File \"/home/kruteesh/miniconda3/envs/pdm/lib/python3.10/site-packages/executing/executing.py\", line 413, in asttokens\n",
      "    return ASTTokens(\n",
      "  File \"/home/kruteesh/miniconda3/envs/pdm/lib/python3.10/site-packages/asttokens/asttokens.py\", line 65, in __init__\n",
      "    self.mark_tokens(self._tree)\n",
      "  File \"/home/kruteesh/miniconda3/envs/pdm/lib/python3.10/site-packages/asttokens/asttokens.py\", line 76, in mark_tokens\n",
      "    MarkTokens(self).visit_tree(root_node)\n",
      "  File \"/home/kruteesh/miniconda3/envs/pdm/lib/python3.10/site-packages/asttokens/mark_tokens.py\", line 47, in visit_tree\n",
      "    util.visit_tree(node, self._visit_before_children, self._visit_after_children)\n",
      "  File \"/home/kruteesh/miniconda3/envs/pdm/lib/python3.10/site-packages/asttokens/util.py\", line 192, in visit_tree\n",
      "    ret = postvisit(current, par_value, value)\n",
      "  File \"/home/kruteesh/miniconda3/envs/pdm/lib/python3.10/site-packages/asttokens/mark_tokens.py\", line 90, in _visit_after_children\n",
      "    nfirst, nlast = self._methods.get(self, node.__class__)(node, first, last)\n",
      "  File \"/home/kruteesh/miniconda3/envs/pdm/lib/python3.10/site-packages/asttokens/mark_tokens.py\", line 268, in visit_keyword\n",
      "    util.expect_token(name, token.NAME, node.arg)\n",
      "  File \"/home/kruteesh/miniconda3/envs/pdm/lib/python3.10/site-packages/asttokens/util.py\", line 56, in expect_token\n",
      "    raise ValueError(\"Expected token %s, got %s on line %s col %s\" % (\n",
      "ValueError: Expected token NAME:'help', got NAME:'ast_transformers' on line 264 col 5\n"
     ]
    }
   ],
   "source": [
    "sig_sig_calc = sig.signal_calc_pone(e_grid, 1e4, 1e-23)"
   ]
  },
  {
   "cell_type": "code",
   "execution_count": 36,
   "metadata": {},
   "outputs": [],
   "source": [
    "background_ic = pickle.load(open('/home/kruteesh/Desktop/dm_data_server/28_03_desk/data/background_ice.pkl','rb'))\n",
    "back_ice_ob = pickle.load(open('../data/tmp_files/background_ice_data_total.pkl','rb'))"
   ]
  },
  {
   "cell_type": "code",
   "execution_count": 37,
   "metadata": {},
   "outputs": [
    {
     "name": "stdout",
     "output_type": "stream",
     "text": [
      "Unexpected exception formatting exception. Falling back to standard exception\n"
     ]
    },
    {
     "name": "stderr",
     "output_type": "stream",
     "text": [
      "Traceback (most recent call last):\n",
      "  File \"/home/kruteesh/miniconda3/envs/pdm/lib/python3.10/site-packages/IPython/core/interactiveshell.py\", line 3398, in run_code\n",
      "    exec(code_obj, self.user_global_ns, self.user_ns)\n",
      "  File \"/tmp/ipykernel_5408/611557681.py\", line 6, in <cell line: 6>\n",
      "    ax1.step(np.log10(e_grid), sig_['numu'], color='b', linestyle='-',\n",
      "NameError: name 'sig_' is not defined\n",
      "\n",
      "During handling of the above exception, another exception occurred:\n",
      "\n",
      "Traceback (most recent call last):\n",
      "  File \"/home/kruteesh/miniconda3/envs/pdm/lib/python3.10/site-packages/executing/executing.py\", line 317, in executing\n",
      "    args = executing_cache[key]\n",
      "KeyError: (<code object run_code at 0x7fb5f8d1e760, file \"/home/kruteesh/miniconda3/envs/pdm/lib/python3.10/site-packages/IPython/core/interactiveshell.py\", line 3362>, 140419540313952, 76)\n",
      "\n",
      "During handling of the above exception, another exception occurred:\n",
      "\n",
      "Traceback (most recent call last):\n",
      "  File \"/home/kruteesh/miniconda3/envs/pdm/lib/python3.10/site-packages/IPython/core/interactiveshell.py\", line 1993, in showtraceback\n",
      "    stb = self.InteractiveTB.structured_traceback(\n",
      "  File \"/home/kruteesh/miniconda3/envs/pdm/lib/python3.10/site-packages/IPython/core/ultratb.py\", line 1118, in structured_traceback\n",
      "    return FormattedTB.structured_traceback(\n",
      "  File \"/home/kruteesh/miniconda3/envs/pdm/lib/python3.10/site-packages/IPython/core/ultratb.py\", line 1012, in structured_traceback\n",
      "    return VerboseTB.structured_traceback(\n",
      "  File \"/home/kruteesh/miniconda3/envs/pdm/lib/python3.10/site-packages/IPython/core/ultratb.py\", line 865, in structured_traceback\n",
      "    formatted_exception = self.format_exception_as_a_whole(etype, evalue, etb, number_of_lines_of_context,\n",
      "  File \"/home/kruteesh/miniconda3/envs/pdm/lib/python3.10/site-packages/IPython/core/ultratb.py\", line 799, in format_exception_as_a_whole\n",
      "    self.get_records(etb, number_of_lines_of_context, tb_offset) if etb else []\n",
      "  File \"/home/kruteesh/miniconda3/envs/pdm/lib/python3.10/site-packages/IPython/core/ultratb.py\", line 854, in get_records\n",
      "    return list(stack_data.FrameInfo.stack_data(etb, options=options))[tb_offset:]\n",
      "  File \"/home/kruteesh/miniconda3/envs/pdm/lib/python3.10/site-packages/stack_data/core.py\", line 565, in stack_data\n",
      "    yield from collapse_repeated(\n",
      "  File \"/home/kruteesh/miniconda3/envs/pdm/lib/python3.10/site-packages/stack_data/utils.py\", line 84, in collapse_repeated\n",
      "    yield from map(mapper, original_group)\n",
      "  File \"/home/kruteesh/miniconda3/envs/pdm/lib/python3.10/site-packages/stack_data/core.py\", line 555, in mapper\n",
      "    return cls(f, options)\n",
      "  File \"/home/kruteesh/miniconda3/envs/pdm/lib/python3.10/site-packages/stack_data/core.py\", line 520, in __init__\n",
      "    self.executing = Source.executing(frame_or_tb)\n",
      "  File \"/home/kruteesh/miniconda3/envs/pdm/lib/python3.10/site-packages/executing/executing.py\", line 369, in executing\n",
      "    args = find(source=cls.for_frame(frame), retry_cache=True)\n",
      "  File \"/home/kruteesh/miniconda3/envs/pdm/lib/python3.10/site-packages/executing/executing.py\", line 252, in for_frame\n",
      "    return cls.for_filename(frame.f_code.co_filename, frame.f_globals or {}, use_cache)\n",
      "  File \"/home/kruteesh/miniconda3/envs/pdm/lib/python3.10/site-packages/executing/executing.py\", line 270, in for_filename\n",
      "    result = source_cache[filename] = cls._for_filename_and_lines(filename, lines)\n",
      "  File \"/home/kruteesh/miniconda3/envs/pdm/lib/python3.10/site-packages/executing/executing.py\", line 281, in _for_filename_and_lines\n",
      "    result = source_cache[(filename, lines)] = cls(filename, lines)\n",
      "  File \"/home/kruteesh/miniconda3/envs/pdm/lib/python3.10/site-packages/stack_data/core.py\", line 81, in __init__\n",
      "    self.asttokens()\n",
      "  File \"/home/kruteesh/miniconda3/envs/pdm/lib/python3.10/site-packages/executing/executing.py\", line 413, in asttokens\n",
      "    return ASTTokens(\n",
      "  File \"/home/kruteesh/miniconda3/envs/pdm/lib/python3.10/site-packages/asttokens/asttokens.py\", line 65, in __init__\n",
      "    self.mark_tokens(self._tree)\n",
      "  File \"/home/kruteesh/miniconda3/envs/pdm/lib/python3.10/site-packages/asttokens/asttokens.py\", line 76, in mark_tokens\n",
      "    MarkTokens(self).visit_tree(root_node)\n",
      "  File \"/home/kruteesh/miniconda3/envs/pdm/lib/python3.10/site-packages/asttokens/mark_tokens.py\", line 47, in visit_tree\n",
      "    util.visit_tree(node, self._visit_before_children, self._visit_after_children)\n",
      "  File \"/home/kruteesh/miniconda3/envs/pdm/lib/python3.10/site-packages/asttokens/util.py\", line 192, in visit_tree\n",
      "    ret = postvisit(current, par_value, value)\n",
      "  File \"/home/kruteesh/miniconda3/envs/pdm/lib/python3.10/site-packages/asttokens/mark_tokens.py\", line 90, in _visit_after_children\n",
      "    nfirst, nlast = self._methods.get(self, node.__class__)(node, first, last)\n",
      "  File \"/home/kruteesh/miniconda3/envs/pdm/lib/python3.10/site-packages/asttokens/mark_tokens.py\", line 268, in visit_keyword\n",
      "    util.expect_token(name, token.NAME, node.arg)\n",
      "  File \"/home/kruteesh/miniconda3/envs/pdm/lib/python3.10/site-packages/asttokens/util.py\", line 56, in expect_token\n",
      "    raise ValueError(\"Expected token %s, got %s on line %s col %s\" % (\n",
      "ValueError: Expected token NAME:'help', got NAME:'ast_transformers' on line 264 col 5\n"
     ]
    },
    {
     "data": {
      "image/png": "[encoded data removed]",
      "text/plain": [
       "<Figure size 600x600 with 1 Axes>"
      ]
     },
     "metadata": {},
     "output_type": "display_data"
    }
   ],
   "source": [
    "figure, (ax1) = plt.subplots(1, 1, figsize=(std_size,std_size), sharex=True) \n",
    "##ax1 = fig.add_gridspec(2, 1, hspace=0.06, wspace=0.05)\n",
    "##(ax1) = gs.subplots( sharex=True, sharey=True)\n",
    "#\n",
    "#\n",
    "ax1.step(np.log10(e_grid), sig_['numu'], color='b', linestyle='-',\n",
    "         label=r'$m_{x}=%.1e$ $\\textrm{GeV}$' % (mass_grid[m_4_id]))\n",
    "#ax1.step(np.log10(e_grid), sig_sig_calc['numu'], color='b', linestyle='--',\n",
    "#         label=r'$m_{x}=%.1e$ $\\textrm{GeV}$' % (mass_grid[m_4_id]))\n",
    "#ax1.step(np.log10(e_grid[-len(sig_[sv_56][m_3_id]):]), sig_[5][m_4_id], color=color_4, linestyle='-',\n",
    "#         label=r'$m_{x}=%.1e$ $\\textrm{GeV}$' % (mass_grid[m_4_id]))\n",
    "#ax1.step(np.log10(e_grid[-len(sig_[sv_56][m_3_id]):]), sig_[5][m_6_id], color=color_6, linestyle='-',\n",
    "#         label=r'$m_{x}=%.1e$ $\\textrm{GeV}$' % (mass_grid[m_6_id]))\n",
    "#\n",
    "\n",
    "#ax1.step(np.log10(e_grid), np.sum(background_ic['numu'], axis=0), '-', color=color_ice, label=r'$\\textrm{IceCube Observed}$')\n",
    "\n",
    "ax1.set_yscale(\"log\")\n",
    "ax1.set_xlabel(r'$\\log_{10}$( $\\textrm{E}$ / $\\textrm{GeV}$ )', fontsize=fontsize)\n",
    "ax1.set_ylabel(r'$N_{events}$', fontsize=fontsize)\n",
    "ax1.tick_params(axis = 'both', which = 'major', labelsize=fontsize, direction='in')\n",
    "ax1.tick_params(axis = 'both', which = 'minor', labelsize=fontsize, direction='in')\n",
    "ax1.set_xlim(2.8, 6)\n",
    "ax1.set_ylim(1e0,1e6)\n",
    "h, l = ax1.get_legend_handles_labels()\n",
    "lgd1 = ax1.legend(h, l, loc=7, bbox_to_anchor=(0.95, +1.1),\n",
    "                 ncol=2, fontsize=fontsize-2, handlelength=h_length,\n",
    "                 fancybox=True, frameon=False)\n",
    "ax1.add_artist(lgd1)\n",
    "\n",
    "plt.show()\n",
    "#figure.savefig(PICS + \"Final_signal_ice\"+\".png\",\n",
    "#               bbox_inches='tight', dpi=export_dpi, facecolor='white')"
   ]
  },
  {
   "cell_type": "code",
   "execution_count": 38,
   "metadata": {},
   "outputs": [
    {
     "name": "stdout",
     "output_type": "stream",
     "text": [
      "ICeCube... Effective Areas\n",
      "Loading Effective Area\n",
      "ICeCube... Effective Areas\n",
      "Loading Effective Area\n",
      "IceCube\n"
     ]
    }
   ],
   "source": [
    "config['general']['detector'] = 'IceCube'\n",
    "config['general']['pone type'] = 'old'\n",
    "config['general']['density'] = \"NFW\" # \"Burkert\" # 'NFW'\n",
    "config['general'][\"channel\"] = 'All' # '\\[Tau]'  # \"\\\\[Nu]\\\\[Mu]\" \n",
    "config['pone']['smearing'] = 'unsmeared'\n",
    "config['general']['sigma_model'] = 'prada'\n",
    "\n",
    "\n",
    "det = Detector(aeff=Aeff())\n",
    "sig = Signal(Aeff(), dm2nu, det)\n",
    "from constants import pdm_constants as const"
   ]
  },
  {
   "cell_type": "code",
   "execution_count": 39,
   "metadata": {},
   "outputs": [],
   "source": [
    "#sig_ice_ = sig.signal_calc_ice(e_grid, mass_grid[0], sv_grid[0])"
   ]
  },
  {
   "cell_type": "code",
   "execution_count": 40,
   "metadata": {},
   "outputs": [
    {
     "name": "stdout",
     "output_type": "stream",
     "text": [
      "Unexpected exception formatting exception. Falling back to standard exception\n"
     ]
    },
    {
     "name": "stderr",
     "output_type": "stream",
     "text": [
      "Traceback (most recent call last):\n",
      "  File \"/home/kruteesh/miniconda3/envs/pdm/lib/python3.10/site-packages/IPython/core/interactiveshell.py\", line 3398, in run_code\n",
      "    exec(code_obj, self.user_global_ns, self.user_ns)\n",
      "  File \"/tmp/ipykernel_5408/747885648.py\", line 1, in <cell line: 1>\n",
      "    print(sig_ice_)\n",
      "NameError: name 'sig_ice_' is not defined\n",
      "\n",
      "During handling of the above exception, another exception occurred:\n",
      "\n",
      "Traceback (most recent call last):\n",
      "  File \"/home/kruteesh/miniconda3/envs/pdm/lib/python3.10/site-packages/executing/executing.py\", line 317, in executing\n",
      "    args = executing_cache[key]\n",
      "KeyError: (<code object run_code at 0x7fb5f8d1e760, file \"/home/kruteesh/miniconda3/envs/pdm/lib/python3.10/site-packages/IPython/core/interactiveshell.py\", line 3362>, 140419540313952, 76)\n",
      "\n",
      "During handling of the above exception, another exception occurred:\n",
      "\n",
      "Traceback (most recent call last):\n",
      "  File \"/home/kruteesh/miniconda3/envs/pdm/lib/python3.10/site-packages/IPython/core/interactiveshell.py\", line 1993, in showtraceback\n",
      "    stb = self.InteractiveTB.structured_traceback(\n",
      "  File \"/home/kruteesh/miniconda3/envs/pdm/lib/python3.10/site-packages/IPython/core/ultratb.py\", line 1118, in structured_traceback\n",
      "    return FormattedTB.structured_traceback(\n",
      "  File \"/home/kruteesh/miniconda3/envs/pdm/lib/python3.10/site-packages/IPython/core/ultratb.py\", line 1012, in structured_traceback\n",
      "    return VerboseTB.structured_traceback(\n",
      "  File \"/home/kruteesh/miniconda3/envs/pdm/lib/python3.10/site-packages/IPython/core/ultratb.py\", line 865, in structured_traceback\n",
      "    formatted_exception = self.format_exception_as_a_whole(etype, evalue, etb, number_of_lines_of_context,\n",
      "  File \"/home/kruteesh/miniconda3/envs/pdm/lib/python3.10/site-packages/IPython/core/ultratb.py\", line 799, in format_exception_as_a_whole\n",
      "    self.get_records(etb, number_of_lines_of_context, tb_offset) if etb else []\n",
      "  File \"/home/kruteesh/miniconda3/envs/pdm/lib/python3.10/site-packages/IPython/core/ultratb.py\", line 854, in get_records\n",
      "    return list(stack_data.FrameInfo.stack_data(etb, options=options))[tb_offset:]\n",
      "  File \"/home/kruteesh/miniconda3/envs/pdm/lib/python3.10/site-packages/stack_data/core.py\", line 565, in stack_data\n",
      "    yield from collapse_repeated(\n",
      "  File \"/home/kruteesh/miniconda3/envs/pdm/lib/python3.10/site-packages/stack_data/utils.py\", line 84, in collapse_repeated\n",
      "    yield from map(mapper, original_group)\n",
      "  File \"/home/kruteesh/miniconda3/envs/pdm/lib/python3.10/site-packages/stack_data/core.py\", line 555, in mapper\n",
      "    return cls(f, options)\n",
      "  File \"/home/kruteesh/miniconda3/envs/pdm/lib/python3.10/site-packages/stack_data/core.py\", line 520, in __init__\n",
      "    self.executing = Source.executing(frame_or_tb)\n",
      "  File \"/home/kruteesh/miniconda3/envs/pdm/lib/python3.10/site-packages/executing/executing.py\", line 369, in executing\n",
      "    args = find(source=cls.for_frame(frame), retry_cache=True)\n",
      "  File \"/home/kruteesh/miniconda3/envs/pdm/lib/python3.10/site-packages/executing/executing.py\", line 252, in for_frame\n",
      "    return cls.for_filename(frame.f_code.co_filename, frame.f_globals or {}, use_cache)\n",
      "  File \"/home/kruteesh/miniconda3/envs/pdm/lib/python3.10/site-packages/executing/executing.py\", line 270, in for_filename\n",
      "    result = source_cache[filename] = cls._for_filename_and_lines(filename, lines)\n",
      "  File \"/home/kruteesh/miniconda3/envs/pdm/lib/python3.10/site-packages/executing/executing.py\", line 281, in _for_filename_and_lines\n",
      "    result = source_cache[(filename, lines)] = cls(filename, lines)\n",
      "  File \"/home/kruteesh/miniconda3/envs/pdm/lib/python3.10/site-packages/stack_data/core.py\", line 81, in __init__\n",
      "    self.asttokens()\n",
      "  File \"/home/kruteesh/miniconda3/envs/pdm/lib/python3.10/site-packages/executing/executing.py\", line 413, in asttokens\n",
      "    return ASTTokens(\n",
      "  File \"/home/kruteesh/miniconda3/envs/pdm/lib/python3.10/site-packages/asttokens/asttokens.py\", line 65, in __init__\n",
      "    self.mark_tokens(self._tree)\n",
      "  File \"/home/kruteesh/miniconda3/envs/pdm/lib/python3.10/site-packages/asttokens/asttokens.py\", line 76, in mark_tokens\n",
      "    MarkTokens(self).visit_tree(root_node)\n",
      "  File \"/home/kruteesh/miniconda3/envs/pdm/lib/python3.10/site-packages/asttokens/mark_tokens.py\", line 47, in visit_tree\n",
      "    util.visit_tree(node, self._visit_before_children, self._visit_after_children)\n",
      "  File \"/home/kruteesh/miniconda3/envs/pdm/lib/python3.10/site-packages/asttokens/util.py\", line 192, in visit_tree\n",
      "    ret = postvisit(current, par_value, value)\n",
      "  File \"/home/kruteesh/miniconda3/envs/pdm/lib/python3.10/site-packages/asttokens/mark_tokens.py\", line 90, in _visit_after_children\n",
      "    nfirst, nlast = self._methods.get(self, node.__class__)(node, first, last)\n",
      "  File \"/home/kruteesh/miniconda3/envs/pdm/lib/python3.10/site-packages/asttokens/mark_tokens.py\", line 268, in visit_keyword\n",
      "    util.expect_token(name, token.NAME, node.arg)\n",
      "  File \"/home/kruteesh/miniconda3/envs/pdm/lib/python3.10/site-packages/asttokens/util.py\", line 56, in expect_token\n",
      "    raise ValueError(\"Expected token %s, got %s on line %s col %s\" % (\n",
      "ValueError: Expected token NAME:'help', got NAME:'ast_transformers' on line 264 col 5\n"
     ]
    }
   ],
   "source": [
    "print(sig_ice_)"
   ]
  },
  {
   "cell_type": "code",
   "execution_count": 41,
   "metadata": {},
   "outputs": [],
   "source": [
    "#sig_server_ice = pickle.load(open('/home/kruteesh/Desktop/server_com_dm/pone_dm/data/flux_100.000000_0.000000.pkl','rb'))"
   ]
  },
  {
   "cell_type": "code",
   "execution_count": 42,
   "metadata": {},
   "outputs": [
    {
     "name": "stdout",
     "output_type": "stream",
     "text": [
      "Unexpected exception formatting exception. Falling back to standard exception\n"
     ]
    },
    {
     "name": "stderr",
     "output_type": "stream",
     "text": [
      "Traceback (most recent call last):\n",
      "  File \"/home/kruteesh/miniconda3/envs/pdm/lib/python3.10/site-packages/IPython/core/interactiveshell.py\", line 3398, in run_code\n",
      "    exec(code_obj, self.user_global_ns, self.user_ns)\n",
      "  File \"/tmp/ipykernel_5408/3632459045.py\", line 6, in <cell line: 6>\n",
      "    ax1.step(np.log10(e_grid), sig_ice_[0], color='b', linestyle='-',\n",
      "NameError: name 'sig_ice_' is not defined\n",
      "\n",
      "During handling of the above exception, another exception occurred:\n",
      "\n",
      "Traceback (most recent call last):\n",
      "  File \"/home/kruteesh/miniconda3/envs/pdm/lib/python3.10/site-packages/executing/executing.py\", line 317, in executing\n",
      "    args = executing_cache[key]\n",
      "KeyError: (<code object run_code at 0x7fb5f8d1e760, file \"/home/kruteesh/miniconda3/envs/pdm/lib/python3.10/site-packages/IPython/core/interactiveshell.py\", line 3362>, 140419540313952, 76)\n",
      "\n",
      "During handling of the above exception, another exception occurred:\n",
      "\n",
      "Traceback (most recent call last):\n",
      "  File \"/home/kruteesh/miniconda3/envs/pdm/lib/python3.10/site-packages/IPython/core/interactiveshell.py\", line 1993, in showtraceback\n",
      "    stb = self.InteractiveTB.structured_traceback(\n",
      "  File \"/home/kruteesh/miniconda3/envs/pdm/lib/python3.10/site-packages/IPython/core/ultratb.py\", line 1118, in structured_traceback\n",
      "    return FormattedTB.structured_traceback(\n",
      "  File \"/home/kruteesh/miniconda3/envs/pdm/lib/python3.10/site-packages/IPython/core/ultratb.py\", line 1012, in structured_traceback\n",
      "    return VerboseTB.structured_traceback(\n",
      "  File \"/home/kruteesh/miniconda3/envs/pdm/lib/python3.10/site-packages/IPython/core/ultratb.py\", line 865, in structured_traceback\n",
      "    formatted_exception = self.format_exception_as_a_whole(etype, evalue, etb, number_of_lines_of_context,\n",
      "  File \"/home/kruteesh/miniconda3/envs/pdm/lib/python3.10/site-packages/IPython/core/ultratb.py\", line 799, in format_exception_as_a_whole\n",
      "    self.get_records(etb, number_of_lines_of_context, tb_offset) if etb else []\n",
      "  File \"/home/kruteesh/miniconda3/envs/pdm/lib/python3.10/site-packages/IPython/core/ultratb.py\", line 854, in get_records\n",
      "    return list(stack_data.FrameInfo.stack_data(etb, options=options))[tb_offset:]\n",
      "  File \"/home/kruteesh/miniconda3/envs/pdm/lib/python3.10/site-packages/stack_data/core.py\", line 565, in stack_data\n",
      "    yield from collapse_repeated(\n",
      "  File \"/home/kruteesh/miniconda3/envs/pdm/lib/python3.10/site-packages/stack_data/utils.py\", line 84, in collapse_repeated\n",
      "    yield from map(mapper, original_group)\n",
      "  File \"/home/kruteesh/miniconda3/envs/pdm/lib/python3.10/site-packages/stack_data/core.py\", line 555, in mapper\n",
      "    return cls(f, options)\n",
      "  File \"/home/kruteesh/miniconda3/envs/pdm/lib/python3.10/site-packages/stack_data/core.py\", line 520, in __init__\n",
      "    self.executing = Source.executing(frame_or_tb)\n",
      "  File \"/home/kruteesh/miniconda3/envs/pdm/lib/python3.10/site-packages/executing/executing.py\", line 369, in executing\n",
      "    args = find(source=cls.for_frame(frame), retry_cache=True)\n",
      "  File \"/home/kruteesh/miniconda3/envs/pdm/lib/python3.10/site-packages/executing/executing.py\", line 252, in for_frame\n",
      "    return cls.for_filename(frame.f_code.co_filename, frame.f_globals or {}, use_cache)\n",
      "  File \"/home/kruteesh/miniconda3/envs/pdm/lib/python3.10/site-packages/executing/executing.py\", line 270, in for_filename\n",
      "    result = source_cache[filename] = cls._for_filename_and_lines(filename, lines)\n",
      "  File \"/home/kruteesh/miniconda3/envs/pdm/lib/python3.10/site-packages/executing/executing.py\", line 281, in _for_filename_and_lines\n",
      "    result = source_cache[(filename, lines)] = cls(filename, lines)\n",
      "  File \"/home/kruteesh/miniconda3/envs/pdm/lib/python3.10/site-packages/stack_data/core.py\", line 81, in __init__\n",
      "    self.asttokens()\n",
      "  File \"/home/kruteesh/miniconda3/envs/pdm/lib/python3.10/site-packages/executing/executing.py\", line 413, in asttokens\n",
      "    return ASTTokens(\n",
      "  File \"/home/kruteesh/miniconda3/envs/pdm/lib/python3.10/site-packages/asttokens/asttokens.py\", line 65, in __init__\n",
      "    self.mark_tokens(self._tree)\n",
      "  File \"/home/kruteesh/miniconda3/envs/pdm/lib/python3.10/site-packages/asttokens/asttokens.py\", line 76, in mark_tokens\n",
      "    MarkTokens(self).visit_tree(root_node)\n",
      "  File \"/home/kruteesh/miniconda3/envs/pdm/lib/python3.10/site-packages/asttokens/mark_tokens.py\", line 47, in visit_tree\n",
      "    util.visit_tree(node, self._visit_before_children, self._visit_after_children)\n",
      "  File \"/home/kruteesh/miniconda3/envs/pdm/lib/python3.10/site-packages/asttokens/util.py\", line 192, in visit_tree\n",
      "    ret = postvisit(current, par_value, value)\n",
      "  File \"/home/kruteesh/miniconda3/envs/pdm/lib/python3.10/site-packages/asttokens/mark_tokens.py\", line 90, in _visit_after_children\n",
      "    nfirst, nlast = self._methods.get(self, node.__class__)(node, first, last)\n",
      "  File \"/home/kruteesh/miniconda3/envs/pdm/lib/python3.10/site-packages/asttokens/mark_tokens.py\", line 268, in visit_keyword\n",
      "    util.expect_token(name, token.NAME, node.arg)\n",
      "  File \"/home/kruteesh/miniconda3/envs/pdm/lib/python3.10/site-packages/asttokens/util.py\", line 56, in expect_token\n",
      "    raise ValueError(\"Expected token %s, got %s on line %s col %s\" % (\n",
      "ValueError: Expected token NAME:'help', got NAME:'ast_transformers' on line 264 col 5\n"
     ]
    },
    {
     "data": {
      "image/png": "[encoded data removed]",
      "text/plain": [
       "<Figure size 600x600 with 1 Axes>"
      ]
     },
     "metadata": {},
     "output_type": "display_data"
    }
   ],
   "source": [
    "figure, (ax1) = plt.subplots(1, 1, figsize=(std_size,std_size), sharex=True) \n",
    "##ax1 = fig.add_gridspec(2, 1, hspace=0.06, wspace=0.05)\n",
    "##(ax1) = gs.subplots( sharex=True, sharey=True)\n",
    "#\n",
    "#\n",
    "ax1.step(np.log10(e_grid), sig_ice_[0], color='b', linestyle='-',\n",
    "         label=r'$m_{x}=%.1e$ $\\textrm{GeV}$' % (mass_grid[m_4_id]))\n",
    "#ax1.step(np.log10(e_grid), sig_sig_calc['numu'], color='b', linestyle='--',\n",
    "#         label=r'$m_{x}=%.1e$ $\\textrm{GeV}$' % (mass_grid[m_4_id]))\n",
    "#ax1.step(np.log10(e_grid[-len(sig_[sv_56][m_3_id]):]), sig_[5][m_4_id], color=color_4, linestyle='-',\n",
    "#         label=r'$m_{x}=%.1e$ $\\textrm{GeV}$' % (mass_grid[m_4_id]))\n",
    "#ax1.step(np.log10(e_grid[-len(sig_[sv_56][m_3_id]):]), sig_[5][m_6_id], color=color_6, linestyle='-',\n",
    "#         label=r'$m_{x}=%.1e$ $\\textrm{GeV}$' % (mass_grid[m_6_id]))\n",
    "#\n",
    "\n",
    "#ax1.step(np.log10(e_grid), np.sum(background_ic['numu'], axis=0), '-', color=color_ice, label=r'$\\textrm{IceCube Observed}$')\n",
    "\n",
    "ax1.set_yscale(\"log\")\n",
    "ax1.set_xlabel(r'$\\log_{10}$( $\\textrm{E}$ / $\\textrm{GeV}$ )', fontsize=fontsize)\n",
    "ax1.set_ylabel(r'$N_{events}$', fontsize=fontsize)\n",
    "ax1.tick_params(axis = 'both', which = 'major', labelsize=fontsize, direction='in')\n",
    "ax1.tick_params(axis = 'both', which = 'minor', labelsize=fontsize, direction='in')\n",
    "ax1.set_xlim(2.8, 6)\n",
    "ax1.set_ylim(1e0,1e6)\n",
    "h, l = ax1.get_legend_handles_labels()\n",
    "lgd1 = ax1.legend(h, l, loc=7, bbox_to_anchor=(0.95, +1.1),\n",
    "                 ncol=2, fontsize=fontsize-2, handlelength=h_length,\n",
    "                 fancybox=True, frameon=False)\n",
    "ax1.add_artist(lgd1)\n",
    "\n",
    "plt.show()\n",
    "#figure.savefig(PICS + \"Final_signal_ice\"+\".png\",\n",
    "#               bbox_inches='tight', dpi=export_dpi, facecolor='white')"
   ]
  },
  {
   "cell_type": "code",
   "execution_count": null,
   "metadata": {},
   "outputs": [],
   "source": []
  }
 ],
 "metadata": {
  "kernelspec": {
   "display_name": "Python 3.10.6 ('pdm')",
   "language": "python",
   "name": "python3"
  },
  "language_info": {
   "codemirror_mode": {
    "name": "ipython",
    "version": 3
   },
   "file_extension": ".py",
   "mimetype": "text/x-python",
   "name": "python",
   "nbconvert_exporter": "python",
   "pygments_lexer": "ipython3",
   "version": "3.10.6"
  },
  "vscode": {
   "interpreter": {
    "hash": "82a3a656d33f35b7f3fe77a22343614a58c995dc979ba6da45d214804d59b344"
   }
  }
 },
 "nbformat": 4,
 "nbformat_minor": 2
}
