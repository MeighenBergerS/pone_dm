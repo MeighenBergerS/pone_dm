{
 "cells": [
  {
   "cell_type": "code",
   "execution_count": 6,
   "metadata": {},
   "outputs": [],
   "source": [
    "# to compare the dm2nu changes"
   ]
  },
  {
   "cell_type": "code",
   "execution_count": 7,
   "metadata": {},
   "outputs": [
    {
     "ename": "ModuleNotFoundError",
     "evalue": "No module named 'pandas'",
     "output_type": "error",
     "traceback": [
      "\u001b[0;31m---------------------------------------------------------------------------\u001b[0m",
      "\u001b[0;31mModuleNotFoundError\u001b[0m                       Traceback (most recent call last)",
      "Cell \u001b[0;32mIn [7], line 5\u001b[0m\n\u001b[1;32m      3\u001b[0m \u001b[38;5;28;01mfrom\u001b[39;00m \u001b[38;5;21;01mconfig\u001b[39;00m \u001b[38;5;28;01mimport\u001b[39;00m config\n\u001b[1;32m      4\u001b[0m \u001b[38;5;28;01mfrom\u001b[39;00m \u001b[38;5;21;01mpone_aeff\u001b[39;00m \u001b[38;5;28;01mimport\u001b[39;00m Aeff\n\u001b[0;32m----> 5\u001b[0m \u001b[38;5;28;01mfrom\u001b[39;00m \u001b[38;5;21;01mdm2nu\u001b[39;00m \u001b[38;5;28;01mimport\u001b[39;00m DM2Nu\n\u001b[1;32m      6\u001b[0m \u001b[38;5;28;01mfrom\u001b[39;00m \u001b[38;5;21;01matm_shower\u001b[39;00m \u001b[38;5;28;01mimport\u001b[39;00m Atm_Shower\n\u001b[1;32m      7\u001b[0m \u001b[38;5;28;01mfrom\u001b[39;00m \u001b[38;5;21;01mdetectors\u001b[39;00m \u001b[38;5;28;01mimport\u001b[39;00m Detector\n",
      "File \u001b[0;32m~/Desktop/DM_nu_simulation_P-One/PONE_git/pone_work/pone_dm/dm2nu.py:11\u001b[0m\n\u001b[1;32m      9\u001b[0m \u001b[38;5;28;01mimport\u001b[39;00m \u001b[38;5;21;01mnumpy\u001b[39;00m \u001b[38;5;28;01mas\u001b[39;00m \u001b[38;5;21;01mnp\u001b[39;00m\n\u001b[1;32m     10\u001b[0m \u001b[38;5;28;01mimport\u001b[39;00m \u001b[38;5;21;01mpickle\u001b[39;00m\n\u001b[0;32m---> 11\u001b[0m \u001b[38;5;28;01mimport\u001b[39;00m \u001b[38;5;21;01mpandas\u001b[39;00m \u001b[38;5;28;01mas\u001b[39;00m \u001b[38;5;21;01mpd\u001b[39;00m\n\u001b[1;32m     12\u001b[0m \u001b[38;5;28;01mfrom\u001b[39;00m \u001b[38;5;21;01mscipy\u001b[39;00m\u001b[38;5;21;01m.\u001b[39;00m\u001b[38;5;21;01mintegrate\u001b[39;00m \u001b[38;5;28;01mimport\u001b[39;00m quad\n\u001b[1;32m     13\u001b[0m \u001b[38;5;28;01mfrom\u001b[39;00m \u001b[38;5;21;01mscipy\u001b[39;00m\u001b[38;5;21;01m.\u001b[39;00m\u001b[38;5;21;01minterpolate\u001b[39;00m \u001b[38;5;28;01mimport\u001b[39;00m UnivariateSpline\n",
      "\u001b[0;31mModuleNotFoundError\u001b[0m: No module named 'pandas'"
     ]
    }
   ],
   "source": [
    "# imports\n",
    "from constants import pdm_constants as const\n",
    "from config import config\n",
    "from pone_aeff import Aeff\n",
    "from dm2nu import DM2Nu\n",
    "from atm_shower import Atm_Shower\n",
    "from detectors import Detector\n",
    "import numpy as np\n",
    "\n",
    "import matplotlib.pyplot as plt\n",
    "from matplotlib.lines import Line2D\n",
    "import matplotlib.patches as mpatches\n",
    "\n",
    "from limit_calc import Limits\n",
    "from bkgrd_calc import Background\n",
    "from signal_calc import Signal\n",
    "from pdm import PDM\n",
    "from scipy.interpolate import UnivariateSpline\n",
    "from scipy.stats import chi2\n",
    "from scipy.stats import *\n",
    "from pone_aeff import Aeff\n",
    "import pickle\n",
    "from matplotlib import rc\n",
    "\n",
    "import os\n",
    "import shutil\n",
    "def find_nearest(array, value: float):\n",
    "    \n",
    "    \"\"\" Returns: index of the nearest vlaue of an array to the given number\n",
    "    --------------\n",
    "    idx :  float\n",
    "    \"\"\"\n",
    "    array = np.array(array)\n",
    "    idx = (np.abs(array - value)).argmin()\n",
    "    return idx"
   ]
  },
  {
   "cell_type": "code",
   "execution_count": 2,
   "metadata": {},
   "outputs": [
    {
     "ename": "NameError",
     "evalue": "name 'rc' is not defined",
     "output_type": "error",
     "traceback": [
      "\u001b[0;31m---------------------------------------------------------------------------\u001b[0m",
      "\u001b[0;31mNameError\u001b[0m                                 Traceback (most recent call last)",
      "Cell \u001b[0;32mIn [2], line 18\u001b[0m\n\u001b[1;32m     16\u001b[0m color_6\u001b[38;5;241m=\u001b[39m\u001b[38;5;124m'\u001b[39m\u001b[38;5;124m#d95f02\u001b[39m\u001b[38;5;124m'\u001b[39m\n\u001b[1;32m     17\u001b[0m color_km \u001b[38;5;241m=\u001b[39m \u001b[38;5;124m'\u001b[39m\u001b[38;5;124m#1a9641\u001b[39m\u001b[38;5;124m'\u001b[39m\n\u001b[0;32m---> 18\u001b[0m \u001b[43mrc\u001b[49m(\u001b[38;5;124m'\u001b[39m\u001b[38;5;124mfont\u001b[39m\u001b[38;5;124m'\u001b[39m,\u001b[38;5;241m*\u001b[39m\u001b[38;5;241m*\u001b[39m{\u001b[38;5;124m'\u001b[39m\u001b[38;5;124mfamily\u001b[39m\u001b[38;5;124m'\u001b[39m:\u001b[38;5;124m'\u001b[39m\u001b[38;5;124msans-serif\u001b[39m\u001b[38;5;124m'\u001b[39m,\u001b[38;5;124m'\u001b[39m\u001b[38;5;124msans-serif\u001b[39m\u001b[38;5;124m'\u001b[39m:[\u001b[38;5;124m'\u001b[39m\u001b[38;5;124mHelvetica\u001b[39m\u001b[38;5;124m'\u001b[39m]})\n\u001b[1;32m     19\u001b[0m rc(\u001b[38;5;124m'\u001b[39m\u001b[38;5;124mtext\u001b[39m\u001b[38;5;124m'\u001b[39m, usetex\u001b[38;5;241m=\u001b[39m\u001b[38;5;28;01mTrue\u001b[39;00m)\n",
      "\u001b[0;31mNameError\u001b[0m: name 'rc' is not defined"
     ]
    }
   ],
   "source": [
    "# picture path\n",
    "PICS = '../pics/'\n",
    "name=[r'$\\nu_{\\mu}$', r\"$\\nu_e$\", r\"$\\nu_{\\tau}$\"]  # ,r'$\\nu_{e}$',r'$\\nu_{\\tau}$'\n",
    "# Plotting standards\n",
    "std_size = 6.  # Size of the plot\n",
    "fontsize = 15.  # Fontsize in the plot\n",
    "\n",
    "h_length=1.5  # Handle length for the legends\n",
    "export_dpi = 500  # Dpi for the image export\n",
    "color_pone='#7570b3'\n",
    "color_ice='#e7298a'\n",
    "color_combined='#33a02c'\n",
    "color_thermal='#1f78b4'\n",
    "color_unitary='k'\n",
    "color_4='#1b9e77'\n",
    "color_6='#d95f02'\n",
    "color_km = '#1a9641'\n",
    "rc('font',**{'family':'sans-serif','sans-serif':['Helvetica']})\n",
    "rc('text', usetex=True)"
   ]
  },
  {
   "cell_type": "code",
   "execution_count": 3,
   "metadata": {},
   "outputs": [],
   "source": [
    "low_E_sigma = {\n",
    "                'numu': [0.45, 0.35, 0.25, 0.15],\n",
    "                'nue': [0.55, 0.45, 0.35, 0.25],\n",
    "                'nutau': [0.55, 0.45, 0.35, 0.25]},\n",
    "high_E_sigma = {\n",
    "                'numu': [0.25, 0.15, 0.10, 0.09],\n",
    "                'nue': [0.15, 0.12, 0.09, 0.07],\n",
    "                'nutau': [0.15, 0.12, 0.09, 0.07] }"
   ]
  },
  {
   "cell_type": "code",
   "execution_count": 4,
   "metadata": {},
   "outputs": [],
   "source": [
    "# Some example settings\n",
    "#config['atmospheric showers']['interaction model'] = 'SIBYLL2.3c'\n",
    "#config['atmospheric showers']['theta angles'] = np.linspace(0., 90., 91)|\n",
    "#config['atmospheric showers']['particles of interest']=['nue']\n",
    "#for i in name_part:\n",
    "config['general']['detector'] = 'POne'\n",
    "config['general']['pone type'] = 'old'\n",
    "config['general']['density'] = \"NFW\" # \"Burkert\" # 'NFW'\n",
    "config['general'][\"channel\"] = \"All\" # i #\"\\[Tau]\"   # \"\\\\[Nu]\\\\[Mu]\" \n",
    "config['pone']['smearing'] = 'unsmeared'\n",
    "config['pone']['low E sigma'] = {'numu': 0.25,\n",
    "                                 'nue': 0.25,\n",
    "                                 'nutau': 0.25}\n",
    "config['pone']['high E sigma'] = {'numu': 0.15,\n",
    "                                 'nue': 0.07,\n",
    "                                 'nutau': 0.07}\n",
    "##low E sigma': {\n",
    "##                'numu': [0.45, 0.35, 0.25, 0.15],\n",
    "##                'nue': [0.55, 0.45, 0.35, 0.25],\n",
    "##                'nutau': [0.55, 0.45, 0.35, 0.25]},\n",
    "##            'high E sigma': {\n",
    "##                'numu': [0.25, 0.15, 0.10, 0.09],\n",
    "##                'nue': [0.15, 0.12, 0.09, 0.07],\n",
    "##                'nutau': [0.15, 0.12, 0.09, 0.07]\n",
    "#    pdm = PDM()\n",
    "#    os.replace('../data/tmp_files/unsmeared/limits_results_POne_un_NFW.pkl', '../data/rescaled_pone_corrected/limits_results_POne_NFW_re_%s_ex.pkl' %(i))\n",
    "#    os.replace('../data/tmp_files/unsmeared/signal_grid_POne_un_NFW.pkl', '../data/rescaled_pone_corrected/signal_POne_NFW_re_%s_ex.pkl' %(i))"
   ]
  },
  {
   "cell_type": "code",
   "execution_count": 5,
   "metadata": {},
   "outputs": [],
   "source": [
    "surface_fluxe = pickle.load(open(\"../data/\" +\n",
    "                                                   \"surf_store_v1.p\", \"rb\"))"
   ]
  },
  {
   "cell_type": "code",
   "execution_count": 6,
   "metadata": {},
   "outputs": [
    {
     "name": "stdout",
     "output_type": "stream",
     "text": [
      "unsmeared\n",
      "POne\n",
      "pone background\n",
      "Starting Calculation\n",
      "False\n",
      "Finished Calculating Background\n"
     ]
    },
    {
     "name": "stderr",
     "output_type": "stream",
     "text": [
      "/home/kruteesh/Desktop/DM_nu_simulation_P-One/PONE_git/pone_work/pone_dm/dm2nu.py:355: RuntimeWarning: overflow encountered in exp\n",
      "  dd = np.exp(d_2 / s_in(x)**2)\n",
      "100%|██████████| 3/3 [00:00<00:00, 16.54it/s]\n"
     ]
    }
   ],
   "source": [
    "pdm = PDM()"
   ]
  },
  {
   "cell_type": "code",
   "execution_count": 7,
   "metadata": {},
   "outputs": [],
   "source": [
    "e_grid = pdm._shower_sim.egrid\n",
    "e_width = pdm._shower_sim.ewidth"
   ]
  },
  {
   "cell_type": "code",
   "execution_count": 8,
   "metadata": {},
   "outputs": [],
   "source": [
    "_bkgrd_ice_data = [\n",
    "                        '../data/icecube_10year_ps/events/IC40_exp.csv',\n",
    "                        '../data/icecube_10year_ps/events/IC59_exp.csv',\n",
    "                        '../data/icecube_10year_ps/events/IC79_exp.csv',\n",
    "                        '../data/icecube_10year_ps/events/IC86_I_exp.csv',\n",
    "                        '../data/icecube_10year_ps/events/IC86_II_exp.csv',\n",
    "                        '../data/icecube_10year_ps/events/IC86_III_exp.csv',\n",
    "                        '../data/icecube_10year_ps/events/IC86_IV_exp.csv',\n",
    "                        '../data/icecube_10year_ps/events/IC86_V_exp.csv',\n",
    "                        '../data/icecube_10year_ps/events/IC86_VI_exp.csv',\n",
    "                        '../data/icecube_10year_ps/events/IC86_VII_exp.csv',\n",
    "                    ]"
   ]
  },
  {
   "cell_type": "code",
   "execution_count": 9,
   "metadata": {},
   "outputs": [],
   "source": [
    "# Grids\n",
    "mass_grid = config['simulation parameters']['mass grid']\n",
    "sv_grid = config['simulation parameters']['sv grid']\n",
    "m_4_id = find_nearest(mass_grid, 1e4)\n",
    "m_6_id = find_nearest(mass_grid, 1e6)\n",
    "m_3_id = find_nearest(mass_grid, 1e3)\n",
    "m_5_id = find_nearest(mass_grid, 1e5)\n",
    "sv_56 = find_nearest(sv_grid, 5.6e-23)\n",
    "# The limit calculation\n"
   ]
  },
  {
   "cell_type": "code",
   "execution_count": 10,
   "metadata": {},
   "outputs": [
    {
     "data": {
      "text/plain": [
       "array([[[4.71523093e+04, 1.53459280e-10],\n",
       "        [5.60497613e+04, 1.96288387e-10],\n",
       "        [7.04102047e+04, 2.26695859e-10],\n",
       "        [9.25043476e+04, 2.62434648e-10],\n",
       "        [1.15056452e+05, 2.83833139e-10],\n",
       "        [1.48558994e+05, 3.20599461e-10],\n",
       "        [1.93633804e+05, 3.92318799e-10],\n",
       "        [2.52276868e+05, 5.18154640e-10],\n",
       "        [3.09297992e+05, 6.89257983e-10],\n",
       "        [3.56977496e+05, 9.89944054e-10],\n",
       "        [3.87710108e+05, 2.29779058e-09],\n",
       "        [4.53992662e+05, 3.17683977e-09],\n",
       "        [4.82168854e+05, 4.38613018e-09],\n",
       "        [5.21973227e+05, 6.05574703e-09],\n",
       "        [5.73914043e+05, 9.73019151e-09],\n",
       "        [6.31028068e+05, 7.24924411e-09],\n",
       "        [6.93825892e+05, 2.03091762e-08],\n",
       "        [7.45239618e+05, 1.59696980e-08],\n",
       "        [7.98043927e+05, 1.22436833e-08],\n",
       "        [8.51217508e+05, 1.76706590e-09],\n",
       "        [9.15185392e+05, 1.37202694e-09],\n",
       "        [9.96285866e+05, 1.14931629e-10]]])"
      ]
     },
     "execution_count": 10,
     "metadata": {},
     "output_type": "execute_result"
    }
   ],
   "source": [
    "dphi_2=np.loadtxt(open(\"../data/m_1e2.csv\"), delimiter = \",\")\n",
    "dphi_2[dphi_2[:,0].sort()]\n",
    "\n",
    "dphi_4=np.loadtxt(open(\"../data/m_1e4.csv\"), delimiter = \",\")\n",
    "dphi_4[dphi_4[:,0].sort()]\n",
    "\n",
    "dphi_6=np.loadtxt(open(\"../data/m_1e6.csv\"), delimiter = \",\")\n",
    "dphi_6[dphi_6[:,0].sort()]\n",
    "#dphi_ice=np.loadtxt(open(\"../data/icecube.csv\"), delimiter = \",\")\n",
    "#dphi_ice[dphi_ice[:,0].sort()]"
   ]
  },
  {
   "cell_type": "code",
   "execution_count": 11,
   "metadata": {},
   "outputs": [],
   "source": [
    "dphi_4=UnivariateSpline(dphi_4[:,0],dphi_4[:,1],k=1,s=0,ext=1)\n",
    "#mass_grid[0],sv_grid[-1],mass_grid[-1],sv_grid[-1]\n",
    "#dphi_ic=UnivariateSpline(dphi_ice[:,0],dphi_ice[:,1],k=1,s=0,ext=1)\n",
    "dphi_6=UnivariateSpline(dphi_6[:,0],dphi_6[:,1],k=1,s=0, ext=1)\n",
    "#dphi_2=UnivariateSpline(dphi_2[:,0],dphi_2[:,1],k=1,s=0, ext=1)\n"
   ]
  },
  {
   "cell_type": "code",
   "execution_count": 12,
   "metadata": {},
   "outputs": [],
   "source": [
    "\n",
    "\n",
    "shower_flux = pickle.load(open('../data/shower.p','rb'))\n",
    "shower_po = shower_flux[2][45]['numu']\n",
    "surface_fluxe_ice = pickle.load(open(\"../data/surf_store_v1.p\", \"rb\"))\n",
    "shower_ice = surface_fluxe_ice[20][3] # background fluxes at 20° ----\n",
    "\n"
   ]
  },
  {
   "cell_type": "code",
   "execution_count": 13,
   "metadata": {},
   "outputs": [],
   "source": [
    "np.logspace(2,6,53)[26]\n",
    "sv_7 = find_nearest(sv_grid, 7e-22)\n",
    "m_2_id = find_nearest(mass_grid, 1e2)"
   ]
  },
  {
   "cell_type": "code",
   "execution_count": 14,
   "metadata": {},
   "outputs": [
    {
     "name": "stderr",
     "output_type": "stream",
     "text": [
      "/home/kruteesh/Desktop/DM_nu_simulation_P-One/PONE_git/pone_work/pone_dm/dm2nu.py:355: RuntimeWarning: overflow encountered in exp\n",
      "  dd = np.exp(d_2 / s_in(x)**2)\n",
      "findfont: Font family ['sans-serif'] not found. Falling back to DejaVu Sans.\n"
     ]
    },
    {
     "data": {
      "image/png": "[encoded data removed]",
      "text/plain": [
       "<Figure size 432x432 with 1 Axes>"
      ]
     },
     "metadata": {
      "needs_background": "light"
     },
     "output_type": "display_data"
    }
   ],
   "source": [
    "from asyncio import constants\n",
    "\n",
    "\n",
    "figure, ax1 = plt.subplots(1, 1, figsize=(std_size,std_size), sharex=True) \n",
    "#  $<\\sigma\\nu>=%.1e$ $cm^{3}s^{-1}$' ,sv_grid[sv_56]\n",
    "#label=r'$m_{x}=1.0e+04$ $\\textrm{GeV} (Carlos$ $et.al)$'\n",
    "#label=r'$m_{x}=1.0e+06$ $\\textrm{\\textrm{\\textrm{GeV}}} (Carlos$ $et.al)$'\n",
    "ax1.set_title(r'$\\sigma\\nu = %.1e$' % (sv_grid[sv_56]), y=1.17, fontsize=fontsize)\n",
    "#ax1.step(np.log10(e_grid), dphi_2(e_grid),'o', color=\"y\")\n",
    "plt.step(np.log10(e_grid), dphi_4(e_grid), 'o', color=color_4)\n",
    "plt.step(np.log10(e_grid), dphi_6(e_grid), 'o',color=color_6)\n",
    "#ax1.step(e_grid, (pdm._dm_nu.extra_galactic_flux(e_grid,mass_grid[0],sv)) * e_grid**2.,'-.',\n",
    "#         label=r'$m_{x}$ = %.1e , $<\\sigma\\nu>$ = %.1eGeV Sim'%(mass_grid[0],sv))\n",
    "burkert_flux_4 = (pdm._dm_nu.extra_galactic_flux_burkert(e_grid,mass_grid[m_4_id],sv_grid[sv_56]))# + pdm._dm_nu.galactic_flux(e_grid,mass_grid[m_4_id],sv_grid[sv_56], 2 , 2.3e23)\n",
    "burkert_flux_6 = (pdm._dm_nu.extra_galactic_flux_burkert(e_grid,mass_grid[m_6_id],sv_grid[sv_56]))# + pdm._dm_nu.galactic_flux(e_grid,mass_grid[m_6_id],sv_grid[sv_56], 2 , 2.3e23)\n",
    "nfw_flux_2 = (pdm._dm_nu.extra_galactic_flux_nfw(e_grid,mass_grid[m_2_id],sv_grid[sv_7]))\n",
    "nfw_flux_3 = (pdm._dm_nu.extra_galactic_flux_nfw(e_grid,mass_grid[m_3_id],sv_grid[sv_56]))# + pdm._dm_nu.galactic_flux(e_grid,mass_grid[m_3_id],sv_grid[sv_56], 2 , 2.3e23)\n",
    "nfw_flux_4 = (pdm._dm_nu.extra_galactic_flux_nfw(e_grid,mass_grid[m_4_id],sv_grid[sv_56]))# + pdm._dm_nu.galactic_flux(e_grid,mass_grid[m_4_id],sv_grid[sv_56], 2 , 2.3e23)\n",
    "nfw_flux_6 = (pdm._dm_nu.extra_galactic_flux_nfw(e_grid,mass_grid[m_6_id],sv_grid[sv_56]))# + pdm._dm_nu.galactic_flux(e_grid,mass_grid[m_6_id],sv_grid[sv_56], 2 , 2.3e23)\n",
    "#nfw_flux_5 = (pdm._dm_nu.extra_galactic_flux_nfw(e_grid,mass_grid[m_5_id],sv_grid[sv_7])) + pdm._dm_nu.galactic_flux(e_grid,mass_grid[m_5_id],sv_grid[sv_56], 2 , 2.3e23)\n",
    "#ax1.step(np.log10(e_grid), burkert_flux_4 * e_grid**2., color=color_4, linest\n",
    "\n",
    "#nfw_flux_2 = (pdm._dm_nu.extra_galactic_flux_c(e_grid,mass_grid[m_2_id],sv_grid[sv_7]))\n",
    "#nfw_flux_3 = (pdm._dm_nu.extra_galactic_flux_c(e_grid,mass_grid[m_3_id],sv_grid[sv_7]))# + pdm._dm_nu.galactic_flux(e_grid,mass_grid[3],sv_grid[sv_56], 2 , 2.3e23)\n",
    "#nfw_flux_4 = (pdm._dm_nu.extra_galactic_flux_c(e_grid,mass_grid[m_4_id],sv_grid[sv_7]))# + pdm._dm_nu.galactic_flux(e_grid,mass_grid[26],sv_grid[sv_56], 2 , 2.3e23)\n",
    "#nfw_flux_6 = (pdm._dm_nu.extra_galactic_flux_c(e_grid,mass_grid[m_6_id],sv_grid[sv_7]))# + pdm._dm_nu.galactic_flux(e_grid,mass_grid[-1],sv_grid[sv_56], 2 , 2.3e23)\n",
    "#nfw_flux_5 = (pdm._dm_nu.extra_galactic_flux_c(e_grid,mass_grid[m_5_id],sv_grid[sv_7]))\n",
    "\n",
    "\n",
    "ax1.step([0],[0],'--', color='k', label=r'$\\textrm{NFW Profile}$' )\n",
    "ax1.step([0],[0],':' , lw=1.7, color='k', label=r'$\\textrm{Burkert Profile}$' )\n",
    "plt.plot([0],[0],'o', color='k', label=r'$\\textrm{Argüelles et. al.}$' )\n",
    "# 4*pi factor from now on is because of the plot y axis not being diffused meaning the d\\Omega integral hasnt been done ------------------------\n",
    "ax1.step(np.log10(e_grid), burkert_flux_4 * e_grid**2 / (4*np.pi), ':', color=color_4, lw=2.1\n",
    "         )\n",
    "ax1.step(np.log10(e_grid), burkert_flux_6 * e_grid**2 / (4*np.pi), ':', color=color_6, lw=2.1\n",
    "         )\n",
    "\n",
    "ax1.step(np.log10(e_grid), nfw_flux_4 * e_grid**2 / (4*np.pi), '--', color=color_4\n",
    "        )\n",
    "#ax1.step(np.log10(e_grid), nfw_flux_5 * e_grid**2., '*', color='b',\n",
    "#         )\n",
    "ax1.step(np.log10(e_grid), nfw_flux_6 * e_grid**2 / (4*np.pi), '--', color=color_6  # type: ignore\n",
    "         )\n",
    "ax1.step(np.log10(e_grid), (shower_po + pdm._Detector.astro_flux())*e_grid**2, color=color_pone, label=r'$\\textrm{P}$-$\\textrm{ONE}$ [ $\\textrm{MCEq}$ ]') # Karlsruhe Corsika\n",
    "# ax1.step(np.log10(e_grid), (shower_ice + pdm._Detector.astro_flux())*e_grid**2, color=color_ice, label=r'IceCube')\n",
    "#ax1.set_xscale(\"log\")\n",
    "ax1.set_yscale(\"log\")\n",
    "ax1.set_xlabel(r'$\\log_{10}$ ( $\\textrm{E}$ / $\\textrm{GeV}$ )', fontsize=fontsize)\n",
    "ax1.set_ylabel(r'\\textbf{$E^2$} $\\textrm{d}$\\textbf{$\\phi$} / \\textrm{d}\\textbf{$E$}\\textrm{d}$\\Omega$   [ $\\textrm{GeV}$ $\\textrm{cm}^{-2}$ $\\textrm{s}^{-1}$ $\\textrm{sr}^{-1}$ ]', fontsize=fontsize)\n",
    "ax1.tick_params(axis = 'both', which = 'major', labelsize=fontsize, direction='in')\n",
    "ax1.tick_params(axis = 'both', which = 'minor', labelsize=fontsize, direction='in')\n",
    "ax1.set_xlim(1.9, 7)\n",
    "#ax1.set_ylim(1.1e-9,1.2e-5)\n",
    "h, l = ax1.get_legend_handles_labels()\n",
    "lgd1 = ax1.legend(h, l, loc=7, bbox_to_anchor=(0.95, +1.1),\n",
    "                 ncol=2, fontsize=fontsize-2, handlelength=h_length,\n",
    "                 fancybox=True, frameon=False)\n",
    "ax1.add_artist(lgd1)\n",
    "legend_elements_s = [\n",
    "        #Line2D([0], [0], color='y', linestyle='-', lw=1.3),\n",
    "        #Line2D([0], [0], color=color_4,linestyle='-',lw=1.3),\n",
    "        Line2D([0], [0], color=color_4,linestyle='-',lw=1.7),\n",
    "        #Line2D([0], [0], color='b', linestyle='-', lw=1.3),\n",
    "        Line2D([0], [0], color=color_6, linestyle='-', lw=1.7)\n",
    "                  ]\n",
    "labels_s = [\n",
    "        #r'$m_{x}=%.1e$ $\\textrm{GeV}$ ' %(mass_grid[m_2_id]),\n",
    "        #r'$m_{x}=%.1e$ $\\textrm{GeV}$ ' %(mass_grid[m_2_id]),\n",
    "        r'$m_{x}=%.1e$ $\\textrm{GeV}$ ' %(mass_grid[m_4_id]),\n",
    "        #r'$m_{x}=%.1e$ $\\textrm{GeV}$ ' %(mass_grid[m_5_id]),\n",
    "        r'$m_{x}=%.1e$ $\\textrm{GeV}$ ' %(mass_grid[m_6_id])\n",
    "          ]\n",
    "lgd2 = ax1.legend(legend_elements_s, labels_s, loc=7, bbox_to_anchor=(1.02, +0.8),\n",
    "             ncol=1, fontsize=fontsize-2, handlelength=h_length,\n",
    "             fancybox=True, frameon=False)\n",
    "ax1.add_artist(lgd2)\n",
    "# ---------------------------------------------\n",
    "# Showing the image\n",
    "\n",
    "plt.show()\n",
    "figure.savefig(PICS + \"Final_flux\"+\".png\",\n",
    "               bbox_inches='tight', dpi=export_dpi, facecolor='white')"
   ]
  },
  {
   "cell_type": "code",
   "execution_count": null,
   "metadata": {},
   "outputs": [],
   "source": []
  },
  {
   "cell_type": "code",
   "execution_count": null,
   "metadata": {},
   "outputs": [],
   "source": []
  }
 ],
 "metadata": {
  "kernelspec": {
   "display_name": "Python 3 (ipykernel)",
   "language": "python",
   "name": "python3"
  },
  "language_info": {
   "codemirror_mode": {
    "name": "ipython",
    "version": 3
   },
   "file_extension": ".py",
   "mimetype": "text/x-python",
   "name": "python",
   "nbconvert_exporter": "python",
   "pygments_lexer": "ipython3",
   "version": "3.10.7"
  },
  "vscode": {
   "interpreter": {
    "hash": "ea9cbad8bea4758d35353d6ed53cba816c8c845cbeb913f7377a6966cd2f97d6"
   }
  }
 },
 "nbformat": 4,
 "nbformat_minor": 2
}
