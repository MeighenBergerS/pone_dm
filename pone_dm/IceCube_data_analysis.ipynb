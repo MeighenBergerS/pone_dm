{
 "cells": [
  {
   "cell_type": "code",
   "execution_count": null,
   "metadata": {},
   "outputs": [],
   "source": [
    "# For IceCube Data analysis .... \n",
    "# This is for Data analysis the example basic is for Sensitivity \n"
   ]
  },
  {
   "cell_type": "code",
   "execution_count": 1,
   "metadata": {},
   "outputs": [],
   "source": [
    "# imports\n",
    "from constants import pdm_constants as const\n",
    "from config import config\n",
    "from pone_aeff import Aeff\n",
    "from dm2nu import DM2Nu\n",
    "from atm_shower import Atm_Shower\n",
    "from detectors import Detector\n",
    "import numpy as np\n",
    "import matplotlib.pyplot as plt\n",
    "from limit_calc import Limits\n",
    "from bkgrd_calc import Background\n",
    "from signal_calc import Signal\n",
    "from pdm import PDM\n",
    "from scipy.interpolate import UnivariateSpline\n",
    "from scipy.stats import chi2\n",
    "from scipy.stats import *\n",
    "from pone_aeff import Aeff\n",
    "import pickle\n",
    "import csv\n",
    "from matplotlib import rc"
   ]
  },
  {
   "cell_type": "code",
   "execution_count": 2,
   "metadata": {},
   "outputs": [],
   "source": [
    "# picture path\n",
    "PICS = '../pics/'\n",
    "name=[r'$\\nu_{\\mu}$', r\"$\\nu_e$\", r\"$\\nu_{\\tau}$\"]  # ,r'$\\nu_{e}$',r'$\\nu_{\\tau}$'\n",
    "# Plotting standards\n",
    "std_size = 6.  # Size of the plot\n",
    "fontsize = 15.  # Fontsize in the plot\n",
    "lw=0.5  # Linewidth\n",
    "h_length=0.5  # Handle length for the legends\n",
    "export_dpi = 500  # Dpi for the image export\n",
    "color_pone='#7570b3'\n",
    "color_ice='#e7298a'\n",
    "color_combined='#33a02c'\n",
    "color_thermal='#1f78b4'\n",
    "color_unitary='k'\n",
    "color_4='#1b9e77'\n",
    "color_6='#d95f02'\n",
    "rc('font',**{'family':'sans-serif','sans-serif':['Helvetica']})\n",
    "rc('text', usetex=True)"
   ]
  },
  {
   "cell_type": "code",
   "execution_count": 24,
   "metadata": {},
   "outputs": [],
   "source": [
    "surface_fluxe = pickle.load(open(\"../data/\" +\n",
    "                                                   \"surf_store_v1.p\", \"rb\"))"
   ]
  },
  {
   "cell_type": "code",
   "execution_count": 26,
   "metadata": {},
   "outputs": [],
   "source": [
    "e_grid = surface_fluxe[0][0]"
   ]
  },
  {
   "cell_type": "code",
   "execution_count": 3,
   "metadata": {},
   "outputs": [],
   "source": [
    "def ice_parser(filename):\n",
    "    \n",
    "        store = []\n",
    "        with open(filename, newline='') as csvfile:\n",
    "            reader = csv.reader(csvfile)\n",
    "            for row_num, row in enumerate(reader):\n",
    "                if row_num == 0:\n",
    "                    continue\n",
    "                store.append(row[0].split())\n",
    "        store = np.array(store, dtype=float)\n",
    "\n",
    "        return store"
   ]
  },
  {
   "cell_type": "code",
   "execution_count": 4,
   "metadata": {},
   "outputs": [],
   "source": [
    "bkgrd_ice_data = [\n",
    "                        '../data/icecube_10year_ps/events/IC40_exp.csv',\n",
    "                        '../data/icecube_10year_ps/events/IC59_exp.csv',\n",
    "                        '../data/icecube_10year_ps/events/IC79_exp.csv',\n",
    "                        '../data/icecube_10year_ps/events/IC86_I_exp.csv',\n",
    "                        '../data/icecube_10year_ps/events/IC86_II_exp.csv',\n",
    "                        '../data/icecube_10year_ps/events/IC86_III_exp.csv',\n",
    "                        '../data/icecube_10year_ps/events/IC86_IV_exp.csv',\n",
    "                        '../data/icecube_10year_ps/events/IC86_V_exp.csv',\n",
    "                        '../data/icecube_10year_ps/events/IC86_VI_exp.csv',\n",
    "                        '../data/icecube_10year_ps/events/IC86_VII_exp.csv',\n",
    "                    ]\n",
    "bkgrd_ice_dic = {\n",
    "                        0: ice_parser(bkgrd_ice_data[0]),\n",
    "                        1: ice_parser(bkgrd_ice_data[1]),\n",
    "                        2: ice_parser(bkgrd_ice_data[2]),\n",
    "                        3: ice_parser(bkgrd_ice_data[3]),\n",
    "                        4: ice_parser(bkgrd_ice_data[4]),\n",
    "                        5: ice_parser(bkgrd_ice_data[4]),\n",
    "                        6: ice_parser(bkgrd_ice_data[4]),\n",
    "                        7: ice_parser(bkgrd_ice_data[4]),\n",
    "                        8: ice_parser(bkgrd_ice_data[4]),\n",
    "                        9: ice_parser(bkgrd_ice_data[4]),\n",
    "                    }"
   ]
  },
  {
   "cell_type": "code",
   "execution_count": 37,
   "metadata": {},
   "outputs": [],
   "source": [
    "ice_data_dic = {}\n",
    "for i in bkgrd_ice_dic.keys():\n",
    "    tmp_hist_data, bins_edge = np.histogram(bkgrd_ice_dic[i][:,1], bins=np.log10(e_grid) )\n",
    "    ice_data_dic[i] = tmp_hist_data"
   ]
  },
  {
   "cell_type": "code",
   "execution_count": 39,
   "metadata": {},
   "outputs": [
    {
     "data": {
      "text/plain": [
       "array([   0,    0,    0,    0,    0,    0,    0,    0,    0,    0,    0,\n",
       "          0,    0,    0,    0,    0,    0,    0,    0,    0,    0,    0,\n",
       "          0,    0,    0,    0,    0,    0,    0,    0,    0,    0,    0,\n",
       "          0,    0,    1,    5,   11,   64,  242,  809, 1544, 2147, 2398,\n",
       "       1928, 1854, 1235, 1006,  790,  601,  607,  408,  394,  337,  221,\n",
       "        258,  281,  319,  421,  366,  524,  693,  848, 1129, 1284, 1825,\n",
       "       2626, 3286, 3190, 1540,  887,  430,  199,   89,   39,   33,   18,\n",
       "          5,    5,    1,    2,    0,    0,    0,    0,    0,    0,    0,\n",
       "          0,    0,    0,    0,    0,    0,    0,    0,    0,    0,    0,\n",
       "          0,    0,    0,    0,    0,    0,    0,    0,    0,    0,    0,\n",
       "          0,    0,    0,    0,    0,    0,    0,    0,    0,    0])"
      ]
     },
     "execution_count": 39,
     "metadata": {},
     "output_type": "execute_result"
    }
   ],
   "source": [
    "ice_data_dic[0]"
   ]
  },
  {
   "cell_type": "code",
   "execution_count": 32,
   "metadata": {},
   "outputs": [
    {
     "data": {
      "text/plain": [
       "array([8.91250938e-02, 1.12201845e-01, 1.41253754e-01, 1.77827941e-01,\n",
       "       2.23872114e-01, 2.81838293e-01, 3.54813389e-01, 4.46683592e-01,\n",
       "       5.62341325e-01, 7.07945784e-01, 8.91250938e-01, 1.12201845e+00,\n",
       "       1.41253754e+00, 1.77827941e+00, 2.23872114e+00, 2.81838293e+00,\n",
       "       3.54813389e+00, 4.46683592e+00, 5.62341325e+00, 7.07945784e+00,\n",
       "       8.91250938e+00, 1.12201845e+01, 1.41253754e+01, 1.77827941e+01,\n",
       "       2.23872114e+01, 2.81838293e+01, 3.54813389e+01, 4.46683592e+01,\n",
       "       5.62341325e+01, 7.07945784e+01, 8.91250938e+01, 1.12201845e+02,\n",
       "       1.41253754e+02, 1.77827941e+02, 2.23872114e+02, 2.81838293e+02,\n",
       "       3.54813389e+02, 4.46683592e+02, 5.62341325e+02, 7.07945784e+02,\n",
       "       8.91250938e+02, 1.12201845e+03, 1.41253754e+03, 1.77827941e+03,\n",
       "       2.23872114e+03, 2.81838293e+03, 3.54813389e+03, 4.46683592e+03,\n",
       "       5.62341325e+03, 7.07945784e+03, 8.91250938e+03, 1.12201845e+04,\n",
       "       1.41253754e+04, 1.77827941e+04, 2.23872114e+04, 2.81838293e+04,\n",
       "       3.54813389e+04, 4.46683592e+04, 5.62341325e+04, 7.07945784e+04,\n",
       "       8.91250938e+04, 1.12201845e+05, 1.41253754e+05, 1.77827941e+05,\n",
       "       2.23872114e+05, 2.81838293e+05, 3.54813389e+05, 4.46683592e+05,\n",
       "       5.62341325e+05, 7.07945784e+05, 8.91250938e+05, 1.12201845e+06,\n",
       "       1.41253754e+06, 1.77827941e+06, 2.23872114e+06, 2.81838293e+06,\n",
       "       3.54813389e+06, 4.46683592e+06, 5.62341325e+06, 7.07945784e+06,\n",
       "       8.91250938e+06, 1.12201845e+07, 1.41253754e+07, 1.77827941e+07,\n",
       "       2.23872114e+07, 2.81838293e+07, 3.54813389e+07, 4.46683592e+07,\n",
       "       5.62341325e+07, 7.07945784e+07, 8.91250938e+07, 1.12201845e+08,\n",
       "       1.41253754e+08, 1.77827941e+08, 2.23872114e+08, 2.81838293e+08,\n",
       "       3.54813389e+08, 4.46683592e+08, 5.62341325e+08, 7.07945784e+08,\n",
       "       8.91250938e+08, 1.12201845e+09, 1.41253754e+09, 1.77827941e+09,\n",
       "       2.23872114e+09, 2.81838293e+09, 3.54813389e+09, 4.46683592e+09,\n",
       "       5.62341325e+09, 7.07945784e+09, 8.91250938e+09, 1.12201845e+10,\n",
       "       1.41253754e+10, 1.77827941e+10, 2.23872114e+10, 2.81838293e+10,\n",
       "       3.54813389e+10, 4.46683592e+10, 5.62341325e+10, 7.07945784e+10,\n",
       "       8.91250938e+10])"
      ]
     },
     "execution_count": 32,
     "metadata": {},
     "output_type": "execute_result"
    }
   ],
   "source": [
    "bins_edge"
   ]
  },
  {
   "cell_type": "code",
   "execution_count": 7,
   "metadata": {},
   "outputs": [
    {
     "ename": "ValueError",
     "evalue": "operands could not be broadcast together with shapes (0,) (36900,7) ",
     "output_type": "error",
     "traceback": [
      "\u001b[0;31m---------------------------------------------------------------------------\u001b[0m",
      "\u001b[0;31mValueError\u001b[0m                                Traceback (most recent call last)",
      "\u001b[1;32m/home/kruteesh/Desktop/DM_nu_simulation_P-One/PONE_git/pone_work/pone_dm/IceCube_data_analysis.ipynb Cell 6'\u001b[0m in \u001b[0;36m<cell line: 2>\u001b[0;34m()\u001b[0m\n\u001b[1;32m      <a href='vscode-notebook-cell:/home/kruteesh/Desktop/DM_nu_simulation_P-One/PONE_git/pone_work/pone_dm/IceCube_data_analysis.ipynb#ch0000004?line=0'>1</a>\u001b[0m bkgrd_total \u001b[39m=\u001b[39m np\u001b[39m.\u001b[39marray([])\n\u001b[1;32m      <a href='vscode-notebook-cell:/home/kruteesh/Desktop/DM_nu_simulation_P-One/PONE_git/pone_work/pone_dm/IceCube_data_analysis.ipynb#ch0000004?line=1'>2</a>\u001b[0m \u001b[39mfor\u001b[39;00m i \u001b[39min\u001b[39;00m bkgrd_ice_dic:\n\u001b[0;32m----> <a href='vscode-notebook-cell:/home/kruteesh/Desktop/DM_nu_simulation_P-One/PONE_git/pone_work/pone_dm/IceCube_data_analysis.ipynb#ch0000004?line=2'>3</a>\u001b[0m     bkgrd_total \u001b[39m=\u001b[39m np\u001b[39m.\u001b[39;49madd(bkgrd_total, np\u001b[39m.\u001b[39;49marray(bkgrd_ice_dic[i]))\n",
      "\u001b[0;31mValueError\u001b[0m: operands could not be broadcast together with shapes (0,) (36900,7) "
     ]
    }
   ],
   "source": [
    "bkgrd_total = np.array([])\n",
    "for i in bkgrd_ice_dic:\n",
    "    bkgrd_total = np.add(bkgrd_total, np.array(bkgrd_ice_dic[i]))"
   ]
  },
  {
   "cell_type": "code",
   "execution_count": null,
   "metadata": {},
   "outputs": [],
   "source": []
  }
 ],
 "metadata": {
  "interpreter": {
   "hash": "82a3a656d33f35b7f3fe77a22343614a58c995dc979ba6da45d214804d59b344"
  },
  "kernelspec": {
   "display_name": "Python 3.9.11 ('pdm')",
   "language": "python",
   "name": "python3"
  },
  "language_info": {
   "codemirror_mode": {
    "name": "ipython",
    "version": 3
   },
   "file_extension": ".py",
   "mimetype": "text/x-python",
   "name": "python",
   "nbconvert_exporter": "python",
   "pygments_lexer": "ipython3",
   "version": "3.9.11"
  },
  "orig_nbformat": 4
 },
 "nbformat": 4,
 "nbformat_minor": 2
}
