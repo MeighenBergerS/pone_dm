{
 "cells": [
  {
   "cell_type": "code",
   "execution_count": 1,
   "metadata": {},
   "outputs": [],
   "source": [
    "# For IceCube Data analysis .... \n",
    "# This is for Data analysis the example basic is for Sensitivity \n"
   ]
  },
  {
   "cell_type": "code",
   "execution_count": 2,
   "metadata": {},
   "outputs": [],
   "source": [
    "# imports\n",
    "from constants import pdm_constants as const\n",
    "from config import config\n",
    "from pone_aeff import Aeff\n",
    "from dm2nu import DM2Nu\n",
    "from atm_shower import Atm_Shower\n",
    "from detectors import Detector\n",
    "import numpy as np\n",
    "import matplotlib.pyplot as plt\n",
    "from limit_calc import Limits\n",
    "from bkgrd_calc import Background\n",
    "from signal_calc import Signal\n",
    "from pdm import PDM\n",
    "from scipy.interpolate import UnivariateSpline\n",
    "from scipy.stats import chi2\n",
    "from scipy.stats import *\n",
    "from scipy import optimize\n",
    "from scipy.odr import ODR, Model, Data, RealData\n",
    "from pylab import *\n",
    "from pone_aeff import Aeff\n",
    "import pickle\n",
    "import csv\n",
    "from scipy.stats import poisson\n",
    "from matplotlib import rc\n",
    "from CL_s import *"
   ]
  },
  {
   "cell_type": "code",
   "execution_count": 3,
   "metadata": {},
   "outputs": [],
   "source": [
    "# picture path\n",
    "PICS = '../pics/'\n",
    "name=[r'$\\nu_{\\mu}$', r\"$\\nu_e$\", r\"$\\nu_{\\tau}$\"]  # ,r'$\\nu_{e}$',r'$\\nu_{\\tau}$'\n",
    "# Plotting standards\n",
    "std_size = 6.  # Size of the plot\n",
    "fontsize = 15.  # Fontsize in the plot\n",
    "lw=0.5  # Linewidth\n",
    "h_length=0.5  # Handle length for the legends\n",
    "export_dpi = 500  # Dpi for the image export\n",
    "color_pone='#7570b3'\n",
    "color_ice='#e7298a'\n",
    "color_combined='#33a02c'\n",
    "color_thermal='#1f78b4'\n",
    "color_unitary='k'\n",
    "color_4='#1b9e77'\n",
    "color_6='#d95f02'\n",
    "rc('font',**{'family':'sans-serif','sans-serif':['Helvetica']})\n",
    "rc('text', usetex=True)"
   ]
  },
  {
   "cell_type": "code",
   "execution_count": 4,
   "metadata": {},
   "outputs": [],
   "source": [
    "surface_fluxe = pickle.load(open(\"../data/\" +\n",
    "                                                   \"surf_store_v1.p\", \"rb\"))"
   ]
  },
  {
   "cell_type": "code",
   "execution_count": 5,
   "metadata": {},
   "outputs": [],
   "source": [
    "projection_ice = pickle.load(open('../data/background_ice.pkl','rb'))\n",
    "#signal_ice =pickle.load(open(\"../data/limits_signal_IceCube.pkl\", \"rb\"))\n",
    "\n",
    "\n",
    "projection_pone = pickle.load(open('../data/background_pone_unsm.pkl','rb'))"
   ]
  },
  {
   "cell_type": "code",
   "execution_count": null,
   "metadata": {},
   "outputs": [],
   "source": []
  },
  {
   "cell_type": "code",
   "execution_count": 6,
   "metadata": {},
   "outputs": [
    {
     "data": {
      "text/plain": [
       "121"
      ]
     },
     "execution_count": 6,
     "metadata": {},
     "output_type": "execute_result"
    }
   ],
   "source": [
    "len(projection_pone['numu'])"
   ]
  },
  {
   "cell_type": "code",
   "execution_count": 7,
   "metadata": {},
   "outputs": [],
   "source": [
    "#for i in projection_ice.keys():\n",
    "#    projection_ice[i]=np.sum(projection_ice[i], axis=0)"
   ]
  },
  {
   "cell_type": "code",
   "execution_count": null,
   "metadata": {},
   "outputs": [],
   "source": []
  },
  {
   "cell_type": "code",
   "execution_count": 8,
   "metadata": {},
   "outputs": [],
   "source": [
    "e_grid = surface_fluxe[0][0]\n",
    "e_width = surface_fluxe[0][1]\n",
    "def width2grid(a: np.array):\n",
    "    m_a = []\n",
    "    for i, e in enumerate(a):\n",
    "        if i == 0:\n",
    "            m_a.append(e)\n",
    "        elif i==len(a)-1:\n",
    "            print(i)\n",
    "            break\n",
    "        else:\n",
    "            m_a.append((a[i] + a[i+1]) / 2)\n",
    "\n",
    "    return np.array(m_a)"
   ]
  },
  {
   "cell_type": "code",
   "execution_count": 9,
   "metadata": {},
   "outputs": [
    {
     "name": "stdout",
     "output_type": "stream",
     "text": [
      "120\n"
     ]
    }
   ],
   "source": [
    "e_grid_bin = width2grid(e_grid)"
   ]
  },
  {
   "cell_type": "code",
   "execution_count": 10,
   "metadata": {},
   "outputs": [],
   "source": [
    "def astro_flux():\n",
    "     res = 1.66 * (e_grid / 1e5)**(-2.6) * 1e-18  # Custom\n",
    "     return res"
   ]
  },
  {
   "cell_type": "code",
   "execution_count": 11,
   "metadata": {},
   "outputs": [],
   "source": [
    "def ice_parser(filename):\n",
    "    \n",
    "        store = []\n",
    "        with open(filename, newline='') as csvfile:\n",
    "            reader = csv.reader(csvfile)\n",
    "            for row_num, row in enumerate(reader):\n",
    "                if row_num == 0:\n",
    "                    continue\n",
    "                store.append(row[0].split())\n",
    "        store = np.array(store, dtype=float)\n",
    "\n",
    "        return store"
   ]
  },
  {
   "cell_type": "code",
   "execution_count": 12,
   "metadata": {},
   "outputs": [],
   "source": [
    "\n",
    "\n",
    "def data_filter(event_dic, energy_range, angle_range, years):\n",
    "    # filters the data in energy and angle\n",
    "    filtered_dic = {}\n",
    "    for year in years:\n",
    "        # where method is faster as basic slicing\n",
    "        energy_filter_1 = event_dic[year][np.where(event_dic[year][:, 1] < energy_range[1])]\n",
    "        energy_filter_2 = energy_filter_1[np.where(energy_filter_1[:, 1] > energy_range[0])]\n",
    "        high_angle = angle_range[1]\n",
    "        angle_filter_1 = energy_filter_2[np.where(energy_filter_2[:, 4] < high_angle)]\n",
    "        low_angle = angle_range[0]\n",
    "        angle_filter_2 = angle_filter_1[np.where(angle_filter_1[:, 4] > low_angle)]\n",
    "        filtered_dic[year] = angle_filter_2\n",
    "    return filtered_dic\n",
    "\n"
   ]
  },
  {
   "cell_type": "code",
   "execution_count": null,
   "metadata": {},
   "outputs": [],
   "source": []
  },
  {
   "cell_type": "code",
   "execution_count": 13,
   "metadata": {},
   "outputs": [],
   "source": [
    "bkgrd_ice_data = [\n",
    "                        '../data/icecube_10year_ps/events/IC40_exp.csv',\n",
    "                        '../data/icecube_10year_ps/events/IC59_exp.csv',\n",
    "                        '../data/icecube_10year_ps/events/IC79_exp.csv',\n",
    "                        '../data/icecube_10year_ps/events/IC86_I_exp.csv',\n",
    "                        '../data/icecube_10year_ps/events/IC86_II_exp.csv',\n",
    "                        '../data/icecube_10year_ps/events/IC86_III_exp.csv',\n",
    "                        '../data/icecube_10year_ps/events/IC86_IV_exp.csv',\n",
    "                        '../data/icecube_10year_ps/events/IC86_V_exp.csv',\n",
    "                        '../data/icecube_10year_ps/events/IC86_VI_exp.csv',\n",
    "                        '../data/icecube_10year_ps/events/IC86_VII_exp.csv',\n",
    "                    ]\n",
    "bkgrd_ice_dic = {\n",
    "                        0: ice_parser(bkgrd_ice_data[0]),\n",
    "                        1: ice_parser(bkgrd_ice_data[1]),\n",
    "                        2: ice_parser(bkgrd_ice_data[2]),\n",
    "                        3: ice_parser(bkgrd_ice_data[3]),\n",
    "                        4: ice_parser(bkgrd_ice_data[4]),\n",
    "                        5: ice_parser(bkgrd_ice_data[5]),\n",
    "                        6: ice_parser(bkgrd_ice_data[6]),\n",
    "                        7: ice_parser(bkgrd_ice_data[7]),\n",
    "                        8: ice_parser(bkgrd_ice_data[8]),\n",
    "                        9: ice_parser(bkgrd_ice_data[9]),\n",
    "                    }"
   ]
  },
  {
   "cell_type": "code",
   "execution_count": null,
   "metadata": {},
   "outputs": [],
   "source": []
  },
  {
   "cell_type": "code",
   "execution_count": 14,
   "metadata": {},
   "outputs": [],
   "source": [
    "ice_tmp_data_dic = data_filter(bkgrd_ice_dic, [2,8], [0,180], range(0,10))"
   ]
  },
  {
   "cell_type": "code",
   "execution_count": 15,
   "metadata": {},
   "outputs": [],
   "source": [
    "ice_data_dic = {}\n",
    "\n",
    "for i in bkgrd_ice_dic.keys():\n",
    "    tmp_hist_data, bins_edge = np.histogram(ice_tmp_data_dic[i][:,1], bins=np.log10(e_grid) )\n",
    "    ice_data_dic[i] = tmp_hist_data"
   ]
  },
  {
   "cell_type": "code",
   "execution_count": 16,
   "metadata": {},
   "outputs": [],
   "source": [
    "ice_d = []\n",
    "for i in range(0,10):\n",
    "    ice_d.append(ice_data_dic[i])\n",
    "ice_d = np.sum(ice_d, axis=0)"
   ]
  },
  {
   "cell_type": "code",
   "execution_count": 17,
   "metadata": {},
   "outputs": [],
   "source": [
    "# projection_ice[\"numu\"] = np.sum(projection_ice[\"numu\"][3:],axis=0)"
   ]
  },
  {
   "cell_type": "code",
   "execution_count": 18,
   "metadata": {},
   "outputs": [],
   "source": [
    "# q_single_b(projection_ice[\"numu\"][45:70], ice_d[45:70])"
   ]
  },
  {
   "cell_type": "code",
   "execution_count": 19,
   "metadata": {},
   "outputs": [],
   "source": [
    "l = range(0,10)"
   ]
  },
  {
   "cell_type": "code",
   "execution_count": 20,
   "metadata": {},
   "outputs": [
    {
     "data": {
      "text/plain": [
       "array([0, 1, 2, 3, 4, 5, 6, 7, 8, 9])"
      ]
     },
     "execution_count": 20,
     "metadata": {},
     "output_type": "execute_result"
    }
   ],
   "source": [
    "np.array(l)"
   ]
  },
  {
   "cell_type": "code",
   "execution_count": 21,
   "metadata": {},
   "outputs": [],
   "source": [
    "def _find_nearest(array: np.array, value: float):\n",
    "    \n",
    "    \"\"\" Returns: index of the nearest vlaue of an array to the given number\n",
    "    --------------\n",
    "    idx :  float\n",
    "    \"\"\"\n",
    "    array = np.array(array)\n",
    "    idx = (np.abs(array - value)).argmin()\n",
    "    return idx"
   ]
  },
  {
   "cell_type": "code",
   "execution_count": 22,
   "metadata": {},
   "outputs": [
    {
     "data": {
      "text/plain": [
       "(37, 70)"
      ]
     },
     "execution_count": 22,
     "metadata": {},
     "output_type": "execute_result"
    }
   ],
   "source": [
    "_find_nearest(e_grid, 5e2), _find_nearest(e_grid, 1e6)"
   ]
  },
  {
   "cell_type": "code",
   "execution_count": 23,
   "metadata": {},
   "outputs": [
    {
     "data": {
      "text/plain": [
       "array([2.31806333, 2.8286599 , 3.3960249 , 3.67292869, 3.80875097,\n",
       "       3.85144181, 3.74849813, 3.69609416, 3.47567119, 3.31302311,\n",
       "       3.17609126, 2.97358962, 2.92116605, 2.6919651 , 2.67851838,\n",
       "       2.58433122, 2.29885308, 2.24797327, 2.08635983, 1.96848295,\n",
       "       1.93449845, 1.65321251, 1.61278386, 1.34242268, 1.2787536 ,\n",
       "       1.        , 0.60205999, 0.        , 0.77815125])"
      ]
     },
     "execution_count": 23,
     "metadata": {},
     "output_type": "execute_result"
    }
   ],
   "source": [
    "np.log10(ice_data_dic[1][38:67])"
   ]
  },
  {
   "cell_type": "code",
   "execution_count": 24,
   "metadata": {},
   "outputs": [],
   "source": [
    "def fit_fun_gamma(A, E, gamma, phi_0):\n",
    "    return (A*(E)**(-gamma) + phi_0)\n",
    "\n"
   ]
  },
  {
   "cell_type": "code",
   "execution_count": 25,
   "metadata": {},
   "outputs": [
    {
     "name": "stderr",
     "output_type": "stream",
     "text": [
      "/home/kruteesh/miniconda3/envs/pdm/lib/python3.10/site-packages/scipy/interpolate/_fitpack2.py:280: UserWarning: \n",
      "The maximal number of iterations maxit (set to 20 by the program)\n",
      "allowed for finding a smoothing spline with fp=s has been reached: s\n",
      "too small.\n",
      "There is an approximation returned but the corresponding weighted sum\n",
      "of squared residuals does not satisfy the condition abs(fp-s)/s < tol.\n",
      "  warnings.warn(message)\n",
      "/tmp/ipykernel_16869/1548751189.py:36: RuntimeWarning: invalid value encountered in log10\n",
      "  return np.log10(spl_phi(E + E_0 )*A + b)\n",
      "/tmp/ipykernel_16869/1548751189.py:44: RuntimeWarning: invalid value encountered in log10\n",
      "  return np.log10(spl_phi(E + E_0 )*A + b)\n"
     ]
    }
   ],
   "source": [
    "para = {}\n",
    "p = {}\n",
    "\n",
    "para_fun = {}\n",
    "p_fun = {}\n",
    "phi_fits = {}\n",
    "new_phi = {}\n",
    "phi_fun = {}\n",
    "# 5.11951803,   15.42169565, 2821.23529455]\n",
    "# [ 1.56906855e-01, -2.63388990e+02,  1.01791398e+00]\n",
    "#\n",
    "for i in range(0,9):\n",
    "    new_phi[i] = []\n",
    "    phi_fun[i] = []\n",
    "    phi_fits[i] = []\n",
    "    if i==0:\n",
    "        spl_phi = UnivariateSpline(e_grid, projection_ice['numu'][i], k=1, s=1)\n",
    "        def fit_phi(E, A, E_0, b):\n",
    "            return np.log10(spl_phi(E + E_0 )*A + b)\n",
    "        t_para, _p = optimize.curve_fit(fit_phi, e_grid_bin[40:66], np.log10(ice_data_dic[i][40:66]),\n",
    "                                        method='dogbox')\n",
    "        para[i] = t_para\n",
    "        p[i]= _p\n",
    "\n",
    "    elif i==1:\n",
    "        spl_phi = UnivariateSpline(e_grid, projection_ice['numu'][i], k=1, s=1)\n",
    "        def fit_phi(E, A, E_0, b):\n",
    "            return np.log10(spl_phi(E + E_0 )*A + b)\n",
    "        t_para, _p = optimize.curve_fit(fit_phi, e_grid_bin[40:67], np.log10(ice_data_dic[i][40:67]))\n",
    "        para[i] = t_para\n",
    "        p[i]= _p\n",
    "\n",
    "    elif i==2:\n",
    "        spl_phi = UnivariateSpline(e_grid, projection_ice['numu'][i], k=1, s=1)\n",
    "        def fit_phi(E, A, E_0, b):\n",
    "            return np.log10(spl_phi(E + E_0 )*A + b)\n",
    "        t_para, _p = optimize.curve_fit(fit_phi, e_grid_bin[38:60], np.log10(ice_data_dic[i][38:60]))\n",
    "        para[i] = t_para\n",
    "        p[i]= _p\n",
    "\n",
    "    else:\n",
    "        spl_phi = UnivariateSpline(e_grid, projection_ice['numu'][i], k=1, s=1)\n",
    "        def fit_phi(E, A, E_0, b):\n",
    "            return np.log10(spl_phi(E + E_0 )*A + b)\n",
    "        t_para, _p = optimize.curve_fit(fit_phi, e_grid_bin[38:57], np.log10(ice_data_dic[i][38:57]), method='dogbox')\n",
    "        para[i] = t_para\n",
    "        p[i]= _p\n",
    "\n",
    "    phi_fits[i].extend(fit_phi(e_grid, *para[i]))\n",
    "    new_phi[i].extend(10**(fit_phi(e_grid, *para[i])))\n",
    "\n",
    "    # phi_fun[i].extend((fit_fun_gamma(e_grid, *para_fun[i])))"
   ]
  },
  {
   "cell_type": "code",
   "execution_count": 26,
   "metadata": {},
   "outputs": [
    {
     "data": {
      "text/plain": [
       "({0: array([   0.58195544, -377.09055233,    0.90381744]),\n",
       "  1: array([   0.57095728, -396.87090537,    6.34579318]),\n",
       "  2: array([ 1.79876222e-01, -2.60826650e+02,  7.10855290e+01]),\n",
       "  3: array([   2.40665504, 1393.15530721,   -1.46548055]),\n",
       "  4: array([   2.79709453, 1378.9040799 ,   -3.76694495]),\n",
       "  5: array([   2.86761448, 1406.89317225,   -4.94606488]),\n",
       "  6: array([2.54120355e+00, 1.29939162e+03, 9.25593761e-01]),\n",
       "  7: array([   2.2285067 , 1143.13585729,   -3.81331981]),\n",
       "  8: array([ 2.60700877e+00,  1.32356557e+03, -4.63049346e-01])},\n",
       " {})"
      ]
     },
     "execution_count": 26,
     "metadata": {},
     "output_type": "execute_result"
    }
   ],
   "source": [
    "para, para_fun"
   ]
  },
  {
   "cell_type": "code",
   "execution_count": 27,
   "metadata": {},
   "outputs": [],
   "source": [
    "phi_fit = []\n",
    "for i in range(0,9):\n",
    "     phi_fit.append(new_phi[i])"
   ]
  },
  {
   "cell_type": "code",
   "execution_count": 28,
   "metadata": {},
   "outputs": [
    {
     "data": {
      "image/png": "[encoded data removed]",
      "text/plain": [
       "<Figure size 640x480 with 1 Axes>"
      ]
     },
     "metadata": {},
     "output_type": "display_data"
    }
   ],
   "source": [
    "for i in range(0, 9):\n",
    "    plt.figure()\n",
    "    plt.title('Year %d ' % (i))\n",
    "    plt.step(e_grid, projection_ice['numu'][i], color='b' )\n",
    "    plt.plot(e_grid, new_phi[i], color='k')\n",
    "    #plt.plot(e_grid, phi_fun[i], color='g')\n",
    "    #plt.step(e_grid, projection_pone['numu'][i], color='k' )\n",
    "    plt.scatter(e_grid_bin, ice_data_dic[i], color='r')\n",
    "    #plt.plot(e_grid[32:50], ice_data_dic[i][32:50], color='g')\n",
    "    plt.xscale('log')\n",
    "    plt.yscale('log')\n",
    "    plt.ylim(1e-2,1e6)\n",
    "    plt.xlim(1e2,5e6)\n",
    "    plt.xlabel(r'E [GeV] ')\n",
    "    plt.ylabel(r'\\# $Counts$')\n",
    "#    plt.savefig(\"../pics/IceCube_counts_%d.png\" % (i), facecolor=\"white\")\n",
    "    break\n"
   ]
  },
  {
   "cell_type": "code",
   "execution_count": 29,
   "metadata": {},
   "outputs": [
    {
     "name": "stderr",
     "output_type": "stream",
     "text": [
      "/tmp/ipykernel_16869/1771748151.py:2: RuntimeWarning: divide by zero encountered in log10\n",
      "  np.log10(ice_d)[np.log10(ice_d) == -np.inf] = 0\n"
     ]
    }
   ],
   "source": [
    "spl_phi = UnivariateSpline(e_grid, np.sum(np.array(projection_ice['numu'][3:]), axis=0), k=1, s=0) # The projection_ice / ice_dneeds to be changed to total sum ...... \n",
    "np.log10(ice_d)[np.log10(ice_d) == -np.inf] = 0\n",
    "def fit_phi(E, A, E_0):\n",
    "          return (A * spl_phi(E + E_0 ))\n",
    "t_para, _p = optimize.curve_fit(fit_phi, e_grid_bin[38:70], np.nan_to_num((ice_d))[38:70],[   1.67881964, 1140.13585799], bounds=[[1, 20],[3, 3000]], method='dogbox')"
   ]
  },
  {
   "cell_type": "code",
   "execution_count": 30,
   "metadata": {},
   "outputs": [
    {
     "data": {
      "text/plain": [
       "array([   1.68929581, 1143.13585616])"
      ]
     },
     "execution_count": 30,
     "metadata": {},
     "output_type": "execute_result"
    }
   ],
   "source": [
    "t_para # array([2.20735973e+00, 2.91299035e+03]) for 0-9 years \n",
    "# array([   1.67881964, 1143.13585799,    2.        ]) for 3-9 years"
   ]
  },
  {
   "cell_type": "code",
   "execution_count": 31,
   "metadata": {},
   "outputs": [],
   "source": [
    "def odr_fit_phi(A, x):\n",
    "    return (A[0] * spl_phi(x + A[1] ) + A[2])\n"
   ]
  },
  {
   "cell_type": "code",
   "execution_count": 32,
   "metadata": {},
   "outputs": [],
   "source": [
    "odr_model = Model(odr_fit_phi)\n",
    "odr_data = RealData(e_grid[36:71], ice_d[36:71])\n"
   ]
  },
  {
   "cell_type": "code",
   "execution_count": 33,
   "metadata": {},
   "outputs": [],
   "source": [
    "odr_fit = ODR(odr_data, odr_model, beta0=[2.00735973e+00, 2.91299035e+03, 1])"
   ]
  },
  {
   "cell_type": "code",
   "execution_count": 34,
   "metadata": {},
   "outputs": [],
   "source": [
    "odr_fit.set_job(fit_type=0)"
   ]
  },
  {
   "cell_type": "code",
   "execution_count": 35,
   "metadata": {},
   "outputs": [],
   "source": [
    "odr_out = odr_fit.run()"
   ]
  },
  {
   "cell_type": "code",
   "execution_count": 36,
   "metadata": {},
   "outputs": [
    {
     "data": {
      "text/plain": [
       "array([   4.20067058, 1735.71864707,  111.60970524])"
      ]
     },
     "execution_count": 36,
     "metadata": {},
     "output_type": "execute_result"
    }
   ],
   "source": [
    "odr_out.beta\n"
   ]
  },
  {
   "cell_type": "code",
   "execution_count": 37,
   "metadata": {},
   "outputs": [],
   "source": [
    "fit_phi_odr = odr_fit_phi(odr_out.beta, e_grid_bin)"
   ]
  },
  {
   "cell_type": "code",
   "execution_count": 38,
   "metadata": {},
   "outputs": [],
   "source": [
    "ice_d_spl = UnivariateSpline(e_grid_bin, ice_d, k=1, s=0)(e_grid)"
   ]
  },
  {
   "cell_type": "code",
   "execution_count": 39,
   "metadata": {},
   "outputs": [
    {
     "data": {
      "text/plain": [
       "(array([2.01460287e+04, 1.16888110e+04, 7.54484406e+03, 4.90509342e+03,\n",
       "        3.31603912e+03, 2.33876199e+03, 1.46352555e+03, 1.15625272e+03,\n",
       "        7.53940458e+02, 4.69335889e+02, 3.53731163e+02, 2.57715359e+02,\n",
       "        1.88849777e+02, 1.27043424e+02, 7.26877396e+01, 5.49327908e+01,\n",
       "        3.56877396e+01, 2.28023629e+01, 1.27865582e+01, 9.11462327e+00,\n",
       "        8.44268837e+00]),\n",
       " array([13966,  8822,  5937,  3606,  2951,  1568,  1332,   935,   526,\n",
       "          398,   298,   207,   166,    78,    66,    41,    29,    15,\n",
       "           10,     8,     9,     2,     1,     0]))"
      ]
     },
     "execution_count": 39,
     "metadata": {},
     "output_type": "execute_result"
    }
   ],
   "source": [
    "ice_d_spl[46:67], ice_d[46:70]"
   ]
  },
  {
   "cell_type": "code",
   "execution_count": 40,
   "metadata": {},
   "outputs": [
    {
     "name": "stdout",
     "output_type": "stream",
     "text": [
      "low = 3.5e+03, high = 8.9e+05,\n"
     ]
    }
   ],
   "source": [
    "print(\"low = %.1e, high = %.1e,\" % (e_grid[46], e_grid[70]))"
   ]
  },
  {
   "cell_type": "code",
   "execution_count": 41,
   "metadata": {},
   "outputs": [],
   "source": [
    "aa= np.array([0.00000000e+000, 0.00000000e+000, 0.00000000e+000, 0.00000000e+000,\n",
    "        0.00000000e+000, 0.00000000e+000, 0.00000000e+000, 0.00000000e+000,\n",
    "        0.00000000e+000, 0.00000000e+000, 0.00000000e+000, 0.00000000e+000,\n",
    "        0.00000000e+000, 0.00000000e+000, 0.00000000e+000, 0.00000000e+000,\n",
    "        0.00000000e+000, 0.00000000e+000, 0.00000000e+000, 0.00000000e+000,\n",
    "        0.00000000e+000, 0.00000000e+000, 0.00000000e+000, 0.00000000e+000,\n",
    "        0.00000000e+000, 0.00000000e+000, 0.00000000e+000, 0.00000000e+000,\n",
    "        0.00000000e+000, 0.00000000e+000, 0.00000000e+000, 0.00000000e+000,\n",
    "        0.00000000e+000, 0.00000000e+000, 0.00000000e+000, 0.00000000e+000,\n",
    "        0.00000000e+000, 0.00000000e+000, 0.00000000e+000, 0.00000000e+000,\n",
    "        0.00000000e+000, 0.00000000e+000, 0.00000000e+000, 0.00000000e+000,])"
   ]
  },
  {
   "cell_type": "code",
   "execution_count": 42,
   "metadata": {},
   "outputs": [
    {
     "data": {
      "text/plain": [
       "8912.509381337459"
      ]
     },
     "execution_count": 42,
     "metadata": {},
     "output_type": "execute_result"
    }
   ],
   "source": [
    "e_grid[50]"
   ]
  },
  {
   "cell_type": "code",
   "execution_count": 43,
   "metadata": {},
   "outputs": [],
   "source": [
    "p_CL_b = poisson.pmf(ice_d[32:], fit_phi_odr[32:]) # q_single_b from CL_s\n",
    "p_CL_ob = poisson.pmf(ice_d[32:], ice_d[32:])"
   ]
  },
  {
   "cell_type": "code",
   "execution_count": 44,
   "metadata": {},
   "outputs": [
    {
     "data": {
      "text/plain": [
       "(array([0.00000000e+000, 0.00000000e+000, 0.00000000e+000, 0.00000000e+000,\n",
       "        0.00000000e+000, 0.00000000e+000, 0.00000000e+000, 1.89731276e-049,\n",
       "        0.00000000e+000, 0.00000000e+000, 0.00000000e+000, 0.00000000e+000,\n",
       "        0.00000000e+000, 0.00000000e+000, 0.00000000e+000, 9.41279137e-219,\n",
       "        5.49791926e-144, 5.36912217e-058, 2.17376521e-169, 2.51526578e-040,\n",
       "        2.03391080e-100, 1.86534775e-070, 2.02721246e-020, 1.19919611e-017,\n",
       "        7.65307728e-012, 2.72765151e-004, 8.99425748e-003, 4.75457286e-008,\n",
       "        1.24457110e-009, 1.48359953e-017, 6.36314649e-023, 2.67587246e-032,\n",
       "        1.72612166e-036, 2.88176504e-038, 6.38356842e-037, 7.53367593e-046,\n",
       "        1.78721536e-047, 2.03099107e-049, 1.49577678e-045, 2.62597531e-049,\n",
       "        3.16609179e-047, 2.97922184e-049, 3.10229757e-049, 3.18426420e-049,\n",
       "        3.23398211e-049, 3.27822254e-049, 3.30824120e-049, 3.32749021e-049,\n",
       "        3.34244577e-049, 3.35238219e-049, 3.36084409e-049, 3.36677675e-049,\n",
       "        3.36985940e-049, 3.37234556e-049, 3.37420392e-049, 3.37519571e-049,\n",
       "        3.37578463e-049, 3.37628194e-049, 3.37659152e-049, 3.37671819e-049,\n",
       "        3.37683354e-049, 3.37690072e-049, 3.37690944e-049, 3.37691372e-049,\n",
       "        3.37691753e-049, 3.37691983e-049, 3.37692040e-049, 3.37692089e-049,\n",
       "        3.37692089e-049, 3.37692089e-049, 3.37692089e-049, 3.37692089e-049,\n",
       "        3.37692089e-049, 3.37692089e-049, 3.37692089e-049, 3.37692089e-049,\n",
       "        3.37692089e-049, 3.37692089e-049, 3.37692089e-049, 3.37692089e-049,\n",
       "        3.37692089e-049, 3.37692089e-049, 3.37692089e-049, 3.37692089e-049,\n",
       "        3.37692089e-049, 3.37692089e-049, 3.37692089e-049, 3.37692089e-049]),\n",
       " array([0.01679602, 0.01256446, 0.00838965, 0.00500276, 0.00318025,\n",
       "        0.00203051, 0.00142128, 0.00126247, 0.00113805, 0.00134242,\n",
       "        0.00156372, 0.00182112, 0.00225481, 0.00252035, 0.00337576,\n",
       "        0.00424739, 0.0051775 , 0.00664335, 0.00734367, 0.01007428,\n",
       "        0.01093027, 0.01304564, 0.01739195, 0.01999298, 0.02310364,\n",
       "        0.02771724, 0.03094839, 0.04512308, 0.04904444, 0.06217781,\n",
       "        0.07386916, 0.10243587, 0.12511004, 0.13958653, 0.13175564,\n",
       "        0.27067057, 0.36787944, 1.        , 0.27067057, 1.        ,\n",
       "        0.36787944, 1.        , 1.        , 1.        , 1.        ,\n",
       "        1.        , 1.        , 1.        , 1.        , 1.        ,\n",
       "        1.        , 1.        , 1.        , 1.        , 1.        ,\n",
       "        1.        , 1.        , 1.        , 1.        , 1.        ,\n",
       "        1.        , 1.        , 1.        , 1.        , 1.        ,\n",
       "        1.        , 1.        , 1.        , 1.        , 1.        ,\n",
       "        1.        , 1.        , 1.        , 1.        , 1.        ,\n",
       "        1.        , 1.        , 1.        , 1.        , 1.        ,\n",
       "        1.        , 1.        , 1.        , 1.        , 1.        ,\n",
       "        1.        , 1.        , 1.        ]))"
      ]
     },
     "execution_count": 44,
     "metadata": {},
     "output_type": "execute_result"
    }
   ],
   "source": [
    "p_CL_b, p_CL_ob"
   ]
  },
  {
   "cell_type": "code",
   "execution_count": 45,
   "metadata": {},
   "outputs": [
    {
     "data": {
      "text/plain": [
       "array([0.00000000e+000, 5.37200268e-173, 3.83901576e-211, 5.63431020e-150,\n",
       "       3.84924047e-049, 1.51368071e-034, 5.02241569e-019, 1.61494192e-005,\n",
       "       2.82992467e-002, 2.19472640e-005, 2.42813590e-007, 2.02547316e-015,\n",
       "       4.34083763e-021, 9.26817111e-031, 3.30883820e-035, 3.63934026e-037,\n",
       "       7.25703466e-036, 3.70960383e-045, 6.18982545e-047, 2.38669061e-049])"
      ]
     },
     "execution_count": 45,
     "metadata": {},
     "output_type": "execute_result"
    }
   ],
   "source": [
    "(q_single_b(fit_phi_odr[51:71], ice_d[50:70]))\n"
   ]
  },
  {
   "cell_type": "code",
   "execution_count": 46,
   "metadata": {},
   "outputs": [
    {
     "name": "stdout",
     "output_type": "stream",
     "text": [
      "logical low E cutoff from above = 1.4e+04\n"
     ]
    }
   ],
   "source": [
    "print('logical low E cutoff from above = %.1e' % (e_grid[52]))"
   ]
  },
  {
   "cell_type": "code",
   "execution_count": 47,
   "metadata": {},
   "outputs": [
    {
     "ename": "NameError",
     "evalue": "name 'signal_ice' is not defined",
     "output_type": "error",
     "traceback": [
      "\u001b[0;31m---------------------------------------------------------------------------\u001b[0m",
      "\u001b[0;31mNameError\u001b[0m                                 Traceback (most recent call last)",
      "\u001b[1;32m/home/kruteesh/Desktop/DM_nu_simulation/pone_dm/pone_dm/IceCube_data_analysis.ipynb Cell 51\u001b[0m in \u001b[0;36m<cell line: 4>\u001b[0;34m()\u001b[0m\n\u001b[1;32m      <a href='vscode-notebook-cell:/home/kruteesh/Desktop/DM_nu_simulation/pone_dm/pone_dm/IceCube_data_analysis.ipynb#Y101sZmlsZQ%3D%3D?line=1'>2</a>\u001b[0m sv_grid \u001b[39m=\u001b[39m \u001b[39menumerate\u001b[39m(np\u001b[39m.\u001b[39mlogspace(\u001b[39m-\u001b[39m\u001b[39m26\u001b[39m, \u001b[39m-\u001b[39m\u001b[39m21\u001b[39m, \u001b[39m9\u001b[39m))\n\u001b[1;32m      <a href='vscode-notebook-cell:/home/kruteesh/Desktop/DM_nu_simulation/pone_dm/pone_dm/IceCube_data_analysis.ipynb#Y101sZmlsZQ%3D%3D?line=2'>3</a>\u001b[0m \u001b[39m# print(\"sv_index = %f, mass_index = %f\" % (s, m))\u001b[39;00m\n\u001b[0;32m----> <a href='vscode-notebook-cell:/home/kruteesh/Desktop/DM_nu_simulation/pone_dm/pone_dm/IceCube_data_analysis.ipynb#Y101sZmlsZQ%3D%3D?line=3'>4</a>\u001b[0m CLs_, prob \u001b[39m=\u001b[39m CL_scan(signal_ice[:,:,\u001b[39m51\u001b[39m:\u001b[39m71\u001b[39m], fit_phi_odr[\u001b[39m51\u001b[39m:\u001b[39m71\u001b[39m], ice_d[\u001b[39m50\u001b[39m:\u001b[39m70\u001b[39m], sv_grid, mass_grid, sample_count\u001b[39m=\u001b[39m\u001b[39m10000\u001b[39m)\n\u001b[1;32m      <a href='vscode-notebook-cell:/home/kruteesh/Desktop/DM_nu_simulation/pone_dm/pone_dm/IceCube_data_analysis.ipynb#Y101sZmlsZQ%3D%3D?line=4'>5</a>\u001b[0m \u001b[39mprint\u001b[39m(\u001b[39m\"\u001b[39m\u001b[39mCLs\u001b[39m\u001b[39m\"\u001b[39m)\n\u001b[1;32m      <a href='vscode-notebook-cell:/home/kruteesh/Desktop/DM_nu_simulation/pone_dm/pone_dm/IceCube_data_analysis.ipynb#Y101sZmlsZQ%3D%3D?line=5'>6</a>\u001b[0m \u001b[39mprint\u001b[39m(CLs_)\n",
      "\u001b[0;31mNameError\u001b[0m: name 'signal_ice' is not defined"
     ]
    }
   ],
   "source": [
    "mass_grid = enumerate(np.logspace(2, 6, 9))\n",
    "sv_grid = enumerate(np.logspace(-26, -21, 9))\n",
    "# print(\"sv_index = %f, mass_index = %f\" % (s, m))\n",
    "CLs_, prob = CL_scan(signal_ice[:,:,51:71], fit_phi_odr[51:71], ice_d[50:70], sv_grid, mass_grid, sample_count=10000)\n",
    "print(\"CLs\")\n",
    "print(CLs_)\n",
    "print(\"prob Mat\")\n",
    "print(prob)\n"
   ]
  },
  {
   "cell_type": "code",
   "execution_count": null,
   "metadata": {},
   "outputs": [
    {
     "ename": "",
     "evalue": "",
     "output_type": "error",
     "traceback": [
      "\u001b[1;31mRunning cells with 'Python 3.10.7 64-bit' requires ipykernel package.\n",
      "\u001b[1;31mRun the following command to install 'ipykernel' into the Python environment. \n",
      "\u001b[1;31mCommand: '/bin/python3 -m pip install ipykernel -U --user --force-reinstall'"
     ]
    }
   ],
   "source": [
    "figure, ax1 = plt.subplots(1,1,figsize=(std_size,std_size), sharex=True) \n",
    "ax1.set_title(r'10 Years IceCube ', fontsize=fontsize)\n",
    "ax1.scatter(e_grid_bin, ice_d, color=color_ice, label=\"Data\")\n",
    "\n",
    "ax1.set_xscale('log')\n",
    "ax1.set_yscale(\"log\")\n",
    "ax1.set_xlim(0.8e3,1e6)\n",
    "\n",
    "ax1.set_ylim(1e0,2e5)\n",
    "ax1.set_xlabel(r'$\\log_{10}$ ( $E$ / $ \\textrm{GeV} )$ ', fontsize=fontsize)\n",
    "\n",
    "ax1.set_ylabel(r'$\\#$ $\\textrm{Counts}$', fontsize=fontsize)\n",
    "\n",
    "ax1.tick_params(axis = 'both', which = 'major', labelsize=fontsize, direction='in')\n",
    "ax1.tick_params(axis = 'both', which = 'minor', labelsize=fontsize, direction='in')\n",
    "\n",
    "figure.savefig(PICS + \"background_IceCube_10\"+\".png\",\n",
    "               bbox_inches='tight', dpi=export_dpi, facecolor='white')\n"
   ]
  },
  {
   "cell_type": "code",
   "execution_count": null,
   "metadata": {},
   "outputs": [
    {
     "ename": "",
     "evalue": "",
     "output_type": "error",
     "traceback": [
      "\u001b[1;31mRunning cells with 'Python 3.10.7 64-bit' requires ipykernel package.\n",
      "\u001b[1;31mRun the following command to install 'ipykernel' into the Python environment. \n",
      "\u001b[1;31mCommand: '/bin/python3 -m pip install ipykernel -U --user --force-reinstall'"
     ]
    }
   ],
   "source": [
    "pickle.dump([e_grid_bin, ice_d], open('../data/background_ice_10.pkl', 'wb'))"
   ]
  },
  {
   "cell_type": "code",
   "execution_count": null,
   "metadata": {},
   "outputs": [
    {
     "ename": "",
     "evalue": "",
     "output_type": "error",
     "traceback": [
      "\u001b[1;31mRunning cells with 'Python 3.10.7 64-bit' requires ipykernel package.\n",
      "\u001b[1;31mRun the following command to install 'ipykernel' into the Python environment. \n",
      "\u001b[1;31mCommand: '/bin/python3 -m pip install ipykernel -U --user --force-reinstall'"
     ]
    }
   ],
   "source": [
    "odr_fit.restart()"
   ]
  },
  {
   "cell_type": "markdown",
   "metadata": {},
   "source": [
    "This is the Poissonian CL"
   ]
  },
  {
   "cell_type": "code",
   "execution_count": null,
   "metadata": {},
   "outputs": [
    {
     "ename": "",
     "evalue": "",
     "output_type": "error",
     "traceback": [
      "\u001b[1;31mRunning cells with 'Python 3.10.7 64-bit' requires ipykernel package.\n",
      "\u001b[1;31mRun the following command to install 'ipykernel' into the Python environment. \n",
      "\u001b[1;31mCommand: '/bin/python3 -m pip install ipykernel -U --user --force-reinstall'"
     ]
    }
   ],
   "source": [
    "tmp_pois = np.abs(ice_d[35:70] - fit_phi(e_grid_bin, *t_para)[35:70]) / fit_phi(e_grid_bin, *t_para)[35:70]**(1/2)\n",
    "tmp_odr = np.abs(ice_d[35:70] - fit_phi_odr[35:70]) / fit_phi_odr[35:70]**(1/2)"
   ]
  },
  {
   "cell_type": "code",
   "execution_count": null,
   "metadata": {},
   "outputs": [
    {
     "ename": "",
     "evalue": "",
     "output_type": "error",
     "traceback": [
      "\u001b[1;31mRunning cells with 'Python 3.10.7 64-bit' requires ipykernel package.\n",
      "\u001b[1;31mRun the following command to install 'ipykernel' into the Python environment. \n",
      "\u001b[1;31mCommand: '/bin/python3 -m pip install ipykernel -U --user --force-reinstall'"
     ]
    }
   ],
   "source": [
    "\n",
    "e_grid[46]"
   ]
  },
  {
   "cell_type": "code",
   "execution_count": null,
   "metadata": {},
   "outputs": [
    {
     "ename": "",
     "evalue": "",
     "output_type": "error",
     "traceback": [
      "\u001b[1;31mRunning cells with 'Python 3.10.7 64-bit' requires ipykernel package.\n",
      "\u001b[1;31mRun the following command to install 'ipykernel' into the Python environment. \n",
      "\u001b[1;31mCommand: '/bin/python3 -m pip install ipykernel -U --user --force-reinstall'"
     ]
    }
   ],
   "source": [
    "_find_nearest(e_grid, 3000)"
   ]
  },
  {
   "cell_type": "code",
   "execution_count": null,
   "metadata": {},
   "outputs": [
    {
     "ename": "",
     "evalue": "",
     "output_type": "error",
     "traceback": [
      "\u001b[1;31mRunning cells with 'Python 3.10.7 64-bit' requires ipykernel package.\n",
      "\u001b[1;31mRun the following command to install 'ipykernel' into the Python environment. \n",
      "\u001b[1;31mCommand: '/bin/python3 -m pip install ipykernel -U --user --force-reinstall'"
     ]
    }
   ],
   "source": [
    "odr_p = (poisson.pmf(ice_d[46:], fit_phi_odr[46:]))\n",
    "odr_d = poisson.pmf(ice_d[30:70], ice_d[30:70])\n",
    "p_p = (poisson.pmf(ice_d[50:70], fit_phi(e_grid_bin, *t_para)[50:70]))\n",
    "p_d = poisson.pmf(ice_d[0:80], ice_d[0:80])"
   ]
  },
  {
   "cell_type": "code",
   "execution_count": null,
   "metadata": {},
   "outputs": [
    {
     "ename": "",
     "evalue": "",
     "output_type": "error",
     "traceback": [
      "\u001b[1;31mRunning cells with 'Python 3.10.7 64-bit' requires ipykernel package.\n",
      "\u001b[1;31mRun the following command to install 'ipykernel' into the Python environment. \n",
      "\u001b[1;31mCommand: '/bin/python3 -m pip install ipykernel -U --user --force-reinstall'"
     ]
    }
   ],
   "source": [
    "odr_d"
   ]
  },
  {
   "cell_type": "code",
   "execution_count": null,
   "metadata": {},
   "outputs": [
    {
     "ename": "",
     "evalue": "",
     "output_type": "error",
     "traceback": [
      "\u001b[1;31mRunning cells with 'Python 3.10.7 64-bit' requires ipykernel package.\n",
      "\u001b[1;31mRun the following command to install 'ipykernel' into the Python environment. \n",
      "\u001b[1;31mCommand: '/bin/python3 -m pip install ipykernel -U --user --force-reinstall'"
     ]
    }
   ],
   "source": [
    "p_d"
   ]
  },
  {
   "cell_type": "code",
   "execution_count": null,
   "metadata": {},
   "outputs": [
    {
     "ename": "",
     "evalue": "",
     "output_type": "error",
     "traceback": [
      "\u001b[1;31mRunning cells with 'Python 3.10.7 64-bit' requires ipykernel package.\n",
      "\u001b[1;31mRun the following command to install 'ipykernel' into the Python environment. \n",
      "\u001b[1;31mCommand: '/bin/python3 -m pip install ipykernel -U --user --force-reinstall'"
     ]
    }
   ],
   "source": [
    "ice_d"
   ]
  },
  {
   "cell_type": "code",
   "execution_count": null,
   "metadata": {},
   "outputs": [
    {
     "ename": "",
     "evalue": "",
     "output_type": "error",
     "traceback": [
      "\u001b[1;31mRunning cells with 'Python 3.10.7 64-bit' requires ipykernel package.\n",
      "\u001b[1;31mRun the following command to install 'ipykernel' into the Python environment. \n",
      "\u001b[1;31mCommand: '/bin/python3 -m pip install ipykernel -U --user --force-reinstall'"
     ]
    }
   ],
   "source": [
    "p_r = odr_p / p_d"
   ]
  },
  {
   "cell_type": "code",
   "execution_count": null,
   "metadata": {},
   "outputs": [
    {
     "ename": "",
     "evalue": "",
     "output_type": "error",
     "traceback": [
      "\u001b[1;31mRunning cells with 'Python 3.10.7 64-bit' requires ipykernel package.\n",
      "\u001b[1;31mRun the following command to install 'ipykernel' into the Python environment. \n",
      "\u001b[1;31mCommand: '/bin/python3 -m pip install ipykernel -U --user --force-reinstall'"
     ]
    }
   ],
   "source": [
    "p_r"
   ]
  },
  {
   "cell_type": "code",
   "execution_count": null,
   "metadata": {},
   "outputs": [
    {
     "ename": "",
     "evalue": "",
     "output_type": "error",
     "traceback": [
      "\u001b[1;31mRunning cells with 'Python 3.10.7 64-bit' requires ipykernel package.\n",
      "\u001b[1;31mRun the following command to install 'ipykernel' into the Python environment. \n",
      "\u001b[1;31mCommand: '/bin/python3 -m pip install ipykernel -U --user --force-reinstall'"
     ]
    }
   ],
   "source": [
    "np.prod(p_r)"
   ]
  },
  {
   "cell_type": "code",
   "execution_count": null,
   "metadata": {},
   "outputs": [
    {
     "ename": "",
     "evalue": "",
     "output_type": "error",
     "traceback": [
      "\u001b[1;31mRunning cells with 'Python 3.10.7 64-bit' requires ipykernel package.\n",
      "\u001b[1;31mRun the following command to install 'ipykernel' into the Python environment. \n",
      "\u001b[1;31mCommand: '/bin/python3 -m pip install ipykernel -U --user --force-reinstall'"
     ]
    }
   ],
   "source": [
    "tmp_pois ##### array([8.68845737e+04, 5.91198556e+04, 3.83521927e+04, 2.37712564e+04,\n",
    "                     #1.37239028e+04, 1.05008990e+04, 5.63606489e+03, 3.35222694e+03,\n",
    "                     #2.11754555e+03, 1.19897309e+03, 8.90809383e+02, 4.23990583e+02,\n",
    "                     #3.24261426e+02, 1.73625826e+02, 1.13772767e+02, 5.58985893e+01,\n",
    "                     #3.59436341e+01, 1.69781649e+01, 1.09905348e+01, 5.99842260e+00,\n",
    "                     #3.00049494e+00, 1.00029681e+00, 1.00029661e+00, 9.99901219e-01,\n",
    "                     #1.00029605e+00, 1.00029566e+00, 9.99901616e-01, 9.99901822e-01,\n",
    "                     #9.99902081e-01, 9.99902408e-01, 9.99902819e-01, 9.99903337e-01,\n",
    "                     #1.92032189e-04, 9.99904809e-01, 9.99905842e-01, 9.99907142e-01,\n",
    "                     #9.99908779e-01, 9.99910840e-01, 9.99913435e-01, 9.99916701e-01] for 3-9 years.p"
   ]
  },
  {
   "cell_type": "code",
   "execution_count": null,
   "metadata": {},
   "outputs": [
    {
     "ename": "",
     "evalue": "",
     "output_type": "error",
     "traceback": [
      "\u001b[1;31mRunning cells with 'Python 3.10.7 64-bit' requires ipykernel package.\n",
      "\u001b[1;31mRun the following command to install 'ipykernel' into the Python environment. \n",
      "\u001b[1;31mCommand: '/bin/python3 -m pip install ipykernel -U --user --force-reinstall'"
     ]
    }
   ],
   "source": [
    "tmp_ice_counter = 0\n",
    "tmp_pro_counter = 0\n",
    "for y in range(0,9):\n",
    "    tmp_ice_counter += np.sum(ice_data_dic[y][40:])\n",
    "    tmp_pro_counter += np.sum(np.nan_to_num(phi_fit[y][40:]))\n",
    "    print(\"Year = %d, Data sum = %.5e, Projection sum = %.5e\" % (y+1, np.sum(ice_data_dic[y][40:]),\n",
    "           np.sum(np.nan_to_num(phi_fit[y][40:]))))\n",
    "print('Ice Counter =  %.5e, pro counter = %.5e ' %(tmp_ice_counter, tmp_pro_counter))"
   ]
  },
  {
   "cell_type": "markdown",
   "metadata": {},
   "source": [
    "This is the chi2 CL\n"
   ]
  },
  {
   "cell_type": "code",
   "execution_count": null,
   "metadata": {},
   "outputs": [
    {
     "ename": "",
     "evalue": "",
     "output_type": "error",
     "traceback": [
      "\u001b[1;31mRunning cells with 'Python 3.10.7 64-bit' requires ipykernel package.\n",
      "\u001b[1;31mRun the following command to install 'ipykernel' into the Python environment. \n",
      "\u001b[1;31mCommand: '/bin/python3 -m pip install ipykernel -U --user --force-reinstall'"
     ]
    }
   ],
   "source": [
    "CL_data_b = {}\n",
    "tmp_cl = {}\n",
    "for y in range(0,9):\n",
    "  tmp_=np.sum(np.nan_to_num(np.abs(np.array(ice_data_dic[y][48:70] - phi_fit[y][48:70])) / np.nan_to_num(np.array(phi_fit[y][48:70]))**(1/2) ))\n",
    "  tmp_cl[y] =chi2.sf(tmp_**2, 2)\n",
    "  k = np.nan_to_num(np.sum(np.nan_to_num((ice_data_dic[y][48:])**2 / \n",
    "                                         np.nan_to_num(phi_fit[y])[48:-1])))            \n",
    "  print(k)\n",
    "  CL_data_b[y] = chi2.sf(k, 2)\n",
    "# np.nan_to_num(np.sum(np.nan_to_num((ice_data_dic[y][38:] - np.nan_to_num(phi_fit[y])[38:-1])**2 / np.nan_to_num(phi_fit[y])[38:-1]))"
   ]
  },
  {
   "cell_type": "code",
   "execution_count": null,
   "metadata": {},
   "outputs": [
    {
     "ename": "",
     "evalue": "",
     "output_type": "error",
     "traceback": [
      "\u001b[1;31mRunning cells with 'Python 3.10.7 64-bit' requires ipykernel package.\n",
      "\u001b[1;31mRun the following command to install 'ipykernel' into the Python environment. \n",
      "\u001b[1;31mCommand: '/bin/python3 -m pip install ipykernel -U --user --force-reinstall'"
     ]
    }
   ],
   "source": [
    "chi2.sf(53973.1535298152, 2)"
   ]
  },
  {
   "cell_type": "code",
   "execution_count": null,
   "metadata": {},
   "outputs": [
    {
     "ename": "",
     "evalue": "",
     "output_type": "error",
     "traceback": [
      "\u001b[1;31mRunning cells with 'Python 3.10.7 64-bit' requires ipykernel package.\n",
      "\u001b[1;31mRun the following command to install 'ipykernel' into the Python environment. \n",
      "\u001b[1;31mCommand: '/bin/python3 -m pip install ipykernel -U --user --force-reinstall'"
     ]
    }
   ],
   "source": [
    "CL_data_b"
   ]
  },
  {
   "cell_type": "code",
   "execution_count": null,
   "metadata": {},
   "outputs": [
    {
     "ename": "",
     "evalue": "",
     "output_type": "error",
     "traceback": [
      "\u001b[1;31mRunning cells with 'Python 3.10.7 64-bit' requires ipykernel package.\n",
      "\u001b[1;31mRun the following command to install 'ipykernel' into the Python environment. \n",
      "\u001b[1;31mCommand: '/bin/python3 -m pip install ipykernel -U --user --force-reinstall'"
     ]
    }
   ],
   "source": [
    "CL_data_b, np.sum(np.nan_to_num((ice_d - np.sum(phi_fit, axis=0)[:-1])**2 / np.sum(phi_fit, axis=0)[:-1]))"
   ]
  },
  {
   "cell_type": "code",
   "execution_count": null,
   "metadata": {},
   "outputs": [
    {
     "ename": "",
     "evalue": "",
     "output_type": "error",
     "traceback": [
      "\u001b[1;31mRunning cells with 'Python 3.10.7 64-bit' requires ipykernel package.\n",
      "\u001b[1;31mRun the following command to install 'ipykernel' into the Python environment. \n",
      "\u001b[1;31mCommand: '/bin/python3 -m pip install ipykernel -U --user --force-reinstall'"
     ]
    }
   ],
   "source": []
  }
 ],
 "metadata": {
  "kernelspec": {
   "display_name": "Python 3.10.6 ('pdm')",
   "language": "python",
   "name": "python3"
  },
  "language_info": {
   "codemirror_mode": {
    "name": "ipython",
    "version": 3
   },
   "file_extension": ".py",
   "mimetype": "text/x-python",
   "name": "python",
   "nbconvert_exporter": "python",
   "pygments_lexer": "ipython3",
   "version": "3.10.6"
  },
  "orig_nbformat": 4,
  "vscode": {
   "interpreter": {
    "hash": "82a3a656d33f35b7f3fe77a22343614a58c995dc979ba6da45d214804d59b344"
   }
  }
 },
 "nbformat": 4,
 "nbformat_minor": 2
}
