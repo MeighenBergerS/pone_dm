{
 "cells": [
  {
   "cell_type": "code",
   "execution_count": 1,
   "metadata": {},
   "outputs": [],
   "source": [
    "# For IceCube Data analysis .... \n",
    "# This is for Data analysis the example basic is for Sensitivity \n"
   ]
  },
  {
   "cell_type": "code",
   "execution_count": 2,
   "metadata": {},
   "outputs": [],
   "source": [
    "# imports\n",
    "from constants import pdm_constants as const\n",
    "from config import config\n",
    "from pone_aeff import Aeff\n",
    "from dm2nu import DM2Nu\n",
    "from atm_shower import Atm_Shower\n",
    "from detectors import Detector\n",
    "import numpy as np\n",
    "import matplotlib.pyplot as plt\n",
    "from limit_calc import Limits\n",
    "from bkgrd_calc import Background\n",
    "from signal_calc import Signal\n",
    "from pdm import PDM\n",
    "from scipy.interpolate import UnivariateSpline\n",
    "from scipy.stats import chi2\n",
    "from scipy.stats import *\n",
    "from scipy import optimize\n",
    "from scipy.odr import ODR, Model, Data, RealData\n",
    "from pylab import *\n",
    "from pone_aeff import Aeff\n",
    "import pickle\n",
    "import csv\n",
    "from scipy.stats import poisson\n",
    "from matplotlib import rc\n",
    "from CL_s import *"
   ]
  },
  {
   "cell_type": "code",
   "execution_count": 4,
   "metadata": {},
   "outputs": [],
   "source": [
    "# picture path\n",
    "PICS = '../pics/'\n",
    "name=[r'$\\nu_{\\mu}$', r\"$\\nu_e$\", r\"$\\nu_{\\tau}$\"]  # ,r'$\\nu_{e}$',r'$\\nu_{\\tau}$'\n",
    "# Plotting standards\n",
    "std_size = 6.  # Size of the plot\n",
    "fontsize = 15.  # Fontsize in the plot\n",
    "lw=0.5  # Linewidth\n",
    "h_length=0.5  # Handle length for the legends\n",
    "export_dpi = 500  # Dpi for the image export\n",
    "color_pone='#7570b3'\n",
    "color_ice='#e7298a'\n",
    "color_combined='#33a02c'\n",
    "color_thermal='#1f78b4'\n",
    "color_unitary='k'\n",
    "color_4='#1b9e77'\n",
    "color_6='#d95f02'\n",
    "rc('font',**{'family':'sans-serif','sans-serif':['Helvetica']})\n",
    "rc('text', usetex=True)"
   ]
  },
  {
   "cell_type": "code",
   "execution_count": 5,
   "metadata": {},
   "outputs": [],
   "source": [
    "surface_fluxe = pickle.load(open(\"../data/\" +\n",
    "                                                   \"surf_store_v1.p\", \"rb\"))"
   ]
  },
  {
   "cell_type": "code",
   "execution_count": 6,
   "metadata": {},
   "outputs": [],
   "source": [
    "projection_ice = pickle.load(open('../data/background_ice.pkl','rb'))\n",
    "signal_ice =pickle.load(open(\"../data/limits_signal_IceCube.pkl\", \"rb\"))\n",
    "\n",
    "\n",
    "projection_pone = pickle.load(open('../data/background_pone_unsm.pkl','rb'))"
   ]
  },
  {
   "cell_type": "code",
   "execution_count": null,
   "metadata": {},
   "outputs": [],
   "source": []
  },
  {
   "cell_type": "code",
   "execution_count": 7,
   "metadata": {},
   "outputs": [
    {
     "data": {
      "text/plain": [
       "121"
      ]
     },
     "execution_count": 7,
     "metadata": {},
     "output_type": "execute_result"
    }
   ],
   "source": [
    "len(projection_pone['numu'])"
   ]
  },
  {
   "cell_type": "code",
   "execution_count": 8,
   "metadata": {},
   "outputs": [],
   "source": [
    "#for i in projection_ice.keys():\n",
    "#    projection_ice[i]=np.sum(projection_ice[i], axis=0)"
   ]
  },
  {
   "cell_type": "code",
   "execution_count": null,
   "metadata": {},
   "outputs": [],
   "source": []
  },
  {
   "cell_type": "code",
   "execution_count": 9,
   "metadata": {},
   "outputs": [],
   "source": [
    "e_grid = surface_fluxe[0][0]\n",
    "e_width = surface_fluxe[0][1]\n",
    "def width2grid(a: np.array):\n",
    "    m_a = []\n",
    "    for i, e in enumerate(a):\n",
    "        if i == 0:\n",
    "            m_a.append(e)\n",
    "        elif i==len(a)-1:\n",
    "            print(i)\n",
    "            break\n",
    "        else:\n",
    "            m_a.append((a[i] + a[i+1]) / 2)\n",
    "\n",
    "    return np.array(m_a)"
   ]
  },
  {
   "cell_type": "code",
   "execution_count": 10,
   "metadata": {},
   "outputs": [
    {
     "name": "stdout",
     "output_type": "stream",
     "text": [
      "120\n"
     ]
    }
   ],
   "source": [
    "e_grid_bin = width2grid(e_grid)"
   ]
  },
  {
   "cell_type": "code",
   "execution_count": 11,
   "metadata": {},
   "outputs": [],
   "source": [
    "def astro_flux():\n",
    "     res = 1.66 * (e_grid / 1e5)**(-2.6) * 1e-18  # Custom\n",
    "     return res"
   ]
  },
  {
   "cell_type": "code",
   "execution_count": 12,
   "metadata": {},
   "outputs": [],
   "source": [
    "def ice_parser(filename):\n",
    "    \n",
    "        store = []\n",
    "        with open(filename, newline='') as csvfile:\n",
    "            reader = csv.reader(csvfile)\n",
    "            for row_num, row in enumerate(reader):\n",
    "                if row_num == 0:\n",
    "                    continue\n",
    "                store.append(row[0].split())\n",
    "        store = np.array(store, dtype=float)\n",
    "\n",
    "        return store"
   ]
  },
  {
   "cell_type": "code",
   "execution_count": 13,
   "metadata": {},
   "outputs": [],
   "source": [
    "\n",
    "\n",
    "def data_filter(event_dic, energy_range, angle_range, years):\n",
    "    # filters the data in energy and angle\n",
    "    filtered_dic = {}\n",
    "    for year in years:\n",
    "        # where method is faster as basic slicing\n",
    "        energy_filter_1 = event_dic[year][np.where(event_dic[year][:, 1] < energy_range[1])]\n",
    "        energy_filter_2 = energy_filter_1[np.where(energy_filter_1[:, 1] > energy_range[0])]\n",
    "        high_angle = angle_range[1]\n",
    "        angle_filter_1 = energy_filter_2[np.where(energy_filter_2[:, 4] < high_angle)]\n",
    "        low_angle = angle_range[0]\n",
    "        angle_filter_2 = angle_filter_1[np.where(angle_filter_1[:, 4] > low_angle)]\n",
    "        filtered_dic[year] = angle_filter_2\n",
    "    return filtered_dic\n",
    "\n"
   ]
  },
  {
   "cell_type": "code",
   "execution_count": null,
   "metadata": {},
   "outputs": [],
   "source": []
  },
  {
   "cell_type": "code",
   "execution_count": 14,
   "metadata": {},
   "outputs": [],
   "source": [
    "bkgrd_ice_data = [\n",
    "                        '../data/icecube_10year_ps/events/IC40_exp.csv',\n",
    "                        '../data/icecube_10year_ps/events/IC59_exp.csv',\n",
    "                        '../data/icecube_10year_ps/events/IC79_exp.csv',\n",
    "                        '../data/icecube_10year_ps/events/IC86_I_exp.csv',\n",
    "                        '../data/icecube_10year_ps/events/IC86_II_exp.csv',\n",
    "                        '../data/icecube_10year_ps/events/IC86_III_exp.csv',\n",
    "                        '../data/icecube_10year_ps/events/IC86_IV_exp.csv',\n",
    "                        '../data/icecube_10year_ps/events/IC86_V_exp.csv',\n",
    "                        '../data/icecube_10year_ps/events/IC86_VI_exp.csv',\n",
    "                        '../data/icecube_10year_ps/events/IC86_VII_exp.csv',\n",
    "                    ]\n",
    "bkgrd_ice_dic = {\n",
    "                        0: ice_parser(bkgrd_ice_data[0]),\n",
    "                        1: ice_parser(bkgrd_ice_data[1]),\n",
    "                        2: ice_parser(bkgrd_ice_data[2]),\n",
    "                        3: ice_parser(bkgrd_ice_data[3]),\n",
    "                        4: ice_parser(bkgrd_ice_data[4]),\n",
    "                        5: ice_parser(bkgrd_ice_data[5]),\n",
    "                        6: ice_parser(bkgrd_ice_data[6]),\n",
    "                        7: ice_parser(bkgrd_ice_data[7]),\n",
    "                        8: ice_parser(bkgrd_ice_data[8]),\n",
    "                        9: ice_parser(bkgrd_ice_data[9]),\n",
    "                    }"
   ]
  },
  {
   "cell_type": "code",
   "execution_count": 15,
   "metadata": {},
   "outputs": [],
   "source": [
    "ice_tmp_data_dic = data_filter(bkgrd_ice_dic, [2,8], [0,90], range(0,10))"
   ]
  },
  {
   "cell_type": "code",
   "execution_count": 16,
   "metadata": {},
   "outputs": [],
   "source": [
    "ice_data_dic = {}\n",
    "\n",
    "for i in bkgrd_ice_dic.keys():\n",
    "    tmp_hist_data, bins_edge = np.histogram(ice_tmp_data_dic[i][:,1], bins=np.log10(e_grid) )\n",
    "    ice_data_dic[i] = tmp_hist_data"
   ]
  },
  {
   "cell_type": "code",
   "execution_count": 49,
   "metadata": {},
   "outputs": [],
   "source": [
    "ice_d = []\n",
    "for i in range(0,10):\n",
    "    ice_d.append(ice_data_dic[i])\n",
    "ice_d = np.sum(ice_d, axis=0)"
   ]
  },
  {
   "cell_type": "code",
   "execution_count": 50,
   "metadata": {},
   "outputs": [],
   "source": [
    "# projection_ice[\"numu\"] = np.sum(projection_ice[\"numu\"][3:],axis=0)"
   ]
  },
  {
   "cell_type": "code",
   "execution_count": 51,
   "metadata": {},
   "outputs": [],
   "source": [
    "# q_single_b(projection_ice[\"numu\"][45:70], ice_d[45:70])"
   ]
  },
  {
   "cell_type": "code",
   "execution_count": 52,
   "metadata": {},
   "outputs": [],
   "source": [
    "l = range(0,10)"
   ]
  },
  {
   "cell_type": "code",
   "execution_count": 53,
   "metadata": {},
   "outputs": [
    {
     "data": {
      "text/plain": [
       "array([0, 1, 2, 3, 4, 5, 6, 7, 8, 9])"
      ]
     },
     "execution_count": 53,
     "metadata": {},
     "output_type": "execute_result"
    }
   ],
   "source": [
    "np.array(l)"
   ]
  },
  {
   "cell_type": "code",
   "execution_count": 54,
   "metadata": {},
   "outputs": [],
   "source": [
    "def _find_nearest(array: np.array, value: float):\n",
    "    \n",
    "    \"\"\" Returns: index of the nearest vlaue of an array to the given number\n",
    "    --------------\n",
    "    idx :  float\n",
    "    \"\"\"\n",
    "    array = np.array(array)\n",
    "    idx = (np.abs(array - value)).argmin()\n",
    "    return idx"
   ]
  },
  {
   "cell_type": "code",
   "execution_count": 55,
   "metadata": {},
   "outputs": [
    {
     "data": {
      "text/plain": [
       "(37, 70)"
      ]
     },
     "execution_count": 55,
     "metadata": {},
     "output_type": "execute_result"
    }
   ],
   "source": [
    "_find_nearest(e_grid, 5e2), _find_nearest(e_grid, 1e6)"
   ]
  },
  {
   "cell_type": "code",
   "execution_count": 56,
   "metadata": {},
   "outputs": [
    {
     "data": {
      "text/plain": [
       "array([2.31806333, 2.8286599 , 3.3960249 , 3.67292869, 3.80875097,\n",
       "       3.85144181, 3.74849813, 3.69609416, 3.47567119, 3.31302311,\n",
       "       3.17609126, 2.97358962, 2.92116605, 2.6919651 , 2.67851838,\n",
       "       2.58433122, 2.29885308, 2.24797327, 2.08635983, 1.96848295,\n",
       "       1.93449845, 1.65321251, 1.61278386, 1.34242268, 1.2787536 ,\n",
       "       1.        , 0.60205999, 0.        , 0.77815125])"
      ]
     },
     "execution_count": 56,
     "metadata": {},
     "output_type": "execute_result"
    }
   ],
   "source": [
    "np.log10(ice_data_dic[1][38:67])"
   ]
  },
  {
   "cell_type": "code",
   "execution_count": 57,
   "metadata": {},
   "outputs": [],
   "source": [
    "def fit_fun_gamma(A, E, gamma, phi_0):\n",
    "    return (A*(E)**(-gamma) + phi_0)\n",
    "\n"
   ]
  },
  {
   "cell_type": "code",
   "execution_count": 58,
   "metadata": {},
   "outputs": [
    {
     "name": "stderr",
     "output_type": "stream",
     "text": [
      "/tmp/ipykernel_4251/1548751189.py:44: RuntimeWarning: invalid value encountered in log10\n",
      "  return np.log10(spl_phi(E + E_0 )*A + b)\n"
     ]
    }
   ],
   "source": [
    "para = {}\n",
    "p = {}\n",
    "\n",
    "para_fun = {}\n",
    "p_fun = {}\n",
    "phi_fits = {}\n",
    "new_phi = {}\n",
    "phi_fun = {}\n",
    "# 5.11951803,   15.42169565, 2821.23529455]\n",
    "# [ 1.56906855e-01, -2.63388990e+02,  1.01791398e+00]\n",
    "#\n",
    "for i in range(0,9):\n",
    "    new_phi[i] = []\n",
    "    phi_fun[i] = []\n",
    "    phi_fits[i] = []\n",
    "    if i==0:\n",
    "        spl_phi = UnivariateSpline(e_grid, projection_ice['numu'][i], k=1, s=1)\n",
    "        def fit_phi(E, A, E_0, b):\n",
    "            return np.log10(spl_phi(E + E_0 )*A + b)\n",
    "        t_para, _p = optimize.curve_fit(fit_phi, e_grid_bin[40:66], np.log10(ice_data_dic[i][40:66]),\n",
    "                                        method='dogbox')\n",
    "        para[i] = t_para\n",
    "        p[i]= _p\n",
    "\n",
    "    elif i==1:\n",
    "        spl_phi = UnivariateSpline(e_grid, projection_ice['numu'][i], k=1, s=1)\n",
    "        def fit_phi(E, A, E_0, b):\n",
    "            return np.log10(spl_phi(E + E_0 )*A + b)\n",
    "        t_para, _p = optimize.curve_fit(fit_phi, e_grid_bin[40:67], np.log10(ice_data_dic[i][40:67]))\n",
    "        para[i] = t_para\n",
    "        p[i]= _p\n",
    "\n",
    "    elif i==2:\n",
    "        spl_phi = UnivariateSpline(e_grid, projection_ice['numu'][i], k=1, s=1)\n",
    "        def fit_phi(E, A, E_0, b):\n",
    "            return np.log10(spl_phi(E + E_0 )*A + b)\n",
    "        t_para, _p = optimize.curve_fit(fit_phi, e_grid_bin[38:60], np.log10(ice_data_dic[i][38:60]))\n",
    "        para[i] = t_para\n",
    "        p[i]= _p\n",
    "\n",
    "    else:\n",
    "        spl_phi = UnivariateSpline(e_grid, projection_ice['numu'][i], k=1, s=1)\n",
    "        def fit_phi(E, A, E_0, b):\n",
    "            return np.log10(spl_phi(E + E_0 )*A + b)\n",
    "        t_para, _p = optimize.curve_fit(fit_phi, e_grid_bin[38:57], np.log10(ice_data_dic[i][38:57]), method='dogbox')\n",
    "        para[i] = t_para\n",
    "        p[i]= _p\n",
    "\n",
    "    phi_fits[i].extend(fit_phi(e_grid, *para[i]))\n",
    "    new_phi[i].extend(10**(fit_phi(e_grid, *para[i])))\n",
    "\n",
    "    # phi_fun[i].extend((fit_fun_gamma(e_grid, *para_fun[i])))"
   ]
  },
  {
   "cell_type": "code",
   "execution_count": 59,
   "metadata": {},
   "outputs": [
    {
     "data": {
      "text/plain": [
       "({0: array([ 1.86275341e-01, -4.04958319e+02,  1.05871364e+00]),\n",
       "  1: array([ 3.29827067e-01, -3.72631565e+02,  1.23709351e+01]),\n",
       "  2: array([  31.74564461, 8277.3657072 ,   10.72705184]),\n",
       "  3: array([   2.2981199 , 1374.48328754,    2.8405676 ]),\n",
       "  4: array([   2.55846528, 1378.90418311,   -3.76694954]),\n",
       "  5: array([   2.80770673, 1406.89313043,   -4.94606431]),\n",
       "  6: array([2.57828940e+00, 1.29939170e+03, 9.25592107e-01]),\n",
       "  7: array([   2.27858036, 1143.13585846,   -3.81336496]),\n",
       "  8: array([ 2.26631824e+00,  1.32272530e+03, -4.07588214e-01])},\n",
       " {})"
      ]
     },
     "execution_count": 59,
     "metadata": {},
     "output_type": "execute_result"
    }
   ],
   "source": [
    "para, para_fun"
   ]
  },
  {
   "cell_type": "code",
   "execution_count": 60,
   "metadata": {},
   "outputs": [],
   "source": [
    "phi_fit = []\n",
    "for i in range(0,9):\n",
    "     phi_fit.append(new_phi[i])"
   ]
  },
  {
   "cell_type": "code",
   "execution_count": 61,
   "metadata": {},
   "outputs": [
    {
     "data": {
      "image/png": "[encoded data removed]",
      "text/plain": [
       "<Figure size 432x288 with 1 Axes>"
      ]
     },
     "metadata": {
      "needs_background": "light"
     },
     "output_type": "display_data"
    }
   ],
   "source": [
    "for i in range(0, 9):\n",
    "    plt.figure()\n",
    "    plt.title('Year %d ' % (i))\n",
    "    plt.step(e_grid, projection_ice['numu'][i], color='b' )\n",
    "    plt.plot(e_grid, new_phi[i], color='k')\n",
    "    #plt.plot(e_grid, phi_fun[i], color='g')\n",
    "    #plt.step(e_grid, projection_pone['numu'][i], color='k' )\n",
    "    plt.scatter(e_grid_bin, ice_data_dic[i], color='r')\n",
    "    #plt.plot(e_grid[32:50], ice_data_dic[i][32:50], color='g')\n",
    "    plt.xscale('log')\n",
    "    plt.yscale('log')\n",
    "    plt.ylim(1e-2,1e6)\n",
    "    plt.xlim(1e2,5e6)\n",
    "    plt.xlabel(r'E [GeV] ')\n",
    "    plt.ylabel(r'\\# $Counts$')\n",
    "#    plt.savefig(\"../pics/IceCube_counts_%d.png\" % (i), facecolor=\"white\")\n",
    "    break\n"
   ]
  },
  {
   "cell_type": "code",
   "execution_count": 62,
   "metadata": {},
   "outputs": [
    {
     "name": "stderr",
     "output_type": "stream",
     "text": [
      "/tmp/ipykernel_4251/1771748151.py:2: RuntimeWarning: divide by zero encountered in log10\n",
      "  np.log10(ice_d)[np.log10(ice_d) == -np.inf] = 0\n"
     ]
    }
   ],
   "source": [
    "spl_phi = UnivariateSpline(e_grid, np.sum(np.array(projection_ice['numu'][3:]), axis=0), k=1, s=0) # The projection_ice / ice_dneeds to be changed to total sum ...... \n",
    "np.log10(ice_d)[np.log10(ice_d) == -np.inf] = 0\n",
    "def fit_phi(E, A, E_0):\n",
    "          return (A * spl_phi(E + E_0 ))\n",
    "t_para, _p = optimize.curve_fit(fit_phi, e_grid_bin[38:70], np.nan_to_num((ice_d))[38:70],[   1.67881964, 1140.13585799], bounds=[[1, 20],[3, 3000]], method='dogbox')"
   ]
  },
  {
   "cell_type": "code",
   "execution_count": 63,
   "metadata": {},
   "outputs": [
    {
     "data": {
      "text/plain": [
       "array([   2.01628805, 1143.13585671])"
      ]
     },
     "execution_count": 63,
     "metadata": {},
     "output_type": "execute_result"
    }
   ],
   "source": [
    "t_para # array([2.20735973e+00, 2.91299035e+03]) for 0-9 years \n",
    "# array([   1.67881964, 1143.13585799,    2.        ]) for 3-9 years"
   ]
  },
  {
   "cell_type": "code",
   "execution_count": 64,
   "metadata": {},
   "outputs": [],
   "source": [
    "def odr_fit_phi(A, x):\n",
    "    return (A[0] * spl_phi(x + A[1] ) + A[2])\n"
   ]
  },
  {
   "cell_type": "code",
   "execution_count": 65,
   "metadata": {},
   "outputs": [],
   "source": [
    "odr_model = Model(odr_fit_phi)\n",
    "odr_data = RealData(e_grid[36:71], ice_d[36:71])\n"
   ]
  },
  {
   "cell_type": "code",
   "execution_count": 66,
   "metadata": {},
   "outputs": [],
   "source": [
    "odr_fit = ODR(odr_data, odr_model, beta0=[2.00735973e+00, 2.91299035e+03, 1])"
   ]
  },
  {
   "cell_type": "code",
   "execution_count": 67,
   "metadata": {},
   "outputs": [],
   "source": [
    "odr_fit.set_job(fit_type=0)"
   ]
  },
  {
   "cell_type": "code",
   "execution_count": 68,
   "metadata": {},
   "outputs": [],
   "source": [
    "odr_out = odr_fit.run()"
   ]
  },
  {
   "cell_type": "code",
   "execution_count": 69,
   "metadata": {},
   "outputs": [
    {
     "data": {
      "text/plain": [
       "array([   4.75782784, 1738.85283695,  157.28675168])"
      ]
     },
     "execution_count": 69,
     "metadata": {},
     "output_type": "execute_result"
    }
   ],
   "source": [
    "odr_out.beta\n"
   ]
  },
  {
   "cell_type": "code",
   "execution_count": 70,
   "metadata": {},
   "outputs": [],
   "source": [
    "fit_phi_odr = odr_fit_phi(odr_out.beta, e_grid_bin)"
   ]
  },
  {
   "cell_type": "code",
   "execution_count": 71,
   "metadata": {},
   "outputs": [],
   "source": [
    "ice_d_spl = UnivariateSpline(e_grid_bin, ice_d, k=1, s=0)(e_grid)"
   ]
  },
  {
   "cell_type": "code",
   "execution_count": 72,
   "metadata": {},
   "outputs": [
    {
     "data": {
      "text/plain": [
       "(array([2.01460287e+04, 1.16888110e+04, 7.54484406e+03, 4.90509342e+03,\n",
       "        3.31603912e+03, 2.33876199e+03, 1.46352555e+03, 1.15625272e+03,\n",
       "        7.53940458e+02, 4.69335889e+02, 3.53731163e+02, 2.57715359e+02,\n",
       "        1.88849777e+02, 1.27043424e+02, 7.26877396e+01, 5.49327908e+01,\n",
       "        3.56877396e+01, 2.28023629e+01, 1.27865582e+01, 9.11462327e+00,\n",
       "        8.44268837e+00]),\n",
       " array([13966,  8822,  5937,  3606,  2951,  1568,  1332,   935,   526,\n",
       "          398,   298,   207,   166,    78,    66,    41,    29,    15,\n",
       "           10,     8,     9,     2,     1,     0]))"
      ]
     },
     "execution_count": 72,
     "metadata": {},
     "output_type": "execute_result"
    }
   ],
   "source": [
    "ice_d_spl[46:67], ice_d[46:70]"
   ]
  },
  {
   "cell_type": "code",
   "execution_count": 73,
   "metadata": {},
   "outputs": [
    {
     "name": "stdout",
     "output_type": "stream",
     "text": [
      "low = 3.5e+03, high = 8.9e+05,\n"
     ]
    }
   ],
   "source": [
    "print(\"low = %.1e, high = %.1e,\" % (e_grid[46], e_grid[70]))"
   ]
  },
  {
   "cell_type": "code",
   "execution_count": 74,
   "metadata": {},
   "outputs": [],
   "source": [
    "aa= np.array([0.00000000e+000, 0.00000000e+000, 0.00000000e+000, 0.00000000e+000,\n",
    "        0.00000000e+000, 0.00000000e+000, 0.00000000e+000, 0.00000000e+000,\n",
    "        0.00000000e+000, 0.00000000e+000, 0.00000000e+000, 0.00000000e+000,\n",
    "        0.00000000e+000, 0.00000000e+000, 0.00000000e+000, 0.00000000e+000,\n",
    "        0.00000000e+000, 0.00000000e+000, 0.00000000e+000, 0.00000000e+000,\n",
    "        0.00000000e+000, 0.00000000e+000, 0.00000000e+000, 0.00000000e+000,\n",
    "        0.00000000e+000, 0.00000000e+000, 0.00000000e+000, 0.00000000e+000,\n",
    "        0.00000000e+000, 0.00000000e+000, 0.00000000e+000, 0.00000000e+000,\n",
    "        0.00000000e+000, 0.00000000e+000, 0.00000000e+000, 0.00000000e+000,\n",
    "        0.00000000e+000, 0.00000000e+000, 0.00000000e+000, 0.00000000e+000,\n",
    "        0.00000000e+000, 0.00000000e+000, 0.00000000e+000, 0.00000000e+000,])"
   ]
  },
  {
   "cell_type": "code",
   "execution_count": 75,
   "metadata": {},
   "outputs": [
    {
     "data": {
      "text/plain": [
       "8912.509381337459"
      ]
     },
     "execution_count": 75,
     "metadata": {},
     "output_type": "execute_result"
    }
   ],
   "source": [
    "e_grid[50]"
   ]
  },
  {
   "cell_type": "code",
   "execution_count": 76,
   "metadata": {},
   "outputs": [],
   "source": [
    "p_CL_b = poisson.pmf(ice_d[32:], fit_phi_odr[32:]) # q_single_b from CL_s\n",
    "p_CL_ob = poisson.pmf(ice_d[32:], ice_d[32:])"
   ]
  },
  {
   "cell_type": "code",
   "execution_count": 77,
   "metadata": {},
   "outputs": [
    {
     "data": {
      "text/plain": [
       "(array([0.00000000e+000, 0.00000000e+000, 0.00000000e+000, 0.00000000e+000,\n",
       "        0.00000000e+000, 0.00000000e+000, 0.00000000e+000, 2.04181603e-049,\n",
       "        0.00000000e+000, 0.00000000e+000, 0.00000000e+000, 0.00000000e+000,\n",
       "        0.00000000e+000, 0.00000000e+000, 0.00000000e+000, 3.19568920e-237,\n",
       "        4.23252036e-158, 3.13239565e-062, 5.70808603e-169, 8.37056448e-038,\n",
       "        3.43854367e-095, 9.61344890e-062, 9.99965588e-015, 2.04880193e-010,\n",
       "        1.72424845e-005, 2.76958986e-002, 6.83573364e-003, 1.63724813e-017,\n",
       "        2.42281870e-020, 1.75765921e-031, 1.79107195e-038, 7.42696316e-050,\n",
       "        8.69299245e-055, 7.11555254e-057, 2.13012590e-055, 2.29956061e-065,\n",
       "        3.81721644e-067, 3.05258291e-069, 4.42315526e-065, 3.88134962e-069,\n",
       "        6.55982587e-067, 4.36711713e-069, 4.53548489e-069, 4.64878125e-069,\n",
       "        4.71411371e-069, 4.77538510e-069, 4.81758023e-069, 4.84292371e-069,\n",
       "        4.86368541e-069, 4.87749058e-069, 4.88936188e-069, 4.89799260e-069,\n",
       "        4.90218065e-069, 4.90553523e-069, 4.90815093e-069, 4.90946162e-069,\n",
       "        4.91020699e-069, 4.91092035e-069, 4.91132705e-069, 4.91145924e-069,\n",
       "        4.91161175e-069, 4.91169815e-069, 4.91169815e-069, 4.91169815e-069,\n",
       "        4.91169815e-069, 4.91169815e-069, 4.91169815e-069, 4.91169815e-069,\n",
       "        4.91169815e-069, 4.91169815e-069, 4.91169815e-069, 4.91169815e-069,\n",
       "        4.91169815e-069, 4.91169815e-069, 4.91169815e-069, 4.91169815e-069,\n",
       "        4.91169815e-069, 4.91169815e-069, 4.91169815e-069, 4.91169815e-069,\n",
       "        4.91169815e-069, 4.91169815e-069, 4.91169815e-069, 4.91169815e-069,\n",
       "        4.91169815e-069, 4.91169815e-069, 4.91169815e-069, 4.91169815e-069]),\n",
       " array([0.01679602, 0.01256446, 0.00838965, 0.00500276, 0.00318025,\n",
       "        0.00203051, 0.00142128, 0.00126247, 0.00113805, 0.00134242,\n",
       "        0.00156372, 0.00182112, 0.00225481, 0.00252035, 0.00337576,\n",
       "        0.00424739, 0.0051775 , 0.00664335, 0.00734367, 0.01007428,\n",
       "        0.01093027, 0.01304564, 0.01739195, 0.01999298, 0.02310364,\n",
       "        0.02771724, 0.03094839, 0.04512308, 0.04904444, 0.06217781,\n",
       "        0.07386916, 0.10243587, 0.12511004, 0.13958653, 0.13175564,\n",
       "        0.27067057, 0.36787944, 1.        , 0.27067057, 1.        ,\n",
       "        0.36787944, 1.        , 1.        , 1.        , 1.        ,\n",
       "        1.        , 1.        , 1.        , 1.        , 1.        ,\n",
       "        1.        , 1.        , 1.        , 1.        , 1.        ,\n",
       "        1.        , 1.        , 1.        , 1.        , 1.        ,\n",
       "        1.        , 1.        , 1.        , 1.        , 1.        ,\n",
       "        1.        , 1.        , 1.        , 1.        , 1.        ,\n",
       "        1.        , 1.        , 1.        , 1.        , 1.        ,\n",
       "        1.        , 1.        , 1.        , 1.        , 1.        ,\n",
       "        1.        , 1.        , 1.        , 1.        , 1.        ,\n",
       "        1.        , 1.        , 1.        ]))"
      ]
     },
     "execution_count": 77,
     "metadata": {},
     "output_type": "execute_result"
    }
   ],
   "source": [
    "p_CL_b, p_CL_ob"
   ]
  },
  {
   "cell_type": "code",
   "execution_count": 78,
   "metadata": {},
   "outputs": [
    {
     "data": {
      "text/plain": [
       "array([0.00000000e+000, 8.53709477e-166, 2.18008930e-194, 1.98400559e-130,\n",
       "       1.24988846e-034, 2.38210376e-020, 2.95771622e-008, 4.52635275e-001,\n",
       "       6.68327506e-001, 1.61050038e-014, 7.55047905e-018, 2.77000968e-029,\n",
       "       1.22014280e-036, 2.47980829e-048, 1.60250698e-053, 8.65494175e-056,\n",
       "       2.39302820e-054, 1.11409581e-064, 1.30907765e-066, 3.56126470e-069])"
      ]
     },
     "execution_count": 78,
     "metadata": {},
     "output_type": "execute_result"
    }
   ],
   "source": [
    "(q_single_b(fit_phi_odr[51:71], ice_d[50:70]))\n"
   ]
  },
  {
   "cell_type": "code",
   "execution_count": 79,
   "metadata": {},
   "outputs": [
    {
     "name": "stdout",
     "output_type": "stream",
     "text": [
      "logical low E cutoff from above = 1.4e+04\n"
     ]
    }
   ],
   "source": [
    "print('logical low E cutoff from above = %.1e' % (e_grid[52]))"
   ]
  },
  {
   "cell_type": "code",
   "execution_count": 80,
   "metadata": {},
   "outputs": [
    {
     "name": "stderr",
     "output_type": "stream",
     "text": [
      "0it [00:00, ?it/s]/home/kruteesh/Desktop/DM_nu_simulation_P-One/PONE_git/pone_work/pone_dm/CL_s.py:10: RuntimeWarning: invalid value encountered in true_divide\n",
      "  return poisson.pmf(b_obs, b_sim + s) / poisson.pmf(b_obs, b_sim)\n",
      "0it [00:20, ?it/s]\n"
     ]
    },
    {
     "ename": "KeyboardInterrupt",
     "evalue": "",
     "output_type": "error",
     "traceback": [
      "\u001b[0;31m---------------------------------------------------------------------------\u001b[0m",
      "\u001b[0;31mKeyboardInterrupt\u001b[0m                         Traceback (most recent call last)",
      "\u001b[1;32m/home/kruteesh/Desktop/DM_nu_simulation_P-One/PONE_git/pone_work/pone_dm/IceCube_data_analysis.ipynb Cell 50'\u001b[0m in \u001b[0;36m<cell line: 4>\u001b[0;34m()\u001b[0m\n\u001b[1;32m      <a href='vscode-notebook-cell:/home/kruteesh/Desktop/DM_nu_simulation_P-One/PONE_git/pone_work/pone_dm/IceCube_data_analysis.ipynb#ch0000056?line=1'>2</a>\u001b[0m sv_grid \u001b[39m=\u001b[39m \u001b[39menumerate\u001b[39m(np\u001b[39m.\u001b[39mlogspace(\u001b[39m-\u001b[39m\u001b[39m26\u001b[39m, \u001b[39m-\u001b[39m\u001b[39m21\u001b[39m, \u001b[39m9\u001b[39m))\n\u001b[1;32m      <a href='vscode-notebook-cell:/home/kruteesh/Desktop/DM_nu_simulation_P-One/PONE_git/pone_work/pone_dm/IceCube_data_analysis.ipynb#ch0000056?line=2'>3</a>\u001b[0m \u001b[39m# print(\"sv_index = %f, mass_index = %f\" % (s, m))\u001b[39;00m\n\u001b[0;32m----> <a href='vscode-notebook-cell:/home/kruteesh/Desktop/DM_nu_simulation_P-One/PONE_git/pone_work/pone_dm/IceCube_data_analysis.ipynb#ch0000056?line=3'>4</a>\u001b[0m CLs_, prob \u001b[39m=\u001b[39m CL_scan(signal_ice[:,:,\u001b[39m51\u001b[39;49m:\u001b[39m71\u001b[39;49m], fit_phi_odr[\u001b[39m51\u001b[39;49m:\u001b[39m71\u001b[39;49m], ice_d[\u001b[39m50\u001b[39;49m:\u001b[39m70\u001b[39;49m], sv_grid, mass_grid, sample_count\u001b[39m=\u001b[39;49m\u001b[39m10000\u001b[39;49m)\n\u001b[1;32m      <a href='vscode-notebook-cell:/home/kruteesh/Desktop/DM_nu_simulation_P-One/PONE_git/pone_work/pone_dm/IceCube_data_analysis.ipynb#ch0000056?line=4'>5</a>\u001b[0m \u001b[39mprint\u001b[39m(\u001b[39m\"\u001b[39m\u001b[39mCLs\u001b[39m\u001b[39m\"\u001b[39m)\n\u001b[1;32m      <a href='vscode-notebook-cell:/home/kruteesh/Desktop/DM_nu_simulation_P-One/PONE_git/pone_work/pone_dm/IceCube_data_analysis.ipynb#ch0000056?line=5'>6</a>\u001b[0m \u001b[39mprint\u001b[39m(CLs_)\n",
      "File \u001b[0;32m~/Desktop/DM_nu_simulation_P-One/PONE_git/pone_work/pone_dm/CL_s.py:101\u001b[0m, in \u001b[0;36mCL_scan\u001b[0;34m(signal_grid, background, observed, sv_range, mass_range, sample_count)\u001b[0m\n\u001b[1;32m     <a href='file:///home/kruteesh/Desktop/DM_nu_simulation_P-One/PONE_git/pone_work/pone_dm/CL_s.py?line=95'>96</a>\u001b[0m p_s_b \u001b[39m=\u001b[39m \u001b[39mfloat\u001b[39m(\u001b[39mlen\u001b[39m(q_pdf_s_b_upper)) \u001b[39m/\u001b[39m \u001b[39mfloat\u001b[39m(\u001b[39mlen\u001b[39m(q_pdf_s_b_lower))\n\u001b[1;32m     <a href='file:///home/kruteesh/Desktop/DM_nu_simulation_P-One/PONE_git/pone_work/pone_dm/CL_s.py?line=96'>97</a>\u001b[0m \u001b[39m# print(\"p_s_b\")\u001b[39;00m\n\u001b[1;32m     <a href='file:///home/kruteesh/Desktop/DM_nu_simulation_P-One/PONE_git/pone_work/pone_dm/CL_s.py?line=97'>98</a>\u001b[0m \u001b[39m# print(p_s_b)\u001b[39;00m\n\u001b[1;32m     <a href='file:///home/kruteesh/Desktop/DM_nu_simulation_P-One/PONE_git/pone_work/pone_dm/CL_s.py?line=98'>99</a>\u001b[0m \n\u001b[1;32m    <a href='file:///home/kruteesh/Desktop/DM_nu_simulation_P-One/PONE_git/pone_work/pone_dm/CL_s.py?line=99'>100</a>\u001b[0m \u001b[39m# b\u001b[39;00m\n\u001b[0;32m--> <a href='file:///home/kruteesh/Desktop/DM_nu_simulation_P-One/PONE_git/pone_work/pone_dm/CL_s.py?line=100'>101</a>\u001b[0m q_pdf_b_lower \u001b[39m=\u001b[39m sampling_b_1d(signal, background,\n\u001b[1;32m    <a href='file:///home/kruteesh/Desktop/DM_nu_simulation_P-One/PONE_git/pone_work/pone_dm/CL_s.py?line=101'>102</a>\u001b[0m                               sample_count\u001b[39m=\u001b[39;49msample_count)\n\u001b[1;32m    <a href='file:///home/kruteesh/Desktop/DM_nu_simulation_P-One/PONE_git/pone_work/pone_dm/CL_s.py?line=102'>103</a>\u001b[0m \u001b[39m# print(\"q_pdf_b_lower\")\u001b[39;00m\n\u001b[1;32m    <a href='file:///home/kruteesh/Desktop/DM_nu_simulation_P-One/PONE_git/pone_work/pone_dm/CL_s.py?line=103'>104</a>\u001b[0m \u001b[39m# print(q_pdf_b_lower)\u001b[39;00m\n\u001b[1;32m    <a href='file:///home/kruteesh/Desktop/DM_nu_simulation_P-One/PONE_git/pone_work/pone_dm/CL_s.py?line=105'>106</a>\u001b[0m q_pdf_b_upper \u001b[39m=\u001b[39m q_pdf_b_lower[q_pdf_b_lower \u001b[39m<\u001b[39m q_obs_s_b]\n",
      "File \u001b[0;32m~/Desktop/DM_nu_simulation_P-One/PONE_git/pone_work/pone_dm/CL_s.py:31\u001b[0m, in \u001b[0;36msampling_b_1d\u001b[0;34m(signal, background, sample_count)\u001b[0m\n\u001b[1;32m     <a href='file:///home/kruteesh/Desktop/DM_nu_simulation_P-One/PONE_git/pone_work/pone_dm/CL_s.py?line=28'>29</a>\u001b[0m expectation \u001b[39m=\u001b[39m background\n\u001b[1;32m     <a href='file:///home/kruteesh/Desktop/DM_nu_simulation_P-One/PONE_git/pone_work/pone_dm/CL_s.py?line=29'>30</a>\u001b[0m \u001b[39mfor\u001b[39;00m i \u001b[39min\u001b[39;00m \u001b[39mrange\u001b[39m(sample_count):\n\u001b[0;32m---> <a href='file:///home/kruteesh/Desktop/DM_nu_simulation_P-One/PONE_git/pone_work/pone_dm/CL_s.py?line=30'>31</a>\u001b[0m     measured \u001b[39m=\u001b[39m np\u001b[39m.\u001b[39;49mrandom\u001b[39m.\u001b[39;49mpoisson(expectation)\n\u001b[1;32m     <a href='file:///home/kruteesh/Desktop/DM_nu_simulation_P-One/PONE_git/pone_work/pone_dm/CL_s.py?line=31'>32</a>\u001b[0m     q_sampled\u001b[39m.\u001b[39mappend(q_multi_s_b(signal, background, measured))\n\u001b[1;32m     <a href='file:///home/kruteesh/Desktop/DM_nu_simulation_P-One/PONE_git/pone_work/pone_dm/CL_s.py?line=32'>33</a>\u001b[0m q_sampled \u001b[39m=\u001b[39m np\u001b[39m.\u001b[39marray(q_sampled)\n",
      "File \u001b[0;32mmtrand.pyx:3573\u001b[0m, in \u001b[0;36mnumpy.random.mtrand.RandomState.poisson\u001b[0;34m()\u001b[0m\n",
      "File \u001b[0;32m_common.pyx:824\u001b[0m, in \u001b[0;36mnumpy.random._common.disc\u001b[0;34m()\u001b[0m\n",
      "File \u001b[0;32m_common.pyx:621\u001b[0m, in \u001b[0;36mnumpy.random._common.discrete_broadcast_d\u001b[0;34m()\u001b[0m\n",
      "File \u001b[0;32m_common.pyx:356\u001b[0m, in \u001b[0;36mnumpy.random._common.check_array_constraint\u001b[0;34m()\u001b[0m\n",
      "File \u001b[0;32m<__array_function__ internals>:5\u001b[0m, in \u001b[0;36mall\u001b[0;34m(*args, **kwargs)\u001b[0m\n",
      "File \u001b[0;32m~/miniconda3/envs/pdm/lib/python3.9/site-packages/numpy/core/fromnumeric.py:2438\u001b[0m, in \u001b[0;36mall\u001b[0;34m(a, axis, out, keepdims, where)\u001b[0m\n\u001b[1;32m   <a href='file:///home/kruteesh/miniconda3/envs/pdm/lib/python3.9/site-packages/numpy/core/fromnumeric.py?line=2354'>2355</a>\u001b[0m \u001b[39m@array_function_dispatch\u001b[39m(_all_dispatcher)\n\u001b[1;32m   <a href='file:///home/kruteesh/miniconda3/envs/pdm/lib/python3.9/site-packages/numpy/core/fromnumeric.py?line=2355'>2356</a>\u001b[0m \u001b[39mdef\u001b[39;00m \u001b[39mall\u001b[39m(a, axis\u001b[39m=\u001b[39m\u001b[39mNone\u001b[39;00m, out\u001b[39m=\u001b[39m\u001b[39mNone\u001b[39;00m, keepdims\u001b[39m=\u001b[39mnp\u001b[39m.\u001b[39m_NoValue, \u001b[39m*\u001b[39m, where\u001b[39m=\u001b[39mnp\u001b[39m.\u001b[39m_NoValue):\n\u001b[1;32m   <a href='file:///home/kruteesh/miniconda3/envs/pdm/lib/python3.9/site-packages/numpy/core/fromnumeric.py?line=2356'>2357</a>\u001b[0m     \u001b[39m\"\"\"\u001b[39;00m\n\u001b[1;32m   <a href='file:///home/kruteesh/miniconda3/envs/pdm/lib/python3.9/site-packages/numpy/core/fromnumeric.py?line=2357'>2358</a>\u001b[0m \u001b[39m    Test whether all array elements along a given axis evaluate to True.\u001b[39;00m\n\u001b[1;32m   <a href='file:///home/kruteesh/miniconda3/envs/pdm/lib/python3.9/site-packages/numpy/core/fromnumeric.py?line=2358'>2359</a>\u001b[0m \n\u001b[0;32m   (...)\u001b[0m\n\u001b[1;32m   <a href='file:///home/kruteesh/miniconda3/envs/pdm/lib/python3.9/site-packages/numpy/core/fromnumeric.py?line=2435'>2436</a>\u001b[0m \n\u001b[1;32m   <a href='file:///home/kruteesh/miniconda3/envs/pdm/lib/python3.9/site-packages/numpy/core/fromnumeric.py?line=2436'>2437</a>\u001b[0m \u001b[39m    \"\"\"\u001b[39;00m\n\u001b[0;32m-> <a href='file:///home/kruteesh/miniconda3/envs/pdm/lib/python3.9/site-packages/numpy/core/fromnumeric.py?line=2437'>2438</a>\u001b[0m     \u001b[39mreturn\u001b[39;00m _wrapreduction(a, np\u001b[39m.\u001b[39;49mlogical_and, \u001b[39m'\u001b[39;49m\u001b[39mall\u001b[39;49m\u001b[39m'\u001b[39;49m, axis, \u001b[39mNone\u001b[39;49;00m, out,\n\u001b[1;32m   <a href='file:///home/kruteesh/miniconda3/envs/pdm/lib/python3.9/site-packages/numpy/core/fromnumeric.py?line=2438'>2439</a>\u001b[0m                           keepdims\u001b[39m=\u001b[39;49mkeepdims, where\u001b[39m=\u001b[39;49mwhere)\n",
      "File \u001b[0;32m~/miniconda3/envs/pdm/lib/python3.9/site-packages/numpy/core/fromnumeric.py:87\u001b[0m, in \u001b[0;36m_wrapreduction\u001b[0;34m(obj, ufunc, method, axis, dtype, out, **kwargs)\u001b[0m\n\u001b[1;32m     <a href='file:///home/kruteesh/miniconda3/envs/pdm/lib/python3.9/site-packages/numpy/core/fromnumeric.py?line=83'>84</a>\u001b[0m         \u001b[39melse\u001b[39;00m:\n\u001b[1;32m     <a href='file:///home/kruteesh/miniconda3/envs/pdm/lib/python3.9/site-packages/numpy/core/fromnumeric.py?line=84'>85</a>\u001b[0m             \u001b[39mreturn\u001b[39;00m reduction(axis\u001b[39m=\u001b[39maxis, out\u001b[39m=\u001b[39mout, \u001b[39m*\u001b[39m\u001b[39m*\u001b[39mpasskwargs)\n\u001b[0;32m---> <a href='file:///home/kruteesh/miniconda3/envs/pdm/lib/python3.9/site-packages/numpy/core/fromnumeric.py?line=86'>87</a>\u001b[0m \u001b[39mreturn\u001b[39;00m ufunc\u001b[39m.\u001b[39;49mreduce(obj, axis, dtype, out, \u001b[39m*\u001b[39;49m\u001b[39m*\u001b[39;49mpasskwargs)\n",
      "\u001b[0;31mKeyboardInterrupt\u001b[0m: "
     ]
    }
   ],
   "source": [
    "mass_grid = enumerate(np.logspace(2, 6, 9))\n",
    "sv_grid = enumerate(np.logspace(-26, -21, 9))\n",
    "# print(\"sv_index = %f, mass_index = %f\" % (s, m))\n",
    "CLs_, prob = CL_scan(signal_ice[:,:,51:71], fit_phi_odr[51:71], ice_d[50:70], sv_grid, mass_grid, sample_count=10000)\n",
    "print(\"CLs\")\n",
    "print(CLs_)\n",
    "print(\"prob Mat\")\n",
    "print(prob)\n"
   ]
  },
  {
   "cell_type": "code",
   "execution_count": 93,
   "metadata": {},
   "outputs": [
    {
     "data": {
      "text/plain": [
       "6.0"
      ]
     },
     "execution_count": 93,
     "metadata": {},
     "output_type": "execute_result"
    }
   ],
   "source": [
    "std_size"
   ]
  },
  {
   "cell_type": "code",
   "execution_count": 105,
   "metadata": {},
   "outputs": [
    {
     "data": {
      "image/png": "[encoded data removed]",
      "text/plain": [
       "<Figure size 432x432 with 1 Axes>"
      ]
     },
     "metadata": {
      "needs_background": "light"
     },
     "output_type": "display_data"
    }
   ],
   "source": [
    "figure, ax1 = plt.subplots(1,1,figsize=(std_size,std_size), sharex=True) \n",
    "ax1.set_title(r'10 Years IceCube ', fontsize=fontsize)\n",
    "ax1.scatter(e_grid_bin, ice_d, color=color_ice, label=\"Data\")\n",
    "\n",
    "ax1.set_xscale('log')\n",
    "ax1.set_yscale(\"log\")\n",
    "ax1.set_xlim(0.8e3,1e6)\n",
    "\n",
    "ax1.set_ylim(1e0,2e5)\n",
    "ax1.set_xlabel(r'$\\log_{10}$ ( $E$ / $ \\textrm{GeV} )$ ', fontsize=fontsize)\n",
    "\n",
    "ax1.set_ylabel(r'$\\#$ $\\textrm{Counts}$', fontsize=fontsize)\n",
    "\n",
    "ax1.tick_params(axis = 'both', which = 'major', labelsize=fontsize, direction='in')\n",
    "ax1.tick_params(axis = 'both', which = 'minor', labelsize=fontsize, direction='in')\n",
    "\n",
    "figure.savefig(PICS + \"background_IceCube_10\"+\".png\",\n",
    "               bbox_inches='tight', dpi=export_dpi, facecolor='white')\n"
   ]
  },
  {
   "cell_type": "code",
   "execution_count": 91,
   "metadata": {},
   "outputs": [],
   "source": [
    "pickle.dump([e_grid_bin, ice_d], open('../data/background_ice_10.pkl', 'wb'))"
   ]
  },
  {
   "cell_type": "code",
   "execution_count": null,
   "metadata": {},
   "outputs": [
    {
     "data": {
      "text/plain": [
       "<scipy.odr.odrpack.Output at 0x7fb516a20820>"
      ]
     },
     "execution_count": 96,
     "metadata": {},
     "output_type": "execute_result"
    }
   ],
   "source": [
    "odr_fit.restart()"
   ]
  },
  {
   "cell_type": "markdown",
   "metadata": {},
   "source": [
    "This is the Poissonian CL"
   ]
  },
  {
   "cell_type": "code",
   "execution_count": null,
   "metadata": {},
   "outputs": [],
   "source": [
    "tmp_pois = np.abs(ice_d[35:70] - fit_phi(e_grid_bin, *t_para)[35:70]) / fit_phi(e_grid_bin, *t_para)[35:70]**(1/2)\n",
    "tmp_odr = np.abs(ice_d[35:70] - fit_phi_odr[35:70]) / fit_phi_odr[35:70]**(1/2)"
   ]
  },
  {
   "cell_type": "code",
   "execution_count": null,
   "metadata": {},
   "outputs": [
    {
     "data": {
      "text/plain": [
       "3548.133892335757"
      ]
     },
     "execution_count": 98,
     "metadata": {},
     "output_type": "execute_result"
    }
   ],
   "source": [
    "\n",
    "e_grid[46]"
   ]
  },
  {
   "cell_type": "code",
   "execution_count": null,
   "metadata": {},
   "outputs": [
    {
     "data": {
      "text/plain": [
       "45"
      ]
     },
     "execution_count": 99,
     "metadata": {},
     "output_type": "execute_result"
    }
   ],
   "source": [
    "_find_nearest(e_grid, 3000)"
   ]
  },
  {
   "cell_type": "code",
   "execution_count": null,
   "metadata": {},
   "outputs": [],
   "source": [
    "odr_p = (poisson.pmf(ice_d[46:], fit_phi_odr[46:]))\n",
    "odr_d = poisson.pmf(ice_d[30:70], ice_d[30:70])\n",
    "p_p = (poisson.pmf(ice_d[50:70], fit_phi(e_grid_bin, *t_para)[50:70]))\n",
    "p_d = poisson.pmf(ice_d[0:80], ice_d[0:80])"
   ]
  },
  {
   "cell_type": "code",
   "execution_count": null,
   "metadata": {},
   "outputs": [
    {
     "data": {
      "text/plain": [
       "array([0.03049301, 0.01876121, 0.01766257, 0.01343944, 0.00899705,\n",
       "       0.00538955, 0.0034334 , 0.00222259, 0.0015783 , 0.00141019,\n",
       "       0.00128212, 0.00156513, 0.00196083, 0.0025203 , 0.00336961,\n",
       "       0.0038877 , 0.00530643, 0.00688019, 0.00865597, 0.01150131,\n",
       "       0.01334138, 0.01932504, 0.02208972, 0.03014284, 0.03717461,\n",
       "       0.052764  , 0.06543816, 0.09359732, 0.11436792, 0.14900278,\n",
       "       0.19536681, 0.27067057, 0.27067057, 1.        , 0.27067057,\n",
       "       0.27067057, 1.        , 1.        , 1.        , 1.        ])"
      ]
     },
     "execution_count": 102,
     "metadata": {},
     "output_type": "execute_result"
    }
   ],
   "source": [
    "odr_d"
   ]
  },
  {
   "cell_type": "code",
   "execution_count": null,
   "metadata": {},
   "outputs": [
    {
     "data": {
      "text/plain": [
       "array([1.        , 1.        , 1.        , 1.        , 1.        ,\n",
       "       1.        , 1.        , 1.        , 1.        , 1.        ,\n",
       "       1.        , 1.        , 1.        , 1.        , 1.        ,\n",
       "       1.        , 1.        , 1.        , 1.        , 1.        ,\n",
       "       1.        , 1.        , 1.        , 1.        , 1.        ,\n",
       "       1.        , 1.        , 1.        , 1.        , 1.        ,\n",
       "       0.03049301, 0.01876121, 0.01766257, 0.01343944, 0.00899705,\n",
       "       0.00538955, 0.0034334 , 0.00222259, 0.0015783 , 0.00141019,\n",
       "       0.00128212, 0.00156513, 0.00196083, 0.0025203 , 0.00336961,\n",
       "       0.0038877 , 0.00530643, 0.00688019, 0.00865597, 0.01150131,\n",
       "       0.01334138, 0.01932504, 0.02208972, 0.03014284, 0.03717461,\n",
       "       0.052764  , 0.06543816, 0.09359732, 0.11436792, 0.14900278,\n",
       "       0.19536681, 0.27067057, 0.27067057, 1.        , 0.27067057,\n",
       "       0.27067057, 1.        , 1.        , 1.        , 1.        ,\n",
       "       1.        , 1.        , 0.36787944, 1.        , 1.        ,\n",
       "       1.        , 1.        , 1.        , 1.        , 1.        ])"
      ]
     },
     "execution_count": 50,
     "metadata": {},
     "output_type": "execute_result"
    }
   ],
   "source": [
    "p_d"
   ]
  },
  {
   "cell_type": "code",
   "execution_count": null,
   "metadata": {},
   "outputs": [
    {
     "data": {
      "text/plain": [
       "array([    0,     0,     0,     0,     0,     0,     0,     0,     0,\n",
       "           0,     0,     0,     0,     0,     0,     0,     0,     0,\n",
       "           0,     0,     0,     0,     0,     0,     0,     0,     0,\n",
       "           0,     0,     0,   171,   452,   510,   881,  1966,  5479,\n",
       "       13501, 32218, 63891, 80032, 96819, 64971, 41394, 25056, 14017,\n",
       "       10530,  5652,  3362,  2124,  1203,   894,   426,   326,   175,\n",
       "         115,    57,    37,    18,    12,     7,     4,     2,     2,\n",
       "           0,     2,     2,     0,     0,     0,     0,     0,     0,\n",
       "           1,     0,     0,     0,     0,     0,     0,     0,     0,\n",
       "           0,     0,     0,     0,     0,     0,     0,     0,     0,\n",
       "           0,     0,     0,     0,     0,     0,     0,     0,     0,\n",
       "           0,     0,     0,     0,     0,     0,     0,     0,     0,\n",
       "           0,     0,     0,     0,     0,     0,     0,     0,     0,\n",
       "           0,     0,     0])"
      ]
     },
     "execution_count": 104,
     "metadata": {},
     "output_type": "execute_result"
    }
   ],
   "source": [
    "ice_d"
   ]
  },
  {
   "cell_type": "code",
   "execution_count": null,
   "metadata": {},
   "outputs": [
    {
     "ename": "ValueError",
     "evalue": "operands could not be broadcast together with shapes (74,) (80,) ",
     "output_type": "error",
     "traceback": [
      "\u001b[0;31m---------------------------------------------------------------------------\u001b[0m",
      "\u001b[0;31mValueError\u001b[0m                                Traceback (most recent call last)",
      "\u001b[1;32m/home/kruteesh/Desktop/DM_nu_simulation_P-One/PONE_git/pone_work/pone_dm/IceCube_data_analysis.ipynb Cell 64'\u001b[0m in \u001b[0;36m<cell line: 1>\u001b[0;34m()\u001b[0m\n\u001b[0;32m----> <a href='vscode-notebook-cell:/home/kruteesh/Desktop/DM_nu_simulation_P-One/PONE_git/pone_work/pone_dm/IceCube_data_analysis.ipynb#ch0000047?line=0'>1</a>\u001b[0m p_r \u001b[39m=\u001b[39m odr_p \u001b[39m/\u001b[39;49m p_d\n",
      "\u001b[0;31mValueError\u001b[0m: operands could not be broadcast together with shapes (74,) (80,) "
     ]
    }
   ],
   "source": [
    "p_r = odr_p / p_d"
   ]
  },
  {
   "cell_type": "code",
   "execution_count": null,
   "metadata": {},
   "outputs": [
    {
     "data": {
      "text/plain": [
       "array([7.28842826e-01, 2.23526147e-07, 7.41326525e-01, 1.28710529e-01,\n",
       "       5.77128871e-01, 1.21056170e-01, 3.82495430e-01, 1.37230235e-01,\n",
       "       2.67314488e-01, 3.07730248e-01, 2.68095813e-01, 1.86122677e-01,\n",
       "       4.79091191e-01, 4.25200752e-02, 9.46289901e-01, 9.99891142e-01,\n",
       "       1.78420562e-01, 2.24284478e-01, 2.56575216e-01, 2.84924186e-01])"
      ]
     },
     "execution_count": 699,
     "metadata": {},
     "output_type": "execute_result"
    }
   ],
   "source": [
    "p_r"
   ]
  },
  {
   "cell_type": "code",
   "execution_count": null,
   "metadata": {},
   "outputs": [
    {
     "data": {
      "text/plain": [
       "1.3194134315385425e-17"
      ]
     },
     "execution_count": 700,
     "metadata": {},
     "output_type": "execute_result"
    }
   ],
   "source": [
    "np.prod(p_r)"
   ]
  },
  {
   "cell_type": "code",
   "execution_count": null,
   "metadata": {},
   "outputs": [
    {
     "data": {
      "text/plain": [
       "array([5.18394550e+02, 4.54671420e+02, 3.40225688e+02, 1.15003931e+02,\n",
       "       8.18142240e+00, 1.51378424e+02, 1.18865083e+02, 1.17719243e+02,\n",
       "       8.10123034e+01, 4.47156683e+01, 5.85078168e+01, 2.76929160e+01,\n",
       "       1.74288495e+01, 1.58398077e+01, 8.36621421e+00, 1.47965761e+01,\n",
       "       4.15394353e+00, 8.39798667e+00, 4.32787590e+00, 4.59969135e+00,\n",
       "       1.80186419e+00, 1.90014409e+00, 2.91552623e-01, 3.94045975e-01,\n",
       "       7.41569446e-02, 2.43593682e-01, 5.92949101e-01, 2.05254820e-02,\n",
       "       1.17460774e+00, 1.10217438e+00, 1.69796262e+00, 6.76971661e-01,\n",
       "       5.67363228e-01, 4.81706441e-01, 3.94436231e-01])"
      ]
     },
     "execution_count": 701,
     "metadata": {},
     "output_type": "execute_result"
    }
   ],
   "source": [
    "tmp_pois ##### array([8.68845737e+04, 5.91198556e+04, 3.83521927e+04, 2.37712564e+04,\n",
    "                     #1.37239028e+04, 1.05008990e+04, 5.63606489e+03, 3.35222694e+03,\n",
    "                     #2.11754555e+03, 1.19897309e+03, 8.90809383e+02, 4.23990583e+02,\n",
    "                     #3.24261426e+02, 1.73625826e+02, 1.13772767e+02, 5.58985893e+01,\n",
    "                     #3.59436341e+01, 1.69781649e+01, 1.09905348e+01, 5.99842260e+00,\n",
    "                     #3.00049494e+00, 1.00029681e+00, 1.00029661e+00, 9.99901219e-01,\n",
    "                     #1.00029605e+00, 1.00029566e+00, 9.99901616e-01, 9.99901822e-01,\n",
    "                     #9.99902081e-01, 9.99902408e-01, 9.99902819e-01, 9.99903337e-01,\n",
    "                     #1.92032189e-04, 9.99904809e-01, 9.99905842e-01, 9.99907142e-01,\n",
    "                     #9.99908779e-01, 9.99910840e-01, 9.99913435e-01, 9.99916701e-01] for 3-9 years.p"
   ]
  },
  {
   "cell_type": "code",
   "execution_count": null,
   "metadata": {},
   "outputs": [
    {
     "name": "stdout",
     "output_type": "stream",
     "text": [
      "Year = 1, Data sum = 1.38010e+04, Projection sum = 3.82983e+04\n",
      "Year = 2, Data sum = 4.18100e+04, Projection sum = 1.39005e+05\n",
      "Year = 3, Data sum = 4.78090e+04, Projection sum = 2.49567e+04\n",
      "Year = 4, Data sum = 3.51160e+04, Projection sum = 3.36023e+04\n",
      "Year = 5, Data sum = 4.36570e+04, Projection sum = 4.03141e+04\n",
      "Year = 6, Data sum = 4.71450e+04, Projection sum = 4.35832e+04\n",
      "Year = 7, Data sum = 4.86290e+04, Projection sum = 4.59260e+04\n",
      "Year = 8, Data sum = 4.70100e+04, Projection sum = 4.88686e+04\n",
      "Year = 9, Data sum = 4.56510e+04, Projection sum = 4.37201e+04\n",
      "Ice Counter =  3.70628e+05, pro counter = 4.58274e+05 \n"
     ]
    }
   ],
   "source": [
    "tmp_ice_counter = 0\n",
    "tmp_pro_counter = 0\n",
    "for y in range(0,9):\n",
    "    tmp_ice_counter += np.sum(ice_data_dic[y][40:])\n",
    "    tmp_pro_counter += np.sum(np.nan_to_num(phi_fit[y][40:]))\n",
    "    print(\"Year = %d, Data sum = %.5e, Projection sum = %.5e\" % (y+1, np.sum(ice_data_dic[y][40:]),\n",
    "           np.sum(np.nan_to_num(phi_fit[y][40:]))))\n",
    "print('Ice Counter =  %.5e, pro counter = %.5e ' %(tmp_ice_counter, tmp_pro_counter))"
   ]
  },
  {
   "cell_type": "markdown",
   "metadata": {},
   "source": [
    "This is the chi2 CL\n"
   ]
  },
  {
   "cell_type": "code",
   "execution_count": null,
   "metadata": {},
   "outputs": [
    {
     "name": "stdout",
     "output_type": "stream",
     "text": [
      "2309.8510173472923\n",
      "8239.978458549776\n",
      "4376.604043820469\n",
      "556.4766644089353\n",
      "1.7976931348623157e+308\n",
      "1.7976931348623157e+308\n",
      "647.1053885132494\n",
      "1.7976931348623157e+308\n",
      "681.3867521224404\n"
     ]
    },
    {
     "name": "stderr",
     "output_type": "stream",
     "text": [
      "/tmp/ipykernel_10301/2191365942.py:6: RuntimeWarning: divide by zero encountered in true_divide\n",
      "  k = np.nan_to_num(np.sum(np.nan_to_num((ice_data_dic[y][48:])**2 /\n",
      "/tmp/ipykernel_10301/2191365942.py:6: RuntimeWarning: invalid value encountered in true_divide\n",
      "  k = np.nan_to_num(np.sum(np.nan_to_num((ice_data_dic[y][48:])**2 /\n",
      "/home/kruteesh/miniconda3/envs/pdm/lib/python3.9/site-packages/numpy/core/fromnumeric.py:87: RuntimeWarning: overflow encountered in reduce\n",
      "  return ufunc.reduce(obj, axis, dtype, out, **passkwargs)\n"
     ]
    }
   ],
   "source": [
    "CL_data_b = {}\n",
    "tmp_cl = {}\n",
    "for y in range(0,9):\n",
    "  tmp_=np.sum(np.nan_to_num(np.abs(np.array(ice_data_dic[y][48:70] - phi_fit[y][48:70])) / np.nan_to_num(np.array(phi_fit[y][48:70]))**(1/2) ))\n",
    "  tmp_cl[y] =chi2.sf(tmp_**2, 2)\n",
    "  k = np.nan_to_num(np.sum(np.nan_to_num((ice_data_dic[y][48:])**2 / \n",
    "                                         np.nan_to_num(phi_fit[y])[48:-1])))            \n",
    "  print(k)\n",
    "  CL_data_b[y] = chi2.sf(k, 2)\n",
    "# np.nan_to_num(np.sum(np.nan_to_num((ice_data_dic[y][38:] - np.nan_to_num(phi_fit[y])[38:-1])**2 / np.nan_to_num(phi_fit[y])[38:-1]))"
   ]
  },
  {
   "cell_type": "code",
   "execution_count": null,
   "metadata": {},
   "outputs": [
    {
     "data": {
      "text/plain": [
       "0.0"
      ]
     },
     "execution_count": 704,
     "metadata": {},
     "output_type": "execute_result"
    }
   ],
   "source": [
    "chi2.sf(53973.1535298152, 2)"
   ]
  },
  {
   "cell_type": "code",
   "execution_count": null,
   "metadata": {},
   "outputs": [
    {
     "data": {
      "text/plain": [
       "{0: 0.0,\n",
       " 1: 0.0,\n",
       " 2: 0.0,\n",
       " 3: 1.4542118177177783e-121,\n",
       " 4: 0.0,\n",
       " 5: 0.0,\n",
       " 6: 3.039836878334058e-141,\n",
       " 7: 0.0,\n",
       " 8: 1.0933186479651838e-148}"
      ]
     },
     "execution_count": 705,
     "metadata": {},
     "output_type": "execute_result"
    }
   ],
   "source": [
    "CL_data_b"
   ]
  },
  {
   "cell_type": "code",
   "execution_count": null,
   "metadata": {},
   "outputs": [
    {
     "data": {
      "text/plain": [
       "({0: 0.0,\n",
       "  1: 0.0,\n",
       "  2: 0.0,\n",
       "  3: 1.4542118177177783e-121,\n",
       "  4: 0.0,\n",
       "  5: 0.0,\n",
       "  6: 3.039836878334058e-141,\n",
       "  7: 0.0,\n",
       "  8: 1.0933186479651838e-148},\n",
       " 21486972.907276817)"
      ]
     },
     "execution_count": 706,
     "metadata": {},
     "output_type": "execute_result"
    }
   ],
   "source": [
    "CL_data_b, np.sum(np.nan_to_num((ice_d - np.sum(phi_fit, axis=0)[:-1])**2 / np.sum(phi_fit, axis=0)[:-1]))"
   ]
  },
  {
   "cell_type": "code",
   "execution_count": null,
   "metadata": {},
   "outputs": [],
   "source": []
  }
 ],
 "metadata": {
  "interpreter": {
   "hash": "82a3a656d33f35b7f3fe77a22343614a58c995dc979ba6da45d214804d59b344"
  },
  "kernelspec": {
   "display_name": "Python 3.9.11 ('pdm')",
   "language": "python",
   "name": "python3"
  },
  "language_info": {
   "codemirror_mode": {
    "name": "ipython",
    "version": 3
   },
   "file_extension": ".py",
   "mimetype": "text/x-python",
   "name": "python",
   "nbconvert_exporter": "python",
   "pygments_lexer": "ipython3",
   "version": "3.9.11"
  },
  "orig_nbformat": 4
 },
 "nbformat": 4,
 "nbformat_minor": 2
}
