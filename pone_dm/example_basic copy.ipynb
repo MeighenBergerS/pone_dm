{
 "cells": [
  {
   "cell_type": "code",
   "execution_count": 1,
   "metadata": {},
   "outputs": [],
   "source": [
    "# Name: example_basic\n",
    "# Authors: Stephan Meighen-Berger, Kruteesh Desai\n",
    "# A basic example how to use the package"
   ]
  },
  {
   "cell_type": "code",
   "execution_count": 2,
   "metadata": {},
   "outputs": [],
   "source": [
    "# imports\n",
    "from constants import pdm_constants as const\n",
    "from config import config\n",
    "from pone_aeff import Aeff\n",
    "from dm2nu import DM2Nu\n",
    "from atm_shower import Atm_Shower\n",
    "from detectors import Detector\n",
    "import numpy as np\n",
    "import matplotlib.pyplot as plt\n",
    "from limit_calc import Limits\n",
    "from bkgrd_calc import Background\n",
    "from signal_calc import Signal\n",
    "from pdm import PDM\n",
    "from scipy.interpolate import UnivariateSpline\n",
    "from scipy.stats import chi2\n",
    "from scipy.stats import *\n",
    "from pone_aeff import Aeff\n",
    "import pickle"
   ]
  },
  {
   "cell_type": "code",
   "execution_count": 3,
   "metadata": {},
   "outputs": [],
   "source": [
    "# picture path\n",
    "PICS = '../pics/'\n",
    "name=[r'$\\nu_{\\mu}$', r\"$\\nu_e$\", r\"$\\nu_{\\tau}$\"]  # ,r'$\\nu_{e}$',r'$\\nu_{\\tau}$'\n",
    "# Plotting standards\n",
    "std_size = 6.  # Size of the plot\n",
    "fontsize = 15.  # Fontsize in the plot\n",
    "lw=0.5  # Linewidth\n",
    "h_length=0.5  # Handle length for the legends\n",
    "export_dpi = 500  # Dpi for the image export"
   ]
  },
  {
   "cell_type": "code",
   "execution_count": 32,
   "metadata": {},
   "outputs": [],
   "source": [
    "# Some example settings\n",
    "#config['atmospheric showers']['interaction model'] = 'SIBYLL2.3c'\n",
    "#config['atmospheric showers']['theta angles'] = np.linspace(0., 90., 91)\n",
    "#config['atmospheric showers']['particles of interest']=['nue']\n",
    "config['general']['detector'] = 'combined'\n"
   ]
  },
  {
   "cell_type": "code",
   "execution_count": 33,
   "metadata": {},
   "outputs": [
    {
     "name": "stdout",
     "output_type": "stream",
     "text": [
      "Loading Effective Area\n"
     ]
    },
    {
     "name": "stderr",
     "output_type": "stream",
     "text": [
      "100%|██████████| 1/1 [00:00<00:00, 55.36it/s]"
     ]
    },
    {
     "name": "stdout",
     "output_type": "stream",
     "text": [
      "combined\n",
      "121\n",
      "121\n"
     ]
    },
    {
     "name": "stderr",
     "output_type": "stream",
     "text": [
      "\n"
     ]
    }
   ],
   "source": [
    "pdm = PDM()"
   ]
  },
  {
   "cell_type": "code",
   "execution_count": 34,
   "id": "e1b26c4b",
   "metadata": {},
   "outputs": [],
   "source": [
    "e_grid = pdm._shower_sim.egrid\n",
    "#eff_po_1 = pdm._aeff.spl_A15(pdm._shower_sim.egrid)\n",
    "eff_ice = pickle.load(open('/home/kruteesh/Desktop/dm_data_server/27_11/data/eff_area_ice.pkl','rb'))"
   ]
  },
  {
   "cell_type": "code",
   "execution_count": 35,
   "id": "f67b2db5",
   "metadata": {},
   "outputs": [],
   "source": [
    "#back_po = pickle.load(open('../data/background_pone_sm.pkl','rb'))\n",
    "background_ic = pickle.load(open('/home/kruteesh/Desktop/dm_data_server/22_03_desk/data/background_ice.pkl','rb'))\n",
    "back_comb =  pickle.load(open('/home/kruteesh/Desktop/dm_data_server/14_03/data/background_combined.pkl','rb'))\n",
    "#background_pone_sm = pickle.load(open('../data/background_pone_sm.pkl','rb'))"
   ]
  },
  {
   "cell_type": "code",
   "execution_count": 36,
   "id": "20ebf4b1",
   "metadata": {},
   "outputs": [
    {
     "data": {
      "text/plain": [
       "(9, 121)"
      ]
     },
     "execution_count": 36,
     "metadata": {},
     "output_type": "execute_result"
    }
   ],
   "source": [
    "np.array(background_ic[\"numu\"]).shape"
   ]
  },
  {
   "cell_type": "code",
   "execution_count": 37,
   "id": "b2c9469f",
   "metadata": {},
   "outputs": [],
   "source": [
    "signal_comb = pickle.load(open('/home/kruteesh/Desktop/dm_data_server/24_03_desk/limits_signal_IceCube.pkl','rb'))"
   ]
  },
  {
   "cell_type": "code",
   "execution_count": 38,
   "metadata": {},
   "outputs": [
    {
     "data": {
      "text/plain": [
       "(316.22776601683796, 1e-21)"
      ]
     },
     "execution_count": 38,
     "metadata": {},
     "output_type": "execute_result"
    }
   ],
   "source": [
    "# Grids\n",
    "mass_grid = config['simulation parameters']['mass grid']\n",
    "sv_grid = config['simulation parameters']['sv grid']\n",
    "mass_id = 1\n",
    "\n",
    "sv_id = -1\n",
    "\n",
    "mass_grid[mass_id], sv_grid[sv_id]\n",
    "# The limit calculation\n"
   ]
  },
  {
   "cell_type": "code",
   "execution_count": 39,
   "metadata": {},
   "outputs": [
    {
     "data": {
      "text/plain": [
       "array([[[2.12522998e+02, 1.63541848e-04],\n",
       "        [3.75355026e+02, 1.17293567e-04],\n",
       "        [6.29536175e+02, 4.82400307e-05],\n",
       "        [1.29846584e+03, 2.68117327e-05],\n",
       "        [2.54321174e+03, 1.27334869e-05],\n",
       "        [5.08126850e+03, 5.00379406e-06],\n",
       "        [1.02741133e+04, 1.64695632e-06],\n",
       "        [2.01231674e+04, 6.33333228e-07],\n",
       "        [4.15055504e+04, 3.04185979e-07],\n",
       "        [8.12939394e+04, 1.45312927e-07],\n",
       "        [1.64454709e+05, 5.65882534e-08],\n",
       "        [2.78806881e+05, 4.47804058e-08],\n",
       "        [4.21663736e+05, 3.16824398e-08],\n",
       "        [7.56379773e+05, 2.36346234e-08],\n",
       "        [1.97223492e+06, 1.29547786e-08]]])"
      ]
     },
     "execution_count": 39,
     "metadata": {},
     "output_type": "execute_result"
    }
   ],
   "source": [
    "dphi_2=np.loadtxt(open(\"../data/m_1e2.csv\"), delimiter = \",\")\n",
    "dphi_2[dphi_2[:,0].sort()]\n",
    "\n",
    "dphi_4=np.loadtxt(open(\"../data/m_1e4.csv\"), delimiter = \",\")\n",
    "dphi_4[dphi_4[:,0].sort()]\n",
    "\n",
    "dphi_6=np.loadtxt(open(\"../data/m_1e6.csv\"), delimiter = \",\")\n",
    "dphi_6[dphi_6[:,0].sort()]\n",
    "dphi_ice=np.loadtxt(open(\"../data/icecube.csv\"), delimiter = \",\")\n",
    "dphi_ice[dphi_ice[:,0].sort()]"
   ]
  },
  {
   "cell_type": "code",
   "execution_count": 40,
   "metadata": {},
   "outputs": [],
   "source": [
    "dphi_4=UnivariateSpline(dphi_4[:,0],dphi_4[:,1],k=1,s=0,ext=1)\n",
    "#mass_grid[0],sv_grid[-1],mass_grid[-1],sv_grid[-1]\n",
    "dphi_ic=UnivariateSpline(dphi_ice[:,0],dphi_ice[:,1],k=1,s=0,ext=1)\n",
    "dphi_6=UnivariateSpline(dphi_6[:,0],dphi_6[:,1],k=1,s=0, ext=1)\n",
    "dphi_2=UnivariateSpline(dphi_2[:,0],dphi_2[:,1],k=1,s=0, ext=1)\n"
   ]
  },
  {
   "cell_type": "code",
   "execution_count": 41,
   "id": "93f0c5ea",
   "metadata": {},
   "outputs": [],
   "source": [
    "shower_flux = pickle.load(open('../data/shower.p','rb'))\n",
    "shower_po = shower_flux[2][45]['numu']\n",
    "surface_fluxe_ice = pickle.load(open(\"../data/surf_store_v1.p\", \"rb\"))\n",
    "shower_ice = surface_fluxe_ice[20][3] # background fluxes at 20° ----"
   ]
  },
  {
   "cell_type": "code",
   "execution_count": 42,
   "id": "f84fdfc9",
   "metadata": {},
   "outputs": [],
   "source": [
    "c= const()"
   ]
  },
  {
   "cell_type": "code",
   "execution_count": 43,
   "id": "3fed36c1",
   "metadata": {},
   "outputs": [],
   "source": [
    "J = c.J_d1 + c.J_p1 + c.J_s1\n",
    "sv = 0.5e-22\n"
   ]
  },
  {
   "cell_type": "code",
   "execution_count": 44,
   "metadata": {},
   "outputs": [
    {
     "name": "stderr",
     "output_type": "stream",
     "text": [
      "/home/kruteesh/Desktop/DM_nu_simulation_P-One/PONE_git/pone_work/pone_dm/dm2nu.py:280: RuntimeWarning: overflow encountered in multiply\n",
      "  return A * aa * dd\n",
      "/home/kruteesh/Desktop/DM_nu_simulation_P-One/PONE_git/pone_work/pone_dm/dm2nu.py:279: RuntimeWarning: overflow encountered in exp\n",
      "  dd = np.exp(d_2 / s_in(x)**2)\n",
      "/home/kruteesh/Desktop/DM_nu_simulation_P-One/PONE_git/pone_work/pone_dm/dm2nu.py:279: RuntimeWarning: overflow encountered in exp\n",
      "  dd = np.exp(d_2 / s_in(x)**2)\n",
      "/home/kruteesh/Desktop/DM_nu_simulation_P-One/PONE_git/pone_work/pone_dm/dm2nu.py:280: RuntimeWarning: overflow encountered in multiply\n",
      "  return A * aa * dd\n"
     ]
    },
    {
     "data": {
      "image/png": "[encoded data removed]",
      "text/plain": [
       "<Figure size 432x432 with 1 Axes>"
      ]
     },
     "metadata": {
      "needs_background": "light"
     },
     "output_type": "display_data"
    }
   ],
   "source": [
    "figure, ax1 = plt.subplots(1, 1, figsize=(std_size,std_size), sharex=True) \n",
    "\n",
    "ax1.step(pdm._shower_sim._egrid, dphi_4(pdm._shower_sim._egrid),'o', label=r'$m_{x}$=1e4 GeV Literature')\n",
    "ax1.step(pdm._shower_sim._egrid, dphi_6(pdm._shower_sim._egrid), 'o',label=r'$m_{x}$=1e6 GeV Literature')\n",
    "\n",
    "ax1.step(pdm._shower_sim.egrid, (pdm._dm_nu.extra_galactic_flux(pdm._shower_sim.egrid,mass_grid[0],sv)) * pdm._shower_sim.egrid**2.,'-.',\n",
    "         label=r'$m_{x}$=%.1eGeV , $<\\sigma\\nu>$=%.1e$cm^{3}s^{-1}$'%(mass_grid[0],sv))\n",
    "ax1.step(pdm._shower_sim.egrid, (pdm._dm_nu.extra_galactic_flux(pdm._shower_sim.egrid,mass_grid[-1],sv))* pdm._shower_sim.egrid**2.,'--',\n",
    "         label=r'$m_{x}$=%.1eGeV , $<\\sigma\\nu>$=%.1e$cm^{3}s^{-1}$'%(mass_grid[-1],sv))\n",
    "ax1.step(pdm._shower_sim.egrid, shower_po*pdm._shower_sim.egrid**2, label='Background P-ONE (MCEq)') # Karlsruhe Corsika\n",
    "ax1.step(pdm._shower_sim.egrid, shower_ice*pdm._shower_sim.egrid**2, label='Background IceCube at 20°')\n",
    "\n",
    "ax1.set_xscale(\"log\")\n",
    "ax1.set_yscale(\"log\")\n",
    "ax1.set_xlabel('E [GeV]', fontsize=fontsize)\n",
    "ax1.set_ylabel(r'$E^2$ $d\\phi$ / $dE$  [ $GeV$ $cm^{-2}$ $s^{-1}$ $sr^{-1}$ ]', fontsize=fontsize)\n",
    "ax1.tick_params(axis = 'both', which = 'major', labelsize=fontsize)\n",
    "ax1.tick_params(axis = 'both', which = 'minor', labelsize=fontsize)\n",
    "ax1.set_xlim(1e1, 0.5e7)\n",
    "ax1.set_ylim(1e-11,1e-5)\n",
    "h, l = ax1.get_legend_handles_labels()\n",
    "lgd1 = ax1.legend(h, l, loc=7, bbox_to_anchor=(1.5, +1.12),\n",
    "                 ncol=3, fontsize=fontsize-3, handlelength=h_length,\n",
    "                 fancybox=True, frameon=False)\n",
    "ax1.add_artist(lgd1)\n",
    "plt.grid()\n",
    "# ---------------------------------------------\n",
    "# Showing the image\n",
    "plt.show()"
   ]
  },
  {
   "cell_type": "code",
   "execution_count": 45,
   "id": "0c1f86f3",
   "metadata": {},
   "outputs": [
    {
     "data": {
      "text/plain": [
       "{'numu': array([[[9.28851271e-01, 5.78548709e-01, 3.95713740e-01, ...,\n",
       "          0.00000000e+00, 0.00000000e+00, 0.00000000e+00],\n",
       "         [8.02578382e-01, 5.08393855e-01, 3.54514844e-01, ...,\n",
       "          0.00000000e+00, 0.00000000e+00, 0.00000000e+00],\n",
       "         [9.21699201e-01, 6.80164431e-01, 4.52463373e-01, ...,\n",
       "          0.00000000e+00, 0.00000000e+00, 0.00000000e+00],\n",
       "         ...,\n",
       "         [1.52937369e-02, 1.71991661e-02, 1.84804862e-02, ...,\n",
       "          1.50869204e-19, 8.65561940e-20, 4.94300830e-20],\n",
       "         [2.25402089e-03, 2.52345148e-03, 2.73953739e-03, ...,\n",
       "          2.18096036e-21, 1.25134059e-21, 7.14780814e-22],\n",
       "         [2.85378548e-04, 3.19444004e-04, 3.44608797e-04, ...,\n",
       "          1.19494365e-21, 6.85774044e-22, 3.91821348e-22]],\n",
       " \n",
       "        [[3.91693333e+00, 2.43971968e+00, 1.66871101e+00, ...,\n",
       "          0.00000000e+00, 0.00000000e+00, 0.00000000e+00],\n",
       "         [3.38444497e+00, 2.14387911e+00, 1.49497670e+00, ...,\n",
       "          0.00000000e+00, 0.00000000e+00, 0.00000000e+00],\n",
       "         [3.88677330e+00, 2.86822962e+00, 1.90802222e+00, ...,\n",
       "          0.00000000e+00, 0.00000000e+00, 0.00000000e+00],\n",
       "         ...,\n",
       "         [6.44931540e-02, 7.25282821e-02, 7.79315641e-02, ...,\n",
       "          6.36210158e-19, 3.65004444e-19, 2.08444932e-19],\n",
       "         [9.50512727e-03, 1.06413066e-02, 1.15525334e-02, ...,\n",
       "          9.19703356e-21, 5.27685950e-21, 3.01420570e-21],\n",
       "         [1.20343136e-03, 1.34708420e-03, 1.45320325e-03, ...,\n",
       "          5.03903557e-21, 2.89188517e-21, 1.65229692e-21]],\n",
       " \n",
       "        [[1.65175709e+01, 1.02882126e+01, 7.03689596e+00, ...,\n",
       "          0.00000000e+00, 0.00000000e+00, 0.00000000e+00],\n",
       "         [1.42720861e+01, 9.04066324e+00, 6.30426448e+00, ...,\n",
       "          0.00000000e+00, 0.00000000e+00, 0.00000000e+00],\n",
       "         [1.63903871e+01, 1.20952240e+01, 8.04606300e+00, ...,\n",
       "          0.00000000e+00, 0.00000000e+00, 0.00000000e+00],\n",
       "         ...,\n",
       "         [2.71965375e-01, 3.05849230e-01, 3.28634681e-01, ...,\n",
       "          2.68287599e-18, 1.53921098e-18, 8.79004989e-19],\n",
       "         [4.00827894e-02, 4.48740180e-02, 4.87166293e-02, ...,\n",
       "          3.87835690e-20, 2.22523320e-20, 1.27108000e-20],\n",
       "         [5.07482795e-03, 5.68060695e-03, 6.12810729e-03, ...,\n",
       "          2.12494368e-20, 1.21949786e-20, 6.96767836e-21]],\n",
       " \n",
       "        ...,\n",
       " \n",
       "        [[5.22331455e+03, 3.25341848e+03, 2.22526189e+03, ...,\n",
       "          0.00000000e+00, 0.00000000e+00, 0.00000000e+00],\n",
       "         [4.51322991e+03, 2.85890874e+03, 1.99358347e+03, ...,\n",
       "          0.00000000e+00, 0.00000000e+00, 0.00000000e+00],\n",
       "         [5.18309550e+03, 3.82484568e+03, 2.54438853e+03, ...,\n",
       "          0.00000000e+00, 0.00000000e+00, 0.00000000e+00],\n",
       "         ...,\n",
       "         [8.60030030e+01, 9.67180186e+01, 1.03923411e+02, ...,\n",
       "          8.48399881e-16, 4.86741249e-16, 2.77965784e-16],\n",
       "         [1.26752909e+01, 1.41904105e+01, 1.54055508e+01, ...,\n",
       "          1.22644414e-17, 7.03680524e-18, 4.01950790e-18],\n",
       "         [1.60480151e+00, 1.79636565e+00, 1.93787768e+00, ...,\n",
       "          6.71966193e-18, 3.85639085e-18, 2.20337336e-18]],\n",
       " \n",
       "        [[2.20265348e+04, 1.37195520e+04, 9.38385158e+03, ...,\n",
       "          0.00000000e+00, 0.00000000e+00, 0.00000000e+00],\n",
       "         [1.90321327e+04, 1.20559182e+04, 8.40687179e+03, ...,\n",
       "          0.00000000e+00, 0.00000000e+00, 0.00000000e+00],\n",
       "         [2.18569325e+04, 1.61292405e+04, 1.07295975e+04, ...,\n",
       "          0.00000000e+00, 0.00000000e+00, 0.00000000e+00],\n",
       "         ...,\n",
       "         [3.62671657e+02, 4.07856503e+02, 4.38241390e+02, ...,\n",
       "          3.57767263e-15, 2.05257083e-15, 1.17217199e-15],\n",
       "         [5.34512587e+01, 5.98404648e+01, 6.49646692e+01, ...,\n",
       "          5.17187204e-17, 2.96739617e-17, 1.69501243e-17],\n",
       "         [6.76739184e+00, 7.57521112e+00, 8.17196240e+00, ...,\n",
       "          2.83365794e-17, 1.62622654e-17, 9.29154842e-18]],\n",
       " \n",
       "        [[9.28851271e+04, 5.78548709e+04, 3.95713740e+04, ...,\n",
       "          0.00000000e+00, 0.00000000e+00, 0.00000000e+00],\n",
       "         [8.02578382e+04, 5.08393855e+04, 3.54514844e+04, ...,\n",
       "          0.00000000e+00, 0.00000000e+00, 0.00000000e+00],\n",
       "         [9.21699201e+04, 6.80164431e+04, 4.52463373e+04, ...,\n",
       "          0.00000000e+00, 0.00000000e+00, 0.00000000e+00],\n",
       "         ...,\n",
       "         [1.52937369e+03, 1.71991661e+03, 1.84804862e+03, ...,\n",
       "          1.50869204e-14, 8.65561940e-15, 4.94300830e-15],\n",
       "         [2.25402089e+02, 2.52345148e+02, 2.73953739e+02, ...,\n",
       "          2.18096036e-16, 1.25134059e-16, 7.14780814e-17],\n",
       "         [2.85378548e+01, 3.19444004e+01, 3.44608797e+01, ...,\n",
       "          1.19494365e-16, 6.85774044e-17, 3.91821348e-17]]])}"
      ]
     },
     "execution_count": 45,
     "metadata": {},
     "output_type": "execute_result"
    }
   ],
   "source": [
    "pdm._signal_data"
   ]
  },
  {
   "cell_type": "code",
   "execution_count": 46,
   "id": "311a4389",
   "metadata": {},
   "outputs": [
    {
     "data": {
      "image/png": "[encoded data removed]",
      "text/plain": [
       "<Figure size 432x432 with 1 Axes>"
      ]
     },
     "metadata": {
      "needs_background": "light"
     },
     "output_type": "display_data"
    }
   ],
   "source": [
    "figure, ax1 = plt.subplots(1, 1, figsize=(std_size,std_size), sharex=True) \n",
    "\n",
    "#ax1.step(pdm._shower_sim.egrid[-len(pdm._signal_data[-1][-1]):],\n",
    "#signal_comb[-1][0],'-',\n",
    "#         label=r'$m_{x}$=%.1eGeV , $<\\sigma\\nu>$=%.1e$cm^{3}s^{-1}$'%(mass_grid[4],sv_grid[0]))\n",
    "ax1.step(pdm._shower_sim.egrid[-len(pdm._signal_data['numu'][-1][-1]):], pdm._signal_data['numu'][-1][-1],'-',\n",
    "         label=r'$m_{x}$=%.1eGeV , $<\\sigma\\nu>$=%.1e$cm^{3}s^{-1}$'%(mass_grid[-1],sv_grid[-1]))\n",
    "\n",
    "#ax1.step(pdm._shower_sim._egrid, background_pone_sm['numu'],'-', label='Background P-ONE un-Smeared')\n",
    "#ax1.step(pdm._shower_sim._egrid, back_comb['numu'],'-', label='Background combined')\n",
    "\n",
    "ax1.step(pdm._shower_sim._egrid, np.sum(background_ic['numu'],axis=0),'-', label='Background IceCube')\n",
    "\n",
    "ax1.set_xscale(\"log\")\n",
    "ax1.set_yscale(\"log\")\n",
    "ax1.set_xlabel('E [GeV]', fontsize=fontsize)\n",
    "ax1.set_ylabel(r'# Counts', fontsize=fontsize)\n",
    "ax1.tick_params(axis = 'both', which = 'major', labelsize=fontsize)\n",
    "ax1.tick_params(axis = 'both', which = 'minor', labelsize=fontsize)\n",
    "ax1.set_xlim(1e2, 0.5e7)\n",
    "ax1.set_ylim(1e0,1e5)\n",
    "h, l = ax1.get_legend_handles_labels()\n",
    "lgd1 = ax1.legend(h, l, loc=7, bbox_to_anchor=(1.2, +1.12),\n",
    "                 ncol=2, fontsize=fontsize-2, handlelength=h_length,\n",
    "                 fancybox=True, frameon=False)\n",
    "ax1.add_artist(lgd1)\n",
    "plt.grid()\n",
    "# ---------------------------------------------\n",
    "# Showing the image\n",
    "plt.show()"
   ]
  },
  {
   "cell_type": "code",
   "execution_count": 47,
   "id": "ba91c6eb",
   "metadata": {},
   "outputs": [
    {
     "name": "stderr",
     "output_type": "stream",
     "text": [
      "/home/kruteesh/Desktop/DM_nu_simulation_P-One/PONE_git/pone_work/pone_dm/dm2nu.py:279: RuntimeWarning: overflow encountered in exp\n",
      "  dd = np.exp(d_2 / s_in(x)**2)\n",
      "/home/kruteesh/Desktop/DM_nu_simulation_P-One/PONE_git/pone_work/pone_dm/dm2nu.py:280: RuntimeWarning: overflow encountered in multiply\n",
      "  return A * aa * dd\n"
     ]
    }
   ],
   "source": [
    "ratio = pdm._dm_nu.extra_galactic_flux(pdm._shower_sim.egrid, mass_grid[mass_id], sv_grid[sv_id]) / (shower_po) "
   ]
  },
  {
   "cell_type": "code",
   "execution_count": 48,
   "id": "4a3e7d31",
   "metadata": {},
   "outputs": [
    {
     "data": {
      "text/plain": [
       "[[1, 1, 1], [2, 2, 2]]"
      ]
     },
     "execution_count": 48,
     "metadata": {},
     "output_type": "execute_result"
    }
   ],
   "source": [
    "aa =[[1,1,1]]\n",
    "bbb= [[2,2,2]]\n",
    "aa+bbb"
   ]
  },
  {
   "cell_type": "code",
   "execution_count": 49,
   "id": "0b8448be",
   "metadata": {},
   "outputs": [
    {
     "data": {
      "text/plain": [
       "array([[3, 3, 3]])"
      ]
     },
     "execution_count": 49,
     "metadata": {},
     "output_type": "execute_result"
    }
   ],
   "source": [
    "np.add(aa,bbb)"
   ]
  },
  {
   "cell_type": "code",
   "execution_count": 50,
   "id": "c868322c",
   "metadata": {},
   "outputs": [],
   "source": [
    "flux={}\n",
    "flux[15]={}\n",
    "flux[85]={}\n",
    "flux[120]={}\n",
    "flux[15]['numu'] = (dphi_4(pdm._shower_sim.egrid)) * pdm._shower_sim._egrid**(-2)\n",
    "flux[85]['numu'] = flux[15]['numu']\n",
    "flux[120]['numu'] = flux[15]['numu']\n",
    "flux[15]['nue']=flux[85]['nue']=flux[120]['nue']=flux[15]['nutau']=flux[85]['nutau']=flux[120]['nutau']=flux[15]['numu']\n",
    "#_lit=pdm._Detector.sim2dec(flux,True)[\"numu\"]\n"
   ]
  },
  {
   "cell_type": "code",
   "execution_count": 51,
   "metadata": {},
   "outputs": [],
   "source": [
    "signal_ice = pickle.load(open('/home/kruteesh/Desktop/dm_data_server/limits_signal_IceCube.pkl','rb'))\n"
   ]
  },
  {
   "cell_type": "code",
   "execution_count": 52,
   "metadata": {},
   "outputs": [],
   "source": [
    "# Loading comparison data\n",
    "th_cl = np.loadtxt(open(\"../data/thermal_relic.csv\"), delimiter = \",\")\n",
    "unitarity = np.loadtxt(open('../data/Unitarity_bound.csv'), delimiter = ',')\n",
    "cl_lit = np.loadtxt('../data/CL_PONE.csv', delimiter=\",\")\n",
    "cl_lit = (cl_lit[cl_lit[:, 0].argsort()])\n",
    "unitarity = (unitarity[unitarity[:, 0].argsort()])\n",
    "\n",
    "limits_ice = pickle.load(open('/home/kruteesh/Desktop/dm_data_server/24_03_desk/limits_results_IceCube.pkl','rb'))\n",
    "limits_pone_unsm = pickle.load(open(\"../data/25_03/unsmeared/limits_results_POne_unsm.pkl\",\"rb\"))\n",
    "limits_com = pickle.load(open(\"/home/kruteesh/Desktop/dm_data_server/14_03/data/limits_results.pkl\", \"rb\"))\n",
    "cl_lit_ice = np.loadtxt('/home/kruteesh/Desktop/DM_nu_simulation_P-One/Literature/limits_Ice.csv', delimiter=\",\")\n",
    "cl_lit_ice = (cl_lit_ice[cl_lit_ice[:, 0].argsort()])\n",
    "xx,yy = np.meshgrid(np.log10( np.logspace(1, 6, 20)),np.log10( np.logspace(1, 6, 20)))"
   ]
  },
  {
   "cell_type": "code",
   "execution_count": 53,
   "id": "885ecf12",
   "metadata": {},
   "outputs": [],
   "source": [
    "#signal_count_sim = pdm._signal.signal_calc(pdm._shower_sim.egrid,mass_grid[mass_id],sv_grid[sv_id])"
   ]
  },
  {
   "cell_type": "code",
   "execution_count": 54,
   "id": "deef3dcb",
   "metadata": {},
   "outputs": [],
   "source": [
    "#ratio_c = (signal_count_sim[\"numu\"] /       \n",
    "#            pdm._limit_calc._bkgrd['numu'])"
   ]
  },
  {
   "cell_type": "code",
   "execution_count": 55,
   "id": "63fe3ae8",
   "metadata": {},
   "outputs": [],
   "source": [
    "#ratio_c"
   ]
  },
  {
   "cell_type": "code",
   "execution_count": 56,
   "id": "eb78c8f4",
   "metadata": {},
   "outputs": [],
   "source": [
    "#plt.title('scaling correction'+str(config['advanced']['scaling correction'])+' P-ONE Signal to Background ratios, m=%.1e, sv=%.1e'%(mass_grid[mass_id],sv_grid[sv_id]))\n",
    "#plt.loglog(pdm._shower_sim.egrid,ratio,label='flux ratio') \n",
    "#plt.loglog(pdm._shower_sim.egrid,ratio_c,'o',label='counts ratio')\n",
    "#plt.legend()\n",
    "#plt.grid()\n",
    "#plt.xlabel('E [GeV]')\n",
    "#plt.ylabel('Ratio')"
   ]
  },
  {
   "cell_type": "code",
   "execution_count": 57,
   "metadata": {},
   "outputs": [
    {
     "data": {
      "image/png": "[encoded data removed]",
      "text/plain": [
       "<Figure size 432x432 with 1 Axes>"
      ]
     },
     "metadata": {
      "needs_background": "light"
     },
     "output_type": "display_data"
    }
   ],
   "source": [
    "color = ['black', 'orange', 'purple']\n",
    "color_sm = ['red', 'crimson', 'blue']\n",
    "ll = ['-.', '--', '-.']\n",
    "figure, (ax1) = plt.subplots(1, 1, figsize=(std_size,std_size), sharex=True)  # std_size, std_size * 6. / 8.),\n",
    "for j,i in enumerate(config[\"pone\"][\"specific particle scaling\"].keys()):\n",
    "    # Limits\n",
    "    # ---------------------------------------------\n",
    "    # Setup\n",
    "\n",
    "    \n",
    "    # ---------------------------------------------\n",
    "    # Plotting\n",
    "    #plt.title('P-ONE Limits Results',fontsize=fontsize)  # +' Scaling Correction = '+str(config['advanced']['scaling correction'])\n",
    "    \n",
    "    ax1.contour(pdm.results[i], levels = [0.9], colors=color[j],  linestyles=ll[j],\n",
    "                origin='lower', extent=(min(np.log10(mass_grid)), max(np.log10(mass_grid)),\n",
    "                                        min(np.log10(sv_grid)), max(np.log10(sv_grid))))\n",
    "    #ax1.contour(limits_com[i], levels = [0.9], colors=color_sm[j],  linestyles=ll[j],\n",
    "    #            origin='lower', extent=(min(np.log10(mass_grid)), max(np.log10(mass_grid)),\n",
    "    #                                    min(np.log10(sv_grid)), max(np.log10(sv_grid))))\n",
    "    break    \n",
    "ax1.contour(limits_ice[\"numu\"], levels=[0.9], colors='blue',origin='lower',linestyles='-',\n",
    "                            extent=(min(np.log10(mass_grid)), max(np.log10(mass_grid)),\n",
    "                                    min(np.log10(sv_grid)), max(np.log10(sv_grid))))\n",
    "ax1.contour(limits_pone_unsm[\"numu\"], levels=[0.9], colors='red',origin='lower',linestyles='-.',\n",
    "                            extent=(min(np.log10(mass_grid)), max(np.log10(mass_grid)),\n",
    "                                    min(np.log10(sv_grid)), max(np.log10(sv_grid))))\n",
    "#ax1.plot(np.log10(cl_lit[:, 0]), np.log10(cl_lit[:, 1]), 'g', label='literature P-ONE')\n",
    "#ax1.plot(np.log10(cl_lit_ice[:, 0]), np.log10(cl_lit_ice[:, 1]),label='literature  IceCube')\n",
    "ax1.plot(np.log10(th_cl[:, 0]), np.log10(th_cl[:, 1]), 'b', \n",
    "         label='Thermal Relic Abundance')\n",
    "ax1.plot(np.log10(unitarity[:, 0]), np.log10(unitarity[:, 1]), '.k', \n",
    "         label='Unitarity Bound')\n",
    "# ---------------------------------------------\n",
    "# Axis options\n",
    "ax1.set_xscale(\"linear\")\n",
    "ax1.set_yscale(\"linear\")\n",
    "ax1.set_xlabel(r\"$\\log$ $m_{\\chi}$[GeV]\", fontsize=fontsize)\n",
    "ax1.set_ylabel(r\"$\\log$ $<\\sigma \\nu$>[$cm^{3} s^{-1}$]\", fontsize=fontsize)\n",
    "ax1.tick_params(axis = 'both', which = 'major', labelsize=fontsize)\n",
    "ax1.tick_params(axis = 'both', which = 'minor', labelsize=fontsize)\n",
    "ax1.set_xlim(2.8, max(np.log10(mass_grid)))\n",
    "ax1.set_ylim(min(np.log10(sv_grid)), -21)  # \n",
    "#ax1.text(3.5, -23.7, \"IceCube Simulation\", fontsize=fontsize)\n",
    "\n",
    "#ax1.text(3.2, -24.8, r\"P-ONE $\\nu_\\mu$\", fontsize=fontsize)\n",
    "#ax1.text(3.2, -24.9, r\" $\\nu_e$\", fontsize=fontsize)\n",
    "#ax1.text(3.1, -25.3, r\" $\\nu_\\tau$\", fontsize=fontsize)\n",
    "\n",
    "# ---------------------------------------------\n",
    "# Legend\n",
    "# plt.legend(fontsize=fontsize)\n",
    "h, l = ax1.get_legend_handles_labels()\n",
    "lgd1 = ax1.legend(h, l, loc=7, bbox_to_anchor=(1.09, +1.09),\n",
    "                 ncol=2, fontsize=fontsize, handlelength=h_length,\n",
    "                 fancybox=True, frameon=False)\n",
    "ax1.add_artist(lgd1)\n",
    "plt.grid()\n",
    "# ---------------------------------------------\n",
    "# Showing the image\n",
    "plt.show()\n",
    "# ---------------------------------------------\n",
    "# Storing the image\n",
    "figure.savefig(PICS + \"Limits_Example_all\"+\".png\",\n",
    "               bbox_inches='tight', dpi=export_dpi)\n"
   ]
  },
  {
   "cell_type": "code",
   "execution_count": 58,
   "id": "06e4c7e0",
   "metadata": {},
   "outputs": [],
   "source": [
    "#pickle.dump(pdm.results, open('../data/_smea_limits.pkl', 'wb'))"
   ]
  },
  {
   "cell_type": "code",
   "execution_count": 59,
   "metadata": {},
   "outputs": [
    {
     "ename": "KeyError",
     "evalue": "'nue'",
     "output_type": "error",
     "traceback": [
      "\u001b[0;31m---------------------------------------------------------------------------\u001b[0m",
      "\u001b[0;31mKeyError\u001b[0m                                  Traceback (most recent call last)",
      "\u001b[0;32m<ipython-input-59-3c1fd0107ee7>\u001b[0m in \u001b[0;36m<module>\u001b[0;34m\u001b[0m\n\u001b[1;32m      7\u001b[0m             origin='lower', extent=(min(np.log10(mass_grid)), max(np.log10(mass_grid)),\n\u001b[1;32m      8\u001b[0m                                     min(np.log10(sv_grid)), max(np.log10(sv_grid))))\n\u001b[0;32m----> 9\u001b[0;31m ax1.contour(pdm.results[\"nue\"], levels = [0.9], colors='purple', linestyles='--',\n\u001b[0m\u001b[1;32m     10\u001b[0m             origin='lower', extent=(min(np.log10(mass_grid)), max(np.log10(mass_grid)), \n\u001b[1;32m     11\u001b[0m                                     min(np.log10(sv_grid)), max(np.log10(sv_grid))))\n",
      "\u001b[0;31mKeyError\u001b[0m: 'nue'"
     ]
    },
    {
     "data": {
      "image/png": "[encoded data removed]",
      "text/plain": [
       "<Figure size 432x324 with 1 Axes>"
      ]
     },
     "metadata": {
      "needs_background": "light"
     },
     "output_type": "display_data"
    }
   ],
   "source": [
    "# All Limits-------------------------------------------\n",
    "# Setup\n",
    "figure, (ax1) = plt.subplots(1, 1, figsize=(std_size, std_size * 6. / 8.), sharex=True)\n",
    "# ---------------------------------------------\n",
    "# Plotting\n",
    "ax1.contour(pdm.results[\"numu\"], levels = [0.9], colors='purple', linestyles='-',\n",
    "            origin='lower', extent=(min(np.log10(mass_grid)), max(np.log10(mass_grid)),\n",
    "                                    min(np.log10(sv_grid)), max(np.log10(sv_grid))))\n",
    "ax1.contour(pdm.results[\"nue\"], levels = [0.9], colors='purple', linestyles='--',\n",
    "            origin='lower', extent=(min(np.log10(mass_grid)), max(np.log10(mass_grid)), \n",
    "                                    min(np.log10(sv_grid)), max(np.log10(sv_grid))))\n",
    "ax1.contour(pdm.results[\"nutau\"], levels = [0.9], colors='purple', linestyles='-.',\n",
    "            origin='lower', extent=(min(np.log10(mass_grid)), max(np.log10(mass_grid)),\n",
    "                                    min(np.log10(sv_grid)), max(np.log10(sv_grid))))\n",
    "#ax1.plot(np.log10(cl_lit[:, 0]), np.log10(cl_lit[:, 1]), 'g', label='literature 90% C.L')\n",
    "ax1.plot(np.log10(th_cl[:, 0]), np.log10(th_cl[:, 1]), 'b', \n",
    "         label='literature Thermal Relic Abundance')\n",
    "ax1.contour(limits[\"numu\"], levels=[0.9], colors='red',origin='lower',\n",
    "                                extent=(min(np.log10(mass_grid)), max(np.log10(mass_grid)),\n",
    "                                        min(np.log10(sv_grid)), max(np.log10(sv_grid))), legend='IceCube')\n",
    "ax1.plot(np.log10(cl_lit[:, 0]), np.log10(cl_lit[:, 1]), 'g', label='literature 90% C.L P-ONE')\n",
    "ax1.plot(np.log10(cl_lit_ice[:, 0]), np.log10(cl_lit_ice[:, 1]), label='literature 90% C.L IceCube')\n",
    "# ---------------------------------------------\n",
    "# Axis options\n",
    "ax1.set_xscale(\"linear\")\n",
    "ax1.set_yscale(\"linear\")\n",
    "ax1.set_xlabel(r\"log $m_{\\chi}$\", fontsize=fontsize)\n",
    "ax1.set_ylabel(r\"log <$\\sigma\\nu$>\", fontsize=fontsize)\n",
    "ax1.tick_params(axis = 'both', which = 'major', labelsize=fontsize-5, direction='in')\n",
    "ax1.tick_params(axis = 'both', which = 'minor', labelsize=fontsize-5, direction='in')\n",
    "ax1.set_xlim(min(np.log10(mass_grid)), max(np.log10(mass_grid)))\n",
    "ax1.set_ylim(min(np.log10(sv_grid)),-23.0)\n",
    "# ---------------------------------------------\n",
    "# Legend\n",
    "# plt.legend(fontsize=fontsize)\n",
    "h, l = ax1.get_legend_handles_labels()\n",
    "lgd1 = ax1.legend(h, l, loc=9, bbox_to_anchor=(0.4, +1.),\n",
    "                 ncol=1, fontsize=fontsize-3, handlelength=h_length,\n",
    "                 fancybox=True, frameon=False)\n",
    "ax1.add_artist(lgd1)\n",
    "# ---------------------------------------------\n",
    "ax1.text(3.5, -23.7, \"IceCube\", fontsize=fontsize)\n",
    "ax1.text(3.4, -24.4, \"P-ONE\", fontsize=fontsize)\n",
    "ax1.text(3.2, -24.3, r\"$\\nu_\\mu$\", fontsize=fontsize)\n",
    "ax1.text(3.2, -24.9, r\"$\\nu_e$\", fontsize=fontsize)\n",
    "ax1.text(3.1, -25.3, r\"$\\nu_\\tau$\", fontsize=fontsize)\n",
    "ax1.text(4.2, -25.5, \"Thermal Relic Abundance\", fontsize=fontsize)\n",
    "plt.grid()\n",
    "# ---------------------------------------------\n",
    "# Showing the image\n",
    "plt.show()\n",
    "# ---------------------------------------------\n",
    "# Storing the image\n",
    "figure.savefig(PICS + \"All_Limits.png\",\n",
    "               bbox_inches='tight', dpi=export_dpi)"
   ]
  },
  {
   "cell_type": "code",
   "execution_count": null,
   "id": "d26bbfe6",
   "metadata": {},
   "outputs": [],
   "source": []
  },
  {
   "cell_type": "code",
   "execution_count": null,
   "id": "afefaab3",
   "metadata": {},
   "outputs": [
    {
     "data": {
      "image/png": "[encoded data removed]",
      "text/plain": [
       "<Figure size 432x288 with 1 Axes>"
      ]
     },
     "metadata": {
      "needs_background": "light"
     },
     "output_type": "display_data"
    }
   ],
   "source": [
    "samples = np.random.lognormal(4, 0.3 * 4., 1000)\n",
    "count, bins, ignored = plt.hist(samples, 100, density=False, align='mid')"
   ]
  },
  {
   "cell_type": "code",
   "execution_count": null,
   "id": "af7c9a46",
   "metadata": {},
   "outputs": [],
   "source": [
    "mid_e_grid = np.logspace(3, 4, 100)"
   ]
  },
  {
   "cell_type": "code",
   "execution_count": null,
   "id": "bb9e3d4e",
   "metadata": {},
   "outputs": [],
   "source": [
    "spl_mid_mean = UnivariateSpline([1e3, 1e4], [700., 1e4], k=1)\n",
    "spl_mid_sigma = UnivariateSpline([1e3, 1e4], [0.45, 0.35], k=1)"
   ]
  },
  {
   "cell_type": "code",
   "execution_count": null,
   "id": "27f978f5",
   "metadata": {},
   "outputs": [],
   "source": [
    "def local_log_normal(x, mu, sigma):\n",
    "    \"\"\"Distribution function \n",
    "    x = E_grid\n",
    "    mu = log(E) \n",
    "    sigma = fraction of E  ( so no fraction or percentage ) ( standard deviation as per definition )\n",
    "    \"\"\"\n",
    "    sigma = ( sigma  )\n",
    "    pdf = np.exp(-( np.log(x) - mu )**2 / (2 * sigma**2)) / (x * sigma * np.sqrt(2 * np.pi))\n",
    "\n",
    "    return pdf"
   ]
  },
  {
   "cell_type": "code",
   "execution_count": null,
   "id": "ce141083",
   "metadata": {},
   "outputs": [],
   "source": [
    "def distro_parms(Etrue):\n",
    "    \"\"\" Parameter estimation function depending  on the E_true\n",
    "    [mu] = [log(E/GeV)]\n",
    "    sigma = fraction of E \n",
    "    \"\"\"\n",
    "    if Etrue < 1e3:\n",
    "        mu = np.log(700)\n",
    "        sigma = 0.45 \n",
    "    elif 1e3 <= Etrue <= 1e4:\n",
    "        mu = np.log(spl_mid_mean(Etrue))\n",
    "        sigma = spl_mid_sigma(Etrue) \n",
    "    else:\n",
    "        mu = np.log(Etrue)\n",
    "        sigma = 0.35 \n",
    "    return mu, sigma\n",
    "\n",
    "\n",
    "#def smearing(Etrue, number_of_events, sampling_grid=hist_grid):\n",
    "#    mu, sigma = distro_parms(Etrue)\n",
    "#    return (\n",
    "#        np.nan_to_num(local_log_normal(sampling_grid, mu, sigma)) *\n",
    "#        number_of_events\n",
    "#    )\n"
   ]
  },
  {
   "cell_type": "code",
   "execution_count": null,
   "id": "306dccf6",
   "metadata": {},
   "outputs": [],
   "source": [
    "samples_fun = []\n",
    "samples = []\n",
    "for i,E in enumerate(pdm._shower_sim.egrid):\n",
    "    mu, sigma = distro_parms(E)\n",
    "    samples.append(np.random.lognormal((mu), sigma, len(e_grid))) # Axis0 = E, meaning the axis0 elements are the E_ture for which axis1 correspondece as distribution !!! Thats why transpose for imshow\n",
    "    samples_fun.append(np.nan_to_num(local_log_normal(e_grid, mu, sigma)))"
   ]
  },
  {
   "cell_type": "code",
   "execution_count": null,
   "id": "bf2d6fb5",
   "metadata": {},
   "outputs": [
    {
     "data": {
      "text/plain": [
       "array([1931.66788073,  442.52182814,  464.27331622,  681.11592916,\n",
       "        475.21945766,  913.85083418,  860.83899991,  549.55393498,\n",
       "        552.36624062,  384.66568459,  670.79926085, 1005.38027074,\n",
       "        753.1606112 , 1063.4905859 ,  714.3984222 ,  698.54997411,\n",
       "        224.47277459,  777.03107064, 1184.247377  ,  483.81733442,\n",
       "        495.5694915 ,  282.98456772,  655.35673215, 1287.19123337,\n",
       "        785.32167192, 1143.56591006,  548.94148549,  498.98730086,\n",
       "        831.19480374,  207.72346752,  529.93028592,  550.8911818 ,\n",
       "       1156.72348639,  431.42023652, 1070.08168982,  496.38630767,\n",
       "        311.51842455,  493.06598126, 1254.83046286,  628.03873769,\n",
       "        540.92909386,  449.58654974,  926.84721465,  892.24648986,\n",
       "        876.78961017,  473.43194317,  429.75149998,  471.73843982,\n",
       "        250.29132406,  295.88602571,  354.88039856,  817.26293895,\n",
       "        556.31856743,  700.99282405,  705.4725524 ,  477.75666075,\n",
       "        960.44139778,  627.34959365,  469.28909253,  870.55496395,\n",
       "        502.57451692,  673.07681906,  419.48040162, 1070.8934794 ,\n",
       "       1029.87518458, 1531.73739874,  589.0561072 ,  990.75963114,\n",
       "        647.54932268,  540.75879173,  974.90930946, 1476.94840502,\n",
       "        633.08400322,  501.24530476,  884.04348113,  877.51153949,\n",
       "       2044.43970783,  628.81870604,  344.98912224, 1040.63813658,\n",
       "        246.10925212,  558.30368402,  409.31003675, 1282.67557803,\n",
       "        618.24818877, 1028.85086928,  938.99073572,  892.75484222,\n",
       "        503.79980268,  478.90110325,  778.75448016,  964.45633856,\n",
       "       1060.99781175,  697.0039021 ,  543.43091406,  504.30700029,\n",
       "        378.78655169, 1057.12482154,  897.15638938,  554.25639774,\n",
       "        670.72261362,  198.27921626,  425.56405612,  444.18309739,\n",
       "        755.06774508,  735.11511607, 1749.20537494,  414.92569937,\n",
       "        359.6044636 , 1216.69558309,  435.56780716,  920.97813276,\n",
       "        696.07852408,  554.55701222,  643.10864494,  426.527258  ,\n",
       "       1167.45547037, 1418.88191935,  747.6422556 ,  657.7524234 ,\n",
       "        889.275461  ])"
      ]
     },
     "execution_count": 40,
     "metadata": {},
     "output_type": "execute_result"
    }
   ],
   "source": [
    "samples[0]"
   ]
  },
  {
   "cell_type": "code",
   "execution_count": null,
   "id": "963a5c4d",
   "metadata": {},
   "outputs": [
    {
     "data": {
      "image/png": "[encoded data removed]",
      "text/plain": [
       "<Figure size 432x324 with 1 Axes>"
      ]
     },
     "metadata": {
      "needs_background": "light"
     },
     "output_type": "display_data"
    }
   ],
   "source": [
    "figure, (ax1) = plt.subplots(1, 1, figsize=(std_size, std_size * 6./8. ), sharex=True)\n",
    "z_p=ax1.imshow((np.array(samples_fun).T)*e_grid, origin='lower', extent=( min(np.log10(e_grid)), max(np.log10(e_grid)), min(np.log10(e_grid)), max(np.log10(e_grid)) ), cmap=plt.get_cmap('binary'))\n",
    "#figure.colorbar(z_p, ax=(ax1))\n",
    "ax1.contour(np.array(samples_fun*e_grid).T, levels = [0.68], colors='purple', linestyles='-',\n",
    "            origin='lower', extent=( min(np.log10(e_grid)), max(np.log10(e_grid)), min(np.log10(e_grid)), max(np.log10(e_grid))) )\n",
    "#ax1.contour((samples_fun*e_grid).T, levels = [1.2], colors='purple', linestyles='-',\n",
    "#            origin='lower', extent=( min(np.log10(e_grid)), max(np.log10(e_grid)), min(np.log10(e_grid)), max(np.log10(e_grid))) )\n",
    "\n",
    "\n",
    "ax1.set_xlabel(r\"$log_{10}$ $E_{true} / GeV$\", fontsize=fontsize)\n",
    "ax1.set_ylabel(r\"$log_{10}$ $E_{Recon} / GeV$\", fontsize=fontsize)\n",
    "#ax1.set_ylabel(r\"Distribution fraction\", fontsize=fontsize)\n",
    "ax1.tick_params(axis = 'both', which = 'major', labelsize=fontsize-5, direction='in')\n",
    "ax1.tick_params(axis = 'both', which = 'minor', labelsize=fontsize-5, direction='in')\n",
    "ax1.set_xlim(2,8)\n",
    "ax1.set_ylim(2,8)\n",
    "# ---------------------------------------------\n",
    "# Legend\n",
    "# plt.legend(fontsize=fontsize)\n",
    "h, l = ax1.get_legend_handles_labels()\n",
    "lgd1 = ax1.legend(h, l, loc=9, bbox_to_anchor=(0.4, +1.),\n",
    "                 ncol=1, fontsize=fontsize-3, handlelength=h_length,\n",
    "                 fancybox=True, frameon=False)\n",
    "ax1.add_artist(lgd1)\n",
    "\n",
    "plt.grid()"
   ]
  },
  {
   "cell_type": "code",
   "execution_count": null,
   "id": "128e7116",
   "metadata": {},
   "outputs": [
    {
     "name": "stdout",
     "output_type": "stream",
     "text": [
      "1.008859951546397\n",
      "1.008859951546397\n",
      "1.008859951546397\n",
      "1.008859951546397\n",
      "1.008859951546397\n",
      "1.008859951546397\n",
      "1.008859951546397\n",
      "1.008859951546397\n",
      "1.008859951546397\n",
      "1.008859951546397\n",
      "1.008859951546397\n",
      "1.008859951546397\n",
      "1.008859951546397\n",
      "1.008859951546397\n",
      "1.008859951546397\n",
      "1.008859951546397\n",
      "1.008859951546397\n",
      "1.008859951546397\n",
      "1.008859951546397\n",
      "1.008859951546397\n",
      "1.008859951546397\n",
      "1.008859951546397\n",
      "1.008859951546397\n",
      "1.008859951546397\n",
      "1.008859951546397\n",
      "1.008859951546397\n",
      "1.008859951546397\n",
      "1.008859951546397\n",
      "1.008859951546397\n",
      "1.008859951546397\n",
      "1.008859951546397\n",
      "1.008859951546397\n",
      "1.008859951546397\n",
      "1.008859951546397\n",
      "1.008859951546397\n",
      "1.008859951546397\n",
      "1.008859951546397\n",
      "1.008859951546397\n",
      "1.008859951546397\n",
      "1.008859951546397\n",
      "1.008859951546397\n",
      "1.008859951546397\n",
      "1.008859951546397\n",
      "1.008859951546397\n",
      "1.008859951546397\n",
      "1.0088599515463972\n",
      "1.0088599515463972\n",
      "1.008859951546397\n",
      "1.008859951546397\n",
      "1.008859951546397\n",
      "1.008859951546397\n",
      "1.0088599515463965\n",
      "1.0088599515463967\n",
      "1.0088599515463967\n",
      "1.008859951546397\n",
      "1.0088599515463967\n",
      "1.0088599515463967\n",
      "1.0088599515463967\n",
      "1.0088599515463965\n",
      "1.008859951546397\n",
      "1.0088599515463974\n",
      "1.0088599515463974\n",
      "1.0088599515463967\n",
      "1.0088599515463965\n",
      "1.0088599515463965\n",
      "1.008859951546397\n",
      "1.0088599515463972\n",
      "1.0088599515463974\n",
      "1.0088599515463972\n",
      "1.0088599515463967\n",
      "1.0088599515463965\n",
      "1.0088599515463959\n",
      "1.0088599515463959\n",
      "1.0088599515463967\n",
      "1.0088599515463974\n",
      "1.0088599515463978\n",
      "1.0088599515463974\n",
      "1.0088599515463965\n",
      "1.0088599515463959\n",
      "1.0088599515463963\n",
      "1.0088599515463976\n",
      "1.0088599515463983\n",
      "1.0088599515463978\n",
      "1.008859951546397\n",
      "1.0088599515463965\n",
      "1.008859951546397\n",
      "1.0088599515463974\n",
      "1.0088599515463974\n",
      "1.0088599515463965\n",
      "1.0088599515463954\n",
      "1.008859951546395\n",
      "1.0088599515463954\n",
      "1.008859951546396\n",
      "1.0088599515463974\n",
      "1.0088599515463985\n",
      "1.0088599515463987\n",
      "1.0088599515463978\n",
      "1.008859951546397\n",
      "1.0088599515463967\n",
      "1.008859951546397\n",
      "1.0088599515463972\n",
      "1.0088599515463976\n",
      "1.0088599515463974\n",
      "1.0088599515463965\n",
      "1.0088599515463952\n",
      "1.008859951546395\n",
      "1.0088599515463954\n",
      "1.0088599515463963\n",
      "1.008859951546393\n",
      "1.0088599515457641\n",
      "1.0088599514862897\n",
      "1.0088599478389784\n",
      "1.008859802395111\n",
      "1.0088560263087643\n",
      "1.00879207937406\n",
      "1.0080837990024158\n",
      "1.0029331496579985\n",
      "0.9782136225224429\n",
      "0.8994026757013434\n",
      "0.7312278948002646\n",
      "0.4892548820719381\n"
     ]
    }
   ],
   "source": [
    "for i,_ in enumerate(e_grid):\n",
    "    print(np.trapz(samples_fun[i], x=e_grid))"
   ]
  },
  {
   "cell_type": "code",
   "execution_count": null,
   "id": "d9a2d77e",
   "metadata": {},
   "outputs": [
    {
     "ename": "NameError",
     "evalue": "name 'count_np' is not defined",
     "output_type": "error",
     "traceback": [
      "\u001b[0;31m---------------------------------------------------------------------------\u001b[0m",
      "\u001b[0;31mNameError\u001b[0m                                 Traceback (most recent call last)",
      "\u001b[0;32m<ipython-input-43-b242626dccb3>\u001b[0m in \u001b[0;36m<module>\u001b[0;34m\u001b[0m\n\u001b[1;32m      1\u001b[0m \u001b[0mfigure\u001b[0m\u001b[0;34m,\u001b[0m \u001b[0;34m(\u001b[0m\u001b[0max1\u001b[0m\u001b[0;34m)\u001b[0m \u001b[0;34m=\u001b[0m \u001b[0mplt\u001b[0m\u001b[0;34m.\u001b[0m\u001b[0msubplots\u001b[0m\u001b[0;34m(\u001b[0m\u001b[0;36m1\u001b[0m\u001b[0;34m,\u001b[0m \u001b[0;36m1\u001b[0m\u001b[0;34m,\u001b[0m \u001b[0mfigsize\u001b[0m\u001b[0;34m=\u001b[0m\u001b[0;34m(\u001b[0m\u001b[0mstd_size\u001b[0m\u001b[0;34m,\u001b[0m \u001b[0mstd_size\u001b[0m \u001b[0;34m*\u001b[0m \u001b[0;36m6.\u001b[0m\u001b[0;34m/\u001b[0m\u001b[0;36m8.\u001b[0m \u001b[0;34m)\u001b[0m\u001b[0;34m,\u001b[0m \u001b[0msharex\u001b[0m\u001b[0;34m=\u001b[0m\u001b[0;32mTrue\u001b[0m\u001b[0;34m)\u001b[0m\u001b[0;34m\u001b[0m\u001b[0;34m\u001b[0m\u001b[0m\n\u001b[0;32m----> 2\u001b[0;31m \u001b[0max1\u001b[0m\u001b[0;34m.\u001b[0m\u001b[0mimshow\u001b[0m\u001b[0;34m(\u001b[0m\u001b[0;34m(\u001b[0m\u001b[0mcount_np\u001b[0m\u001b[0;34m*\u001b[0m\u001b[0me_grid\u001b[0m\u001b[0;34m)\u001b[0m\u001b[0;34m.\u001b[0m\u001b[0mT\u001b[0m\u001b[0;34m,\u001b[0m \u001b[0morigin\u001b[0m\u001b[0;34m=\u001b[0m\u001b[0;34m'lower'\u001b[0m\u001b[0;34m,\u001b[0m \u001b[0mextent\u001b[0m\u001b[0;34m=\u001b[0m\u001b[0;34m(\u001b[0m \u001b[0mmin\u001b[0m\u001b[0;34m(\u001b[0m\u001b[0mnp\u001b[0m\u001b[0;34m.\u001b[0m\u001b[0mlog10\u001b[0m\u001b[0;34m(\u001b[0m\u001b[0me_grid\u001b[0m\u001b[0;34m)\u001b[0m\u001b[0;34m)\u001b[0m\u001b[0;34m,\u001b[0m \u001b[0mmax\u001b[0m\u001b[0;34m(\u001b[0m\u001b[0mnp\u001b[0m\u001b[0;34m.\u001b[0m\u001b[0mlog10\u001b[0m\u001b[0;34m(\u001b[0m\u001b[0me_grid\u001b[0m\u001b[0;34m)\u001b[0m\u001b[0;34m)\u001b[0m\u001b[0;34m,\u001b[0m \u001b[0mmin\u001b[0m\u001b[0;34m(\u001b[0m\u001b[0mnp\u001b[0m\u001b[0;34m.\u001b[0m\u001b[0mlog10\u001b[0m\u001b[0;34m(\u001b[0m\u001b[0me_grid\u001b[0m\u001b[0;34m)\u001b[0m\u001b[0;34m)\u001b[0m\u001b[0;34m,\u001b[0m \u001b[0mmax\u001b[0m\u001b[0;34m(\u001b[0m\u001b[0mnp\u001b[0m\u001b[0;34m.\u001b[0m\u001b[0mlog10\u001b[0m\u001b[0;34m(\u001b[0m\u001b[0me_grid\u001b[0m\u001b[0;34m)\u001b[0m\u001b[0;34m)\u001b[0m \u001b[0;34m)\u001b[0m\u001b[0;34m)\u001b[0m\u001b[0;34m\u001b[0m\u001b[0;34m\u001b[0m\u001b[0m\n\u001b[0m\u001b[1;32m      3\u001b[0m \u001b[0max1\u001b[0m\u001b[0;34m.\u001b[0m\u001b[0mset_xlabel\u001b[0m\u001b[0;34m(\u001b[0m\u001b[0;34mr\"log $E_{true}$\"\u001b[0m\u001b[0;34m,\u001b[0m \u001b[0mfontsize\u001b[0m\u001b[0;34m=\u001b[0m\u001b[0mfontsize\u001b[0m\u001b[0;34m)\u001b[0m\u001b[0;34m\u001b[0m\u001b[0;34m\u001b[0m\u001b[0m\n\u001b[1;32m      4\u001b[0m \u001b[0max1\u001b[0m\u001b[0;34m.\u001b[0m\u001b[0mset_ylabel\u001b[0m\u001b[0;34m(\u001b[0m\u001b[0;34mr\"log $E_{Recon}$\"\u001b[0m\u001b[0;34m,\u001b[0m \u001b[0mfontsize\u001b[0m\u001b[0;34m=\u001b[0m\u001b[0mfontsize\u001b[0m\u001b[0;34m)\u001b[0m\u001b[0;34m\u001b[0m\u001b[0;34m\u001b[0m\u001b[0m\n\u001b[1;32m      5\u001b[0m \u001b[0max1\u001b[0m\u001b[0;34m.\u001b[0m\u001b[0mtick_params\u001b[0m\u001b[0;34m(\u001b[0m\u001b[0maxis\u001b[0m \u001b[0;34m=\u001b[0m \u001b[0;34m'both'\u001b[0m\u001b[0;34m,\u001b[0m \u001b[0mwhich\u001b[0m \u001b[0;34m=\u001b[0m \u001b[0;34m'major'\u001b[0m\u001b[0;34m,\u001b[0m \u001b[0mlabelsize\u001b[0m\u001b[0;34m=\u001b[0m\u001b[0mfontsize\u001b[0m\u001b[0;34m-\u001b[0m\u001b[0;36m5\u001b[0m\u001b[0;34m,\u001b[0m \u001b[0mdirection\u001b[0m\u001b[0;34m=\u001b[0m\u001b[0;34m'in'\u001b[0m\u001b[0;34m)\u001b[0m\u001b[0;34m\u001b[0m\u001b[0;34m\u001b[0m\u001b[0m\n",
      "\u001b[0;31mNameError\u001b[0m: name 'count_np' is not defined"
     ]
    },
    {
     "data": {
      "image/png": "[encoded data removed]",
      "text/plain": [
       "<Figure size 432x324 with 1 Axes>"
      ]
     },
     "metadata": {
      "needs_background": "light"
     },
     "output_type": "display_data"
    }
   ],
   "source": [
    "figure, (ax1) = plt.subplots(1, 1, figsize=(std_size, std_size * 6./8. ), sharex=True)\n",
    "ax1.imshow((count_np*e_grid).T, origin='lower', extent=( min(np.log10(e_grid)), max(np.log10(e_grid)), min(np.log10(e_grid)), max(np.log10(e_grid)) ))\n",
    "ax1.set_xlabel(r\"log $E_{true}$\", fontsize=fontsize)\n",
    "ax1.set_ylabel(r\"log $E_{Recon}$\", fontsize=fontsize)\n",
    "ax1.tick_params(axis = 'both', which = 'major', labelsize=fontsize-5, direction='in')\n",
    "ax1.tick_params(axis = 'both', which = 'minor', labelsize=fontsize-5, direction='in')\n",
    "\n",
    "# ---------------------------------------------\n",
    "# Legend\n",
    "# plt.legend(fontsize=fontsize)\n",
    "h, l = ax1.get_legend_handles_labels()\n",
    "lgd1 = ax1.legend(h, l, loc=9, bbox_to_anchor=(0.4, +1.),\n",
    "                 ncol=1, fontsize=fontsize-3, handlelength=h_length,\n",
    "                 fancybox=True, frameon=False)\n",
    "ax1.add_artist(lgd1)\n",
    "\n",
    "plt.grid()"
   ]
  },
  {
   "cell_type": "code",
   "execution_count": null,
   "id": "0b1ac938",
   "metadata": {},
   "outputs": [],
   "source": [
    "np.array(count_np).shape"
   ]
  },
  {
   "cell_type": "code",
   "execution_count": null,
   "id": "1c6b8a2e",
   "metadata": {},
   "outputs": [],
   "source": [
    "count_np"
   ]
  },
  {
   "cell_type": "code",
   "execution_count": null,
   "id": "d18de8e7",
   "metadata": {},
   "outputs": [],
   "source": []
  }
 ],
 "metadata": {
  "interpreter": {
   "hash": "82a3a656d33f35b7f3fe77a22343614a58c995dc979ba6da45d214804d59b344"
  },
  "kernelspec": {
   "display_name": "Python 3.9.5 64-bit ('pdm': conda)",
   "name": "python3"
  },
  "language_info": {
   "codemirror_mode": {
    "name": "ipython",
    "version": 3
   },
   "file_extension": ".py",
   "mimetype": "text/x-python",
   "name": "python",
   "nbconvert_exporter": "python",
   "pygments_lexer": "ipython3",
   "version": "3.9.5"
  }
 },
 "nbformat": 4,
 "nbformat_minor": 5
}
