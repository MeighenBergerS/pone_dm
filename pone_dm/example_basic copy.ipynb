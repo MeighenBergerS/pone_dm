{
 "cells": [
  {
   "cell_type": "code",
   "execution_count": 1,
   "metadata": {},
   "outputs": [],
   "source": [
    "# Name: example_basic\n",
    "# Authors: Stephan Meighen-Berger, Kruteesh Desai\n",
    "# A basic example how to use the package"
   ]
  },
  {
   "cell_type": "code",
   "execution_count": 141,
   "metadata": {},
   "outputs": [],
   "source": [
    "# imports\n",
    "from constants import pdm_constants as const\n",
    "from config import config\n",
    "from pone_aeff import Aeff\n",
    "from dm2nu import DM2Nu\n",
    "from atm_shower import Atm_Shower\n",
    "from detectors import Detector\n",
    "import numpy as np\n",
    "\n",
    "import matplotlib.pyplot as plt\n",
    "from matplotlib.lines import Line2D\n",
    "import matplotlib.patches as mpatches\n",
    "\n",
    "from limit_calc import Limits\n",
    "from bkgrd_calc import Background\n",
    "from signal_calc import Signal\n",
    "from pdm import PDM\n",
    "from scipy.interpolate import UnivariateSpline\n",
    "from scipy.stats import chi2\n",
    "from scipy.stats import *\n",
    "from pone_aeff import Aeff\n",
    "import pickle\n",
    "from matplotlib import rc"
   ]
  },
  {
   "cell_type": "code",
   "execution_count": 3,
   "metadata": {},
   "outputs": [],
   "source": [
    "# picture path\n",
    "PICS = '../pics/'\n",
    "name=[r'$\\nu_{\\mu}$', r\"$\\nu_e$\", r\"$\\nu_{\\tau}$\"]  # ,r'$\\nu_{e}$',r'$\\nu_{\\tau}$'\n",
    "# Plotting standards\n",
    "std_size = 6.  # Size of the plot\n",
    "fontsize = 15.  # Fontsize in the plot\n",
    "lw=0.5  # Linewidth\n",
    "h_length=0.5  # Handle length for the legends\n",
    "export_dpi = 500  # Dpi for the image export\n",
    "color_pone='#7570b3'\n",
    "color_ice='#e7298a'\n",
    "color_combined='#33a02c'\n",
    "color_thermal='#1f78b4'\n",
    "color_unitary='k'\n",
    "color_4='#1b9e77'\n",
    "color_6='#d95f02'\n",
    "rc('font',**{'family':'sans-serif','sans-serif':['Helvetica']})\n",
    "rc('text', usetex=True)"
   ]
  },
  {
   "cell_type": "code",
   "execution_count": 120,
   "metadata": {},
   "outputs": [],
   "source": [
    "# Some example settings\n",
    "#config['atmospheric showers']['interaction model'] = 'SIBYLL2.3c'\n",
    "#config['atmospheric showers']['theta angles'] = np.linspace(0., 90., 91)|\n",
    "#config['atmospheric showers']['particles of interest']=['nue']\n",
    "config['general']['detector'] = 'combined'\n",
    "config['general']['pone type'] = 'old'\n",
    "config['pone']['smearing'] = 'smeared'\n",
    "config['pone']['low E sigma'] = {'numu': 0.15,\n",
    "                                 'nue': 0.25,\n",
    "                                 'nutau': 0.25}\n",
    "config['pone']['high E sigma'] = {'numu': 0.09,\n",
    "                                 'nue': 0.07,\n",
    "                                 'nutau': 0.07}\n",
    "#low E sigma': {\n",
    "#                'numu': [0.45, 0.35, 0.25, 0.15],\n",
    "#                'nue': [0.55, 0.45, 0.35, 0.25],\n",
    "#                'nutau': [0.55, 0.45, 0.35, 0.25]},\n",
    "#            'high E sigma': {\n",
    "#                'numu': [0.25, 0.15, 0.10, 0.09],\n",
    "#                'nue': [0.15, 0.12, 0.09, 0.07],\n",
    "#                'nutau': [0.15, 0.12, 0.09, 0.07]"
   ]
  },
  {
   "cell_type": "code",
   "execution_count": 121,
   "id": "f846c559",
   "metadata": {},
   "outputs": [],
   "source": [
    "surface_fluxe = pickle.load(open(\"../data/\" +\n",
    "                                                   \"surf_store_v1.p\", \"rb\"))"
   ]
  },
  {
   "cell_type": "code",
   "execution_count": 122,
   "id": "d4c1e6dc",
   "metadata": {},
   "outputs": [
    {
     "data": {
      "text/plain": [
       "(121,)"
      ]
     },
     "execution_count": 122,
     "metadata": {},
     "output_type": "execute_result"
    }
   ],
   "source": [
    "surface_fluxe[0][0].shape"
   ]
  },
  {
   "cell_type": "code",
   "execution_count": 123,
   "metadata": {},
   "outputs": [
    {
     "name": "stdout",
     "output_type": "stream",
     "text": [
      "Loading Effective Area\n",
      "combined\n"
     ]
    },
    {
     "name": "stderr",
     "output_type": "stream",
     "text": [
      "100%|██████████| 3/3 [00:00<00:00, 33.32it/s]"
     ]
    },
    {
     "name": "stdout",
     "output_type": "stream",
     "text": [
      "121\n",
      "121\n",
      "121\n",
      "121\n",
      "121\n",
      "121\n"
     ]
    },
    {
     "name": "stderr",
     "output_type": "stream",
     "text": [
      "\n"
     ]
    }
   ],
   "source": [
    "pdm = PDM()"
   ]
  },
  {
   "cell_type": "code",
   "execution_count": 124,
   "id": "e430a42e",
   "metadata": {},
   "outputs": [],
   "source": [
    "def _log_norm(E, mu, sigma):\n",
    "    \"\"\"Distribution function\n",
    "    x = E_grid\n",
    "    mu = log(E)\n",
    "    sigma = fraction of E * E ( so no fraction or percentage )\n",
    "    ( standard deviation as per definition )\n",
    "    \"\"\"\n",
    "    pdf = (np.exp(- (np.log(E) - mu)**2 / (2 * sigma**2)) /\n",
    "           (E * sigma * np.sqrt(2 * np.pi)))\n",
    "    return pdf"
   ]
  },
  {
   "cell_type": "code",
   "execution_count": 125,
   "id": "19c2f1f2",
   "metadata": {},
   "outputs": [],
   "source": [
    "_bkgrd_ice_data = [\n",
    "                        '../data/icecube_10year_ps/events/IC40_exp.csv',\n",
    "                        '../data/icecube_10year_ps/events/IC59_exp.csv',\n",
    "                        '../data/icecube_10year_ps/events/IC79_exp.csv',\n",
    "                        '../data/icecube_10year_ps/events/IC86_I_exp.csv',\n",
    "                        '../data/icecube_10year_ps/events/IC86_II_exp.csv',\n",
    "                        '../data/icecube_10year_ps/events/IC86_III_exp.csv',\n",
    "                        '../data/icecube_10year_ps/events/IC86_IV_exp.csv',\n",
    "                        '../data/icecube_10year_ps/events/IC86_V_exp.csv',\n",
    "                        '../data/icecube_10year_ps/events/IC86_VI_exp.csv',\n",
    "                        '../data/icecube_10year_ps/events/IC86_VII_exp.csv',\n",
    "                    ]"
   ]
  },
  {
   "cell_type": "code",
   "execution_count": 126,
   "id": "e1b26c4b",
   "metadata": {},
   "outputs": [],
   "source": [
    "e_grid = pdm._shower_sim.egrid\n",
    "eff_po_15 = pdm._aeff.spl_A15(pdm._shower_sim.egrid)\n",
    "eff_po_51 = pdm._aeff.spl_A51(pdm._shower_sim.egrid)\n",
    "eff_po_55 = pdm._aeff.spl_A55(pdm._shower_sim.egrid)\n",
    "\n",
    "eff_ice = pickle.load(open('/home/kruteesh/Desktop/dm_data_server/eff_area_ice.pkl','rb'))"
   ]
  },
  {
   "cell_type": "code",
   "execution_count": 127,
   "id": "f53996c0",
   "metadata": {},
   "outputs": [
    {
     "data": {
      "image/png": "[encoded data removed]",
      "text/plain": [
       "<Figure size 432x432 with 1 Axes>"
      ]
     },
     "metadata": {
      "needs_background": "light"
     },
     "output_type": "display_data"
    }
   ],
   "source": [
    "figure, ax1 = plt.subplots(1,1,figsize=(std_size,std_size), sharex=True) \n",
    "#fig = plt.figure(figsize=(std_size+12,std_size))\n",
    "#gs = fig.add_gridspec(1, 3, wspace=0.07)\n",
    "#(ax1,ax2, ax3) = gs.subplots( sharex=True, sharey=True)\n",
    "#ax1.set_title('Effective Areas')\n",
    "#ax1.set_title(r'-1 $<$ cos $\\theta$ $>$-0.5 ', y=0.4, fontsize=fontsize)\n",
    "ax1.step(np.log10(pdm._shower_sim._egrid), eff_po_15, color=color_pone, label=r'P-ONE' )\n",
    "ax1.step(np.log10(pdm._shower_sim._egrid), eff_ice[30], color=color_ice, label=r'IceCube')\n",
    "ax1.step(np.log10(pdm._shower_sim._egrid), eff_po_55, color=color_pone, linestyle='-.')\n",
    "ax1.step(np.log10(pdm._shower_sim._egrid), eff_ice[75], color=color_ice, linestyle='-.')\n",
    "\n",
    "#ax1.step(np.log10(pdm._shower_sim._egrid), eff_po_51, color=color_pone, linestyle=':')\n",
    "#ax1.step(np.log10(pdm._shower_sim._egrid), eff_ice[30], color=color_ice, linestyle=':')\n",
    "\n",
    "\n",
    "\n",
    "\n",
    "#ax2.set_title(r'-0.5 $<$ cos $\\theta$ $>$ 0.5 ', y=0.4, fontsize=fontsize)\n",
    "#ax2.step(np.log10(pdm._shower_sim._egrid), eff_po_55, color=color_pone)\n",
    "#ax2.step(np.log10(pdm._shower_sim._egrid), eff_ice[75], color=color_ice)\n",
    "#\n",
    "#ax3.set_title(r'0.5 $<$ cos $\\theta$ $>$ 1 ', y=0.4, fontsize=fontsize)\n",
    "#ax3.step(np.log10(pdm._shower_sim._egrid), eff_po_51, color=color_pone)\n",
    "#ax3.step(np.log10(pdm._shower_sim._egrid), eff_ice[30], color=color_ice)\n",
    "#\n",
    "#ax1.set_xscale(\"log\")\n",
    "#ax2.set_xscale(\"log\")\n",
    "#ax3.set_xscale(\"log\")\n",
    "\n",
    "ax1.set_yscale(\"log\")\n",
    "#ax2.set_yscale(\"log\")\n",
    "#ax3.set_yscale(\"log\")\n",
    "ax1.set_xlabel(r'$\\log_{10}$ ( $E$ / $ \\textrm{GeV} )$ ', fontsize=fontsize)\n",
    "#ax3.set_xlabel(r'$\\log_{10}$ ( E / $ \\textrm{GeV} )$ ', fontsize=fontsize)\n",
    "#ax2.set_xlabel(r'$\\log_{10}$ ( E / $ \\textrm{\\textrm{GeV}} )$ ', fontsize=fontsize)\n",
    "ax1.set_ylabel(r'$\\textrm{Effective Area}$ $[ \\textrm{m}^2 ]$', fontsize=fontsize)\n",
    "#ax2.set_ylabel(r'\\textbf{$E^2$ $d\\phi$ / $dE$ }   [ \\textit{$\\textrm{GeV} cm^{-2} s^{-1} sr^{-1}$} ]', fontsize=fontsize)\n",
    "#ax3.set_ylabel(r'\\textbf{$E^2$ $d\\phi$ / $dE$ }   [ \\textit{$\\textrm{GeV} cm^{-2} s^{-1} sr^{-1}$} ]', fontsize=fontsize)\n",
    "ax1.tick_params(axis = 'both', which = 'major', labelsize=fontsize, direction='in')\n",
    "ax1.tick_params(axis = 'both', which = 'minor', labelsize=fontsize, direction='in')\n",
    "\n",
    "#ax2.tick_params(axis = 'both', which = 'major', labelsize=fontsize, direction='in')\n",
    "#ax2.tick_params(axis = 'both', which = 'major', labelsize=fontsize, direction='in')\n",
    "#ax3.tick_params(axis = 'both', which = 'major', labelsize=fontsize, direction='in')\n",
    "#ax3.tick_params(axis = 'both', which = 'major', labelsize=fontsize, direction='in')\n",
    "\n",
    "ax1.set_xlim(2, 7)\n",
    "#ax2.set_xlim(2, 7)\n",
    "#ax3.set_xlim(2, 7)\n",
    "ax1.set_ylim(1e1,1e8)\n",
    "h, l = ax1.get_legend_handles_labels()\n",
    "lgd1 = ax1.legend(h, l, loc=7, bbox_to_anchor=(0.85, +1.03),\n",
    "                 ncol=2, fontsize=fontsize, handlelength=h_length,\n",
    "                 fancybox=True, frameon=False)\n",
    "ax1.add_artist(lgd1)\n",
    "\n",
    "# ---------------------------------------------\n",
    "# Showing the image\n",
    "plt.show()\n",
    "figure.savefig(PICS + \"Final_eff_area\"+\".png\",\n",
    "               bbox_inches='tight', dpi=export_dpi, facecolor='white')"
   ]
  },
  {
   "cell_type": "code",
   "execution_count": null,
   "id": "f67b2db5",
   "metadata": {},
   "outputs": [],
   "source": []
  },
  {
   "cell_type": "code",
   "execution_count": 128,
   "metadata": {},
   "outputs": [
    {
     "data": {
      "text/plain": [
       "(316.22776601683796, 1e-21)"
      ]
     },
     "execution_count": 128,
     "metadata": {},
     "output_type": "execute_result"
    }
   ],
   "source": [
    "# Grids\n",
    "mass_grid = config['simulation parameters']['mass grid']\n",
    "sv_grid = config['simulation parameters']['sv grid']\n",
    "mass_id = 1\n",
    "\n",
    "sv_id = -1\n",
    "\n",
    "mass_grid[mass_id], sv_grid[sv_id]\n",
    "# The limit calculation\n"
   ]
  },
  {
   "cell_type": "code",
   "execution_count": 129,
   "metadata": {},
   "outputs": [
    {
     "data": {
      "text/plain": [
       "array([[[2.12522998e+02, 1.63541848e-04],\n",
       "        [3.75355026e+02, 1.17293567e-04],\n",
       "        [6.29536175e+02, 4.82400307e-05],\n",
       "        [1.29846584e+03, 2.68117327e-05],\n",
       "        [2.54321174e+03, 1.27334869e-05],\n",
       "        [5.08126850e+03, 5.00379406e-06],\n",
       "        [1.02741133e+04, 1.64695632e-06],\n",
       "        [2.01231674e+04, 6.33333228e-07],\n",
       "        [4.15055504e+04, 3.04185979e-07],\n",
       "        [8.12939394e+04, 1.45312927e-07],\n",
       "        [1.64454709e+05, 5.65882534e-08],\n",
       "        [2.78806881e+05, 4.47804058e-08],\n",
       "        [4.21663736e+05, 3.16824398e-08],\n",
       "        [7.56379773e+05, 2.36346234e-08],\n",
       "        [1.97223492e+06, 1.29547786e-08]]])"
      ]
     },
     "execution_count": 129,
     "metadata": {},
     "output_type": "execute_result"
    }
   ],
   "source": [
    "dphi_2=np.loadtxt(open(\"../data/m_1e2.csv\"), delimiter = \",\")\n",
    "dphi_2[dphi_2[:,0].sort()]\n",
    "\n",
    "dphi_4=np.loadtxt(open(\"../data/m_1e4.csv\"), delimiter = \",\")\n",
    "dphi_4[dphi_4[:,0].sort()]\n",
    "\n",
    "dphi_6=np.loadtxt(open(\"../data/m_1e6.csv\"), delimiter = \",\")\n",
    "dphi_6[dphi_6[:,0].sort()]\n",
    "dphi_ice=np.loadtxt(open(\"../data/icecube.csv\"), delimiter = \",\")\n",
    "dphi_ice[dphi_ice[:,0].sort()]"
   ]
  },
  {
   "cell_type": "code",
   "execution_count": 130,
   "metadata": {},
   "outputs": [],
   "source": [
    "dphi_4=UnivariateSpline(dphi_4[:,0],dphi_4[:,1],k=1,s=0,ext=1)\n",
    "#mass_grid[0],sv_grid[-1],mass_grid[-1],sv_grid[-1]\n",
    "dphi_ic=UnivariateSpline(dphi_ice[:,0],dphi_ice[:,1],k=1,s=0,ext=1)\n",
    "dphi_6=UnivariateSpline(dphi_6[:,0],dphi_6[:,1],k=1,s=0, ext=1)\n",
    "dphi_2=UnivariateSpline(dphi_2[:,0],dphi_2[:,1],k=1,s=0, ext=1)\n"
   ]
  },
  {
   "cell_type": "code",
   "execution_count": 131,
   "id": "388d6c41",
   "metadata": {},
   "outputs": [],
   "source": [
    "\n",
    "\n",
    "shower_flux = pickle.load(open('../data/shower.p','rb'))\n",
    "shower_po = shower_flux[2][45]['numu']\n",
    "surface_fluxe_ice = pickle.load(open(\"../data/surf_store_v1.p\", \"rb\"))\n",
    "shower_ice = surface_fluxe_ice[20][3] # background fluxes at 20° ----\n",
    "\n"
   ]
  },
  {
   "cell_type": "code",
   "execution_count": 132,
   "id": "49bb6095",
   "metadata": {},
   "outputs": [
    {
     "name": "stderr",
     "output_type": "stream",
     "text": [
      "/home/kruteesh/Desktop/DM_nu_simulation_P-One/PONE_git/pone_work/pone_dm/dm2nu.py:279: RuntimeWarning: overflow encountered in exp\n",
      "  dd = np.exp(d_2 / s_in(x)**2)\n",
      "/home/kruteesh/Desktop/DM_nu_simulation_P-One/PONE_git/pone_work/pone_dm/dm2nu.py:280: RuntimeWarning: overflow encountered in multiply\n",
      "  return A * aa * dd\n"
     ]
    },
    {
     "data": {
      "text/plain": [
       "(5.623413251903491e-23, (121,), (121,))"
      ]
     },
     "execution_count": 132,
     "metadata": {},
     "output_type": "execute_result"
    }
   ],
   "source": [
    "sv_grid[6], (pdm._dm_nu.extra_galactic_flux(pdm._shower_sim.egrid,mass_grid[4],sv_grid[6]).shape), pdm._Detector.astro_flux().shape"
   ]
  },
  {
   "cell_type": "code",
   "execution_count": 133,
   "id": "983bf3cd",
   "metadata": {},
   "outputs": [
    {
     "name": "stderr",
     "output_type": "stream",
     "text": [
      "/home/kruteesh/Desktop/DM_nu_simulation_P-One/PONE_git/pone_work/pone_dm/dm2nu.py:279: RuntimeWarning: overflow encountered in exp\n",
      "  dd = np.exp(d_2 / s_in(x)**2)\n",
      "/home/kruteesh/Desktop/DM_nu_simulation_P-One/PONE_git/pone_work/pone_dm/dm2nu.py:280: RuntimeWarning: overflow encountered in multiply\n",
      "  return A * aa * dd\n",
      "/home/kruteesh/Desktop/DM_nu_simulation_P-One/PONE_git/pone_work/pone_dm/dm2nu.py:279: RuntimeWarning: overflow encountered in exp\n",
      "  dd = np.exp(d_2 / s_in(x)**2)\n",
      "/home/kruteesh/Desktop/DM_nu_simulation_P-One/PONE_git/pone_work/pone_dm/dm2nu.py:280: RuntimeWarning: overflow encountered in multiply\n",
      "  return A * aa * dd\n"
     ]
    },
    {
     "data": {
      "image/png": "[encoded data removed]",
      "text/plain": [
       "<Figure size 432x432 with 1 Axes>"
      ]
     },
     "metadata": {
      "needs_background": "light"
     },
     "output_type": "display_data"
    }
   ],
   "source": [
    "figure, ax1 = plt.subplots(1, 1, figsize=(std_size,std_size), sharex=True) \n",
    "#  $<\\sigma\\nu>=%.1e$ $cm^{3}s^{-1}$' ,sv_grid[6]\n",
    "\n",
    "#label=r'$m_{x}=1.0e+04$ $\\textrm{GeV} (Carlos$ $et.al)$'\n",
    "#label=r'$m_{x}=1.0e+06$ $\\textrm{\\textrm{\\textrm{GeV}}} (Carlos$ $et.al)$'\n",
    "\n",
    "#ax1.step(pdm._shower_sim._egrid, dphi_2(pdm._shower_sim._egrid),'o', label=r'$m_{x}$ = 1e2 \\textrm{\\textrm{GeV}} Lit')\n",
    "\n",
    "ax1.step(np.log10(pdm._shower_sim._egrid), dphi_4(pdm._shower_sim._egrid), 'o', color=color_4)\n",
    "ax1.step(np.log10(pdm._shower_sim._egrid), dphi_6(pdm._shower_sim._egrid), 'o',color=color_6)\n",
    "\n",
    "#ax1.step(pdm._shower_sim.egrid, (pdm._dm_nu.extra_galactic_flux(pdm._shower_sim.egrid,mass_grid[0],sv)) * pdm._shower_sim.egrid**2.,'-.',\n",
    "#         label=r'$m_{x}$ = %.1e , $<\\sigma\\nu>$ = %.1eGeV Sim'%(mass_grid[0],sv))\n",
    "\n",
    "ax1.step(np.log10(pdm._shower_sim._egrid), (pdm._dm_nu.extra_galactic_flux(pdm._shower_sim.egrid,mass_grid[4],sv_grid[6])) * pdm._shower_sim.egrid**2., color=color_4, linestyle='-.',\n",
    "         label=r'$m_{x}=%.1e$ $\\textrm{GeV}$ ' %(mass_grid[4]))\n",
    "ax1.step(np.log10(pdm._shower_sim._egrid), (pdm._dm_nu.extra_galactic_flux(pdm._shower_sim.egrid,mass_grid[-1],sv_grid[6]))* pdm._shower_sim.egrid**2., color=color_6, linestyle='-.',\n",
    "         label=r'$m_{x}=%.1e$ $\\textrm{GeV}$ ' %(mass_grid[-1]))\n",
    "\n",
    "ax1.step(np.log10(pdm._shower_sim._egrid), (shower_po + pdm._Detector.astro_flux())*pdm._shower_sim.egrid**2, color=color_pone, label=r'P-ONE (MCEq)') # Karlsruhe Corsika\n",
    "ax1.step(np.log10(pdm._shower_sim._egrid), (shower_ice + pdm._Detector.astro_flux())*pdm._shower_sim.egrid**2, color=color_ice, label=r'IceCube')\n",
    "\n",
    "#ax1.set_xscale(\"log\")\n",
    "ax1.set_yscale(\"log\")\n",
    "ax1.set_xlabel(r'$\\log_{10}$ $($ $E$ / $\\textrm{GeV}$ $)$ ', fontsize=fontsize)\n",
    "ax1.set_ylabel(r'\\textbf{$E^2$} d\\textbf{$\\phi$} / d\\textbf{$E$ }   [ $\\textrm{GeV}$ $\\textrm{cm}^{-2}$ $\\textrm{s}^{-1}$ $\\textrm{sr}^{-1}$ ]', fontsize=fontsize)\n",
    "ax1.tick_params(axis = 'both', which = 'major', labelsize=fontsize, direction='in')\n",
    "ax1.tick_params(axis = 'both', which = 'minor', labelsize=fontsize, direction='in')\n",
    "ax1.set_xlim(2, 7)\n",
    "ax1.set_ylim(1e-10,1e-5)\n",
    "h, l = ax1.get_legend_handles_labels()\n",
    "lgd1 = ax1.legend(h, l, loc=7, bbox_to_anchor=(0.95, +1.1),\n",
    "                 ncol=2, fontsize=fontsize, handlelength=h_length,\n",
    "                 fancybox=True, frameon=False)\n",
    "ax1.add_artist(lgd1)\n",
    "\n",
    "# ---------------------------------------------\n",
    "# Showing the image\n",
    "plt.show()\n",
    "figure.savefig(PICS + \"Final_flux\"+\".png\",\n",
    "               bbox_inches='tight', dpi=export_dpi, facecolor='white')"
   ]
  },
  {
   "cell_type": "code",
   "execution_count": 136,
   "id": "06175886",
   "metadata": {},
   "outputs": [],
   "source": [
    "signal_ice = pickle.load(open('/home/kruteesh/Desktop/dm_data_server/28_03_desk/data/limits_signal_IceCube.pkl','rb'))\n",
    "signal_com_un = pickle.load(open(\"../data/06_04/unsmeared/signal_grid_combined_un.pkl\",\"rb\"))\n",
    "signal_pone_un = pickle.load(open(\"../data/06_04/unsmeared/signal_grid_POne_un.pkl\",\"rb\"))\n",
    "signal_pone_sm = pickle.load(open('../data/06_04/smeared/signal_grid_POne_sm.pkl', 'rb'))"
   ]
  },
  {
   "cell_type": "code",
   "execution_count": 138,
   "id": "4ed8ae57",
   "metadata": {},
   "outputs": [],
   "source": [
    "#back_po = pickle.load(open('../data/background_pone_sm.pkl','rb'))\n",
    "background_ic = pickle.load(open('/home/kruteesh/Desktop/dm_data_server/28_03_desk/data/background_ice.pkl','rb'))\n",
    "back_comb =  pickle.load(open('../data/background_combined.pkl','rb'))\n",
    "background_pone_unsm = pickle.load(open('../data/background_pone_unsm.pkl','rb'))\n",
    "background_pone_sm_45_25 = pickle.load(open('../data/12_04/45_25/background_pone.pkl', 'rb'))\n",
    "background_pone_sm_35_15 = pickle.load(open('../data/12_04/35_15/background_pone.pkl', 'rb'))\n",
    "background_pone_sm_25_10 = pickle.load(open('../data/12_04/25_10/background_pone.pkl', 'rb'))\n",
    "background_pone_sm_15_009 = pickle.load(open('../data/12_04/15_009/background_pone.pkl', 'rb'))"
   ]
  },
  {
   "cell_type": "code",
   "execution_count": 140,
   "id": "311a4389",
   "metadata": {},
   "outputs": [
    {
     "name": "stderr",
     "output_type": "stream",
     "text": [
      "findfont: Font family ['sans-serif'] not found. Falling back to DejaVu Sans.\n",
      "findfont: Font family ['sans-serif'] not found. Falling back to DejaVu Sans.\n"
     ]
    },
    {
     "data": {
      "image/png": "[encoded data removed]",
      "text/plain": [
       "<Figure size 864x864 with 4 Axes>"
      ]
     },
     "metadata": {
      "needs_background": "light"
     },
     "output_type": "display_data"
    }
   ],
   "source": [
    "fig = plt.figure(figsize=(std_size+6,std_size+6))\n",
    "gs = fig.add_gridspec(2, 2, hspace=0.06, wspace=0.05)\n",
    "(ax1, ax2),(ax3,ax4) = gs.subplots( sharex=True, sharey=True)\n",
    "# $<\\sigma\\nu>$=%.1e $cm^{3}s^{-1},sv_grid[6]\n",
    "#ax1.step(pdm._shower_sim.egrid[-len(pdm._signal_data[-1][-1]):],\n",
    "\n",
    "\n",
    "ax1.step(np.log10(pdm._shower_sim.egrid[-len(pdm._signal_data['numu'][6][0]):]), signal_pone_un[\"numu\"][6][2], color='b', linestyle='-',\n",
    "         label=r'$m_{x}=%.1e$ $\\textrm{GeV}$' % (mass_grid[2]))\n",
    "ax1.step(np.log10(pdm._shower_sim.egrid[-len(pdm._signal_data['numu'][6][0]):]), signal_pone_un[\"numu\"][6][4], color=color_4, linestyle='-',\n",
    "         label=r'$m_{x}=%.1e$ $\\textrm{GeV}$' % (mass_grid[4]))\n",
    "ax1.step(np.log10(pdm._shower_sim.egrid[-len(pdm._signal_data['numu'][6][0]):]), signal_pone_un[\"numu\"][6][-1], color=color_6, linestyle='-',\n",
    "         label=r'$m_{x}=%.1e$ $\\textrm{GeV}$' % (mass_grid[-1]))\n",
    "\n",
    "\n",
    "ax3.step(np.log10(pdm._shower_sim.egrid[-len(pdm._signal_data['numu'][6][0]):]), signal_com_un[\"numu\"][6][2], color='b', linestyle='-')#,\n",
    "         #label=r'$m_{x}=%.1e$ $GeV$' % (mass_grid[2]))\n",
    "ax3.step(np.log10(pdm._shower_sim.egrid[-len(pdm._signal_data['numu'][6][0]):]), signal_com_un[\"numu\"][6][4], color=color_4, linestyle='-')#,\n",
    "         #label=r'$m_{x}=%.1e$ $GeV$' % (mass_grid[4]))\n",
    "ax3.step(np.log10(pdm._shower_sim.egrid[-len(pdm._signal_data['numu'][6][0]):]), signal_com_un[\"numu\"][6][-1], color=color_6, linestyle='-')#,\n",
    "         #label=r'$m_{x}=%.1e$ $GeV$' % (mass_grid[-1]))\n",
    "\n",
    "ax2.step(np.log10(pdm._shower_sim.egrid[-len(pdm._signal_data['numu'][6][0]):]), signal_ice[6][2], color='b', linestyle='-')#,\n",
    "         #label=r'$m_{x}=%.1e$ $GeV$' % (mass_grid[2]))\n",
    "ax2.step(np.log10(pdm._shower_sim.egrid[-len(pdm._signal_data['numu'][6][0]):]), signal_ice[6][4], color=color_4, linestyle='-')#,\n",
    "         #label=r'$m_{x}=%.1e$ $GeV$' % (mass_grid[4]))\n",
    "ax2.step(np.log10(pdm._shower_sim.egrid[-len(pdm._signal_data['numu'][6][0]):]), signal_ice[6][-1], color=color_6, linestyle='-')#,\n",
    "         #label=r'$m_{x}=%.1e$ $GeV$' % (mass_grid[-1]))\n",
    "\n",
    "ax4.step(np.log10(pdm._shower_sim.egrid[-len(pdm._signal_data['numu'][6][0]):]), signal_pone_sm[\"numu\"][6][2], color='b', linestyle='-')#,\n",
    "         #label=r'$m_{x}=%.1e$ $GeV$' % (mass_grid[2]))\n",
    "ax4.step(np.log10(pdm._shower_sim.egrid[-len(pdm._signal_data['numu'][6][0]):]), signal_pone_sm[\"numu\"][6][4], color=color_4, linestyle='-')#,\n",
    "         #label=r'$m_{x}=%.1e$ $GeV$' % (mass_grid[4]))\n",
    "ax4.step(np.log10(pdm._shower_sim.egrid[-len(pdm._signal_data['numu'][6][0]):]), signal_pone_sm[\"numu\"][6][-1], color=color_6, linestyle='-')#,\n",
    "         #label=r'$m_{x}=%.1e$ $GeV$' % (mass_grid[-1]))\n",
    "\n",
    "\n",
    "#ax1.step(pdm._shower_sim._egrid, pdm.bkgrd['numu'],'-', label='Background P-ONE un-Smeared')\n",
    "\n",
    "ax1.step(np.log10(pdm._shower_sim._egrid), background_pone_unsm['numu'], '-', color=color_pone)\n",
    "ax3.step(np.log10(pdm._shower_sim._egrid), back_comb['numu'], '-', color=color_combined, label=r'Combined')\n",
    "ax2.step(np.log10(pdm._shower_sim._egrid), np.sum(background_ic['numu'],axis=0), color=color_ice, linestyle='-', label=r'IceCube')\n",
    "ax4.step(np.log10(pdm._shower_sim._egrid), background_pone_sm_45_25['numu'], '-.', color=color_pone, label=r'P-ONE(Energy Reconstruction)')\n",
    "ax4.step(np.log10(pdm._shower_sim._egrid), background_pone_sm_35_15['numu'], '--', color=color_pone)\n",
    "ax4.step(np.log10(pdm._shower_sim._egrid), background_pone_sm_25_10['numu'], ':', color=color_pone)\n",
    "ax4.step(np.log10(pdm._shower_sim._egrid), background_pone_sm_15_009['numu'], '*', color=color_pone)\n",
    "\n",
    "ax1.text(4.5,0.5e5,'-', fontsize=fontsize+27, color=color_pone)\n",
    "ax1.text(4.82,0.6e5,'P-ONE', fontsize=fontsize+4)\n",
    "#ax1.set_xscale(\"log\")\n",
    "ax1.set_yscale(\"log\")\n",
    "#ax1.set_xlabel(r'$\\log_{10}$( E / $GeV$ )', fontsize=fontsize+6)\n",
    "ax1.set_ylabel(r'$ \\#$  $Counts$', fontsize=fontsize+4)\n",
    "ax1.tick_params(axis = 'both', which = 'major', labelsize=fontsize+6, direction='in')\n",
    "ax1.tick_params(axis = 'both', which = 'minor', labelsize=fontsize+6, direction='in')\n",
    "ax1.set_xlim(2, 6)\n",
    "ax1.set_ylim(1e0,1e6)\n",
    "h, l = ax1.get_legend_handles_labels()\n",
    "lgd1 = ax1.legend(h, l, loc=7, bbox_to_anchor=(2.10, +1.1),\n",
    "                 ncol=4, fontsize=fontsize+6, handlelength=h_length,\n",
    "                 fancybox=True, frameon=False)\n",
    "ax1.add_artist(lgd1)\n",
    "\n",
    "#ax2.set_xscale(\"log\")\n",
    "ax2.set_yscale(\"log\")\n",
    "#ax2.set_xlabel(r'$\\log_{10}$( E / $GeV$ )', fontsize=fontsize+6)\n",
    "#ax2.set_ylabel(r'$ \\#$  Counts', fontsize=fontsize)\n",
    "ax2.tick_params(axis = 'both', which = 'major', labelsize=fontsize+6, direction='in')\n",
    "ax2.tick_params(axis = 'both', which = 'minor', labelsize=fontsize+6, direction='in')\n",
    "ax2.set_xlim(2, 6)\n",
    "ax2.set_ylim(1e0,1e6)\n",
    "h, l = ax2.get_legend_handles_labels()\n",
    "lgd1 = ax2.legend(h, l, loc=7, bbox_to_anchor=(0.8, 0.8),\n",
    "                 ncol=1, fontsize=fontsize+4, handlelength=h_length,\n",
    "                 fancybox=True, frameon=False)\n",
    "ax2.add_artist(lgd1)\n",
    "\n",
    "#ax3.set_xscale(\"log\")\n",
    "ax3.set_yscale(\"log\")\n",
    "ax3.set_xlabel(r'$\\log_{10}$( $E$ / $\\textrm{GeV}$ )', fontsize=fontsize+6)\n",
    "ax3.set_ylabel(r'$ \\#$  $Counts$', fontsize=fontsize+4)\n",
    "ax3.tick_params(axis = 'both', which = 'major', labelsize=fontsize+6, direction='in')\n",
    "ax3.tick_params(axis = 'both', which = 'minor', labelsize=fontsize+6, direction='in')\n",
    "ax3.set_xlim(2, 6)\n",
    "ax3.set_ylim(1e0,1e6)\n",
    "h, l = ax3.get_legend_handles_labels()\n",
    "lgd1 = ax3.legend(h, l, loc=7, bbox_to_anchor=(0.80, 0.85),\n",
    "                 ncol=1, fontsize=fontsize+4, handlelength=h_length,\n",
    "                 fancybox=True, frameon=False)\n",
    "ax3.add_artist(lgd1)\n",
    "\n",
    "ax4.set_yscale(\"log\")\n",
    "ax4.set_xlabel(r'$\\log_{10}$( $E$ / $\\textrm{GeV}$ )', fontsize=fontsize+6)\n",
    "#ax3.set_ylabel(r'$ \\#$  Counts', fontsize=fontsize)\n",
    "ax4.tick_params(axis = 'both', which = 'major', labelsize=fontsize+6, direction='in')\n",
    "ax4.tick_params(axis = 'both', which = 'minor', labelsize=fontsize+6, direction='in')\n",
    "ax4.set_xlim(2, 6)\n",
    "ax4.set_ylim(1e0,1e6)\n",
    "h, l = ax4.get_legend_handles_labels()\n",
    "lgd1 = ax4.legend(h, l, loc=7, bbox_to_anchor=(1.05, 0.85),\n",
    "                 ncol=1, fontsize=fontsize+4, handlelength=h_length,\n",
    "                 fancybox=True, frameon=False)\n",
    "ax4.add_artist(lgd1)\n",
    "\n",
    "legend_elements = [Line2D([0], [0], color=color_pone, lw=4, label=''),\n",
    "                   Line2D([0], [0], color=color_pone, linestyle='-.', lw=4, label=r'0.45, 0.25'),\n",
    "                   Line2D([0], [0], color=color_pone, linestyle='--', lw=4, label=r'0.35, 0.15'),\n",
    "                   Line2D([0], [0], color=color_pone, linestyle=':', lw=4, label=r'0.25, 0.10'),\n",
    "                   Line2D([0], [0], color=color_pone, linestyle='*', lw=4, label=r'0.15, 0.09'),\n",
    "                  ]\n",
    "lgd1 = ax4.legend( legend_elements, loc=7, bbox_to_anchor=(09., 1.5),\n",
    "                 ncol=1, fontsize=fontsize+4, handlelength=h_length,\n",
    "                 fancybox=True, frameon=False)\n",
    "ax4.add_artist(lgd1)\n",
    "\n",
    "\n",
    "\n",
    "# ---------------------\n",
    "# ---------------------------------------------\n",
    "# Showing the image\n",
    "plt.show()\n",
    "fig.savefig(PICS + \"Final_signal\"+\".png\",\n",
    "               bbox_inches='tight', dpi=export_dpi, facecolor='white')"
   ]
  },
  {
   "cell_type": "code",
   "execution_count": null,
   "id": "0060c2ac",
   "metadata": {},
   "outputs": [
    {
     "data": {
      "image/png": "[encoded data removed]",
      "text/plain": [
       "<Figure size 432x432 with 1 Axes>"
      ]
     },
     "metadata": {
      "needs_background": "light"
     },
     "output_type": "display_data"
    }
   ],
   "source": [
    "fig = plt.figure(figsize=(std_size,std_size))\n",
    "gs = fig.add_gridspec(1, 1, wspace=0.07)\n",
    "(ax1) = gs.subplots( sharex=True, sharey=True)\n",
    "# $<\\sigma\\nu>$=%.1e $cm^{3}s^{-1},sv_grid[6]\n",
    "#ax1.step(pdm._shower_sim.egrid[-len(pdm._signal_data[-1][-1]):],\n",
    "#signal_comb[-1][0],'-',\n",
    "#         label=r'$m_{x}$=%.1eGeV , $<\\sigma\\nu>$=%.1e$cm^{3}s^{-1}$'%(mass_grid[4],sv_grid[0]))\n",
    "#ax1.step(pdm._shower_sim.egrid[-len(pdm._signal_data['numu'][6][0]):], pdm._signal_data['numu'][6][0],'-',\n",
    "#         label=r'$m_{x}$=%.1eGeV , $<\\sigma\\nu>$=%.1e$cm^{3}s^{-1}$'%(mass_grid[0],sv_grid[6]))\n",
    "\n",
    "#ax1.step(pdm._shower_sim.egrid[-len(pdm._signal_data['numu'][6][4]):], pdm._signal_data['numu'][6][4],'-',\n",
    "#         label=r'$m_{x}$=%.1eGeV , $<\\sigma\\nu>$=%.1e$cm^{3}s^{-1}$'%(mass_grid[4],sv_grid[6]))\n",
    "\n",
    "#ax1.step(pdm._shower_sim.egrid[-len(pdm._signal_data['numu'][6][8]):], pdm._signal_data['numu'][6][8],'-',\n",
    "#        label=r'$m_{x}$=%.1eGeV , $<\\sigma\\nu>$=%.1e$cm^{3}s^{-1}$'%(mass_grid[8],sv_grid[6]))\n",
    "\n",
    "#ax1.step(pdm._shower_sim.egrid[-len(pdm._signal_data['numu'][6][0]):], signal_com_un[\"numu\"][6][0],'-',\n",
    "#         label=r' IceCube $m_{x}$=%.1eGeV , $<\\sigma\\nu>$=%.1e$cm^{3}s^{-1}$'%(mass_grid[0],sv_grid[6]))\n",
    "\n",
    "ax1.step(np.log10(pdm._shower_sim.egrid[-len(pdm._signal_data['numu'][6][0]):]), signal_pone_un[\"numu\"][6][2], color='b', linestyle='-',\n",
    "         label=r'$m_{x}=%.1e$ $GeV$' % (mass_grid[2]))\n",
    "ax1.step(np.log10(pdm._shower_sim.egrid[-len(pdm._signal_data['numu'][6][0]):]), signal_pone_un[\"numu\"][6][4], color=color_4, linestyle='-',\n",
    "         label=r'$m_{x}=%.1e$ $GeV$' % (mass_grid[4]))\n",
    "ax1.step(np.log10(pdm._shower_sim.egrid[-len(pdm._signal_data['numu'][6][0]):]), signal_pone_un[\"numu\"][6][-1], color=color_6, linestyle='-',\n",
    "         label=r'$m_{x}=%.1e$ $GeV$' % (mass_grid[-1]))\n",
    "\n",
    "\n",
    "ax1.step(np.log10(pdm._shower_sim.egrid[-len(pdm._signal_data['numu'][6][0]):]), signal_com_un[\"numu\"][6][2], color='b', linestyle='-.')#,\n",
    "         #label=r'$m_{x}=%.1e$ $GeV$' % (mass_grid[2]))\n",
    "ax1.step(np.log10(pdm._shower_sim.egrid[-len(pdm._signal_data['numu'][6][0]):]), signal_com_un[\"numu\"][6][4], color=color_4, linestyle='-.')#,\n",
    "         #label=r'$m_{x}=%.1e$ $GeV$' % (mass_grid[4]))\n",
    "ax1.step(np.log10(pdm._shower_sim.egrid[-len(pdm._signal_data['numu'][6][0]):]), signal_com_un[\"numu\"][6][-1], color=color_6, linestyle='-.')#,\n",
    "         #label=r'$m_{x}=%.1e$ $GeV$' % (mass_grid[-1]))\n",
    "\n",
    "ax1.step(np.log10(pdm._shower_sim.egrid[-len(pdm._signal_data['numu'][6][0]):]), signal_ice[6][2], color='b', linestyle=':')#,\n",
    "         #label=r'$m_{x}=%.1e$ $GeV$' % (mass_grid[2]))\n",
    "ax1.step(np.log10(pdm._shower_sim.egrid[-len(pdm._signal_data['numu'][6][0]):]), signal_ice[6][4], color=color_4, linestyle=':')#,\n",
    "         #label=r'$m_{x}=%.1e$ $GeV$' % (mass_grid[4]))\n",
    "ax1.step(np.log10(pdm._shower_sim.egrid[-len(pdm._signal_data['numu'][6][0]):]), signal_ice[6][-1], color=color_6, linestyle=':')#,\n",
    "         #label=r'$m_{x}=%.1e$ $GeV$' % (mass_grid[-1]))\n",
    "\n",
    "\n",
    "\n",
    "\n",
    "#ax3.step(np.log10(pdm._shower_sim.egrid[-len(pdm._signal_data['numu'][6][0]):]), signal_com_un[\"numu\"][6][2], color='b', linestyle='-')#,\n",
    "#         #label=r'$m_{x}=%.1e$ $GeV$' % (mass_grid[2]))\n",
    "#ax3.step(np.log10(pdm._shower_sim.egrid[-len(pdm._signal_data['numu'][6][0]):]), signal_com_un[\"numu\"][6][4], color=color_4, linestyle='-')#,\n",
    "#         #label=r'$m_{x}=%.1e$ $GeV$' % (mass_grid[4]))\n",
    "#ax3.step(np.log10(pdm._shower_sim.egrid[-len(pdm._signal_data['numu'][6][0]):]), signal_com_un[\"numu\"][6][-1], color=color_6, linestyle='-')#,\n",
    "#         #label=r'$m_{x}=%.1e$ $GeV$' % (mass_grid[-1]))\n",
    "#\n",
    "#ax2.step(np.log10(pdm._shower_sim.egrid[-len(pdm._signal_data['numu'][6][0]):]), signal_ice[6][2], color='b', linestyle='-')#,\n",
    "#         #label=r'$m_{x}=%.1e$ $GeV$' % (mass_grid[2]))\n",
    "#ax2.step(np.log10(pdm._shower_sim.egrid[-len(pdm._signal_data['numu'][6][0]):]), signal_ice[6][4], color=color_4, linestyle='-')#,\n",
    "#         #label=r'$m_{x}=%.1e$ $GeV$' % (mass_grid[4]))\n",
    "#ax2.step(np.log10(pdm._shower_sim.egrid[-len(pdm._signal_data['numu'][6][0]):]), signal_ice[6][-1], color=color_6, linestyle='-')#,\n",
    "#         #label=r'$m_{x}=%.1e$ $GeV$' % (mass_grid[-1]))\n",
    "\n",
    "\n",
    "#ax1.step(pdm._shower_sim.egrid[-len(pdm._signal_data['numu'][6][0]):], signal_ice[6][2],'-',\n",
    "#         label=r'$m_{x}=%.1e$ $GeV$' % (mass_grid[2]))\n",
    "#ax1.step(pdm._shower_sim.egrid[-len(pdm._signal_data['numu'][6][0]):], signal_ice[6][2],'--',\n",
    "#         label=r'$m_{x}=%.1e$ $GeV$' % (mass_grid[2]))\n",
    "#ax1.step(pdm._shower_sim.egrid[-len(pdm._signal_data['numu'][6][0]):], signal_ice[6][2],'-.',\n",
    "#         label=r'$m_{x}=%.1e$ $GeV$' % (mass_grid[2]))\n",
    "\n",
    "\n",
    "\n",
    "#ax1.step(pdm._shower_sim._egrid, pdm.bkgrd['numu'],'-', label='Background P-ONE un-Smeared')\n",
    "ax1.step(np.log10(pdm._shower_sim._egrid), background_pone_unsm['numu'], '-', color=color_pone, label=r'P-ONE')\n",
    "#ax3.step(np.log10(pdm._shower_sim._egrid), back_comb['numu'], '-', color=color_combined, label=r'Combined')\n",
    "#ax2.step(np.log10(pdm._shower_sim._egrid), np.sum(background_ic['numu'],axis=0), color=color_ice, linestyle='-', label=r'IceCube')\n",
    "\n",
    "#ax1.set_xscale(\"log\")\n",
    "ax1.set_yscale(\"log\")\n",
    "ax1.set_xlabel(r'$\\log_{10}$( E / $\\textrm{GeV}$ )', fontsize=fontsize)\n",
    "ax1.set_ylabel(r'$ \\#$  Counts', fontsize=fontsize)\n",
    "ax1.tick_params(axis = 'both', which = 'major', labelsize=fontsize, direction='in')\n",
    "ax1.tick_params(axis = 'both', which = 'minor', labelsize=fontsize, direction='in')\n",
    "ax1.set_xlim(2, 6)\n",
    "ax1.set_ylim(1e0,1e6)\n",
    "h, l = ax1.get_legend_handles_labels()\n",
    "lgd1 = ax1.legend(h, l, loc=7, bbox_to_anchor=(1.03, +1.1),\n",
    "                 ncol=2, fontsize=fontsize, handlelength=h_length,\n",
    "                 fancybox=True, frameon=False)\n",
    "ax1.add_artist(lgd1)\n",
    "\n",
    "#ax2.set_xscale(\"log\")\n",
    "#ax2.set_yscale(\"log\")\n",
    "#ax2.set_xlabel(r'$\\log_{10}$( E / $GeV$ )', fontsize=fontsize)\n",
    "#ax2.set_ylabel(r'$ \\#$  Counts', fontsize=fontsize)\n",
    "#ax2.tick_params(axis = 'both', which = 'major', labelsize=fontsize, direction='in')\n",
    "#ax2.tick_params(axis = 'both', which = 'minor', labelsize=fontsize, direction='in')\n",
    "#ax2.set_xlim(2, 6)\n",
    "#ax2.set_ylim(1e0,1e6)\n",
    "#h, l = ax2.get_legend_handles_labels()\n",
    "#lgd1 = ax2.legend(h, l, loc=7, bbox_to_anchor=(0.4, 1.065),\n",
    "#                 ncol=1, fontsize=fontsize, handlelength=h_length,\n",
    "#                 fancybox=True, frameon=False)\n",
    "#ax2.add_artist(lgd1)\n",
    "\n",
    "#ax3.set_xscale(\"log\")\n",
    "#ax3.set_yscale(\"log\")\n",
    "#ax3.set_xlabel(r'$\\log_{10}$( E / $GeV$ )', fontsize=fontsize)\n",
    "##ax3.set_ylabel(r'$ \\#$  Counts', fontsize=fontsize)\n",
    "#ax3.tick_params(axis = 'both', which = 'major', labelsize=fontsize, direction='in')\n",
    "#ax3.tick_params(axis = 'both', which = 'minor', labelsize=fontsize, direction='in')\n",
    "#ax3.set_xlim(2, 6)#\n",
    "#ax3.set_ylim(1e0,1e6)\n",
    "#h, l = ax3.get_legend_handles_labels()\n",
    "#lgd1 = ax3.legend(h, l, loc=7, bbox_to_anchor=(0.40, 1.065),\n",
    "#                 ncol=1, fontsize=fontsize, handlelength=h_length,\n",
    "#                 fancybox=True, frameon=False)\n",
    "#ax3.add_artist(lgd1)\n",
    "# ---------------------------------------------\n",
    "#fig.savefig(PICS + \"Final_signal\"+\".png\",\n",
    "#               bbox_inches='tight', dpi=export_dpi, facecolor='white')\n",
    "plt.show()"
   ]
  },
  {
   "cell_type": "code",
   "execution_count": null,
   "id": "185a1fb8",
   "metadata": {},
   "outputs": [
    {
     "data": {
      "text/plain": [
       "(31575.835465356133, 30598.383915000224)"
      ]
     },
     "execution_count": 41,
     "metadata": {},
     "output_type": "execute_result"
    }
   ],
   "source": [
    "np.sum(signal_pone_un[\"numu\"][6][3]), np.sum(signal_ice[6][3])"
   ]
  },
  {
   "cell_type": "code",
   "execution_count": null,
   "id": "878f46ac",
   "metadata": {},
   "outputs": [],
   "source": []
  },
  {
   "cell_type": "code",
   "execution_count": null,
   "id": "c868322c",
   "metadata": {},
   "outputs": [],
   "source": [
    "flux={}\n",
    "flux[15]={}\n",
    "flux[85]={}\n",
    "flux[120]={}\n",
    "flux[15]['numu'] = (dphi_4(pdm._shower_sim.egrid)) * pdm._shower_sim._egrid**(-2)\n",
    "flux[85]['numu'] = flux[15]['numu']\n",
    "flux[120]['numu'] = flux[15]['numu']\n",
    "flux[15]['nue']=flux[85]['nue']=flux[120]['nue']=flux[15]['nutau']=flux[85]['nutau']=flux[120]['nutau']=flux[15]['numu']\n",
    "#_lit=pdm._Detector.sim2dec(flux,True)[\"numu\"]\n"
   ]
  },
  {
   "cell_type": "code",
   "execution_count": null,
   "metadata": {},
   "outputs": [],
   "source": [
    "# Loading comparison data\n",
    "th_cl = np.loadtxt(open(\"../data/thermal_relic.csv\"), delimiter = \",\")\n",
    "unitarity = np.loadtxt(open('../data/Unitarity_bound.csv'), delimiter = ',')\n",
    "cl_lit = np.loadtxt('../data/CL_PONE.csv', delimiter=\",\")\n",
    "cl_lit = (cl_lit[cl_lit[:, 0].argsort()])\n",
    "unitarity = (unitarity[unitarity[:, 0].argsort()])\n",
    "\n",
    "limits_ice = pickle.load(open('/home/kruteesh/Desktop/dm_data_server/28_03_desk/data/limits_results_IceCube.pkl','rb'))\n",
    "limits_pone_unsm = pickle.load(open(\"../data/28_03_02/unsmeared/limits_results_POne_unsm.pkl\",\"rb\"))\n",
    "limits_com = pickle.load(open(\"/home/kruteesh/Desktop/dm_data_server/14_03/data/limits_results.pkl\", \"rb\"))\n",
    "limits_pone_unsm = pickle.load(open(\"../data/28_03_02/unsmeared/limits_results_POne_unsm.pkl\",\"rb\"))\n",
    "\n",
    "cl_lit_ice = np.loadtxt('../data/IceCube_HE.csv', delimiter=\",\")\n",
    "cl_lit_ice = (cl_lit_ice[cl_lit_ice[:, 0].argsort()])\n",
    "xx,yy = np.meshgrid(np.log10( np.logspace(1, 6, 20)),np.log10( np.logspace(1, 6, 20)))"
   ]
  },
  {
   "cell_type": "code",
   "execution_count": null,
   "id": "885ecf12",
   "metadata": {},
   "outputs": [],
   "source": [
    "#signal_count_sim = pdm._signal.signal_calc(pdm._shower_sim.egrid,mass_grid[mass_id],sv_grid[sv_id])"
   ]
  },
  {
   "cell_type": "code",
   "execution_count": null,
   "id": "deef3dcb",
   "metadata": {},
   "outputs": [],
   "source": [
    "#ratio_c = (signal_count_sim[\"numu\"] /       \n",
    "#            pdm._limit_calc._bkgrd['numu'])"
   ]
  },
  {
   "cell_type": "code",
   "execution_count": null,
   "id": "63fe3ae8",
   "metadata": {},
   "outputs": [],
   "source": [
    "#ratio_c"
   ]
  },
  {
   "cell_type": "code",
   "execution_count": null,
   "id": "eb78c8f4",
   "metadata": {},
   "outputs": [],
   "source": [
    "#plt.title('scaling correction'+str(config['advanced']['scaling correction'])+' P-ONE Signal to Background ratios, m=%.1e, sv=%.1e'%(mass_grid[mass_id],sv_grid[sv_id]))\n",
    "#plt.loglog(pdm._shower_sim.egrid,ratio,label='flux ratio') \n",
    "#plt.loglog(pdm._shower_sim.egrid,ratio_c,'o',label='counts ratio')\n",
    "#plt.legend()\n",
    "#plt.grid()\n",
    "#plt.xlabel('E [GeV]')\n",
    "#plt.ylabel('Ratio')"
   ]
  },
  {
   "cell_type": "markdown",
   "id": "7c2635b2",
   "metadata": {},
   "source": [
    "# Fill through function for the band between smeared and unsmeared combined limits !!!!!!!! "
   ]
  },
  {
   "cell_type": "code",
   "execution_count": null,
   "metadata": {},
   "outputs": [
    {
     "data": {
      "image/png": "[encoded data removed]",
      "text/plain": [
       "<Figure size 432x432 with 1 Axes>"
      ]
     },
     "metadata": {
      "needs_background": "light"
     },
     "output_type": "display_data"
    }
   ],
   "source": [
    "color = ['black', 'orange', 'purple']\n",
    "color_sm = ['red', 'crimson', 'blue']\n",
    "ll = ['-.', '--', '-.']\n",
    "figure, (ax1) = plt.subplots(1, 1, figsize=(std_size,std_size), sharex=True)  # std_size, std_size * 6. / 8.),\n",
    "for j,i in enumerate(config[\"pone\"][\"specific particle scaling\"].keys()):\n",
    "    # Limits\n",
    "    # ---------------------------------------------\n",
    "    # Setup\n",
    "\n",
    "    \n",
    "    # ---------------------------------------------\n",
    "    # Plotting\n",
    "    #plt.title('P-ONE Limits Results',fontsize=fontsize)  # +' Scaling Correction = '+str(config['advanced']['scaling correction'])\n",
    "    \n",
    "    ax1.contour(pdm.results[i], levels = [0.9], colors=color[j],  linestyles='-',\n",
    "               origin='lower', extent=(min(np.log10(mass_grid)), max(np.log10(mass_grid)),\n",
    "                                       min(np.log10(sv_grid)), max(np.log10(sv_grid))))\n",
    "    ax1.contour(limits_com[i], levels = [0.9], colors=color_sm[j],  linestyles=ll[j],\n",
    "                origin='lower', extent=(min(np.log10(mass_grid)), max(np.log10(mass_grid)),\n",
    "                                        min(np.log10(sv_grid)), max(np.log10(sv_grid))))\n",
    "    break\n",
    "ax1.contour(limits_ice[\"numu\"], levels=[0.9], colors='yellow',origin='lower',linestyles='-',\n",
    "                            extent=(min(np.log10(mass_grid)), max(np.log10(mass_grid)),\n",
    "                                    min(np.log10(sv_grid)), max(np.log10(sv_grid))))#\n",
    "#ax1.contour(limits_pone_unsm[\"numu\"], levels=[0.9], colors='green',origin='lower',linestyles='-.',\n",
    "#                            extent=(min(np.log10(mass_grid)), max(np.log10(mass_grid)),\n",
    "#                                    min(np.log10(sv_grid)), max(np.log10(sv_grid))))\n",
    "ax1.plot(np.log10(cl_lit[:, 0]), np.log10(cl_lit[:, 1]), 'g', label='literature P-ONE')\n",
    "ax1.plot(np.log10(cl_lit_ice[:, 0]), np.log10(cl_lit_ice[:, 1]),'m',label='literature  IceCube')\n",
    "ax1.plot(np.log10(th_cl[:, 0]), np.log10(th_cl[:, 1]), 'b', \n",
    "         label='Thermal Relic Abundance')\n",
    "ax1.plot(np.log10(unitarity[:, 0]), np.log10(unitarity[:, 1]), '.k', \n",
    "         label='Unitarity Bound')\n",
    "# ---------------------------------------------\n",
    "# Axis options\n",
    "ax1.set_xscale(\"linear\")\n",
    "ax1.set_yscale(\"linear\")\n",
    "ax1.set_xlabel(r\"$\\log$ $m_{\\chi}$[\\textrm{GeV}]\", fontsize=fontsize)\n",
    "ax1.set_ylabel(r\"$\\log$ $<\\sigma \\nu$>[$cm^{3} s^{-1}$]\", fontsize=fontsize)\n",
    "ax1.tick_params(axis = 'both', which = 'major', labelsize=fontsize)\n",
    "ax1.tick_params(axis = 'both', which = 'minor', labelsize=fontsize)\n",
    "ax1.set_xlim(2.8, max(np.log10(mass_grid)))\n",
    "ax1.set_ylim(min(np.log10(sv_grid)), -21)  # \n",
    "#ax1.text(3.5, -23.7, \"IceCube Simulation\", fontsize=fontsize)\n",
    "\n",
    "#ax1.text(3.2, -24.8, r\"P-ONE $\\nu_\\mu$\", fontsize=fontsize)\n",
    "#ax1.text(3.2, -24.9, r\" $\\nu_e$\", fontsize=fontsize)\n",
    "#ax1.text(3.1, -25.3, r\" $\\nu_\\tau$\", fontsize=fontsize)\n",
    "\n",
    "# ---------------------------------------------\n",
    "# Legend\n",
    "# plt.legend(fontsize=fontsize)\n",
    "h, l = ax1.get_legend_handles_labels()\n",
    "lgd1 = ax1.legend(h, l, loc=7, bbox_to_anchor=(1.09, +1.09),\n",
    "                 ncol=2, fontsize=fontsize, handlelength=h_length,\n",
    "                 fancybox=True, frameon=False)\n",
    "ax1.add_artist(lgd1)\n",
    "plt.grid()\n",
    "# ---------------------------------------------\n",
    "# Showing the image\n",
    "plt.show()\n",
    "# ---------------------------------------------\n",
    "# Storing the image\n",
    "figure.savefig(PICS + \"Limits_Example_all\"+\".png\",\n",
    "               bbox_inches='tight', dpi=export_dpi)\n"
   ]
  },
  {
   "cell_type": "code",
   "execution_count": null,
   "id": "06e4c7e0",
   "metadata": {},
   "outputs": [],
   "source": [
    "#pickle.dump(pdm.results, open('../data/_smea_limits.pkl', 'wb'))"
   ]
  },
  {
   "cell_type": "code",
   "execution_count": null,
   "metadata": {},
   "outputs": [
    {
     "name": "stderr",
     "output_type": "stream",
     "text": [
      "/tmp/ipykernel_35431/4088620579.py:18: UserWarning: The following kwargs were not used by contour: 'legend'\n",
      "  ax1.contour(limits_ice[\"numu\"], levels=[0.9], colors='red',origin='lower',\n",
      "findfont: Font family ['sans-serif'] not found. Falling back to DejaVu Sans.\n"
     ]
    },
    {
     "data": {
      "image/png": "[encoded data removed]",
      "text/plain": [
       "<Figure size 432x324 with 1 Axes>"
      ]
     },
     "metadata": {
      "needs_background": "light"
     },
     "output_type": "display_data"
    }
   ],
   "source": [
    "# All Limits-------------------------------------------\n",
    "# Setup\n",
    "figure, (ax1) = plt.subplots(1, 1, figsize=(std_size, std_size * 6. / 8.), sharex=True)\n",
    "# ---------------------------------------------\n",
    "# Plotting\n",
    "ax1.contour(pdm.results[\"numu\"], levels = [0.9], colors='purple', linestyles='-',\n",
    "            origin='lower', extent=(min(np.log10(mass_grid)), max(np.log10(mass_grid)),\n",
    "                                    min(np.log10(sv_grid)), max(np.log10(sv_grid))))\n",
    "ax1.contour(pdm.results[\"nue\"], levels = [0.9], colors='purple', linestyles='--',\n",
    "            origin='lower', extent=(min(np.log10(mass_grid)), max(np.log10(mass_grid)), \n",
    "                                    min(np.log10(sv_grid)), max(np.log10(sv_grid))))\n",
    "ax1.contour(pdm.results[\"nutau\"], levels = [0.9], colors='purple', linestyles='-.',\n",
    "            origin='lower', extent=(min(np.log10(mass_grid)), max(np.log10(mass_grid)),\n",
    "                                    min(np.log10(sv_grid)), max(np.log10(sv_grid))))\n",
    "#ax1.plot(np.log10(cl_lit[:, 0]), np.log10(cl_lit[:, 1]), 'g', label='literature 90% C.L')\n",
    "ax1.plot(np.log10(th_cl[:, 0]), np.log10(th_cl[:, 1]), 'b', \n",
    "         label='literature Thermal Relic Abundance')\n",
    "ax1.contour(limits_ice[\"numu\"], levels=[0.9], colors='red',origin='lower',\n",
    "                                extent=(min(np.log10(mass_grid)), max(np.log10(mass_grid)),\n",
    "                                        min(np.log10(sv_grid)), max(np.log10(sv_grid))), legend='IceCube')\n",
    "ax1.plot(np.log10(cl_lit[:, 0]), np.log10(cl_lit[:, 1]), 'g', label='literature 90% C.L P-ONE')\n",
    "ax1.plot(np.log10(cl_lit_ice[:, 0]), np.log10(cl_lit_ice[:, 1]), label='literature 90% C.L IceCube')\n",
    "# ---------------------------------------------\n",
    "# Axis options\n",
    "ax1.set_xscale(\"linear\")\n",
    "ax1.set_yscale(\"linear\")\n",
    "ax1.set_xlabel(r\"log $m_{\\chi}$\", fontsize=fontsize)\n",
    "ax1.set_ylabel(r\"log <$\\sigma\\nu$>\", fontsize=fontsize)\n",
    "ax1.tick_params(axis = 'both', which = 'major', labelsize=fontsize-5, direction='in')\n",
    "ax1.tick_params(axis = 'both', which = 'minor', labelsize=fontsize-5, direction='in')\n",
    "ax1.set_xlim(min(np.log10(mass_grid)), max(np.log10(mass_grid)))\n",
    "ax1.set_ylim(min(np.log10(sv_grid)),-23.0)\n",
    "# ---------------------------------------------\n",
    "# Legend\n",
    "# plt.legend(fontsize=fontsize)\n",
    "h, l = ax1.get_legend_handles_labels()\n",
    "lgd1 = ax1.legend(h, l, loc=9, bbox_to_anchor=(0.4, +1.),\n",
    "                 ncol=1, fontsize=fontsize-3, handlelength=h_length,\n",
    "                 fancybox=True, frameon=False)\n",
    "ax1.add_artist(lgd1)\n",
    "# ---------------------------------------------\n",
    "ax1.text(3.5, -23.7, \"IceCube\", fontsize=fontsize)\n",
    "ax1.text(3.4, -24.4, \"P-ONE\", fontsize=fontsize)\n",
    "ax1.text(3.2, -24.3, r\"$\\nu_\\mu$\", fontsize=fontsize)\n",
    "ax1.text(3.2, -24.9, r\"$\\nu_e$\", fontsize=fontsize)\n",
    "ax1.text(3.1, -25.3, r\"$\\nu_\\tau$\", fontsize=fontsize)\n",
    "ax1.text(4.2, -25.5, \"Thermal Relic Abundance\", fontsize=fontsize)\n",
    "plt.grid()\n",
    "# ---------------------------------------------\n",
    "# Showing the image\n",
    "plt.show()\n",
    "# ---------------------------------------------\n",
    "# Storing the image\n",
    "figure.savefig(PICS + \"All_Limits.png\",\n",
    "               bbox_inches='tight', dpi=export_dpi)"
   ]
  },
  {
   "cell_type": "code",
   "execution_count": null,
   "id": "d26bbfe6",
   "metadata": {},
   "outputs": [],
   "source": []
  },
  {
   "cell_type": "code",
   "execution_count": null,
   "id": "afefaab3",
   "metadata": {},
   "outputs": [
    {
     "data": {
      "image/png": "[encoded data removed]",
      "text/plain": [
       "<Figure size 432x288 with 1 Axes>"
      ]
     },
     "metadata": {
      "needs_background": "light"
     },
     "output_type": "display_data"
    }
   ],
   "source": [
    "samples = np.random.lognormal(4, 0.3 * 4., 1000)\n",
    "count, bins, ignored = plt.hist(samples, 100, density=False, align='mid')"
   ]
  },
  {
   "cell_type": "code",
   "execution_count": null,
   "id": "af7c9a46",
   "metadata": {},
   "outputs": [],
   "source": [
    "mid_e_grid = np.logspace(3, 4, 100)"
   ]
  },
  {
   "cell_type": "code",
   "execution_count": null,
   "id": "bb9e3d4e",
   "metadata": {},
   "outputs": [],
   "source": [
    "spl_mid_mean = UnivariateSpline([1e3, 1e4], [700., 1e4], k=1)\n",
    "spl_mid_sigma = UnivariateSpline([1e3, 1e4], [0.45, 0.35], k=1)"
   ]
  },
  {
   "cell_type": "code",
   "execution_count": null,
   "id": "27f978f5",
   "metadata": {},
   "outputs": [],
   "source": [
    "def local_log_normal(x, mu, sigma):\n",
    "    \"\"\"Distribution function \n",
    "    x = E_grid\n",
    "    mu = log(E) \n",
    "    sigma = fraction of E  ( so no fraction or percentage ) ( standard deviation as per definition )\n",
    "    \"\"\"\n",
    "    sigma = ( sigma  )\n",
    "    pdf = np.exp(-( np.log(x) - mu )**2 / (2 * sigma**2)) / (x * sigma * np.sqrt(2 * np.pi))\n",
    "\n",
    "    return pdf"
   ]
  },
  {
   "cell_type": "code",
   "execution_count": null,
   "id": "ce141083",
   "metadata": {},
   "outputs": [],
   "source": [
    "def distro_parms(Etrue):\n",
    "    \"\"\" Parameter estimation function depending  on the E_true\n",
    "    [mu] = [log(E/GeV)]\n",
    "    sigma = fraction of E \n",
    "    \"\"\"\n",
    "    if Etrue < 1e3:\n",
    "        mu = np.log(700)\n",
    "        sigma = 0.45 \n",
    "    elif 1e3 <= Etrue <= 1e4:\n",
    "        mu = np.log(spl_mid_mean(Etrue))\n",
    "        sigma = spl_mid_sigma(Etrue) \n",
    "    else:\n",
    "        mu = np.log(Etrue)\n",
    "        sigma = 0.35 \n",
    "    return mu, sigma\n",
    "\n",
    "\n",
    "#def smearing(Etrue, number_of_events, sampling_grid=hist_grid):\n",
    "#    mu, sigma = distro_parms(Etrue)\n",
    "#    return (\n",
    "#        np.nan_to_num(local_log_normal(sampling_grid, mu, sigma)) *\n",
    "#        number_of_events\n",
    "#    )\n"
   ]
  },
  {
   "cell_type": "code",
   "execution_count": null,
   "id": "306dccf6",
   "metadata": {},
   "outputs": [],
   "source": [
    "samples_fun = []\n",
    "samples = []\n",
    "for i,E in enumerate(pdm._shower_sim.egrid):\n",
    "    mu, sigma = distro_parms(E)\n",
    "    samples.append(np.random.lognormal((mu), sigma, len(e_grid))) # Axis0 = E, meaning the axis0 elements are the E_ture for which axis1 correspondece as distribution !!! Thats why transpose for imshow\n",
    "    samples_fun.append(np.nan_to_num(local_log_normal(e_grid, mu, sigma)))"
   ]
  },
  {
   "cell_type": "code",
   "execution_count": null,
   "id": "bf2d6fb5",
   "metadata": {},
   "outputs": [
    {
     "data": {
      "text/plain": [
       "array([ 841.43823749,  917.90096924,  822.03635796,  671.47430555,\n",
       "        372.52684125,  253.80693896,  926.03371171,  983.24346842,\n",
       "       1156.2140898 , 1101.58892718,  583.06232345,  488.00262862,\n",
       "        623.74028464,  711.01484411,  752.60174113,  942.42160887,\n",
       "        742.03411905,  613.08717395,  768.04684056, 1045.7121874 ,\n",
       "        876.11535118,  413.81610904,  859.11641215,  519.05503674,\n",
       "        984.94943914, 1651.17376921,  565.09472021, 1002.37515249,\n",
       "        491.5359476 ,  996.49728072,  551.1901177 ,  624.10901223,\n",
       "        703.68755039,  681.79377688,  755.887246  ,  885.76278754,\n",
       "        763.10900999,  786.78686348, 1480.3348678 , 1294.82853061,\n",
       "        708.9119876 ,  784.11227684,  673.3739473 ,  896.46107924,\n",
       "       1069.78310125,  752.62940869,  745.71019869,  685.74243464,\n",
       "        850.34991793,  801.43228281,  843.24693723,  772.86099279,\n",
       "        685.43766008, 1252.3865731 , 1533.17857488, 1098.96317928,\n",
       "        380.20923037,  611.61124176, 1119.69920285,  929.9451993 ,\n",
       "       1568.31540537,  985.11597893,  604.45481013,  641.1254523 ,\n",
       "        792.16925104, 1191.38784904,  570.56376144, 1267.19397832,\n",
       "        678.15568786,  667.08389954,  644.84407349,  482.72467899,\n",
       "        545.60615504,  817.45474257,  760.50960705,  527.92398108,\n",
       "        561.68415217, 1031.16316006,  257.26293287,  414.65349735,\n",
       "        837.99640996, 2795.85486219,  767.83588468,  787.55047693,\n",
       "        525.49395   ,  649.89177348, 1014.86239932,  429.23955699,\n",
       "       1378.92388149,  715.55818422,  624.75646326,  687.85340892,\n",
       "        476.98786638,  962.95428377, 1045.70624295,  811.17189702,\n",
       "       1281.75541409,  446.07382551,  699.62663739,  400.50696648,\n",
       "        988.90182999,  769.05754075,  527.76408089,  622.8124002 ,\n",
       "        902.40743867,  256.48056803, 1063.45303734,  885.01296714,\n",
       "        711.29333707,  590.65727019,  892.22275343, 1314.1222192 ,\n",
       "        872.72309105, 1879.20206924,  570.55408511,  801.3377875 ,\n",
       "       1339.61307385,  912.69150611,  800.47118993,  631.52440948,\n",
       "        363.05303357])"
      ]
     },
     "execution_count": 57,
     "metadata": {},
     "output_type": "execute_result"
    }
   ],
   "source": [
    "samples[0]"
   ]
  },
  {
   "cell_type": "code",
   "execution_count": null,
   "id": "963a5c4d",
   "metadata": {},
   "outputs": [
    {
     "data": {
      "image/png": "[encoded data removed]",
      "text/plain": [
       "<Figure size 432x324 with 1 Axes>"
      ]
     },
     "metadata": {
      "needs_background": "light"
     },
     "output_type": "display_data"
    }
   ],
   "source": [
    "figure, (ax1) = plt.subplots(1, 1, figsize=(std_size, std_size * 6./8. ), sharex=True)\n",
    "z_p=ax1.imshow((np.array(samples_fun).T)*e_grid, origin='lower', extent=( min(np.log10(e_grid)), max(np.log10(e_grid)), min(np.log10(e_grid)), max(np.log10(e_grid)) ), cmap=plt.get_cmap('bone_r'))\n",
    "#figure.colorbar(z_p, ax=(ax1))\n",
    "ax1.contour(np.array(samples_fun*e_grid).T, levels = [0.68], colors='red', linestyles='-',\n",
    "            origin='lower', extent=( min(np.log10(e_grid)), max(np.log10(e_grid)), min(np.log10(e_grid)), max(np.log10(e_grid))) )\n",
    "#ax1.contour((samples_fun*e_grid).T, levels = [1.2], colors='purple', linestyles='-',\n",
    "#            origin='lower', extent=( min(np.log10(e_grid)), max(np.log10(e_grid)), min(np.log10(e_grid)), max(np.log10(e_grid))) )\n",
    "\n",
    "\n",
    "ax1.set_xlabel(r\"$\\log_{10}$ $E_{true} / \\textrm{GeV}$\", fontsize=fontsize)\n",
    "ax1.set_ylabel(r\"$\\log_{10}$ $E_{Recon} / \\textrm{GeV}$\", fontsize=fontsize)\n",
    "#ax1.set_ylabel(r\"Distribution fraction\", fontsize=fontsize)\n",
    "ax1.tick_params(axis = 'both', which = 'major', labelsize=fontsize, direction='in')\n",
    "ax1.tick_params(axis = 'both', which = 'minor', labelsize=fontsize, direction='in')\n",
    "ax1.set_xlim(2,8)\n",
    "ax1.set_ylim(2,8)\n",
    "# ---------------------------------------------\n",
    "# Legend\n",
    "# plt.legend(fontsize=fontsize)\n",
    "h, l = ax1.get_legend_handles_labels()\n",
    "lgd1 = ax1.legend(h, l, loc=9, bbox_to_anchor=(0.4, +1.),\n",
    "                 ncol=1, fontsize=fontsize, handlelength=h_length,\n",
    "                 fancybox=True, frameon=False)\n",
    "ax1.add_artist(lgd1)\n",
    "figure.savefig(PICS + \"Reconstruction_\"+\".png\",\n",
    "               bbox_inches='tight', dpi=export_dpi, facecolor='white')\n"
   ]
  },
  {
   "cell_type": "code",
   "execution_count": null,
   "id": "30bae56c",
   "metadata": {},
   "outputs": [],
   "source": [
    "cmap_string= ['Accent', 'Accent_r', 'Blues', 'Blues_r', 'BrBG', 'BrBG_r', 'BuGn', 'BuGn_r', 'BuPu', 'BuPu_r', 'CMRmap', 'CMRmap_r', 'Dark2',\n",
    "'Dark2_r', 'GnBu', 'GnBu_r', 'Greens', 'Greens_r', 'Greys', 'Greys_r', 'OrRd', 'OrRd_r', 'Oranges', 'Oranges_r', 'PRGn', 'PRGn_r',\n",
    "'Paired', 'Paired_r', 'Pastel1', 'Pastel1_r', 'Pastel2', 'Pastel2_r', 'PiYG', 'PiYG_r', 'PuBu', 'PuBuGn', 'PuBuGn_r', 'PuBu_r', 'PuOr', \n",
    "'PuOr_r', 'PuRd', 'PuRd_r', 'Purples', 'Purples_r', 'RdBu', 'RdBu_r', 'RdGy', 'RdGy_r', 'RdPu', 'RdPu_r', 'RdYlBu', 'RdYlBu_r', 'RdYlGn', 'RdYlGn_r', \n",
    "'Reds', 'Reds_r', 'Set1', 'Set1_r', 'Set2', 'Set2_r', 'Set3', 'Set3_r', 'Spectral', 'Spectral_r', 'Wistia', 'Wistia_r', 'YlGn', 'YlGnBu', 'YlGnBu_r', 'YlGn_r', \n",
    "'YlOrBr', 'YlOrBr_r', 'YlOrRd', 'YlOrRd_r', 'afmhot', 'afmhot_r', 'autumn', 'autumn_r', 'binary', 'binary_r', 'bone', 'bone_r', 'brg', 'brg_r', 'bwr', 'bwr_r', 'cividis', \n",
    "'cividis_r', 'cool', 'cool_r', 'coolwarm', 'coolwarm_r', 'copper', 'copper_r', 'cubehelix', 'cubehelix_r', 'flag', 'flag_r', 'gist_earth', 'gist_earth_r', 'gist_gray', 'gist_gray_r', \n",
    "'gist_heat', 'gist_heat_r', 'gist_ncar', 'gist_ncar_r', 'gist_rainbow', 'gist_rainbow_r', 'gist_stern', 'gist_stern_r', 'gist_yarg', 'gist_yarg_r', 'gnuplot', 'gnuplot2', 'gnuplot2_r', \n",
    "'gnuplot_r', 'gray', 'gray_r', 'hot', 'hot_r', 'hsv', 'hsv_r', 'inferno', 'inferno_r', 'jet', 'jet_r', 'magma', 'magma_r', 'nipy_spectral', 'nipy_spectral_r', 'ocean', 'ocean_r', 'pink',\n",
    "'pink_r', 'plasma', 'plasma_r', 'prism', 'prism_r', 'rainbow', 'rainbow_r', 'seismic', 'seismic_r', 'spring', 'spring_r', 'summer', 'summer_r', 'tab10', 'tab10_r', 'tab20', 'tab20_r', \n",
    "'tab20b', 'tab20b_r', 'tab20c', 'tab20c_r', 'terrain', 'terrain_r', 'turbo', 'turbo_r', 'twilight', 'twilight_r', 'twilight_shifted', 'twilight_shifted_r', 'viridis', 'viridis_r', \n",
    "'winter', 'winter_r']\n"
   ]
  },
  {
   "cell_type": "code",
   "execution_count": null,
   "id": "128e7116",
   "metadata": {},
   "outputs": [
    {
     "name": "stdout",
     "output_type": "stream",
     "text": [
      "1.008859951546397\n",
      "1.008859951546397\n",
      "1.008859951546397\n",
      "1.008859951546397\n",
      "1.008859951546397\n",
      "1.008859951546397\n",
      "1.008859951546397\n",
      "1.008859951546397\n",
      "1.008859951546397\n",
      "1.008859951546397\n",
      "1.008859951546397\n",
      "1.008859951546397\n",
      "1.008859951546397\n",
      "1.008859951546397\n",
      "1.008859951546397\n",
      "1.008859951546397\n",
      "1.008859951546397\n",
      "1.008859951546397\n",
      "1.008859951546397\n",
      "1.008859951546397\n",
      "1.008859951546397\n",
      "1.008859951546397\n",
      "1.008859951546397\n",
      "1.008859951546397\n",
      "1.008859951546397\n",
      "1.008859951546397\n",
      "1.008859951546397\n",
      "1.008859951546397\n",
      "1.008859951546397\n",
      "1.008859951546397\n",
      "1.008859951546397\n",
      "1.008859951546397\n",
      "1.008859951546397\n",
      "1.008859951546397\n",
      "1.008859951546397\n",
      "1.008859951546397\n",
      "1.008859951546397\n",
      "1.008859951546397\n",
      "1.008859951546397\n",
      "1.008859951546397\n",
      "1.008859951546397\n",
      "1.008859951546397\n",
      "1.008859951546397\n",
      "1.008859951546397\n",
      "1.008859951546397\n",
      "1.0088599515463972\n",
      "1.0088599515463972\n",
      "1.008859951546397\n",
      "1.008859951546397\n",
      "1.008859951546397\n",
      "1.008859951546397\n",
      "1.0088599515463965\n",
      "1.0088599515463967\n",
      "1.0088599515463967\n",
      "1.008859951546397\n",
      "1.0088599515463967\n",
      "1.0088599515463967\n",
      "1.0088599515463967\n",
      "1.0088599515463965\n",
      "1.008859951546397\n",
      "1.0088599515463974\n",
      "1.0088599515463974\n",
      "1.0088599515463967\n",
      "1.0088599515463965\n",
      "1.0088599515463965\n",
      "1.008859951546397\n",
      "1.0088599515463972\n",
      "1.0088599515463974\n",
      "1.0088599515463972\n",
      "1.0088599515463967\n",
      "1.0088599515463965\n",
      "1.0088599515463959\n",
      "1.0088599515463959\n",
      "1.0088599515463967\n",
      "1.0088599515463974\n",
      "1.0088599515463978\n",
      "1.0088599515463974\n",
      "1.0088599515463965\n",
      "1.0088599515463959\n",
      "1.0088599515463963\n",
      "1.0088599515463976\n",
      "1.0088599515463983\n",
      "1.0088599515463978\n",
      "1.008859951546397\n",
      "1.0088599515463965\n",
      "1.008859951546397\n",
      "1.0088599515463974\n",
      "1.0088599515463974\n",
      "1.0088599515463965\n",
      "1.0088599515463954\n",
      "1.008859951546395\n",
      "1.0088599515463954\n",
      "1.008859951546396\n",
      "1.0088599515463974\n",
      "1.0088599515463985\n",
      "1.0088599515463987\n",
      "1.0088599515463978\n",
      "1.008859951546397\n",
      "1.0088599515463967\n",
      "1.008859951546397\n",
      "1.0088599515463972\n",
      "1.0088599515463976\n",
      "1.0088599515463974\n",
      "1.0088599515463965\n",
      "1.0088599515463952\n",
      "1.008859951546395\n",
      "1.0088599515463954\n",
      "1.0088599515463963\n",
      "1.008859951546393\n",
      "1.0088599515457641\n",
      "1.0088599514862897\n",
      "1.0088599478389784\n",
      "1.008859802395111\n",
      "1.0088560263087643\n",
      "1.00879207937406\n",
      "1.0080837990024158\n",
      "1.0029331496579985\n",
      "0.9782136225224429\n",
      "0.8994026757013434\n",
      "0.7312278948002646\n",
      "0.4892548820719381\n"
     ]
    }
   ],
   "source": [
    "for i,_ in enumerate(e_grid):\n",
    "    print(np.trapz(samples_fun[i], x=e_grid))"
   ]
  },
  {
   "cell_type": "code",
   "execution_count": null,
   "id": "d9a2d77e",
   "metadata": {},
   "outputs": [
    {
     "ename": "NameError",
     "evalue": "name 'count_np' is not defined",
     "output_type": "error",
     "traceback": [
      "\u001b[0;31m---------------------------------------------------------------------------\u001b[0m",
      "\u001b[0;31mNameError\u001b[0m                                 Traceback (most recent call last)",
      "\u001b[1;32m/home/kruteesh/Desktop/DM_nu_simulation_P-One/PONE_git/pone_work/pone_dm/example_basic copy.ipynb Cell 46'\u001b[0m in \u001b[0;36m<cell line: 2>\u001b[0;34m()\u001b[0m\n\u001b[1;32m      <a href='vscode-notebook-cell:/home/kruteesh/Desktop/DM_nu_simulation_P-One/PONE_git/pone_work/pone_dm/example_basic%20copy.ipynb#ch0000044?line=0'>1</a>\u001b[0m figure, (ax1) \u001b[39m=\u001b[39m plt\u001b[39m.\u001b[39msubplots(\u001b[39m1\u001b[39m, \u001b[39m1\u001b[39m, figsize\u001b[39m=\u001b[39m(std_size, std_size \u001b[39m*\u001b[39m \u001b[39m6.\u001b[39m\u001b[39m/\u001b[39m\u001b[39m8.\u001b[39m ), sharex\u001b[39m=\u001b[39m\u001b[39mTrue\u001b[39;00m)\n\u001b[0;32m----> <a href='vscode-notebook-cell:/home/kruteesh/Desktop/DM_nu_simulation_P-One/PONE_git/pone_work/pone_dm/example_basic%20copy.ipynb#ch0000044?line=1'>2</a>\u001b[0m ax1\u001b[39m.\u001b[39mimshow((count_np\u001b[39m*\u001b[39me_grid)\u001b[39m.\u001b[39mT, origin\u001b[39m=\u001b[39m\u001b[39m'\u001b[39m\u001b[39mlower\u001b[39m\u001b[39m'\u001b[39m, extent\u001b[39m=\u001b[39m( \u001b[39mmin\u001b[39m(np\u001b[39m.\u001b[39mlog10(e_grid)), \u001b[39mmax\u001b[39m(np\u001b[39m.\u001b[39mlog10(e_grid)), \u001b[39mmin\u001b[39m(np\u001b[39m.\u001b[39mlog10(e_grid)), \u001b[39mmax\u001b[39m(np\u001b[39m.\u001b[39mlog10(e_grid)) ))\n\u001b[1;32m      <a href='vscode-notebook-cell:/home/kruteesh/Desktop/DM_nu_simulation_P-One/PONE_git/pone_work/pone_dm/example_basic%20copy.ipynb#ch0000044?line=2'>3</a>\u001b[0m ax1\u001b[39m.\u001b[39mset_xlabel(\u001b[39mr\u001b[39m\u001b[39m\"\u001b[39m\u001b[39mlog $E_\u001b[39m\u001b[39m{true}\u001b[39;00m\u001b[39m$\u001b[39m\u001b[39m\"\u001b[39m, fontsize\u001b[39m=\u001b[39mfontsize)\n\u001b[1;32m      <a href='vscode-notebook-cell:/home/kruteesh/Desktop/DM_nu_simulation_P-One/PONE_git/pone_work/pone_dm/example_basic%20copy.ipynb#ch0000044?line=3'>4</a>\u001b[0m ax1\u001b[39m.\u001b[39mset_ylabel(\u001b[39mr\u001b[39m\u001b[39m\"\u001b[39m\u001b[39mlog $E_\u001b[39m\u001b[39m{Recon}\u001b[39;00m\u001b[39m$\u001b[39m\u001b[39m\"\u001b[39m, fontsize\u001b[39m=\u001b[39mfontsize)\n",
      "\u001b[0;31mNameError\u001b[0m: name 'count_np' is not defined"
     ]
    },
    {
     "data": {
      "image/png": "[encoded data removed]",
      "text/plain": [
       "<Figure size 432x324 with 1 Axes>"
      ]
     },
     "metadata": {
      "needs_background": "light"
     },
     "output_type": "display_data"
    }
   ],
   "source": [
    "figure, (ax1) = plt.subplots(1, 1, figsize=(std_size, std_size * 6./8. ), sharex=True)\n",
    "ax1.imshow((count_np*e_grid).T, origin='lower', extent=( min(np.log10(e_grid)), max(np.log10(e_grid)), min(np.log10(e_grid)), max(np.log10(e_grid)) ))\n",
    "ax1.set_xlabel(r\"log $E_{true}$\", fontsize=fontsize)\n",
    "ax1.set_ylabel(r\"log $E_{Recon}$\", fontsize=fontsize)\n",
    "ax1.tick_params(axis = 'both', which = 'major', labelsize=fontsize-5, direction='in')\n",
    "ax1.tick_params(axis = 'both', which = 'minor', labelsize=fontsize-5, direction='in')\n",
    "\n",
    "# ---------------------------------------------\n",
    "# Legend\n",
    "# plt.legend(fontsize=fontsize)\n",
    "h, l = ax1.get_legend_handles_labels()\n",
    "lgd1 = ax1.legend(h, l, loc=9, bbox_to_anchor=(0.4, +1.),\n",
    "                 ncol=1, fontsize=fontsize-3, handlelength=h_length,\n",
    "                 fancybox=True, frameon=False)\n",
    "ax1.add_artist(lgd1)\n",
    "\n",
    "plt.grid()"
   ]
  },
  {
   "cell_type": "code",
   "execution_count": null,
   "id": "0b1ac938",
   "metadata": {},
   "outputs": [],
   "source": [
    "np.array(count_np).shape"
   ]
  },
  {
   "cell_type": "code",
   "execution_count": null,
   "id": "1c6b8a2e",
   "metadata": {},
   "outputs": [],
   "source": [
    "count_np"
   ]
  },
  {
   "cell_type": "code",
   "execution_count": null,
   "id": "d18de8e7",
   "metadata": {},
   "outputs": [],
   "source": []
  }
 ],
 "metadata": {
  "interpreter": {
   "hash": "82a3a656d33f35b7f3fe77a22343614a58c995dc979ba6da45d214804d59b344"
  },
  "kernelspec": {
   "display_name": "Python 3.9.5 64-bit ('pdm': conda)",
   "name": "python3"
  },
  "language_info": {
   "codemirror_mode": {
    "name": "ipython",
    "version": 3
   },
   "file_extension": ".py",
   "mimetype": "text/x-python",
   "name": "python",
   "nbconvert_exporter": "python",
   "pygments_lexer": "ipython3",
   "version": "3.9.11"
  }
 },
 "nbformat": 4,
 "nbformat_minor": 5
}
