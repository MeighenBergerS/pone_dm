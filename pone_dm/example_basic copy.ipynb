{
 "cells": [
  {
   "cell_type": "code",
   "execution_count": 1,
   "metadata": {},
   "outputs": [],
   "source": [
    "# Name: example_basic\n",
    "# Authors: Stephan Meighen-Berger, Kruteesh Desai\n",
    "# A basic example how to use the package"
   ]
  },
  {
   "cell_type": "code",
   "execution_count": 2,
   "metadata": {},
   "outputs": [],
   "source": [
    "# imports\n",
    "from constants import pdm_constants as const\n",
    "from config import config\n",
    "from pone_aeff import Aeff\n",
    "from dm2nu import DM2Nu\n",
    "from atm_shower import Atm_Shower\n",
    "from detectors import Detector\n",
    "import numpy as np\n",
    "import matplotlib.pyplot as plt\n",
    "from limit_calc import Limits\n",
    "from bkgrd_calc import Background\n",
    "from signal_calc import Signal\n",
    "from pdm import PDM\n",
    "from scipy.interpolate import UnivariateSpline\n",
    "from scipy.stats import chi2\n",
    "from scipy.stats import *\n",
    "from pone_aeff import Aeff\n",
    "import pickle"
   ]
  },
  {
   "cell_type": "code",
   "execution_count": 3,
   "metadata": {},
   "outputs": [],
   "source": [
    "# picture path\n",
    "PICS = '../pics/'\n",
    "name=[r'$\\nu_{\\mu}$', r\"$\\nu_e$\", r\"$\\nu_{\\tau}$\"]  # ,r'$\\nu_{e}$',r'$\\nu_{\\tau}$'\n",
    "# Plotting standards\n",
    "std_size = 6.  # Size of the plot\n",
    "fontsize = 15.  # Fontsize in the plot\n",
    "lw=0.5  # Linewidth\n",
    "h_length=0.5  # Handle length for the legends\n",
    "export_dpi = 500  # Dpi for the image export"
   ]
  },
  {
   "cell_type": "code",
   "execution_count": 4,
   "metadata": {},
   "outputs": [],
   "source": [
    "# Some example settings\n",
    "#config['atmospheric showers']['interaction model'] = 'SIBYLL2.3c'\n",
    "#config['atmospheric showers']['theta angles'] = np.linspace(0., 90., 91)|\n",
    "#config['atmospheric showers']['particles of interest']=['nue']\n",
    "config['general']['detector'] = 'combined'\n"
   ]
  },
  {
   "cell_type": "code",
   "execution_count": 5,
   "metadata": {},
   "outputs": [
    {
     "name": "stdout",
     "output_type": "stream",
     "text": [
      "Loading Effective Area\n"
     ]
    },
    {
     "name": "stderr",
     "output_type": "stream",
     "text": [
      "100%|██████████| 3/3 [00:00<00:00, 46.82it/s]"
     ]
    },
    {
     "name": "stdout",
     "output_type": "stream",
     "text": [
      "combined\n"
     ]
    },
    {
     "name": "stderr",
     "output_type": "stream",
     "text": [
      "\n"
     ]
    }
   ],
   "source": [
    "pdm = PDM()"
   ]
  },
  {
   "cell_type": "code",
   "execution_count": 6,
   "id": "e1b26c4b",
   "metadata": {},
   "outputs": [],
   "source": [
    "e_grid = pdm._shower_sim.egrid\n",
    "#eff_po_1 = pdm._aeff.spl_A15(pdm._shower_sim.egrid)\n",
    "eff_ice = pickle.load(open('/home/kruteesh/Desktop/dm_data_server/27_11/data/eff_area_ice.pkl','rb'))"
   ]
  },
  {
   "cell_type": "code",
   "execution_count": 7,
   "id": "f67b2db5",
   "metadata": {},
   "outputs": [],
   "source": [
    "#back_po = pickle.load(open('../data/background_pone_sm.pkl','rb'))\n",
    "background_ic = pickle.load(open('/home/kruteesh/Desktop/dm_data_server/28_03_desk/data/background_ice.pkl','rb'))\n",
    "back_comb =  pickle.load(open('../data/background_combined.pkl','rb'))\n",
    "#background_pone_sm = pickle.load(open('../data/background_pone_sm.pkl','rb'))"
   ]
  },
  {
   "cell_type": "code",
   "execution_count": 8,
   "id": "c2224ef7",
   "metadata": {},
   "outputs": [
    {
     "data": {
      "text/plain": [
       "array([1.50039492e-11, 7.88936176e-11, 3.95508228e-10, 1.89036245e-09,\n",
       "       8.61411254e-09, 3.74242722e-08, 1.55016002e-07, 6.12187718e-07,\n",
       "       2.30506843e-06, 8.27526926e-06, 2.83262698e-05, 9.24522393e-05,\n",
       "       2.87726796e-04, 8.53875249e-04, 2.41645554e-03, 6.52161833e-03,\n",
       "       1.67860791e-02, 4.12087261e-02, 9.64956848e-02, 2.15547335e-01,\n",
       "       4.59341727e-01, 9.33976296e-01, 1.81216359e+00, 3.35569897e+00,\n",
       "       5.93148965e+00, 1.00096954e+01, 1.61304632e+01, 2.48283309e+01,\n",
       "       3.65127057e+01, 5.13186307e+01, 6.89604057e+01, 8.86341341e+01,\n",
       "       1.09015597e+02, 1.28381983e+02, 1.44852079e+02, 1.56700266e+02,\n",
       "       1.63221562e+02, 3.03877741e+02, 3.59269863e+03, 8.04530244e+03,\n",
       "       1.84910840e+03, 1.45295400e+02, 9.12714766e+01, 7.34032679e+01,\n",
       "       5.73129825e+01, 4.34708277e+01, 3.20602567e+01, 2.30006927e+01,\n",
       "       1.60474938e+01, 1.08776843e+01, 7.31496058e+00, 8.06885856e+00,\n",
       "       4.90599632e+00, 2.83873110e+00, 1.59094592e+00, 8.61163703e-01,\n",
       "       4.51711034e-01, 2.27697806e-01, 1.11360602e-01, 5.28992430e-02,\n",
       "       2.43571748e-02, 1.09243388e-02, 4.81286705e-03, 2.08131962e-03,\n",
       "       8.92586315e-04, 3.82820312e-04, 1.62984227e-04, 6.97818646e-05,\n",
       "       3.02131393e-05, 1.30605759e-05, 5.71618796e-06, 2.53629741e-06,\n",
       "       1.13147253e-06, 5.14880264e-07, 2.39071742e-07, 1.13186036e-07,\n",
       "       5.50802683e-08, 2.73549426e-08, 1.38605428e-08, 7.20043754e-09,\n",
       "       3.78308185e-09, 1.87947209e-09, 9.43215988e-10, 4.74936676e-10,\n",
       "       2.39994009e-10, 1.21972640e-10, 6.16170354e-11, 3.09826059e-11,\n",
       "       1.54811034e-11, 7.66742752e-12, 3.76579579e-12, 1.83867600e-12,\n",
       "       8.92761844e-13, 4.29382879e-13, 2.04121390e-13, 9.63525187e-14,\n",
       "       4.58094971e-14, 2.13894508e-14, 9.97662084e-15, 4.67613014e-15,\n",
       "       2.17766134e-15, 1.00717545e-15, 4.61391524e-16, 2.09632158e-16,\n",
       "       9.53437045e-17, 4.29752451e-17, 1.92562238e-17, 8.42116822e-18,\n",
       "       3.83887464e-18, 1.56677362e-18, 6.64007049e-19, 2.78514903e-19,\n",
       "       1.14825087e-19, 4.55027627e-20, 1.63496157e-20, 5.05393601e-21,\n",
       "       1.32351520e-21, 2.68259728e-22, 3.13622297e-23, 1.05428577e-24,\n",
       "       9.73244508e-27])"
      ]
     },
     "execution_count": 8,
     "metadata": {},
     "output_type": "execute_result"
    }
   ],
   "source": [
    "np.array(back_comb[\"numu\"])-np.array(back_comb[\"nutau\"])"
   ]
  },
  {
   "cell_type": "code",
   "execution_count": 9,
   "id": "20ebf4b1",
   "metadata": {},
   "outputs": [
    {
     "data": {
      "text/plain": [
       "(9, 121)"
      ]
     },
     "execution_count": 9,
     "metadata": {},
     "output_type": "execute_result"
    }
   ],
   "source": [
    "np.array(background_ic[\"numu\"]).shape"
   ]
  },
  {
   "cell_type": "code",
   "execution_count": 10,
   "metadata": {},
   "outputs": [
    {
     "data": {
      "text/plain": [
       "(316.22776601683796, 1e-21)"
      ]
     },
     "execution_count": 10,
     "metadata": {},
     "output_type": "execute_result"
    }
   ],
   "source": [
    "# Grids\n",
    "mass_grid = config['simulation parameters']['mass grid']\n",
    "sv_grid = config['simulation parameters']['sv grid']\n",
    "mass_id = 1\n",
    "\n",
    "sv_id = -1\n",
    "\n",
    "mass_grid[mass_id], sv_grid[sv_id]\n",
    "# The limit calculation\n"
   ]
  },
  {
   "cell_type": "code",
   "execution_count": 11,
   "metadata": {},
   "outputs": [
    {
     "data": {
      "text/plain": [
       "array([[[2.12522998e+02, 1.63541848e-04],\n",
       "        [3.75355026e+02, 1.17293567e-04],\n",
       "        [6.29536175e+02, 4.82400307e-05],\n",
       "        [1.29846584e+03, 2.68117327e-05],\n",
       "        [2.54321174e+03, 1.27334869e-05],\n",
       "        [5.08126850e+03, 5.00379406e-06],\n",
       "        [1.02741133e+04, 1.64695632e-06],\n",
       "        [2.01231674e+04, 6.33333228e-07],\n",
       "        [4.15055504e+04, 3.04185979e-07],\n",
       "        [8.12939394e+04, 1.45312927e-07],\n",
       "        [1.64454709e+05, 5.65882534e-08],\n",
       "        [2.78806881e+05, 4.47804058e-08],\n",
       "        [4.21663736e+05, 3.16824398e-08],\n",
       "        [7.56379773e+05, 2.36346234e-08],\n",
       "        [1.97223492e+06, 1.29547786e-08]]])"
      ]
     },
     "execution_count": 11,
     "metadata": {},
     "output_type": "execute_result"
    }
   ],
   "source": [
    "dphi_2=np.loadtxt(open(\"../data/m_1e2.csv\"), delimiter = \",\")\n",
    "dphi_2[dphi_2[:,0].sort()]\n",
    "\n",
    "dphi_4=np.loadtxt(open(\"../data/m_1e4.csv\"), delimiter = \",\")\n",
    "dphi_4[dphi_4[:,0].sort()]\n",
    "\n",
    "dphi_6=np.loadtxt(open(\"../data/m_1e6.csv\"), delimiter = \",\")\n",
    "dphi_6[dphi_6[:,0].sort()]\n",
    "dphi_ice=np.loadtxt(open(\"../data/icecube.csv\"), delimiter = \",\")\n",
    "dphi_ice[dphi_ice[:,0].sort()]"
   ]
  },
  {
   "cell_type": "code",
   "execution_count": 12,
   "metadata": {},
   "outputs": [],
   "source": [
    "dphi_4=UnivariateSpline(dphi_4[:,0],dphi_4[:,1],k=1,s=0,ext=1)\n",
    "#mass_grid[0],sv_grid[-1],mass_grid[-1],sv_grid[-1]\n",
    "dphi_ic=UnivariateSpline(dphi_ice[:,0],dphi_ice[:,1],k=1,s=0,ext=1)\n",
    "dphi_6=UnivariateSpline(dphi_6[:,0],dphi_6[:,1],k=1,s=0, ext=1)\n",
    "dphi_2=UnivariateSpline(dphi_2[:,0],dphi_2[:,1],k=1,s=0, ext=1)\n"
   ]
  },
  {
   "cell_type": "code",
   "execution_count": 13,
   "id": "388d6c41",
   "metadata": {},
   "outputs": [],
   "source": [
    "\n",
    "\n",
    "shower_flux = pickle.load(open('../data/shower.p','rb'))\n",
    "shower_po = shower_flux[2][45]['numu']\n",
    "surface_fluxe_ice = pickle.load(open(\"../data/surf_store_v1.p\", \"rb\"))\n",
    "shower_ice = surface_fluxe_ice[20][3] # background fluxes at 20° ----\n",
    "\n"
   ]
  },
  {
   "cell_type": "code",
   "execution_count": 14,
   "id": "983bf3cd",
   "metadata": {},
   "outputs": [
    {
     "name": "stderr",
     "output_type": "stream",
     "text": [
      "/home/kruteesh/Desktop/DM_nu_simulation_P-One/PONE_git/pone_work/pone_dm/dm2nu.py:279: RuntimeWarning: overflow encountered in exp\n",
      "  dd = np.exp(d_2 / s_in(x)**2)\n",
      "/home/kruteesh/Desktop/DM_nu_simulation_P-One/PONE_git/pone_work/pone_dm/dm2nu.py:280: RuntimeWarning: overflow encountered in multiply\n",
      "  return A * aa * dd\n",
      "/home/kruteesh/Desktop/DM_nu_simulation_P-One/PONE_git/pone_work/pone_dm/dm2nu.py:279: RuntimeWarning: overflow encountered in exp\n",
      "  dd = np.exp(d_2 / s_in(x)**2)\n",
      "/home/kruteesh/Desktop/DM_nu_simulation_P-One/PONE_git/pone_work/pone_dm/dm2nu.py:280: RuntimeWarning: overflow encountered in multiply\n",
      "  return A * aa * dd\n"
     ]
    },
    {
     "data": {
      "image/png": "[encoded data removed]",
      "text/plain": [
       "<Figure size 432x432 with 1 Axes>"
      ]
     },
     "metadata": {
      "needs_background": "light"
     },
     "output_type": "display_data"
    }
   ],
   "source": [
    "figure, ax1 = plt.subplots(1, 1, figsize=(std_size,std_size), sharex=True) \n",
    "#plt.title('Scaling Correction %.1e' % (scaling))\n",
    "#ax1.step(pdm._shower_sim._egrid, dphi_2(pdm._shower_sim._egrid),'o', label=r'$m_{x}$ = 1e2 GeV Lit')\n",
    "ax1.step(pdm._shower_sim._egrid, dphi_4(pdm._shower_sim._egrid),'o', label=r'$m_{x}$=1e4 GeV Literature')\n",
    "ax1.step(pdm._shower_sim._egrid, dphi_6(pdm._shower_sim._egrid), 'o',label=r'$m_{x}$=1e6 GeV Literature')\n",
    "#ax1.step(pdm._shower_sim.egrid, (pdm._dm_nu.extra_galactic_flux(pdm._shower_sim.egrid,mass_grid[0],sv)) * pdm._shower_sim.egrid**2.,'-.',\n",
    "#         label=r'$m_{x}$ = %.1e , $<\\sigma\\nu>$ = %.1eGeV Sim'%(mass_grid[0],sv))\n",
    "ax1.step(pdm._shower_sim.egrid, (pdm._dm_nu.extra_galactic_flux(pdm._shower_sim.egrid,mass_grid[4],sv_grid[0])) * pdm._shower_sim.egrid**2.,'-.',\n",
    "         label=r'$m_{x}$=%.1eGeV , $<\\sigma\\nu>$=%.1e$cm^{3}s^{-1}$'%(mass_grid[4],sv_grid[0]))\n",
    "ax1.step(pdm._shower_sim.egrid, (pdm._dm_nu.extra_galactic_flux(pdm._shower_sim.egrid,mass_grid[-1],sv_grid[0]))* pdm._shower_sim.egrid**2.,'--',\n",
    "         label=r'$m_{x}$=%.1eGeV , $<\\sigma\\nu>$=%.1e$cm^{3}s^{-1}$'%(mass_grid[-1],sv_grid[0]))\n",
    "ax1.step(pdm._shower_sim.egrid, shower_po*pdm._shower_sim.egrid**2, label='Background P-ONE (MCEq)') # Karlsruhe Corsika\n",
    "ax1.step(pdm._shower_sim.egrid, shower_ice*pdm._shower_sim.egrid**2, label='Background IceCube at 20°')\n",
    "\n",
    "ax1.set_xscale(\"log\")\n",
    "ax1.set_yscale(\"log\")\n",
    "ax1.set_xlabel('E [GeV]', fontsize=fontsize)\n",
    "ax1.set_ylabel(r'$E^2$ $d\\phi$ / $dE$  [ $GeV$ $cm^{-2}$ $s^{-1}$ $sr^{-1}$ ]', fontsize=fontsize)\n",
    "ax1.tick_params(axis = 'both', which = 'major', labelsize=fontsize)\n",
    "ax1.tick_params(axis = 'both', which = 'minor', labelsize=fontsize)\n",
    "ax1.set_xlim(1e2, 0.5e7)\n",
    "ax1.set_ylim(1e-11,1e-5)\n",
    "h, l = ax1.get_legend_handles_labels()\n",
    "lgd1 = ax1.legend(h, l, loc=7, bbox_to_anchor=(1.5, +1.12),\n",
    "                 ncol=3, fontsize=fontsize-3, handlelength=h_length,\n",
    "                 fancybox=True, frameon=False)\n",
    "ax1.add_artist(lgd1)\n",
    "plt.grid()\n",
    "# ---------------------------------------------\n",
    "# Showing the image\n",
    "plt.show()"
   ]
  },
  {
   "cell_type": "code",
   "execution_count": 15,
   "id": "06175886",
   "metadata": {},
   "outputs": [],
   "source": [
    "signal_ice = pickle.load(open('/home/kruteesh/Desktop/dm_data_server/28_03_desk/data/limits_signal_IceCube.pkl','rb'))\n",
    "signal_com_un = pickle.load(open(\"../data/28_03_02/unsmeared/signal_grid_combined_unsm.pkl\",\"rb\"))\n",
    "signal_pone_un = pickle.load(open(\"../data/28_03_02/unsmeared/signal_grid_POne_unsm.pkl\",\"rb\"))"
   ]
  },
  {
   "cell_type": "code",
   "execution_count": 16,
   "id": "311a4389",
   "metadata": {},
   "outputs": [
    {
     "data": {
      "image/png": "[encoded data removed]",
      "text/plain": [
       "<Figure size 432x432 with 1 Axes>"
      ]
     },
     "metadata": {
      "needs_background": "light"
     },
     "output_type": "display_data"
    }
   ],
   "source": [
    "figure, ax1 = plt.subplots(1, 1, figsize=(std_size,std_size), sharex=True) \n",
    "\n",
    "#ax1.step(pdm._shower_sim.egrid[-len(pdm._signal_data[-1][-1]):],\n",
    "#signal_comb[-1][0],'-',\n",
    "#         label=r'$m_{x}$=%.1eGeV , $<\\sigma\\nu>$=%.1e$cm^{3}s^{-1}$'%(mass_grid[4],sv_grid[0]))\n",
    "#ax1.step(pdm._shower_sim.egrid[-len(pdm._signal_data['numu'][6][0]):], pdm._signal_data['numu'][6][0],'-',\n",
    "#         label=r'$m_{x}$=%.1eGeV , $<\\sigma\\nu>$=%.1e$cm^{3}s^{-1}$'%(mass_grid[0],sv_grid[6]))\n",
    "\n",
    "#ax1.step(pdm._shower_sim.egrid[-len(pdm._signal_data['numu'][6][4]):], pdm._signal_data['numu'][6][4],'-',\n",
    "#         label=r'$m_{x}$=%.1eGeV , $<\\sigma\\nu>$=%.1e$cm^{3}s^{-1}$'%(mass_grid[4],sv_grid[6]))\n",
    "\n",
    "#ax1.step(pdm._shower_sim.egrid[-len(pdm._signal_data['numu'][6][8]):], pdm._signal_data['numu'][6][8],'-',\n",
    "#        label=r'$m_{x}$=%.1eGeV , $<\\sigma\\nu>$=%.1e$cm^{3}s^{-1}$'%(mass_grid[8],sv_grid[6]))\n",
    "\n",
    "#ax1.step(pdm._shower_sim.egrid[-len(pdm._signal_data['numu'][6][0]):], signal_com_un[\"numu\"][6][0],'-',\n",
    "#         label=r' IceCube $m_{x}$=%.1eGeV , $<\\sigma\\nu>$=%.1e$cm^{3}s^{-1}$'%(mass_grid[0],sv_grid[6]))\n",
    "\n",
    "ax1.step(pdm._shower_sim.egrid[-len(pdm._signal_data['numu'][6][0]):], signal_pone_un[\"numu\"][6][2],'-',\n",
    "         label=r' P-ONE $m_{x}$=%.1eGeV , $<\\sigma\\nu>$=%.1e$cm^{3}s^{-1}$'%(mass_grid[2],sv_grid[6]))\n",
    "\n",
    "\n",
    "ax1.step(pdm._shower_sim.egrid[-len(pdm._signal_data['numu'][6][0]):], signal_ice[6][2],'-',\n",
    "         label=r' IceCube $m_{x}$=%.1eGeV , $<\\sigma\\nu>$=%.1e$cm^{3}s^{-1}$'%(mass_grid[2],sv_grid[6]))\n",
    "\n",
    "\n",
    "\n",
    "#ax1.step(pdm._shower_sim._egrid, background_pone_sm['numu'],'-', label='Background P-ONE un-Smeared')\n",
    "ax1.step(pdm._shower_sim._egrid, back_comb['numu'],'-', label='Background combined')\n",
    "\n",
    "#ax1.step(pdm._shower_sim._egrid, np.sum(background_ic['numu'],axis=0),'-', label='Background IceCube')\n",
    "\n",
    "ax1.set_xscale(\"log\")\n",
    "ax1.set_yscale(\"log\")\n",
    "ax1.set_xlabel('E [GeV]', fontsize=fontsize)\n",
    "ax1.set_ylabel(r'# Counts', fontsize=fontsize)\n",
    "ax1.tick_params(axis = 'both', which = 'major', labelsize=fontsize)\n",
    "ax1.tick_params(axis = 'both', which = 'minor', labelsize=fontsize)\n",
    "ax1.set_xlim(1e1, 1e7)\n",
    "ax1.set_ylim(1e0,1e6)\n",
    "h, l = ax1.get_legend_handles_labels()\n",
    "lgd1 = ax1.legend(h, l, loc=7, bbox_to_anchor=(1.2, +1.12),\n",
    "                 ncol=2, fontsize=fontsize-2, handlelength=h_length,\n",
    "                 fancybox=True, frameon=False)\n",
    "ax1.add_artist(lgd1)\n",
    "plt.grid()\n",
    "# ---------------------------------------------\n",
    "# Showing the image\n",
    "plt.show()"
   ]
  },
  {
   "cell_type": "code",
   "execution_count": 17,
   "id": "185a1fb8",
   "metadata": {},
   "outputs": [
    {
     "data": {
      "text/plain": [
       "(31575.835465356133, 30598.383915000224)"
      ]
     },
     "execution_count": 17,
     "metadata": {},
     "output_type": "execute_result"
    }
   ],
   "source": [
    "np.sum(signal_pone_un[\"numu\"][6][3]), np.sum(signal_ice[6][3])"
   ]
  },
  {
   "cell_type": "code",
   "execution_count": null,
   "id": "878f46ac",
   "metadata": {},
   "outputs": [],
   "source": []
  },
  {
   "cell_type": "code",
   "execution_count": 18,
   "id": "c868322c",
   "metadata": {},
   "outputs": [],
   "source": [
    "flux={}\n",
    "flux[15]={}\n",
    "flux[85]={}\n",
    "flux[120]={}\n",
    "flux[15]['numu'] = (dphi_4(pdm._shower_sim.egrid)) * pdm._shower_sim._egrid**(-2)\n",
    "flux[85]['numu'] = flux[15]['numu']\n",
    "flux[120]['numu'] = flux[15]['numu']\n",
    "flux[15]['nue']=flux[85]['nue']=flux[120]['nue']=flux[15]['nutau']=flux[85]['nutau']=flux[120]['nutau']=flux[15]['numu']\n",
    "#_lit=pdm._Detector.sim2dec(flux,True)[\"numu\"]\n"
   ]
  },
  {
   "cell_type": "code",
   "execution_count": 19,
   "metadata": {},
   "outputs": [],
   "source": [
    "# Loading comparison data\n",
    "th_cl = np.loadtxt(open(\"../data/thermal_relic.csv\"), delimiter = \",\")\n",
    "unitarity = np.loadtxt(open('../data/Unitarity_bound.csv'), delimiter = ',')\n",
    "cl_lit = np.loadtxt('../data/CL_PONE.csv', delimiter=\",\")\n",
    "cl_lit = (cl_lit[cl_lit[:, 0].argsort()])\n",
    "unitarity = (unitarity[unitarity[:, 0].argsort()])\n",
    "\n",
    "limits_ice = pickle.load(open('/home/kruteesh/Desktop/dm_data_server/28_03_desk/data/limits_results_IceCube.pkl','rb'))\n",
    "limits_pone_unsm = pickle.load(open(\"../data/28_03_02/unsmeared/limits_results_POne_unsm.pkl\",\"rb\"))\n",
    "limits_com = pickle.load(open(\"/home/kruteesh/Desktop/dm_data_server/14_03/data/limits_results.pkl\", \"rb\"))\n",
    "\n",
    "cl_lit_ice = np.loadtxt('../data/IceCube_HE.csv', delimiter=\",\")\n",
    "cl_lit_ice = (cl_lit_ice[cl_lit_ice[:, 0].argsort()])\n",
    "xx,yy = np.meshgrid(np.log10( np.logspace(1, 6, 20)),np.log10( np.logspace(1, 6, 20)))"
   ]
  },
  {
   "cell_type": "code",
   "execution_count": 20,
   "id": "885ecf12",
   "metadata": {},
   "outputs": [],
   "source": [
    "#signal_count_sim = pdm._signal.signal_calc(pdm._shower_sim.egrid,mass_grid[mass_id],sv_grid[sv_id])"
   ]
  },
  {
   "cell_type": "code",
   "execution_count": 21,
   "id": "deef3dcb",
   "metadata": {},
   "outputs": [],
   "source": [
    "#ratio_c = (signal_count_sim[\"numu\"] /       \n",
    "#            pdm._limit_calc._bkgrd['numu'])"
   ]
  },
  {
   "cell_type": "code",
   "execution_count": 22,
   "id": "63fe3ae8",
   "metadata": {},
   "outputs": [],
   "source": [
    "#ratio_c"
   ]
  },
  {
   "cell_type": "code",
   "execution_count": 23,
   "id": "eb78c8f4",
   "metadata": {},
   "outputs": [],
   "source": [
    "#plt.title('scaling correction'+str(config['advanced']['scaling correction'])+' P-ONE Signal to Background ratios, m=%.1e, sv=%.1e'%(mass_grid[mass_id],sv_grid[sv_id]))\n",
    "#plt.loglog(pdm._shower_sim.egrid,ratio,label='flux ratio') \n",
    "#plt.loglog(pdm._shower_sim.egrid,ratio_c,'o',label='counts ratio')\n",
    "#plt.legend()\n",
    "#plt.grid()\n",
    "#plt.xlabel('E [GeV]')\n",
    "#plt.ylabel('Ratio')"
   ]
  },
  {
   "cell_type": "markdown",
   "id": "7c2635b2",
   "metadata": {},
   "source": [
    "# Fill through function for the band between smeared and unsmeared combined limits !!!!!!!! "
   ]
  },
  {
   "cell_type": "code",
   "execution_count": 24,
   "metadata": {},
   "outputs": [
    {
     "data": {
      "image/png": "[encoded data removed]",
      "text/plain": [
       "<Figure size 432x432 with 1 Axes>"
      ]
     },
     "metadata": {
      "needs_background": "light"
     },
     "output_type": "display_data"
    }
   ],
   "source": [
    "color = ['black', 'orange', 'purple']\n",
    "color_sm = ['red', 'crimson', 'blue']\n",
    "ll = ['-.', '--', '-.']\n",
    "figure, (ax1) = plt.subplots(1, 1, figsize=(std_size,std_size), sharex=True)  # std_size, std_size * 6. / 8.),\n",
    "for j,i in enumerate(config[\"pone\"][\"specific particle scaling\"].keys()):\n",
    "    # Limits\n",
    "    # ---------------------------------------------\n",
    "    # Setup\n",
    "\n",
    "    \n",
    "    # ---------------------------------------------\n",
    "    # Plotting\n",
    "    #plt.title('P-ONE Limits Results',fontsize=fontsize)  # +' Scaling Correction = '+str(config['advanced']['scaling correction'])\n",
    "    \n",
    "    #ax1.contour(pdm.results[i], levels = [0.9], colors=color[j],  linestyles='-',\n",
    "    #            origin='lower', extent=(min(np.log10(mass_grid)), max(np.log10(mass_grid)),\n",
    "    #                                    min(np.log10(sv_grid)), max(np.log10(sv_grid))))\n",
    "    ax1.contour(limits_com[i], levels = [0.9], colors=color_sm[j],  linestyles=ll[j],\n",
    "                origin='lower', extent=(min(np.log10(mass_grid)), max(np.log10(mass_grid)),\n",
    "                                        min(np.log10(sv_grid)), max(np.log10(sv_grid))))\n",
    "  \n",
    "ax1.contour(limits_ice[\"numu\"], levels=[0.9], colors='blue',origin='lower',linestyles='-',\n",
    "                            extent=(min(np.log10(mass_grid)), max(np.log10(mass_grid)),\n",
    "                                    min(np.log10(sv_grid)), max(np.log10(sv_grid))))#\n",
    "#ax1.contour(limits_pone_unsm[\"numu\"], levels=[0.9], colors='green',origin='lower',linestyles='-.',\n",
    "#                            extent=(min(np.log10(mass_grid)), max(np.log10(mass_grid)),\n",
    "#                                    min(np.log10(sv_grid)), max(np.log10(sv_grid))))\n",
    "ax1.plot(np.log10(cl_lit[:, 0]), np.log10(cl_lit[:, 1]), 'g', label='literature P-ONE')\n",
    "ax1.plot(np.log10(cl_lit_ice[:, 0]), np.log10(cl_lit_ice[:, 1]),'m',label='literature  IceCube')\n",
    "ax1.plot(np.log10(th_cl[:, 0]), np.log10(th_cl[:, 1]), 'b', \n",
    "         label='Thermal Relic Abundance')\n",
    "ax1.plot(np.log10(unitarity[:, 0]), np.log10(unitarity[:, 1]), '.k', \n",
    "         label='Unitarity Bound')\n",
    "# ---------------------------------------------\n",
    "# Axis options\n",
    "ax1.set_xscale(\"linear\")\n",
    "ax1.set_yscale(\"linear\")\n",
    "ax1.set_xlabel(r\"$\\log$ $m_{\\chi}$[GeV]\", fontsize=fontsize)\n",
    "ax1.set_ylabel(r\"$\\log$ $<\\sigma \\nu$>[$cm^{3} s^{-1}$]\", fontsize=fontsize)\n",
    "ax1.tick_params(axis = 'both', which = 'major', labelsize=fontsize)\n",
    "ax1.tick_params(axis = 'both', which = 'minor', labelsize=fontsize)\n",
    "ax1.set_xlim(2.8, max(np.log10(mass_grid)))\n",
    "ax1.set_ylim(min(np.log10(sv_grid)), -21)  # \n",
    "#ax1.text(3.5, -23.7, \"IceCube Simulation\", fontsize=fontsize)\n",
    "\n",
    "#ax1.text(3.2, -24.8, r\"P-ONE $\\nu_\\mu$\", fontsize=fontsize)\n",
    "#ax1.text(3.2, -24.9, r\" $\\nu_e$\", fontsize=fontsize)\n",
    "#ax1.text(3.1, -25.3, r\" $\\nu_\\tau$\", fontsize=fontsize)\n",
    "\n",
    "# ---------------------------------------------\n",
    "# Legend\n",
    "# plt.legend(fontsize=fontsize)\n",
    "h, l = ax1.get_legend_handles_labels()\n",
    "lgd1 = ax1.legend(h, l, loc=7, bbox_to_anchor=(1.09, +1.09),\n",
    "                 ncol=2, fontsize=fontsize, handlelength=h_length,\n",
    "                 fancybox=True, frameon=False)\n",
    "ax1.add_artist(lgd1)\n",
    "plt.grid()\n",
    "# ---------------------------------------------\n",
    "# Showing the image\n",
    "plt.show()\n",
    "# ---------------------------------------------\n",
    "# Storing the image\n",
    "figure.savefig(PICS + \"Limits_Example_all\"+\".png\",\n",
    "               bbox_inches='tight', dpi=export_dpi)\n"
   ]
  },
  {
   "cell_type": "code",
   "execution_count": 25,
   "id": "06e4c7e0",
   "metadata": {},
   "outputs": [],
   "source": [
    "#pickle.dump(pdm.results, open('../data/_smea_limits.pkl', 'wb'))"
   ]
  },
  {
   "cell_type": "code",
   "execution_count": 26,
   "metadata": {},
   "outputs": [
    {
     "name": "stderr",
     "output_type": "stream",
     "text": [
      "/tmp/ipykernel_21456/4088620579.py:18: UserWarning: The following kwargs were not used by contour: 'legend'\n",
      "  ax1.contour(limits_ice[\"numu\"], levels=[0.9], colors='red',origin='lower',\n"
     ]
    },
    {
     "data": {
      "image/png": "[encoded data removed]",
      "text/plain": [
       "<Figure size 432x324 with 1 Axes>"
      ]
     },
     "metadata": {
      "needs_background": "light"
     },
     "output_type": "display_data"
    }
   ],
   "source": [
    "# All Limits-------------------------------------------\n",
    "# Setup\n",
    "figure, (ax1) = plt.subplots(1, 1, figsize=(std_size, std_size * 6. / 8.), sharex=True)\n",
    "# ---------------------------------------------\n",
    "# Plotting\n",
    "ax1.contour(pdm.results[\"numu\"], levels = [0.9], colors='purple', linestyles='-',\n",
    "            origin='lower', extent=(min(np.log10(mass_grid)), max(np.log10(mass_grid)),\n",
    "                                    min(np.log10(sv_grid)), max(np.log10(sv_grid))))\n",
    "ax1.contour(pdm.results[\"nue\"], levels = [0.9], colors='purple', linestyles='--',\n",
    "            origin='lower', extent=(min(np.log10(mass_grid)), max(np.log10(mass_grid)), \n",
    "                                    min(np.log10(sv_grid)), max(np.log10(sv_grid))))\n",
    "ax1.contour(pdm.results[\"nutau\"], levels = [0.9], colors='purple', linestyles='-.',\n",
    "            origin='lower', extent=(min(np.log10(mass_grid)), max(np.log10(mass_grid)),\n",
    "                                    min(np.log10(sv_grid)), max(np.log10(sv_grid))))\n",
    "#ax1.plot(np.log10(cl_lit[:, 0]), np.log10(cl_lit[:, 1]), 'g', label='literature 90% C.L')\n",
    "ax1.plot(np.log10(th_cl[:, 0]), np.log10(th_cl[:, 1]), 'b', \n",
    "         label='literature Thermal Relic Abundance')\n",
    "ax1.contour(limits_ice[\"numu\"], levels=[0.9], colors='red',origin='lower',\n",
    "                                extent=(min(np.log10(mass_grid)), max(np.log10(mass_grid)),\n",
    "                                        min(np.log10(sv_grid)), max(np.log10(sv_grid))), legend='IceCube')\n",
    "ax1.plot(np.log10(cl_lit[:, 0]), np.log10(cl_lit[:, 1]), 'g', label='literature 90% C.L P-ONE')\n",
    "ax1.plot(np.log10(cl_lit_ice[:, 0]), np.log10(cl_lit_ice[:, 1]), label='literature 90% C.L IceCube')\n",
    "# ---------------------------------------------\n",
    "# Axis options\n",
    "ax1.set_xscale(\"linear\")\n",
    "ax1.set_yscale(\"linear\")\n",
    "ax1.set_xlabel(r\"log $m_{\\chi}$\", fontsize=fontsize)\n",
    "ax1.set_ylabel(r\"log <$\\sigma\\nu$>\", fontsize=fontsize)\n",
    "ax1.tick_params(axis = 'both', which = 'major', labelsize=fontsize-5, direction='in')\n",
    "ax1.tick_params(axis = 'both', which = 'minor', labelsize=fontsize-5, direction='in')\n",
    "ax1.set_xlim(min(np.log10(mass_grid)), max(np.log10(mass_grid)))\n",
    "ax1.set_ylim(min(np.log10(sv_grid)),-23.0)\n",
    "# ---------------------------------------------\n",
    "# Legend\n",
    "# plt.legend(fontsize=fontsize)\n",
    "h, l = ax1.get_legend_handles_labels()\n",
    "lgd1 = ax1.legend(h, l, loc=9, bbox_to_anchor=(0.4, +1.),\n",
    "                 ncol=1, fontsize=fontsize-3, handlelength=h_length,\n",
    "                 fancybox=True, frameon=False)\n",
    "ax1.add_artist(lgd1)\n",
    "# ---------------------------------------------\n",
    "ax1.text(3.5, -23.7, \"IceCube\", fontsize=fontsize)\n",
    "ax1.text(3.4, -24.4, \"P-ONE\", fontsize=fontsize)\n",
    "ax1.text(3.2, -24.3, r\"$\\nu_\\mu$\", fontsize=fontsize)\n",
    "ax1.text(3.2, -24.9, r\"$\\nu_e$\", fontsize=fontsize)\n",
    "ax1.text(3.1, -25.3, r\"$\\nu_\\tau$\", fontsize=fontsize)\n",
    "ax1.text(4.2, -25.5, \"Thermal Relic Abundance\", fontsize=fontsize)\n",
    "plt.grid()\n",
    "# ---------------------------------------------\n",
    "# Showing the image\n",
    "plt.show()\n",
    "# ---------------------------------------------\n",
    "# Storing the image\n",
    "figure.savefig(PICS + \"All_Limits.png\",\n",
    "               bbox_inches='tight', dpi=export_dpi)"
   ]
  },
  {
   "cell_type": "code",
   "execution_count": null,
   "id": "d26bbfe6",
   "metadata": {},
   "outputs": [],
   "source": []
  },
  {
   "cell_type": "code",
   "execution_count": 27,
   "id": "afefaab3",
   "metadata": {},
   "outputs": [
    {
     "data": {
      "image/png": "[encoded data removed]",
      "text/plain": [
       "<Figure size 432x288 with 1 Axes>"
      ]
     },
     "metadata": {
      "needs_background": "light"
     },
     "output_type": "display_data"
    }
   ],
   "source": [
    "samples = np.random.lognormal(4, 0.3 * 4., 1000)\n",
    "count, bins, ignored = plt.hist(samples, 100, density=False, align='mid')"
   ]
  },
  {
   "cell_type": "code",
   "execution_count": 28,
   "id": "af7c9a46",
   "metadata": {},
   "outputs": [],
   "source": [
    "mid_e_grid = np.logspace(3, 4, 100)"
   ]
  },
  {
   "cell_type": "code",
   "execution_count": 29,
   "id": "bb9e3d4e",
   "metadata": {},
   "outputs": [],
   "source": [
    "spl_mid_mean = UnivariateSpline([1e3, 1e4], [700., 1e4], k=1)\n",
    "spl_mid_sigma = UnivariateSpline([1e3, 1e4], [0.45, 0.35], k=1)"
   ]
  },
  {
   "cell_type": "code",
   "execution_count": 30,
   "id": "27f978f5",
   "metadata": {},
   "outputs": [],
   "source": [
    "def local_log_normal(x, mu, sigma):\n",
    "    \"\"\"Distribution function \n",
    "    x = E_grid\n",
    "    mu = log(E) \n",
    "    sigma = fraction of E  ( so no fraction or percentage ) ( standard deviation as per definition )\n",
    "    \"\"\"\n",
    "    sigma = ( sigma  )\n",
    "    pdf = np.exp(-( np.log(x) - mu )**2 / (2 * sigma**2)) / (x * sigma * np.sqrt(2 * np.pi))\n",
    "\n",
    "    return pdf"
   ]
  },
  {
   "cell_type": "code",
   "execution_count": 31,
   "id": "ce141083",
   "metadata": {},
   "outputs": [],
   "source": [
    "def distro_parms(Etrue):\n",
    "    \"\"\" Parameter estimation function depending  on the E_true\n",
    "    [mu] = [log(E/GeV)]\n",
    "    sigma = fraction of E \n",
    "    \"\"\"\n",
    "    if Etrue < 1e3:\n",
    "        mu = np.log(700)\n",
    "        sigma = 0.45 \n",
    "    elif 1e3 <= Etrue <= 1e4:\n",
    "        mu = np.log(spl_mid_mean(Etrue))\n",
    "        sigma = spl_mid_sigma(Etrue) \n",
    "    else:\n",
    "        mu = np.log(Etrue)\n",
    "        sigma = 0.35 \n",
    "    return mu, sigma\n",
    "\n",
    "\n",
    "#def smearing(Etrue, number_of_events, sampling_grid=hist_grid):\n",
    "#    mu, sigma = distro_parms(Etrue)\n",
    "#    return (\n",
    "#        np.nan_to_num(local_log_normal(sampling_grid, mu, sigma)) *\n",
    "#        number_of_events\n",
    "#    )\n"
   ]
  },
  {
   "cell_type": "code",
   "execution_count": 32,
   "id": "306dccf6",
   "metadata": {},
   "outputs": [],
   "source": [
    "samples_fun = []\n",
    "samples = []\n",
    "for i,E in enumerate(pdm._shower_sim.egrid):\n",
    "    mu, sigma = distro_parms(E)\n",
    "    samples.append(np.random.lognormal((mu), sigma, len(e_grid))) # Axis0 = E, meaning the axis0 elements are the E_ture for which axis1 correspondece as distribution !!! Thats why transpose for imshow\n",
    "    samples_fun.append(np.nan_to_num(local_log_normal(e_grid, mu, sigma)))"
   ]
  },
  {
   "cell_type": "code",
   "execution_count": 33,
   "id": "bf2d6fb5",
   "metadata": {},
   "outputs": [
    {
     "data": {
      "text/plain": [
       "array([ 687.98110682,  445.49080083,  357.57131341,  554.26921275,\n",
       "       1145.76588528,  311.69559635,  670.81668005,  760.39065281,\n",
       "        544.35308809,  706.10900953,  891.89600476,  380.55890727,\n",
       "        948.8583547 , 1196.21391091,  730.28259734,  839.49747412,\n",
       "       1840.62049059,  728.50958537,  551.06522895, 1516.06258352,\n",
       "        416.70099141,  880.85480348, 1545.57959565,  990.41028427,\n",
       "        467.85788661,  487.7537002 , 1079.79260416,  459.25562412,\n",
       "       1545.37081623,  282.62139972,  635.50658483,  628.76464604,\n",
       "        506.5088049 ,  773.49618967,  794.04762066,  524.46149001,\n",
       "       2114.22577312, 1904.75807605, 1318.52487117,  528.23523833,\n",
       "        775.31779253,  841.41832215,  456.7085246 ,  892.11534814,\n",
       "        631.20219192, 1136.04361558, 2171.79567158, 1602.51383024,\n",
       "       1411.9527091 ,  519.54296006,  739.549042  , 1024.15393763,\n",
       "        608.40939667, 1021.73790011,  953.91406603,  641.4099431 ,\n",
       "       1595.30353401,  937.75444765,  767.51176444, 1118.73977332,\n",
       "       2221.61678083, 1809.60244181,  523.35305429, 1048.92491528,\n",
       "       1206.53914385,  576.56855736,  900.61455694, 1269.98607485,\n",
       "        655.01523811, 1048.15771042, 1421.96347495,  599.28461558,\n",
       "        671.70245662,  527.25986931,  667.33557292,  338.20124323,\n",
       "        646.13935182,  406.90815888,  918.05805602, 1075.97272986,\n",
       "        576.69785607,  602.74666766,  757.65663226,  697.81805435,\n",
       "        715.64271317,  587.82830194,  529.69941373,  345.07413188,\n",
       "       1292.69823219,  731.52662077,  821.88503711,  416.80160966,\n",
       "        530.1568722 ,  763.42026942, 1345.31403113,  859.8701239 ,\n",
       "       1004.81445727,  736.04790015,  743.79430014,  502.07159355,\n",
       "       1118.46284548,  369.84964304,  851.74272567, 1048.58402047,\n",
       "        675.11620963,  613.99078857,  194.83996405,  736.32807879,\n",
       "        424.34824988,  877.19140235,  562.31524924,  636.31013593,\n",
       "        725.63073061,  578.51652638,  583.1764131 ,  997.06199104,\n",
       "        542.48319325,  424.08879175,  538.23000244,  881.35604386,\n",
       "        545.14907645])"
      ]
     },
     "execution_count": 33,
     "metadata": {},
     "output_type": "execute_result"
    }
   ],
   "source": [
    "samples[0]"
   ]
  },
  {
   "cell_type": "code",
   "execution_count": 34,
   "id": "963a5c4d",
   "metadata": {},
   "outputs": [
    {
     "data": {
      "image/png": "[encoded data removed]",
      "text/plain": [
       "<Figure size 432x324 with 1 Axes>"
      ]
     },
     "metadata": {
      "needs_background": "light"
     },
     "output_type": "display_data"
    }
   ],
   "source": [
    "figure, (ax1) = plt.subplots(1, 1, figsize=(std_size, std_size * 6./8. ), sharex=True)\n",
    "z_p=ax1.imshow((np.array(samples_fun).T)*e_grid, origin='lower', extent=( min(np.log10(e_grid)), max(np.log10(e_grid)), min(np.log10(e_grid)), max(np.log10(e_grid)) ), cmap=plt.get_cmap('binary'))\n",
    "#figure.colorbar(z_p, ax=(ax1))\n",
    "ax1.contour(np.array(samples_fun*e_grid).T, levels = [0.68], colors='purple', linestyles='-',\n",
    "            origin='lower', extent=( min(np.log10(e_grid)), max(np.log10(e_grid)), min(np.log10(e_grid)), max(np.log10(e_grid))) )\n",
    "#ax1.contour((samples_fun*e_grid).T, levels = [1.2], colors='purple', linestyles='-',\n",
    "#            origin='lower', extent=( min(np.log10(e_grid)), max(np.log10(e_grid)), min(np.log10(e_grid)), max(np.log10(e_grid))) )\n",
    "\n",
    "\n",
    "ax1.set_xlabel(r\"$log_{10}$ $E_{true} / GeV$\", fontsize=fontsize)\n",
    "ax1.set_ylabel(r\"$log_{10}$ $E_{Recon} / GeV$\", fontsize=fontsize)\n",
    "#ax1.set_ylabel(r\"Distribution fraction\", fontsize=fontsize)\n",
    "ax1.tick_params(axis = 'both', which = 'major', labelsize=fontsize-5, direction='in')\n",
    "ax1.tick_params(axis = 'both', which = 'minor', labelsize=fontsize-5, direction='in')\n",
    "ax1.set_xlim(2,8)\n",
    "ax1.set_ylim(2,8)\n",
    "# ---------------------------------------------\n",
    "# Legend\n",
    "# plt.legend(fontsize=fontsize)\n",
    "h, l = ax1.get_legend_handles_labels()\n",
    "lgd1 = ax1.legend(h, l, loc=9, bbox_to_anchor=(0.4, +1.),\n",
    "                 ncol=1, fontsize=fontsize-3, handlelength=h_length,\n",
    "                 fancybox=True, frameon=False)\n",
    "ax1.add_artist(lgd1)\n",
    "\n",
    "plt.grid()"
   ]
  },
  {
   "cell_type": "code",
   "execution_count": 35,
   "id": "128e7116",
   "metadata": {},
   "outputs": [
    {
     "name": "stdout",
     "output_type": "stream",
     "text": [
      "1.008859951546397\n",
      "1.008859951546397\n",
      "1.008859951546397\n",
      "1.008859951546397\n",
      "1.008859951546397\n",
      "1.008859951546397\n",
      "1.008859951546397\n",
      "1.008859951546397\n",
      "1.008859951546397\n",
      "1.008859951546397\n",
      "1.008859951546397\n",
      "1.008859951546397\n",
      "1.008859951546397\n",
      "1.008859951546397\n",
      "1.008859951546397\n",
      "1.008859951546397\n",
      "1.008859951546397\n",
      "1.008859951546397\n",
      "1.008859951546397\n",
      "1.008859951546397\n",
      "1.008859951546397\n",
      "1.008859951546397\n",
      "1.008859951546397\n",
      "1.008859951546397\n",
      "1.008859951546397\n",
      "1.008859951546397\n",
      "1.008859951546397\n",
      "1.008859951546397\n",
      "1.008859951546397\n",
      "1.008859951546397\n",
      "1.008859951546397\n",
      "1.008859951546397\n",
      "1.008859951546397\n",
      "1.008859951546397\n",
      "1.008859951546397\n",
      "1.008859951546397\n",
      "1.008859951546397\n",
      "1.008859951546397\n",
      "1.008859951546397\n",
      "1.008859951546397\n",
      "1.008859951546397\n",
      "1.008859951546397\n",
      "1.008859951546397\n",
      "1.008859951546397\n",
      "1.008859951546397\n",
      "1.0088599515463972\n",
      "1.0088599515463972\n",
      "1.008859951546397\n",
      "1.008859951546397\n",
      "1.008859951546397\n",
      "1.008859951546397\n",
      "1.0088599515463965\n",
      "1.0088599515463967\n",
      "1.0088599515463967\n",
      "1.008859951546397\n",
      "1.0088599515463967\n",
      "1.0088599515463967\n",
      "1.0088599515463967\n",
      "1.0088599515463965\n",
      "1.008859951546397\n",
      "1.0088599515463974\n",
      "1.0088599515463974\n",
      "1.0088599515463967\n",
      "1.0088599515463965\n",
      "1.0088599515463965\n",
      "1.008859951546397\n",
      "1.0088599515463972\n",
      "1.0088599515463974\n",
      "1.0088599515463972\n",
      "1.0088599515463967\n",
      "1.0088599515463965\n",
      "1.0088599515463959\n",
      "1.0088599515463959\n",
      "1.0088599515463967\n",
      "1.0088599515463974\n",
      "1.0088599515463978\n",
      "1.0088599515463974\n",
      "1.0088599515463965\n",
      "1.0088599515463959\n",
      "1.0088599515463963\n",
      "1.0088599515463976\n",
      "1.0088599515463983\n",
      "1.0088599515463978\n",
      "1.008859951546397\n",
      "1.0088599515463965\n",
      "1.008859951546397\n",
      "1.0088599515463974\n",
      "1.0088599515463974\n",
      "1.0088599515463965\n",
      "1.0088599515463954\n",
      "1.008859951546395\n",
      "1.0088599515463954\n",
      "1.008859951546396\n",
      "1.0088599515463974\n",
      "1.0088599515463985\n",
      "1.0088599515463987\n",
      "1.0088599515463978\n",
      "1.008859951546397\n",
      "1.0088599515463967\n",
      "1.008859951546397\n",
      "1.0088599515463972\n",
      "1.0088599515463976\n",
      "1.0088599515463974\n",
      "1.0088599515463965\n",
      "1.0088599515463952\n",
      "1.008859951546395\n",
      "1.0088599515463954\n",
      "1.0088599515463963\n",
      "1.008859951546393\n",
      "1.0088599515457641\n",
      "1.0088599514862897\n",
      "1.0088599478389784\n",
      "1.008859802395111\n",
      "1.0088560263087643\n",
      "1.00879207937406\n",
      "1.0080837990024158\n",
      "1.0029331496579985\n",
      "0.9782136225224429\n",
      "0.8994026757013434\n",
      "0.7312278948002646\n",
      "0.4892548820719381\n"
     ]
    }
   ],
   "source": [
    "for i,_ in enumerate(e_grid):\n",
    "    print(np.trapz(samples_fun[i], x=e_grid))"
   ]
  },
  {
   "cell_type": "code",
   "execution_count": 36,
   "id": "d9a2d77e",
   "metadata": {},
   "outputs": [
    {
     "ename": "NameError",
     "evalue": "name 'count_np' is not defined",
     "output_type": "error",
     "traceback": [
      "\u001b[0;31m---------------------------------------------------------------------------\u001b[0m",
      "\u001b[0;31mNameError\u001b[0m                                 Traceback (most recent call last)",
      "\u001b[1;32m/home/kruteesh/Desktop/DM_nu_simulation_P-One/PONE_git/pone_work/pone_dm/example_basic copy.ipynb Cell 38'\u001b[0m in \u001b[0;36m<cell line: 2>\u001b[0;34m()\u001b[0m\n\u001b[1;32m      <a href='vscode-notebook-cell:/home/kruteesh/Desktop/DM_nu_simulation_P-One/PONE_git/pone_work/pone_dm/example_basic%20copy.ipynb#ch0000037?line=0'>1</a>\u001b[0m figure, (ax1) \u001b[39m=\u001b[39m plt\u001b[39m.\u001b[39msubplots(\u001b[39m1\u001b[39m, \u001b[39m1\u001b[39m, figsize\u001b[39m=\u001b[39m(std_size, std_size \u001b[39m*\u001b[39m \u001b[39m6.\u001b[39m\u001b[39m/\u001b[39m\u001b[39m8.\u001b[39m ), sharex\u001b[39m=\u001b[39m\u001b[39mTrue\u001b[39;00m)\n\u001b[0;32m----> <a href='vscode-notebook-cell:/home/kruteesh/Desktop/DM_nu_simulation_P-One/PONE_git/pone_work/pone_dm/example_basic%20copy.ipynb#ch0000037?line=1'>2</a>\u001b[0m ax1\u001b[39m.\u001b[39mimshow((count_np\u001b[39m*\u001b[39me_grid)\u001b[39m.\u001b[39mT, origin\u001b[39m=\u001b[39m\u001b[39m'\u001b[39m\u001b[39mlower\u001b[39m\u001b[39m'\u001b[39m, extent\u001b[39m=\u001b[39m( \u001b[39mmin\u001b[39m(np\u001b[39m.\u001b[39mlog10(e_grid)), \u001b[39mmax\u001b[39m(np\u001b[39m.\u001b[39mlog10(e_grid)), \u001b[39mmin\u001b[39m(np\u001b[39m.\u001b[39mlog10(e_grid)), \u001b[39mmax\u001b[39m(np\u001b[39m.\u001b[39mlog10(e_grid)) ))\n\u001b[1;32m      <a href='vscode-notebook-cell:/home/kruteesh/Desktop/DM_nu_simulation_P-One/PONE_git/pone_work/pone_dm/example_basic%20copy.ipynb#ch0000037?line=2'>3</a>\u001b[0m ax1\u001b[39m.\u001b[39mset_xlabel(\u001b[39mr\u001b[39m\u001b[39m\"\u001b[39m\u001b[39mlog $E_\u001b[39m\u001b[39m{true}\u001b[39;00m\u001b[39m$\u001b[39m\u001b[39m\"\u001b[39m, fontsize\u001b[39m=\u001b[39mfontsize)\n\u001b[1;32m      <a href='vscode-notebook-cell:/home/kruteesh/Desktop/DM_nu_simulation_P-One/PONE_git/pone_work/pone_dm/example_basic%20copy.ipynb#ch0000037?line=3'>4</a>\u001b[0m ax1\u001b[39m.\u001b[39mset_ylabel(\u001b[39mr\u001b[39m\u001b[39m\"\u001b[39m\u001b[39mlog $E_\u001b[39m\u001b[39m{Recon}\u001b[39;00m\u001b[39m$\u001b[39m\u001b[39m\"\u001b[39m, fontsize\u001b[39m=\u001b[39mfontsize)\n",
      "\u001b[0;31mNameError\u001b[0m: name 'count_np' is not defined"
     ]
    },
    {
     "data": {
      "image/png": "[encoded data removed]",
      "text/plain": [
       "<Figure size 432x324 with 1 Axes>"
      ]
     },
     "metadata": {
      "needs_background": "light"
     },
     "output_type": "display_data"
    }
   ],
   "source": [
    "figure, (ax1) = plt.subplots(1, 1, figsize=(std_size, std_size * 6./8. ), sharex=True)\n",
    "ax1.imshow((count_np*e_grid).T, origin='lower', extent=( min(np.log10(e_grid)), max(np.log10(e_grid)), min(np.log10(e_grid)), max(np.log10(e_grid)) ))\n",
    "ax1.set_xlabel(r\"log $E_{true}$\", fontsize=fontsize)\n",
    "ax1.set_ylabel(r\"log $E_{Recon}$\", fontsize=fontsize)\n",
    "ax1.tick_params(axis = 'both', which = 'major', labelsize=fontsize-5, direction='in')\n",
    "ax1.tick_params(axis = 'both', which = 'minor', labelsize=fontsize-5, direction='in')\n",
    "\n",
    "# ---------------------------------------------\n",
    "# Legend\n",
    "# plt.legend(fontsize=fontsize)\n",
    "h, l = ax1.get_legend_handles_labels()\n",
    "lgd1 = ax1.legend(h, l, loc=9, bbox_to_anchor=(0.4, +1.),\n",
    "                 ncol=1, fontsize=fontsize-3, handlelength=h_length,\n",
    "                 fancybox=True, frameon=False)\n",
    "ax1.add_artist(lgd1)\n",
    "\n",
    "plt.grid()"
   ]
  },
  {
   "cell_type": "code",
   "execution_count": null,
   "id": "0b1ac938",
   "metadata": {},
   "outputs": [],
   "source": [
    "np.array(count_np).shape"
   ]
  },
  {
   "cell_type": "code",
   "execution_count": null,
   "id": "1c6b8a2e",
   "metadata": {},
   "outputs": [],
   "source": [
    "count_np"
   ]
  },
  {
   "cell_type": "code",
   "execution_count": null,
   "id": "d18de8e7",
   "metadata": {},
   "outputs": [],
   "source": []
  }
 ],
 "metadata": {
  "interpreter": {
   "hash": "82a3a656d33f35b7f3fe77a22343614a58c995dc979ba6da45d214804d59b344"
  },
  "kernelspec": {
   "display_name": "Python 3.9.5 64-bit ('pdm': conda)",
   "name": "python3"
  },
  "language_info": {
   "codemirror_mode": {
    "name": "ipython",
    "version": 3
   },
   "file_extension": ".py",
   "mimetype": "text/x-python",
   "name": "python",
   "nbconvert_exporter": "python",
   "pygments_lexer": "ipython3",
   "version": "3.9.11"
  }
 },
 "nbformat": 4,
 "nbformat_minor": 5
}
