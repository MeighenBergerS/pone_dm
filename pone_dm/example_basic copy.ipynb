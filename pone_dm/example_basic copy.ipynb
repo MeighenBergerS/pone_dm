{
 "cells": [
  {
   "cell_type": "code",
   "execution_count": 1,
   "metadata": {},
   "outputs": [],
   "source": [
    "# Name: example_basic\n",
    "# Authors: Stephan Meighen-Berger, Kruteesh Desai\n",
    "# A basic example how to use the package"
   ]
  },
  {
   "cell_type": "code",
   "execution_count": 2,
   "metadata": {},
   "outputs": [],
   "source": [
    "# imports\n",
    "from constants import pdm_constants as const\n",
    "from config import config\n",
    "from pone_aeff import Aeff\n",
    "from dm2nu import DM2Nu\n",
    "from atm_shower import Atm_Shower\n",
    "from detectors import Detector\n",
    "import numpy as np\n",
    "\n",
    "import matplotlib.pyplot as plt\n",
    "from matplotlib.lines import Line2D\n",
    "import matplotlib.patches as mpatches\n",
    "\n",
    "from limit_calc import Limits\n",
    "from bkgrd_calc import Background\n",
    "from signal_calc import Signal\n",
    "from pdm import PDM\n",
    "from scipy.interpolate import UnivariateSpline\n",
    "from scipy.stats import chi2\n",
    "from scipy.stats import *\n",
    "from pone_aeff import Aeff\n",
    "import pickle\n",
    "from matplotlib import rc\n",
    "def find_nearest(array: np.array, value: float):\n",
    "    \n",
    "    \"\"\" Returns: index of the nearest vlaue of an array to the given number\n",
    "    --------------\n",
    "    idx :  float\n",
    "    \"\"\"\n",
    "    array = np.array(array)\n",
    "    idx = (np.abs(array - value)).argmin()\n",
    "    return idx"
   ]
  },
  {
   "cell_type": "code",
   "execution_count": 3,
   "metadata": {},
   "outputs": [],
   "source": [
    "# picture path\n",
    "PICS = '../pics/'\n",
    "name=[r'$\\nu_{\\mu}$', r\"$\\nu_e$\", r\"$\\nu_{\\tau}$\"]  # ,r'$\\nu_{e}$',r'$\\nu_{\\tau}$'\n",
    "# Plotting standards\n",
    "std_size = 6.  # Size of the plot\n",
    "fontsize = 15.  # Fontsize in the plot\n",
    "lw=0.1  # Linewidth\n",
    "h_length=0.7  # Handle length for the legends\n",
    "export_dpi = 500  # Dpi for the image export\n",
    "color_pone='#7570b3'\n",
    "color_ice='#e7298a'\n",
    "color_combined='#33a02c'\n",
    "color_thermal='#1f78b4'\n",
    "color_unitary='k'\n",
    "color_4='#1b9e77'\n",
    "color_6='#d95f02'\n",
    "rc('font',**{'family':'sans-serif','sans-serif':['Helvetica']})\n",
    "rc('text', usetex=True)"
   ]
  },
  {
   "cell_type": "code",
   "execution_count": 4,
   "id": "55557ef9",
   "metadata": {},
   "outputs": [],
   "source": [
    "low_E_sigma = {\n",
    "                'numu': [0.45, 0.35, 0.25, 0.15],\n",
    "                'nue': [0.55, 0.45, 0.35, 0.25],\n",
    "                'nutau': [0.55, 0.45, 0.35, 0.25]},\n",
    "high_E_sigma = {\n",
    "                'numu': [0.25, 0.15, 0.10, 0.09],\n",
    "                'nue': [0.15, 0.12, 0.09, 0.07],\n",
    "                'nutau': [0.15, 0.12, 0.09, 0.07] }"
   ]
  },
  {
   "cell_type": "code",
   "execution_count": 5,
   "metadata": {},
   "outputs": [],
   "source": [
    "# Some example settings\n",
    "#config['atmospheric showers']['interaction model'] = 'SIBYLL2.3c'\n",
    "#config['atmospheric showers']['theta angles'] = np.linspace(0., 90., 91)|\n",
    "#config['atmospheric showers']['particles of interest']=['nue']\n",
    "config['general']['detector'] = 'POne'\n",
    "config['general']['pone type'] = 'old'\n",
    "config['general']['density'] = 'NFW'  # 'NFW'\n",
    "config['general'][\"channel\"] = \"All\" \n",
    "config['pone']['smearing'] = 'unsmeared'\n",
    "config['pone']['low E sigma'] = {'numu': 0.25,\n",
    "                                 'nue': 0.45,\n",
    "                                 'nutau': 0.45}\n",
    "config['pone']['high E sigma'] = {'numu': 0.15,\n",
    "                                 'nue': 0.12,\n",
    "                                 'nutau': 0.12}\n",
    "#low E sigma': {\n",
    "#                'numu': [0.45, 0.35, 0.25, 0.15],\n",
    "#                'nue': [0.55, 0.45, 0.35, 0.25],\n",
    "#                'nutau': [0.55, 0.45, 0.35, 0.25]},\n",
    "#            'high E sigma': {\n",
    "#                'numu': [0.25, 0.15, 0.10, 0.09],\n",
    "#                'nue': [0.15, 0.12, 0.09, 0.07],\n",
    "#                'nutau': [0.15, 0.12, 0.09, 0.07]"
   ]
  },
  {
   "cell_type": "code",
   "execution_count": 6,
   "id": "f846c559",
   "metadata": {},
   "outputs": [],
   "source": [
    "surface_fluxe = pickle.load(open(\"../data/\" +\n",
    "                                                   \"surf_store_v1.p\", \"rb\"))"
   ]
  },
  {
   "cell_type": "code",
   "execution_count": 7,
   "metadata": {},
   "outputs": [
    {
     "name": "stdout",
     "output_type": "stream",
     "text": [
      "unsmeared\n",
      "POne\n",
      "pone background\n",
      "Starting Calculation\n",
      "False\n",
      "Finished Calculating Background\n"
     ]
    },
    {
     "name": "stderr",
     "output_type": "stream",
     "text": [
      "/home/kruteesh/Desktop/DM_nu_simulation_P-One/PONE_git/pone_work/pone_dm/dm2nu.py:363: RuntimeWarning: overflow encountered in multiply\n",
      "  return A * aa * dd\n",
      "/home/kruteesh/Desktop/DM_nu_simulation_P-One/PONE_git/pone_work/pone_dm/dm2nu.py:362: RuntimeWarning: overflow encountered in exp\n",
      "  dd = np.exp(d_2 / s_in(x)**2)\n",
      "100%|██████████| 3/3 [00:00<00:00, 32.32it/s]\n"
     ]
    }
   ],
   "source": [
    "pdm = PDM()"
   ]
  },
  {
   "cell_type": "code",
   "execution_count": 8,
   "id": "61ecc33a",
   "metadata": {},
   "outputs": [],
   "source": [
    "e_grid = pdm._shower_sim.egrid\n",
    "e_width = pdm._shower_sim.ewidth"
   ]
  },
  {
   "cell_type": "code",
   "execution_count": 9,
   "id": "19c2f1f2",
   "metadata": {},
   "outputs": [],
   "source": [
    "_bkgrd_ice_data = [\n",
    "                        '../data/icecube_10year_ps/events/IC40_exp.csv',\n",
    "                        '../data/icecube_10year_ps/events/IC59_exp.csv',\n",
    "                        '../data/icecube_10year_ps/events/IC79_exp.csv',\n",
    "                        '../data/icecube_10year_ps/events/IC86_I_exp.csv',\n",
    "                        '../data/icecube_10year_ps/events/IC86_II_exp.csv',\n",
    "                        '../data/icecube_10year_ps/events/IC86_III_exp.csv',\n",
    "                        '../data/icecube_10year_ps/events/IC86_IV_exp.csv',\n",
    "                        '../data/icecube_10year_ps/events/IC86_V_exp.csv',\n",
    "                        '../data/icecube_10year_ps/events/IC86_VI_exp.csv',\n",
    "                        '../data/icecube_10year_ps/events/IC86_VII_exp.csv',\n",
    "                    ]"
   ]
  },
  {
   "cell_type": "code",
   "execution_count": 10,
   "id": "e1b26c4b",
   "metadata": {},
   "outputs": [],
   "source": [
    "e_grid = e_grid\n",
    "eff_po_15 = pdm._aeff.spl_A15(e_grid)\n",
    "eff_po_51 = pdm._aeff.spl_A51(e_grid)\n",
    "eff_po_55 = pdm._aeff.spl_A55(e_grid)\n",
    "\n",
    "eff_ice = pickle.load(open('/home/kruteesh/Desktop/dm_data_server/eff_area_ice.pkl','rb'))"
   ]
  },
  {
   "cell_type": "code",
   "execution_count": 11,
   "id": "f53996c0",
   "metadata": {},
   "outputs": [
    {
     "name": "stderr",
     "output_type": "stream",
     "text": [
      "findfont: Font family ['sans-serif'] not found. Falling back to DejaVu Sans.\n"
     ]
    },
    {
     "data": {
      "image/png": "[encoded data removed]",
      "text/plain": [
       "<Figure size 432x432 with 1 Axes>"
      ]
     },
     "metadata": {
      "needs_background": "light"
     },
     "output_type": "display_data"
    }
   ],
   "source": [
    "figure, ax1 = plt.subplots(1,1,figsize=(std_size,std_size), sharex=True) \n",
    "\n",
    "\n",
    "ax1.step(np.log10(e_grid), eff_po_15, color=color_pone, label=r'P-ONE' )\n",
    "ax1.step(np.log10(e_grid), eff_ice[30], color=color_ice, label=r'IceCube')\n",
    "ax1.step(np.log10(e_grid), eff_po_55, color=color_pone, linestyle='-.')\n",
    "ax1.step(np.log10(e_grid), eff_ice[75], color=color_ice, linestyle='-.')\n",
    "\n",
    "ax1.set_yscale(\"log\")\n",
    "\n",
    "ax1.set_xlabel(r'$\\log_{10}$ ( $\\textrm{E}$ / $ \\textrm{GeV} )$ ', fontsize=fontsize)\n",
    "\n",
    "ax1.set_ylabel(r'$\\textrm{Effective Area}$ $[ \\textrm{m}^2 ]$', fontsize=fontsize)\n",
    "\n",
    "ax1.tick_params(axis = 'both', which = 'major', labelsize=fontsize, direction='in')\n",
    "ax1.tick_params(axis = 'both', which = 'minor', labelsize=fontsize, direction='in')\n",
    "\n",
    "\n",
    "\n",
    "ax1.set_xlim(2, 7)\n",
    "\n",
    "ax1.set_ylim(1e1,1e8)\n",
    "h, l = ax1.get_legend_handles_labels()\n",
    "lgd1 = ax1.legend(h, l, loc=7, bbox_to_anchor=(0.95, +0.1),\n",
    "                 ncol=2, fontsize=fontsize, handlelength=h_length,\n",
    "                 fancybox=True, frameon=False)\n",
    "ax1.add_artist(lgd1)\n",
    "legend_elements_s = [Line2D([0], [0], color='k',lw=1),\n",
    "                   Line2D([0], [0], color='k', linestyle='-.', lw=1.1)\n",
    "                  ]\n",
    "labels_s = [r'$\\textrm{zenith angle}$ $30^{\\circ}$',\n",
    "          r'$\\textrm{zenith angle}$ $75^{\\circ}$'\n",
    "          ]\n",
    "lgd2 = ax1.legend(legend_elements_s, labels_s, loc=7, bbox_to_anchor=(0.95, +1.03),\n",
    "             ncol=2, fontsize=fontsize, handlelength=h_length,\n",
    "             fancybox=True, frameon=False)\n",
    "ax1.add_artist(lgd2)\n",
    "# ---------------------------------------------\n",
    "# Showing the image\n",
    "plt.show()\n",
    "figure.savefig(PICS + \"Final_eff_area\"+\".png\",\n",
    "               bbox_inches='tight', dpi=export_dpi, facecolor='white')"
   ]
  },
  {
   "cell_type": "code",
   "execution_count": null,
   "id": "f67b2db5",
   "metadata": {},
   "outputs": [],
   "source": []
  },
  {
   "cell_type": "code",
   "execution_count": 12,
   "metadata": {},
   "outputs": [],
   "source": [
    "# Grids\n",
    "mass_grid = config['simulation parameters']['mass grid']\n",
    "sv_grid = config['simulation parameters']['sv grid']\n",
    "m_4_id = find_nearest(mass_grid, 1e4)\n",
    "m_6_id = find_nearest(mass_grid, 1e6)\n",
    "m_3_id = find_nearest(mass_grid, 1e3)\n",
    "m_5_id = find_nearest(mass_grid, 1e5)\n",
    "sv_56 = find_nearest(sv_grid, 56e-23)\n",
    "# The limit calculation\n"
   ]
  },
  {
   "cell_type": "code",
   "execution_count": 13,
   "metadata": {},
   "outputs": [
    {
     "data": {
      "text/plain": [
       "array([[[2.12522998e+02, 1.63541848e-04],\n",
       "        [3.75355026e+02, 1.17293567e-04],\n",
       "        [6.29536175e+02, 4.82400307e-05],\n",
       "        [1.29846584e+03, 2.68117327e-05],\n",
       "        [2.54321174e+03, 1.27334869e-05],\n",
       "        [5.08126850e+03, 5.00379406e-06],\n",
       "        [1.02741133e+04, 1.64695632e-06],\n",
       "        [2.01231674e+04, 6.33333228e-07],\n",
       "        [4.15055504e+04, 3.04185979e-07],\n",
       "        [8.12939394e+04, 1.45312927e-07],\n",
       "        [1.64454709e+05, 5.65882534e-08],\n",
       "        [2.78806881e+05, 4.47804058e-08],\n",
       "        [4.21663736e+05, 3.16824398e-08],\n",
       "        [7.56379773e+05, 2.36346234e-08],\n",
       "        [1.97223492e+06, 1.29547786e-08]]])"
      ]
     },
     "execution_count": 13,
     "metadata": {},
     "output_type": "execute_result"
    }
   ],
   "source": [
    "dphi_2=np.loadtxt(open(\"../data/m_1e2.csv\"), delimiter = \",\")\n",
    "dphi_2[dphi_2[:,0].sort()]\n",
    "\n",
    "dphi_4=np.loadtxt(open(\"../data/m_1e4.csv\"), delimiter = \",\")\n",
    "dphi_4[dphi_4[:,0].sort()]\n",
    "\n",
    "dphi_6=np.loadtxt(open(\"../data/m_1e6.csv\"), delimiter = \",\")\n",
    "dphi_6[dphi_6[:,0].sort()]\n",
    "dphi_ice=np.loadtxt(open(\"../data/icecube.csv\"), delimiter = \",\")\n",
    "dphi_ice[dphi_ice[:,0].sort()]"
   ]
  },
  {
   "cell_type": "code",
   "execution_count": null,
   "id": "9ab43a15",
   "metadata": {},
   "outputs": [],
   "source": []
  },
  {
   "cell_type": "code",
   "execution_count": 14,
   "metadata": {},
   "outputs": [],
   "source": [
    "dphi_4=UnivariateSpline(dphi_4[:,0],dphi_4[:,1],k=1,s=0,ext=1)\n",
    "#mass_grid[0],sv_grid[-1],mass_grid[-1],sv_grid[-1]\n",
    "dphi_ic=UnivariateSpline(dphi_ice[:,0],dphi_ice[:,1],k=1,s=0,ext=1)\n",
    "dphi_6=UnivariateSpline(dphi_6[:,0],dphi_6[:,1],k=1,s=0, ext=1)\n",
    "dphi_2=UnivariateSpline(dphi_2[:,0],dphi_2[:,1],k=1,s=0, ext=1)\n"
   ]
  },
  {
   "cell_type": "code",
   "execution_count": 15,
   "id": "388d6c41",
   "metadata": {},
   "outputs": [],
   "source": [
    "\n",
    "\n",
    "shower_flux = pickle.load(open('../data/shower.p','rb'))\n",
    "shower_po = shower_flux[2][45]['numu']\n",
    "surface_fluxe_ice = pickle.load(open(\"../data/surf_store_v1.p\", \"rb\"))\n",
    "shower_ice = surface_fluxe_ice[20][3] # background fluxes at 20° ----\n",
    "\n"
   ]
  },
  {
   "cell_type": "code",
   "execution_count": 16,
   "id": "303311fb",
   "metadata": {},
   "outputs": [],
   "source": [
    "np.logspace(2,6,53)[26]\n",
    "sv_7 = find_nearest(sv_grid, 7e-23)\n",
    "m_2_id = find_nearest(mass_grid, 1e2)"
   ]
  },
  {
   "cell_type": "code",
   "execution_count": 17,
   "id": "a8f4087d",
   "metadata": {},
   "outputs": [
    {
     "data": {
      "text/plain": [
       "0"
      ]
     },
     "execution_count": 17,
     "metadata": {},
     "output_type": "execute_result"
    }
   ],
   "source": [
    "m_2_id"
   ]
  },
  {
   "cell_type": "code",
   "execution_count": 18,
   "id": "aa7b9286",
   "metadata": {},
   "outputs": [
    {
     "name": "stderr",
     "output_type": "stream",
     "text": [
      "/home/kruteesh/Desktop/DM_nu_simulation_P-One/PONE_git/pone_work/pone_dm/dm2nu.py:363: RuntimeWarning: overflow encountered in multiply\n",
      "  return A * aa * dd\n",
      "/home/kruteesh/Desktop/DM_nu_simulation_P-One/PONE_git/pone_work/pone_dm/dm2nu.py:362: RuntimeWarning: overflow encountered in exp\n",
      "  dd = np.exp(d_2 / s_in(x)**2)\n"
     ]
    },
    {
     "data": {
      "image/png": "[encoded data removed]",
      "text/plain": [
       "<Figure size 432x432 with 1 Axes>"
      ]
     },
     "metadata": {
      "needs_background": "light"
     },
     "output_type": "display_data"
    }
   ],
   "source": [
    "figure, ax1 = plt.subplots(1, 1, figsize=(std_size,std_size), sharex=True) \n",
    "#  $<\\sigma\\nu>=%.1e$ $cm^{3}s^{-1}$' ,sv_grid[sv_56]\n",
    "#label=r'$m_{x}=1.0e+04$ $\\textrm{GeV} (Carlos$ $et.al)$'\n",
    "#label=r'$m_{x}=1.0e+06$ $\\textrm{\\textrm{\\textrm{GeV}}} (Carlos$ $et.al)$'\n",
    "ax1.set_title(r'$\\sigma\\nu = %.1e$' % (sv_grid[sv_7]), y=1.17, fontsize=fontsize)\n",
    "ax1.step(np.log10(e_grid), dphi_2(e_grid),'o', color=\"y\")\n",
    "ax1.step(np.log10(e_grid), dphi_4(e_grid), 'o', color=color_4)\n",
    "ax1.step(np.log10(e_grid), dphi_6(e_grid), 'o',color=color_6)\n",
    "#ax1.step(e_grid, (pdm._dm_nu.extra_galactic_flux(e_grid,mass_grid[0],sv)) * e_grid**2.,'-.',\n",
    "#         label=r'$m_{x}$ = %.1e , $<\\sigma\\nu>$ = %.1eGeV Sim'%(mass_grid[0],sv))\n",
    "# burkert_flux_4 = (pdm._dm_nu.extra_galactic_flux_burkert(e_grid,mass_grid[m_4_id],sv_grid[sv_7]))# + pdm._dm_nu.galactic_flux(e_grid,mass_grid[26],sv_grid[sv_56], 2 , 2.3e23)\n",
    "# burkert_flux_6 = (pdm._dm_nu.extra_galactic_flux_burkert(e_grid,mass_grid[m_6_id],sv_grid[sv_7]))# + pdm._dm_nu.galactic_flux(e_grid,mass_grid[-1],sv_grid[sv_56], 2 , 2.3e23)\n",
    "nfw_flux_2 = (pdm._dm_nu.extra_galactic_flux_nfw(e_grid,mass_grid[m_2_id],sv_grid[sv_7]))\n",
    "nfw_flux_3 = (pdm._dm_nu.extra_galactic_flux_nfw(e_grid,mass_grid[m_3_id],sv_grid[sv_7]))# + pdm._dm_nu.galactic_flux(e_grid,mass_grid[3],sv_grid[sv_56], 2 , 2.3e23)\n",
    "nfw_flux_4 = (pdm._dm_nu.extra_galactic_flux_nfw(e_grid,mass_grid[m_4_id],sv_grid[sv_7]))# + pdm._dm_nu.galactic_flux(e_grid,mass_grid[26],sv_grid[sv_56], 2 , 2.3e23)\n",
    "nfw_flux_6 = (pdm._dm_nu.extra_galactic_flux_nfw(e_grid,mass_grid[m_6_id],sv_grid[sv_7]))# + pdm._dm_nu.galactic_flux(e_grid,mass_grid[-1],sv_grid[sv_56], 2 , 2.3e23)\n",
    "nfw_flux_5 = (pdm._dm_nu.extra_galactic_flux_nfw(e_grid,mass_grid[m_5_id],sv_grid[sv_7]))# + pdm._dm_nu.galactic_flux(e_grid,mass_grid[-1],sv_grid[sv_56], 2 , 2.3e23)\n",
    "#ax1.step(np.log10(e_grid), burkert_flux_4 * e_grid**2., color=color_4, linest\n",
    "\n",
    "#nfw_flux_2 = (pdm._dm_nu.extra_galactic_flux_c(e_grid,mass_grid[m_2_id],sv_grid[sv_7]))\n",
    "#nfw_flux_3 = (pdm._dm_nu.extra_galactic_flux_c(e_grid,mass_grid[m_3_id],sv_grid[sv_7]))# + pdm._dm_nu.galactic_flux(e_grid,mass_grid[3],sv_grid[sv_56], 2 , 2.3e23)\n",
    "#nfw_flux_4 = (pdm._dm_nu.extra_galactic_flux_c(e_grid,mass_grid[m_4_id],sv_grid[sv_7]))# + pdm._dm_nu.galactic_flux(e_grid,mass_grid[26],sv_grid[sv_56], 2 , 2.3e23)\n",
    "#nfw_flux_6 = (pdm._dm_nu.extra_galactic_flux_c(e_grid,mass_grid[m_6_id],sv_grid[sv_7]))# + pdm._dm_nu.galactic_flux(e_grid,mass_grid[-1],sv_grid[sv_56], 2 , 2.3e23)\n",
    "#nfw_flux_5 = (pdm._dm_nu.extra_galactic_flux_c(e_grid,mass_grid[m_5_id],sv_grid[sv_7]))\n",
    "\n",
    "\n",
    "ax1.step([0],[0],'*', color='k', label=r'$\\textrm{NFW Profile}$' )\n",
    "ax1.step([0],[0],'-.' , lw=1, color='k', label=r'$\\textrm{Burkert Profile}$' )\n",
    "ax1.step([0],[0],'o', color='k', label=r'$\\textrm{Carlos et. al.}$' )\n",
    "#ax1.step(np.log10(e_grid), burkert_flux_6 * e_grid**2., color=color_6, linestyle='-.',\n",
    "#         )\n",
    "ax1.step(np.log10(e_grid), nfw_flux_2 * e_grid**2., '*', color=\"y\",\n",
    "        )\n",
    "ax1.step(np.log10(e_grid), nfw_flux_4 * e_grid**2., '*', color=color_4,\n",
    "        )\n",
    "ax1.step(np.log10(e_grid), nfw_flux_5 * e_grid**2., '*', color='b',\n",
    "         )\n",
    "ax1.step(np.log10(e_grid), nfw_flux_6 * e_grid**2., '*', color=color_6,\n",
    "         )\n",
    "ax1.step(np.log10(e_grid), (shower_po + pdm._Detector.astro_flux())*e_grid**2, color=color_pone, label=r'$\\textrm{P}$-$\\textrm{ONE}$ [ $\\textrm{MCEq}$ ]') # Karlsruhe Corsika\n",
    "# ax1.step(np.log10(e_grid), (shower_ice + pdm._Detector.astro_flux())*e_grid**2, color=color_ice, label=r'IceCube')\n",
    "#ax1.set_xscale(\"log\")\n",
    "ax1.set_yscale(\"log\")\n",
    "ax1.set_xlabel(r'$\\log_{10}$ $\\textrm{E}$ / $\\textrm{GeV}$', fontsize=fontsize)\n",
    "ax1.set_ylabel(r'\\textbf{$E^2$} $\\textrm{d}$\\textbf{$\\phi$} / \\textrm{d}\\textbf{$E$}   [ $\\textrm{GeV}$ $\\textrm{cm}^{-2}$ $\\textrm{s}^{-1}$ $\\textrm{sr}^{-1}$ ]', fontsize=fontsize)\n",
    "ax1.tick_params(axis = 'both', which = 'major', labelsize=fontsize, direction='in')\n",
    "ax1.tick_params(axis = 'both', which = 'minor', labelsize=fontsize, direction='in')\n",
    "ax1.set_xlim(2, 7)\n",
    "ax1.set_ylim(2e-12,1e-5)\n",
    "h, l = ax1.get_legend_handles_labels()\n",
    "lgd1 = ax1.legend(h, l, loc=7, bbox_to_anchor=(0.9, +1.1),\n",
    "                 ncol=2, fontsize=fontsize, handlelength=h_length,\n",
    "                 fancybox=True, frameon=False)\n",
    "ax1.add_artist(lgd1)\n",
    "legend_elements_s = [\n",
    "        Line2D([0], [0], color='y', linestyle='-', lw=1.3),\n",
    "        #Line2D([0], [0], color=color_4,linestyle='-',lw=1.3),\n",
    "        Line2D([0], [0], color=color_4,linestyle='-',lw=1.3),\n",
    "        Line2D([0], [0], color='b', linestyle='-', lw=1.3),\n",
    "        Line2D([0], [0], color=color_6, linestyle='-', lw=1.3)\n",
    "                  ]\n",
    "labels_s = [\n",
    "        r'$m_{x}=%.1e$ $\\textrm{GeV}$ ' %(mass_grid[m_2_id]),\n",
    "        #r'$m_{x}=%.1e$ $\\textrm{GeV}$ ' %(mass_grid[m_2_id]),\n",
    "        r'$m_{x}=%.1e$ $\\textrm{GeV}$ ' %(mass_grid[m_4_id]),\n",
    "        r'$m_{x}=%.1e$ $\\textrm{GeV}$ ' %(mass_grid[m_5_id]),\n",
    "        r'$m_{x}=%.1e$ $\\textrm{GeV}$ ' %(mass_grid[m_6_id])\n",
    "          ]\n",
    "lgd2 = ax1.legend(legend_elements_s, labels_s, loc=7, bbox_to_anchor=(1.02, +0.8),\n",
    "             ncol=1, fontsize=fontsize, handlelength=h_length,\n",
    "             fancybox=True, frameon=False)\n",
    "ax1.add_artist(lgd2)\n",
    "# ---------------------------------------------\n",
    "# Showing the image\n",
    "plt.grid()\n",
    "plt.show()\n",
    "figure.savefig(PICS + \"Final_flux\"+\".png\",\n",
    "               bbox_inches='tight', dpi=export_dpi, facecolor='white')"
   ]
  },
  {
   "cell_type": "code",
   "execution_count": 19,
   "id": "53953f33",
   "metadata": {},
   "outputs": [
    {
     "data": {
      "text/plain": [
       "(8, 6)"
      ]
     },
     "execution_count": 19,
     "metadata": {},
     "output_type": "execute_result"
    }
   ],
   "source": [
    "m_6_id, m_5_id"
   ]
  },
  {
   "cell_type": "code",
   "execution_count": 20,
   "id": "983bf3cd",
   "metadata": {},
   "outputs": [
    {
     "name": "stderr",
     "output_type": "stream",
     "text": [
      "/home/kruteesh/Desktop/DM_nu_simulation_P-One/PONE_git/pone_work/pone_dm/dm2nu.py:362: RuntimeWarning: overflow encountered in exp\n",
      "  dd = np.exp(d_2 / s_in(x)**2)\n",
      "/home/kruteesh/Desktop/DM_nu_simulation_P-One/PONE_git/pone_work/pone_dm/dm2nu.py:363: RuntimeWarning: overflow encountered in multiply\n",
      "  return A * aa * dd\n"
     ]
    },
    {
     "data": {
      "image/png": "[encoded data removed]",
      "text/plain": [
       "<Figure size 432x432 with 1 Axes>"
      ]
     },
     "metadata": {
      "needs_background": "light"
     },
     "output_type": "display_data"
    }
   ],
   "source": [
    "for sv in sv_grid:\n",
    "        figure, ax1 = plt.subplots(1, 1, figsize=(std_size,std_size), sharex=True) \n",
    "        #  $<\\sigma\\nu>=%.1e$ $cm^{3}s^{-1}$' ,sv_grid[sv_56]\n",
    "        ax1.set_title(r\"$\\sigma\\nu$ = %.1e \" % (sv), y=1.2)\n",
    "        #label=r'$m_{x}=1.0e+04$ $\\textrm{GeV} (Carlos$ $et.al)$'\n",
    "        #label=r'$m_{x}=1.0e+06$ $\\textrm{\\textrm{\\textrm{GeV}}} (Carlos$ $et.al)$'\n",
    "\n",
    "        #ax1.step(e_grid, dphi_2(e_grid),'o', label=r'$m_{x}$ = 1e2 \\textrm{\\textrm{GeV}} Lit')\n",
    "\n",
    "        ax1.step(np.log10(e_grid), dphi_4(e_grid), 'o', color=color_4)\n",
    "        ax1.step(np.log10(e_grid), dphi_6(e_grid), 'o',color=color_6)\n",
    "\n",
    "        #ax1.step(e_grid, (pdm._dm_nu.extra_galactic_flux(e_grid,mass_grid[0],sv)) * e_grid**2.,'-.',\n",
    "        #         label=r'$m_{x}$ = %.1e , $<\\sigma\\nu>$ = %.1eGeV Sim'%(mass_grid[0],sv))\n",
    "        # burkert_flux_4 = (pdm._dm_nu.extra_galactic_flux_burkert(e_grid,mass_grid[m_4_id], sv))# + pdm._dm_nu.galactic_flux(e_grid,mass_grid[26],sv_grid[sv_56], 2 , 2.3e23)\n",
    "        # burkert_flux_6 = (pdm._dm_nu.extra_galactic_flux_burkert(e_grid,mass_grid[m_6_id], sv))# + pdm._dm_nu.galactic_flux(e_grid,mass_grid[-1],sv_grid[sv_56], 2 , 2.3e23)\n",
    "        nfw_flux_3 = (pdm._dm_nu.extra_galactic_flux_nfw(e_grid,mass_grid[m_3_id], sv))# + pdm._dm_nu.galactic_flux(e_grid,mass_grid[3],sv_grid[sv_56], 2 , 2.3e23)\n",
    "        nfw_flux_4 = (pdm._dm_nu.extra_galactic_flux_nfw(e_grid,mass_grid[m_4_id], sv)/1e3)# + pdm._dm_nu.galactic_flux(e_grid,mass_grid[26],sv_grid[sv_56], 2 , 2.3e23)\n",
    "        nfw_flux_6 = (pdm._dm_nu.extra_galactic_flux_nfw(e_grid,mass_grid[m_6_id], sv))# + pdm._dm_nu.galactic_flux(e_grid,mass_grid[-1],sv_grid[sv_56], 2 , 2.3e23)\n",
    "        nfw_flux_5 = (pdm._dm_nu.extra_galactic_flux_nfw(e_grid,mass_grid[m_5_id], sv))# + pdm._dm_nu.galactic_flux(e_grid,mass_grid[-1],sv_grid[sv_56], 2 , 2.3e23)\n",
    "\n",
    "        #ax1.step(np.log10(e_grid), burkert_flux_4 * e_grid**2., color=color_4, linestyle='-.',\n",
    "        #         )\n",
    "        ax1.step([0],[0],'*', color='k', label=r'$\\textrm{NFW Profile}$' )\n",
    "        #ax1.step([0],[0],'-.' , lw=1, color='k', label=r'$\\textrm{Burkert Profile}$' )\n",
    "        ax1.step([0],[0],'o', color='k', label=r'$\\textrm{Carlos et. al.}$' )\n",
    "        #ax1.step(np.log10(e_grid), burkert_flux_6 * e_grid**2., color=color_6, linestyle='-.',\n",
    "        #         )\n",
    "        ax1.step(np.log10(e_grid), nfw_flux_3 * e_grid**2., '*', color=\"k\",\n",
    "                )\n",
    "        ax1.step(np.log10(e_grid), nfw_flux_4 * e_grid**2., '*', color=color_4,\n",
    "                )\n",
    "        ax1.step(np.log10(e_grid), nfw_flux_5 * e_grid**2., '*', color='b',\n",
    "                 )\n",
    "        ax1.step(np.log10(e_grid), nfw_flux_6 * e_grid**2., '*', color=color_6,\n",
    "                 )\n",
    "\n",
    "\n",
    "        ax1.step(np.log10(e_grid), (shower_po + pdm._Detector.astro_flux())*e_grid**2, color=color_pone, label=r'$\\textrm{P}$-$\\textrm{ONE}$ [ $\\textrm{MCEq}$ ]') # Karlsruhe Corsika\n",
    "        # ax1.step(np.log10(e_grid), (shower_ice + pdm._Detector.astro_flux())*e_grid**2, color=color_ice, label=r'IceCube')\n",
    "\n",
    "        #ax1.set_xscale(\"log\")\n",
    "        ax1.set_yscale(\"log\")\n",
    "        ax1.set_xlabel(r'$\\log_{10}$ $\\textrm{E}$ / $\\textrm{GeV}$', fontsize=fontsize)\n",
    "        ax1.set_ylabel(r'\\textbf{$E^2$} $\\textrm{d}$\\textbf{$\\phi$} / \\textrm{d}\\textbf{$E$}   [ $\\textrm{GeV}$ $\\textrm{cm}^{-2}$ $\\textrm{s}^{-1}$ $\\textrm{sr}^{-1}$ ]', fontsize=fontsize)\n",
    "        ax1.tick_params(axis = 'both', which = 'major', labelsize=fontsize, direction='in')\n",
    "        ax1.tick_params(axis = 'both', which = 'minor', labelsize=fontsize, direction='in')\n",
    "        ax1.set_xlim(2, 7)\n",
    "        ax1.set_ylim(2e-10,1e-5)\n",
    "        h, l = ax1.get_legend_handles_labels()\n",
    "        lgd1 = ax1.legend(h, l, loc=7, bbox_to_anchor=(0.9, +1.1),\n",
    "                         ncol=2, fontsize=fontsize, handlelength=h_length,\n",
    "                         fancybox=True, frameon=False)\n",
    "        ax1.add_artist(lgd1)\n",
    "\n",
    "        legend_elements_s = [\n",
    "                Line2D([0], [0], color=color_4,linestyle='-',lw=1.3),\n",
    "                Line2D([0], [0], color=color_4,linestyle='-',lw=1.3),\n",
    "                Line2D([0], [0], color=color_6, linestyle='-', lw=1.3),\n",
    "                Line2D([0], [0], color='b', linestyle='-', lw=1.3)\n",
    "                          ]\n",
    "        labels_s = [r'$m_{x}=%.1e$ $\\textrm{GeV}$ ' %(mass_grid[m_3_id]),\n",
    "                    r'$m_{x}=%.1e$ $\\textrm{GeV}$ ' %(mass_grid[m_4_id]),\n",
    "                    r'$m_{x}=%.1e$ $\\textrm{GeV}$ ' %(mass_grid[m_6_id]),\n",
    "                    r'$m_{x}=%.1e$ $\\textrm{GeV}$ ' %(mass_grid[m_5_id])\n",
    "                  ]\n",
    "        lgd2 = ax1.legend(legend_elements_s, labels_s, loc=7, bbox_to_anchor=(1.02, +0.8),\n",
    "                     ncol=1, fontsize=fontsize, handlelength=h_length,\n",
    "                     fancybox=True, frameon=False)\n",
    "        ax1.add_artist(lgd2)\n",
    "\n",
    "        # ---------------------------------------------\n",
    "        # Showing the image\n",
    "        plt.show()\n",
    "        figure.savefig(PICS + \"Final_flux\"+\".png\",\n",
    "                       bbox_inches='tight', dpi=export_dpi, facecolor='white')\n",
    "        break"
   ]
  },
  {
   "cell_type": "code",
   "execution_count": null,
   "id": "c4f0e5ea",
   "metadata": {},
   "outputs": [],
   "source": []
  },
  {
   "cell_type": "code",
   "execution_count": 21,
   "id": "06175886",
   "metadata": {},
   "outputs": [],
   "source": [
    "signal_ice = pickle.load(open('/home/kruteesh/Desktop/dm_data_server/28_03_desk/data/limits_signal_IceCube.pkl','rb'))\n",
    "signal_com_un = pickle.load(open(\"../data/14_04/unsmeared/signal_grid_combined_un.pkl\",\"rb\"))\n",
    "signal_pone_un = pickle.load(open(\"../data/14_04/unsmeared/signal_grid_POne_un.pkl\",\"rb\"))\n",
    "signal_pone_sm = pickle.load(open('../data/limits_signal_POne.pkl', 'rb'))"
   ]
  },
  {
   "cell_type": "code",
   "execution_count": 22,
   "id": "4ed8ae57",
   "metadata": {},
   "outputs": [],
   "source": [
    "#back_po = pickle.load(open('../data/background_pone_sm.pkl','rb'))\n",
    "background_ic = pickle.load(open('/home/kruteesh/Desktop/dm_data_server/28_03_desk/data/background_ice.pkl','rb'))\n",
    "back_ice_ob = pickle.load(open('../data/tmp_files/background_ice_data_total.pkl','rb'))\n",
    "#back_comb =  pickle.load(open('../data/background_combined.pkl','rb'))\n",
    "background_pone_unsm = pickle.load(open('../data/background_pone_unsm.pkl','rb'))\n",
    "background_pone_sm_45_25 = pickle.load(open('../data/tmp_files/background_pone.pkl', 'rb'))\n",
    "# background_pone_sm_35_15 = pickle.load(open('../data/14_04/smeared/35_15/background_pone.pkl', 'rb'))\n",
    "# background_pone_sm_25_10 = pickle.load(open('../data/14_04/smeared/25_10/background_pone.pkl', 'rb'))\n",
    "# background_pone_sm_15_009 = pickle.load(open('../data/14_04/smeared/15_009/background_pone.pkl', 'rb'))"
   ]
  },
  {
   "cell_type": "code",
   "execution_count": 23,
   "id": "0698c2b5",
   "metadata": {},
   "outputs": [
    {
     "data": {
      "text/plain": [
       "(121,)"
      ]
     },
     "execution_count": 23,
     "metadata": {},
     "output_type": "execute_result"
    }
   ],
   "source": [
    "pdm._signal_data['numu'][sv_56][0].shape"
   ]
  },
  {
   "cell_type": "code",
   "execution_count": 24,
   "id": "b42f4e53",
   "metadata": {},
   "outputs": [],
   "source": [
    "tmp_counts = { 0 : {\"numu\"}}\n"
   ]
  },
  {
   "cell_type": "code",
   "execution_count": 25,
   "id": "311a4389",
   "metadata": {},
   "outputs": [
    {
     "name": "stderr",
     "output_type": "stream",
     "text": [
      "findfont: Font family ['sans-serif'] not found. Falling back to DejaVu Sans.\n"
     ]
    },
    {
     "data": {
      "image/png": "[encoded data removed]",
      "text/plain": [
       "<Figure size 432x720 with 2 Axes>"
      ]
     },
     "metadata": {
      "needs_background": "light"
     },
     "output_type": "display_data"
    }
   ],
   "source": [
    "fig = plt.figure(figsize=(std_size,std_size+4))\n",
    "gs = fig.add_gridspec(2, 1, hspace=0.06, wspace=0.05)\n",
    "(ax1), (ax2) = gs.subplots( sharex=True, sharey=True)\n",
    "\n",
    "\n",
    "ax1.step(np.log10(e_grid[-len(pdm._signal_data['numu'][sv_56][m_3_id]):]), pdm._signal_data['numu'][sv_56][m_3_id], color='b', linestyle='-',\n",
    "         label=r'$m_{x}=%.1e$ $\\textrm{GeV}$' % (mass_grid[m_3_id]))\n",
    "ax1.step(np.log10(e_grid[-len(pdm._signal_data['numu'][sv_56][0]):]), pdm._signal_data[\"numu\"][sv_56][m_4_id], color=color_4, linestyle='-',\n",
    "         label=r'$m_{x}=%.1e$ $\\textrm{GeV}$' % (mass_grid[m_4_id]))\n",
    "ax1.step(np.log10(e_grid[-len(pdm._signal_data['numu'][sv_56][0]):]), pdm._signal_data[\"numu\"][sv_56][m_6_id], color=color_6, linestyle='-',\n",
    "         label=r'$m_{x}=%.1e$ $\\textrm{GeV}$' % (mass_grid[m_6_id]))\n",
    "\n",
    "\n",
    "\n",
    "ax2.step(np.log10(e_grid[-len(signal_pone_sm['numu'][6][0]):]), signal_pone_un[\"numu\"][6][3], color='b', linestyle='-')#,\n",
    "         #label=r'$m_{x}=%.1e$ $GeV$' % (mass_grid[2]))\n",
    "ax2.step(np.log10(e_grid[-len(signal_pone_sm['numu'][6][0]):]), signal_pone_un[\"numu\"][6][4], color=color_4, linestyle='-')#,\n",
    "         #label=r'$m_{x}=%.1e$ $GeV$' % (mass_grid[4]))\n",
    "ax2.step(np.log10(e_grid[-len(signal_pone_sm['numu'][6][0]):]), signal_pone_un[\"numu\"][6][-1], color=color_6, linestyle='-')#,\n",
    "         #label=r'$m_{x}=%.1e$ $GeV$' % (mass_grid[-1]))\n",
    "\n",
    "ax1.step(np.log10(e_grid), background_pone_sm_45_25['nue'], '-', color=color_pone)\n",
    "\n",
    "ax2.step(np.log10(e_grid), background_pone_unsm['nue'], '-', color=color_pone)\n",
    "\n",
    "ax1.set_yscale(\"log\")\n",
    "#ax1.set_xlabel(r'$\\log_{10}$( E / $GeV$ )', fontsize=fontsize+6)\n",
    "ax1.set_ylabel(r'$ \\#$  $\\textrm{Counts}$', fontsize=fontsize+2)\n",
    "ax1.tick_params(axis = 'both', which = 'major', labelsize=fontsize+2, direction='in')\n",
    "ax1.tick_params(axis = 'both', which = 'minor', labelsize=fontsize+2, direction='in')\n",
    "ax1.set_xlim(2, 6)\n",
    "ax1.set_ylim(1e0,1e6)\n",
    "h, l = ax1.get_legend_handles_labels()\n",
    "lgd1 = ax1.legend(h, l, loc=7, bbox_to_anchor=(1.13, +1.1),\n",
    "                 ncol=2, fontsize=fontsize+2, handlelength=h_length,\n",
    "                 fancybox=True, frameon=False)\n",
    "ax1.add_artist(lgd1)\n",
    "\n",
    "#ax2.set_xscale(\"log\")\n",
    "ax2.set_yscale(\"log\")\n",
    "#ax2.set_xlabel(r'$\\log_{10}$( E / $GeV$ )', fontsize=fontsize+6)\n",
    "ax2.set_ylabel(r'$\\#$  $\\textrm{Counts}$', fontsize=fontsize)\n",
    "ax2.tick_params(axis = 'both', which = 'major', labelsize=fontsize+2, direction='in')\n",
    "ax2.tick_params(axis = 'both', which = 'minor', labelsize=fontsize+2, direction='in')\n",
    "ax2.set_xlim(2, 6)\n",
    "ax2.set_ylim(1e0,1e6)\n",
    "\n",
    "ax2.set_xlabel(r'$\\log_{10}$( $\\textrm{E}$ / $\\textrm{GeV}$ )', fontsize=fontsize+2)\n",
    "h = [Line2D([0], [0], color=color_pone,lw=2)]\n",
    "l = [r'$\\textrm{P}$-$\\textrm{ONE}$'\n",
    "          ]\n",
    "lgd1 = ax2.legend(h, l, loc=7, bbox_to_anchor=(0.95, +0.8),\n",
    "                 ncol=2, fontsize=fontsize+2, handlelength=h_length,\n",
    "                 fancybox=True, frameon=False)\n",
    "ax2.add_artist(lgd1)\n",
    "h_i = [Line2D([0], [0], color=color_pone ,lw=2)]\n",
    "l_i = [r'$\\textrm{P}$-$\\textrm{ONE}$ ($\\textrm{Reconstructed}$)'\n",
    "          ]\n",
    "lgd2 = ax1.legend(h_i, l_i, loc=7, bbox_to_anchor=(0.98, +0.8),\n",
    "                 ncol=2, fontsize=fontsize+2, handlelength=h_length,\n",
    "                 fancybox=True, frameon=False)\n",
    "ax1.add_artist(lgd2)\n",
    "\n",
    "plt.show()\n",
    "fig.savefig(PICS + \"Final_signal\"+\".png\",\n",
    "               bbox_inches='tight', dpi=export_dpi, facecolor='white')"
   ]
  },
  {
   "cell_type": "code",
   "execution_count": null,
   "id": "878f46ac",
   "metadata": {},
   "outputs": [],
   "source": []
  },
  {
   "cell_type": "code",
   "execution_count": 26,
   "id": "c868322c",
   "metadata": {},
   "outputs": [],
   "source": [
    "flux={}\n",
    "flux[15]={}\n",
    "flux[85]={}\n",
    "flux[120]={}\n",
    "flux[15]['numu'] = (dphi_4(e_grid)) * e_grid**(-2)\n",
    "flux[85]['numu'] = flux[15]['numu']\n",
    "flux[120]['numu'] = flux[15]['numu']\n",
    "flux[15]['nue']=flux[85]['nue']=flux[120]['nue']=flux[15]['nutau']=flux[85]['nutau']=flux[120]['nutau']=flux[15]['numu']\n",
    "#_lit=pdm._Detector.sim2dec(flux,True)[\"numu\"]\n"
   ]
  },
  {
   "cell_type": "code",
   "execution_count": 27,
   "metadata": {},
   "outputs": [],
   "source": [
    "# Loading comparison data\n",
    "th_cl = np.loadtxt(open(\"../data/thermal_relic.csv\"), delimiter = \",\")\n",
    "unitarity = np.loadtxt(open('../data/Unitarity_bound.csv'), delimiter = ',')\n",
    "cl_lit = np.loadtxt('../data/CL_PONE.csv', delimiter=\",\")\n",
    "cl_lit = (cl_lit[cl_lit[:, 0].argsort()])\n",
    "unitarity = (unitarity[unitarity[:, 0].argsort()])\n",
    "\n",
    "#limits_ice = pickle.load(open('/home/kruteesh/Desktop/dm_data_server/28_03_desk/data/limits_results_IceCube.pkl','rb'))\n",
    "limits_pone_unsm = pickle.load(open(\"../data/tmp_files/unsmeared/limits_results_POne_un_NFW.pkl\",\"rb\"))\n",
    "#limits_com = pickle.load(open(\"/home/kruteesh/Desktop/dm_data_server/14_03/data/limits_results.pkl\", \"rb\"))\n",
    "#limits_pone_unsm = pickle.load(open(\"../data/28_03_02/unsmeared/limits_results_POne_unsm.pkl\",\"rb\"))\n",
    "\n",
    "limits_pone_45_25= pickle.load(open(\"../data/14_04/smeared/45_25/limits_results_POne_sm_NFW.pkl\",\"rb\"))\n",
    "\n",
    "limits_pone_35_15= pickle.load(open(\"../data/14_04/smeared/35_15/limits_results_POne_sm.pkl\",\"rb\"))\n",
    "\n",
    "limits_pone_25_10= pickle.load(open(\"../data/14_04/smeared/25_10/limits_results_POne_sm.pkl\",\"rb\"))\n",
    "\n",
    "limits_pone_15_009= pickle.load(open(\"../data/14_04/smeared/15_009/limits_results_POne_sm.pkl\",\"rb\"))\n",
    "\n",
    "\n",
    "cl_lit_ice = np.loadtxt('../data/IceCube_HE.csv', delimiter=\",\")\n",
    "cl_lit_ice = (cl_lit_ice[cl_lit_ice[:, 0].argsort()])\n",
    "xx,yy = np.meshgrid(np.log10( np.logspace(1, 6, 20)),np.log10( np.logspace(1, 6, 20)))"
   ]
  },
  {
   "cell_type": "code",
   "execution_count": 28,
   "id": "f416648c",
   "metadata": {},
   "outputs": [
    {
     "data": {
      "text/plain": [
       "{'numu': array([[1.00000000e+000, 1.00000000e+000, 9.99998300e-001,\n",
       "         9.99998642e-001, 9.99999176e-001, 9.99999540e-001,\n",
       "         9.99999804e-001, 9.99999947e-001, 9.99999992e-001],\n",
       "        [1.00000000e+000, 1.00000000e+000, 9.99969764e-001,\n",
       "         9.99975855e-001, 9.99985342e-001, 9.99991824e-001,\n",
       "         9.99996512e-001, 9.99999064e-001, 9.99999854e-001],\n",
       "        [1.00000000e+000, 1.00000000e+000, 9.99462462e-001,\n",
       "         9.99570718e-001, 9.99739378e-001, 9.99854615e-001,\n",
       "         9.99937970e-001, 9.99983363e-001, 9.99997401e-001],\n",
       "        [1.00000000e+000, 1.00000000e+000, 9.90484074e-001,\n",
       "         9.92393611e-001, 9.95375543e-001, 9.97417796e-001,\n",
       "         9.98897510e-001, 9.99704184e-001, 9.99953787e-001],\n",
       "        [1.00000000e+000, 1.00000000e+000, 8.43639473e-001,\n",
       "         8.73034760e-001, 9.20879111e-001, 9.55062793e-001,\n",
       "         9.80574985e-001, 9.94752600e-001, 9.99178530e-001],\n",
       "        [1.00000000e+000, 1.00000000e+000, 4.86254024e-002,\n",
       "         8.94079086e-002, 2.30899287e-001, 4.41480833e-001,\n",
       "         7.05512957e-001, 9.10684171e-001, 9.85492228e-001],\n",
       "        [1.00000000e+000, 1.00000000e+000, 4.45408819e-024,\n",
       "         2.25182263e-019, 4.78492387e-012, 4.84775433e-007,\n",
       "         2.02299825e-003, 1.89428685e-001, 7.71145324e-001],\n",
       "        [1.00000000e+000, 1.00000000e+000, 0.00000000e+000,\n",
       "         0.00000000e+000, 4.97219909e-202, 5.14361778e-113,\n",
       "         1.23900424e-048, 1.41568434e-013, 9.83935896e-003],\n",
       "        [1.00000000e+000, 1.00000000e+000, 0.00000000e+000,\n",
       "         0.00000000e+000, 0.00000000e+000, 0.00000000e+000,\n",
       "         0.00000000e+000, 3.22315801e-229, 2.03864655e-036]]),\n",
       " 'nue': array([[1.00000000e+000, 1.00000000e+000, 9.99974611e-001,\n",
       "         9.99980348e-001, 9.99991686e-001, 9.99997668e-001,\n",
       "         9.99999551e-001, 9.99999931e-001, 9.99999991e-001],\n",
       "        [1.00000000e+000, 1.00000000e+000, 9.99548617e-001,\n",
       "         9.99650589e-001, 9.99852165e-001, 9.99958540e-001,\n",
       "         9.99992014e-001, 9.99998778e-001, 9.99999846e-001],\n",
       "        [1.00000000e+000, 1.00000000e+000, 9.92003482e-001,\n",
       "         9.93804678e-001, 9.97374342e-001, 9.99262984e-001,\n",
       "         9.99858003e-001, 9.99978275e-001, 9.99997261e-001],\n",
       "        [1.00000000e+000, 1.00000000e+000, 8.66951682e-001,\n",
       "         8.95374850e-001, 9.54323139e-001, 9.86974535e-001,\n",
       "         9.97477908e-001, 9.99613743e-001, 9.99951289e-001],\n",
       "        [1.00000000e+000, 1.00000000e+000, 7.89543316e-002,\n",
       "         1.40124111e-001, 4.35440116e-001, 7.92034030e-001,\n",
       "         9.56086879e-001, 9.93153482e-001, 9.99134143e-001],\n",
       "        [1.00000000e+000, 1.00000000e+000, 2.46753746e-020,\n",
       "         6.64682252e-016, 3.79436183e-007, 1.58264162e-002,\n",
       "         4.49975151e-001, 8.84998871e-001, 9.84714003e-001],\n",
       "        [1.00000000e+000, 1.00000000e+000, 0.00000000e+000,\n",
       "         1.26961267e-270, 6.59396008e-115, 9.54973293e-033,\n",
       "         6.80335395e-007, 1.13892008e-001, 7.60387789e-001],\n",
       "        [1.00000000e+000, 1.00000000e+000, 0.00000000e+000,\n",
       "         0.00000000e+000, 0.00000000e+000, 0.00000000e+000,\n",
       "         2.13100331e-110, 1.66653236e-017, 7.66429630e-003],\n",
       "        [1.00000000e+000, 1.00000000e+000, 0.00000000e+000,\n",
       "         0.00000000e+000, 0.00000000e+000, 0.00000000e+000,\n",
       "         0.00000000e+000, 4.33479504e-299, 2.39886742e-038]]),\n",
       " 'nutau': array([[1.00000000e+000, 1.00000000e+000, 9.99853004e-001,\n",
       "         9.99939744e-001, 9.99984817e-001, 9.99996854e-001,\n",
       "         9.99999478e-001, 9.99999926e-001, 9.99999991e-001],\n",
       "        [1.00000000e+000, 1.00000000e+000, 9.97389228e-001,\n",
       "         9.98929029e-001, 9.99730045e-001, 9.99944059e-001,\n",
       "         9.99990718e-001, 9.99998688e-001, 9.99999841e-001],\n",
       "        [1.00000000e+000, 1.00000000e+000, 9.54576468e-001,\n",
       "         9.81125333e-001, 9.95210308e-001, 9.99005687e-001,\n",
       "         9.99834952e-001, 9.99976668e-001, 9.99997175e-001],\n",
       "        [1.00000000e+000, 1.00000000e+000, 4.37500206e-001,\n",
       "         7.12587668e-001, 9.18164469e-001, 9.82465095e-001,\n",
       "         9.97069051e-001, 9.99585166e-001, 9.99949766e-001],\n",
       "        [1.00000000e+000, 1.00000000e+000, 4.12658084e-007,\n",
       "         2.41576021e-003, 2.19090012e-001, 7.30091182e-001,\n",
       "         9.49141871e-001, 9.92648718e-001, 9.99107081e-001],\n",
       "        [1.00000000e+000, 1.00000000e+000, 2.93330944e-114,\n",
       "         2.90659804e-047, 1.88116580e-012, 3.71931668e-003,\n",
       "         3.95261209e-001, 8.77034268e-001, 9.84239824e-001],\n",
       "        [1.00000000e+000, 1.00000000e+000, 0.00000000e+000,\n",
       "         0.00000000e+000, 3.06585036e-209, 6.25239744e-044,\n",
       "         6.78382511e-008, 9.69784570e-002, 7.53902736e-001],\n",
       "        [1.00000000e+000, 1.00000000e+000, 0.00000000e+000,\n",
       "         0.00000000e+000, 0.00000000e+000, 0.00000000e+000,\n",
       "         3.33879365e-128, 9.55553406e-019, 6.58148035e-003],\n",
       "        [1.00000000e+000, 1.00000000e+000, 0.00000000e+000,\n",
       "         0.00000000e+000, 0.00000000e+000, 0.00000000e+000,\n",
       "         0.00000000e+000, 0.00000000e+000, 1.59844458e-039]])}"
      ]
     },
     "execution_count": 28,
     "metadata": {},
     "output_type": "execute_result"
    }
   ],
   "source": [
    "limits_pone_unsm"
   ]
  },
  {
   "cell_type": "markdown",
   "id": "7c2635b2",
   "metadata": {},
   "source": [
    "# Fill through function for the band between smeared and unsmeared combined limits !!!!!!!! "
   ]
  },
  {
   "cell_type": "code",
   "execution_count": 29,
   "metadata": {},
   "outputs": [
    {
     "data": {
      "image/png": "[encoded data removed]",
      "text/plain": [
       "<Figure size 432x432 with 1 Axes>"
      ]
     },
     "metadata": {
      "needs_background": "light"
     },
     "output_type": "display_data"
    },
    {
     "data": {
      "image/png": "[encoded data removed]",
      "text/plain": [
       "<Figure size 432x432 with 1 Axes>"
      ]
     },
     "metadata": {
      "needs_background": "light"
     },
     "output_type": "display_data"
    },
    {
     "data": {
      "image/png": "[encoded data removed]",
      "text/plain": [
       "<Figure size 432x432 with 1 Axes>"
      ]
     },
     "metadata": {
      "needs_background": "light"
     },
     "output_type": "display_data"
    }
   ],
   "source": [
    "color = ['black', 'orange', 'purple']\n",
    "color_sm = ['red', 'black', 'purple']\n",
    "color_pa = ['']\n",
    "color_pa = ['']\n",
    "color_pa = ['']\n",
    "color_pa = ['']\n",
    "name = [r'$\\nu_{\\mu}$', r'$\\nu_{e}$', r'$\\nu_{\\tau}$']\n",
    "ll = ['-','--', '-.', 'dotted']\n",
    " # std_size, std_size * 6. / 8.),\n",
    "for j,i in enumerate(config[\"pone\"][\"specific particle scaling\"].keys()):\n",
    "    # Limits\n",
    "    # ---------------------------------------------\n",
    "    # Setup\n",
    "\n",
    "    figure, (ax1) = plt.subplots(1, 1, figsize=(std_size,std_size), sharex=True) \n",
    "    # ---------------------------------------------\n",
    "    # Plotting\n",
    "    plt.title(r'P-ONE Limits Results ' + name[j],fontsize=fontsize+2, y=1.15)  # +' Scaling Correction = '+str(config['advanced']['scaling correction'])\n",
    "    \n",
    "    ax1.contour(pdm.results[i], levels = [0.9], colors='k',  linestyles='-',\n",
    "               origin='lower', extent=(min(np.log10(mass_grid)), max(np.log10(mass_grid)),\n",
    "                                       min(np.log10(sv_grid)), max(np.log10(sv_grid))))\n",
    "    \n",
    "    ax1.contour(limits_pone_unsm[i], levels = [0.9], colors=\"r\",  linestyles=ll[0],\n",
    "                origin='lower', extent=(min(np.log10(mass_grid)), max(np.log10(mass_grid)),\n",
    "                                        min(np.log10(sv_grid)), max(np.log10(sv_grid))))\n",
    "# \n",
    "    #ax1.contour(limits_pone_45_25['numu'], levels = [0.9], colors=color_sm[j],  linestyles=ll[0],\n",
    "    #             origin='lower', extent=(min(np.log10(mass_grid)), max(np.log10(mass_grid)),\n",
    "    #                                     min(np.log10(sv_grid)), max(np.log10(sv_grid))))\n",
    "    #ax1.contour(limits_pone_35_15[i], levels = [0.9], colors=color_sm[j],  linestyles=ll[1],\n",
    "    #             origin='lower', extent=(min(np.log10(mass_grid)), max(np.log10(mass_grid)),\n",
    "    #                                     min(np.log10(sv_grid)), max(np.log10(sv_grid))))\n",
    "    # ax1.contour(limits_pone_25_10[i], levels = [0.9], colors=color_sm[j],  linestyles=ll[2],\n",
    "    #             origin='lower', extent=(min(np.log10(mass_grid)), max(np.log10(mass_grid)),\n",
    "    #                                     min(np.log10(sv_grid)), max(np.log10(sv_grid))))\n",
    "    # ax1.contour(limits_pone_15_009[i], levels = [0.9], colors=color_sm[j],  linestyles=ll[3],\n",
    "    #             origin='lower', extent=(min(np.log10(mass_grid)), max(np.log10(mass_grid)),\n",
    "    #                                     min(np.log10(sv_grid)), max(np.log10(sv_grid))))\n",
    "\n",
    "    #break\n",
    "    #ax1.contour(limits_ice[\"numu\"], levels=[0.9], colors='yellow',origin='lower',linestyles='-',\n",
    "    #                            extent=(min(np.log10(mass_grid)), max(np.log10(mass_grid)),\n",
    "    #                                    min(np.log10(sv_grid)), max(np.log10(sv_grid))))#\n",
    "    #ax1.contour(limits_pone_unsm[\"numu\"], levels=[0.9], colors='green',origin='lower',linestyles='-.',\n",
    "    #                            extent=(min(np.log10(mass_grid)), max(np.log10(mass_grid)),\n",
    "    #                                    min(np.log10(sv_grid)), max(np.log10(sv_grid))))\n",
    "    ax1.plot(np.log10(cl_lit[:, 0]), np.log10(cl_lit[:, 1]), 'g', label='literature P-ONE')\n",
    "    #ax1.plot(np.log10(cl_lit_ice[:, 0]), np.log10(cl_lit_ice[:, 1]),'m',label='literature  IceCube')\n",
    "    ax1.plot(np.log10(th_cl[:, 0]), np.log10(th_cl[:, 1]), 'b', \n",
    "             label='Thermal Relic Abundance')\n",
    "    #ax1.plot(np.log10(unitarity[:, 0]), np.log10(unitarity[:, 1]), '.k', \n",
    "    #         label='Unitarity Bound')\n",
    "    # ---------------------------------------------\n",
    "    # Axis options\n",
    "    ax1.set_xscale(\"linear\")\n",
    "    ax1.set_yscale(\"linear\")\n",
    "    ax1.set_xlabel(r\"$\\log_{10}$ $m_{\\chi}$[\\textrm{GeV}]\", fontsize=fontsize)\n",
    "    ax1.set_ylabel(r\"$\\log_{10}$ $<\\sigma \\nu>$[$cm^{3} s^{-1}$]\", fontsize=fontsize)\n",
    "    ax1.tick_params(axis = 'both', which = 'major', labelsize=fontsize)\n",
    "    ax1.tick_params(axis = 'both', which = 'minor', labelsize=fontsize)\n",
    "    ax1.set_xlim(2.8, max(np.log10(mass_grid)))\n",
    "    ax1.set_ylim(min(np.log10(sv_grid)), -21)  # \n",
    "    #ax1.text(3.5, -23.7, \"IceCube Simulation\", fontsize=fontsize)\n",
    "\n",
    "    #ax1.text(3.2, -24.8, r\"P-ONE $\\nu_\\mu$\", fontsize=fontsize)\n",
    "    #ax1.text(3.2, -24.9, r\" $\\nu_e$\", fontsize=fontsize)\n",
    "    #ax1.text(3.1, -25.3, r\" $\\nu_\\tau$\", fontsize=fontsize)\n",
    "\n",
    "    # ---------------------------------------------\n",
    "    # Legend\n",
    "    # plt.legend(fontsize=fontsize)\n",
    "    h, l = ax1.get_legend_handles_labels()\n",
    "    lgd1 = ax1.legend(h, l, loc=7, bbox_to_anchor=(1.09, +1.09),\n",
    "                     ncol=2, fontsize=fontsize, handlelength=h_length,\n",
    "                     fancybox=True, frameon=False)\n",
    "    ax1.add_artist(lgd1)\n",
    "    legend_elements = [Line2D([0], [0], color='r', lw=1),\n",
    "                   #Line2D([0], [0], linestyle='--', color=color_sm[j],  lw=1),\n",
    "                   Line2D([0], [0], color=\"k\", lw=1)\n",
    "                   #Line2D([0], [0], linestyle='-.', color=color_sm[j],  lw=1.3),\n",
    "                   #Line2D([0], [0], linestyle=':',  color=color_sm[j], lw=1),\n",
    "                   #Line2D([0], [0], color=color_sm[j], linestyle='dotted', lw=2),\n",
    "                  ]\n",
    "    labels = [r'$\\textrm{smerared}$',\n",
    "           #r'$\\textrm{NFW}$, $\\mu$ = [$0.35, 0.15$]',\n",
    "           r'$\\textrm{unsmeared}$',\n",
    "           #r'0.15, 0.09'\n",
    "           ]\n",
    "    lgd2 = ax1.legend(legend_elements, labels, loc=7, bbox_to_anchor=(0.95, +0.799),\n",
    "                     ncol=1, fontsize=fontsize, handlelength=h_length,\n",
    "                     fancybox=True, frameon=False)\n",
    "    ax1.add_artist(lgd2)\n",
    "    # #h, _ = ax1.get_legend_handles_labels([legend_elements])\n",
    "    #lgd2= ax1.legend(h, labels, loc=7, bbox_to_anchor=(1, 0.8),\n",
    "    #                 ncol=1, fontsize=fontsize, handlelength=h_length,\n",
    "    #                 fancybox=True, frameon=False)\n",
    "    #ax1.add_artist(lgd2)\n",
    "\n",
    "    # ---------------------------------------------\n",
    "    # Showing the image\n",
    "    plt.show()\n",
    "    # ---------------------------------------------\n",
    "    # Storing the image\n",
    "    figure.savefig(PICS + \"Limits_Example_all_%s.png\" %(i),\n",
    "               bbox_inches='tight', dpi=export_dpi,  facecolor='white')\n"
   ]
  },
  {
   "cell_type": "code",
   "execution_count": 30,
   "id": "06e4c7e0",
   "metadata": {},
   "outputs": [],
   "source": [
    "# pickle.dump(pdm.results, open('../data/nfw_unsmea_limits.pkl', 'wb'))\n"
   ]
  },
  {
   "cell_type": "code",
   "execution_count": 31,
   "metadata": {},
   "outputs": [
    {
     "name": "stderr",
     "output_type": "stream",
     "text": [
      "findfont: Font family ['sans-serif'] not found. Falling back to DejaVu Sans.\n"
     ]
    },
    {
     "data": {
      "image/png": "[encoded data removed]",
      "text/plain": [
       "<Figure size 432x324 with 1 Axes>"
      ]
     },
     "metadata": {
      "needs_background": "light"
     },
     "output_type": "display_data"
    }
   ],
   "source": [
    "# All Limits-------------------------------------------\n",
    "# Setup\n",
    "figure, (ax1) = plt.subplots(1, 1, figsize=(std_size, std_size * 6. / 8.), sharex=True)\n",
    "# ---------------------------------------------\n",
    "# Plotting\n",
    "ax1.contour(pdm.results[\"numu\"], levels = [0.9], colors='purple', linestyles='-',\n",
    "            origin='lower', extent=(min(np.log10(mass_grid)), max(np.log10(mass_grid)),\n",
    "                                    min(np.log10(sv_grid)), max(np.log10(sv_grid))))\n",
    "ax1.contour(pdm.results[\"nue\"], levels = [0.9], colors='purple', linestyles='--',\n",
    "            origin='lower', extent=(min(np.log10(mass_grid)), max(np.log10(mass_grid)), \n",
    "                                    min(np.log10(sv_grid)), max(np.log10(sv_grid))))\n",
    "ax1.contour(pdm.results[\"nutau\"], levels = [0.9], colors='purple', linestyles='-.',\n",
    "            origin='lower', extent=(min(np.log10(mass_grid)), max(np.log10(mass_grid)),\n",
    "                                    min(np.log10(sv_grid)), max(np.log10(sv_grid))))\n",
    "#ax1.plot(np.log10(cl_lit[:, 0]), np.log10(cl_lit[:, 1]), 'g', label='literature 90% C.L')\n",
    "ax1.plot(np.log10(th_cl[:, 0]), np.log10(th_cl[:, 1]), 'b', \n",
    "         label='literature Thermal Relic Abundance')\n",
    "#ax1.contour(limits_ice[\"numu\"], levels=[0.9], colors='red',origin='lower',\n",
    "#                                extent=(min(np.log10(mass_grid)), max(np.log10(mass_grid)),\n",
    "#                                        min(np.log10(sv_grid)), max(np.log10(sv_grid))), legend='IceCube')\n",
    "ax1.plot(np.log10(cl_lit[:, 0]), np.log10(cl_lit[:, 1]), 'g', label='literature 90% C.L P-ONE')\n",
    "ax1.plot(np.log10(cl_lit_ice[:, 0]), np.log10(cl_lit_ice[:, 1]), label='literature 90% C.L IceCube')\n",
    "# ---------------------------------------------\n",
    "# Axis options\n",
    "ax1.set_xscale(\"linear\")\n",
    "ax1.set_yscale(\"linear\")\n",
    "ax1.set_xlabel(r\"log $m_{\\chi}$\", fontsize=fontsize)\n",
    "ax1.set_ylabel(r\"log <$\\sigma\\nu$>\", fontsize=fontsize)\n",
    "ax1.tick_params(axis = 'both', which = 'major', labelsize=fontsize-5, direction='in')\n",
    "ax1.tick_params(axis = 'both', which = 'minor', labelsize=fontsize-5, direction='in')\n",
    "ax1.set_xlim(min(np.log10(mass_grid)), max(np.log10(mass_grid)))\n",
    "ax1.set_ylim(min(np.log10(sv_grid)),-23.0)\n",
    "# ---------------------------------------------\n",
    "# Legend\n",
    "# plt.legend(fontsize=fontsize)\n",
    "h, l = ax1.get_legend_handles_labels()\n",
    "lgd1 = ax1.legend(h, l, loc=9, bbox_to_anchor=(0.4, +1.),\n",
    "                 ncol=1, fontsize=fontsize-3, handlelength=h_length,\n",
    "                 fancybox=True, frameon=False)\n",
    "ax1.add_artist(lgd1)\n",
    "# ---------------------------------------------\n",
    "ax1.text(3.5, -23.7, \"IceCube\", fontsize=fontsize)\n",
    "ax1.text(3.4, -24.4, \"P-ONE\", fontsize=fontsize)\n",
    "ax1.text(3.2, -24.3, r\"$\\nu_\\mu$\", fontsize=fontsize)\n",
    "ax1.text(3.2, -24.9, r\"$\\nu_e$\", fontsize=fontsize)\n",
    "ax1.text(3.1, -25.3, r\"$\\nu_\\tau$\", fontsize=fontsize)\n",
    "ax1.text(4.2, -25.5, \"Thermal Relic Abundance\", fontsize=fontsize)\n",
    "plt.grid()\n",
    "# ---------------------------------------------\n",
    "# Showing the image\n",
    "plt.show()\n",
    "# ---------------------------------------------\n",
    "# Storing the image\n",
    "figure.savefig(PICS + \"All_Limits.png\",\n",
    "               bbox_inches='tight', dpi=export_dpi)"
   ]
  },
  {
   "cell_type": "code",
   "execution_count": null,
   "id": "d26bbfe6",
   "metadata": {},
   "outputs": [],
   "source": []
  },
  {
   "cell_type": "code",
   "execution_count": 32,
   "id": "afefaab3",
   "metadata": {},
   "outputs": [
    {
     "data": {
      "image/png": "[encoded data removed]",
      "text/plain": [
       "<Figure size 432x288 with 1 Axes>"
      ]
     },
     "metadata": {
      "needs_background": "light"
     },
     "output_type": "display_data"
    }
   ],
   "source": [
    "samples = np.random.lognormal(4, 0.3 * 4., 1000)\n",
    "count, bins, ignored = plt.hist(samples, 100, density=False, align='mid')"
   ]
  },
  {
   "cell_type": "code",
   "execution_count": 33,
   "id": "af7c9a46",
   "metadata": {},
   "outputs": [],
   "source": [
    "mid_e_grid = np.logspace(3, 4, 100)"
   ]
  },
  {
   "cell_type": "code",
   "execution_count": 34,
   "id": "bb9e3d4e",
   "metadata": {},
   "outputs": [],
   "source": [
    "spl_mid_mean = UnivariateSpline([1e3, 1e4], [700., 1e4], k=1)\n",
    "spl_mid_sigma = UnivariateSpline([1e3, 1e4], [0.45, 0.35], k=1)"
   ]
  },
  {
   "cell_type": "code",
   "execution_count": 35,
   "id": "27f978f5",
   "metadata": {},
   "outputs": [],
   "source": [
    "def local_log_normal(x, mu, sigma):\n",
    "    \"\"\"Distribution function \n",
    "    x = E_grid\n",
    "    mu = log(E) \n",
    "    sigma = fraction of E  ( so no fraction or percentage ) ( standard deviation as per definition )\n",
    "    \"\"\"\n",
    "    sigma = ( sigma  )\n",
    "    pdf = np.exp(-(np.log((x)) - mu )**2 / (2 * sigma**2)) / ( sigma * np.sqrt(2 * np.pi))\n",
    "\n",
    "    return pdf"
   ]
  },
  {
   "cell_type": "code",
   "execution_count": 36,
   "id": "50a0e6ee",
   "metadata": {},
   "outputs": [],
   "source": [
    "def _log_norm(E, mu, sigma):\n",
    "    \"\"\"Distribution function\n",
    "    x = E_grid\n",
    "    mu = log(E)\n",
    "    sigma = fraction of E * E ( so no fraction or percentage )\n",
    "    ( standard deviation as per definition )\n",
    "    \"\"\"\n",
    "    pdf = (np.exp(- (np.log((E)) - mu)**2 / (2 * sigma**2)) /\n",
    "           (sigma * np.sqrt(2 * np.pi)))\n",
    "    return pdf"
   ]
  },
  {
   "cell_type": "markdown",
   "id": "28cd410f",
   "metadata": {},
   "source": []
  },
  {
   "cell_type": "code",
   "execution_count": 37,
   "id": "ce141083",
   "metadata": {},
   "outputs": [],
   "source": [
    "def distro_parms(Etrue):\n",
    "    \"\"\" Parameter estimation function depending  on the E_true\n",
    "    [mu] = [log10(E/GeV)]\n",
    "    sigma = log10(E/GeV)\n",
    "    \"\"\"\n",
    "    if Etrue < 1e3:\n",
    "        mu = np.log(700)\n",
    "        sigma = 0.45 \n",
    "    elif 1e3 <= Etrue <= 1e4:\n",
    "        mu = np.log(spl_mid_mean(Etrue))\n",
    "        sigma = spl_mid_sigma(Etrue) \n",
    "    else:\n",
    "        mu = np.log(Etrue)\n",
    "        sigma = 0.35 \n",
    "    return mu, sigma\n",
    "\n",
    "\n",
    "#def smearing(Etrue, number_of_events, sampling_grid=hist_grid):\n",
    "#    mu, sigma = distro_parms(Etrue)\n",
    "#    return (\n",
    "#        np.nan_to_num(local_log_normal(sampling_grid, mu, sigma)) *\n",
    "#        number_of_events\n",
    "#    )\n"
   ]
  },
  {
   "cell_type": "code",
   "execution_count": 38,
   "id": "306dccf6",
   "metadata": {},
   "outputs": [],
   "source": [
    "samples_fun = []\n",
    "samples = []\n",
    "samples_fun_log = []\n",
    "for i,E in enumerate(e_grid):\n",
    "    mu, sigma = distro_parms(E)\n",
    "    samples.append(np.random.lognormal((mu), sigma, len(e_grid))) # Axis0 = E, meaning the axis0 elements are the E_ture for which axis1 correspondece as distribution !!! Thats why transpose for imshow\n",
    "    samples_fun.append(np.nan_to_num(local_log_normal(e_grid, mu, sigma)))\n",
    "    samples_fun_log.append(np.nan_to_num(_log_norm(e_grid, mu, sigma))* np.log10(pdm._shower_sim.ewidth))\n",
    "    "
   ]
  },
  {
   "cell_type": "code",
   "execution_count": 39,
   "id": "9c5fbb9e",
   "metadata": {},
   "outputs": [],
   "source": [
    "from matplotlib.colors import LogNorm"
   ]
  },
  {
   "cell_type": "code",
   "execution_count": 40,
   "id": "963a5c4d",
   "metadata": {},
   "outputs": [
    {
     "data": {
      "image/png": "[encoded data removed]",
      "text/plain": [
       "<Figure size 432x324 with 2 Axes>"
      ]
     },
     "metadata": {
      "needs_background": "light"
     },
     "output_type": "display_data"
    }
   ],
   "source": [
    "figure, (ax1) = plt.subplots(1, 1, figsize=(std_size, std_size * 6./8. ), sharex=True)\n",
    "z_p=ax1.imshow((np.array(samples_fun).T), origin='lower', extent=( min(np.log10(e_grid)), max(np.log10(e_grid)), min(np.log10(e_grid)), max(np.log10(e_grid)) ),\n",
    "               cmap=plt.get_cmap('bone'))\n",
    "#figure.colorbar(z_p, ax=(ax1))\n",
    "ax1.contour(np.array(samples_fun).T, levels = [0.00000008], colors='red', linestyles='-',\n",
    "            origin='lower', extent=( min(np.log10(e_grid)), max(np.log10(e_grid)), min(np.log10(e_grid)), max(np.log10(e_grid))) )\n",
    "#ax1.contour(np.array(samples).T, levels = [0.68], colors='purple', linestyles='-',\n",
    "#           origin='lower', extent=( min(np.log10(e_grid)), max(np.log10(e_grid)), min(np.log10(e_grid)), max(np.log10(e_grid))), norm=LogNorm() )\n",
    "#ax1.contour((samples_fun*e_grid).T, levels = [1.2], colors='purple', linestyles='-',\n",
    "#            origin='lower', extent=( min(np.log10(e_grid)), max(np.log10(e_grid)), min(np.log10(e_grid)), max(np.log10(e_grid))) )\n",
    "figure.colorbar(z_p, ax=(ax1))\n",
    "\n",
    "ax1.set_xlabel(r\"$\\log_{10}$ $E_{true} / \\textrm{GeV}$\", fontsize=fontsize)\n",
    "ax1.set_ylabel(r\"$\\log_{10}$ $E_{Recon} / \\textrm{GeV}$\", fontsize=fontsize)\n",
    "#ax1.set_ylabel(r\"Distribution fraction\", fontsize=fontsize)\n",
    "ax1.tick_params(axis = 'both', which = 'major', labelsize=fontsize, direction='in')\n",
    "ax1.tick_params(axis = 'both', which = 'minor', labelsize=fontsize, direction='in')\n",
    "ax1.set_xlim(2,8)\n",
    "ax1.set_ylim(2,8)\n",
    "# ---------------------------------------------\n",
    "# Legend\n",
    "# plt.legend(fontsize=fontsize)\n",
    "h, l = ax1.get_legend_handles_labels()\n",
    "lgd1 = ax1.legend(h, l, loc=9, bbox_to_anchor=(0.4, +1.),\n",
    "                 ncol=1, fontsize=fontsize, handlelength=h_length,\n",
    "                 fancybox=True, frameon=False)\n",
    "ax1.add_artist(lgd1)\n",
    "plt.grid()\n",
    "figure.savefig(PICS + \"Reconstruction_\"+\".png\",\n",
    "               bbox_inches='tight', dpi=export_dpi, facecolor='white')\n"
   ]
  },
  {
   "cell_type": "code",
   "execution_count": 41,
   "id": "30bae56c",
   "metadata": {},
   "outputs": [],
   "source": [
    "cmap_string= ['Accent', 'Accent_r', 'Blues', 'Blues_r', 'BrBG', 'BrBG_r', 'BuGn', 'BuGn_r', 'BuPu', 'BuPu_r', 'CMRmap', 'CMRmap_r', 'Dark2',\n",
    "'Dark2_r', 'GnBu', 'GnBu_r', 'Greens', 'Greens_r', 'Greys', 'Greys_r', 'OrRd', 'OrRd_r', 'Oranges', 'Oranges_r', 'PRGn', 'PRGn_r',\n",
    "'Paired', 'Paired_r', 'Pastel1', 'Pastel1_r', 'Pastel2', 'Pastel2_r', 'PiYG', 'PiYG_r', 'PuBu', 'PuBuGn', 'PuBuGn_r', 'PuBu_r', 'PuOr', \n",
    "'PuOr_r', 'PuRd', 'PuRd_r', 'Purples', 'Purples_r', 'RdBu', 'RdBu_r', 'RdGy', 'RdGy_r', 'RdPu', 'RdPu_r', 'RdYlBu', 'RdYlBu_r', 'RdYlGn', 'RdYlGn_r', \n",
    "'Reds', 'Reds_r', 'Set1', 'Set1_r', 'Set2', 'Set2_r', 'Set3', 'Set3_r', 'Spectral', 'Spectral_r', 'Wistia', 'Wistia_r', 'YlGn', 'YlGnBu', 'YlGnBu_r', 'YlGn_r', \n",
    "'YlOrBr', 'YlOrBr_r', 'YlOrRd', 'YlOrRd_r', 'afmhot', 'afmhot_r', 'autumn', 'autumn_r', 'binary', 'binary_r', 'bone', 'bone_r', 'brg', 'brg_r', 'bwr', 'bwr_r', 'cividis', \n",
    "'cividis_r', 'cool', 'cool_r', 'coolwarm', 'coolwarm_r', 'copper', 'copper_r', 'cubehelix', 'cubehelix_r', 'flag', 'flag_r', 'gist_earth', 'gist_earth_r', 'gist_gray', 'gist_gray_r', \n",
    "'gist_heat', 'gist_heat_r', 'gist_ncar', 'gist_ncar_r', 'gist_rainbow', 'gist_rainbow_r', 'gist_stern', 'gist_stern_r', 'gist_yarg', 'gist_yarg_r', 'gnuplot', 'gnuplot2', 'gnuplot2_r', \n",
    "'gnuplot_r', 'gray', 'gray_r', 'hot', 'hot_r', 'hsv', 'hsv_r', 'inferno', 'inferno_r', 'jet', 'jet_r', 'magma', 'magma_r', 'nipy_spectral', 'nipy_spectral_r', 'ocean', 'ocean_r', 'pink',\n",
    "'pink_r', 'plasma', 'plasma_r', 'prism', 'prism_r', 'rainbow', 'rainbow_r', 'seismic', 'seismic_r', 'spring', 'spring_r', 'summer', 'summer_r', 'tab10', 'tab10_r', 'tab20', 'tab20_r', \n",
    "'tab20b', 'tab20b_r', 'tab20c', 'tab20c_r', 'terrain', 'terrain_r', 'turbo', 'turbo_r', 'twilight', 'twilight_r', 'twilight_shifted', 'twilight_shifted_r', 'viridis', 'viridis_r', \n",
    "'winter', 'winter_r']\n"
   ]
  },
  {
   "cell_type": "code",
   "execution_count": 42,
   "id": "128e7116",
   "metadata": {},
   "outputs": [
    {
     "name": "stdout",
     "output_type": "stream",
     "text": [
      "781.450077545557\n",
      "781.450077545557\n",
      "781.450077545557\n",
      "781.450077545557\n",
      "781.450077545557\n",
      "781.450077545557\n",
      "781.450077545557\n",
      "781.450077545557\n",
      "781.450077545557\n",
      "781.450077545557\n",
      "781.450077545557\n",
      "781.450077545557\n",
      "781.450077545557\n",
      "781.450077545557\n",
      "781.450077545557\n",
      "781.450077545557\n",
      "781.450077545557\n",
      "781.450077545557\n",
      "781.450077545557\n",
      "781.450077545557\n",
      "781.450077545557\n",
      "781.450077545557\n",
      "781.450077545557\n",
      "781.450077545557\n",
      "781.450077545557\n",
      "781.450077545557\n",
      "781.450077545557\n",
      "781.450077545557\n",
      "781.450077545557\n",
      "781.450077545557\n",
      "781.450077545557\n",
      "781.450077545557\n",
      "781.450077545557\n",
      "781.450077545557\n",
      "781.450077545557\n",
      "781.450077545557\n",
      "781.450077545557\n",
      "781.450077545557\n",
      "781.450077545557\n",
      "781.450077545557\n",
      "781.450077545557\n",
      "921.6451910158253\n",
      "1254.7630207209354\n",
      "1672.7898215197768\n",
      "2196.9606243645158\n",
      "2853.6052124161542\n",
      "3675.2654910234123\n",
      "4702.017118344217\n",
      "5983.02980473176\n",
      "7578.427817141758\n",
      "9561.583271467256\n",
      "12034.59333081895\n",
      "15150.655364776601\n",
      "19073.545044052873\n",
      "24012.17054895888\n",
      "30229.5316964198\n",
      "38056.725639260156\n",
      "47910.578996943164\n",
      "60315.845393023716\n",
      "75933.15049912581\n",
      "95594.17276094036\n",
      "120345.93330818947\n",
      "151506.5536477659\n",
      "190735.45044052886\n",
      "240121.70548958855\n",
      "302295.31696419837\n",
      "380567.2563926015\n",
      "479105.7899694327\n",
      "603158.4539302371\n",
      "759331.5049912574\n",
      "955941.7276094019\n",
      "1203459.3330818922\n",
      "1515065.5364776591\n",
      "1907354.504405291\n",
      "2401217.0548958904\n",
      "3022953.1696419837\n",
      "3805672.5639260123\n",
      "4791057.899694318\n",
      "6031584.53930237\n",
      "7593315.049912581\n",
      "9559417.276094045\n",
      "12034593.330818964\n",
      "15150655.364776582\n",
      "19073545.044052903\n",
      "24012170.548958875\n",
      "30229531.69641981\n",
      "38056725.63926026\n",
      "47910578.99694331\n",
      "60315845.39302369\n",
      "75933150.49912551\n",
      "95594172.76094028\n",
      "120345933.30818942\n",
      "151506553.6477663\n",
      "190735450.44052932\n",
      "240121705.48958933\n",
      "302295316.9641987\n",
      "380567256.3926015\n",
      "479105789.9694333\n",
      "603158453.9302381\n",
      "759331504.9912575\n",
      "955941727.6094031\n",
      "1203459333.0818992\n",
      "1515065536.4776616\n",
      "1907354504.4052868\n",
      "2401217054.8958797\n",
      "3022953169.64198\n",
      "3805672563.926011\n",
      "4791057899.694332\n",
      "6031584539.302\n",
      "7593315049.855867\n",
      "9559417270.710482\n",
      "12034592997.893482\n",
      "15150641916.951675\n",
      "19073188956.55779\n",
      "24005955843.2844\n",
      "30157463443.088432\n",
      "37494850565.941696\n",
      "44915282889.68256\n",
      "49135200999.8535\n",
      "45730732415.17233\n",
      "33827109600.71165\n"
     ]
    }
   ],
   "source": [
    "for i,_ in enumerate(e_grid):\n",
    "    print(np.trapz(samples_fun[i], x=e_grid))"
   ]
  },
  {
   "cell_type": "code",
   "execution_count": 43,
   "id": "d9a2d77e",
   "metadata": {},
   "outputs": [
    {
     "ename": "NameError",
     "evalue": "name 'count_np' is not defined",
     "output_type": "error",
     "traceback": [
      "\u001b[0;31m---------------------------------------------------------------------------\u001b[0m",
      "\u001b[0;31mNameError\u001b[0m                                 Traceback (most recent call last)",
      "\u001b[1;32m/home/kruteesh/Desktop/DM_nu_simulation_P-One/PONE_git/pone_work/pone_dm/example_basic copy.ipynb Cell 50\u001b[0m in \u001b[0;36m<cell line: 2>\u001b[0;34m()\u001b[0m\n\u001b[1;32m      <a href='vscode-notebook-cell:/home/kruteesh/Desktop/DM_nu_simulation_P-One/PONE_git/pone_work/pone_dm/example_basic%20copy.ipynb#Y100sZmlsZQ%3D%3D?line=0'>1</a>\u001b[0m figure, (ax1) \u001b[39m=\u001b[39m plt\u001b[39m.\u001b[39msubplots(\u001b[39m1\u001b[39m, \u001b[39m1\u001b[39m, figsize\u001b[39m=\u001b[39m(std_size, std_size \u001b[39m*\u001b[39m \u001b[39m6.\u001b[39m\u001b[39m/\u001b[39m\u001b[39m8.\u001b[39m ), sharex\u001b[39m=\u001b[39m\u001b[39mTrue\u001b[39;00m)\n\u001b[0;32m----> <a href='vscode-notebook-cell:/home/kruteesh/Desktop/DM_nu_simulation_P-One/PONE_git/pone_work/pone_dm/example_basic%20copy.ipynb#Y100sZmlsZQ%3D%3D?line=1'>2</a>\u001b[0m ax1\u001b[39m.\u001b[39mimshow((count_np\u001b[39m*\u001b[39me_grid)\u001b[39m.\u001b[39mT, origin\u001b[39m=\u001b[39m\u001b[39m'\u001b[39m\u001b[39mlower\u001b[39m\u001b[39m'\u001b[39m, extent\u001b[39m=\u001b[39m( \u001b[39mmin\u001b[39m(np\u001b[39m.\u001b[39mlog10(e_grid)), \u001b[39mmax\u001b[39m(np\u001b[39m.\u001b[39mlog10(e_grid)), \u001b[39mmin\u001b[39m(np\u001b[39m.\u001b[39mlog10(e_grid)), \u001b[39mmax\u001b[39m(np\u001b[39m.\u001b[39mlog10(e_grid)) ))\n\u001b[1;32m      <a href='vscode-notebook-cell:/home/kruteesh/Desktop/DM_nu_simulation_P-One/PONE_git/pone_work/pone_dm/example_basic%20copy.ipynb#Y100sZmlsZQ%3D%3D?line=2'>3</a>\u001b[0m ax1\u001b[39m.\u001b[39mset_xlabel(\u001b[39mr\u001b[39m\u001b[39m\"\u001b[39m\u001b[39mlog $E_\u001b[39m\u001b[39m{true}\u001b[39;00m\u001b[39m$\u001b[39m\u001b[39m\"\u001b[39m, fontsize\u001b[39m=\u001b[39mfontsize)\n\u001b[1;32m      <a href='vscode-notebook-cell:/home/kruteesh/Desktop/DM_nu_simulation_P-One/PONE_git/pone_work/pone_dm/example_basic%20copy.ipynb#Y100sZmlsZQ%3D%3D?line=3'>4</a>\u001b[0m ax1\u001b[39m.\u001b[39mset_ylabel(\u001b[39mr\u001b[39m\u001b[39m\"\u001b[39m\u001b[39mlog $E_\u001b[39m\u001b[39m{Recon}\u001b[39;00m\u001b[39m$\u001b[39m\u001b[39m\"\u001b[39m, fontsize\u001b[39m=\u001b[39mfontsize)\n",
      "\u001b[0;31mNameError\u001b[0m: name 'count_np' is not defined"
     ]
    },
    {
     "data": {
      "image/png": "[encoded data removed]",
      "text/plain": [
       "<Figure size 432x324 with 1 Axes>"
      ]
     },
     "metadata": {
      "needs_background": "light"
     },
     "output_type": "display_data"
    }
   ],
   "source": [
    "figure, (ax1) = plt.subplots(1, 1, figsize=(std_size, std_size * 6./8. ), sharex=True)\n",
    "ax1.imshow((count_np*e_grid).T, origin='lower', extent=( min(np.log10(e_grid)), max(np.log10(e_grid)), min(np.log10(e_grid)), max(np.log10(e_grid)) ))\n",
    "ax1.set_xlabel(r\"log $E_{true}$\", fontsize=fontsize)\n",
    "ax1.set_ylabel(r\"log $E_{Recon}$\", fontsize=fontsize)\n",
    "ax1.tick_params(axis = 'both', which = 'major', labelsize=fontsize-5, direction='in')\n",
    "ax1.tick_params(axis = 'both', which = 'minor', labelsize=fontsize-5, direction='in')\n",
    "\n",
    "# ---------------------------------------------\n",
    "# Legend\n",
    "# plt.legend(fontsize=fontsize)\n",
    "h, l = ax1.get_legend_handles_labels()\n",
    "lgd1 = ax1.legend(h, l, loc=9, bbox_to_anchor=(0.4, +1.),\n",
    "                 ncol=1, fontsize=fontsize-3, handlelength=h_length,\n",
    "                 fancybox=True, frameon=False)\n",
    "ax1.add_artist(lgd1)\n",
    "\n",
    "plt.grid()"
   ]
  },
  {
   "cell_type": "code",
   "execution_count": null,
   "id": "0b1ac938",
   "metadata": {},
   "outputs": [],
   "source": [
    "np.array(count_np).shape"
   ]
  },
  {
   "cell_type": "code",
   "execution_count": null,
   "id": "1c6b8a2e",
   "metadata": {},
   "outputs": [],
   "source": [
    "count_np"
   ]
  },
  {
   "cell_type": "code",
   "execution_count": null,
   "id": "d18de8e7",
   "metadata": {},
   "outputs": [],
   "source": []
  }
 ],
 "metadata": {
  "interpreter": {
   "hash": "82a3a656d33f35b7f3fe77a22343614a58c995dc979ba6da45d214804d59b344"
  },
  "kernelspec": {
   "display_name": "Python 3.9.5 64-bit ('pdm': conda)",
   "name": "python3"
  },
  "language_info": {
   "codemirror_mode": {
    "name": "ipython",
    "version": 3
   },
   "file_extension": ".py",
   "mimetype": "text/x-python",
   "name": "python",
   "nbconvert_exporter": "python",
   "pygments_lexer": "ipython3",
   "version": "3.9.11"
  }
 },
 "nbformat": 4,
 "nbformat_minor": 5
}
