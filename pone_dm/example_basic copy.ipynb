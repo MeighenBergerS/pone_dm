{
 "cells": [
  {
   "cell_type": "code",
   "execution_count": 6,
   "metadata": {},
   "outputs": [],
   "source": [
    "# Name: example_basic\n",
    "# Authors: Stephan Meighen-Berger, Kruteesh Desai\n",
    "# A basic example how to use the package"
   ]
  },
  {
   "cell_type": "code",
   "execution_count": 7,
   "metadata": {},
   "outputs": [],
   "source": [
    "# imports\n",
    "from config import config\n",
    "from pone_aeff import Aeff\n",
    "from dm2nu import DM2Nu\n",
    "from atm_shower import Atm_Shower\n",
    "from detectors import Detector\n",
    "import numpy as np\n",
    "import matplotlib.pyplot as plt\n",
    "from limit_calc import Limits\n",
    "from bkgrd_calc import Background\n",
    "from signal_calc import Signal\n",
    "from pdm import PDM\n",
    "from scipy.interpolate import UnivariateSpline\n",
    "from scipy.stats import chi2"
   ]
  },
  {
   "cell_type": "code",
   "execution_count": null,
   "metadata": {},
   "outputs": [],
   "source": []
  },
  {
   "cell_type": "code",
   "execution_count": 8,
   "metadata": {},
   "outputs": [],
   "source": [
    "# picture path\n",
    "PICS = '../pics/'\n",
    "name=[r'$\\nu_{\\mu}$',r'$\\nu_{e}$',r'$\\nu_{\\tau}$']"
   ]
  },
  {
   "cell_type": "code",
   "execution_count": 9,
   "metadata": {},
   "outputs": [],
   "source": [
    "# Some example settings\n",
    "#config['atmospheric showers']['interaction model'] = 'SIBYLL2.3c'\n",
    "#config['atmospheric showers']['theta angles'] = np.linspace(0., 90., 91)\n",
    "#config['atmospheric showers']['particles of interest']=['nue']\n",
    "config['general']['detector'] = 'POne'\n",
    "config[\"general\"][\"year\"] = 7"
   ]
  },
  {
   "cell_type": "code",
   "execution_count": 10,
   "metadata": {},
   "outputs": [
    {
     "name": "stderr",
     "output_type": "stream",
     "text": [
      "  0%|          | 0/50 [00:00<?, ?it/s]/home/kruteesh/Desktop/DM_nu_simulation_P-One/PONE_git/pone_work/pone_dm/dm2nu.py:340: RuntimeWarning: overflow encountered in exp\n",
      "  dd = np.exp(d_2 / s_in(x)**2)\n",
      "/home/kruteesh/Desktop/DM_nu_simulation_P-One/PONE_git/pone_work/pone_dm/dm2nu.py:341: RuntimeWarning: overflow encountered in multiply\n",
      "  return A * aa * dd\n",
      " 60%|██████    | 30/50 [01:18<00:49,  2.50s/it]"
     ]
    }
   ],
   "source": [
    "pdm = PDM()"
   ]
  },
  {
   "cell_type": "code",
   "execution_count": null,
   "metadata": {},
   "outputs": [],
   "source": [
    "# Grids\n",
    "mass_grid = config['simulation parameters']['mass grid']\n",
    "sv_grid = config['simulation parameters']['sv grid']\n",
    "# The limit calculation\n",
    "pdm.results"
   ]
  },
  {
   "cell_type": "code",
   "execution_count": null,
   "metadata": {},
   "outputs": [],
   "source": [
    "dphi_4=np.loadtxt(open(\"../data/m_1e4.csv\"), delimiter = \",\")\n",
    "dphi_4[dphi_4[:,0].sort()]\n",
    "dphi_ice=np.loadtxt(open(\"../data/icecube.csv\"), delimiter = \",\")\n",
    "dphi_ice[dphi_ice[:,0].sort()]"
   ]
  },
  {
   "cell_type": "code",
   "execution_count": null,
   "metadata": {},
   "outputs": [],
   "source": [
    "dphi=UnivariateSpline(dphi_4[:,0],dphi_4[:,1],k=1,s=0)\n",
    "dphi_ic=UnivariateSpline(dphi_ice[:,0],dphi_ice[:,1],k=1,s=0)"
   ]
  },
  {
   "cell_type": "code",
   "execution_count": null,
   "metadata": {},
   "outputs": [],
   "source": [
    "mass_id = 10\n",
    "sv_id = -1\n",
    "#plt.step(pdm._shower_sim.egrid,pdm._limit_calc._signal_counts[mass_grid[mass_id]][sv_grid[sv_id]],label=r'$m_{x}$ = %.1e GeV, <$\\sigma\\nu$> = %.1e' %(mass_grid[mass_id], sv_grid[sv_id]))\n",
    "plt.step(pdm._shower_sim._egrid, dphi(pdm._shower_sim._egrid), label='m = 1e4 GeV Lit')\n",
    "plt.step(pdm._shower_sim.egrid, pdm._dm_nu.extra_galactic_flux(pdm._shower_sim.egrid, 1e4, 1e-24) * pdm._shower_sim.egrid**2.,\n",
    "         label='m = 1e4 GeV Sim')\n",
    "plt.xscale('log')\n",
    "plt.yscale('log')\n",
    "plt.ylabel(r'$E^2$ $d\\phi/dE$ $[GeV s^{-1} sr^{-1}]$')\n",
    "plt.xlabel('E [GeV]')\n",
    "plt.legend()\n",
    "plt.xlim(1e2, 1.1e4)"
   ]
  },
  {
   "cell_type": "code",
   "execution_count": null,
   "metadata": {},
   "outputs": [],
   "source": [
    "# Litterature differential fluxes converting to counts \n",
    "\n",
    "down_angles = []\n",
    "horizon_angles = []\n",
    "lit_down= []\n",
    "lit_hor = []\n",
    "\n",
    "A_55 = np.loadtxt( \"../data/A_55.csv\", delimiter=\",\")\n",
    "A_15 = np.loadtxt( \"../data/A_15.csv\", delimiter=\",\")\n",
    "A_51 = np.loadtxt( \"../data/A_51.csv\", delimiter=\",\")\n",
    "A_55 = A_55[A_55[:, 0].argsort()]\n",
    "A_15 = A_15[A_15[:, 0].argsort()]\n",
    "A_51 = A_51[A_51[:, 0].argsort()]\n",
    "A_55 = np.concatenate((np.array([[100, 0]]), A_55), axis=0)\n",
    "A_15 = np.concatenate((np.array([[100, 0]]), A_15), axis=0)\n",
    "A_51 = np.concatenate((np.array([[100, 0]]), A_51), axis=0)\n",
    "\n",
    "_A_15 = UnivariateSpline(A_15[:, 0], A_15[:, 1] *\n",
    "                                      1e4, k=1, s=0, ext=3)\n",
    "_A_51 = UnivariateSpline(A_51[:, 0], A_51[:, 1] *\n",
    "                                      1e4, k=1, s=0, ext=3)\n",
    "_A_55 = UnivariateSpline(A_55[:, 0], A_55[:, 1] *\n",
    "                                      1e4, k=1, s=0, ext=3)\n",
    "\n",
    "\n",
    "_uptime=config[\"simulation parameters\"][\"uptime\"]\n",
    "for angle in config['atmospheric showers']['theta angles']:\n",
    "            rad = np.deg2rad(np.abs(angle - 90.))\n",
    "\n",
    "            # Downgoing\n",
    "            if np.pi / 3 <= rad <= np.pi / 2:\n",
    "                down_angles.append(rad)\n",
    "                lit_down.append(\n",
    "                    dphi(pdm._shower_sim.egrid) *  pdm._shower_sim._egrid**(-2) *_uptime *\n",
    "                    pdm._shower_sim._ewidth * _A_15(pdm._shower_sim._egrid)\n",
    "                )\n",
    "\n",
    "# * pdm._shower_sim._egrid**(-2)\n",
    "            # Horizon\n",
    "            else:\n",
    "                horizon_angles.append(rad)\n",
    "                lit_hor.append(\n",
    "                     dphi(pdm._shower_sim.egrid) * pdm._shower_sim._egrid**(-2) * _uptime *\n",
    "                    pdm._shower_sim._ewidth *_A_55(pdm._shower_sim._egrid)\n",
    "                )\n",
    "\n",
    "# Converting to numpy arrays\n",
    "lit_down = np.array(lit_down)\n",
    "lit_hor = np.array(lit_hor)\n",
    "down_angles = np.array(down_angles)\n",
    "horizon_angles = np.array(horizon_angles)\n",
    "\n",
    "# Integrating\n",
    "\n",
    "_lit = np.zeros_like(pdm._shower_sim._egrid)\n",
    "\n",
    "\n",
    "# Downgoing\n",
    "\n",
    "sorted_ids = np.argsort(down_angles)\n",
    "_lit += np.trapz(lit_down[sorted_ids],\n",
    "                                x=down_angles[sorted_ids], axis=0)\n",
    "\n",
    "\n",
    "# Horizon we assume it is mirrored\n",
    "\n",
    "sorted_ids = np.argsort(horizon_angles)\n",
    "_lit += 2. * np.trapz(lit_hor[sorted_ids],\n",
    "                                     x=horizon_angles[sorted_ids], axis=0)\n",
    "\n",
    "# Upgoing we assume the same flux for all\n",
    "_lit += ((np.pi / 2 - np.pi / 3) *\n",
    "           dphi(pdm._shower_sim.egrid)  * pdm._shower_sim._egrid**(-2) * _uptime *\n",
    "                    pdm._shower_sim._ewidth * _A_51(pdm._shower_sim._egrid)\n",
    "        )\n",
    "\n",
    "plt.step(pdm._shower_sim._egrid,_lit)\n",
    "plt.xscale('log')\n",
    "plt.yscale('log')"
   ]
  },
  {
   "cell_type": "code",
   "execution_count": null,
   "metadata": {},
   "outputs": [],
   "source": [
    "# Plotting standards\n",
    "std_size = 15.  # Size of the plot\n",
    "fontsize = 25.  # Fontsize in the plot\n",
    "lw=0.5  # Linewidth\n",
    "h_length=0.5  # Handle length for the legends\n",
    "export_dpi = 500  # Dpi for the image export"
   ]
  },
  {
   "cell_type": "code",
   "execution_count": null,
   "metadata": {},
   "outputs": [],
   "source": [
    "th_cl = np.loadtxt(open(\"../data/thermal_relic.csv\"), delimiter = \",\")\n",
    "angle_grid = np.logspace(0,90,91)"
   ]
  },
  {
   "cell_type": "code",
   "execution_count": null,
   "metadata": {},
   "outputs": [],
   "source": [
    "mass_id = 30\n",
    "sv_id = 15\n",
    "pdm._signal._signal_calc(pdm._shower_sim._egrid,mass_grid[mass_id],sv_grid[sv_id],angle_grid)/ (pdm._shower_sim.egrid**10)"
   ]
  },
  {
   "cell_type": "code",
   "execution_count": null,
   "metadata": {
    "scrolled": true
   },
   "outputs": [],
   "source": [
    "# plotting the Counts----\n",
    "for j,i in enumerate(config['atmospheric showers']['particles of interest']):\n",
    "    # Particle counts\n",
    "    # ---------------------------------------------\n",
    "    # Setup\n",
    "    figure, ax1 = plt.subplots(1, 1, figsize=(10,7), sharey=True)\n",
    "    # ---------------------------------------------\n",
    "    # Plotting\n",
    "    ax1.step(pdm._shower_sim._egrid,_lit ,label='m = 1e4 GeV Lit')\n",
    "    #ax1.step(pdm._shower_sim._egrid,pdm._bkgrd.bkgrd[i] ,label='IceCube Background')\n",
    "    ax1.step(pdm._shower_sim.egrid,\n",
    "             pdm._limit_calc._bkgrd[i],\n",
    "             label='Background')\n",
    "    mass_id = 11\n",
    "    sv_id = 20\n",
    "    ax1.step(pdm._shower_sim.egrid,\n",
    "             pdm._signal._signal_calc(pdm._shower_sim._egrid,mass_grid[mass_id],sv_grid[sv_id],angle_grid) ,\n",
    "             label=r'$m_{x}$ = %.1e GeV, <$\\sigma\\nu$> = %.1e' %(mass_grid[mass_id], sv_grid[sv_id]))\n",
    "   # yy =pdm._signal._signal_calc(pdm._shower_sim._egrid,mass_grid[mass_id],sv_grid[sv_id],angle_grid)*(pdm._shower_sim.egrid)**2 \n",
    "    #print(yy)\n",
    "    # ax1.step(pdm._shower_sim.egrid,\n",
    "    #         pdm._limit_calc._bkgrd[i] + pdm._signal._signal_calc(pdm._shower_sim._egrid,mass_grid[mass_id],sv_grid[sv_id],angle_grid),\n",
    "    #         label='Total', color='k')\n",
    "    # The correspondin CL value\n",
    " \n",
    "   \n",
    "    mass_id = -10\n",
    "    sv_id = 20\n",
    "    ax1.step(pdm._shower_sim.egrid,\n",
    "             pdm._signal._signal_calc(pdm._shower_sim._egrid,mass_grid[mass_id],sv_grid[sv_id],angle_grid) / (pdm._shower_sim.egrid**-2) ,\n",
    "             label=r'$m_{x}$ = %.1e GeV, <$\\sigma\\nu$> = %.1e' %(mass_grid[mass_id], sv_grid[sv_id]))\n",
    "    # Corresponding CL value\n",
    "\n",
    "   \n",
    "    # ---------------------------------------------\n",
    "    # Axis options\n",
    "    ax1.set_xscale(\"log\")\n",
    "    ax1.set_yscale(\"log\")\n",
    "    ax1.set_xlabel(r\"E [GeV]\", fontsize=fontsize)\n",
    "    ax1.set_ylabel(\"Counts;  \" + name[j], fontsize=fontsize)\n",
    "    ax1.tick_params(axis = 'both', which = 'major', labelsize=fontsize, direction='in')\n",
    "    ax1.tick_params(axis = 'both', which = 'minor', labelsize=fontsize, direction='in')\n",
    "    \n",
    "    if j==0:\n",
    "        ax1.set_ylim(1e2, 1e7)\n",
    "        ax1.set_xlim(1e2, 1e7)\n",
    "    elif j==1:\n",
    "        ax1.set_ylim(1e0, 1e5)\n",
    "        ax1.set_xlim(1e2, 1e7)\n",
    "    elif j==2:\n",
    "        ax1.set_ylim(1e0, 1e4)\n",
    "        ax1.set_xlim(1e2, 1e7)\n",
    "    \n",
    "    # ---------------------------------------------\n",
    "    # Legend\n",
    "    h, l = ax1.get_legend_handles_labels()\n",
    "    \n",
    "    lgd1 = ax1.legend([h[0]], [l[0]], loc=9, bbox_to_anchor=(0.5, +1.1),\n",
    "                      ncol=2, fontsize=fontsize-6, handlelength=h_length,\n",
    "                      fancybox=True, frameon=False)\n",
    "    lgd2 = ax1.legend(h[1:], l[1:], loc=9, bbox_to_anchor=(0.65, +1.0),\n",
    "                      ncol=2, fontsize=fontsize-6, handlelength=h_length,\n",
    "                      fancybox=True, frameon=False)\n",
    "    ax1.add_artist(lgd1)\n",
    "    # ---------------------------------------------\n",
    "    # Showing the image\n",
    "    plt.show()\n",
    "    # ---------------------------------------------\n",
    "    # Storing the image\n",
    "    figure.savefig(PICS + \"Flux_Example_\"+i+\".png\",\n",
    "                   bbox_inches='tight', dpi=export_dpi)"
   ]
  },
  {
   "cell_type": "code",
   "execution_count": null,
   "metadata": {},
   "outputs": [],
   "source": [
    "print(mass_grid[11])\n",
    "plt.loglog(\n",
    "    pdm._shower_sim._egrid,\n",
    "    pdm._signal._signal_calc(pdm._shower_sim._egrid,mass_grid[11],sv_grid[15],angle_grid) /\n",
    "    np.sqrt(pdm._limit_calc._bkgrd[config['atmospheric showers']['particles of interest'][0]])\n",
    ")\n",
    "plt.xlim(1e2, 1e5)"
   ]
  },
  {
   "cell_type": "code",
   "execution_count": null,
   "metadata": {},
   "outputs": [],
   "source": [
    "sv_grid[15]"
   ]
  },
  {
   "cell_type": "code",
   "execution_count": null,
   "metadata": {},
   "outputs": [],
   "source": [
    "test_chi2 = {}\n",
    "for i in config[\"pone\"][\"specific particle scaling\"].keys():\n",
    "    test_chi2[i] = np.array([[\n",
    "        (pdm._signal._signal_calc(pdm._shower_sim._egrid,mass_grid[mass_id],sv_grid[sv_id],angle_grid)[pdm._limit_calc._t_d:] /\n",
    "        pdm._limit_calc._bkgrd[i][pdm._limit_calc._t_d:] for mass_id in range(0, len(mass_grid)))\n",
    "        ] for sv_id in range(0, len(sv_grid))])"
   ]
  },
  {
   "cell_type": "code",
   "execution_count": null,
   "metadata": {},
   "outputs": [],
   "source": [
    "# Loading comparison data\n",
    "cl_lit = np.loadtxt('../data/CL_PONE.csv', delimiter=\",\")\n",
    "cl_lit = (cl_lit[cl_lit[:, 0].argsort()])"
   ]
  },
  {
   "cell_type": "code",
   "execution_count": null,
   "metadata": {},
   "outputs": [],
   "source": [
    "for j,i in enumerate(config[\"pone\"][\"specific particle scaling\"].keys()):\n",
    "    # Limits\n",
    "    # ---------------------------------------------\n",
    "    # Setup\n",
    "\n",
    "    figure, (ax1) = plt.subplots(1, 1, figsize=(std_size, std_size * 6. / 8.), sharex=True)\n",
    "    # ---------------------------------------------\n",
    "    # Plotting\n",
    "    plt.title(name[j],fontsize=fontsize)\n",
    "    ax1.contour( pdm.results[i], levels = [0.9], colors='purple',\n",
    "                origin='upper', extent=(min(np.log10(mass_grid)), max(np.log10(mass_grid)),\n",
    "                                        min(np.log10(sv_grid)), max(np.log10(sv_grid))))\n",
    "    pos = ax1.imshow( pdm.results[i], extent=(min(np.log10(mass_grid)), max(np.log10(mass_grid)),\n",
    "                                              min(np.log10(sv_grid)), max(np.log10(sv_grid))),\n",
    "                     origin='upper', aspect='auto',cmap=plt.cm.afmhot)\n",
    "    figure.colorbar(pos, ax=ax1)\n",
    "    ax1.plot(np.log10(cl_lit[:, 0]), np.log10(cl_lit[:, 1]), 'g', label='literature 90% C.L')\n",
    "    # ---------------------------------------------\n",
    "    # Axis options\n",
    "    ax1.set_xscale(\"linear\")\n",
    "    ax1.set_yscale(\"linear\")\n",
    "    ax1.set_xlabel(r\"$\\log$ $m_{\\chi}$\", fontsize=fontsize)\n",
    "    ax1.set_ylabel(r\"$\\log$ $<\\sigma \\nu$>\", fontsize=fontsize)\n",
    "    ax1.tick_params(axis = 'both', which = 'major', labelsize=fontsize-5)\n",
    "    ax1.tick_params(axis = 'both', which = 'minor', labelsize=fontsize-5)\n",
    "    ax1.set_xlim(min(np.log10(mass_grid)), max(np.log10(mass_grid)))\n",
    "    ax1.set_ylim(min(np.log10(sv_grid)), max(np.log10(sv_grid)))\n",
    "    # ---------------------------------------------\n",
    "    # Legend\n",
    "    # plt.legend(fontsize=fontsize)\n",
    "    h, l = ax1.get_legend_handles_labels()\n",
    "    lgd1 = ax1.legend(h, l, loc=9, bbox_to_anchor=(0.5, +0.8),\n",
    "                     ncol=2, fontsize=fontsize-5, handlelength=h_length,\n",
    "                     fancybox=True, frameon=False)\n",
    "    ax1.add_artist(lgd1)\n",
    "    # ---------------------------------------------\n",
    "    # Showing the image\n",
    "    plt.show()\n",
    "    # ---------------------------------------------\n",
    "    # Storing the image\n",
    "    figure.savefig(PICS + \"Limits_Example_\"+i+\".png\",\n",
    "                   bbox_inches='tight', dpi=export_dpi)"
   ]
  },
  {
   "cell_type": "code",
   "execution_count": null,
   "metadata": {},
   "outputs": [],
   "source": [
    "# All Limits-------------------------------------------\n",
    "# Setup\n",
    "figure, (ax1) = plt.subplots(1, 1, figsize=(std_size, std_size * 6. / 8.), sharex=True)\n",
    "# ---------------------------------------------\n",
    "# Plotting\n",
    "ax1.contour(1 - pdm.results[\"numu\"], levels = [0.9], colors='purple', linestyles='-',\n",
    "            origin='upper', extent=(min(np.log10(mass_grid)), max(np.log10(mass_grid)),\n",
    "                                    min(np.log10(sv_grid)), max(np.log10(sv_grid))))\n",
    "ax1.contour(1 - pdm.results[\"nue\"], levels = [0.9], colors='purple', linestyles='--',\n",
    "            origin='upper', extent=(min(np.log10(mass_grid)), max(np.log10(mass_grid)),\n",
    "                                    min(np.log10(sv_grid)), max(np.log10(sv_grid))))\n",
    "ax1.contour(1 - pdm.results[\"nutau\"], levels = [0.9], colors='purple', linestyles='-.',\n",
    "            origin='upper', extent=(min(np.log10(mass_grid)), max(np.log10(mass_grid)),\n",
    "                                    min(np.log10(sv_grid)), max(np.log10(sv_grid))))\n",
    "ax1.plot(np.log10(cl_lit[:, 0]), np.log10(cl_lit[:, 1]), 'g', label='literature 90% C.L')\n",
    "ax1.plot(np.log10(th_cl[:, 0]), np.log10(th_cl[:, 1]), 'b', \n",
    "         label='literature Thermal Relic Abundance')\n",
    "# ---------------------------------------------\n",
    "# Axis options\n",
    "ax1.set_xscale(\"linear\")\n",
    "ax1.set_yscale(\"linear\")\n",
    "ax1.set_xlabel(r\"log $m_{\\chi}$\", fontsize=fontsize)\n",
    "ax1.set_ylabel(r\"log <$\\sigma\\nu$>\", fontsize=fontsize)\n",
    "ax1.tick_params(axis = 'both', which = 'major', labelsize=fontsize-5, direction='in')\n",
    "ax1.tick_params(axis = 'both', which = 'minor', labelsize=fontsize-5, direction='in')\n",
    "ax1.set_xlim(min(np.log10(mass_grid)), max(np.log10(mass_grid)))\n",
    "ax1.set_ylim(min(np.log10(sv_grid)),-23.0)\n",
    "# ---------------------------------------------\n",
    "# Legend\n",
    "# plt.legend(fontsize=fontsize)\n",
    "h, l = ax1.get_legend_handles_labels()\n",
    "lgd1 = ax1.legend(h, l, loc=9, bbox_to_anchor=(0.4, +1.),\n",
    "                 ncol=1, fontsize=fontsize-3, handlelength=h_length,\n",
    "                 fancybox=True, frameon=False)\n",
    "ax1.add_artist(lgd1)\n",
    "# ---------------------------------------------\n",
    "ax1.text(3.2, -24.3, r\"$\\nu_\\mu$\", fontsize=fontsize)\n",
    "ax1.text(3.2, -24.9, r\"$\\nu_e$\", fontsize=fontsize)\n",
    "ax1.text(3.1, -25.3, r\"$\\nu_\\tau$\", fontsize=fontsize)\n",
    "ax1.text(4.2, -25.5, \"Thermal Relic Abundance\", fontsize=fontsize)\n",
    "plt.grid()\n",
    "# ---------------------------------------------\n",
    "# Showing the image\n",
    "plt.show()\n",
    "# ---------------------------------------------\n",
    "# Storing the image\n",
    "figure.savefig(PICS + \"All_Limits.png\",\n",
    "               bbox_inches='tight', dpi=export_dpi)"
   ]
  },
  {
   "cell_type": "code",
   "execution_count": null,
   "metadata": {},
   "outputs": [],
   "source": []
  }
 ],
 "metadata": {
  "interpreter": {
   "hash": "82a3a656d33f35b7f3fe77a22343614a58c995dc979ba6da45d214804d59b344"
  },
  "kernelspec": {
   "display_name": "Python 3.9.5 64-bit ('pdm': conda)",
   "name": "python3"
  },
  "language_info": {
   "codemirror_mode": {
    "name": "ipython",
    "version": 3
   },
   "file_extension": ".py",
   "mimetype": "text/x-python",
   "name": "python",
   "nbconvert_exporter": "python",
   "pygments_lexer": "ipython3",
   "version": "3.9.5"
  }
 },
 "nbformat": 4,
 "nbformat_minor": 5
}
