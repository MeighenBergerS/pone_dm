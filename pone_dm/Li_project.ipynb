{
 "cells": [
  {
   "cell_type": "code",
   "execution_count": 29,
   "metadata": {},
   "outputs": [],
   "source": [
    "# Li's Project\n",
    "# Adding the W-boson and b-quark channels to P-ONE"
   ]
  },
  {
   "cell_type": "code",
   "execution_count": 30,
   "metadata": {},
   "outputs": [],
   "source": [
    "# imports\n",
    "from constants import pdm_constants as const\n",
    "from config import config\n",
    "from pone_aeff import Aeff\n",
    "from dm2nu import DM2Nu\n",
    "from atm_shower import Atm_Shower\n",
    "from detectors import Detector\n",
    "import numpy as np\n",
    "import matplotlib.pyplot as plt\n",
    "from limit_calc import Limits\n",
    "from bkgrd_calc import Background\n",
    "from signal_calc import Signal\n",
    "from pdm import PDM\n",
    "from scipy.interpolate import UnivariateSpline\n",
    "from scipy.stats import chi2\n",
    "from scipy.stats import *\n",
    "from pone_aeff import Aeff\n",
    "import pickle\n",
    "import math\n",
    "import pandas as pd\n",
    "import csv\n",
    "from matplotlib.lines import Line2D\n",
    "from matplotlib import rc\n"
   ]
  },
  {
   "cell_type": "code",
   "execution_count": 31,
   "metadata": {},
   "outputs": [],
   "source": [
    "# picture path\n",
    "PICS = '../pics/'\n",
    "name=[r'$\\nu_{\\mu}$', r\"$\\nu_e$\", r\"$\\nu_{\\tau}$\"]  # ,r'$\\nu_{e}$',r'$\\nu_{\\tau}$'\n",
    "# Plotting standards\n",
    "std_size = 6.  # Size of the plot\n",
    "fontsize = 15.  # Fontsize in the plot\n",
    "lw=0.1  # Linewidth\n",
    "h_length=0.5  # Handle length for the legends\n",
    "export_dpi = 500  # Dpi for the image export\n",
    "color_pone='#7570b3'\n",
    "color_ice='#e7298a'\n",
    "color_combined='#33a02c'\n",
    "color_thermal='#1f78b4'\n",
    "color_unitary='k'\n",
    "color_4='#1b9e77'\n",
    "color_6='#d95f02'\n",
    "rc('font',**{'family':'sans-serif','sans-serif':['Helvetica']})\n",
    "rc('text', usetex=True)"
   ]
  },
  {
   "cell_type": "code",
   "execution_count": 32,
   "metadata": {},
   "outputs": [],
   "source": [
    "surface_fluxe = pickle.load(open(\"../data/\" +\n",
    "                                                   \"surf_store_v1.p\", \"rb\"))\n",
    "projection_ice = pickle.load(open('../data/background_ice.pkl','rb'))\n",
    "projection_pone = pickle.load(open('../data/background_pone_unsm.pkl','rb'))\n",
    "shower_flux = pickle.load(open('../data/shower.p','rb'))\n",
    "shower_po = shower_flux[2][45]['numu']"
   ]
  },
  {
   "cell_type": "code",
   "execution_count": 33,
   "metadata": {},
   "outputs": [],
   "source": [
    "e_grid_mceq = surface_fluxe[0][0]"
   ]
  },
  {
   "cell_type": "code",
   "execution_count": 34,
   "metadata": {},
   "outputs": [],
   "source": [
    "dm2nu = DM2Nu()"
   ]
  },
  {
   "cell_type": "code",
   "execution_count": 35,
   "metadata": {},
   "outputs": [],
   "source": [
    "m_grid = [100, 1e3, 1e4, 1e5]"
   ]
  },
  {
   "cell_type": "code",
   "execution_count": 36,
   "metadata": {},
   "outputs": [],
   "source": [
    "nu_e = pd.read_csv(open('../data/Li_project/nu_e.dat', 'rb'), delim_whitespace=True)"
   ]
  },
  {
   "cell_type": "code",
   "execution_count": 37,
   "metadata": {},
   "outputs": [
    {
     "data": {
      "text/html": [
       "<div>\n",
       "<style scoped>\n",
       "    .dataframe tbody tr th:only-of-type {\n",
       "        vertical-align: middle;\n",
       "    }\n",
       "\n",
       "    .dataframe tbody tr th {\n",
       "        vertical-align: top;\n",
       "    }\n",
       "\n",
       "    .dataframe thead th {\n",
       "        text-align: right;\n",
       "    }\n",
       "</style>\n",
       "<table border=\"1\" class=\"dataframe\">\n",
       "  <thead>\n",
       "    <tr style=\"text-align: right;\">\n",
       "      <th></th>\n",
       "      <th>mDM</th>\n",
       "      <th>Log[10,x]</th>\n",
       "      <th>eL</th>\n",
       "      <th>eR</th>\n",
       "      <th>e</th>\n",
       "      <th>\\[Mu]L</th>\n",
       "      <th>\\[Mu]R</th>\n",
       "      <th>\\[Mu]</th>\n",
       "      <th>\\[Tau]L</th>\n",
       "      <th>\\[Tau]R</th>\n",
       "      <th>...</th>\n",
       "      <th>Z</th>\n",
       "      <th>g</th>\n",
       "      <th>\\[Gamma]</th>\n",
       "      <th>h</th>\n",
       "      <th>\\[Nu]e</th>\n",
       "      <th>\\[Nu]\\[Mu]</th>\n",
       "      <th>\\[Nu]\\[Tau]</th>\n",
       "      <th>V-&gt;e</th>\n",
       "      <th>V-&gt;\\[Mu]</th>\n",
       "      <th>V-&gt;\\[Tau]</th>\n",
       "    </tr>\n",
       "  </thead>\n",
       "  <tbody>\n",
       "    <tr>\n",
       "      <th>0</th>\n",
       "      <td>5</td>\n",
       "      <td>-8.90</td>\n",
       "      <td>0.000000</td>\n",
       "      <td>0.000000</td>\n",
       "      <td>0.000000</td>\n",
       "      <td>0.000000</td>\n",
       "      <td>0.000000</td>\n",
       "      <td>0.000000</td>\n",
       "      <td>0.000000</td>\n",
       "      <td>0.000000</td>\n",
       "      <td>...</td>\n",
       "      <td>0.000000</td>\n",
       "      <td>0.000000</td>\n",
       "      <td>0.000000</td>\n",
       "      <td>0.000000</td>\n",
       "      <td>0.000000</td>\n",
       "      <td>0.000000</td>\n",
       "      <td>0.000000</td>\n",
       "      <td>0.0</td>\n",
       "      <td>0.000000</td>\n",
       "      <td>0.000000</td>\n",
       "    </tr>\n",
       "    <tr>\n",
       "      <th>1</th>\n",
       "      <td>5</td>\n",
       "      <td>-8.85</td>\n",
       "      <td>0.000000</td>\n",
       "      <td>0.000000</td>\n",
       "      <td>0.000000</td>\n",
       "      <td>0.000000</td>\n",
       "      <td>0.000000</td>\n",
       "      <td>0.000000</td>\n",
       "      <td>0.000000</td>\n",
       "      <td>0.000000</td>\n",
       "      <td>...</td>\n",
       "      <td>0.000000</td>\n",
       "      <td>0.000000</td>\n",
       "      <td>0.000000</td>\n",
       "      <td>0.000000</td>\n",
       "      <td>0.000000</td>\n",
       "      <td>0.000000</td>\n",
       "      <td>0.000000</td>\n",
       "      <td>0.0</td>\n",
       "      <td>0.000000</td>\n",
       "      <td>0.000000</td>\n",
       "    </tr>\n",
       "    <tr>\n",
       "      <th>2</th>\n",
       "      <td>5</td>\n",
       "      <td>-8.80</td>\n",
       "      <td>0.000000</td>\n",
       "      <td>0.000000</td>\n",
       "      <td>0.000000</td>\n",
       "      <td>0.000000</td>\n",
       "      <td>0.000000</td>\n",
       "      <td>0.000000</td>\n",
       "      <td>0.000000</td>\n",
       "      <td>0.000000</td>\n",
       "      <td>...</td>\n",
       "      <td>0.000000</td>\n",
       "      <td>0.000000</td>\n",
       "      <td>0.000000</td>\n",
       "      <td>0.000000</td>\n",
       "      <td>0.000000</td>\n",
       "      <td>0.000000</td>\n",
       "      <td>0.000000</td>\n",
       "      <td>0.0</td>\n",
       "      <td>0.000000</td>\n",
       "      <td>0.000000</td>\n",
       "    </tr>\n",
       "    <tr>\n",
       "      <th>3</th>\n",
       "      <td>5</td>\n",
       "      <td>-8.75</td>\n",
       "      <td>0.000000</td>\n",
       "      <td>0.000000</td>\n",
       "      <td>0.000000</td>\n",
       "      <td>0.000000</td>\n",
       "      <td>0.000000</td>\n",
       "      <td>0.000000</td>\n",
       "      <td>0.000000</td>\n",
       "      <td>0.000000</td>\n",
       "      <td>...</td>\n",
       "      <td>0.000000</td>\n",
       "      <td>0.000000</td>\n",
       "      <td>0.000000</td>\n",
       "      <td>0.000000</td>\n",
       "      <td>0.000000</td>\n",
       "      <td>0.000000</td>\n",
       "      <td>0.000000</td>\n",
       "      <td>0.0</td>\n",
       "      <td>0.000000</td>\n",
       "      <td>0.000000</td>\n",
       "    </tr>\n",
       "    <tr>\n",
       "      <th>4</th>\n",
       "      <td>5</td>\n",
       "      <td>-8.70</td>\n",
       "      <td>0.000000</td>\n",
       "      <td>0.000000</td>\n",
       "      <td>0.000000</td>\n",
       "      <td>0.000000</td>\n",
       "      <td>0.000000</td>\n",
       "      <td>0.000000</td>\n",
       "      <td>0.000000</td>\n",
       "      <td>0.000000</td>\n",
       "      <td>...</td>\n",
       "      <td>0.000000</td>\n",
       "      <td>0.000000</td>\n",
       "      <td>0.000000</td>\n",
       "      <td>0.000000</td>\n",
       "      <td>0.000000</td>\n",
       "      <td>0.000000</td>\n",
       "      <td>0.000000</td>\n",
       "      <td>0.0</td>\n",
       "      <td>0.000000</td>\n",
       "      <td>0.000000</td>\n",
       "    </tr>\n",
       "    <tr>\n",
       "      <th>...</th>\n",
       "      <td>...</td>\n",
       "      <td>...</td>\n",
       "      <td>...</td>\n",
       "      <td>...</td>\n",
       "      <td>...</td>\n",
       "      <td>...</td>\n",
       "      <td>...</td>\n",
       "      <td>...</td>\n",
       "      <td>...</td>\n",
       "      <td>...</td>\n",
       "      <td>...</td>\n",
       "      <td>...</td>\n",
       "      <td>...</td>\n",
       "      <td>...</td>\n",
       "      <td>...</td>\n",
       "      <td>...</td>\n",
       "      <td>...</td>\n",
       "      <td>...</td>\n",
       "      <td>...</td>\n",
       "      <td>...</td>\n",
       "      <td>...</td>\n",
       "    </tr>\n",
       "    <tr>\n",
       "      <th>11093</th>\n",
       "      <td>100000</td>\n",
       "      <td>-0.20</td>\n",
       "      <td>0.144074</td>\n",
       "      <td>0.000692</td>\n",
       "      <td>0.072383</td>\n",
       "      <td>0.524696</td>\n",
       "      <td>0.715321</td>\n",
       "      <td>0.620008</td>\n",
       "      <td>0.110050</td>\n",
       "      <td>0.145143</td>\n",
       "      <td>...</td>\n",
       "      <td>0.145251</td>\n",
       "      <td>0.000286</td>\n",
       "      <td>0.044073</td>\n",
       "      <td>0.095100</td>\n",
       "      <td>0.102653</td>\n",
       "      <td>0.225569</td>\n",
       "      <td>0.032903</td>\n",
       "      <td>0.0</td>\n",
       "      <td>0.326558</td>\n",
       "      <td>0.017237</td>\n",
       "    </tr>\n",
       "    <tr>\n",
       "      <th>11094</th>\n",
       "      <td>100000</td>\n",
       "      <td>-0.15</td>\n",
       "      <td>0.185505</td>\n",
       "      <td>0.000531</td>\n",
       "      <td>0.093018</td>\n",
       "      <td>0.382060</td>\n",
       "      <td>0.521692</td>\n",
       "      <td>0.451876</td>\n",
       "      <td>0.077593</td>\n",
       "      <td>0.102191</td>\n",
       "      <td>...</td>\n",
       "      <td>0.142884</td>\n",
       "      <td>0.000113</td>\n",
       "      <td>0.042088</td>\n",
       "      <td>0.087957</td>\n",
       "      <td>0.223359</td>\n",
       "      <td>0.208894</td>\n",
       "      <td>0.022130</td>\n",
       "      <td>0.0</td>\n",
       "      <td>0.199903</td>\n",
       "      <td>0.007814</td>\n",
       "    </tr>\n",
       "    <tr>\n",
       "      <th>11095</th>\n",
       "      <td>100000</td>\n",
       "      <td>-0.10</td>\n",
       "      <td>0.270209</td>\n",
       "      <td>0.000359</td>\n",
       "      <td>0.135284</td>\n",
       "      <td>0.233641</td>\n",
       "      <td>0.319224</td>\n",
       "      <td>0.276432</td>\n",
       "      <td>0.046798</td>\n",
       "      <td>0.061354</td>\n",
       "      <td>...</td>\n",
       "      <td>0.140611</td>\n",
       "      <td>0.000044</td>\n",
       "      <td>0.039676</td>\n",
       "      <td>0.080761</td>\n",
       "      <td>1.364648</td>\n",
       "      <td>0.227602</td>\n",
       "      <td>0.013008</td>\n",
       "      <td>0.0</td>\n",
       "      <td>0.109475</td>\n",
       "      <td>0.003194</td>\n",
       "    </tr>\n",
       "    <tr>\n",
       "      <th>11096</th>\n",
       "      <td>100000</td>\n",
       "      <td>-0.05</td>\n",
       "      <td>0.516782</td>\n",
       "      <td>0.000177</td>\n",
       "      <td>0.258479</td>\n",
       "      <td>0.118539</td>\n",
       "      <td>0.162355</td>\n",
       "      <td>0.140447</td>\n",
       "      <td>0.023600</td>\n",
       "      <td>0.031029</td>\n",
       "      <td>...</td>\n",
       "      <td>0.128199</td>\n",
       "      <td>0.000018</td>\n",
       "      <td>0.032712</td>\n",
       "      <td>0.065415</td>\n",
       "      <td>5.571369</td>\n",
       "      <td>0.361184</td>\n",
       "      <td>0.005999</td>\n",
       "      <td>0.0</td>\n",
       "      <td>0.052107</td>\n",
       "      <td>0.001164</td>\n",
       "    </tr>\n",
       "    <tr>\n",
       "      <th>11097</th>\n",
       "      <td>100000</td>\n",
       "      <td>0.00</td>\n",
       "      <td>1.859613</td>\n",
       "      <td>0.000037</td>\n",
       "      <td>0.929825</td>\n",
       "      <td>0.069311</td>\n",
       "      <td>0.096178</td>\n",
       "      <td>0.082744</td>\n",
       "      <td>0.013404</td>\n",
       "      <td>0.018326</td>\n",
       "      <td>...</td>\n",
       "      <td>0.094953</td>\n",
       "      <td>0.000010</td>\n",
       "      <td>0.017725</td>\n",
       "      <td>0.035583</td>\n",
       "      <td>10.012309</td>\n",
       "      <td>1.215612</td>\n",
       "      <td>0.001879</td>\n",
       "      <td>0.0</td>\n",
       "      <td>0.020961</td>\n",
       "      <td>0.000377</td>\n",
       "    </tr>\n",
       "  </tbody>\n",
       "</table>\n",
       "<p>11098 rows × 30 columns</p>\n",
       "</div>"
      ],
      "text/plain": [
       "          mDM  Log[10,x]        eL        eR         e    \\[Mu]L    \\[Mu]R  \\\n",
       "0           5      -8.90  0.000000  0.000000  0.000000  0.000000  0.000000   \n",
       "1           5      -8.85  0.000000  0.000000  0.000000  0.000000  0.000000   \n",
       "2           5      -8.80  0.000000  0.000000  0.000000  0.000000  0.000000   \n",
       "3           5      -8.75  0.000000  0.000000  0.000000  0.000000  0.000000   \n",
       "4           5      -8.70  0.000000  0.000000  0.000000  0.000000  0.000000   \n",
       "...       ...        ...       ...       ...       ...       ...       ...   \n",
       "11093  100000      -0.20  0.144074  0.000692  0.072383  0.524696  0.715321   \n",
       "11094  100000      -0.15  0.185505  0.000531  0.093018  0.382060  0.521692   \n",
       "11095  100000      -0.10  0.270209  0.000359  0.135284  0.233641  0.319224   \n",
       "11096  100000      -0.05  0.516782  0.000177  0.258479  0.118539  0.162355   \n",
       "11097  100000       0.00  1.859613  0.000037  0.929825  0.069311  0.096178   \n",
       "\n",
       "          \\[Mu]   \\[Tau]L   \\[Tau]R  ...         Z         g  \\[Gamma]  \\\n",
       "0      0.000000  0.000000  0.000000  ...  0.000000  0.000000  0.000000   \n",
       "1      0.000000  0.000000  0.000000  ...  0.000000  0.000000  0.000000   \n",
       "2      0.000000  0.000000  0.000000  ...  0.000000  0.000000  0.000000   \n",
       "3      0.000000  0.000000  0.000000  ...  0.000000  0.000000  0.000000   \n",
       "4      0.000000  0.000000  0.000000  ...  0.000000  0.000000  0.000000   \n",
       "...         ...       ...       ...  ...       ...       ...       ...   \n",
       "11093  0.620008  0.110050  0.145143  ...  0.145251  0.000286  0.044073   \n",
       "11094  0.451876  0.077593  0.102191  ...  0.142884  0.000113  0.042088   \n",
       "11095  0.276432  0.046798  0.061354  ...  0.140611  0.000044  0.039676   \n",
       "11096  0.140447  0.023600  0.031029  ...  0.128199  0.000018  0.032712   \n",
       "11097  0.082744  0.013404  0.018326  ...  0.094953  0.000010  0.017725   \n",
       "\n",
       "              h     \\[Nu]e  \\[Nu]\\[Mu]  \\[Nu]\\[Tau]  V->e  V->\\[Mu]  V->\\[Tau]  \n",
       "0      0.000000   0.000000    0.000000     0.000000   0.0  0.000000   0.000000  \n",
       "1      0.000000   0.000000    0.000000     0.000000   0.0  0.000000   0.000000  \n",
       "2      0.000000   0.000000    0.000000     0.000000   0.0  0.000000   0.000000  \n",
       "3      0.000000   0.000000    0.000000     0.000000   0.0  0.000000   0.000000  \n",
       "4      0.000000   0.000000    0.000000     0.000000   0.0  0.000000   0.000000  \n",
       "...         ...        ...         ...          ...   ...       ...        ...  \n",
       "11093  0.095100   0.102653    0.225569     0.032903   0.0  0.326558   0.017237  \n",
       "11094  0.087957   0.223359    0.208894     0.022130   0.0  0.199903   0.007814  \n",
       "11095  0.080761   1.364648    0.227602     0.013008   0.0  0.109475   0.003194  \n",
       "11096  0.065415   5.571369    0.361184     0.005999   0.0  0.052107   0.001164  \n",
       "11097  0.035583  10.012309    1.215612     0.001879   0.0  0.020961   0.000377  \n",
       "\n",
       "[11098 rows x 30 columns]"
      ]
     },
     "execution_count": 37,
     "metadata": {},
     "output_type": "execute_result"
    }
   ],
   "source": [
    "nu_e"
   ]
  },
  {
   "cell_type": "code",
   "execution_count": 38,
   "metadata": {},
   "outputs": [],
   "source": [
    "m_5 = nu_e[nu_e['mDM'] == 5]"
   ]
  },
  {
   "cell_type": "code",
   "execution_count": 39,
   "metadata": {},
   "outputs": [
    {
     "data": {
      "image/png": "[encoded data removed]",
      "text/plain": [
       "<Figure size 432x432 with 1 Axes>"
      ]
     },
     "metadata": {
      "needs_background": "light"
     },
     "output_type": "display_data"
    },
    {
     "data": {
      "image/png": "[encoded data removed]",
      "text/plain": [
       "<Figure size 432x432 with 1 Axes>"
      ]
     },
     "metadata": {
      "needs_background": "light"
     },
     "output_type": "display_data"
    },
    {
     "data": {
      "image/png": "[encoded data removed]",
      "text/plain": [
       "<Figure size 432x432 with 1 Axes>"
      ]
     },
     "metadata": {
      "needs_background": "light"
     },
     "output_type": "display_data"
    },
    {
     "data": {
      "image/png": "[encoded data removed]",
      "text/plain": [
       "<Figure size 432x432 with 1 Axes>"
      ]
     },
     "metadata": {
      "needs_background": "light"
     },
     "output_type": "display_data"
    }
   ],
   "source": [
    "for i,m in enumerate(m_grid):\n",
    "    e_grid = m * 10**nu_e[nu_e['mDM'] == m]['Log[10,x]']\n",
    "    dNdlogE = nu_e[nu_e['mDM'] == m]['W']\n",
    "    figure, ax1 = plt.subplots(1, 1, figsize=(std_size,std_size), sharex=True) \n",
    "    ax1.set_title('Mass DM = %.1e' % (m))\n",
    "    ax1.step(np.log10(e_grid), dNdlogE / e_grid)\n",
    "\n",
    "    ax1.set_yscale(\"log\")\n",
    "    # ax1.set_xscale(\"log\")\n",
    "    ax1.set_xlabel(r'$\\log_{10}$ $($ $E$ / $\\textrm{GeV}$ $)$ ', fontsize=fontsize)\n",
    "    ax1.set_ylabel(r'$ dN/dE$', fontsize=fontsize)\n",
    "    ax1.tick_params(axis = 'both', which = 'major', labelsize=fontsize, direction='in')\n",
    "    ax1.tick_params(axis = 'both', which = 'minor', labelsize=fontsize, direction='in')\n",
    "    ax1.set_xlim(2, 3)\n",
    "    #ax1.set_ylim(1e-10,1e-5)\n",
    "    h, l = ax1.get_legend_handles_labels()\n",
    "    lgd1 = ax1.legend(h, l, loc=7, bbox_to_anchor=(0.95, +1.1),\n",
    "                     ncol=2, fontsize=fontsize, handlelength=h_length,\n",
    "                     fancybox=True, frameon=False)\n",
    "    ax1.add_artist(lgd1)\n",
    "\n",
    "    # ---------------------------------------------\n",
    "    # Showing the image\n",
    "    plt.show()\n",
    "    #figure.savefig(PICS + \"Final_flux\"+\".png\",\n",
    "    #               bbox_inches='tight', dpi=export_dpi, facecolor='white')\n"
   ]
  },
  {
   "cell_type": "code",
   "execution_count": 40,
   "metadata": {},
   "outputs": [
    {
     "name": "stderr",
     "output_type": "stream",
     "text": [
      "/home/kruteesh/Desktop/DM_nu_simulation_P-One/PONE_git/pone_work/pone_dm/dm2nu.py:355: RuntimeWarning: overflow encountered in multiply\n",
      "  return A * aa * dd\n",
      "/home/kruteesh/Desktop/DM_nu_simulation_P-One/PONE_git/pone_work/pone_dm/dm2nu.py:354: RuntimeWarning: overflow encountered in exp\n",
      "  dd = np.exp(d_2 / s_in(x)**2)\n"
     ]
    }
   ],
   "source": [
    "nu_e = pd.read_csv(open('../data/Li_project/nu_e.dat', 'rb'), delim_whitespace=True)\n",
    "phi_nue = []\n",
    "phi_dm2nu = []\n",
    "phi_burkert = []\n",
    "for i,m in enumerate(m_grid):\n",
    "    e_grid = m * 10**nu_e[nu_e['mDM'] == m]['Log[10,x]']\n",
    "    dNdlogE = nu_e[nu_e['mDM'] == m]['b']\n",
    "    dNdlogE_mc = UnivariateSpline(e_grid, dNdlogE, k=1, s=0)(e_grid_mceq)\n",
    "    phi_nue.append((dm2nu._dphi_dE_g_ch(5.62e-23, 2, m, e_grid, 2.3*1e23)) * np.array(dNdlogE) / np.array(e_grid))\n",
    "    phi_dm2nu.append((dm2nu.dphide_channel(e_grid_mceq, m, 5.62e-23)))\n",
    "    phi_burkert.append((dm2nu._dphi_de_c_burkert(e_grid_mceq, m, 5.62e-23)))"
   ]
  },
  {
   "cell_type": "code",
   "execution_count": 41,
   "metadata": {},
   "outputs": [
    {
     "data": {
      "image/png": "[encoded data removed]",
      "text/plain": [
       "<Figure size 432x432 with 1 Axes>"
      ]
     },
     "metadata": {
      "needs_background": "light"
     },
     "output_type": "display_data"
    },
    {
     "data": {
      "image/png": "[encoded data removed]",
      "text/plain": [
       "<Figure size 432x432 with 1 Axes>"
      ]
     },
     "metadata": {
      "needs_background": "light"
     },
     "output_type": "display_data"
    },
    {
     "data": {
      "image/png": "[encoded data removed]",
      "text/plain": [
       "<Figure size 432x432 with 1 Axes>"
      ]
     },
     "metadata": {
      "needs_background": "light"
     },
     "output_type": "display_data"
    },
    {
     "data": {
      "image/png": "[encoded data removed]",
      "text/plain": [
       "<Figure size 432x432 with 1 Axes>"
      ]
     },
     "metadata": {
      "needs_background": "light"
     },
     "output_type": "display_data"
    }
   ],
   "source": [
    "for i,m in enumerate(m_grid):\n",
    "    e_grid = m * 10**nu_e[nu_e['mDM'] == m]['Log[10,x]']\n",
    "    dNdE = nu_e[nu_e['mDM'] == m]['b']\n",
    "    figure, ax1 = plt.subplots(1, 1, figsize=(std_size,std_size), sharex=True) \n",
    "    ax1.set_title('Mass DM = %.1e' % (m))\n",
    "    ax1.step( np.log10(e_grid), (phi_nue[i]) * e_grid**2, label=r\"g\")\n",
    "    # ax1.step( np.log10(e_grid_mceq), abs(phi_dm2nu[i]) * e_grid_mceq**2, label=r'ex g')\n",
    "    ax1.step(np.log10(e_grid_mceq), (phi_burkert[i]/m) * e_grid_mceq**2, \"-.\", label=r'ex g burkert')\n",
    "    ax1.step(np.log10(e_grid_mceq) , shower_po * e_grid_mceq**2, label=r'P-ONE')\n",
    "    ax1.set_yscale(\"log\")\n",
    "    # ax1.set_xscale(\"log\")\n",
    "    ax1.set_xlabel(r'$\\log_{10}$ $($ $E$ / $m$ $)$ ', fontsize=fontsize)\n",
    "    ax1.set_ylabel(r'$E^2$ $d\\phi / dE $', fontsize=fontsize)\n",
    "    ax1.tick_params(axis = 'both', which = 'major', labelsize=fontsize, direction='in')\n",
    "    ax1.tick_params(axis = 'both', which = 'minor', labelsize=fontsize, direction='in')\n",
    "    #ax1.set_xlim(1, 7)\n",
    "    ax1.set_ylim(1e-10,1e-5)\n",
    "    h, l = ax1.get_legend_handles_labels()\n",
    "    lgd1 = ax1.legend(h, l, loc=7, bbox_to_anchor=(0.95, +1.1),\n",
    "                     ncol=3, fontsize=fontsize, handlelength=h_length,\n",
    "                     fancybox=True, frameon=False)\n",
    "    ax1.add_artist(lgd1)\n",
    "\n",
    "    # ---------------------------------------------\n",
    "    # Showing the image\n",
    "    plt.show()\n",
    "    #figure.savefig(PICS + \"Final_flux\"+\".png\",\n",
    "    #               bbox_inches='tight', dpi=export_dpi, facecolor='white')"
   ]
  },
  {
   "cell_type": "code",
   "execution_count": 42,
   "metadata": {},
   "outputs": [
    {
     "data": {
      "text/plain": [
       "array([3.02903442e-10, 3.12251117e-10, 3.22872732e-10, 3.33557223e-10,\n",
       "       3.43499630e-10, 3.52294760e-10, 3.59693513e-10, 3.65294834e-10,\n",
       "       3.68893100e-10, 3.70395431e-10, 3.69847238e-10, 3.67205924e-10,\n",
       "       3.62494945e-10, 3.55944161e-10, 3.47371831e-10, 3.37465705e-10,\n",
       "       3.26310454e-10, 3.14088658e-10, 3.01075576e-10, 2.87626279e-10,\n",
       "       2.73609776e-10, 2.59633617e-10, 2.45839382e-10, 2.32327403e-10,\n",
       "       2.19213755e-10, 2.06669158e-10, 1.94659272e-10, 1.83208129e-10,\n",
       "       1.72433394e-10, 1.62341197e-10, 1.52909169e-10, 1.44146195e-10,\n",
       "       1.36035443e-10, 1.28571814e-10, 1.21710384e-10, 1.15391829e-10,\n",
       "       1.09569087e-10, 1.04226450e-10, 9.93591369e-11, 9.48723210e-11,\n",
       "       9.07139392e-11, 8.68506242e-11, 8.32557965e-11, 7.99004966e-11,\n",
       "       7.67387635e-11, 7.37382903e-11, 7.08715175e-11, 6.81150734e-11,\n",
       "       6.54473094e-11, 6.28463380e-11, 6.02891124e-11, 5.77665555e-11,\n",
       "       5.52777742e-11, 5.28179687e-11, 5.03846705e-11, 4.79824220e-11,\n",
       "       4.55871600e-11, 4.32201471e-11, 4.08865355e-11, 3.85920809e-11,\n",
       "       3.63430368e-11, 3.41460081e-11, 3.19852684e-11, 2.98916903e-11,\n",
       "       2.78698489e-11, 2.59231029e-11, 2.40550421e-11, 2.22703649e-11,\n",
       "       2.05614712e-11, 1.89431184e-11, 1.74146174e-11, 1.59758334e-11,\n",
       "       1.46260045e-11, 1.33630545e-11, 1.21801263e-11, 1.10813025e-11,\n",
       "       1.00637279e-11, 9.12354609e-12, 8.25671267e-12, 7.45948103e-12,\n",
       "       6.72365366e-12, 6.05083175e-12, 5.43665991e-12, 4.87707517e-12,\n",
       "       4.36820472e-12, 3.90631022e-12, 3.48629210e-12, 3.10688379e-12,\n",
       "       2.76465307e-12, 2.45658336e-12, 2.17975432e-12, 1.93119609e-12,\n",
       "       1.70794132e-12, 1.50836452e-12, 1.33027481e-12, 1.17157984e-12,\n",
       "       1.03035424e-12, 9.04867467e-13, 7.93257427e-13, 6.94474071e-13,\n",
       "       6.07129720e-13, 5.30030265e-13, 4.62097210e-13, 4.02327027e-13,\n",
       "       3.49722847e-13, 3.03591623e-13, 2.63178599e-13, 2.27838268e-13,\n",
       "       1.96983468e-13, 1.70062293e-13, 1.46575649e-13, 1.26159480e-13,\n",
       "       1.08440106e-13, 9.30869957e-14, 7.98031158e-14, 6.83198740e-14,\n",
       "       5.83892290e-14, 4.98387296e-14, 4.24843896e-14, 3.61663431e-14,\n",
       "       3.07453980e-14, 2.61002317e-14, 2.21198179e-14, 1.87223875e-14,\n",
       "       1.58238897e-14, 1.33539876e-14, 1.12521779e-14, 9.46556070e-15,\n",
       "       7.94689467e-15, 6.65882166e-15, 5.56841449e-15, 4.64690229e-15,\n",
       "       3.86933703e-15, 3.21421670e-15, 2.66009245e-15, 2.19554731e-15,\n",
       "       1.80644463e-15, 1.48102081e-15, 1.20949408e-15, 9.83697646e-16,\n",
       "       7.96136530e-16, 6.41337386e-16, 5.14157375e-16, 4.10171469e-16,\n",
       "       3.25535028e-16, 2.56915852e-16, 2.01265127e-16, 1.56803333e-16,\n",
       "       1.21428821e-16, 9.34145752e-17, 7.13922636e-17, 5.42765241e-17,\n",
       "       4.09957904e-17, 3.08313160e-17, 2.31178458e-17, 1.73003956e-17,\n",
       "       1.29336752e-17, 9.66888734e-18, 7.24627374e-18, 5.44478856e-18,\n",
       "       4.10178057e-18, 3.09766720e-18, 2.34382873e-18, 1.77454105e-18,\n",
       "       1.34053372e-18, 1.00715924e-18, 7.49215033e-19, 5.50146047e-19,\n",
       "       3.97158648e-19, 2.79800897e-19, 1.90897732e-19, 1.26626570e-19,\n",
       "       8.18927252e-20, 5.22411214e-20, 3.27707480e-20, 2.01622708e-20,\n",
       "       1.15617795e-20, 5.10894359e-21, 1.21205534e-21])"
      ]
     },
     "execution_count": 42,
     "metadata": {},
     "output_type": "execute_result"
    }
   ],
   "source": [
    "(phi_nue[3])"
   ]
  },
  {
   "cell_type": "code",
   "execution_count": 43,
   "metadata": {},
   "outputs": [],
   "source": [
    "config['general']['detector'] = 'POne'\n",
    "config['general']['pone type'] = 'old'\n",
    "config['general']['density'] = 'Burkert'  # 'NFW'\n",
    "config['general'][\"channel\"] = \"W\" \n",
    "config['pone']['smearing'] = 'unsmeared'\n",
    "\n",
    "config['pone']['low E sigma'] = {'numu': 0.45,\n",
    "                                 'nue': 0.45,\n",
    "                                 'nutau': 0.45}\n",
    "config['pone']['high E sigma'] = {'numu': 0.25,\n",
    "                                 'nue': 0.12,\n",
    "                                 'nutau': 0.12}\n"
   ]
  },
  {
   "cell_type": "code",
   "execution_count": 44,
   "metadata": {},
   "outputs": [
    {
     "name": "stdout",
     "output_type": "stream",
     "text": [
      "POne\n",
      "pone background\n",
      "Starting Calculation\n",
      "False\n",
      "Finished Calculating Background\n"
     ]
    },
    {
     "name": "stderr",
     "output_type": "stream",
     "text": [
      "100%|██████████| 1/1 [00:00<00:00, 18.32it/s]\n"
     ]
    }
   ],
   "source": [
    "pdm = PDM()"
   ]
  },
  {
   "cell_type": "code",
   "execution_count": 45,
   "metadata": {},
   "outputs": [],
   "source": [
    "mass_grid = config[\"simulation parameters\"][\"mass grid\"]\n",
    "sv_grid = config[\"simulation parameters\"][\"sv grid\"]"
   ]
  },
  {
   "cell_type": "code",
   "execution_count": 46,
   "metadata": {},
   "outputs": [
    {
     "data": {
      "text/plain": [
       "[5,\n",
       " 6,\n",
       " 8,\n",
       " 10,\n",
       " 15,\n",
       " 20,\n",
       " 25,\n",
       " 30,\n",
       " 40,\n",
       " 50,\n",
       " 60,\n",
       " 70,\n",
       " 80,\n",
       " 90,\n",
       " 100,\n",
       " 110,\n",
       " 120,\n",
       " 130,\n",
       " 140,\n",
       " 150,\n",
       " 160,\n",
       " 180,\n",
       " 200,\n",
       " 220,\n",
       " 240,\n",
       " 260,\n",
       " 280,\n",
       " 300,\n",
       " 330,\n",
       " 360,\n",
       " 400,\n",
       " 450,\n",
       " 500,\n",
       " 550,\n",
       " 600,\n",
       " 650,\n",
       " 700,\n",
       " 750,\n",
       " 800,\n",
       " 900,\n",
       " 1000,\n",
       " 1100,\n",
       " 1200,\n",
       " 1300,\n",
       " 1500,\n",
       " 1700,\n",
       " 2000,\n",
       " 2500,\n",
       " 3000,\n",
       " 4000,\n",
       " 5000,\n",
       " 6000,\n",
       " 7000,\n",
       " 8000,\n",
       " 9000,\n",
       " 10000,\n",
       " 12000,\n",
       " 15000,\n",
       " 20000,\n",
       " 30000,\n",
       " 50000,\n",
       " 100000]"
      ]
     },
     "execution_count": 46,
     "metadata": {},
     "output_type": "execute_result"
    }
   ],
   "source": [
    "mass_grid"
   ]
  },
  {
   "cell_type": "code",
   "execution_count": 54,
   "metadata": {},
   "outputs": [
    {
     "data": {
      "text/plain": [
       "(4, 62)"
      ]
     },
     "execution_count": 54,
     "metadata": {},
     "output_type": "execute_result"
    }
   ],
   "source": [
    "pdm.results['numu'].shape"
   ]
  },
  {
   "cell_type": "code",
   "execution_count": 48,
   "metadata": {},
   "outputs": [],
   "source": [
    "# Loading comparison data\n",
    "th_cl = np.loadtxt(open(\"../data/thermal_relic.csv\"), delimiter = \",\")\n",
    "unitarity = np.loadtxt(open('../data/Unitarity_bound.csv'), delimiter = ',')\n",
    "cl_lit = np.loadtxt('../data/CL_PONE.csv', delimiter=\",\")\n",
    "cl_lit = (cl_lit[cl_lit[:, 0].argsort()])\n",
    "unitarity = (unitarity[unitarity[:, 0].argsort()])\n",
    "\n",
    "#limits_ice = pickle.load(open('/home/kruteesh/Desktop/dm_data_server/28_03_desk/data/limits_results_IceCube.pkl','rb'))\n",
    "limits_pone_unsm = pickle.load(open(\"../data/nfw_unsmea_limits.pkl\",\"rb\"))\n",
    "#limits_com = pickle.load(open(\"/home/kruteesh/Desktop/dm_data_server/14_03/data/limits_results.pkl\", \"rb\"))\n",
    "#limits_pone_unsm = pickle.load(open(\"../data/28_03_02/unsmeared/limits_results_POne_unsm.pkl\",\"rb\"))\n",
    "\n",
    "limits_pone_45_25= pickle.load(open(\"../data/14_04/smeared/45_25/limits_results_POne_sm_NFW.pkl\",\"rb\"))\n",
    "\n",
    "limits_pone_35_15= pickle.load(open(\"../data/14_04/smeared/35_15/limits_results_POne_sm.pkl\",\"rb\"))\n",
    "\n",
    "limits_pone_25_10= pickle.load(open(\"../data/14_04/smeared/25_10/limits_results_POne_sm.pkl\",\"rb\"))\n",
    "\n",
    "limits_pone_15_009= pickle.load(open(\"../data/14_04/smeared/15_009/limits_results_POne_sm.pkl\",\"rb\"))\n",
    "\n",
    "\n",
    "cl_lit_ice = np.loadtxt('../data/IceCube_HE.csv', delimiter=\",\")\n",
    "cl_lit_ice = (cl_lit_ice[cl_lit_ice[:, 0].argsort()])\n",
    "xx,yy = np.meshgrid(np.log10( np.logspace(1, 6, 20)),np.log10( np.logspace(1, 6, 20)))"
   ]
  },
  {
   "cell_type": "code",
   "execution_count": 49,
   "metadata": {},
   "outputs": [
    {
     "data": {
      "text/plain": [
       "(5, 100000)"
      ]
     },
     "execution_count": 49,
     "metadata": {},
     "output_type": "execute_result"
    }
   ],
   "source": [
    "min((mass_grid)), max((mass_grid))"
   ]
  },
  {
   "cell_type": "markdown",
   "metadata": {},
   "source": [
    "With Smearing"
   ]
  },
  {
   "cell_type": "code",
   "execution_count": 53,
   "metadata": {},
   "outputs": [
    {
     "data": {
      "image/png": "[encoded data removed]",
      "text/plain": [
       "<Figure size 432x432 with 1 Axes>"
      ]
     },
     "metadata": {
      "needs_background": "light"
     },
     "output_type": "display_data"
    }
   ],
   "source": [
    "color = ['black', 'orange', 'purple']\n",
    "color_sm = ['red', 'black', 'purple']\n",
    "color_pa = ['']\n",
    "color_pa = ['']\n",
    "color_pa = ['']\n",
    "color_pa = ['']\n",
    "\n",
    "ll = ['-','--', '-.', 'dotted']\n",
    " # std_size, std_size * 6. / 8.),\n",
    "for j,i in enumerate(config[\"pone\"][\"specific particle scaling\"].keys()):\n",
    "    # Limits\n",
    "    # ---------------------------------------------\n",
    "    # Setup\n",
    "\n",
    "    figure, (ax1) = plt.subplots(1, 1, figsize=(std_size,std_size), sharex=True) \n",
    "    # ---------------------------------------------\n",
    "    # Plotting\n",
    "    ax1.set_title(r'$\\textrm{P}$-$\\textrm{ONE Limits Results with Energy Reconstruction}$',fontsize=fontsize)  # +' Scaling Correction = '+str(config['advanced']['scaling correction'])\n",
    "    \n",
    "    ax1.contour(pdm.results[i], levels = [0.9], colors=color_sm[j],  linestyles='-',\n",
    "               origin='lower', extent=(min(np.log10(sv_grid)), max(np.log10(sv_grid)),\n",
    "                                       min(np.log10(mass_grid)), max(np.log10(mass_grid))))\n",
    "    \n",
    "    # ax1.contour(limits_pone_unsm[i], levels = [0.9], colors=color_pone,  linestyles=ll[0],\n",
    "    #              origin='lower', extent=(min(np.log10(mass_grid)), max(np.log10(mass_grid)),\n",
    "    #                                      min(np.log10(sv_grid)), max(np.log10(sv_grid))))\n",
    "# \n",
    "    # ax1.contour(limits_pone_45_25[i], levels = [0.9], colors=color_pone,  linestyles=ll[0],\n",
    "    #             origin='lower', extent=(min(np.log10(mass_grid)), max(np.log10(mass_grid)),\n",
    "    #                                     min(np.log10(sv_grid)), max(np.log10(sv_grid))))\n",
    "    #ax1.contour(limits_pone_35_15[i], levels = [0.9], colors=color_sm[j],  linestyles=ll[1],\n",
    "    #             origin='lower', extent=(min(np.log10(mass_grid)), max(np.log10(mass_grid)),\n",
    "    #                                     min(np.log10(sv_grid)), max(np.log10(sv_grid))))\n",
    "    # ax1.contour(limits_pone_25_10[i], levels = [0.9], colors=color_sm[j],  linestyles=ll[2],\n",
    "    #             origin='lower', extent=(min(np.log10(mass_grid)), max(np.log10(mass_grid)),\n",
    "    #                                     min(np.log10(sv_grid)), max(np.log10(sv_grid))))\n",
    "    # ax1.contour(limits_pone_15_009[i], levels = [0.9], colors=color_sm[j],  linestyles=ll[3],\n",
    "    #             origin='lower', extent=(min(np.log10(mass_grid)), max(np.log10(mass_grid)),\n",
    "    #                                     min(np.log10(sv_grid)), max(np.log10(sv_grid))))\n",
    "\n",
    "    #break\n",
    "    #ax1.contour(limits_ice[\"numu\"], levels=[0.9], colors='yellow',origin='lower',linestyles='-',\n",
    "    #                            extent=(min(np.log10(mass_grid)), max(np.log10(mass_grid)),\n",
    "    #                                    min(np.log10(sv_grid)), max(np.log10(sv_grid))))#\n",
    "    #ax1.contour(limits_pone_unsm[\"numu\"], levels=[0.9], colors='green',origin='lower',linestyles='-.',\n",
    "    #                            extent=(min(np.log10(mass_grid)), max(np.log10(mass_grid)),\n",
    "    #                                    min(np.log10(sv_grid)), max(np.log10(sv_grid))))\n",
    "    \n",
    "    #ax1.plot(np.log10(cl_lit[:, 0]), np.log10(cl_lit[:, 1]), 'g', label='literature P-ONE')\n",
    "    \n",
    "    #ax1.plot(np.log10(cl_lit_ice[:, 0]), np.log10(cl_lit_ice[:, 1]),'m',label='literature  IceCube')\n",
    "    ax1.plot(np.log10(th_cl[:, 0]), np.log10(th_cl[:, 1]), 'b', \n",
    "             label='Thermal Relic Abundance')\n",
    "    #ax1.plot(np.log10(unitarity[:, 0]), np.log10(unitarity[:, 1]), '.k', \n",
    "    #         label='Unitarity Bound')\n",
    "    # ---------------------------------------------\n",
    "    # Axis options\n",
    "    ax1.set_xscale(\"linear\")\n",
    "    ax1.set_yscale(\"linear\")\n",
    "    ax1.set_xlabel(r\"$\\log_{10}$ $m_{\\chi}$[\\textrm{GeV}]\", fontsize=fontsize)\n",
    "    ax1.set_ylabel(r\"$\\log_{10}$ $<\\sigma \\nu>$[$cm^{3} s^{-1}$]\", fontsize=fontsize)\n",
    "    ax1.tick_params(axis = 'both', which = 'major', labelsize=fontsize)\n",
    "    ax1.tick_params(axis = 'both', which = 'minor', labelsize=fontsize)\n",
    "    ax1.set_xlim(2.8, max(np.log10(mass_grid)))\n",
    "    ax1.set_ylim(min(np.log10(sv_grid)), -21)  # \n",
    "    #ax1.text(3.5, -23.7, \"IceCube Simulation\", fontsize=fontsize)\n",
    "\n",
    "    #ax1.text(3.2, -24.8, r\"P-ONE $\\nu_\\mu$\", fontsize=fontsize)\n",
    "    #ax1.text(3.2, -24.9, r\" $\\nu_e$\", fontsize=fontsize)\n",
    "    #ax1.text(3.1, -25.3, r\" $\\nu_\\tau$\", fontsize=fontsize)\n",
    "\n",
    "    # ---------------------------------------------\n",
    "    # Legend\n",
    "    # plt.legend(fontsize=fontsize)\n",
    "    h, l = ax1.get_legend_handles_labels()\n",
    "    lgd1 = ax1.legend(h, l, loc=7, bbox_to_anchor=(0.95, +0.9),\n",
    "                     ncol=2, fontsize=fontsize, handlelength=h_length,\n",
    "                     fancybox=True, frameon=False)\n",
    "    ax1.add_artist(lgd1)\n",
    "    legend_elements = [Line2D([0], [0], color=color_sm[j], lw=1.3),\n",
    "                   #Line2D([0], [0], linestyle='--', color=color_sm[j],  lw=1),\n",
    "                   Line2D([0], [0], color=color_pone, lw=1.3)\n",
    "                   #Line2D([0], [0], linestyle='-.', color=color_sm[j],  lw=1.3),\n",
    "                   #Line2D([0], [0], linestyle=':',  color=color_sm[j], lw=1),\n",
    "                   #Line2D([0], [0], color=color_sm[j], linestyle='dotted', lw=2),\n",
    "                  ]\n",
    "    labels = [r'$\\textrm{W boson channel}$',\n",
    "           #r'$\\textrm{NFW}$, $\\mu$ = [$0.35, 0.15$]',\n",
    "           r'$\\textrm{All channel}$',\n",
    "           #r'0.15, 0.09'\n",
    "           ]\n",
    "    lgd2 = ax1.legend(legend_elements, labels, loc=7, bbox_to_anchor=(0.765, +0.799),\n",
    "                     ncol=1, fontsize=fontsize, handlelength=h_length,\n",
    "                     fancybox=True, frameon=False)\n",
    "    ax1.add_artist(lgd2)\n",
    "    # #h, _ = ax1.get_legend_handles_labels([legend_elements])\n",
    "    #lgd2= ax1.legend(h, labels, loc=7, bbox_to_anchor=(1, 0.8),\n",
    "    #                 ncol=1, fontsize=fontsize, handlelength=h_length,\n",
    "    #                 fancybox=True, frameon=False)\n",
    "    #ax1.add_artist(lgd2)\n",
    "\n",
    "    # ---------------------------------------------\n",
    "    # Showing the image\n",
    "    plt.show()\n",
    "    # ---------------------------------------------\n",
    "    # Storing the image\n",
    "    figure.savefig(PICS + \"Limits_Example_all_%s.png\" %(i),\n",
    "               bbox_inches='tight', dpi=export_dpi,  facecolor='white')\n",
    "    break"
   ]
  },
  {
   "cell_type": "markdown",
   "metadata": {},
   "source": [
    "Without Smearing"
   ]
  },
  {
   "cell_type": "code",
   "execution_count": 51,
   "metadata": {},
   "outputs": [
    {
     "data": {
      "image/png": "[encoded data removed]",
      "text/plain": [
       "<Figure size 432x432 with 1 Axes>"
      ]
     },
     "metadata": {
      "needs_background": "light"
     },
     "output_type": "display_data"
    }
   ],
   "source": [
    "color = ['black', 'orange', 'purple']\n",
    "color_sm = ['red', 'black', 'purple']\n",
    "color_pa = ['']\n",
    "color_pa = ['']\n",
    "color_pa = ['']\n",
    "color_pa = ['']\n",
    "\n",
    "ll = ['-','--', '-.', 'dotted']\n",
    " # std_size, std_size * 6. / 8.),\n",
    "for j,i in enumerate(config[\"pone\"][\"specific particle scaling\"].keys()):\n",
    "    # Limits\n",
    "    # ---------------------------------------------\n",
    "    # Setup\n",
    "\n",
    "    figure, (ax1) = plt.subplots(1, 1, figsize=(std_size,std_size), sharex=True) \n",
    "    # ---------------------------------------------\n",
    "    # Plotting\n",
    "    ax1.set_title(r'$\\textrm{P}-\\textrm{ONE Limits Results}$',fontsize=fontsize)  # +' Scaling Correction = '+str(config['advanced']['scaling correction'])\n",
    "    \n",
    "    ax1.contour(pdm.results[i], levels = [0.9], colors=color_sm[j],  linestyles='-',\n",
    "               origin='lower', extent=(min(np.log10(mass_grid)), max(np.log10(mass_grid)),\n",
    "                                       min(np.log10(sv_grid)), max(np.log10(sv_grid))))\n",
    "    \n",
    "    ax1.contour(limits_pone_unsm[i], levels = [0.9], colors=color_pone,  linestyles=ll[0],\n",
    "                 origin='lower', extent=(min(np.log10(mass_grid)), max(np.log10(mass_grid)),\n",
    "                                         min(np.log10(sv_grid)), max(np.log10(sv_grid))))\n",
    "# \n",
    "    # ax1.contour(limits_pone_45_25[i], levels = [0.9], colors=color_pone,  linestyles=ll[0],\n",
    "    #             origin='lower', extent=(min(np.log10(mass_grid)), max(np.log10(mass_grid)),\n",
    "    #                                     min(np.log10(sv_grid)), max(np.log10(sv_grid))))\n",
    "    #ax1.contour(limits_pone_35_15[i], levels = [0.9], colors=color_sm[j],  linestyles=ll[1],\n",
    "    #             origin='lower', extent=(min(np.log10(mass_grid)), max(np.log10(mass_grid)),\n",
    "    #                                     min(np.log10(sv_grid)), max(np.log10(sv_grid))))\n",
    "    # ax1.contour(limits_pone_25_10[i], levels = [0.9], colors=color_sm[j],  linestyles=ll[2],\n",
    "    #             origin='lower', extent=(min(np.log10(mass_grid)), max(np.log10(mass_grid)),\n",
    "    #                                     min(np.log10(sv_grid)), max(np.log10(sv_grid))))\n",
    "    # ax1.contour(limits_pone_15_009[i], levels = [0.9], colors=color_sm[j],  linestyles=ll[3],\n",
    "    #             origin='lower', extent=(min(np.log10(mass_grid)), max(np.log10(mass_grid)),\n",
    "    #                                     min(np.log10(sv_grid)), max(np.log10(sv_grid))))\n",
    "\n",
    "    #break\n",
    "    #ax1.contour(limits_ice[\"numu\"], levels=[0.9], colors='yellow',origin='lower',linestyles='-',\n",
    "    #                            extent=(min(np.log10(mass_grid)), max(np.log10(mass_grid)),\n",
    "    #                                    min(np.log10(sv_grid)), max(np.log10(sv_grid))))#\n",
    "    #ax1.contour(limits_pone_unsm[\"numu\"], levels=[0.9], colors='green',origin='lower',linestyles='-.',\n",
    "    #                            extent=(min(np.log10(mass_grid)), max(np.log10(mass_grid)),\n",
    "    #                                    min(np.log10(sv_grid)), max(np.log10(sv_grid))))\n",
    "    \n",
    "    #ax1.plot(np.log10(cl_lit[:, 0]), np.log10(cl_lit[:, 1]), 'g', label='literature P-ONE')\n",
    "    \n",
    "    #ax1.plot(np.log10(cl_lit_ice[:, 0]), np.log10(cl_lit_ice[:, 1]),'m',label='literature  IceCube')\n",
    "    ax1.plot(np.log10(th_cl[:, 0]), np.log10(th_cl[:, 1]), 'b', \n",
    "             label='Thermal Relic Abundance')\n",
    "    #ax1.plot(np.log10(unitarity[:, 0]), np.log10(unitarity[:, 1]), '.k', \n",
    "    #         label='Unitarity Bound')\n",
    "    # ---------------------------------------------\n",
    "    # Axis options\n",
    "    ax1.set_xscale(\"linear\")\n",
    "    ax1.set_yscale(\"linear\")\n",
    "    ax1.set_xlabel(r\"$\\log_{10}$ $m_{\\chi}$[\\textrm{GeV}]\", fontsize=fontsize)\n",
    "    ax1.set_ylabel(r\"$\\log_{10}$ $<\\sigma \\nu>$[$cm^{3} s^{-1}$]\", fontsize=fontsize)\n",
    "    ax1.tick_params(axis = 'both', which = 'major', labelsize=fontsize)\n",
    "    ax1.tick_params(axis = 'both', which = 'minor', labelsize=fontsize)\n",
    "    ax1.set_xlim(2.8, max(np.log10(mass_grid)))\n",
    "    ax1.set_ylim(min(np.log10(sv_grid)), -21)  # \n",
    "    #ax1.text(3.5, -23.7, \"IceCube Simulation\", fontsize=fontsize)\n",
    "\n",
    "    #ax1.text(3.2, -24.8, r\"P-ONE $\\nu_\\mu$\", fontsize=fontsize)\n",
    "    #ax1.text(3.2, -24.9, r\" $\\nu_e$\", fontsize=fontsize)\n",
    "    #ax1.text(3.1, -25.3, r\" $\\nu_\\tau$\", fontsize=fontsize)\n",
    "\n",
    "    # ---------------------------------------------\n",
    "    # Legend\n",
    "    # plt.legend(fontsize=fontsize)\n",
    "    h, l = ax1.get_legend_handles_labels()\n",
    "    lgd1 = ax1.legend(h, l, loc=7, bbox_to_anchor=(1.09, +1.09),\n",
    "                     ncol=2, fontsize=fontsize, handlelength=h_length,\n",
    "                     fancybox=True, frameon=False)\n",
    "    ax1.add_artist(lgd1)\n",
    "    legend_elements = [Line2D([0], [0], color=color_sm[j], lw=1),\n",
    "                   #Line2D([0], [0], linestyle='--', color=color_sm[j],  lw=1),\n",
    "                   Line2D([0], [0], color=color_pone, lw=1)\n",
    "                   #Line2D([0], [0], linestyle='-.', color=color_sm[j],  lw=1.3),\n",
    "                   #Line2D([0], [0], linestyle=':',  color=color_sm[j], lw=1),\n",
    "                   #Line2D([0], [0], color=color_sm[j], linestyle='dotted', lw=2),\n",
    "                  ]\n",
    "    labels = [r'$\\textrm{W channel}$',\n",
    "           #r'$\\textrm{NFW}$, $\\mu$ = [$0.35, 0.15$]',\n",
    "           r'$\\textrm{All channel}$',\n",
    "           #r'0.15, 0.09'\n",
    "           ]\n",
    "    lgd2 = ax1.legend(legend_elements, labels, loc=7, bbox_to_anchor=(0.95, +0.799),\n",
    "                     ncol=1, fontsize=fontsize, handlelength=h_length,\n",
    "                     fancybox=True, frameon=False)\n",
    "    ax1.add_artist(lgd2)\n",
    "    # #h, _ = ax1.get_legend_handles_labels([legend_elements])\n",
    "    #lgd2= ax1.legend(h, labels, loc=7, bbox_to_anchor=(1, 0.8),\n",
    "    #                 ncol=1, fontsize=fontsize, handlelength=h_length,\n",
    "    #                 fancybox=True, frameon=False)\n",
    "    #ax1.add_artist(lgd2)\n",
    "\n",
    "    # ---------------------------------------------\n",
    "    # Showing the image\n",
    "    plt.show()\n",
    "    # ---------------------------------------------\n",
    "    # Storing the image\n",
    "    figure.savefig(PICS + \"Limits_Example_all_%s.png\" %(i),\n",
    "               bbox_inches='tight', dpi=export_dpi,  facecolor='white')\n",
    "    break"
   ]
  },
  {
   "cell_type": "code",
   "execution_count": null,
   "metadata": {},
   "outputs": [],
   "source": []
  }
 ],
 "metadata": {
  "interpreter": {
   "hash": "82a3a656d33f35b7f3fe77a22343614a58c995dc979ba6da45d214804d59b344"
  },
  "kernelspec": {
   "display_name": "Python 3.9.11 ('pdm')",
   "language": "python",
   "name": "python3"
  },
  "language_info": {
   "codemirror_mode": {
    "name": "ipython",
    "version": 3
   },
   "file_extension": ".py",
   "mimetype": "text/x-python",
   "name": "python",
   "nbconvert_exporter": "python",
   "pygments_lexer": "ipython3",
   "version": "3.9.11"
  },
  "orig_nbformat": 4
 },
 "nbformat": 4,
 "nbformat_minor": 2
}
