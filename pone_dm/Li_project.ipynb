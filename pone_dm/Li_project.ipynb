{
 "cells": [
  {
   "cell_type": "code",
   "execution_count": 1,
   "metadata": {},
   "outputs": [],
   "source": [
    "# Li's Project\n",
    "# Adding the W-boson and b-quark channels to P-ONE"
   ]
  },
  {
   "cell_type": "code",
   "execution_count": 2,
   "metadata": {},
   "outputs": [],
   "source": [
    "# imports\n",
    "from constants import pdm_constants as const\n",
    "from config import config\n",
    "from pone_aeff import Aeff\n",
    "from dm2nu import DM2Nu\n",
    "from atm_shower import Atm_Shower\n",
    "from detectors import Detector\n",
    "import numpy as np\n",
    "import matplotlib.pyplot as plt\n",
    "from limit_calc import Limits\n",
    "from bkgrd_calc import Background\n",
    "from signal_calc import Signal\n",
    "from pdm import PDM\n",
    "from scipy.interpolate import UnivariateSpline\n",
    "from scipy.stats import chi2\n",
    "from scipy.stats import *\n",
    "from pone_aeff import Aeff\n",
    "import pickle\n",
    "import math\n",
    "import pandas as pd\n",
    "import csv\n",
    "from matplotlib.lines import Line2D\n",
    "from matplotlib import rc\n",
    "from scipy.integrate import quad\n",
    "def find_nearest(array: np.array, value: float):\n",
    "    \n",
    "    \"\"\" Returns: index of the nearest vlaue of an array to the given number\n",
    "    --------------\n",
    "    idx :  float\n",
    "    \"\"\"\n",
    "    array = np.array(array)\n",
    "    idx = (np.abs(array - value)).argmin()\n",
    "    return idx"
   ]
  },
  {
   "cell_type": "code",
   "execution_count": 3,
   "metadata": {},
   "outputs": [],
   "source": [
    "# picture path\n",
    "PICS = '../pics/'\n",
    "name=[r'$\\nu_{\\mu}$', r\"$\\nu_e$\", r\"$\\nu_{\\tau}$\"]  # ,r'$\\nu_{e}$',r'$\\nu_{\\tau}$'\n",
    "# Plotting standards\n",
    "std_size = 6.  # Size of the plot\n",
    "fontsize = 15.  # Fontsize in the plot\n",
    "lw=0.1  # Linewidth\n",
    "h_length=0.5  # Handle length for the legends\n",
    "export_dpi = 500  # Dpi for the image export\n",
    "color_pone='#7570b3'\n",
    "color_ice='#e7298a'\n",
    "color_combined='#33a02c'\n",
    "color_thermal='#1f78b4'\n",
    "color_unitary='k'\n",
    "color_4='#1b9e77'\n",
    "color_6='#d95f02'\n",
    "rc('font',**{'family':'sans-serif','sans-serif':['Helvetica']})\n",
    "rc('text', usetex=True)"
   ]
  },
  {
   "cell_type": "code",
   "execution_count": 4,
   "metadata": {},
   "outputs": [],
   "source": [
    "surface_fluxe = pickle.load(open(\"../data/\" +\n",
    "                                                   \"surf_store_v1.p\", \"rb\"))\n",
    "#projection_ice = pickle.load(open('../data/background_ice.pkl','rb'))\n",
    "projection_pone = pickle.load(open('../data/background_pone_unsm.pkl','rb'))\n",
    "shower_flux = pickle.load(open('../data/shower.p','rb'))\n",
    "shower_po = shower_flux[2][45]['numu']\n",
    "G_watson = np.loadtxt('../data/G_watson.csv', delimiter=\",\")\n",
    "G_watson = G_watson[G_watson[:, 0].argsort()]\n",
    "\n",
    "G_watson_l = np.loadtxt('../data/G_W_low.csv', delimiter=\",\")\n",
    "G_watson_l = G_watson_l[G_watson_l[:, 0].argsort()]"
   ]
  },
  {
   "cell_type": "code",
   "execution_count": 5,
   "metadata": {},
   "outputs": [],
   "source": [
    "e_grid_mceq = surface_fluxe[0][0]"
   ]
  },
  {
   "cell_type": "code",
   "execution_count": 6,
   "metadata": {},
   "outputs": [],
   "source": [
    "dm2nu = DM2Nu()"
   ]
  },
  {
   "cell_type": "code",
   "execution_count": 7,
   "metadata": {},
   "outputs": [],
   "source": [
    "z = np.linspace(0,7, 10)\n",
    "M = np.linspace(1e-3,1e15, 200)\n",
    "M_B_sh = np.logspace(-9, 15, 151)\n",
    "G_wat_spl = UnivariateSpline(G_watson[:,0], G_watson[:, 1], k=2, s=1)(z)"
   ]
  },
  {
   "cell_type": "code",
   "execution_count": 8,
   "metadata": {},
   "outputs": [],
   "source": [
    "array_B_sh = dm2nu.B_sh(0)[1]\n",
    "array_B_h = dm2nu.B_nfw(0)[1]\n",
    "c_nfw = dm2nu._c_nfw_peak_height(M_B_sh, 0)\n",
    "peak_height = dm2nu._peak_height(M_B_sh, 0)\n",
    "G = dm2nu._G_lopez(z)[1]"
   ]
  },
  {
   "cell_type": "code",
   "execution_count": 9,
   "metadata": {},
   "outputs": [
    {
     "data": {
      "text/plain": [
       "array([[[2.99037670e+01, 1.08514898e-01],\n",
       "        [1.71435155e+02, 1.34558222e-01],\n",
       "        [9.82819733e+02, 1.72060891e-01],\n",
       "        [5.63440228e+03, 2.25740720e-01],\n",
       "        [3.23014364e+04, 3.06947415e-01],\n",
       "        [1.71050471e+05, 4.19440111e-01],\n",
       "        [9.05788314e+05, 5.84667861e-01],\n",
       "        [5.77248425e+06, 8.83080474e-01],\n",
       "        [2.08919298e+07, 1.27874269e+00],\n",
       "        [4.36578097e+08, 2.21333540e+00],\n",
       "        [1.84626912e+09, 3.34429538e+00],\n",
       "        [7.70518039e+09, 4.60048989e+00],\n",
       "        [3.48130569e+10, 6.35983442e+00],\n",
       "        [1.70283691e+11, 8.69648450e+00],\n",
       "        [9.01727872e+11, 1.17672499e+01],\n",
       "        [5.16951116e+12, 1.54824623e+01],\n",
       "        [2.96362644e+13, 1.94539790e+01],\n",
       "        [1.69901591e+14, 2.35673773e+01],\n",
       "        [9.74027971e+14, 2.76404158e+01],\n",
       "        [4.99672272e+15, 2.99159711e+01]]])"
      ]
     },
     "execution_count": 9,
     "metadata": {},
     "output_type": "execute_result"
    }
   ],
   "source": [
    "B_ratio_nfw = np.loadtxt(open(\"../data/B_ratio_p2sad.csv\"), delimiter = \",\")\n",
    "B_ratio_nfw[B_ratio_nfw[:,0].sort()]\n",
    "B_ratio_oa16 = np.loadtxt(open(\"../data/B_ratio_oa16.csv\"), delimiter = \",\")\n",
    "B_ratio_oa16[B_ratio_oa16[:,0].sort()]\n",
    "c_parada = np.loadtxt(open(\"../data/c_okoli_prada.csv\"), delimiter = \",\")\n",
    "c_parada[c_parada[:,0].sort()]\n",
    "c_deimer = np.loadtxt(open(\"../data/c_okoli_deimer_mean.csv\"), delimiter = \",\")\n",
    "c_deimer[c_deimer[:,0].sort()]\n",
    "B_nfw_k16 = np.loadtxt(open(\"../data/B_H_nfw_okoli.csv\"), delimiter = \",\")\n",
    "B_nfw_k16[B_nfw_k16[:,0].sort()]\n",
    "B_ein_k16 = np.loadtxt(open(\"../data/B_H_ein_okoli_k16.csv\"), delimiter = \",\")\n",
    "B_ein_k16[B_ein_k16[:,0].sort()]\n",
    "\n",
    "B_sh_0_shin = np.loadtxt(open(\"../data/B_sh_shin_0.csv\"), delimiter = \",\")\n",
    "B_sh_0_shin[B_sh_0_shin[:,0].sort()]\n"
   ]
  },
  {
   "cell_type": "code",
   "execution_count": 10,
   "metadata": {},
   "outputs": [
    {
     "data": {
      "text/plain": [
       "<matplotlib.legend.Legend at 0x7fb85c101be0>"
      ]
     },
     "execution_count": 10,
     "metadata": {},
     "output_type": "execute_result"
    },
    {
     "name": "stderr",
     "output_type": "stream",
     "text": [
      "findfont: Font family ['sans-serif'] not found. Falling back to DejaVu Sans.\n"
     ]
    },
    {
     "data": {
      "image/png": "[encoded data removed]",
      "text/plain": [
       "<Figure size 432x288 with 1 Axes>"
      ]
     },
     "metadata": {
      "needs_background": "light"
     },
     "output_type": "display_data"
    }
   ],
   "source": [
    "plt.plot((M_B_sh), array_B_sh, label=r'simulation z=0')\n",
    "plt.plot(B_sh_0_shin[:,0], B_sh_0_shin[:,1], label=r'Shinichiro et.al. z=0')\n",
    "#plt.plot(B_ratio_nfw[:,0], B_ratio_nfw[:,1], label=r'P2SAD')\n",
    "plt.xscale('log')\n",
    "plt.yscale('log')\n",
    "plt.xlabel(r'$\\log_{10}{M}$')\n",
    "plt.ylabel(r'$B_{sh}$')\n",
    "#plt.xlim(1e-6, 1e13)\n",
    "#plt.ylim(1e-1,1e4)\n",
    "plt.grid()\n",
    "plt.legend()"
   ]
  },
  {
   "cell_type": "code",
   "execution_count": null,
   "metadata": {},
   "outputs": [],
   "source": []
  },
  {
   "cell_type": "code",
   "execution_count": 11,
   "metadata": {},
   "outputs": [
    {
     "data": {
      "text/plain": [
       "<matplotlib.legend.Legend at 0x7fb82a8c0fd0>"
      ]
     },
     "execution_count": 11,
     "metadata": {},
     "output_type": "execute_result"
    },
    {
     "data": {
      "image/png": "[encoded data removed]",
      "text/plain": [
       "<Figure size 432x288 with 1 Axes>"
      ]
     },
     "metadata": {
      "needs_background": "light"
     },
     "output_type": "display_data"
    }
   ],
   "source": [
    "plt.plot((M_B_sh), array_B_sh*1e3/ (array_B_h), label=r'simulation')\n",
    "plt.plot(B_ratio_oa16[:,0], B_ratio_oa16[:,1], label=r'OA16')\n",
    "plt.plot(B_ratio_nfw[:,0], B_ratio_nfw[:,1], label=r'P2SAD')\n",
    "plt.xscale('log')\n",
    "plt.yscale('log')\n",
    "plt.xlabel(r'$M$')\n",
    "plt.ylabel(r'$B_{h}/B_{sh}$')\n",
    "#plt.xlim(1e-6, 1e13)\n",
    "\n",
    "#plt.ylim(1e-1,1e4)\n",
    "plt.grid()\n",
    "plt.legend()"
   ]
  },
  {
   "cell_type": "code",
   "execution_count": null,
   "metadata": {},
   "outputs": [],
   "source": [
    "\n"
   ]
  },
  {
   "cell_type": "code",
   "execution_count": 12,
   "metadata": {},
   "outputs": [
    {
     "data": {
      "text/plain": [
       "<matplotlib.legend.Legend at 0x7fb82a770250>"
      ]
     },
     "execution_count": 12,
     "metadata": {},
     "output_type": "execute_result"
    },
    {
     "data": {
      "image/png": "[encoded data removed]",
      "text/plain": [
       "<Figure size 432x288 with 1 Axes>"
      ]
     },
     "metadata": {
      "needs_background": "light"
     },
     "output_type": "display_data"
    }
   ],
   "source": [
    "plt.plot(np.log10(M_B_sh), np.log10(c_nfw), label='NFW Okoli et.al.')\n",
    "plt.plot(c_parada[:,0], c_parada[:,1], label='Parada et.al')\n",
    "plt.plot(c_deimer[:,0], c_deimer[:,1], label='Deimer et.al.')\n",
    "#plt.xscale('log')\n",
    "#plt.yscale('log')\n",
    "plt.xlabel(r'$\\log_{10}{M}$')\n",
    "plt.ylabel(r'$\\log_{10}{c}$')\n",
    "plt.grid()\n",
    "plt.legend()\n",
    "# plt.xlim(1e3, 1e7)"
   ]
  },
  {
   "cell_type": "code",
   "execution_count": 13,
   "metadata": {},
   "outputs": [
    {
     "data": {
      "text/plain": [
       "<matplotlib.legend.Legend at 0x7fb82a75a040>"
      ]
     },
     "execution_count": 13,
     "metadata": {},
     "output_type": "execute_result"
    },
    {
     "data": {
      "image/png": "[encoded data removed]",
      "text/plain": [
       "<Figure size 432x288 with 1 Axes>"
      ]
     },
     "metadata": {
      "needs_background": "light"
     },
     "output_type": "display_data"
    }
   ],
   "source": [
    "plt.plot(np.log10(peak_height), (array_B_h), label='simulation')\n",
    "plt.plot(B_nfw_k16[:,0], B_nfw_k16[:,1], label='nfw okoli')\n",
    "plt.plot(B_ein_k16[:,0], B_ein_k16[:,1], label='einasto okoli')\n",
    "#plt.plot(np.log10(peak_height), G[:,0], label='Lopez et.al.')\n",
    "#plt.xscale('log')\n",
    "plt.yscale('log')\n",
    "plt.xlabel(r'$\\log_{10}{\\nu}$')\n",
    "plt.ylabel(r'${B_{h}}$')\n",
    "plt.xlim(-1,1)\n",
    "#plt.ylim(1,1e5)\n",
    "plt.grid()\n",
    "plt.legend()"
   ]
  },
  {
   "cell_type": "code",
   "execution_count": null,
   "metadata": {},
   "outputs": [],
   "source": []
  },
  {
   "cell_type": "code",
   "execution_count": 14,
   "metadata": {},
   "outputs": [
    {
     "data": {
      "text/plain": [
       "781048.3627294655"
      ]
     },
     "execution_count": 14,
     "metadata": {},
     "output_type": "execute_result"
    }
   ],
   "source": [
    "np.trapz(array_B_sh, x=M_B_sh)*(5.5e-6)**2"
   ]
  },
  {
   "cell_type": "code",
   "execution_count": 15,
   "metadata": {},
   "outputs": [],
   "source": [
    "aa = np.array([dm2nu.B_sh(z_)[0] for z_ in z])"
   ]
  },
  {
   "cell_type": "code",
   "execution_count": 16,
   "metadata": {},
   "outputs": [
    {
     "ename": "NameError",
     "evalue": "name 'b_int_m' is not defined",
     "output_type": "error",
     "traceback": [
      "\u001b[0;31m---------------------------------------------------------------------------\u001b[0m",
      "\u001b[0;31mNameError\u001b[0m                                 Traceback (most recent call last)",
      "\u001b[1;32m/home/kruteesh/Desktop/DM_nu_simulation_P-One/PONE_git/pone_work/pone_dm/Li_project.ipynb Cell 19\u001b[0m in \u001b[0;36m<cell line: 1>\u001b[0;34m()\u001b[0m\n\u001b[0;32m----> <a href='vscode-notebook-cell:/home/kruteesh/Desktop/DM_nu_simulation_P-One/PONE_git/pone_work/pone_dm/Li_project.ipynb#X24sZmlsZQ%3D%3D?line=0'>1</a>\u001b[0m b_int_m\n",
      "\u001b[0;31mNameError\u001b[0m: name 'b_int_m' is not defined"
     ]
    }
   ],
   "source": [
    "b_int_m"
   ]
  },
  {
   "cell_type": "code",
   "execution_count": null,
   "metadata": {},
   "outputs": [
    {
     "data": {
      "text/plain": [
       "1607089515842305.0"
      ]
     },
     "execution_count": 46,
     "metadata": {},
     "output_type": "execute_result"
    }
   ],
   "source": [
    "np.trapz(b_int_m,\n",
    "            x=z,\n",
    "            axis=0)"
   ]
  },
  {
   "cell_type": "code",
   "execution_count": 17,
   "metadata": {},
   "outputs": [
    {
     "data": {
      "text/plain": [
       "(0.0, 7.0)"
      ]
     },
     "execution_count": 17,
     "metadata": {},
     "output_type": "execute_result"
    }
   ],
   "source": [
    "z[0], z[-1]"
   ]
  },
  {
   "cell_type": "code",
   "execution_count": 18,
   "metadata": {},
   "outputs": [
    {
     "data": {
      "text/plain": [
       "(779.5040775234862, 2.1274559003359172e-06)"
      ]
     },
     "execution_count": 18,
     "metadata": {},
     "output_type": "execute_result"
    }
   ],
   "source": [
    "quad(dm2nu._G_deimer, 5, 7)"
   ]
  },
  {
   "cell_type": "code",
   "execution_count": 19,
   "metadata": {},
   "outputs": [],
   "source": [
    "G_b = dm2nu._G_deimer(z)"
   ]
  },
  {
   "cell_type": "code",
   "execution_count": 20,
   "metadata": {},
   "outputs": [],
   "source": [
    "G_e3 = dm2nu._G_lopez(z)"
   ]
  },
  {
   "cell_type": "code",
   "execution_count": 21,
   "metadata": {},
   "outputs": [],
   "source": [
    "pickle.dump(G_e3, open(\"../data/tmp_files/G_sime3_wo_pi.pkl\", \"wb\"))\n",
    "G_e9 = pickle.load(open(\"../data/tmp_files/G_sime9_wo_pi.pkl\", \"rb\"))"
   ]
  },
  {
   "cell_type": "code",
   "execution_count": 22,
   "metadata": {},
   "outputs": [],
   "source": [
    "G_a = dm2nu._G_artsen(z)"
   ]
  },
  {
   "cell_type": "code",
   "execution_count": 23,
   "metadata": {},
   "outputs": [
    {
     "data": {
      "text/plain": [
       "(1000,)"
      ]
     },
     "execution_count": 23,
     "metadata": {},
     "output_type": "execute_result"
    }
   ],
   "source": [
    "G_e9.shape"
   ]
  },
  {
   "cell_type": "code",
   "execution_count": 24,
   "metadata": {},
   "outputs": [],
   "source": [
    "G_o = dm2nu.B_nfw(z)"
   ]
  },
  {
   "cell_type": "code",
   "execution_count": 25,
   "metadata": {},
   "outputs": [
    {
     "name": "stderr",
     "output_type": "stream",
     "text": [
      "/home/kruteesh/miniconda3/envs/pdm/lib/python3.9/site-packages/numpy/core/_asarray.py:171: VisibleDeprecationWarning: Creating an ndarray from ragged nested sequences (which is a list-or-tuple of lists-or-tuples-or ndarrays with different lengths or shapes) is deprecated. If you meant to do this, you must specify 'dtype=object' when creating the ndarray.\n",
      "  return array(a, dtype, copy=False, order=order, subok=True)\n"
     ]
    },
    {
     "ename": "ValueError",
     "evalue": "x and y must have same first dimension, but have shapes (10,) and (2,)",
     "output_type": "error",
     "traceback": [
      "\u001b[0;31m---------------------------------------------------------------------------\u001b[0m",
      "\u001b[0;31mValueError\u001b[0m                                Traceback (most recent call last)",
      "\u001b[1;32m/home/kruteesh/Desktop/DM_nu_simulation_P-One/PONE_git/pone_work/pone_dm/Li_project.ipynb Cell 29\u001b[0m in \u001b[0;36m<cell line: 6>\u001b[0;34m()\u001b[0m\n\u001b[1;32m      <a href='vscode-notebook-cell:/home/kruteesh/Desktop/DM_nu_simulation_P-One/PONE_git/pone_work/pone_dm/Li_project.ipynb#X40sZmlsZQ%3D%3D?line=2'>3</a>\u001b[0m ax1\u001b[39m.\u001b[39mplot(((\u001b[39m1\u001b[39m\u001b[39m+\u001b[39mz)), ((\u001b[39m1\u001b[39m\u001b[39m+\u001b[39mz)\u001b[39m*\u001b[39m\u001b[39m*\u001b[39m\u001b[39m3\u001b[39m) \u001b[39m*\u001b[39m G_e3, label\u001b[39m=\u001b[39m\u001b[39mr\u001b[39m\u001b[39m'\u001b[39m\u001b[39mthis sim M low 1e-3 Msun\u001b[39m\u001b[39m'\u001b[39m)\n\u001b[1;32m      <a href='vscode-notebook-cell:/home/kruteesh/Desktop/DM_nu_simulation_P-One/PONE_git/pone_work/pone_dm/Li_project.ipynb#X40sZmlsZQ%3D%3D?line=3'>4</a>\u001b[0m \u001b[39m#ax1.plot(((1+z)), ((1+z)**3) * G_e9, label=r'this sim M low 1e-9 Msun')\u001b[39;00m\n\u001b[1;32m      <a href='vscode-notebook-cell:/home/kruteesh/Desktop/DM_nu_simulation_P-One/PONE_git/pone_work/pone_dm/Li_project.ipynb#X40sZmlsZQ%3D%3D?line=4'>5</a>\u001b[0m \u001b[39m#ax1.step((1+z), ((1+z)**3) * G_b, label=r'Deimer Profile')\u001b[39;00m\n\u001b[0;32m----> <a href='vscode-notebook-cell:/home/kruteesh/Desktop/DM_nu_simulation_P-One/PONE_git/pone_work/pone_dm/Li_project.ipynb#X40sZmlsZQ%3D%3D?line=5'>6</a>\u001b[0m ax1\u001b[39m.\u001b[39;49mstep((\u001b[39m1\u001b[39;49m\u001b[39m+\u001b[39;49mz), G_o, label\u001b[39m=\u001b[39;49m\u001b[39mr\u001b[39;49m\u001b[39m'\u001b[39;49m\u001b[39mArtsen Profile\u001b[39;49m\u001b[39m'\u001b[39;49m)\n\u001b[1;32m      <a href='vscode-notebook-cell:/home/kruteesh/Desktop/DM_nu_simulation_P-One/PONE_git/pone_work/pone_dm/Li_project.ipynb#X40sZmlsZQ%3D%3D?line=6'>7</a>\u001b[0m \u001b[39m#ax1.plot((G_watson_l[:,0]), G_watson_l[:, 1], label=r'Carlos (Watson) et. al. lower')\u001b[39;00m\n\u001b[1;32m      <a href='vscode-notebook-cell:/home/kruteesh/Desktop/DM_nu_simulation_P-One/PONE_git/pone_work/pone_dm/Li_project.ipynb#X40sZmlsZQ%3D%3D?line=8'>9</a>\u001b[0m ax1\u001b[39m.\u001b[39mplot((\u001b[39m1\u001b[39m\u001b[39m+\u001b[39mz), G_wat_spl, label\u001b[39m=\u001b[39m\u001b[39mr\u001b[39m\u001b[39m'\u001b[39m\u001b[39mCarlos(Watson) et. al.\u001b[39m\u001b[39m'\u001b[39m)\n",
      "File \u001b[0;32m~/miniconda3/envs/pdm/lib/python3.9/site-packages/matplotlib/axes/_axes.py:2210\u001b[0m, in \u001b[0;36mAxes.step\u001b[0;34m(self, x, y, where, data, *args, **kwargs)\u001b[0m\n\u001b[1;32m   2208\u001b[0m cbook\u001b[39m.\u001b[39m_check_in_list((\u001b[39m'\u001b[39m\u001b[39mpre\u001b[39m\u001b[39m'\u001b[39m, \u001b[39m'\u001b[39m\u001b[39mpost\u001b[39m\u001b[39m'\u001b[39m, \u001b[39m'\u001b[39m\u001b[39mmid\u001b[39m\u001b[39m'\u001b[39m), where\u001b[39m=\u001b[39mwhere)\n\u001b[1;32m   2209\u001b[0m kwargs[\u001b[39m'\u001b[39m\u001b[39mdrawstyle\u001b[39m\u001b[39m'\u001b[39m] \u001b[39m=\u001b[39m \u001b[39m'\u001b[39m\u001b[39msteps-\u001b[39m\u001b[39m'\u001b[39m \u001b[39m+\u001b[39m where\n\u001b[0;32m-> 2210\u001b[0m \u001b[39mreturn\u001b[39;00m \u001b[39mself\u001b[39;49m\u001b[39m.\u001b[39;49mplot(x, y, \u001b[39m*\u001b[39;49margs, data\u001b[39m=\u001b[39;49mdata, \u001b[39m*\u001b[39;49m\u001b[39m*\u001b[39;49mkwargs)\n",
      "File \u001b[0;32m~/miniconda3/envs/pdm/lib/python3.9/site-packages/matplotlib/axes/_axes.py:1743\u001b[0m, in \u001b[0;36mAxes.plot\u001b[0;34m(self, scalex, scaley, data, *args, **kwargs)\u001b[0m\n\u001b[1;32m   1512\u001b[0m \u001b[39m\"\"\"\u001b[39;00m\n\u001b[1;32m   1513\u001b[0m \u001b[39mPlot y versus x as lines and/or markers.\u001b[39;00m\n\u001b[1;32m   1514\u001b[0m \n\u001b[0;32m   (...)\u001b[0m\n\u001b[1;32m   1740\u001b[0m \u001b[39m(``'green'``) or hex strings (``'#008000'``).\u001b[39;00m\n\u001b[1;32m   1741\u001b[0m \u001b[39m\"\"\"\u001b[39;00m\n\u001b[1;32m   1742\u001b[0m kwargs \u001b[39m=\u001b[39m cbook\u001b[39m.\u001b[39mnormalize_kwargs(kwargs, mlines\u001b[39m.\u001b[39mLine2D)\n\u001b[0;32m-> 1743\u001b[0m lines \u001b[39m=\u001b[39m [\u001b[39m*\u001b[39m\u001b[39mself\u001b[39m\u001b[39m.\u001b[39m_get_lines(\u001b[39m*\u001b[39margs, data\u001b[39m=\u001b[39mdata, \u001b[39m*\u001b[39m\u001b[39m*\u001b[39mkwargs)]\n\u001b[1;32m   1744\u001b[0m \u001b[39mfor\u001b[39;00m line \u001b[39min\u001b[39;00m lines:\n\u001b[1;32m   1745\u001b[0m     \u001b[39mself\u001b[39m\u001b[39m.\u001b[39madd_line(line)\n",
      "File \u001b[0;32m~/miniconda3/envs/pdm/lib/python3.9/site-packages/matplotlib/axes/_base.py:273\u001b[0m, in \u001b[0;36m_process_plot_var_args.__call__\u001b[0;34m(self, data, *args, **kwargs)\u001b[0m\n\u001b[1;32m    271\u001b[0m     this \u001b[39m+\u001b[39m\u001b[39m=\u001b[39m args[\u001b[39m0\u001b[39m],\n\u001b[1;32m    272\u001b[0m     args \u001b[39m=\u001b[39m args[\u001b[39m1\u001b[39m:]\n\u001b[0;32m--> 273\u001b[0m \u001b[39myield from\u001b[39;00m \u001b[39mself\u001b[39;49m\u001b[39m.\u001b[39;49m_plot_args(this, kwargs)\n",
      "File \u001b[0;32m~/miniconda3/envs/pdm/lib/python3.9/site-packages/matplotlib/axes/_base.py:399\u001b[0m, in \u001b[0;36m_process_plot_var_args._plot_args\u001b[0;34m(self, tup, kwargs)\u001b[0m\n\u001b[1;32m    396\u001b[0m     \u001b[39mself\u001b[39m\u001b[39m.\u001b[39maxes\u001b[39m.\u001b[39myaxis\u001b[39m.\u001b[39mupdate_units(y)\n\u001b[1;32m    398\u001b[0m \u001b[39mif\u001b[39;00m x\u001b[39m.\u001b[39mshape[\u001b[39m0\u001b[39m] \u001b[39m!=\u001b[39m y\u001b[39m.\u001b[39mshape[\u001b[39m0\u001b[39m]:\n\u001b[0;32m--> 399\u001b[0m     \u001b[39mraise\u001b[39;00m \u001b[39mValueError\u001b[39;00m(\u001b[39mf\u001b[39m\u001b[39m\"\u001b[39m\u001b[39mx and y must have same first dimension, but \u001b[39m\u001b[39m\"\u001b[39m\n\u001b[1;32m    400\u001b[0m                      \u001b[39mf\u001b[39m\u001b[39m\"\u001b[39m\u001b[39mhave shapes \u001b[39m\u001b[39m{\u001b[39;00mx\u001b[39m.\u001b[39mshape\u001b[39m}\u001b[39;00m\u001b[39m and \u001b[39m\u001b[39m{\u001b[39;00my\u001b[39m.\u001b[39mshape\u001b[39m}\u001b[39;00m\u001b[39m\"\u001b[39m)\n\u001b[1;32m    401\u001b[0m \u001b[39mif\u001b[39;00m x\u001b[39m.\u001b[39mndim \u001b[39m>\u001b[39m \u001b[39m2\u001b[39m \u001b[39mor\u001b[39;00m y\u001b[39m.\u001b[39mndim \u001b[39m>\u001b[39m \u001b[39m2\u001b[39m:\n\u001b[1;32m    402\u001b[0m     \u001b[39mraise\u001b[39;00m \u001b[39mValueError\u001b[39;00m(\u001b[39mf\u001b[39m\u001b[39m\"\u001b[39m\u001b[39mx and y can be no greater than 2-D, but have \u001b[39m\u001b[39m\"\u001b[39m\n\u001b[1;32m    403\u001b[0m                      \u001b[39mf\u001b[39m\u001b[39m\"\u001b[39m\u001b[39mshapes \u001b[39m\u001b[39m{\u001b[39;00mx\u001b[39m.\u001b[39mshape\u001b[39m}\u001b[39;00m\u001b[39m and \u001b[39m\u001b[39m{\u001b[39;00my\u001b[39m.\u001b[39mshape\u001b[39m}\u001b[39;00m\u001b[39m\"\u001b[39m)\n",
      "\u001b[0;31mValueError\u001b[0m: x and y must have same first dimension, but have shapes (10,) and (2,)"
     ]
    },
    {
     "data": {
      "image/png": "[encoded data removed]",
      "text/plain": [
       "<Figure size 432x432 with 1 Axes>"
      ]
     },
     "metadata": {
      "needs_background": "light"
     },
     "output_type": "display_data"
    }
   ],
   "source": [
    "figure, ax1 = plt.subplots(1, 1, figsize=(std_size,std_size), sharex=True) \n",
    "ax1.set_title(r'G - Halo Boost Factor', y=1.17, fontsize=fontsize)\n",
    "ax1.plot(((1+z)), ((1+z)**3) * G_e3, label=r'this sim M low 1e-3 Msun')\n",
    "#ax1.plot(((1+z)), ((1+z)**3) * G_e9, label=r'this sim M low 1e-9 Msun')\n",
    "#ax1.step((1+z), ((1+z)**3) * G_b, label=r'Deimer Profile')\n",
    "ax1.step((1+z), G_o, label=r'Artsen Profile')\n",
    "#ax1.plot((G_watson_l[:,0]), G_watson_l[:, 1], label=r'Carlos (Watson) et. al. lower')\n",
    "\n",
    "ax1.plot((1+z), G_wat_spl, label=r'Carlos(Watson) et. al.')\n",
    "\n",
    "ax1.set_yscale(\"log\")\n",
    "ax1.set_xscale(\"log\")\n",
    "ax1.set_xlabel(r'$(1+z)$ ', fontsize=fontsize)\n",
    "ax1.set_ylabel(r'$(1+z)^3 \\times G(z)$', fontsize=fontsize)\n",
    "ax1.tick_params(axis = 'both', which = 'major', labelsize=fontsize, direction='in')\n",
    "ax1.tick_params(axis = 'both', which = 'minor', labelsize=fontsize, direction='in')\n",
    "#ax1.set_xlim(1, 200)\n",
    "ax1.set_ylim(1e1,1e30)\n",
    "h, l = ax1.get_legend_handles_labels()\n",
    "lgd1 = ax1.legend(h, l, loc=7, bbox_to_anchor=(0.95, +1.1),\n",
    "                 ncol=2, fontsize=fontsize, handlelength=h_length,\n",
    "                 fancybox=True, frameon=False)\n",
    "ax1.add_artist(lgd1)\n",
    "plt.grid()\n",
    "# ---------------------------------------------\n",
    "# Showing the image\n",
    "plt.show()\n",
    "#figure.savefig(PICS + \"Final_flux\"+\".png\",\n",
    "#               bbox_inches='tight', dpi=export_dpi, facecolor='white')\n"
   ]
  },
  {
   "cell_type": "code",
   "execution_count": 26,
   "metadata": {},
   "outputs": [],
   "source": [
    "m_grid = [100, 1e3, 1e4, 1e5]"
   ]
  },
  {
   "cell_type": "code",
   "execution_count": 27,
   "metadata": {},
   "outputs": [],
   "source": [
    "Mass = np.logspace(3, 18, base=10)\n",
    "sigma_sim = np.array([dm2nu._sigma_lopez(m) for m in Mass])\n",
    "sigma_watson = np.loadtxt('../data/sigma_watson.csv', delimiter=\",\")\n",
    "sigma_watson = sigma_watson[sigma_watson[:, 0].argsort()]"
   ]
  },
  {
   "cell_type": "code",
   "execution_count": 28,
   "metadata": {},
   "outputs": [
    {
     "name": "stderr",
     "output_type": "stream",
     "text": [
      "findfont: Font family ['sans-serif'] not found. Falling back to DejaVu Sans.\n"
     ]
    },
    {
     "data": {
      "image/png": "[encoded data removed]",
      "text/plain": [
       "<Figure size 432x432 with 1 Axes>"
      ]
     },
     "metadata": {
      "needs_background": "light"
     },
     "output_type": "display_data"
    }
   ],
   "source": [
    "figure, ax1 = plt.subplots(1, 1, figsize=(std_size,std_size), sharex=True) \n",
    "ax1.set_title(r'$\\sigma$ vs M', fontsize=fontsize, y=1.11)\n",
    "\n",
    "ax1.plot(Mass, sigma_sim, label=r'Simulation')\n",
    "ax1.plot(sigma_watson[:, 0], sigma_watson[:, 1], label=r\"Watson et.al\")\n",
    "ax1.set_yscale(\"log\")\n",
    "ax1.set_xscale(\"log\")\n",
    "ax1.set_xlabel(r'$M$ $[M_{\\odot}]$ ', fontsize=fontsize)\n",
    "ax1.set_ylabel(r'$\\sigma$', fontsize=fontsize)\n",
    "ax1.tick_params(axis = 'both', which = 'major', labelsize=fontsize, direction='in')\n",
    "ax1.tick_params(axis = 'both', which = 'minor', labelsize=fontsize, direction='in')\n",
    "#ax1.set_xlim(1, 20)\n",
    "#ax1.set_ylim(1e4,1e6)\n",
    "h, l = ax1.get_legend_handles_labels()\n",
    "lgd1 = ax1.legend(h, l, loc=7, bbox_to_anchor=(0.9, +1.07),\n",
    "                 ncol=2, fontsize=fontsize, handlelength=h_length,\n",
    "                 fancybox=True, frameon=False)\n",
    "ax1.add_artist(lgd1)\n",
    "# ---------------------------------------------\n",
    "# Showing the image\n",
    "plt.show()\n",
    "figure.savefig(PICS + \"sigma_M\"+\".png\",\n",
    "               bbox_inches='tight', dpi=export_dpi, facecolor='white')\n"
   ]
  },
  {
   "cell_type": "code",
   "execution_count": 29,
   "metadata": {},
   "outputs": [],
   "source": [
    "Mass_f_sig = np.logspace(10, 17, base=10)\n",
    "ln_f_178 = np.log(np.array([dm2nu._f_178(m, 0) for m in Mass_f_sig]))\n",
    "ln_f_200 = np.log(np.array([dm2nu._f_delta(m, 0, 200) for m in Mass_f_sig]))\n",
    "lnsigma_1 = np.array([dm2nu._lnsigma_1(m) for m in Mass_f_sig])\n",
    "ln_f_wa = np.loadtxt('../data/ln_f_watson.csv', delimiter=\",\")\n",
    "ln_f_wa = ln_f_wa[ln_f_wa[:, 0].argsort()]"
   ]
  },
  {
   "cell_type": "code",
   "execution_count": 30,
   "metadata": {},
   "outputs": [
    {
     "data": {
      "image/png": "[encoded data removed]",
      "text/plain": [
       "<Figure size 432x432 with 1 Axes>"
      ]
     },
     "metadata": {
      "needs_background": "light"
     },
     "output_type": "display_data"
    }
   ],
   "source": [
    "fig, ax1 = plt.subplots(1, 1, figsize=(std_size,std_size), sharex=True) \n",
    "ax1.set_title(r'$\\ln{f}$ vs $\\ln{\\sigma^{-1}}$', y=1.2, fontsize=fontsize)\n",
    "\n",
    "ax1.plot(lnsigma_1, ln_f_200, '*', label=r'Simulation $\\Delta$=200')\n",
    "\n",
    "ax1.plot(lnsigma_1, ln_f_178, label=r'Simulation $\\Delta$=178')\n",
    "ax1.plot(ln_f_wa[:, 0], ln_f_wa[:, 1], label=r\"Watson et.al\")\n",
    "#ax1.set_yscale(\"log\")\n",
    "#ax1.set_xscale(\"log\")\n",
    "ax1.set_xlabel(r'$\\ln{\\sigma^{-1}}$ ', fontsize=fontsize)\n",
    "ax1.set_ylabel(r'$\\ln{f}$', fontsize=fontsize)\n",
    "ax1.tick_params(axis = 'both', which = 'major', labelsize=fontsize, direction='in')\n",
    "ax1.tick_params(axis = 'both', which = 'minor', labelsize=fontsize, direction='in')\n",
    "ax1.set_xlim(-1.6, 1.5)\n",
    "ax1.set_ylim(-20, 0.5)\n",
    "h, l = ax1.get_legend_handles_labels()\n",
    "lgd1 = ax1.legend(h, l, loc=7, bbox_to_anchor=(0.95, +1.1),\n",
    "                 ncol=2, fontsize=fontsize, handlelength=h_length,\n",
    "                 fancybox=True, frameon=False)\n",
    "ax1.add_artist(lgd1)\n",
    "# ---------------------------------------------\n",
    "# Showing the image\n",
    "fig.savefig(PICS + \"lnf_lnsigma\"+\".png\",\n",
    "               bbox_inches='tight', dpi=export_dpi, facecolor='white')\n",
    "\n",
    "\n",
    "plt.show()\n"
   ]
  },
  {
   "cell_type": "code",
   "execution_count": 31,
   "metadata": {},
   "outputs": [
    {
     "ename": "ValueError",
     "evalue": "operands could not be broadcast together with shapes (151,) (15,) ",
     "output_type": "error",
     "traceback": [
      "\u001b[0;31m---------------------------------------------------------------------------\u001b[0m",
      "\u001b[0;31mValueError\u001b[0m                                Traceback (most recent call last)",
      "\u001b[1;32m/home/kruteesh/Desktop/DM_nu_simulation_P-One/PONE_git/pone_work/pone_dm/Li_project.ipynb Cell 35\u001b[0m in \u001b[0;36m<cell line: 3>\u001b[0;34m()\u001b[0m\n\u001b[1;32m      <a href='vscode-notebook-cell:/home/kruteesh/Desktop/DM_nu_simulation_P-One/PONE_git/pone_work/pone_dm/Li_project.ipynb#X46sZmlsZQ%3D%3D?line=0'>1</a>\u001b[0m Mass\u001b[39m=\u001b[39m np\u001b[39m.\u001b[39mlinspace(\u001b[39m1e-3\u001b[39m, \u001b[39m1e12\u001b[39m, \u001b[39m151\u001b[39m)\n\u001b[1;32m      <a href='vscode-notebook-cell:/home/kruteesh/Desktop/DM_nu_simulation_P-One/PONE_git/pone_work/pone_dm/Li_project.ipynb#X46sZmlsZQ%3D%3D?line=1'>2</a>\u001b[0m z\u001b[39m=\u001b[39mnp\u001b[39m.\u001b[39mlinspace(\u001b[39m1\u001b[39m, \u001b[39m1e6\u001b[39m,\u001b[39m15\u001b[39m)\n\u001b[0;32m----> <a href='vscode-notebook-cell:/home/kruteesh/Desktop/DM_nu_simulation_P-One/PONE_git/pone_work/pone_dm/Li_project.ipynb#X46sZmlsZQ%3D%3D?line=2'>3</a>\u001b[0m c_nu \u001b[39m=\u001b[39m (dm2nu\u001b[39m.\u001b[39;49m_c_nfw(Mass, z))\n",
      "File \u001b[0;32m~/Desktop/DM_nu_simulation_P-One/PONE_git/pone_work/pone_dm/dm2nu.py:633\u001b[0m, in \u001b[0;36mDM2Nu._c_nfw\u001b[0;34m(self, M, Z)\u001b[0m\n\u001b[1;32m    627\u001b[0m \u001b[39mdef\u001b[39;00m \u001b[39m_c_nfw\u001b[39m(\u001b[39mself\u001b[39m, M, Z):\n\u001b[1;32m    628\u001b[0m     \u001b[39m\"\"\"\"\u001b[39;00m\n\u001b[1;32m    629\u001b[0m \u001b[39m    0-axis= M\u001b[39;00m\n\u001b[1;32m    630\u001b[0m \u001b[39m    1-axis= Z\u001b[39;00m\n\u001b[1;32m    631\u001b[0m \u001b[39m    \"\"\"\u001b[39;00m\n\u001b[1;32m    632\u001b[0m     sigma \u001b[39m=\u001b[39m (\n\u001b[0;32m--> 633\u001b[0m         \u001b[39mself\u001b[39;49m\u001b[39m.\u001b[39;49m_sigma_lopez(M) \u001b[39m*\u001b[39;49m\n\u001b[1;32m    634\u001b[0m         \u001b[39mself\u001b[39;49m\u001b[39m.\u001b[39;49m_d(Z)\n\u001b[1;32m    635\u001b[0m     )\n\u001b[1;32m    636\u001b[0m     c \u001b[39m=\u001b[39m \u001b[39m0.522\u001b[39m \u001b[39m*\u001b[39m ((\u001b[39m1\u001b[39m \u001b[39m+\u001b[39m \u001b[39m7.37\u001b[39m \u001b[39m*\u001b[39m (sigma \u001b[39m/\u001b[39m \u001b[39m0.95\u001b[39m)\u001b[39m*\u001b[39m\u001b[39m*\u001b[39m(\u001b[39m3\u001b[39m\u001b[39m/\u001b[39m\u001b[39m4\u001b[39m)) \u001b[39m*\u001b[39m\n\u001b[1;32m    637\u001b[0m                  (\u001b[39m1\u001b[39m \u001b[39m+\u001b[39m \u001b[39m0.14\u001b[39m \u001b[39m*\u001b[39m (sigma \u001b[39m/\u001b[39m \u001b[39m0.95\u001b[39m)\u001b[39m*\u001b[39m\u001b[39m*\u001b[39m(\u001b[39m-\u001b[39m\u001b[39m2\u001b[39m)))\n\u001b[1;32m    638\u001b[0m     \u001b[39mreturn\u001b[39;00m c\n",
      "\u001b[0;31mValueError\u001b[0m: operands could not be broadcast together with shapes (151,) (15,) "
     ]
    }
   ],
   "source": [
    "Mass= np.linspace(1e-3, 1e12, 151)\n",
    "z=np.linspace(1, 1e6,15)\n",
    "c_nu = (dm2nu._c_nfw(Mass, z))\n"
   ]
  },
  {
   "cell_type": "code",
   "execution_count": 32,
   "metadata": {},
   "outputs": [
    {
     "ename": "NameError",
     "evalue": "name 'c_nu' is not defined",
     "output_type": "error",
     "traceback": [
      "\u001b[0;31m---------------------------------------------------------------------------\u001b[0m",
      "\u001b[0;31mNameError\u001b[0m                                 Traceback (most recent call last)",
      "\u001b[1;32m/home/kruteesh/Desktop/DM_nu_simulation_P-One/PONE_git/pone_work/pone_dm/Li_project.ipynb Cell 36\u001b[0m in \u001b[0;36m<cell line: 5>\u001b[0;34m()\u001b[0m\n\u001b[1;32m      <a href='vscode-notebook-cell:/home/kruteesh/Desktop/DM_nu_simulation_P-One/PONE_git/pone_work/pone_dm/Li_project.ipynb#X50sZmlsZQ%3D%3D?line=1'>2</a>\u001b[0m ax1\u001b[39m.\u001b[39mset_title(\u001b[39mr\u001b[39m\u001b[39m'\u001b[39m\u001b[39m$c$ vs M\u001b[39m\u001b[39m'\u001b[39m, fontsize\u001b[39m=\u001b[39mfontsize, y\u001b[39m=\u001b[39m\u001b[39m1.11\u001b[39m)\n\u001b[1;32m      <a href='vscode-notebook-cell:/home/kruteesh/Desktop/DM_nu_simulation_P-One/PONE_git/pone_work/pone_dm/Li_project.ipynb#X50sZmlsZQ%3D%3D?line=3'>4</a>\u001b[0m \u001b[39m#ax1.plot(Mass, sigma_sim, label=r'Simulation')\u001b[39;00m\n\u001b[0;32m----> <a href='vscode-notebook-cell:/home/kruteesh/Desktop/DM_nu_simulation_P-One/PONE_git/pone_work/pone_dm/Li_project.ipynb#X50sZmlsZQ%3D%3D?line=4'>5</a>\u001b[0m ax1\u001b[39m.\u001b[39mplot(np\u001b[39m.\u001b[39mlog10(Mass), np\u001b[39m.\u001b[39mlog10(c_nu))\n\u001b[1;32m      <a href='vscode-notebook-cell:/home/kruteesh/Desktop/DM_nu_simulation_P-One/PONE_git/pone_work/pone_dm/Li_project.ipynb#X50sZmlsZQ%3D%3D?line=5'>6</a>\u001b[0m \u001b[39m#ax1.set_yscale(\"log\")\u001b[39;00m\n\u001b[1;32m      <a href='vscode-notebook-cell:/home/kruteesh/Desktop/DM_nu_simulation_P-One/PONE_git/pone_work/pone_dm/Li_project.ipynb#X50sZmlsZQ%3D%3D?line=6'>7</a>\u001b[0m \u001b[39m#ax1.set_xscale(\"log\")\u001b[39;00m\n\u001b[1;32m      <a href='vscode-notebook-cell:/home/kruteesh/Desktop/DM_nu_simulation_P-One/PONE_git/pone_work/pone_dm/Li_project.ipynb#X50sZmlsZQ%3D%3D?line=7'>8</a>\u001b[0m ax1\u001b[39m.\u001b[39mset_xlabel(\u001b[39mr\u001b[39m\u001b[39m'\u001b[39m\u001b[39m$\u001b[39m\u001b[39m\\\u001b[39m\u001b[39mlog_\u001b[39m\u001b[39m{10}\u001b[39;00m\u001b[39m M/M_\u001b[39m\u001b[39m{\u001b[39m\u001b[39m\\\u001b[39m\u001b[39modot}$ \u001b[39m\u001b[39m'\u001b[39m, fontsize\u001b[39m=\u001b[39mfontsize)\n",
      "\u001b[0;31mNameError\u001b[0m: name 'c_nu' is not defined"
     ]
    },
    {
     "data": {
      "image/png": "[encoded data removed]",
      "text/plain": [
       "<Figure size 432x432 with 1 Axes>"
      ]
     },
     "metadata": {
      "needs_background": "light"
     },
     "output_type": "display_data"
    }
   ],
   "source": [
    "figure, ax1 = plt.subplots(1, 1, figsize=(std_size,std_size), sharex=True) \n",
    "ax1.set_title(r'$c$ vs M', fontsize=fontsize, y=1.11)\n",
    "\n",
    "#ax1.plot(Mass, sigma_sim, label=r'Simulation')\n",
    "ax1.plot(np.log10(Mass), np.log10(c_nu))\n",
    "#ax1.set_yscale(\"log\")\n",
    "#ax1.set_xscale(\"log\")\n",
    "ax1.set_xlabel(r'$\\log_{10} M/M_{\\odot}$ ', fontsize=fontsize)\n",
    "ax1.set_ylabel(r'$\\log_{10} c$', fontsize=fontsize)\n",
    "ax1.tick_params(axis = 'both', which = 'major', labelsize=fontsize, direction='in')\n",
    "ax1.tick_params(axis = 'both', which = 'minor', labelsize=fontsize, direction='in')\n",
    "#ax1.set_xlim(1, 20)\n",
    "#ax1.set_ylim(1e4,1e6)\n",
    "h, l = ax1.get_legend_handles_labels()\n",
    "lgd1 = ax1.legend(h, l, loc=7, bbox_to_anchor=(0.9, +1.07),\n",
    "                 ncol=2, fontsize=fontsize, handlelength=h_length,\n",
    "                 fancybox=True, frameon=False)\n",
    "ax1.add_artist(lgd1)\n",
    "# ---------------------------------------------\n",
    "# Showing the image\n",
    "plt.show()\n",
    "figure.savefig(PICS + \"sigma_M\"+\".png\",\n",
    "               bbox_inches='tight', dpi=export_dpi, facecolor='white')\n"
   ]
  },
  {
   "cell_type": "code",
   "execution_count": null,
   "metadata": {},
   "outputs": [],
   "source": []
  },
  {
   "cell_type": "code",
   "execution_count": null,
   "metadata": {},
   "outputs": [],
   "source": []
  },
  {
   "cell_type": "code",
   "execution_count": 33,
   "metadata": {},
   "outputs": [],
   "source": [
    "dphi_2=np.loadtxt(open(\"../data/m_1e2.csv\"), delimiter = \",\")\n",
    "dphi_2[dphi_2[:,0].sort()]\n",
    "\n",
    "dphi_4=np.loadtxt(open(\"../data/m_1e4.csv\"), delimiter = \",\")\n",
    "dphi_4[dphi_4[:,0].sort()]\n",
    "\n",
    "dphi_6=np.loadtxt(open(\"../data/m_1e6.csv\"), delimiter = \",\")\n",
    "dphi_6[dphi_6[:,0].sort()]\n",
    "#dphi_ice=np.loadtxt(open(\"../data/icecube.csv\"), delimiter = \",\")\n",
    "#dphi_ice[dphi_ice[:,0].sort()]\n",
    "dphi_2=np.loadtxt(open(\"../data/m_1e2.csv\"), delimiter = \",\")\n",
    "dphi_2[dphi_2[:,0].sort()]\n",
    "\n",
    "dphi_4=np.loadtxt(open(\"../data/m_1e4.csv\"), delimiter = \",\")\n",
    "dphi_4[dphi_4[:,0].sort()]\n",
    "\n",
    "dphi_6=np.loadtxt(open(\"../data/m_1e6.csv\"), delimiter = \",\")\n",
    "dphi_6[dphi_6[:,0].sort()]\n",
    "#dphi_ice=np.loadtxt(open(\"../data/icecube.csv\"), delimiter = \",\")\n",
    "#dphi_ice[dphi_ice[:,0].sort()]\n",
    "dphi_4=UnivariateSpline(dphi_4[:,0],dphi_4[:,1],k=1,s=0,ext=1)\n",
    "#mass_grid[0],sv_grid[-1],mass_grid[-1],sv_grid[-1]\n",
    "#dphi_ic=UnivariateSpline(dphi_ice[:,0],dphi_ice[:,1],k=1,s=0,ext=1)\n",
    "dphi_6=UnivariateSpline(dphi_6[:,0],dphi_6[:,1],k=1,s=0, ext=1)\n",
    "#dphi_2=UnivariateSpline(dphi_2[:,0],dphi_2[:,1],k=1,s=0, ext=1)\n",
    "# Grids\n",
    "mass_grid = config['simulation parameters']['mass grid']\n",
    "sv_grid = config['simulation parameters']['sv grid']\n",
    "m_2_id = find_nearest(mass_grid, 1e2)\n",
    "m_3_id = find_nearest(mass_grid, 1e3)\n",
    "m_4_id = find_nearest(mass_grid, 1e4)\n",
    "m_5_id = find_nearest(mass_grid, 1e5)\n",
    "m_6_id = find_nearest(mass_grid, 1e6)\n",
    "sv_7 = find_nearest(sv_grid, 7e-23)\n",
    "sv_56 = find_nearest(sv_grid, 5.6e-23)\n",
    "# The limit calculation\n"
   ]
  },
  {
   "cell_type": "code",
   "execution_count": 34,
   "metadata": {},
   "outputs": [],
   "source": [
    "nu_e = pd.read_csv(open('../data/Li_project/nu_e.dat', 'rb'), delim_whitespace=True)"
   ]
  },
  {
   "cell_type": "code",
   "execution_count": 35,
   "metadata": {},
   "outputs": [
    {
     "data": {
      "text/html": [
       "<div>\n",
       "<style scoped>\n",
       "    .dataframe tbody tr th:only-of-type {\n",
       "        vertical-align: middle;\n",
       "    }\n",
       "\n",
       "    .dataframe tbody tr th {\n",
       "        vertical-align: top;\n",
       "    }\n",
       "\n",
       "    .dataframe thead th {\n",
       "        text-align: right;\n",
       "    }\n",
       "</style>\n",
       "<table border=\"1\" class=\"dataframe\">\n",
       "  <thead>\n",
       "    <tr style=\"text-align: right;\">\n",
       "      <th></th>\n",
       "      <th>mDM</th>\n",
       "      <th>Log[10,x]</th>\n",
       "      <th>eL</th>\n",
       "      <th>eR</th>\n",
       "      <th>e</th>\n",
       "      <th>\\[Mu]L</th>\n",
       "      <th>\\[Mu]R</th>\n",
       "      <th>\\[Mu]</th>\n",
       "      <th>\\[Tau]L</th>\n",
       "      <th>\\[Tau]R</th>\n",
       "      <th>...</th>\n",
       "      <th>Z</th>\n",
       "      <th>g</th>\n",
       "      <th>\\[Gamma]</th>\n",
       "      <th>h</th>\n",
       "      <th>\\[Nu]e</th>\n",
       "      <th>\\[Nu]\\[Mu]</th>\n",
       "      <th>\\[Nu]\\[Tau]</th>\n",
       "      <th>V-&gt;e</th>\n",
       "      <th>V-&gt;\\[Mu]</th>\n",
       "      <th>V-&gt;\\[Tau]</th>\n",
       "    </tr>\n",
       "  </thead>\n",
       "  <tbody>\n",
       "    <tr>\n",
       "      <th>0</th>\n",
       "      <td>5</td>\n",
       "      <td>-8.90</td>\n",
       "      <td>0.000000</td>\n",
       "      <td>0.000000</td>\n",
       "      <td>0.000000</td>\n",
       "      <td>0.000000</td>\n",
       "      <td>0.000000</td>\n",
       "      <td>0.000000</td>\n",
       "      <td>0.000000</td>\n",
       "      <td>0.000000</td>\n",
       "      <td>...</td>\n",
       "      <td>0.000000</td>\n",
       "      <td>0.000000</td>\n",
       "      <td>0.000000</td>\n",
       "      <td>0.000000</td>\n",
       "      <td>0.000000</td>\n",
       "      <td>0.000000</td>\n",
       "      <td>0.000000</td>\n",
       "      <td>0.0</td>\n",
       "      <td>0.000000</td>\n",
       "      <td>0.000000</td>\n",
       "    </tr>\n",
       "    <tr>\n",
       "      <th>1</th>\n",
       "      <td>5</td>\n",
       "      <td>-8.85</td>\n",
       "      <td>0.000000</td>\n",
       "      <td>0.000000</td>\n",
       "      <td>0.000000</td>\n",
       "      <td>0.000000</td>\n",
       "      <td>0.000000</td>\n",
       "      <td>0.000000</td>\n",
       "      <td>0.000000</td>\n",
       "      <td>0.000000</td>\n",
       "      <td>...</td>\n",
       "      <td>0.000000</td>\n",
       "      <td>0.000000</td>\n",
       "      <td>0.000000</td>\n",
       "      <td>0.000000</td>\n",
       "      <td>0.000000</td>\n",
       "      <td>0.000000</td>\n",
       "      <td>0.000000</td>\n",
       "      <td>0.0</td>\n",
       "      <td>0.000000</td>\n",
       "      <td>0.000000</td>\n",
       "    </tr>\n",
       "    <tr>\n",
       "      <th>2</th>\n",
       "      <td>5</td>\n",
       "      <td>-8.80</td>\n",
       "      <td>0.000000</td>\n",
       "      <td>0.000000</td>\n",
       "      <td>0.000000</td>\n",
       "      <td>0.000000</td>\n",
       "      <td>0.000000</td>\n",
       "      <td>0.000000</td>\n",
       "      <td>0.000000</td>\n",
       "      <td>0.000000</td>\n",
       "      <td>...</td>\n",
       "      <td>0.000000</td>\n",
       "      <td>0.000000</td>\n",
       "      <td>0.000000</td>\n",
       "      <td>0.000000</td>\n",
       "      <td>0.000000</td>\n",
       "      <td>0.000000</td>\n",
       "      <td>0.000000</td>\n",
       "      <td>0.0</td>\n",
       "      <td>0.000000</td>\n",
       "      <td>0.000000</td>\n",
       "    </tr>\n",
       "    <tr>\n",
       "      <th>3</th>\n",
       "      <td>5</td>\n",
       "      <td>-8.75</td>\n",
       "      <td>0.000000</td>\n",
       "      <td>0.000000</td>\n",
       "      <td>0.000000</td>\n",
       "      <td>0.000000</td>\n",
       "      <td>0.000000</td>\n",
       "      <td>0.000000</td>\n",
       "      <td>0.000000</td>\n",
       "      <td>0.000000</td>\n",
       "      <td>...</td>\n",
       "      <td>0.000000</td>\n",
       "      <td>0.000000</td>\n",
       "      <td>0.000000</td>\n",
       "      <td>0.000000</td>\n",
       "      <td>0.000000</td>\n",
       "      <td>0.000000</td>\n",
       "      <td>0.000000</td>\n",
       "      <td>0.0</td>\n",
       "      <td>0.000000</td>\n",
       "      <td>0.000000</td>\n",
       "    </tr>\n",
       "    <tr>\n",
       "      <th>4</th>\n",
       "      <td>5</td>\n",
       "      <td>-8.70</td>\n",
       "      <td>0.000000</td>\n",
       "      <td>0.000000</td>\n",
       "      <td>0.000000</td>\n",
       "      <td>0.000000</td>\n",
       "      <td>0.000000</td>\n",
       "      <td>0.000000</td>\n",
       "      <td>0.000000</td>\n",
       "      <td>0.000000</td>\n",
       "      <td>...</td>\n",
       "      <td>0.000000</td>\n",
       "      <td>0.000000</td>\n",
       "      <td>0.000000</td>\n",
       "      <td>0.000000</td>\n",
       "      <td>0.000000</td>\n",
       "      <td>0.000000</td>\n",
       "      <td>0.000000</td>\n",
       "      <td>0.0</td>\n",
       "      <td>0.000000</td>\n",
       "      <td>0.000000</td>\n",
       "    </tr>\n",
       "    <tr>\n",
       "      <th>...</th>\n",
       "      <td>...</td>\n",
       "      <td>...</td>\n",
       "      <td>...</td>\n",
       "      <td>...</td>\n",
       "      <td>...</td>\n",
       "      <td>...</td>\n",
       "      <td>...</td>\n",
       "      <td>...</td>\n",
       "      <td>...</td>\n",
       "      <td>...</td>\n",
       "      <td>...</td>\n",
       "      <td>...</td>\n",
       "      <td>...</td>\n",
       "      <td>...</td>\n",
       "      <td>...</td>\n",
       "      <td>...</td>\n",
       "      <td>...</td>\n",
       "      <td>...</td>\n",
       "      <td>...</td>\n",
       "      <td>...</td>\n",
       "      <td>...</td>\n",
       "    </tr>\n",
       "    <tr>\n",
       "      <th>11093</th>\n",
       "      <td>100000</td>\n",
       "      <td>-0.20</td>\n",
       "      <td>0.144074</td>\n",
       "      <td>0.000692</td>\n",
       "      <td>0.072383</td>\n",
       "      <td>0.524696</td>\n",
       "      <td>0.715321</td>\n",
       "      <td>0.620008</td>\n",
       "      <td>0.110050</td>\n",
       "      <td>0.145143</td>\n",
       "      <td>...</td>\n",
       "      <td>0.145251</td>\n",
       "      <td>0.000286</td>\n",
       "      <td>0.044073</td>\n",
       "      <td>0.095100</td>\n",
       "      <td>0.102653</td>\n",
       "      <td>0.225569</td>\n",
       "      <td>0.032903</td>\n",
       "      <td>0.0</td>\n",
       "      <td>0.326558</td>\n",
       "      <td>0.017237</td>\n",
       "    </tr>\n",
       "    <tr>\n",
       "      <th>11094</th>\n",
       "      <td>100000</td>\n",
       "      <td>-0.15</td>\n",
       "      <td>0.185505</td>\n",
       "      <td>0.000531</td>\n",
       "      <td>0.093018</td>\n",
       "      <td>0.382060</td>\n",
       "      <td>0.521692</td>\n",
       "      <td>0.451876</td>\n",
       "      <td>0.077593</td>\n",
       "      <td>0.102191</td>\n",
       "      <td>...</td>\n",
       "      <td>0.142884</td>\n",
       "      <td>0.000113</td>\n",
       "      <td>0.042088</td>\n",
       "      <td>0.087957</td>\n",
       "      <td>0.223359</td>\n",
       "      <td>0.208894</td>\n",
       "      <td>0.022130</td>\n",
       "      <td>0.0</td>\n",
       "      <td>0.199903</td>\n",
       "      <td>0.007814</td>\n",
       "    </tr>\n",
       "    <tr>\n",
       "      <th>11095</th>\n",
       "      <td>100000</td>\n",
       "      <td>-0.10</td>\n",
       "      <td>0.270209</td>\n",
       "      <td>0.000359</td>\n",
       "      <td>0.135284</td>\n",
       "      <td>0.233641</td>\n",
       "      <td>0.319224</td>\n",
       "      <td>0.276432</td>\n",
       "      <td>0.046798</td>\n",
       "      <td>0.061354</td>\n",
       "      <td>...</td>\n",
       "      <td>0.140611</td>\n",
       "      <td>0.000044</td>\n",
       "      <td>0.039676</td>\n",
       "      <td>0.080761</td>\n",
       "      <td>1.364648</td>\n",
       "      <td>0.227602</td>\n",
       "      <td>0.013008</td>\n",
       "      <td>0.0</td>\n",
       "      <td>0.109475</td>\n",
       "      <td>0.003194</td>\n",
       "    </tr>\n",
       "    <tr>\n",
       "      <th>11096</th>\n",
       "      <td>100000</td>\n",
       "      <td>-0.05</td>\n",
       "      <td>0.516782</td>\n",
       "      <td>0.000177</td>\n",
       "      <td>0.258479</td>\n",
       "      <td>0.118539</td>\n",
       "      <td>0.162355</td>\n",
       "      <td>0.140447</td>\n",
       "      <td>0.023600</td>\n",
       "      <td>0.031029</td>\n",
       "      <td>...</td>\n",
       "      <td>0.128199</td>\n",
       "      <td>0.000018</td>\n",
       "      <td>0.032712</td>\n",
       "      <td>0.065415</td>\n",
       "      <td>5.571369</td>\n",
       "      <td>0.361184</td>\n",
       "      <td>0.005999</td>\n",
       "      <td>0.0</td>\n",
       "      <td>0.052107</td>\n",
       "      <td>0.001164</td>\n",
       "    </tr>\n",
       "    <tr>\n",
       "      <th>11097</th>\n",
       "      <td>100000</td>\n",
       "      <td>0.00</td>\n",
       "      <td>1.859613</td>\n",
       "      <td>0.000037</td>\n",
       "      <td>0.929825</td>\n",
       "      <td>0.069311</td>\n",
       "      <td>0.096178</td>\n",
       "      <td>0.082744</td>\n",
       "      <td>0.013404</td>\n",
       "      <td>0.018326</td>\n",
       "      <td>...</td>\n",
       "      <td>0.094953</td>\n",
       "      <td>0.000010</td>\n",
       "      <td>0.017725</td>\n",
       "      <td>0.035583</td>\n",
       "      <td>10.012309</td>\n",
       "      <td>1.215612</td>\n",
       "      <td>0.001879</td>\n",
       "      <td>0.0</td>\n",
       "      <td>0.020961</td>\n",
       "      <td>0.000377</td>\n",
       "    </tr>\n",
       "  </tbody>\n",
       "</table>\n",
       "<p>11098 rows × 30 columns</p>\n",
       "</div>"
      ],
      "text/plain": [
       "          mDM  Log[10,x]        eL        eR         e    \\[Mu]L    \\[Mu]R  \\\n",
       "0           5      -8.90  0.000000  0.000000  0.000000  0.000000  0.000000   \n",
       "1           5      -8.85  0.000000  0.000000  0.000000  0.000000  0.000000   \n",
       "2           5      -8.80  0.000000  0.000000  0.000000  0.000000  0.000000   \n",
       "3           5      -8.75  0.000000  0.000000  0.000000  0.000000  0.000000   \n",
       "4           5      -8.70  0.000000  0.000000  0.000000  0.000000  0.000000   \n",
       "...       ...        ...       ...       ...       ...       ...       ...   \n",
       "11093  100000      -0.20  0.144074  0.000692  0.072383  0.524696  0.715321   \n",
       "11094  100000      -0.15  0.185505  0.000531  0.093018  0.382060  0.521692   \n",
       "11095  100000      -0.10  0.270209  0.000359  0.135284  0.233641  0.319224   \n",
       "11096  100000      -0.05  0.516782  0.000177  0.258479  0.118539  0.162355   \n",
       "11097  100000       0.00  1.859613  0.000037  0.929825  0.069311  0.096178   \n",
       "\n",
       "          \\[Mu]   \\[Tau]L   \\[Tau]R  ...         Z         g  \\[Gamma]  \\\n",
       "0      0.000000  0.000000  0.000000  ...  0.000000  0.000000  0.000000   \n",
       "1      0.000000  0.000000  0.000000  ...  0.000000  0.000000  0.000000   \n",
       "2      0.000000  0.000000  0.000000  ...  0.000000  0.000000  0.000000   \n",
       "3      0.000000  0.000000  0.000000  ...  0.000000  0.000000  0.000000   \n",
       "4      0.000000  0.000000  0.000000  ...  0.000000  0.000000  0.000000   \n",
       "...         ...       ...       ...  ...       ...       ...       ...   \n",
       "11093  0.620008  0.110050  0.145143  ...  0.145251  0.000286  0.044073   \n",
       "11094  0.451876  0.077593  0.102191  ...  0.142884  0.000113  0.042088   \n",
       "11095  0.276432  0.046798  0.061354  ...  0.140611  0.000044  0.039676   \n",
       "11096  0.140447  0.023600  0.031029  ...  0.128199  0.000018  0.032712   \n",
       "11097  0.082744  0.013404  0.018326  ...  0.094953  0.000010  0.017725   \n",
       "\n",
       "              h     \\[Nu]e  \\[Nu]\\[Mu]  \\[Nu]\\[Tau]  V->e  V->\\[Mu]  V->\\[Tau]  \n",
       "0      0.000000   0.000000    0.000000     0.000000   0.0  0.000000   0.000000  \n",
       "1      0.000000   0.000000    0.000000     0.000000   0.0  0.000000   0.000000  \n",
       "2      0.000000   0.000000    0.000000     0.000000   0.0  0.000000   0.000000  \n",
       "3      0.000000   0.000000    0.000000     0.000000   0.0  0.000000   0.000000  \n",
       "4      0.000000   0.000000    0.000000     0.000000   0.0  0.000000   0.000000  \n",
       "...         ...        ...         ...          ...   ...       ...        ...  \n",
       "11093  0.095100   0.102653    0.225569     0.032903   0.0  0.326558   0.017237  \n",
       "11094  0.087957   0.223359    0.208894     0.022130   0.0  0.199903   0.007814  \n",
       "11095  0.080761   1.364648    0.227602     0.013008   0.0  0.109475   0.003194  \n",
       "11096  0.065415   5.571369    0.361184     0.005999   0.0  0.052107   0.001164  \n",
       "11097  0.035583  10.012309    1.215612     0.001879   0.0  0.020961   0.000377  \n",
       "\n",
       "[11098 rows x 30 columns]"
      ]
     },
     "execution_count": 35,
     "metadata": {},
     "output_type": "execute_result"
    }
   ],
   "source": [
    "nu_e"
   ]
  },
  {
   "cell_type": "code",
   "execution_count": 36,
   "metadata": {},
   "outputs": [],
   "source": [
    "m_5 = nu_e[nu_e['mDM'] == 5]"
   ]
  },
  {
   "cell_type": "code",
   "execution_count": 78,
   "metadata": {},
   "outputs": [
    {
     "data": {
      "image/png": "[encoded data removed]",
      "text/plain": [
       "<Figure size 432x432 with 1 Axes>"
      ]
     },
     "metadata": {
      "needs_background": "light"
     },
     "output_type": "display_data"
    },
    {
     "data": {
      "image/png": "[encoded data removed]",
      "text/plain": [
       "<Figure size 432x432 with 1 Axes>"
      ]
     },
     "metadata": {
      "needs_background": "light"
     },
     "output_type": "display_data"
    },
    {
     "data": {
      "image/png": "[encoded data removed]",
      "text/plain": [
       "<Figure size 432x432 with 1 Axes>"
      ]
     },
     "metadata": {
      "needs_background": "light"
     },
     "output_type": "display_data"
    },
    {
     "data": {
      "image/png": "[encoded data removed]",
      "text/plain": [
       "<Figure size 432x432 with 1 Axes>"
      ]
     },
     "metadata": {
      "needs_background": "light"
     },
     "output_type": "display_data"
    }
   ],
   "source": [
    "name_p = ['W^{+}W^{-}', 'b^{+}b^{-}', r'$\\tau^{+}\\tau^{-}$']\n",
    "for i,m in enumerate(m_grid):\n",
    "    figure, ax1 = plt.subplots(1, 1, figsize=(std_size,std_size), sharex=True)    \n",
    "    ax1.set_title('Mass DM = %.1e GeV' % (m), y=1.1, fontsize=fontsize)\n",
    "    \n",
    "    for j,p in enumerate(['W', 'b', '\\[Tau]']):\n",
    "        e_grid = m * 10**nu_e[nu_e['mDM'] == m]['Log[10,x]']\n",
    "        x = nu_e[nu_e['mDM'] == m]['Log[10,x]']\n",
    "        dNdlogx = nu_e[nu_e['mDM'] == m][p]\n",
    "\n",
    "        ax1.step(x, (dNdlogx/(m*10**x)) *(m*10**x)**2, label=r'$%s$' % (name_p[j]))\n",
    "\n",
    "    ax1.set_yscale(\"log\")\n",
    "    #ax1.set_xscale(\"log\")\n",
    "    ax1.set_xlabel(r'$\\log_{10}{E/m_{\\chi}}$ ', fontsize=fontsize)\n",
    "    ax1.set_ylabel(r'$ E^2 dN/dE$ $[\\textrm{GeV}]$', fontsize=fontsize)\n",
    "    ax1.tick_params(axis = 'both', which = 'major', labelsize=fontsize, direction='in')\n",
    "    ax1.tick_params(axis = 'both', which = 'minor', labelsize=fontsize, direction='in')\n",
    "    #plt.legend()\n",
    "    #ax1.set_xlim(0, 1)\n",
    "    #ax1.set_ylim(1e-4,1e-2)\n",
    "    h, l = ax1.get_legend_handles_labels()\n",
    "    lgd1 = ax1.legend(h, l, loc=7, bbox_to_anchor=(0.9, +1.05),\n",
    "                     ncol=3, fontsize=fontsize, handlelength=h_length,\n",
    "                     fancybox=True, frameon=False)\n",
    "    ax1.add_artist(lgd1)\n",
    "\n",
    "    # ---------------------------------------------\n",
    "    # Showing the image\n",
    "    plt.show()\n",
    "    figure.savefig(PICS + \"Final_spectrum_\"+\"%.1e\" % (m)+\".png\",\n",
    "                   bbox_inches='tight', dpi=export_dpi, facecolor='white')\n"
   ]
  },
  {
   "cell_type": "code",
   "execution_count": 38,
   "metadata": {},
   "outputs": [
    {
     "ename": "KeyError",
     "evalue": "\"['All'] not in index\"",
     "output_type": "error",
     "traceback": [
      "\u001b[0;31m---------------------------------------------------------------------------\u001b[0m",
      "\u001b[0;31mKeyError\u001b[0m                                  Traceback (most recent call last)",
      "\u001b[1;32m/home/kruteesh/Desktop/DM_nu_simulation_P-One/PONE_git/pone_work/pone_dm/Li_project.ipynb Cell 44\u001b[0m in \u001b[0;36m<cell line: 6>\u001b[0;34m()\u001b[0m\n\u001b[1;32m      <a href='vscode-notebook-cell:/home/kruteesh/Desktop/DM_nu_simulation_P-One/PONE_git/pone_work/pone_dm/Li_project.ipynb#X61sZmlsZQ%3D%3D?line=7'>8</a>\u001b[0m dNdlogE \u001b[39m=\u001b[39m nu_e[nu_e[\u001b[39m'\u001b[39m\u001b[39mmDM\u001b[39m\u001b[39m'\u001b[39m] \u001b[39m==\u001b[39m m][\u001b[39m'\u001b[39m\u001b[39m\\\\\u001b[39;00m\u001b[39m[Nu]e\u001b[39m\u001b[39m'\u001b[39m]\n\u001b[1;32m      <a href='vscode-notebook-cell:/home/kruteesh/Desktop/DM_nu_simulation_P-One/PONE_git/pone_work/pone_dm/Li_project.ipynb#X61sZmlsZQ%3D%3D?line=8'>9</a>\u001b[0m dNdlogE_mc \u001b[39m=\u001b[39m UnivariateSpline(e_grid, dNdlogE, k\u001b[39m=\u001b[39m\u001b[39m1\u001b[39m, s\u001b[39m=\u001b[39m\u001b[39m0\u001b[39m, ext\u001b[39m=\u001b[39m\u001b[39m1\u001b[39m)(e_grid_mceq)\n\u001b[0;32m---> <a href='vscode-notebook-cell:/home/kruteesh/Desktop/DM_nu_simulation_P-One/PONE_git/pone_work/pone_dm/Li_project.ipynb#X61sZmlsZQ%3D%3D?line=9'>10</a>\u001b[0m phi_nue\u001b[39m.\u001b[39mappend((dm2nu\u001b[39m.\u001b[39;49mdphide_channel( e_grid, m, \u001b[39m2.5e23\u001b[39;49m)) \u001b[39m*\u001b[39m np\u001b[39m.\u001b[39marray(dNdlogE_mc) \u001b[39m/\u001b[39m (np\u001b[39m.\u001b[39marray(e_grid_mceq)\u001b[39m*\u001b[39mnp\u001b[39m.\u001b[39mlog(\u001b[39m10\u001b[39m)))\n",
      "File \u001b[0;32m~/Desktop/DM_nu_simulation_P-One/PONE_git/pone_work/pone_dm/dm2nu.py:533\u001b[0m, in \u001b[0;36mDM2Nu.dphide_channel\u001b[0;34m(self, E, m_x, snu, k)\u001b[0m\n\u001b[1;32m    531\u001b[0m \u001b[39m# z = np.linspace(0, self.z_T(), 121)\u001b[39;00m\n\u001b[1;32m    532\u001b[0m e_grid \u001b[39m=\u001b[39m m_x \u001b[39m*\u001b[39m \u001b[39m10\u001b[39m\u001b[39m*\u001b[39m\u001b[39m*\u001b[39m\u001b[39mself\u001b[39m\u001b[39m.\u001b[39mnu_e[\u001b[39mself\u001b[39m\u001b[39m.\u001b[39mnu_e[\u001b[39m'\u001b[39m\u001b[39mmDM\u001b[39m\u001b[39m'\u001b[39m] \u001b[39m==\u001b[39m m_x][\u001b[39m'\u001b[39m\u001b[39mLog[10,x]\u001b[39m\u001b[39m'\u001b[39m]\n\u001b[0;32m--> 533\u001b[0m dNdlogE \u001b[39m=\u001b[39m \u001b[39mself\u001b[39;49m\u001b[39m.\u001b[39;49mnu_e[\u001b[39mself\u001b[39;49m\u001b[39m.\u001b[39;49mnu_e[\u001b[39m'\u001b[39;49m\u001b[39mmDM\u001b[39;49m\u001b[39m'\u001b[39;49m] \u001b[39m==\u001b[39;49m m_x][ch]\n\u001b[1;32m    534\u001b[0m \u001b[39m# phi_nue.append((\u001b[39;00m\n\u001b[1;32m    535\u001b[0m \u001b[39m# self.extra_galactic_flux(e_grid, m, 1e-26))\u001b[39;00m\n\u001b[1;32m    536\u001b[0m dNdE \u001b[39m=\u001b[39m np\u001b[39m.\u001b[39marray(dNdlogE) \u001b[39m/\u001b[39m np\u001b[39m.\u001b[39marray(e_grid \u001b[39m*\u001b[39m np\u001b[39m.\u001b[39mlog(\u001b[39m10\u001b[39m))\n",
      "File \u001b[0;32m~/miniconda3/envs/pdm/lib/python3.9/site-packages/pandas/core/frame.py:3512\u001b[0m, in \u001b[0;36mDataFrame.__getitem__\u001b[0;34m(self, key)\u001b[0m\n\u001b[1;32m   3510\u001b[0m     \u001b[39mif\u001b[39;00m is_iterator(key):\n\u001b[1;32m   3511\u001b[0m         key \u001b[39m=\u001b[39m \u001b[39mlist\u001b[39m(key)\n\u001b[0;32m-> 3512\u001b[0m     indexer \u001b[39m=\u001b[39m \u001b[39mself\u001b[39;49m\u001b[39m.\u001b[39;49mcolumns\u001b[39m.\u001b[39;49m_get_indexer_strict(key, \u001b[39m\"\u001b[39;49m\u001b[39mcolumns\u001b[39;49m\u001b[39m\"\u001b[39;49m)[\u001b[39m1\u001b[39m]\n\u001b[1;32m   3514\u001b[0m \u001b[39m# take() does not accept boolean indexers\u001b[39;00m\n\u001b[1;32m   3515\u001b[0m \u001b[39mif\u001b[39;00m \u001b[39mgetattr\u001b[39m(indexer, \u001b[39m\"\u001b[39m\u001b[39mdtype\u001b[39m\u001b[39m\"\u001b[39m, \u001b[39mNone\u001b[39;00m) \u001b[39m==\u001b[39m \u001b[39mbool\u001b[39m:\n",
      "File \u001b[0;32m~/miniconda3/envs/pdm/lib/python3.9/site-packages/pandas/core/indexes/base.py:5782\u001b[0m, in \u001b[0;36mIndex._get_indexer_strict\u001b[0;34m(self, key, axis_name)\u001b[0m\n\u001b[1;32m   5779\u001b[0m \u001b[39melse\u001b[39;00m:\n\u001b[1;32m   5780\u001b[0m     keyarr, indexer, new_indexer \u001b[39m=\u001b[39m \u001b[39mself\u001b[39m\u001b[39m.\u001b[39m_reindex_non_unique(keyarr)\n\u001b[0;32m-> 5782\u001b[0m \u001b[39mself\u001b[39;49m\u001b[39m.\u001b[39;49m_raise_if_missing(keyarr, indexer, axis_name)\n\u001b[1;32m   5784\u001b[0m keyarr \u001b[39m=\u001b[39m \u001b[39mself\u001b[39m\u001b[39m.\u001b[39mtake(indexer)\n\u001b[1;32m   5785\u001b[0m \u001b[39mif\u001b[39;00m \u001b[39misinstance\u001b[39m(key, Index):\n\u001b[1;32m   5786\u001b[0m     \u001b[39m# GH 42790 - Preserve name from an Index\u001b[39;00m\n",
      "File \u001b[0;32m~/miniconda3/envs/pdm/lib/python3.9/site-packages/pandas/core/indexes/base.py:5845\u001b[0m, in \u001b[0;36mIndex._raise_if_missing\u001b[0;34m(self, key, indexer, axis_name)\u001b[0m\n\u001b[1;32m   5842\u001b[0m     \u001b[39mraise\u001b[39;00m \u001b[39mKeyError\u001b[39;00m(\u001b[39mf\u001b[39m\u001b[39m\"\u001b[39m\u001b[39mNone of [\u001b[39m\u001b[39m{\u001b[39;00mkey\u001b[39m}\u001b[39;00m\u001b[39m] are in the [\u001b[39m\u001b[39m{\u001b[39;00maxis_name\u001b[39m}\u001b[39;00m\u001b[39m]\u001b[39m\u001b[39m\"\u001b[39m)\n\u001b[1;32m   5844\u001b[0m not_found \u001b[39m=\u001b[39m \u001b[39mlist\u001b[39m(ensure_index(key)[missing_mask\u001b[39m.\u001b[39mnonzero()[\u001b[39m0\u001b[39m]]\u001b[39m.\u001b[39munique())\n\u001b[0;32m-> 5845\u001b[0m \u001b[39mraise\u001b[39;00m \u001b[39mKeyError\u001b[39;00m(\u001b[39mf\u001b[39m\u001b[39m\"\u001b[39m\u001b[39m{\u001b[39;00mnot_found\u001b[39m}\u001b[39;00m\u001b[39m not in index\u001b[39m\u001b[39m\"\u001b[39m)\n",
      "\u001b[0;31mKeyError\u001b[0m: \"['All'] not in index\""
     ]
    }
   ],
   "source": [
    "nu_e = pd.read_csv(open('../data/Li_project/nu_e.dat', 'rb'), delim_whitespace=True)\n",
    "phi_nue = []\n",
    "phi_dm2nu = []\n",
    "phi_burkert = []\n",
    "phi_okoli = []\n",
    "for i,m in enumerate(m_grid):\n",
    "    e_grid = m * 10**nu_e[nu_e['mDM'] == m]['Log[10,x]']\n",
    "    dNdlogE = nu_e[nu_e['mDM'] == m]['\\\\[Nu]e']\n",
    "    dNdlogE_mc = UnivariateSpline(e_grid, dNdlogE, k=1, s=0, ext=1)(e_grid_mceq)\n",
    "    phi_nue.append((dm2nu.dphide_channel( e_grid, m, 2.5e23)) * np.array(dNdlogE_mc) / (np.array(e_grid_mceq)*np.log(10)))\n",
    "    #phi_okoli.append((dm2nu._dphide_okoli_nfw(e_grid_mceq, m, 7e-23)))\n",
    "    #phi_dm2nu.append((dm2nu.dphide_channel(e_grid_mceq, m, 7e-23)))\n",
    "    #phi_burkert.append((dm2nu._dphi_de_c_burkert(e_grid_mceq, m, 5.62e-23)))"
   ]
  },
  {
   "cell_type": "code",
   "execution_count": null,
   "metadata": {},
   "outputs": [
    {
     "data": {
      "text/plain": [
       "Index(['mDM', 'Log[10,x]', 'eL', 'eR', 'e', '\\[Mu]L', '\\[Mu]R', '\\[Mu]',\n",
       "       '\\[Tau]L', '\\[Tau]R', '\\[Tau]', 'q', 'c', 'b', 't', 'WL', 'WT', 'W',\n",
       "       'ZL', 'ZT', 'Z', 'g', '\\[Gamma]', 'h', '\\[Nu]e', '\\[Nu]\\[Mu]',\n",
       "       '\\[Nu]\\[Tau]', 'V->e', 'V->\\[Mu]', 'V->\\[Tau]'],\n",
       "      dtype='object')"
      ]
     },
     "execution_count": 23,
     "metadata": {},
     "output_type": "execute_result"
    }
   ],
   "source": [
    "# pickle.dump(phi_dm2nu, open('../data/channel_numu.pkl', \"\"))\n",
    "nu_e[nu_e['mDM'] == m].keys()"
   ]
  },
  {
   "cell_type": "code",
   "execution_count": null,
   "metadata": {},
   "outputs": [
    {
     "name": "stdout",
     "output_type": "stream",
     "text": [
      "100\n",
      "1000.0\n",
      "10000.0\n",
      "100000.0\n"
     ]
    },
    {
     "data": {
      "image/png": "[encoded data removed]",
      "text/plain": [
       "<Figure size 432x432 with 1 Axes>"
      ]
     },
     "metadata": {
      "needs_background": "light"
     },
     "output_type": "display_data"
    }
   ],
   "source": [
    "figure, ax1 = plt.subplots(1, figsize=(std_size,std_size), sharex=True) \n",
    "ax1.set_title(r'$ \\nu_{\\mu} \\textrm{ Channel with NFW}$' , y=1.3, fontsize=fontsize+3)\n",
    "#ax1.step(np.log10(e_grid), dphi_2(e_grid),'o', color=\"y\", label=r\"$\\textrm{lit m} = %.1e$\" % (1e2))\n",
    "ax1.step(np.log10(e_grid), dphi_4(e_grid), 'o', color=color_4, label=r\"$\\textrm{lit m} = %.1e$\" % (1e4))\n",
    "ax1.step(np.log10(e_grid), dphi_6(e_grid), 'o',color=color_6, label=r\"$\\textrm{lit m} = %.1e$\" % (1e6))\n",
    "#nfw_flux_2 = (dm2nu.extra_galactic_flux_nfw(e_grid,mass_grid[m_2_id],sv_grid[sv_7]))\n",
    "#nfw_flux_3 = (dm2nu.extra_galactic_flux_nfw(e_grid,mass_grid[m_3_id],sv_grid[sv_7]))# + pdm._dm_nu.galactic_flux(e_grid,mass_grid[3],sv_grid[sv_56], 2 , 2.3e23)\n",
    "#nfw_flux_4 = (dm2nu.extra_galactic_flux_nfw(e_grid,mass_grid[m_4_id],sv_grid[sv_7]))# + pdm._dm_nu.galactic_flux(e_grid,mass_grid[26],sv_grid[sv_56], 2 , 2.3e23)\n",
    "#nfw_flux_6 = (dm2nu.extra_galactic_flux_nfw(e_grid,mass_grid[m_6_id],sv_grid[sv_7]))# + pdm._dm_nu.galactic_flux(e_grid,mass_grid[-1],sv_grid[sv_56], 2 , 2.3e23)\n",
    "#nfw_flux_5 = (dm2nu.extra_galactic_flux_nfw(e_grid,mass_grid[m_5_id],sv_grid[sv_7]))# + pdm._dm_nu.galactic_flux(e_grid,mass_grid[-1],sv_grid[sv_56], 2 , 2.3e23)\n",
    "\n",
    "\n",
    "for i,m in enumerate(m_grid):\n",
    "    print(m)\n",
    "    e_grid = m * 10**nu_e[nu_e['mDM'] == m]['Log[10,x]']\n",
    "    dNdE = nu_e[nu_e['mDM'] == m]['\\\\[Nu]\\\\[Mu]']\n",
    "    #ax1.step( np.log10(e_grid_mceq), abs(phi_dm2nu[i]) * e_grid_mceq**2, label=r'ex g')\n",
    "    ax1.step(np.log10(e_grid_mceq), ((phi_nue[i])) * e_grid_mceq**2, \"*\", label=r'$m_{x} = %.1e$ $GeV$' % (m))\n",
    "    #ax1.step(np.log10(e_grid_mceq), (phi_okoli[i]) * e_grid_mceq**2, \".\", label=r'Okoli')\n",
    "ax1.step(np.log10(e_grid_mceq) , shower_po * e_grid_mceq**2, label=r'$\\textrm{P}$-$\\textrm{ONE}$')\n",
    "ax1.set_yscale(\"log\")\n",
    "#ax1.set_xscale(\"log\")\n",
    "ax1.set_xlabel(r'$\\log_{10}$ $($ $E$ / GeV $)$ ', fontsize=fontsize)\n",
    "ax1.set_ylabel(r'$E^2$ $d\\phi / dE $', fontsize=fontsize)\n",
    "ax1.tick_params(axis = 'both', which = 'major', labelsize=fontsize, direction='in')\n",
    "ax1.tick_params(axis = 'both', which = 'minor', labelsize=fontsize, direction='in')\n",
    "ax1.set_xlim(2, 6)\n",
    "ax1.set_ylim(1e-10,1e-3)\n",
    "h, l = ax1.get_legend_handles_labels()\n",
    "lgd1 = ax1.legend(h, l, loc=7, bbox_to_anchor=(0.95, +1.15),\n",
    "                 ncol=2, fontsize=fontsize, handlelength=h_length,\n",
    "                 fancybox=True, frameon=False)\n",
    "ax1.add_artist(lgd1)\n",
    "# ---------------------------------------------\n",
    "# Showing the image\n",
    "plt.grid()\n",
    "plt.show()\n",
    "figure.savefig(PICS + \"Final_flux_Li\"+\".png\",\n",
    "               bbox_inches='tight', dpi=export_dpi, facecolor='white')"
   ]
  },
  {
   "cell_type": "code",
   "execution_count": null,
   "metadata": {},
   "outputs": [
    {
     "data": {
      "text/plain": [
       "array([3.85277590e-13, 5.46965722e-13, 7.72720916e-13, 1.08601642e-12,\n",
       "       1.51744912e-12, 2.10451326e-12, 2.89833705e-12, 3.96178687e-12,\n",
       "       5.36825623e-12, 7.21515187e-12, 9.61660886e-12, 1.26935917e-11,\n",
       "       1.66091954e-11, 2.15357001e-11, 2.76317462e-11, 3.51157706e-11,\n",
       "       4.41888943e-11, 5.49723801e-11, 6.76715743e-11, 8.24095986e-11,\n",
       "       9.91046975e-11, 1.17815223e-10, 1.38406094e-10, 1.60404603e-10,\n",
       "       1.83654177e-10, 2.07703858e-10, 2.31652587e-10, 2.55161996e-10,\n",
       "       2.77639849e-10, 2.97968787e-10, 3.16225222e-10, 3.31987046e-10,\n",
       "       3.44706013e-10, 3.55097744e-10, 3.63683748e-10, 3.71477775e-10,\n",
       "       3.80438524e-10, 3.92467212e-10, 4.11673935e-10, 4.40675906e-10,\n",
       "       4.83338727e-10, 5.46135571e-10, 6.32811531e-10, 7.51132800e-10,\n",
       "       9.15448964e-10, 1.14648759e-09, 1.48905035e-09, 2.06402678e-09,\n",
       "       3.14766800e-09, 1.59234338e-08, 6.89340421e-07, 0.00000000e+00,\n",
       "       0.00000000e+00, 0.00000000e+00, 0.00000000e+00, 0.00000000e+00,\n",
       "       0.00000000e+00, 0.00000000e+00, 0.00000000e+00, 0.00000000e+00,\n",
       "       0.00000000e+00, 0.00000000e+00, 0.00000000e+00, 0.00000000e+00,\n",
       "       0.00000000e+00, 0.00000000e+00, 0.00000000e+00, 0.00000000e+00,\n",
       "       0.00000000e+00, 0.00000000e+00, 0.00000000e+00, 0.00000000e+00,\n",
       "       0.00000000e+00, 0.00000000e+00, 0.00000000e+00, 0.00000000e+00,\n",
       "       0.00000000e+00, 0.00000000e+00, 0.00000000e+00, 0.00000000e+00,\n",
       "       0.00000000e+00, 0.00000000e+00, 0.00000000e+00, 0.00000000e+00,\n",
       "       0.00000000e+00, 0.00000000e+00, 0.00000000e+00, 0.00000000e+00,\n",
       "       0.00000000e+00, 0.00000000e+00, 0.00000000e+00, 0.00000000e+00,\n",
       "       0.00000000e+00, 0.00000000e+00, 0.00000000e+00, 0.00000000e+00,\n",
       "       0.00000000e+00, 0.00000000e+00, 0.00000000e+00, 0.00000000e+00,\n",
       "       0.00000000e+00, 0.00000000e+00, 0.00000000e+00, 0.00000000e+00,\n",
       "       0.00000000e+00, 0.00000000e+00, 0.00000000e+00, 0.00000000e+00,\n",
       "       0.00000000e+00, 0.00000000e+00, 0.00000000e+00, 0.00000000e+00,\n",
       "       0.00000000e+00, 0.00000000e+00, 0.00000000e+00, 0.00000000e+00,\n",
       "       0.00000000e+00, 0.00000000e+00, 0.00000000e+00, 0.00000000e+00,\n",
       "       0.00000000e+00])"
      ]
     },
     "execution_count": 30,
     "metadata": {},
     "output_type": "execute_result"
    }
   ],
   "source": [
    "(phi_nue[2])*e_grid_mceq**2"
   ]
  },
  {
   "cell_type": "code",
   "execution_count": null,
   "metadata": {},
   "outputs": [],
   "source": [
    "config['general']['detector'] = 'POne'\n",
    "config['general']['pone type'] = 'old'\n",
    "config['general']['density'] = 'NFW'  # 'NFW'\n",
    "config['general'][\"channel\"] = \"W\" \n",
    "config['pone']['smearing'] = 'unsmeared'\n",
    "\n",
    "config['pone']['low E sigma'] = {'numu': 0.45,\n",
    "                                 'nue': 0.45,\n",
    "                                 'nutau': 0.45}\n",
    "config['pone']['high E sigma'] = {'numu': 0.25,\n",
    "                                 'nue': 0.12,\n",
    "                                 'nutau': 0.12}\n"
   ]
  },
  {
   "cell_type": "code",
   "execution_count": null,
   "metadata": {},
   "outputs": [],
   "source": [
    "#pdm = PDM()"
   ]
  },
  {
   "cell_type": "code",
   "execution_count": null,
   "metadata": {},
   "outputs": [],
   "source": [
    "mass_grid = config[\"simulation parameters\"][\"mass grid\"]\n",
    "sv_grid = config[\"simulation parameters\"][\"sv grid\"]"
   ]
  },
  {
   "cell_type": "code",
   "execution_count": null,
   "metadata": {},
   "outputs": [
    {
     "data": {
      "text/plain": [
       "[5,\n",
       " 6,\n",
       " 8,\n",
       " 10,\n",
       " 15,\n",
       " 20,\n",
       " 25,\n",
       " 30,\n",
       " 40,\n",
       " 50,\n",
       " 60,\n",
       " 70,\n",
       " 80,\n",
       " 90,\n",
       " 100,\n",
       " 110,\n",
       " 120,\n",
       " 130,\n",
       " 140,\n",
       " 150,\n",
       " 160,\n",
       " 180,\n",
       " 200,\n",
       " 220,\n",
       " 240,\n",
       " 260,\n",
       " 280,\n",
       " 300,\n",
       " 330,\n",
       " 360,\n",
       " 400,\n",
       " 450,\n",
       " 500,\n",
       " 550,\n",
       " 600,\n",
       " 650,\n",
       " 700,\n",
       " 750,\n",
       " 800,\n",
       " 900,\n",
       " 1000,\n",
       " 1100,\n",
       " 1200,\n",
       " 1300,\n",
       " 1500,\n",
       " 1700,\n",
       " 2000,\n",
       " 2500,\n",
       " 3000,\n",
       " 4000,\n",
       " 5000,\n",
       " 6000,\n",
       " 7000,\n",
       " 8000,\n",
       " 9000,\n",
       " 10000,\n",
       " 12000,\n",
       " 15000,\n",
       " 20000,\n",
       " 30000,\n",
       " 50000,\n",
       " 100000]"
      ]
     },
     "execution_count": 34,
     "metadata": {},
     "output_type": "execute_result"
    }
   ],
   "source": [
    "mass_grid"
   ]
  },
  {
   "cell_type": "code",
   "execution_count": null,
   "metadata": {},
   "outputs": [
    {
     "ename": "NameError",
     "evalue": "name 'pdm' is not defined",
     "output_type": "error",
     "traceback": [
      "\u001b[0;31m---------------------------------------------------------------------------\u001b[0m",
      "\u001b[0;31mNameError\u001b[0m                                 Traceback (most recent call last)",
      "\u001b[1;32m/home/kruteesh/Desktop/DM_nu_simulation_P-One/PONE_git/pone_work/pone_dm/Li_project.ipynb Cell 37\u001b[0m in \u001b[0;36m<cell line: 1>\u001b[0;34m()\u001b[0m\n\u001b[0;32m----> <a href='vscode-notebook-cell:/home/kruteesh/Desktop/DM_nu_simulation_P-One/PONE_git/pone_work/pone_dm/Li_project.ipynb#X51sZmlsZQ%3D%3D?line=0'>1</a>\u001b[0m pdm\u001b[39m.\u001b[39mresults[\u001b[39m'\u001b[39m\u001b[39mnumu\u001b[39m\u001b[39m'\u001b[39m]\n",
      "\u001b[0;31mNameError\u001b[0m: name 'pdm' is not defined"
     ]
    }
   ],
   "source": [
    "pdm.results['numu']"
   ]
  },
  {
   "cell_type": "code",
   "execution_count": null,
   "metadata": {},
   "outputs": [],
   "source": [
    "# Loading comparison data\n",
    "th_cl = np.loadtxt(open(\"../data/thermal_relic.csv\"), delimiter = \",\")\n",
    "unitarity = np.loadtxt(open('../data/Unitarity_bound.csv'), delimiter = ',')\n",
    "cl_lit = np.loadtxt('../data/CL_PONE.csv', delimiter=\",\")\n",
    "W_lit = np.loadtxt(open('../data/ICE_TAU.csv'), delimiter = ',')\n",
    "W_lit = (W_lit[W_lit[:, 0].argsort()])\n",
    "cl_lit = (cl_lit[cl_lit[:, 0].argsort()])\n",
    "unitarity = (unitarity[unitarity[:, 0].argsort()])\n",
    "\n",
    "#limits_ice = pickle.load(open('/home/kruteesh/Desktop/dm_data_server/28_03_desk/data/limits_results_IceCube.pkl','rb'))\n",
    "limits_pone_unsm = pickle.load(open(\"../data/nfw_unsmea_limits.pkl\",\"rb\"))\n",
    "#limits_com = pickle.load(open(\"/home/kruteesh/Desktop/dm_data_server/14_03/data/limits_results.pkl\", \"rb\"))\n",
    "#limits_pone_unsm = pickle.load(open(\"../data/28_03_02/unsmeared/limits_results_POne_unsm.pkl\",\"rb\"))\n",
    "\n",
    "limits_pone_45_25= pickle.load(open(\"../data/14_04/smeared/45_25/limits_results_POne_sm_NFW.pkl\",\"rb\"))\n",
    "\n",
    "limits_pone_35_15= pickle.load(open(\"../data/14_04/smeared/35_15/limits_results_POne_sm.pkl\",\"rb\"))\n",
    "\n",
    "limits_pone_25_10= pickle.load(open(\"../data/14_04/smeared/25_10/limits_results_POne_sm.pkl\",\"rb\"))\n",
    "\n",
    "limits_pone_15_009= pickle.load(open(\"../data/14_04/smeared/15_009/limits_results_POne_sm.pkl\",\"rb\"))\n",
    "\n",
    "\n",
    "cl_lit_ice = np.loadtxt('../data/IceCube_HE.csv', delimiter=\",\")\n",
    "cl_lit_ice = (cl_lit_ice[cl_lit_ice[:, 0].argsort()])\n",
    "xx,yy = np.meshgrid(np.log10( np.logspace(1, 6, 20)),np.log10( np.logspace(1, 6, 20)))"
   ]
  },
  {
   "cell_type": "code",
   "execution_count": null,
   "metadata": {},
   "outputs": [],
   "source": [
    "xv, yv = np.meshgrid((np.log10(mass_grid)), (np.log10(sv_grid)))\n"
   ]
  },
  {
   "cell_type": "markdown",
   "metadata": {},
   "source": [
    "With Smearing"
   ]
  },
  {
   "cell_type": "code",
   "execution_count": null,
   "metadata": {},
   "outputs": [
    {
     "ename": "NameError",
     "evalue": "name 'pdm' is not defined",
     "output_type": "error",
     "traceback": [
      "\u001b[0;31m---------------------------------------------------------------------------\u001b[0m",
      "\u001b[0;31mNameError\u001b[0m                                 Traceback (most recent call last)",
      "\u001b[1;32m/home/kruteesh/Desktop/DM_nu_simulation_P-One/PONE_git/pone_work/pone_dm/Li_project.ipynb Cell 36'\u001b[0m in \u001b[0;36m<cell line: 10>\u001b[0;34m()\u001b[0m\n\u001b[1;32m     <a href='vscode-notebook-cell:/home/kruteesh/Desktop/DM_nu_simulation_P-One/PONE_git/pone_work/pone_dm/Li_project.ipynb#ch0000035?line=17'>18</a>\u001b[0m ax1\u001b[39m.\u001b[39mset_title(\u001b[39mr\u001b[39m\u001b[39m'\u001b[39m\u001b[39m$\u001b[39m\u001b[39m\\\u001b[39m\u001b[39mtextrm\u001b[39m\u001b[39m{P}\u001b[39;00m\u001b[39m$-$\u001b[39m\u001b[39m\\\u001b[39m\u001b[39mtextrm\u001b[39m\u001b[39m{\u001b[39m\u001b[39mONE Limits Results with Energy Reconstruction}$\u001b[39m\u001b[39m'\u001b[39m,fontsize\u001b[39m=\u001b[39mfontsize)  \u001b[39m# +' Scaling Correction = '+str(config['advanced']['scaling correction'])\u001b[39;00m\n\u001b[1;32m     <a href='vscode-notebook-cell:/home/kruteesh/Desktop/DM_nu_simulation_P-One/PONE_git/pone_work/pone_dm/Li_project.ipynb#ch0000035?line=19'>20</a>\u001b[0m \u001b[39m#   ax1.imshow(pdm.results[i], origin='lower', extent=(min(np.log10(mass_grid)), max(np.log10(mass_grid)), min(np.log10(sv_grid)), max(np.log10(sv_grid)),\u001b[39;00m\n\u001b[1;32m     <a href='vscode-notebook-cell:/home/kruteesh/Desktop/DM_nu_simulation_P-One/PONE_git/pone_work/pone_dm/Li_project.ipynb#ch0000035?line=20'>21</a>\u001b[0m \u001b[39m#                                      ))\u001b[39;00m\n\u001b[0;32m---> <a href='vscode-notebook-cell:/home/kruteesh/Desktop/DM_nu_simulation_P-One/PONE_git/pone_work/pone_dm/Li_project.ipynb#ch0000035?line=21'>22</a>\u001b[0m ax1\u001b[39m.\u001b[39mcontour( xv, yv,  pdm\u001b[39m.\u001b[39mresults[i], levels \u001b[39m=\u001b[39m [\u001b[39m0.9\u001b[39m], colors\u001b[39m=\u001b[39mcolor_sm[j],  linestyles\u001b[39m=\u001b[39m\u001b[39m'\u001b[39m\u001b[39m-\u001b[39m\u001b[39m'\u001b[39m,\n\u001b[1;32m     <a href='vscode-notebook-cell:/home/kruteesh/Desktop/DM_nu_simulation_P-One/PONE_git/pone_work/pone_dm/Li_project.ipynb#ch0000035?line=22'>23</a>\u001b[0m            origin\u001b[39m=\u001b[39m\u001b[39m'\u001b[39m\u001b[39mlower\u001b[39m\u001b[39m'\u001b[39m)\n\u001b[1;32m     <a href='vscode-notebook-cell:/home/kruteesh/Desktop/DM_nu_simulation_P-One/PONE_git/pone_work/pone_dm/Li_project.ipynb#ch0000035?line=23'>24</a>\u001b[0m \u001b[39m#ax1.contour(pdm.results[i], levels = [0.9], colors=color_sm[j],  linestyles='-',\u001b[39;00m\n\u001b[1;32m     <a href='vscode-notebook-cell:/home/kruteesh/Desktop/DM_nu_simulation_P-One/PONE_git/pone_work/pone_dm/Li_project.ipynb#ch0000035?line=24'>25</a>\u001b[0m \u001b[39m#           origin='lower', extent=(min(np.log10(mass_grid)), max(np.log10(mass_grid)), min(np.log10(sv_grid)), max(np.log10(sv_grid)),\u001b[39;00m\n\u001b[1;32m     <a href='vscode-notebook-cell:/home/kruteesh/Desktop/DM_nu_simulation_P-One/PONE_git/pone_work/pone_dm/Li_project.ipynb#ch0000035?line=25'>26</a>\u001b[0m \u001b[39m#                                   ))\u001b[39;00m\n\u001b[0;32m   (...)\u001b[0m\n\u001b[1;32m     <a href='vscode-notebook-cell:/home/kruteesh/Desktop/DM_nu_simulation_P-One/PONE_git/pone_work/pone_dm/Li_project.ipynb#ch0000035?line=32'>33</a>\u001b[0m \n\u001b[1;32m     <a href='vscode-notebook-cell:/home/kruteesh/Desktop/DM_nu_simulation_P-One/PONE_git/pone_work/pone_dm/Li_project.ipynb#ch0000035?line=33'>34</a>\u001b[0m \u001b[39m#ax1.plot(np.log10(cl_lit_ice[:, 0]), np.log10(cl_lit_ice[:, 1]),'m',label='literature  IceCube')\u001b[39;00m\n\u001b[1;32m     <a href='vscode-notebook-cell:/home/kruteesh/Desktop/DM_nu_simulation_P-One/PONE_git/pone_work/pone_dm/Li_project.ipynb#ch0000035?line=35'>36</a>\u001b[0m ax1\u001b[39m.\u001b[39mplot(np\u001b[39m.\u001b[39mlog10(th_cl[:, \u001b[39m0\u001b[39m]), np\u001b[39m.\u001b[39mlog10(th_cl[:, \u001b[39m1\u001b[39m]), \u001b[39m'\u001b[39m\u001b[39mb\u001b[39m\u001b[39m'\u001b[39m, \n\u001b[1;32m     <a href='vscode-notebook-cell:/home/kruteesh/Desktop/DM_nu_simulation_P-One/PONE_git/pone_work/pone_dm/Li_project.ipynb#ch0000035?line=36'>37</a>\u001b[0m          label\u001b[39m=\u001b[39m\u001b[39m'\u001b[39m\u001b[39mThermal Relic Abundance\u001b[39m\u001b[39m'\u001b[39m)\n",
      "\u001b[0;31mNameError\u001b[0m: name 'pdm' is not defined"
     ]
    },
    {
     "data": {
      "image/png": "[encoded data removed]",
      "text/plain": [
       "<Figure size 432x432 with 1 Axes>"
      ]
     },
     "metadata": {
      "needs_background": "light"
     },
     "output_type": "display_data"
    }
   ],
   "source": [
    "color = ['black', 'orange', 'purple']\n",
    "color_sm = ['red', 'black', 'purple']\n",
    "color_pa = ['']\n",
    "color_pa = ['']\n",
    "color_pa = ['']\n",
    "color_pa = ['']\n",
    "\n",
    "ll = ['-','--', '-.', 'dotted']\n",
    " # std_size, std_size * 6. / 8.),\n",
    "for j,i in enumerate(config[\"pone\"][\"specific particle scaling\"].keys()):\n",
    "    # Limits\n",
    "    # ---------------------------------------------\n",
    "    # Setup\n",
    "\n",
    "    figure, (ax1) = plt.subplots(1, 1, figsize=(std_size,std_size), sharex=True) \n",
    "    # ---------------------------------------------\n",
    "    # Plotting\n",
    "    ax1.set_title(r'$\\textrm{P}$-$\\textrm{ONE Limits Results with Energy Reconstruction}$',fontsize=fontsize)  # +' Scaling Correction = '+str(config['advanced']['scaling correction'])\n",
    "    \n",
    "    #   ax1.imshow(pdm.results[i], origin='lower', extent=(min(np.log10(mass_grid)), max(np.log10(mass_grid)), min(np.log10(sv_grid)), max(np.log10(sv_grid)),\n",
    "    #                                      ))\n",
    "    ax1.contour( xv, yv,  pdm.results[i], levels = [0.9], colors=color_sm[j],  linestyles='-',\n",
    "               origin='lower')\n",
    "    #ax1.contour(pdm.results[i], levels = [0.9], colors=color_sm[j],  linestyles='-',\n",
    "    #           origin='lower', extent=(min(np.log10(mass_grid)), max(np.log10(mass_grid)), min(np.log10(sv_grid)), max(np.log10(sv_grid)),\n",
    "    #                                   ))\n",
    "    \n",
    "    # ax1.contour(limits_pone_unsm[i], levels = [0.9], colors=color_pone,  linestyles=ll[0],\n",
    "    #              origin='lower', extent=(min(np.log10(mass_grid)), max(np.log10(mass_grid)),\n",
    "    #                                      min(np.log10(sv_grid)), max(np.log10(sv_grid))))\n",
    "    \n",
    "    #ax1.plot(np.log10(cl_lit[:, 0]), np.log10(cl_lit[:, 1]), 'g', label='literature P-ONE')\n",
    "    \n",
    "    #ax1.plot(np.log10(cl_lit_ice[:, 0]), np.log10(cl_lit_ice[:, 1]),'m',label='literature  IceCube')\n",
    "    \n",
    "    ax1.plot(np.log10(th_cl[:, 0]), np.log10(th_cl[:, 1]), 'b', \n",
    "             label='Thermal Relic Abundance')\n",
    "    \n",
    "    #ax1.plot(np.log10(unitarity[:, 0]), np.log10(unitarity[:, 1]), '.k', \n",
    "    #         label='Unitarity Bound')\n",
    "    # ---------------------------------------------\n",
    "    # Axis options\n",
    "    ax1.set_xscale(\"linear\")\n",
    "    ax1.set_yscale(\"linear\")\n",
    "    ax1.set_xlabel(r\"$\\log_{10}$ $m_{\\chi}$[\\textrm{GeV}]\", fontsize=fontsize)\n",
    "    ax1.set_ylabel(r\"$\\log_{10}$ $<\\sigma \\nu>$[$cm^{3} s^{-1}$]\", fontsize=fontsize)\n",
    "    ax1.tick_params(axis = 'both', which = 'major', labelsize=fontsize)\n",
    "    ax1.tick_params(axis = 'both', which = 'minor', labelsize=fontsize)\n",
    "    ax1.set_xlim(3.5, max(np.log10(mass_grid)))\n",
    "    ax1.set_ylim(min(np.log10(sv_grid)), -21)  # \n",
    "\n",
    "    h, l = ax1.get_legend_handles_labels()\n",
    "    lgd1 = ax1.legend(h, l, loc=7, bbox_to_anchor=(0.95, +0.9),\n",
    "                     ncol=2, fontsize=fontsize, handlelength=h_length,\n",
    "                     fancybox=True, frameon=False)\n",
    "    ax1.add_artist(lgd1)\n",
    "    legend_elements = [Line2D([0], [0], color=color_sm[j], lw=1.3),\n",
    "                       Line2D([0], [0], color=color_pone, lw=1.3)\n",
    "                  ]\n",
    "    labels = [r'$\\textrm{W boson channel}$',\n",
    "           r'$\\textrm{All channel}$',\n",
    "           ]\n",
    "    lgd2 = ax1.legend(legend_elements, labels, loc=7, bbox_to_anchor=(0.765, +0.799),\n",
    "                     ncol=1, fontsize=fontsize, handlelength=h_length,\n",
    "                     fancybox=True, frameon=False)\n",
    "    ax1.add_artist(lgd2)\n",
    "    # ---------------------------------------------\n",
    "    # Showing the image\n",
    "    plt.show()\n",
    "    # ---------------------------------------------\n",
    "    # Storing the image\n",
    "    figure.savefig(PICS + \"Limits_Example_all_%s.png\" %(i),\n",
    "               bbox_inches='tight', dpi=export_dpi,  facecolor='white')\n",
    "    break"
   ]
  },
  {
   "cell_type": "markdown",
   "metadata": {},
   "source": [
    "Without Smearing"
   ]
  },
  {
   "cell_type": "code",
   "execution_count": null,
   "metadata": {},
   "outputs": [],
   "source": [
    "color = ['black', 'orange', 'purple']\n",
    "color_sm = ['red', 'black', 'purple']\n",
    "color_pa = ['']\n",
    "color_pa = ['']\n",
    "color_pa = ['']\n",
    "color_pa = ['']\n",
    "\n",
    "ll = ['-','--', '-.', 'dotted']\n",
    " # std_size, std_size * 6. / 8.),\n",
    "for j,i in enumerate(config[\"pone\"][\"specific particle scaling\"].keys()):\n",
    "    # Limits\n",
    "    # ---------------------------------------------\n",
    "    # Setup\n",
    "\n",
    "    figure, (ax1) = plt.subplots(1, 1, figsize=(std_size,std_size), sharex=True) \n",
    "    # ---------------------------------------------\n",
    "    # Plotting\n",
    "    #ax1.set_title(r'',fontsize=fontsize)  # +' Scaling Correction = '+str(config['advanced']['scaling correction'])\n",
    "    #ax1.imshow(pdm.results[i], origin='lower', extent=(min(np.log10(mass_grid)), max(np.log10(mass_grid)), min(np.log10(sv_grid)), max(np.log10(sv_grid))))\n",
    "\n",
    "    ax1.contour(pdm.results[i], levels = [0.9], color=color_pone, linestyles='-',\n",
    "               origin='lower', extent=(min(np.log10(mass_grid)), max(np.log10(mass_grid)),\n",
    "                                       min(np.log10(sv_grid)), max(np.log10(sv_grid))))\n",
    "    \n",
    "    #ax1.contour(limits_pone_unsm[i], levels = [0.9], colors=color_pone,  linestyles=ll[0],\n",
    "    #             origin='lower', extent=(min(np.log10(mass_grid)), max(np.log10(mass_grid)),\n",
    "    #                                     min(np.log10(sv_grid)), max(np.log10(sv_grid))))\n",
    "# \n",
    "    # ax1.contour(limits_pone_45_25[i], levels = [0.9], colors=color_pone,  linestyles=ll[0],\n",
    "    #             origin='lower', extent=(min(np.log10(mass_grid)), max(np.log10(mass_grid)),\n",
    "    #                                     min(np.log10(sv_grid)), max(np.log10(sv_grid))))\n",
    "    #ax1.contour(limits_pone_35_15[i], levels = [0.9], colors=color_sm[j],  linestyles=ll[1],\n",
    "    #             origin='lower', extent=(min(np.log10(mass_grid)), max(np.log10(mass_grid)),\n",
    "    #                                     min(np.log10(sv_grid)), max(np.log10(sv_grid))))\n",
    "    # ax1.contour(limits_pone_25_10[i], levels = [0.9], colors=color_sm[j],  linestyles=ll[2],\n",
    "    #             origin='lower', extent=(min(np.log10(mass_grid)), max(np.log10(mass_grid)),\n",
    "    #                                     min(np.log10(sv_grid)), max(np.log10(sv_grid))))\n",
    "    # ax1.contour(limits_pone_15_009[i], levels = [0.9], colors=color_sm[j],  linestyles=ll[3],\n",
    "    #             origin='lower', extent=(min(np.log10(mass_grid)), max(np.log10(mass_grid)),\n",
    "    #                                     min(np.log10(sv_grid)), max(np.log10(sv_grid))))\n",
    "\n",
    "    #break\n",
    "    #ax1.contour(limits_ice[\"numu\"], levels=[0.9], colors='yellow',origin='lower',linestyles='-',\n",
    "    #                            extent=(min(np.log10(mass_grid)), max(np.log10(mass_grid)),\n",
    "    #                                    min(np.log10(sv_grid)), max(np.log10(sv_grid))))#\n",
    "    #ax1.contour(limits_pone_unsm[\"numu\"], levels=[0.9], colors='green',origin='lower',linestyles='-.',\n",
    "    #                            extent=(min(np.log10(mass_grid)), max(np.log10(mass_grid)),\n",
    "    #                                    min(np.log10(sv_grid)), max(np.log10(sv_grid))))\n",
    "    \n",
    "    #ax1.plot(np.log10(cl_lit[:, 0]), np.log10(cl_lit[:, 1]), 'g', label='literature P-ONE')\n",
    "    \n",
    "    #ax1.plot(np.log10(cl_lit_ice[:, 0]), np.log10(cl_lit_ice[:, 1]),'m',label='literature  IceCube')\n",
    "    ax1.plot(np.log10(W_lit[:, 0]), np.log10(W_lit[:, 1]), color='r', \n",
    "             label=r'$\\textrm{Ice }$-$\\textrm{79 } \\tau^{+}\\tau^{-}$')\n",
    "    ax1.plot(np.log10(th_cl[:, 0]), np.log10(th_cl[:, 1]), 'b', \n",
    "             label=r'$\\textrm{Thermal Relic Abundance}$')\n",
    "    ax1.plot(np.log10(unitarity[:, 0]), np.log10(unitarity[:, 1]), '.', color='k', \n",
    "             label=r'$\\textrm{Unitarity Bound}$')\n",
    "    # ---------------------------------------------\n",
    "    # Axis options\n",
    "    ax1.set_xscale(\"linear\")\n",
    "    ax1.set_yscale(\"linear\")\n",
    "    ax1.set_xlabel(r\"$\\log_{10}$ $m_{\\chi}$[\\textrm{GeV}]\", fontsize=fontsize)\n",
    "    ax1.set_ylabel(r\"$\\log_{10}$ $<\\sigma \\nu>$[$cm^{3} s^{-1}$]\", fontsize=fontsize)\n",
    "    ax1.tick_params(axis = 'both', which = 'major', labelsize=fontsize)\n",
    "    ax1.tick_params(axis = 'both', which = 'minor', labelsize=fontsize)\n",
    "    ax1.set_xlim(2, 4.5)\n",
    "    ax1.set_ylim(min(np.log10(sv_grid)), -19)  # \n",
    "    #ax1.text(3.5, -23.7, \"IceCube Simulation\", fontsize=fontsize)\n",
    "\n",
    "    #ax1.text(3.2, -24.8, r\"P-ONE $\\nu_\\mu$\", fontsize=fontsize)\n",
    "    #ax1.text(3.2, -24.9, r\" $\\nu_e$\", fontsize=fontsize)\n",
    "    #ax1.text(3.1, -25.3, r\" $\\nu_\\tau$\", fontsize=fontsize)\n",
    "\n",
    "    # ---------------------------------------------\n",
    "    # Legend\n",
    "    # plt.legend(fontsize=fontsize)\n",
    "    h, l = ax1.get_legend_handles_labels()\n",
    "    lgd1 = ax1.legend(h, l, loc=7, bbox_to_anchor=(1.09, +1.1),\n",
    "                     ncol=2, fontsize=fontsize, handlelength=h_length,\n",
    "                     fancybox=True, frameon=False)\n",
    "    ax1.add_artist(lgd1)\n",
    "    legend_elements = [Line2D([0], [0], color=color_pone, lw=1.3),\n",
    "                   #Line2D([0], [0], linestyle='--', color=color_sm[j],  lw=1),\n",
    "    #               Line2D([0], [0], color=color_pone, lw=1)\n",
    "                   #Line2D([0], [0], linestyle='-.', color=color_sm[j],  lw=1.3),\n",
    "                   #Line2D([0], [0], linestyle=':',  color=color_sm[j], lw=1),\n",
    "                   #Line2D([0], [0], color=color_sm[j], linestyle='dotted', lw=2),\n",
    "                  ]\n",
    "    labels = [r'$\\textrm{P}$-$\\textrm{ONE[NFW] }  $ $\\tau^{+}\\tau^{-}$ $\\textrm{Channel}$',\n",
    "           #r'$\\textrm{NFW}$, $\\mu$ = [$0.35, 0.15$]',\n",
    "    #       r'$\\textrm{All channel}$',\n",
    "           #r'0.15, 0.09'\n",
    "           ]\n",
    "    lgd2 = ax1.legend(legend_elements, labels, loc=7, bbox_to_anchor=(0.85, +0.3),\n",
    "                     ncol=1, fontsize=fontsize, handlelength=h_length,\n",
    "                     fancybox=True, frameon=False)\n",
    "    ax1.add_artist(lgd2)\n",
    "    # #h, _ = ax1.get_legend_handles_labels([legend_elements])\n",
    "    #lgd2= ax1.legend(h, labels, loc=7, bbox_to_anchor=(1, 0.8),\n",
    "    #                 ncol=1, fontsize=fontsize, handlelength=h_length,\n",
    "    #                 fancybox=True, frameon=False)\n",
    "    #ax1.add_artist(lgd2)\n",
    "    ax1.set_title(r'$\\tau^{+}\\tau^{-} \\textrm{ Channel with NFW profile}$', y = 1.2, fontsize=fontsize+1)\n",
    "    # ---------------------------------------------\n",
    "    # Showing the image\n",
    "    plt.show()\n",
    "    # ---------------------------------------------\n",
    "    # Storing the image\n",
    "    figure.savefig(PICS + \"Limits_Example_W_%s.png\" %(i),\n",
    "               bbox_inches='tight', dpi=export_dpi,  facecolor='white')\n",
    "    break"
   ]
  },
  {
   "cell_type": "code",
   "execution_count": null,
   "metadata": {},
   "outputs": [],
   "source": []
  }
 ],
 "metadata": {
  "interpreter": {
   "hash": "82a3a656d33f35b7f3fe77a22343614a58c995dc979ba6da45d214804d59b344"
  },
  "kernelspec": {
   "display_name": "Python 3.9.11 ('pdm')",
   "language": "python",
   "name": "python3"
  },
  "language_info": {
   "codemirror_mode": {
    "name": "ipython",
    "version": 3
   },
   "file_extension": ".py",
   "mimetype": "text/x-python",
   "name": "python",
   "nbconvert_exporter": "python",
   "pygments_lexer": "ipython3",
   "version": "3.9.11"
  },
  "orig_nbformat": 4
 },
 "nbformat": 4,
 "nbformat_minor": 2
}
