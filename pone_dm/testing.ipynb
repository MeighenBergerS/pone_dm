{
 "cells": [
  {
   "cell_type": "code",
   "execution_count": 1,
   "metadata": {},
   "outputs": [],
   "source": [
    "#  For sting e changes I made in python files"
   ]
  },
  {
   "cell_type": "code",
   "execution_count": 2,
   "metadata": {},
   "outputs": [],
   "source": [
    "from config import config\n",
    "from pone_aeff import Aeff\n",
    "from dm2nu import DM2Nu\n",
    "from atm_shower import Atm_Shower\n",
    "from detectors import Detector\n",
    "import numpy as np\n",
    "import matplotlib.pyplot as plt\n",
    "from limit_calc import Limits\n",
    "from bkgrd_calc import Background\n",
    "from signal_calc import Signal\n",
    "from pdm import PDM\n",
    "import pickle\n",
    "from scipy.interpolate import UnivariateSpline\n",
    "from constants import pdm_constants"
   ]
  },
  {
   "cell_type": "code",
   "execution_count": 3,
   "metadata": {},
   "outputs": [],
   "source": [
    "# Parameters ---\n",
    "config[\"general\"][\"detector\"] = \"IceCube\"\n",
    "config[\"general\"][\"year\"] = 9\n",
    "mass_grid = np.logspace(1, 4, 2) # np.logspace(1, 6, 10)\n",
    "sv_grid = np.logspace(-24, -21, 2) # 10\n",
    "angle = config['atmospheric showers']['theta angles']\n",
    "b = Atm_Shower()\n",
    "mass_id = 1\n",
    "sv_id = 1"
   ]
  },
  {
   "cell_type": "code",
   "execution_count": 4,
   "metadata": {},
   "outputs": [],
   "source": [
    "#aeff = Aeff()\n",
    "#dete = Detector(aeff)"
   ]
  },
  {
   "cell_type": "code",
   "execution_count": 5,
   "metadata": {},
   "outputs": [
    {
     "name": "stdout",
     "output_type": "stream",
     "text": [
      "Loading Effective Area\n"
     ]
    },
    {
     "name": "stderr",
     "output_type": "stream",
     "text": [
      "100%|██████████| 91/91 [04:17<00:00,  2.83s/it]\n",
      "/home/kruteesh/Desktop/DM_nu_simulation_P-One/PONE_git/pone_work/pone_dm/dm2nu.py:344: RuntimeWarning: overflow encountered in exp\n",
      "  dd = np.exp(d_2 / s_in(x)**2)\n",
      "/home/kruteesh/Desktop/DM_nu_simulation_P-One/PONE_git/pone_work/pone_dm/dm2nu.py:345: RuntimeWarning: overflow encountered in multiply\n",
      "  return A * aa * dd\n",
      "100%|██████████| 91/91 [04:58<00:00,  3.28s/it]\n",
      "100%|██████████| 91/91 [06:47<00:00,  4.48s/it]\n",
      "100%|██████████| 91/91 [05:15<00:00,  3.47s/it]\n",
      "100%|██████████| 91/91 [05:56<00:00,  3.91s/it]\n",
      "  0%|          | 0/1 [00:00<?, ?it/s]/home/kruteesh/Desktop/DM_nu_simulation_P-One/PONE_git/pone_work/pone_dm/limit_calc.py:81: RuntimeWarning: invalid value encountered in true_divide\n",
      "  np.nan_to_num(x /\n",
      "100%|██████████| 1/1 [00:00<00:00, 330.73it/s]\n"
     ]
    }
   ],
   "source": [
    "p = PDM()"
   ]
  },
  {
   "cell_type": "code",
   "execution_count": 6,
   "metadata": {},
   "outputs": [],
   "source": [
    "# Flux, Counts, effective area loading\n",
    "ice_flux = {}\n",
    "for m in mass_grid:\n",
    "    for sv in sv_grid:\n",
    "        ice_flux[m,sv] = pickle.load(open(\"/home/kruteesh/Desktop/dm_data_server/18_11/data/signal_flux/extra_%.1e_%.1e.pkl\"%(m,sv),\"rb\"))\n",
    "signal_m = pickle.load(open('/home/kruteesh/Desktop/dm_data_server/18_11/data/limits_signal_IceCube.pkl','rb'))\n",
    "background_po = pickle.load(open('/home/kruteesh/Desktop/DM_nu_simulation_P-One/PONE_git/pone_work/data/background_pone.pkl','rb'))\n",
    "eff_area = pickle.load(open('/home/kruteesh/Desktop/DM_nu_simulation_P-One/PONE_git/pone_work/data/eff_area_ice.pkl','rb')) \n",
    "background_ic = pickle.load(open('/home/kruteesh/Desktop/dm_data_server/18_11/data/background_ice.pkl','rb'))\n",
    "back = pickle.load(open('/home/kruteesh/Desktop/DM_nu_simulation_P-One/PONE_git/pone_work/data/background_ice.pkl','rb'))\n"
   ]
  },
  {
   "cell_type": "code",
   "execution_count": 7,
   "metadata": {},
   "outputs": [],
   "source": [
    "# Limits data Loading \n",
    "limits = pickle.load(open('/home/kruteesh/Desktop/dm_data_server/limits_results_IceCube.pkl','rb'))\n",
    "cl_lit = np.loadtxt('/home/kruteesh/Desktop/DM_nu_simulation_P-One/Literature/limits_Ice.csv', delimiter=\",\")\n",
    "cl_lit = (cl_lit[cl_lit[:, 0].argsort()])\n",
    "m_1e4 = np.loadtxt(\"../data/m_1e4.csv\",delimiter=\",\")\n",
    "m_1e4 = (m_1e4[m_1e4[:, 0].argsort()])\n",
    "m_1e2 = np.loadtxt(\"../data/m_1e2.csv\",delimiter=\",\")\n",
    "m_1e2 = (m_1e2[m_1e2[:, 0].argsort()])\n",
    "m_1e6 = np.loadtxt(\"../data/m_1e6.csv\",delimiter=\",\")\n",
    "m_1e6 = (m_1e6[m_1e6[:, 0].argsort()])"
   ]
  },
  {
   "cell_type": "code",
   "execution_count": 8,
   "metadata": {},
   "outputs": [
    {
     "data": {
      "text/plain": [
       "Text(0.5, 0, '$m_{x}$ [GeV]')"
      ]
     },
     "execution_count": 8,
     "metadata": {},
     "output_type": "execute_result"
    },
    {
     "data": {
      "image/png": "[encoded data removed]",
      "text/plain": [
       "<Figure size 432x288 with 2 Axes>"
      ]
     },
     "metadata": {
      "needs_background": "light"
     },
     "output_type": "display_data"
    }
   ],
   "source": [
    "# Limits Comparision ----\n",
    "plt.imshow( limits, extent=(min(np.log10(mass_grid)), max(np.log10(mass_grid)),\n",
    "                                              min(np.log10(sv_grid)), max(np.log10(sv_grid))),\n",
    "                     origin='lower', aspect='auto',cmap=plt.cm.afmhot)\n",
    "\n",
    "plt.colorbar()\n",
    "plt.contour(limits, levels=[0.9], colors='purple',\n",
    "                origin='lower', extent=(min(np.log10(mass_grid)), max(np.log10(mass_grid)),\n",
    "                                        min(np.log10(sv_grid)), max(np.log10(sv_grid))))  #  origin!!!!!!!!!!\n",
    "plt.plot(np.log10(cl_lit[:, 0]), np.log10(cl_lit[:, 1]), 'g', label='literature 90% C.L')\n",
    "\n",
    "plt.legend()\n",
    "plt.grid()\n",
    "plt.ylabel(r'<$\\sigma \\nu$>')\n",
    "plt.xlabel(r'$m_{x}$ [GeV]')"
   ]
  },
  {
   "cell_type": "code",
   "execution_count": 9,
   "metadata": {},
   "outputs": [
    {
     "data": {
      "text/plain": [
       "Text(0, 0.5, 'Effective Area [$cm^2$]')"
      ]
     },
     "execution_count": 9,
     "metadata": {},
     "output_type": "execute_result"
    },
    {
     "data": {
      "image/png": "[encoded data removed]",
      "text/plain": [
       "<Figure size 432x432 with 1 Axes>"
      ]
     },
     "metadata": {
      "needs_background": "light"
     },
     "output_type": "display_data"
    }
   ],
   "source": [
    "# Effective area comparision ----\n",
    "plt.figure(figsize=(6,6))\n",
    "plt.step(b.egrid,eff_area[angle[20]],label=r'angle = %.1e degree' %angle[20])\n",
    "plt.xscale('log')\n",
    "plt.yscale('log')\n",
    "plt.xlim(1e1,1e8)\n",
    "#plt.ylim(1,1e7)\n",
    "plt.legend()\n",
    "plt.grid()\n",
    "plt.xlabel('E [GeV]')\n",
    "plt.ylabel(r'Effective Area [$cm^2$]')"
   ]
  },
  {
   "cell_type": "code",
   "execution_count": 10,
   "metadata": {},
   "outputs": [
    {
     "data": {
      "image/png": "[encoded data removed]",
      "text/plain": [
       "<Figure size 432x432 with 1 Axes>"
      ]
     },
     "metadata": {
      "needs_background": "light"
     },
     "output_type": "display_data"
    }
   ],
   "source": [
    "flux = ice_flux[mass_grid[1], sv_grid[0]]\n",
    "plt.figure(figsize=(6,6))\n",
    "plt.step(b.egrid,(flux*b.egrid**2),label=r'IceCube sim $m_{x}$ = %.1e GeV, <$\\sigma\\nu$> = %.1e' %(mass_grid[mass_id], sv_grid[sv_id]))\n",
    "plt.step(m_1e4[:, 0], m_1e4[:, 1],\"-\",label=\"m = 1e4 GeV Literature\")\n",
    "plt.xscale('log')\n",
    "plt.yscale('log')\n",
    "plt.xlim(1e1,1e5)\n",
    "#plt.ylim(1e1,1e7)\n",
    "plt.legend()\n",
    "plt.xlabel('E [GeV]')\n",
    "plt.ylabel(r'$E^2$ $d\\phi/dE$ $(GeV cm^{-2} sr^{-1} s^{-1})$')\n",
    "plt.grid()"
   ]
  },
  {
   "cell_type": "code",
   "execution_count": 11,
   "metadata": {},
   "outputs": [],
   "source": [
    "mass_id, sv_id = (1,0)\n",
    "# summing effective areas over all thetas [0,90]\n",
    "total_eff=np.zeros_like(eff_area[0])\n",
    "for theta in angle:\n",
    "    total_eff=total_eff+eff_area[theta]\n",
    "# Simulated Flux  \n",
    "flux = ice_flux[mass_grid[mass_id], sv_grid[sv_id]]"
   ]
  },
  {
   "cell_type": "code",
   "execution_count": 12,
   "metadata": {},
   "outputs": [
    {
     "data": {
      "text/plain": [
       "array([0.00000000e+00, 0.00000000e+00, 0.00000000e+00, 0.00000000e+00,\n",
       "       0.00000000e+00, 0.00000000e+00, 0.00000000e+00, 0.00000000e+00,\n",
       "       0.00000000e+00, 0.00000000e+00, 0.00000000e+00, 0.00000000e+00,\n",
       "       0.00000000e+00, 0.00000000e+00, 0.00000000e+00, 0.00000000e+00,\n",
       "       0.00000000e+00, 0.00000000e+00, 0.00000000e+00, 0.00000000e+00,\n",
       "       0.00000000e+00, 2.75163068e+00, 3.26474721e+02, 6.52727951e+02,\n",
       "       1.79656188e+03, 3.23167330e+03, 5.67031238e+03, 8.35468545e+03,\n",
       "       1.13129952e+04, 1.46548403e+04, 1.80789003e+04, 2.67583533e+04,\n",
       "       3.77926980e+04, 8.82071525e+04, 1.72728345e+05, 4.17453349e+05,\n",
       "       7.96513526e+05, 1.39706708e+06, 1.75177692e+06, 1.74949453e+06,\n",
       "       1.32980401e+06, 7.15336499e+05, 3.69272042e+05, 1.20559192e+05,\n",
       "       6.02095527e+04, 2.29829102e+04, 1.23956716e+04, 6.27307882e+03,\n",
       "       3.62791490e+03, 1.99596566e+03, 1.18891463e+03, 6.55765935e+02,\n",
       "       3.90522166e+02, 2.13981791e+02, 1.30946847e+02, 7.26357388e+01,\n",
       "       4.42379101e+01, 2.55635873e+01, 1.66001981e+01, 1.01552586e+01,\n",
       "       6.64294068e+00, 4.43468927e+00, 2.96968719e+00, 1.97025198e+00,\n",
       "       1.37552369e+00, 8.89840565e-01, 6.57634686e-01, 4.49098993e-01,\n",
       "       3.27032978e-01, 2.32188582e-01, 1.42876199e-01, 1.09999550e-01,\n",
       "       7.52342479e-02, 5.41783848e-02, 3.81927903e-02, 2.44444809e-02,\n",
       "       1.87690054e-02, 1.34821306e-02, 8.62635722e-03, 6.56669196e-03,\n",
       "       4.50658681e-03, 3.20663095e-03, 2.28073732e-03, 1.29817285e-03,\n",
       "       8.95646011e-04, 6.27099653e-04, 3.58619007e-04, 2.08568130e-04,\n",
       "       1.48979267e-04, 8.93920437e-05, 3.49388387e-05, 2.43747756e-05,\n",
       "       1.38107124e-05, 0.00000000e+00, 0.00000000e+00, 0.00000000e+00,\n",
       "       0.00000000e+00, 0.00000000e+00, 0.00000000e+00, 0.00000000e+00,\n",
       "       0.00000000e+00, 0.00000000e+00, 0.00000000e+00, 0.00000000e+00,\n",
       "       0.00000000e+00, 0.00000000e+00, 0.00000000e+00, 0.00000000e+00,\n",
       "       0.00000000e+00, 0.00000000e+00, 0.00000000e+00, 0.00000000e+00,\n",
       "       0.00000000e+00, 0.00000000e+00, 0.00000000e+00, 0.00000000e+00,\n",
       "       0.00000000e+00, 0.00000000e+00, 0.00000000e+00, 0.00000000e+00,\n",
       "       0.00000000e+00])"
      ]
     },
     "execution_count": 12,
     "metadata": {},
     "output_type": "execute_result"
    }
   ],
   "source": [
    "back[\"numu\"]"
   ]
  },
  {
   "cell_type": "code",
   "execution_count": 15,
   "metadata": {},
   "outputs": [
    {
     "data": {
      "text/plain": [
       "Text(0, 0.5, '# counts')"
      ]
     },
     "execution_count": 15,
     "metadata": {},
     "output_type": "execute_result"
    },
    {
     "data": {
      "image/png": "[encoded data removed]",
      "text/plain": [
       "<Figure size 504x504 with 1 Axes>"
      ]
     },
     "metadata": {
      "needs_background": "light"
     },
     "output_type": "display_data"
    }
   ],
   "source": [
    "# Counts comparision ---------\n",
    "plt.figure(figsize=(7,7))\n",
    "plt.title(r'1 year (6th) IceCube sim $m_{x}$ = %.1e GeV, <$\\sigma\\nu$> = %.1e' %(mass_grid[mass_id], sv_grid[sv_id]))\n",
    "plt.step(b.egrid,flux*b.ewidth*total_eff*3600*24*365,label=r\"After applying effective area angle=[0,90]\")\n",
    "plt.step(b.egrid,background_ic['numu'],label='Background')\n",
    "plt.step(b.egrid,back['numu'],label='Background after')\n",
    "plt.step(b.egrid[-len(signal_m[mass_id][sv_id]):],signal_m[mass_id][sv_id]*1e4,label=\"After smearing\")\n",
    "#plt.step(b.egrid[-len(p.signal[mass_id][sv_id]):],p.signal[mass_id][sv_id],label=\"POne\")\n",
    "plt.xscale('log')\n",
    "plt.yscale('log')\n",
    "plt.xlim(1e2,1e7)\n",
    "plt.ylim(1,1e6)\n",
    "plt.grid()\n",
    "plt.legend()\n",
    "plt.xlabel('E [GeV]')\n",
    "plt.ylabel(r'# counts')"
   ]
  },
  {
   "cell_type": "code",
   "execution_count": null,
   "metadata": {},
   "outputs": [],
   "source": [
    "eff_counts = np.sum(flux*b.ewidth*total_eff*60*60*24*365) # \n",
    "smea_counts = np.sum(signal_m[mass_id][sv_id])"
   ]
  },
  {
   "cell_type": "code",
   "execution_count": null,
   "metadata": {},
   "outputs": [
    {
     "data": {
      "text/plain": [
       "918234.6381122026"
      ]
     },
     "execution_count": 14,
     "metadata": {},
     "output_type": "execute_result"
    }
   ],
   "source": [
    "eff_counts/smea_counts"
   ]
  },
  {
   "cell_type": "code",
   "execution_count": null,
   "metadata": {},
   "outputs": [
    {
     "data": {
      "text/plain": [
       "0.03396409792606826"
      ]
     },
     "execution_count": 15,
     "metadata": {},
     "output_type": "execute_result"
    }
   ],
   "source": [
    "smea_counts"
   ]
  },
  {
   "cell_type": "code",
   "execution_count": null,
   "metadata": {},
   "outputs": [
    {
     "data": {
      "text/plain": [
       "31187.011167950703"
      ]
     },
     "execution_count": 16,
     "metadata": {},
     "output_type": "execute_result"
    }
   ],
   "source": [
    "eff_counts"
   ]
  },
  {
   "cell_type": "code",
   "execution_count": null,
   "metadata": {},
   "outputs": [
    {
     "ename": "NameError",
     "evalue": "name 'dete' is not defined",
     "output_type": "error",
     "traceback": [
      "\u001b[0;31m---------------------------------------------------------------------------\u001b[0m",
      "\u001b[0;31mNameError\u001b[0m                                 Traceback (most recent call last)",
      "\u001b[0;32m<ipython-input-17-c50d8fd11992>\u001b[0m in \u001b[0;36m<module>\u001b[0;34m\u001b[0m\n\u001b[0;32m----> 1\u001b[0;31m \u001b[0msmea\u001b[0m \u001b[0;34m=\u001b[0m \u001b[0mdete\u001b[0m\u001b[0;34m.\u001b[0m\u001b[0msmearing_function\u001b[0m\u001b[0;34m(\u001b[0m\u001b[0;36m5\u001b[0m\u001b[0;34m,\u001b[0m \u001b[0;36m20\u001b[0m\u001b[0;34m,\u001b[0m \u001b[0;36m9\u001b[0m\u001b[0;34m)\u001b[0m\u001b[0;34m\u001b[0m\u001b[0;34m\u001b[0m\u001b[0m\n\u001b[0m",
      "\u001b[0;31mNameError\u001b[0m: name 'dete' is not defined"
     ]
    }
   ],
   "source": [
    "smea = dete.smearing_function(5, 20, 9)"
   ]
  },
  {
   "cell_type": "code",
   "execution_count": null,
   "metadata": {},
   "outputs": [],
   "source": [
    "tmp_counts = np.trapz(smea[1],smea[0])"
   ]
  },
  {
   "cell_type": "code",
   "execution_count": null,
   "metadata": {},
   "outputs": [],
   "source": [
    "smea_array = np.array([dete.smearing_function(e, 20, 9) for e in np.linspace(0, 6, 100)])"
   ]
  },
  {
   "cell_type": "code",
   "execution_count": null,
   "metadata": {},
   "outputs": [],
   "source": [
    "total_smea_counts = np.array([np.trapz(elem[1],elem[0])for elem in smea_array ])"
   ]
  },
  {
   "cell_type": "code",
   "execution_count": null,
   "metadata": {},
   "outputs": [
    {
     "data": {
      "text/plain": [
       "[<matplotlib.lines.Line2D at 0x7f345a498310>]"
      ]
     },
     "execution_count": 21,
     "metadata": {},
     "output_type": "execute_result"
    },
    {
     "data": {
      "image/png": "[encoded data removed]",
      "text/plain": [
       "<Figure size 432x288 with 1 Axes>"
      ]
     },
     "metadata": {
      "needs_background": "light"
     },
     "output_type": "display_data"
    }
   ],
   "source": [
    "plt.plot(np.linspace(0,6,100),total_smea_counts)"
   ]
  },
  {
   "cell_type": "code",
   "execution_count": null,
   "metadata": {},
   "outputs": [
    {
     "ename": "TypeError",
     "evalue": "object of type 'numpy.float64' has no len()",
     "output_type": "error",
     "traceback": [
      "\u001b[0;31m---------------------------------------------------------------------------\u001b[0m",
      "\u001b[0;31mTypeError\u001b[0m                                 Traceback (most recent call last)",
      "\u001b[0;32m<ipython-input-22-a9f030131785>\u001b[0m in \u001b[0;36m<module>\u001b[0;34m\u001b[0m\n\u001b[1;32m     19\u001b[0m                                     ext=1)(np.log10(b.egrid)))\n\u001b[1;32m     20\u001b[0m         \u001b[0mlocal_sp\u001b[0m \u001b[0;34m=\u001b[0m \u001b[0mnp\u001b[0m\u001b[0;34m.\u001b[0m\u001b[0mtrapz\u001b[0m\u001b[0;34m(\u001b[0m\u001b[0mlocal_sp\u001b[0m\u001b[0;34m,\u001b[0m \u001b[0mx\u001b[0m\u001b[0;34m=\u001b[0m \u001b[0mnp\u001b[0m\u001b[0;34m.\u001b[0m\u001b[0mlog10\u001b[0m\u001b[0;34m(\u001b[0m\u001b[0mb\u001b[0m\u001b[0;34m.\u001b[0m\u001b[0megrid\u001b[0m\u001b[0;34m)\u001b[0m\u001b[0;34m)\u001b[0m\u001b[0;34m\u001b[0m\u001b[0;34m\u001b[0m\u001b[0m\n\u001b[0;32m---> 21\u001b[0;31m         \u001b[0mprint\u001b[0m\u001b[0;34m(\u001b[0m\u001b[0mlen\u001b[0m\u001b[0;34m(\u001b[0m\u001b[0mlocal_sp\u001b[0m\u001b[0;34m)\u001b[0m\u001b[0;34m)\u001b[0m\u001b[0;34m\u001b[0m\u001b[0;34m\u001b[0m\u001b[0m\n\u001b[0m\u001b[1;32m     22\u001b[0m         \u001b[0mi\u001b[0m\u001b[0;34m=\u001b[0m\u001b[0mj\u001b[0m\u001b[0;34m\u001b[0m\u001b[0;34m\u001b[0m\u001b[0m\n\u001b[1;32m     23\u001b[0m         \u001b[0mtmp_1\u001b[0m\u001b[0;34m.\u001b[0m\u001b[0mappend\u001b[0m\u001b[0;34m(\u001b[0m\u001b[0;36m1\u001b[0m\u001b[0;34m*\u001b[0m\u001b[0mlocal_sp\u001b[0m\u001b[0;34m)\u001b[0m\u001b[0;34m\u001b[0m\u001b[0;34m\u001b[0m\u001b[0m\n",
      "\u001b[0;31mTypeError\u001b[0m: object of type 'numpy.float64' has no len()"
     ]
    }
   ],
   "source": [
    "for theta in np.linspace(0,15,20):\n",
    "    check_angle = theta\n",
    "    tmp_1 = []\n",
    "    tmp_2 = []\n",
    "    log_egrid = np.linspace(0,6,100)\n",
    "    i = 0\n",
    "    for j,id_check in enumerate(range(len(log_egrid))):\n",
    "        smearing_e, smearing = dete.smearing_function(\n",
    "                                                    log_egrid[\n",
    "                                                        id_check],\n",
    "                                                    check_angle,\n",
    "                                                    9)\n",
    "        # print(len(at_counts_unsm[theta]), len(smearing))\n",
    "        if len(smearing) < 3:\n",
    "            continue\n",
    "        local_sp = (UnivariateSpline(smearing_e,\n",
    "                                    (smearing),\n",
    "                                    k=1, s=0,\n",
    "                                    ext=1)(np.log10(b.egrid)))\n",
    "        local_sp = np.trapz(local_sp, x= np.log10(b.egrid))\n",
    "        i=j\n",
    "        tmp_1.append(1*local_sp)\n",
    "    tmp_bkgrd = np.sum(tmp_1, axis=0)\n",
    "\n"
   ]
  },
  {
   "cell_type": "code",
   "execution_count": null,
   "metadata": {},
   "outputs": [],
   "source": [
    "a = []\n",
    "b = [[6,7,8,9,10],[21,22,23,24,25]]\n",
    "c = [[11,12,13,14,15],[31,32,33,34,35]]\n"
   ]
  },
  {
   "cell_type": "code",
   "execution_count": null,
   "metadata": {},
   "outputs": [],
   "source": []
  },
  {
   "cell_type": "code",
   "execution_count": null,
   "metadata": {},
   "outputs": [
    {
     "data": {
      "text/plain": [
       "[array([[17, 19, 21, 23, 25],\n",
       "        [52, 54, 56, 58, 60]])]"
      ]
     },
     "execution_count": 48,
     "metadata": {},
     "output_type": "execute_result"
    }
   ],
   "source": [
    "a.append((np.array(b) + np.array(c)))\n",
    "a"
   ]
  },
  {
   "cell_type": "code",
   "execution_count": null,
   "metadata": {},
   "outputs": [],
   "source": [
    "np.sum(tmp_bkgrd)/i\n"
   ]
  },
  {
   "cell_type": "code",
   "execution_count": null,
   "metadata": {},
   "outputs": [],
   "source": [
    "plt.plot(np.log10(b.egrid),tmp_bkgrd)"
   ]
  },
  {
   "cell_type": "code",
   "execution_count": null,
   "metadata": {},
   "outputs": [],
   "source": []
  }
 ],
 "metadata": {
  "interpreter": {
   "hash": "82a3a656d33f35b7f3fe77a22343614a58c995dc979ba6da45d214804d59b344"
  },
  "kernelspec": {
   "display_name": "Python 3.9.5 64-bit ('pdm': conda)",
   "name": "python3"
  },
  "language_info": {
   "codemirror_mode": {
    "name": "ipython",
    "version": 3
   },
   "file_extension": ".py",
   "mimetype": "text/x-python",
   "name": "python",
   "nbconvert_exporter": "python",
   "pygments_lexer": "ipython3",
   "version": "3.9.5"
  },
  "orig_nbformat": 4
 },
 "nbformat": 4,
 "nbformat_minor": 2
}
