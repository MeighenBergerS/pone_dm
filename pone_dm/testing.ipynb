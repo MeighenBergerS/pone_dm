{
 "cells": [
  {
   "cell_type": "code",
   "execution_count": 1,
   "metadata": {},
   "outputs": [],
   "source": [
    "#  For sting e changes I made in python files"
   ]
  },
  {
   "cell_type": "code",
   "execution_count": 2,
   "metadata": {},
   "outputs": [],
   "source": [
    "from config import config\n",
    "from pone_aeff import Aeff\n",
    "from dm2nu import DM2Nu\n",
    "from atm_shower import Atm_Shower\n",
    "from detectors import Detector\n",
    "import numpy as np\n",
    "import matplotlib.pyplot as plt\n",
    "from limit_calc import Limits\n",
    "from bkgrd_calc import Background\n",
    "from signal_calc import Signal\n",
    "from pdm import PDM\n"
   ]
  },
  {
   "cell_type": "code",
   "execution_count": 3,
   "metadata": {},
   "outputs": [],
   "source": [
    "config[\"general\"][\"detector\"] = \"POne\"\n",
    "config[\"general\"][\"year\"] = 8"
   ]
  },
  {
   "cell_type": "code",
   "execution_count": 4,
   "metadata": {},
   "outputs": [],
   "source": [
    "#b = Atm_Shower()"
   ]
  },
  {
   "cell_type": "code",
   "execution_count": 5,
   "metadata": {},
   "outputs": [],
   "source": [
    "#Ae = Aeff()"
   ]
  },
  {
   "cell_type": "code",
   "execution_count": 6,
   "metadata": {},
   "outputs": [],
   "source": [
    "#dm = DM2Nu()"
   ]
  },
  {
   "cell_type": "code",
   "execution_count": 7,
   "metadata": {},
   "outputs": [],
   "source": [
    "#dete = Detector(Ae)\n"
   ]
  },
  {
   "cell_type": "code",
   "execution_count": 8,
   "metadata": {},
   "outputs": [],
   "source": [
    "#bac = Background(b, dete)\n"
   ]
  },
  {
   "cell_type": "code",
   "execution_count": 9,
   "metadata": {},
   "outputs": [],
   "source": [
    "#s = Signal(Ae, dm, dete)\n",
    "#angle_grid = config['atmospheric showers']['theta angles']"
   ]
  },
  {
   "cell_type": "code",
   "execution_count": 10,
   "metadata": {},
   "outputs": [
    {
     "name": "stderr",
     "output_type": "stream",
     "text": [
      "  0%|          | 0/20 [00:00<?, ?it/s]/home/kruteesh/Desktop/DM_nu_simulation_P-One/PONE_git/pone_work/pone_dm/dm2nu.py:340: RuntimeWarning: overflow encountered in exp\n",
      "  dd = np.exp(d_2 / s_in(x)**2)\n",
      "/home/kruteesh/Desktop/DM_nu_simulation_P-One/PONE_git/pone_work/pone_dm/dm2nu.py:341: RuntimeWarning: overflow encountered in multiply\n",
      "  return A * aa * dd\n",
      "100%|██████████| 20/20 [00:16<00:00,  1.20it/s]\n"
     ]
    }
   ],
   "source": [
    "pdm = PDM()"
   ]
  },
  {
   "cell_type": "code",
   "execution_count": 11,
   "metadata": {},
   "outputs": [
    {
     "data": {
      "text/plain": [
       "array([[5.72666023e-001, 3.92234045e-001, 7.10310181e-001,\n",
       "        4.25391096e-001, 7.42953786e-001, 5.30125760e-001,\n",
       "        8.17561719e-001, 6.62251360e-001, 4.49293463e-001,\n",
       "        7.82283236e-001, 6.56545367e-001, 8.87960430e-001,\n",
       "        8.39414578e-001, 8.08284583e-001, 9.47245588e-001,\n",
       "        9.41180250e-001, 9.85872514e-001, 9.85707461e-001,\n",
       "        9.96793257e-001, 9.96944758e-001],\n",
       "       [3.15547397e-001, 1.44207907e-001, 4.92748694e-001,\n",
       "        1.70573646e-001, 5.40756996e-001, 2.68968798e-001,\n",
       "        6.59163172e-001, 4.26257057e-001, 1.91001509e-001,\n",
       "        6.01665958e-001, 4.18692823e-001, 7.82022519e-001,\n",
       "        6.96140493e-001, 6.43780419e-001, 8.93918348e-001,\n",
       "        8.82115390e-001, 9.70988971e-001, 9.70652639e-001,\n",
       "        9.93376179e-001, 9.93688606e-001],\n",
       "       [9.19380930e-002, 1.81899819e-002, 2.31206308e-001,\n",
       "        2.57465907e-002, 2.80249325e-001, 6.60654637e-002,\n",
       "        4.22154467e-001, 1.71292902e-001, 3.25361274e-002,\n",
       "        3.49507049e-001, 1.65062955e-001, 6.01251126e-001,\n",
       "        4.72626598e-001, 4.02024039e-001, 7.92918461e-001,\n",
       "        7.71408694e-001, 9.40902483e-001, 9.40228254e-001,\n",
       "        9.86342923e-001, 9.86984908e-001],\n",
       "       [7.16686212e-003, 2.50814521e-004, 4.83089408e-002,\n",
       "        5.14706519e-004, 7.19272475e-002, 3.61713132e-003,\n",
       "        1.67899185e-001, 2.59717339e-002, 8.35371300e-004,\n",
       "        1.13591883e-001, 2.40552030e-002, 3.49008620e-001,\n",
       "        2.12096317e-001, 1.51754923e-001, 6.18713957e-001,\n",
       "        5.84488710e-001, 8.81576804e-001, 8.80270195e-001,\n",
       "        9.71947861e-001, 9.73257286e-001],\n",
       "       [3.65072958e-005, 3.54620229e-008, 1.89265396e-003,\n",
       "        1.56950565e-007, 4.31275402e-003, 8.86989631e-006,\n",
       "        2.49183065e-002, 5.24063034e-004, 4.27507522e-007,\n",
       "        1.11015372e-002, 4.47196042e-004, 1.13256954e-001,\n",
       "        4.04114140e-002, 2.02148890e-002, 3.70308634e-001,\n",
       "        3.29175574e-001, 7.70434463e-001, 7.68073623e-001,\n",
       "        9.42826098e-001, 9.45456192e-001],\n",
       "       [6.57583298e-010, 3.84089078e-016, 2.32211844e-006,\n",
       "        8.33861399e-015, 1.27638254e-005, 3.52002598e-011,\n",
       "        4.81033601e-004, 1.62911419e-007, 6.63045288e-014,\n",
       "        9.02875310e-005, 1.17332347e-007, 1.10339145e-002,\n",
       "        1.30817082e-003, 3.12032686e-004, 1.28026245e-001,\n",
       "        1.00343923e-001, 5.82962376e-001, 5.79272184e-001,\n",
       "        8.85310144e-001, 8.90427809e-001],\n",
       "       [1.00247208e-019, 1.26783028e-032, 2.19905853e-012,\n",
       "        7.39263368e-030, 7.47478346e-011, 2.34617270e-022,\n",
       "        1.36446626e-007, 9.00721244e-015, 5.39452451e-028,\n",
       "        4.28188914e-009, 4.56739277e-015, 8.91532766e-005,\n",
       "        1.08138572e-006, 5.57206149e-008, 1.42193054e-002,\n",
       "        8.58909008e-003, 3.27399407e-001, 3.23125709e-001,\n",
       "        7.77200660e-001, 7.86525453e-001],\n",
       "       [4.88197063e-040, 1.00191089e-066, 7.55924115e-025,\n",
       "        5.29082075e-061, 1.11449281e-021, 1.75909036e-045,\n",
       "        6.24151625e-015, 8.67177786e-030, 3.79005845e-057,\n",
       "        4.83835989e-018, 2.12752028e-030, 4.17133321e-009,\n",
       "        4.52357847e-013, 9.78374804e-016, 1.50678164e-004,\n",
       "        5.30947262e-005, 9.92268475e-002, 9.65654822e-002,\n",
       "        5.93605607e-001, 6.08436620e-001],\n",
       "       [4.56326015e-082, 2.74537807e-137, 1.22811962e-050,\n",
       "        1.90390881e-125, 4.42088962e-044, 2.49069988e-093,\n",
       "        4.05969892e-030, 7.36093279e-061, 1.80479409e-117,\n",
       "        1.48678988e-036, 4.02043959e-062, 4.58344107e-018,\n",
       "        2.86739800e-026, 8.77572196e-032, 1.23554444e-008,\n",
       "        1.42738467e-009, 8.39242088e-003, 7.93334539e-003,\n",
       "        3.39888191e-001, 3.57694080e-001],\n",
       "       [4.95232149e-169, 2.72653652e-283, 5.34253299e-104,\n",
       "        8.63706809e-259, 1.96595274e-090, 2.45585180e-192,\n",
       "        1.53078894e-061, 3.77034273e-125, 2.76330450e-242,\n",
       "        7.36948739e-075, 9.19950301e-128, 1.32926438e-036,\n",
       "        1.40933971e-053, 5.48736541e-065, 4.33473951e-017,\n",
       "        4.98337988e-019, 5.06099676e-005, 4.50490013e-005,\n",
       "        1.07218475e-001, 1.19166495e-001],\n",
       "       [0.00000000e+000, 0.00000000e+000, 2.06751674e-214,\n",
       "        0.00000000e+000, 2.42669909e-186, 0.00000000e+000,\n",
       "        1.46282499e-126, 3.55100583e-258, 0.00000000e+000,\n",
       "        4.06903500e-154, 1.39472045e-263, 5.84518237e-075,\n",
       "        4.40570829e-110, 1.08610219e-133, 1.38872748e-034,\n",
       "        1.34787593e-038, 1.29262111e-009, 1.01595499e-009,\n",
       "        9.85130930e-003, 1.22584455e-002],\n",
       "       [0.00000000e+000, 0.00000000e+000, 0.00000000e+000,\n",
       "        0.00000000e+000, 0.00000000e+000, 0.00000000e+000,\n",
       "        4.26980072e-261, 0.00000000e+000, 0.00000000e+000,\n",
       "        0.00000000e+000, 0.00000000e+000, 2.51915561e-154,\n",
       "        5.33787704e-227, 7.56583076e-276, 8.79831629e-071,\n",
       "        4.37538730e-079, 4.05888423e-019, 2.46593426e-019,\n",
       "        7.05118212e-005, 1.10843159e-004],\n",
       "       [0.00000000e+000, 0.00000000e+000, 0.00000000e+000,\n",
       "        0.00000000e+000, 0.00000000e+000, 0.00000000e+000,\n",
       "        0.00000000e+000, 0.00000000e+000, 0.00000000e+000,\n",
       "        0.00000000e+000, 0.00000000e+000, 0.00000000e+000,\n",
       "        0.00000000e+000, 0.00000000e+000, 1.10991407e-145,\n",
       "        7.31885676e-163, 8.81564019e-039, 3.14369420e-039,\n",
       "        2.56732388e-009, 6.54570691e-009],\n",
       "       [0.00000000e+000, 0.00000000e+000, 0.00000000e+000,\n",
       "        0.00000000e+000, 0.00000000e+000, 0.00000000e+000,\n",
       "        0.00000000e+000, 0.00000000e+000, 0.00000000e+000,\n",
       "        0.00000000e+000, 0.00000000e+000, 0.00000000e+000,\n",
       "        0.00000000e+000, 0.00000000e+000, 1.17135401e-300,\n",
       "        0.00000000e+000, 1.81750488e-079, 2.15222411e-080,\n",
       "        1.67891727e-018, 1.16435135e-017],\n",
       "       [0.00000000e+000, 0.00000000e+000, 0.00000000e+000,\n",
       "        0.00000000e+000, 0.00000000e+000, 0.00000000e+000,\n",
       "        0.00000000e+000, 0.00000000e+000, 0.00000000e+000,\n",
       "        0.00000000e+000, 0.00000000e+000, 0.00000000e+000,\n",
       "        0.00000000e+000, 0.00000000e+000, 0.00000000e+000,\n",
       "        0.00000000e+000, 1.18845409e-163, 1.43794971e-165,\n",
       "        1.66391535e-037, 9.14933749e-036],\n",
       "       [0.00000000e+000, 0.00000000e+000, 0.00000000e+000,\n",
       "        0.00000000e+000, 0.00000000e+000, 0.00000000e+000,\n",
       "        0.00000000e+000, 0.00000000e+000, 0.00000000e+000,\n",
       "        0.00000000e+000, 0.00000000e+000, 0.00000000e+000,\n",
       "        0.00000000e+000, 0.00000000e+000, 0.00000000e+000,\n",
       "        0.00000000e+000, 0.00000000e+000, 0.00000000e+000,\n",
       "        7.93308382e-077, 3.16429533e-073],\n",
       "       [0.00000000e+000, 0.00000000e+000, 0.00000000e+000,\n",
       "        0.00000000e+000, 0.00000000e+000, 0.00000000e+000,\n",
       "        0.00000000e+000, 0.00000000e+000, 0.00000000e+000,\n",
       "        0.00000000e+000, 0.00000000e+000, 0.00000000e+000,\n",
       "        0.00000000e+000, 0.00000000e+000, 0.00000000e+000,\n",
       "        0.00000000e+000, 0.00000000e+000, 0.00000000e+000,\n",
       "        3.44697026e-158, 9.72886756e-151],\n",
       "       [0.00000000e+000, 0.00000000e+000, 0.00000000e+000,\n",
       "        0.00000000e+000, 0.00000000e+000, 0.00000000e+000,\n",
       "        0.00000000e+000, 0.00000000e+000, 0.00000000e+000,\n",
       "        0.00000000e+000, 0.00000000e+000, 0.00000000e+000,\n",
       "        0.00000000e+000, 0.00000000e+000, 0.00000000e+000,\n",
       "        0.00000000e+000, 0.00000000e+000, 0.00000000e+000,\n",
       "        0.00000000e+000, 4.02334306e-311],\n",
       "       [0.00000000e+000, 0.00000000e+000, 0.00000000e+000,\n",
       "        0.00000000e+000, 0.00000000e+000, 0.00000000e+000,\n",
       "        0.00000000e+000, 0.00000000e+000, 0.00000000e+000,\n",
       "        0.00000000e+000, 0.00000000e+000, 0.00000000e+000,\n",
       "        0.00000000e+000, 0.00000000e+000, 0.00000000e+000,\n",
       "        0.00000000e+000, 0.00000000e+000, 0.00000000e+000,\n",
       "        0.00000000e+000, 0.00000000e+000],\n",
       "       [0.00000000e+000, 0.00000000e+000, 0.00000000e+000,\n",
       "        0.00000000e+000, 0.00000000e+000, 0.00000000e+000,\n",
       "        0.00000000e+000, 0.00000000e+000, 0.00000000e+000,\n",
       "        0.00000000e+000, 0.00000000e+000, 0.00000000e+000,\n",
       "        0.00000000e+000, 0.00000000e+000, 0.00000000e+000,\n",
       "        0.00000000e+000, 0.00000000e+000, 0.00000000e+000,\n",
       "        0.00000000e+000, 0.00000000e+000]])"
      ]
     },
     "execution_count": 11,
     "metadata": {},
     "output_type": "execute_result"
    }
   ],
   "source": [
    "pdm.results['numu']"
   ]
  },
  {
   "cell_type": "code",
   "execution_count": 12,
   "metadata": {},
   "outputs": [],
   "source": [
    "surface_flux_dic = pdm.results['numu']"
   ]
  },
  {
   "cell_type": "code",
   "execution_count": 13,
   "metadata": {},
   "outputs": [],
   "source": [
    "mass_grid = config['simulation parameters']['mass grid']\n",
    "sv_grid = config['simulation parameters']['sv grid']"
   ]
  },
  {
   "cell_type": "code",
   "execution_count": 14,
   "metadata": {},
   "outputs": [
    {
     "data": {
      "text/plain": [
       "<matplotlib.colorbar.Colorbar at 0x7f7a6da22be0>"
      ]
     },
     "execution_count": 14,
     "metadata": {},
     "output_type": "execute_result"
    },
    {
     "data": {
      "image/png": "[encoded data removed]",
      "text/plain": [
       "<Figure size 432x288 with 2 Axes>"
      ]
     },
     "metadata": {
      "needs_background": "light"
     },
     "output_type": "display_data"
    }
   ],
   "source": [
    "plt.imshow(surface_flux_dic,\n",
    "                origin='lower', extent=(min(np.log10(mass_grid)), max(np.log10(mass_grid)),\n",
    "                                        min(np.log10(sv_grid)), max(np.log10(sv_grid))))  #  origin!!!!!!!!!!\n",
    "plt.colorbar()"
   ]
  },
  {
   "cell_type": "code",
   "execution_count": 15,
   "metadata": {},
   "outputs": [
    {
     "ename": "NameError",
     "evalue": "name 'bac' is not defined",
     "output_type": "error",
     "traceback": [
      "\u001b[0;31m---------------------------------------------------------------------------\u001b[0m",
      "\u001b[0;31mNameError\u001b[0m                                 Traceback (most recent call last)",
      "\u001b[0;32m<ipython-input-15-f899320e3850>\u001b[0m in \u001b[0;36m<module>\u001b[0;34m\u001b[0m\n\u001b[0;32m----> 1\u001b[0;31m \u001b[0mtest\u001b[0m \u001b[0;34m=\u001b[0m \u001b[0mbac\u001b[0m\u001b[0;34m.\u001b[0m\u001b[0mbkgrd\u001b[0m \u001b[0;31m# labels : neutrino flavours ( total = atro + atmos )\u001b[0m\u001b[0;34m\u001b[0m\u001b[0;34m\u001b[0m\u001b[0m\n\u001b[0m",
      "\u001b[0;31mNameError\u001b[0m: name 'bac' is not defined"
     ]
    }
   ],
   "source": [
    "test = bac.bkgrd # labels : neutrino flavours ( total = atro + atmos )"
   ]
  },
  {
   "cell_type": "code",
   "execution_count": null,
   "metadata": {},
   "outputs": [
    {
     "data": {
      "text/plain": [
       "Text(0, 0.5, '# Counts (Astro + Atmos)')"
      ]
     },
     "execution_count": 22,
     "metadata": {},
     "output_type": "execute_result"
    },
    {
     "data": {
      "image/png": "[encoded data removed]",
      "text/plain": [
       "<Figure size 432x288 with 1 Axes>"
      ]
     },
     "metadata": {
      "needs_background": "light"
     },
     "output_type": "display_data"
    }
   ],
   "source": [
    "plt.step(b.egrid,test['numu'])\n",
    "plt.xscale('log')\n",
    "plt.yscale('log')\n",
    "plt.xlim(1e3,1e7)\n",
    "plt.ylim(1,1e6)\n",
    "plt.xlabel('E [GeV]')\n",
    "plt.ylabel('# Counts (Astro + Atmos)')\n"
   ]
  },
  {
   "cell_type": "code",
   "execution_count": null,
   "metadata": {},
   "outputs": [],
   "source": [
    "plt.bar(np.log10(x._egrid), test['numu'])\n",
    "#plt.bar(np.log10(x._egrid), integrated_grid_astro)\n",
    "plt.yscale(\"log\")\n",
    "plt.ylim(1., 1e3)\n",
    "plt.xlim(4, 6.5)"
   ]
  },
  {
   "cell_type": "code",
   "execution_count": null,
   "metadata": {},
   "outputs": [],
   "source": []
  }
 ],
 "metadata": {
  "interpreter": {
   "hash": "82a3a656d33f35b7f3fe77a22343614a58c995dc979ba6da45d214804d59b344"
  },
  "kernelspec": {
   "display_name": "Python 3.9.5 64-bit ('pdm': conda)",
   "name": "python3"
  },
  "language_info": {
   "codemirror_mode": {
    "name": "ipython",
    "version": 3
   },
   "file_extension": ".py",
   "mimetype": "text/x-python",
   "name": "python",
   "nbconvert_exporter": "python",
   "pygments_lexer": "ipython3",
   "version": "3.9.5"
  },
  "orig_nbformat": 4
 },
 "nbformat": 4,
 "nbformat_minor": 2
}
