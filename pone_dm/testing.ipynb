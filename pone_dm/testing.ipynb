{
 "cells": [
  {
   "cell_type": "code",
   "execution_count": 1,
   "metadata": {},
   "outputs": [],
   "source": [
    "#  For sting e changes I made in python files"
   ]
  },
  {
   "cell_type": "code",
   "execution_count": 2,
   "metadata": {},
   "outputs": [],
   "source": [
    "from config import config\n",
    "from pone_aeff import Aeff\n",
    "from dm2nu import DM2Nu\n",
    "from atm_shower import Atm_Shower\n",
    "from detectors import Detector\n",
    "import numpy as np\n",
    "import matplotlib.pyplot as plt\n",
    "from limit_calc import Limits\n",
    "from bkgrd_calc import Background"
   ]
  },
  {
   "cell_type": "code",
   "execution_count": 3,
   "metadata": {},
   "outputs": [],
   "source": [
    "config[\"general\"][\"detector\"]=\"IceCube\"\n",
    "config[\"general\"][\"year\"] = 5"
   ]
  },
  {
   "cell_type": "code",
   "execution_count": 4,
   "metadata": {},
   "outputs": [
    {
     "data": {
      "text/plain": [
       "array([8.91250938e-02, 1.12201845e-01, 1.41253754e-01, 1.77827941e-01,\n",
       "       2.23872114e-01, 2.81838293e-01, 3.54813389e-01, 4.46683592e-01,\n",
       "       5.62341325e-01, 7.07945784e-01, 8.91250938e-01, 1.12201845e+00,\n",
       "       1.41253754e+00, 1.77827941e+00, 2.23872114e+00, 2.81838293e+00,\n",
       "       3.54813389e+00, 4.46683592e+00, 5.62341325e+00, 7.07945784e+00,\n",
       "       8.91250938e+00, 1.12201845e+01, 1.41253754e+01, 1.77827941e+01,\n",
       "       2.23872114e+01, 2.81838293e+01, 3.54813389e+01, 4.46683592e+01,\n",
       "       5.62341325e+01, 7.07945784e+01, 8.91250938e+01, 1.12201845e+02,\n",
       "       1.41253754e+02, 1.77827941e+02, 2.23872114e+02, 2.81838293e+02,\n",
       "       3.54813389e+02, 4.46683592e+02, 5.62341325e+02, 7.07945784e+02,\n",
       "       8.91250938e+02, 1.12201845e+03, 1.41253754e+03, 1.77827941e+03,\n",
       "       2.23872114e+03, 2.81838293e+03, 3.54813389e+03, 4.46683592e+03,\n",
       "       5.62341325e+03, 7.07945784e+03, 8.91250938e+03, 1.12201845e+04,\n",
       "       1.41253754e+04, 1.77827941e+04, 2.23872114e+04, 2.81838293e+04,\n",
       "       3.54813389e+04, 4.46683592e+04, 5.62341325e+04, 7.07945784e+04,\n",
       "       8.91250938e+04, 1.12201845e+05, 1.41253754e+05, 1.77827941e+05,\n",
       "       2.23872114e+05, 2.81838293e+05, 3.54813389e+05, 4.46683592e+05,\n",
       "       5.62341325e+05, 7.07945784e+05, 8.91250938e+05, 1.12201845e+06,\n",
       "       1.41253754e+06, 1.77827941e+06, 2.23872114e+06, 2.81838293e+06,\n",
       "       3.54813389e+06, 4.46683592e+06, 5.62341325e+06, 7.07945784e+06,\n",
       "       8.91250938e+06, 1.12201845e+07, 1.41253754e+07, 1.77827941e+07,\n",
       "       2.23872114e+07, 2.81838293e+07, 3.54813389e+07, 4.46683592e+07,\n",
       "       5.62341325e+07, 7.07945784e+07, 8.91250938e+07, 1.12201845e+08,\n",
       "       1.41253754e+08, 1.77827941e+08, 2.23872114e+08, 2.81838293e+08,\n",
       "       3.54813389e+08, 4.46683592e+08, 5.62341325e+08, 7.07945784e+08,\n",
       "       8.91250938e+08, 1.12201845e+09, 1.41253754e+09, 1.77827941e+09,\n",
       "       2.23872114e+09, 2.81838293e+09, 3.54813389e+09, 4.46683592e+09,\n",
       "       5.62341325e+09, 7.07945784e+09, 8.91250938e+09, 1.12201845e+10,\n",
       "       1.41253754e+10, 1.77827941e+10, 2.23872114e+10, 2.81838293e+10,\n",
       "       3.54813389e+10, 4.46683592e+10, 5.62341325e+10, 7.07945784e+10,\n",
       "       8.91250938e+10])"
      ]
     },
     "execution_count": 4,
     "metadata": {},
     "output_type": "execute_result"
    }
   ],
   "source": [
    "b = Atm_Shower()\n",
    "b._egrid"
   ]
  },
  {
   "cell_type": "code",
   "execution_count": 5,
   "metadata": {},
   "outputs": [
    {
     "name": "stdout",
     "output_type": "stream",
     "text": [
      "<class 'numpy.ndarray'>\n"
     ]
    },
    {
     "ename": "TypeError",
     "evalue": "galactic_flux() missing 1 required positional argument: 'J'",
     "output_type": "error",
     "traceback": [
      "\u001b[0;31m---------------------------------------------------------------------------\u001b[0m",
      "\u001b[0;31mTypeError\u001b[0m                                 Traceback (most recent call last)",
      "\u001b[0;32m<ipython-input-5-131108f12949>\u001b[0m in \u001b[0;36m<module>\u001b[0;34m\u001b[0m\n\u001b[0;32m----> 1\u001b[0;31m \u001b[0mx\u001b[0m\u001b[0;34m=\u001b[0m \u001b[0mLimits\u001b[0m\u001b[0;34m(\u001b[0m\u001b[0mAeff\u001b[0m\u001b[0;34m,\u001b[0m \u001b[0mDM2Nu\u001b[0m\u001b[0;34m,\u001b[0m \u001b[0mAtm_Shower\u001b[0m\u001b[0;34m,\u001b[0m \u001b[0mDetector\u001b[0m\u001b[0;34m,\u001b[0m \u001b[0mBackground\u001b[0m\u001b[0;34m)\u001b[0m\u001b[0;34m\u001b[0m\u001b[0;34m\u001b[0m\u001b[0m\n\u001b[0m",
      "\u001b[0;32m~/Desktop/DM_nu_simulation_P-One/PONE_git/pone_work/pone_dm/limit_calc.py\u001b[0m in \u001b[0;36m__init__\u001b[0;34m(self, aeff, dm_nu, shower_sim, detector, background)\u001b[0m\n\u001b[1;32m     51\u001b[0m         \u001b[0mself\u001b[0m\u001b[0;34m.\u001b[0m\u001b[0mbkgrd\u001b[0m \u001b[0;34m=\u001b[0m \u001b[0mself\u001b[0m\u001b[0;34m.\u001b[0m\u001b[0m_detector\u001b[0m\u001b[0;34m.\u001b[0m\u001b[0msim2dec\u001b[0m\u001b[0;34m\u001b[0m\u001b[0;34m\u001b[0m\u001b[0m\n\u001b[1;32m     52\u001b[0m         \u001b[0;32mif\u001b[0m \u001b[0mself\u001b[0m\u001b[0;34m.\u001b[0m\u001b[0mname\u001b[0m \u001b[0;34m==\u001b[0m \u001b[0;34m'IceCube'\u001b[0m\u001b[0;34m:\u001b[0m\u001b[0;34m\u001b[0m\u001b[0;34m\u001b[0m\u001b[0m\n\u001b[0;32m---> 53\u001b[0;31m             \u001b[0mself\u001b[0m\u001b[0;34m.\u001b[0m\u001b[0mlimit\u001b[0m \u001b[0;34m=\u001b[0m \u001b[0mself\u001b[0m\u001b[0;34m.\u001b[0m\u001b[0mlimit_calc_ice\u001b[0m\u001b[0;34m(\u001b[0m\u001b[0mself\u001b[0m\u001b[0;34m.\u001b[0m\u001b[0m_massgrid\u001b[0m\u001b[0;34m,\u001b[0m \u001b[0mself\u001b[0m\u001b[0;34m.\u001b[0m\u001b[0m_svgrid\u001b[0m\u001b[0;34m)\u001b[0m\u001b[0;34m\u001b[0m\u001b[0;34m\u001b[0m\u001b[0m\n\u001b[0m\u001b[1;32m     54\u001b[0m \u001b[0;34m\u001b[0m\u001b[0m\n\u001b[1;32m     55\u001b[0m         \u001b[0;32melif\u001b[0m \u001b[0mself\u001b[0m\u001b[0;34m.\u001b[0m\u001b[0mname\u001b[0m \u001b[0;34m==\u001b[0m \u001b[0;34m'POne'\u001b[0m\u001b[0;34m:\u001b[0m\u001b[0;34m\u001b[0m\u001b[0;34m\u001b[0m\u001b[0m\n",
      "\u001b[0;32m~/Desktop/DM_nu_simulation_P-One/PONE_git/pone_work/pone_dm/limit_calc.py\u001b[0m in \u001b[0;36mlimit_calc_ice\u001b[0;34m(self, mass_grid, sv_grid)\u001b[0m\n\u001b[1;32m     74\u001b[0m \u001b[0;34m\u001b[0m\u001b[0m\n\u001b[1;32m     75\u001b[0m             self._limit_scan_grid_base = np.array(\n\u001b[0;32m---> 76\u001b[0;31m                 [[\n\u001b[0m\u001b[1;32m     77\u001b[0m                   ((self._signal_calc_ice(self._egrid, mass,\n\u001b[1;32m     78\u001b[0m                     sv)**2.\n",
      "\u001b[0;32m~/Desktop/DM_nu_simulation_P-One/PONE_git/pone_work/pone_dm/limit_calc.py\u001b[0m in \u001b[0;36m<listcomp>\u001b[0;34m(.0)\u001b[0m\n\u001b[1;32m     74\u001b[0m \u001b[0;34m\u001b[0m\u001b[0m\n\u001b[1;32m     75\u001b[0m             self._limit_scan_grid_base = np.array(\n\u001b[0;32m---> 76\u001b[0;31m                 [[\n\u001b[0m\u001b[1;32m     77\u001b[0m                   ((self._signal_calc_ice(self._egrid, mass,\n\u001b[1;32m     78\u001b[0m                     sv)**2.\n",
      "\u001b[0;32m~/Desktop/DM_nu_simulation_P-One/PONE_git/pone_work/pone_dm/limit_calc.py\u001b[0m in \u001b[0;36m<listcomp>\u001b[0;34m(.0)\u001b[0m\n\u001b[1;32m     75\u001b[0m             self._limit_scan_grid_base = np.array(\n\u001b[1;32m     76\u001b[0m                 [[\n\u001b[0;32m---> 77\u001b[0;31m                   ((self._signal_calc_ice(self._egrid, mass,\n\u001b[0m\u001b[1;32m     78\u001b[0m                     sv)**2.\n\u001b[1;32m     79\u001b[0m                     )[self._t_d:] /\n",
      "\u001b[0;32m~/Desktop/DM_nu_simulation_P-One/PONE_git/pone_work/pone_dm/limit_calc.py\u001b[0m in \u001b[0;36m_signal_calc_ice\u001b[0;34m(self, egrid, mass, sv)\u001b[0m\n\u001b[1;32m    165\u001b[0m         \u001b[0;31m# TODO: Need to configure for IceCube ------\u001b[0m\u001b[0;34m\u001b[0m\u001b[0;34m\u001b[0m\u001b[0;34m\u001b[0m\u001b[0m\n\u001b[1;32m    166\u001b[0m \u001b[0;34m\u001b[0m\u001b[0m\n\u001b[0;32m--> 167\u001b[0;31m         _ours = self._dmnu.galactic_flux(\n\u001b[0m\u001b[1;32m    168\u001b[0m             \u001b[0megrid\u001b[0m\u001b[0;34m,\u001b[0m \u001b[0mmass\u001b[0m\u001b[0;34m,\u001b[0m \u001b[0msv\u001b[0m\u001b[0;34m,\u001b[0m\u001b[0;34m\u001b[0m\u001b[0;34m\u001b[0m\u001b[0m\n\u001b[1;32m    169\u001b[0m             \u001b[0mconfig\u001b[0m\u001b[0;34m[\u001b[0m\u001b[0;34m'simulation parameters'\u001b[0m\u001b[0;34m]\u001b[0m\u001b[0;34m[\u001b[0m\u001b[0;34m\"DM type k\"\u001b[0m\u001b[0;34m]\u001b[0m\u001b[0;34m,\u001b[0m\u001b[0;34m\u001b[0m\u001b[0;34m\u001b[0m\u001b[0m\n",
      "\u001b[0;31mTypeError\u001b[0m: galactic_flux() missing 1 required positional argument: 'J'"
     ]
    }
   ],
   "source": [
    "x= Limits(Aeff, DM2Nu, Atm_Shower, Detector, Background)"
   ]
  },
  {
   "cell_type": "code",
   "execution_count": null,
   "metadata": {},
   "outputs": [],
   "source": [
    "surface_flux_dic = x.limit(config[\"simulation parameters\"][\"mass grid\"],config[\"simulation parameters\"][\"sv grid\"])"
   ]
  },
  {
   "cell_type": "code",
   "execution_count": null,
   "metadata": {},
   "outputs": [],
   "source": [
    "surface_flux_dic"
   ]
  },
  {
   "cell_type": "code",
   "execution_count": null,
   "metadata": {},
   "outputs": [],
   "source": [
    "counts_unsmeared_atmos, counts_unsmeared_astro, m_egrid = x.effective_area_func(x.surface_fluxes, 9)"
   ]
  },
  {
   "cell_type": "code",
   "execution_count": null,
   "metadata": {},
   "outputs": [],
   "source": [
    "smearing_example = x.smearing_function(1e6, 5, 9)\n",
    "smearing_example"
   ]
  },
  {
   "cell_type": "code",
   "execution_count": null,
   "metadata": {},
   "outputs": [],
   "source": [
    "test = x.sim2dec(surface_flux_dic, 4)"
   ]
  },
  {
   "cell_type": "code",
   "execution_count": null,
   "metadata": {},
   "outputs": [],
   "source": [
    "test  # labels : neutrino flavours ( total = atro + atmos )"
   ]
  },
  {
   "cell_type": "code",
   "execution_count": null,
   "metadata": {},
   "outputs": [],
   "source": [
    "plt.bar(np.log10(x._egrid), test['numu'])\n",
    "#plt.bar(np.log10(x._egrid), integrated_grid_astro)\n",
    "plt.yscale(\"log\")\n",
    "plt.ylim(1., 1e3)\n",
    "plt.xlim(4, 6.5)"
   ]
  },
  {
   "cell_type": "code",
   "execution_count": null,
   "metadata": {},
   "outputs": [],
   "source": []
  }
 ],
 "metadata": {
  "interpreter": {
   "hash": "82a3a656d33f35b7f3fe77a22343614a58c995dc979ba6da45d214804d59b344"
  },
  "kernelspec": {
   "display_name": "Python 3.9.5 64-bit ('pdm': conda)",
   "name": "python3"
  },
  "language_info": {
   "codemirror_mode": {
    "name": "ipython",
    "version": 3
   },
   "file_extension": ".py",
   "mimetype": "text/x-python",
   "name": "python",
   "nbconvert_exporter": "python",
   "pygments_lexer": "ipython3",
   "version": "3.9.5"
  },
  "orig_nbformat": 4
 },
 "nbformat": 4,
 "nbformat_minor": 2
}
