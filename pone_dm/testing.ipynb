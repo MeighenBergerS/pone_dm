{
 "cells": [
  {
   "cell_type": "code",
   "execution_count": 1,
   "metadata": {},
   "outputs": [],
   "source": [
    "#  For sting e changes I made in python files"
   ]
  },
  {
   "cell_type": "code",
   "execution_count": 2,
   "metadata": {},
   "outputs": [],
   "source": [
    "from config import config\n",
    "from tqdm import tqdm\n",
    "from pone_aeff import Aeff\n",
    "from dm2nu import DM2Nu\n",
    "from atm_shower import Atm_Shower\n",
    "from detectors import Detector\n",
    "import numpy as np\n",
    "import matplotlib.pyplot as plt\n",
    "from limit_calc import Limits\n",
    "from bkgrd_calc import Background\n",
    "from signal_calc import Signal\n",
    "from pdm import PDM\n",
    "import pickle\n",
    "from scipy.interpolate import UnivariateSpline\n",
    "from constants import pdm_constants"
   ]
  },
  {
   "cell_type": "code",
   "execution_count": 27,
   "metadata": {},
   "outputs": [],
   "source": [
    "# Parameters ---\n",
    "config[\"general\"][\"detector\"] = \"IceCube\"\n",
    "config[\"general\"][\"year\"] = 9\n",
    "mass_grid = np.logspace(1, 4, 20) # np.logspace(1, 6, 10)\n",
    "sv_grid = np.logspace(-24, -21, 20) # 10\n",
    "angle = config['atmospheric showers']['theta angles']\n",
    "b = Atm_Shower()\n",
    "mass_id = -1\n",
    "sv_id = -1"
   ]
  },
  {
   "cell_type": "code",
   "execution_count": 42,
   "metadata": {},
   "outputs": [
    {
     "name": "stdout",
     "output_type": "stream",
     "text": [
      "Loading Effective Area\n"
     ]
    }
   ],
   "source": [
    "aeff = Aeff()\n",
    "dete = Detector(aeff)"
   ]
  },
  {
   "cell_type": "code",
   "execution_count": 57,
   "metadata": {},
   "outputs": [],
   "source": [
    "dm = DM2Nu()\n",
    "sig = Signal(aeff, dm, dete)"
   ]
  },
  {
   "cell_type": "code",
   "execution_count": 61,
   "metadata": {},
   "outputs": [
    {
     "name": "stderr",
     "output_type": "stream",
     "text": [
      "/home/kruteesh/Desktop/DM_nu_simulation_P-One/PONE_git/pone_work/pone_dm/dm2nu.py:344: RuntimeWarning: overflow encountered in exp\n",
      "  dd = np.exp(d_2 / s_in(x)**2)\n",
      "/home/kruteesh/Desktop/DM_nu_simulation_P-One/PONE_git/pone_work/pone_dm/dm2nu.py:345: RuntimeWarning: overflow encountered in multiply\n",
      "  return A * aa * dd\n",
      "100%|██████████| 91/91 [05:37<00:00,  3.71s/it]\n"
     ]
    }
   ],
   "source": [
    "signal_count = sig.signal_calc( b.egrid, 1e4, 1e-24)"
   ]
  },
  {
   "cell_type": "code",
   "execution_count": null,
   "metadata": {},
   "outputs": [],
   "source": [
    "aeff.effective_area_func()"
   ]
  },
  {
   "cell_type": "code",
   "execution_count": null,
   "metadata": {},
   "outputs": [],
   "source": []
  },
  {
   "cell_type": "code",
   "execution_count": 51,
   "metadata": {},
   "outputs": [],
   "source": [
    "e, sm = dete.smearing_function(4,20,9)"
   ]
  },
  {
   "cell_type": "code",
   "execution_count": 52,
   "metadata": {},
   "outputs": [
    {
     "data": {
      "text/plain": [
       "0.9999999999999999"
      ]
     },
     "execution_count": 52,
     "metadata": {},
     "output_type": "execute_result"
    }
   ],
   "source": [
    "np.trapz(sm, e)"
   ]
  },
  {
   "cell_type": "code",
   "execution_count": 53,
   "metadata": {},
   "outputs": [],
   "source": [
    "sp_sm = UnivariateSpline(e, sm, k=1,s=0,ext=1)(np.log10(b.egrid))"
   ]
  },
  {
   "cell_type": "code",
   "execution_count": 56,
   "metadata": {},
   "outputs": [
    {
     "data": {
      "text/plain": [
       "0.9995841861455633"
      ]
     },
     "execution_count": 56,
     "metadata": {},
     "output_type": "execute_result"
    }
   ],
   "source": [
    "np.trapz(sp_sm, np.log10(b.egrid))"
   ]
  },
  {
   "cell_type": "code",
   "execution_count": 6,
   "metadata": {},
   "outputs": [],
   "source": [
    "#p = PDM()"
   ]
  },
  {
   "cell_type": "code",
   "execution_count": 40,
   "metadata": {},
   "outputs": [],
   "source": [
    "# Flux, Counts, effective area loading that need chaning depending on the day ....\n",
    "ice_flux = {}\n",
    "for m in mass_grid:\n",
    "    for sv in sv_grid:\n",
    "        ice_flux[m,sv] = pickle.load(open(\"/home/kruteesh/Desktop/dm_data_server/24_11/data/signal_flux/extra_%.1e_%.1e.pkl\"%(m,sv),\"rb\"))\n",
    "signal_m = pickle.load(open('/home/kruteesh/Desktop/dm_data_server/24_11/data/limits_signal_IceCube.pkl','rb'))\n",
    "background_po = pickle.load(open('/home/kruteesh/Desktop/DM_nu_simulation_P-One/PONE_git/pone_work/data/background_pone.pkl','rb'))\n",
    "eff_area = pickle.load(open('/home/kruteesh/Desktop/DM_nu_simulation_P-One/PONE_git/pone_work/data/eff_area_ice.pkl','rb')) \n",
    "background_ic = pickle.load(open('/home/kruteesh/Desktop/dm_data_server/26_11/data/background_ice.pkl','rb'))\n",
    "back = pickle.load(open('/home/kruteesh/Desktop/DM_nu_simulation_P-One/PONE_git/pone_work/data/background_ice.pkl','rb'))\n",
    "limits = pickle.load(open('/home/kruteesh/Desktop/dm_data_server/24_11/data/limits_results_IceCube.pkl','rb'))"
   ]
  },
  {
   "cell_type": "code",
   "execution_count": 29,
   "metadata": {},
   "outputs": [],
   "source": [
    "# Limits data Loading \n",
    "\n",
    "cl_lit = np.loadtxt('/home/kruteesh/Desktop/DM_nu_simulation_P-One/Literature/limits_Ice.csv', delimiter=\",\")\n",
    "cl_lit = (cl_lit[cl_lit[:, 0].argsort()])\n",
    "m_1e4 = np.loadtxt(\"../data/m_1e4.csv\",delimiter=\",\")\n",
    "m_1e4 = (m_1e4[m_1e4[:, 0].argsort()])\n",
    "m_1e2 = np.loadtxt(\"../data/m_1e2.csv\",delimiter=\",\")\n",
    "m_1e2 = (m_1e2[m_1e2[:, 0].argsort()])\n",
    "m_1e6 = np.loadtxt(\"../data/m_1e6.csv\",delimiter=\",\")\n",
    "m_1e6 = (m_1e6[m_1e6[:, 0].argsort()])"
   ]
  },
  {
   "cell_type": "code",
   "execution_count": 30,
   "metadata": {},
   "outputs": [
    {
     "name": "stderr",
     "output_type": "stream",
     "text": [
      "<ipython-input-30-b79b805c8085>:7: UserWarning: No contour levels were found within the data range.\n",
      "  plt.contour(limits, levels=[0.9], colors='purple',\n"
     ]
    },
    {
     "data": {
      "text/plain": [
       "Text(0.5, 0, '$m_{x}$ [GeV]')"
      ]
     },
     "execution_count": 30,
     "metadata": {},
     "output_type": "execute_result"
    },
    {
     "data": {
      "image/png": "[encoded data removed]",
      "text/plain": [
       "<Figure size 432x288 with 2 Axes>"
      ]
     },
     "metadata": {
      "needs_background": "light"
     },
     "output_type": "display_data"
    }
   ],
   "source": [
    "# Limits Comparision ----\n",
    "plt.imshow( limits, extent=(min(np.log10(mass_grid)), max(np.log10(mass_grid)),\n",
    "                                              min(np.log10(sv_grid)), max(np.log10(sv_grid))),\n",
    "                     origin='lower', aspect='auto',cmap=plt.cm.afmhot)\n",
    "\n",
    "plt.colorbar()\n",
    "plt.contour(limits, levels=[0.9], colors='purple',\n",
    "                origin='lower', extent=(min(np.log10(mass_grid)), max(np.log10(mass_grid)),\n",
    "                                        min(np.log10(sv_grid)), max(np.log10(sv_grid))))  #  origin!!!!!!!!!!\n",
    "plt.plot(np.log10(cl_lit[:, 0]), np.log10(cl_lit[:, 1]), 'g', label='literature 90% C.L')\n",
    "\n",
    "plt.legend()\n",
    "plt.grid()\n",
    "plt.ylabel(r'<$\\sigma \\nu$>')\n",
    "plt.xlabel(r'$m_{x}$ [GeV]')"
   ]
  },
  {
   "cell_type": "code",
   "execution_count": 31,
   "metadata": {},
   "outputs": [
    {
     "data": {
      "text/plain": [
       "Text(0, 0.5, 'Effective Area [$cm^2$]')"
      ]
     },
     "execution_count": 31,
     "metadata": {},
     "output_type": "execute_result"
    },
    {
     "data": {
      "image/png": "[encoded data removed]",
      "text/plain": [
       "<Figure size 432x432 with 1 Axes>"
      ]
     },
     "metadata": {
      "needs_background": "light"
     },
     "output_type": "display_data"
    }
   ],
   "source": [
    "# Effective area comparision ----\n",
    "plt.figure(figsize=(6,6))\n",
    "plt.step(b.egrid,eff_area[angle[20]],label=r'angle = %.1e degree' %angle[20])\n",
    "plt.xscale('log')\n",
    "plt.yscale('log')\n",
    "plt.xlim(1e1,1e8)\n",
    "#plt.ylim(1,1e7)\n",
    "plt.legend()\n",
    "plt.grid()\n",
    "plt.xlabel('E [GeV]')\n",
    "plt.ylabel(r'Effective Area [$cm^2$]')"
   ]
  },
  {
   "cell_type": "code",
   "execution_count": 32,
   "metadata": {},
   "outputs": [
    {
     "data": {
      "image/png": "[encoded data removed]",
      "text/plain": [
       "<Figure size 432x432 with 1 Axes>"
      ]
     },
     "metadata": {
      "needs_background": "light"
     },
     "output_type": "display_data"
    }
   ],
   "source": [
    "flux = ice_flux[1e04, 1e-24]\n",
    "plt.figure(figsize=(6,6))\n",
    "plt.step(b.egrid,(flux*b.egrid**2),label=r'IceCube sim $m_{x}$ = %.1e GeV, <$\\sigma\\nu$> = %.1e' %(mass_grid[mass_id], sv_grid[sv_id]))\n",
    "plt.step(m_1e4[:, 0], m_1e4[:, 1],\"-\",label=\"m = 1e4 GeV Literature\")\n",
    "plt.xscale('log')\n",
    "plt.yscale('log')\n",
    "plt.xlim(1e1,1e5)\n",
    "#plt.ylim(1e1,1e7)\n",
    "plt.legend()\n",
    "plt.xlabel('E [GeV]')\n",
    "plt.ylabel(r'$E^2$ $d\\phi/dE$ $(GeV cm^{-2} sr^{-1} s^{-1})$')\n",
    "plt.grid()"
   ]
  },
  {
   "cell_type": "code",
   "execution_count": 33,
   "metadata": {},
   "outputs": [],
   "source": [
    "\n",
    "# summing effective areas over all thetas [0,90]\n",
    "total_eff=np.zeros_like(eff_area[0])\n",
    "for theta in angle:\n",
    "    total_eff=total_eff+eff_area[theta]\n",
    "# Simulated Flux  \n",
    "flux = ice_flux[mass_grid[mass_id], sv_grid[sv_id]]"
   ]
  },
  {
   "cell_type": "code",
   "execution_count": 41,
   "metadata": {},
   "outputs": [
    {
     "data": {
      "text/plain": [
       "Text(0, 0.5, '# counts')"
      ]
     },
     "execution_count": 41,
     "metadata": {},
     "output_type": "execute_result"
    },
    {
     "data": {
      "image/png": "[encoded data removed]",
      "text/plain": [
       "<Figure size 504x504 with 1 Axes>"
      ]
     },
     "metadata": {
      "needs_background": "light"
     },
     "output_type": "display_data"
    }
   ],
   "source": [
    "# Counts comparision ---------\n",
    "plt.figure(figsize=(7,7))\n",
    "plt.title(r'1 year (6th) IceCube sim $m_{x}$ = %.1e GeV, <$\\sigma\\nu$> = %.1e' %(mass_grid[mass_id], sv_grid[sv_id]))\n",
    "plt.step(b.egrid,flux*b.ewidth*total_eff*3600*24*365,label=r\"After applying effective area angle=[0,90]\")\n",
    "\n",
    "plt.step(b.egrid,background_ic['numu'],label='Background')\n",
    "plt.step(b.egrid,back['numu'],label='Background after')\n",
    "plt.step(b.egrid[-len(signal_m[mass_id][sv_id]):],signal_m[mass_id][sv_id],label=\"After smearing\")\n",
    "#plt.step(b.egrid[-len(p.signal[mass_id][sv_id]):],p.signal[mass_id][sv_id],label=\"POne\")\n",
    "plt.xscale('log')\n",
    "plt.yscale('log')\n",
    "plt.xlim(1e2,1e7)\n",
    "plt.ylim(1,1e7)\n",
    "plt.grid()\n",
    "plt.legend()\n",
    "plt.xlabel('E [GeV]')\n",
    "plt.ylabel(r'# counts')"
   ]
  },
  {
   "cell_type": "code",
   "execution_count": 35,
   "metadata": {},
   "outputs": [],
   "source": [
    "# does this make sense ???? \n",
    "eff_counts = np.sum(flux*b.ewidth*total_eff*60*60*24*365) # \n",
    "smea_counts = np.sum(signal_m[mass_id][sv_id])"
   ]
  },
  {
   "cell_type": "code",
   "execution_count": 36,
   "metadata": {},
   "outputs": [
    {
     "data": {
      "text/plain": [
       "4262051.5664463425"
      ]
     },
     "execution_count": 36,
     "metadata": {},
     "output_type": "execute_result"
    }
   ],
   "source": [
    "eff_counts/smea_counts"
   ]
  },
  {
   "cell_type": "code",
   "execution_count": 37,
   "metadata": {},
   "outputs": [
    {
     "data": {
      "text/plain": [
       "7.317370679762592"
      ]
     },
     "execution_count": 37,
     "metadata": {},
     "output_type": "execute_result"
    }
   ],
   "source": [
    "smea_counts"
   ]
  },
  {
   "cell_type": "code",
   "execution_count": 38,
   "metadata": {},
   "outputs": [
    {
     "data": {
      "text/plain": [
       "31187011.167950694"
      ]
     },
     "execution_count": 38,
     "metadata": {},
     "output_type": "execute_result"
    }
   ],
   "source": [
    "eff_counts"
   ]
  },
  {
   "cell_type": "code",
   "execution_count": 39,
   "metadata": {},
   "outputs": [
    {
     "name": "stderr",
     "output_type": "stream",
     "text": [
      "  0%|          | 0/91 [00:00<?, ?it/s]\n"
     ]
    },
    {
     "ename": "NameError",
     "evalue": "name 'dm' is not defined",
     "output_type": "error",
     "traceback": [
      "\u001b[0;31m---------------------------------------------------------------------------\u001b[0m",
      "\u001b[0;31mNameError\u001b[0m                                 Traceback (most recent call last)",
      "\u001b[0;32m<ipython-input-39-eff571866408>\u001b[0m in \u001b[0;36m<module>\u001b[0;34m\u001b[0m\n\u001b[1;32m      8\u001b[0m     \u001b[0mlog_egrid\u001b[0m \u001b[0;34m=\u001b[0m \u001b[0mnp\u001b[0m\u001b[0;34m.\u001b[0m\u001b[0mlog10\u001b[0m\u001b[0;34m(\u001b[0m\u001b[0mb\u001b[0m\u001b[0;34m.\u001b[0m\u001b[0megrid\u001b[0m\u001b[0;34m)\u001b[0m\u001b[0;34m\u001b[0m\u001b[0;34m\u001b[0m\u001b[0m\n\u001b[1;32m      9\u001b[0m     \u001b[0mi\u001b[0m \u001b[0;34m=\u001b[0m \u001b[0;36m0\u001b[0m\u001b[0;34m\u001b[0m\u001b[0;34m\u001b[0m\u001b[0m\n\u001b[0;32m---> 10\u001b[0;31m     \u001b[0mflux_sig\u001b[0m \u001b[0;34m=\u001b[0m \u001b[0mdm\u001b[0m\u001b[0;34m.\u001b[0m\u001b[0mextra_galactic_flux\u001b[0m\u001b[0;34m(\u001b[0m\u001b[0mb\u001b[0m\u001b[0;34m.\u001b[0m\u001b[0megrid\u001b[0m\u001b[0;34m,\u001b[0m \u001b[0;36m1e4\u001b[0m\u001b[0;34m,\u001b[0m \u001b[0;36m1e-24\u001b[0m\u001b[0;34m)\u001b[0m\u001b[0;34m\u001b[0m\u001b[0;34m\u001b[0m\u001b[0m\n\u001b[0m\u001b[1;32m     11\u001b[0m     \u001b[0mflux_back\u001b[0m \u001b[0;34m=\u001b[0m \u001b[0maeff\u001b[0m\u001b[0;34m.\u001b[0m\u001b[0meffective_area_func\u001b[0m\u001b[0;34m(\u001b[0m\u001b[0mb\u001b[0m\u001b[0;34m.\u001b[0m\u001b[0msurface_fluxes\u001b[0m\u001b[0;34m,\u001b[0m \u001b[0;36m9\u001b[0m\u001b[0;34m)\u001b[0m\u001b[0;34m[\u001b[0m\u001b[0;36m0\u001b[0m\u001b[0;34m]\u001b[0m\u001b[0;34m[\u001b[0m\u001b[0mtheta\u001b[0m\u001b[0;34m]\u001b[0m\u001b[0;34m\u001b[0m\u001b[0;34m\u001b[0m\u001b[0m\n\u001b[1;32m     12\u001b[0m     \u001b[0;32mfor\u001b[0m \u001b[0mj\u001b[0m\u001b[0;34m,\u001b[0m\u001b[0mid_check\u001b[0m \u001b[0;32min\u001b[0m \u001b[0menumerate\u001b[0m\u001b[0;34m(\u001b[0m\u001b[0mrange\u001b[0m\u001b[0;34m(\u001b[0m\u001b[0mlen\u001b[0m\u001b[0;34m(\u001b[0m\u001b[0mlog_egrid\u001b[0m\u001b[0;34m)\u001b[0m\u001b[0;34m)\u001b[0m\u001b[0;34m)\u001b[0m\u001b[0;34m:\u001b[0m\u001b[0;34m\u001b[0m\u001b[0;34m\u001b[0m\u001b[0m\n",
      "\u001b[0;31mNameError\u001b[0m: name 'dm' is not defined"
     ]
    }
   ],
   "source": [
    "total_sig = []\n",
    "total_back = []\n",
    "for theta in tqdm(np.linspace(0,90,91)):\n",
    "    check_angle = theta\n",
    "    tmp_1 = []\n",
    "    back_c = []\n",
    "    signal_c = []\n",
    "    log_egrid = np.log10(b.egrid)\n",
    "    i = 0\n",
    "    flux_sig = dm.extra_galactic_flux(b.egrid, 1e4, 1e-24)\n",
    "    flux_back = aeff.effective_area_func(b.surface_fluxes, 9)[0][theta]\n",
    "    for j,id_check in enumerate(range(len(log_egrid))):\n",
    "        smearing_e, smearing = dete.smearing_function(\n",
    "                                                    log_egrid[\n",
    "                                                        id_check],\n",
    "                                                    check_angle,\n",
    "                                                    9)\n",
    "        # print(len(at_counts_unsm[theta]), len(smearing))\n",
    "        if len(smearing) < 3:\n",
    "            continue\n",
    "        local_sp = (UnivariateSpline(smearing_e,\n",
    "                                    (smearing),\n",
    "                                    k=1, s=0,\n",
    "                                    ext=1)(np.log10(b.egrid)))\n",
    "        back_c.append(local_sp*flux_back[id_check]) \n",
    "        signal_c.append(local_sp*flux_sig[id_check])\n",
    "        i=j\n",
    "        tmp_1.append(1*np.trapz(local_sp,x=np.log10(b.egrid)))\n",
    "\n",
    "    total_back.append(np.sum(back_c,axis=0))\n",
    "    total_sig.append(np.sum(signal_c,axis=0))\n",
    "    tmp_bkgrd = np.sum(tmp_1, axis=0)\n",
    "\n",
    "total_back = np.sum(total_back, axis=0)\n",
    "total_sig = np.sum(total_sig, axis=0)\n"
   ]
  },
  {
   "cell_type": "code",
   "execution_count": null,
   "metadata": {},
   "outputs": [
    {
     "data": {
      "text/plain": [
       "Text(0, 0.5, '# counts')"
      ]
     },
     "execution_count": 19,
     "metadata": {},
     "output_type": "execute_result"
    },
    {
     "data": {
      "image/png": "[encoded data removed]",
      "text/plain": [
       "<Figure size 432x288 with 1 Axes>"
      ]
     },
     "metadata": {
      "needs_background": "light"
     },
     "output_type": "display_data"
    }
   ],
   "source": [
    "# Manual calculation of counts after smearing \n",
    "plt.title(r'1 year (6th) IceCube sim $m_{x}$ = %.1e GeV, <$\\sigma\\nu$> = %.1e' %(1e4,1e-24))\n",
    "#plt.step(b.egrid, total_back,label='Background')\n",
    "#plt.step(b.egrid, total_sig,label='Signal' )\n",
    "plt.step(b.egrid,background_ic['numu'],label='Background Sim')\n",
    "plt.step(b.egrid,flux*b.ewidth*total_eff*3600*24*365,label=r'signal after manually conversion')\n",
    "plt.step(b.egrid[-len(signal_m[mass_id][sv_id]):],signal_m[mass_id][sv_id],label=\"signal sim After smearing\")\n",
    "plt.xscale('log')\n",
    "plt.yscale('log')\n",
    "#plt.xlim(1e2,1e5)\n",
    "#plt.ylim(1,1e6)\n",
    "plt.grid()\n",
    "plt.legend()\n",
    "plt.xlabel('E [GeV]')\n",
    "plt.ylabel(r'# counts')"
   ]
  },
  {
   "cell_type": "code",
   "execution_count": null,
   "metadata": {},
   "outputs": [
    {
     "ename": "NameError",
     "evalue": "name 'local_sp' is not defined",
     "output_type": "error",
     "traceback": [
      "\u001b[0;31m---------------------------------------------------------------------------\u001b[0m",
      "\u001b[0;31mNameError\u001b[0m                                 Traceback (most recent call last)",
      "\u001b[0;32m<ipython-input-20-3cde241ba65b>\u001b[0m in \u001b[0;36m<module>\u001b[0;34m\u001b[0m\n\u001b[0;32m----> 1\u001b[0;31m \u001b[0mplt\u001b[0m\u001b[0;34m.\u001b[0m\u001b[0mloglog\u001b[0m\u001b[0;34m(\u001b[0m\u001b[0mb\u001b[0m\u001b[0;34m.\u001b[0m\u001b[0megrid\u001b[0m\u001b[0;34m,\u001b[0m\u001b[0mlocal_sp\u001b[0m\u001b[0;34m)\u001b[0m\u001b[0;34m\u001b[0m\u001b[0;34m\u001b[0m\u001b[0m\n\u001b[0m",
      "\u001b[0;31mNameError\u001b[0m: name 'local_sp' is not defined"
     ]
    }
   ],
   "source": [
    "plt.loglog(b.egrid,local_sp)"
   ]
  },
  {
   "cell_type": "code",
   "execution_count": null,
   "metadata": {},
   "outputs": [
    {
     "data": {
      "text/plain": [
       "1.0062219840212483"
      ]
     },
     "execution_count": 21,
     "metadata": {},
     "output_type": "execute_result"
    }
   ],
   "source": [
    "np.sum(tmp_bkgrd)/i"
   ]
  },
  {
   "cell_type": "code",
   "execution_count": null,
   "metadata": {},
   "outputs": [],
   "source": []
  }
 ],
 "metadata": {
  "interpreter": {
   "hash": "82a3a656d33f35b7f3fe77a22343614a58c995dc979ba6da45d214804d59b344"
  },
  "kernelspec": {
   "display_name": "Python 3.9.5 64-bit ('pdm': conda)",
   "name": "python3"
  },
  "language_info": {
   "codemirror_mode": {
    "name": "ipython",
    "version": 3
   },
   "file_extension": ".py",
   "mimetype": "text/x-python",
   "name": "python",
   "nbconvert_exporter": "python",
   "pygments_lexer": "ipython3",
   "version": "3.9.5"
  },
  "orig_nbformat": 4
 },
 "nbformat": 4,
 "nbformat_minor": 2
}
