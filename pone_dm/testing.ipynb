{
 "cells": [
  {
   "cell_type": "code",
   "execution_count": 1,
   "metadata": {},
   "outputs": [],
   "source": [
    "#  For sting e changes I made in python files"
   ]
  },
  {
   "cell_type": "code",
   "execution_count": 2,
   "metadata": {},
   "outputs": [],
   "source": [
    "from config import config\n",
    "from tqdm import tqdm\n",
    "from pone_aeff import Aeff\n",
    "from dm2nu import DM2Nu\n",
    "from atm_shower import Atm_Shower\n",
    "from detectors import Detector\n",
    "import numpy as np\n",
    "import matplotlib.pyplot as plt\n",
    "from limit_calc import Limits\n",
    "from bkgrd_calc import Background\n",
    "from signal_calc import Signal\n",
    "from pdm import PDM\n",
    "import pickle\n",
    "from scipy.interpolate import UnivariateSpline\n",
    "from constants import pdm_constants\n",
    "import csv\n",
    "from matplotlib.lines import Line2D\n",
    "from matplotlib import rc\n",
    "rc('font',**{'family':'sans-serif','sans-serif':['Helvetica']})\n",
    "rc('text', usetex=True)"
   ]
  },
  {
   "cell_type": "code",
   "execution_count": 3,
   "metadata": {},
   "outputs": [
    {
     "name": "stdout",
     "output_type": "stream",
     "text": [
      "ICeCube... Effective Areas\n"
     ]
    }
   ],
   "source": [
    "# Parameters ---\n",
    "config[\"general\"][\"detector\"] = \"IceCube\"\n",
    "config[\"general\"][\"year\"] = 9\n",
    "mass_grid = np.logspace(2, 6, 9) # np.logspace(1, 6, 10)\n",
    "sv_grid = np.logspace(-26, -21, 9) # 10\n",
    "mass_ext = np.logspace(2, 6, 131)\n",
    "angle = config['atmospheric showers']['theta angles']\n",
    "b = Atm_Shower()\n",
    "mass_id = 4\n",
    "sv_id = -1\n",
    "\n",
    "mass_grid_1 = np.logspace(2, 6, 6)\n",
    "sv_grid_1 =  np.logspace(-25, -21, 6)\n",
    "\n",
    "std_size = 6.  # Size of the plot\n",
    "fontsize = 15.  # Fontsize in the plot\n",
    "lw=0.1 # Linewidth\n",
    "h_length=0.7  # Handle length for the legends\n",
    "export_dpi = 500  # Dpi for the image export"
   ]
  },
  {
   "cell_type": "code",
   "execution_count": 4,
   "metadata": {},
   "outputs": [],
   "source": [
    "color_pone='#7570b3'\n",
    "color_ice='#e7298a'\n",
    "color_combined='#33a02c'\n",
    "color_thermal='#1f78b4'\n",
    "color_unitary='k'"
   ]
  },
  {
   "cell_type": "code",
   "execution_count": 5,
   "metadata": {},
   "outputs": [],
   "source": [
    "surface_fluxes = pickle.load(open(\"../data/surf_store_v1.p\", \"rb\"))\n",
    "shower = surface_fluxes[20][3] # background fluxes at 20° ----"
   ]
  },
  {
   "cell_type": "code",
   "execution_count": 6,
   "metadata": {},
   "outputs": [],
   "source": [
    "dm = DM2Nu()"
   ]
  },
  {
   "cell_type": "code",
   "execution_count": 7,
   "metadata": {},
   "outputs": [],
   "source": [
    "limits_ice = pickle.load(open('/home/kruteesh/Desktop/dm_data_server/18_04_desk/data/limits_results_IceCube.pkl','rb'))\n",
    "limits_ice_DM = pickle.load(open(\"/home/kruteesh/Desktop/dm_data_server/28_04_DM/limits_results.pkl\", \"rb\"))\n",
    "\n",
    "limits_com_unsm = pickle.load(open('../data/06_04/unsmeared/limits_results_combined_un.pkl', 'rb'))\n",
    "limits_com_sm = pickle.load(open('../data/06_04/smeared/limits_results_combined_sm.pkl', 'rb'))\n",
    "\n",
    "limits_pone_unsm = pickle.load(open('../data/06_04/unsmeared/limits_results_POne_un.pkl', 'rb'))\n",
    "limits_pone_sm = pickle.load(open('../data/06_04/smeared/limits_results_POne_sm.pkl', 'rb'))\n",
    "limits_pone_sm_old = pickle.load(open('../data/28_03_02/smeared/limits_results_POne_sm.pkl', 'rb'))\n",
    "limits_pone_45_25= pickle.load(open(\"../data/14_04/smeared/45_25/limits_results_POne_sm.pkl\",\"rb\"))\n",
    "\n",
    "\n",
    "limits_com_sm_old = pickle.load(open('../data/28_03_02/smeared/limits_results_combined_sm.pkl', 'rb'))"
   ]
  },
  {
   "cell_type": "code",
   "execution_count": 8,
   "metadata": {},
   "outputs": [],
   "source": [
    "# Limits data Loading \n",
    "\n",
    "#cl_lit = np.loadtxt('/home/kruteesh/Desktop/DM_nu_simulation_P-One/Literature/limits_Ice.csv', delimiter=\",\")\n",
    "#cl_lit = (cl_lit[cl_lit[:, 0].argsort()])\n",
    "\n",
    "cl_lit_HE = np.loadtxt('../data/IceCube_HE.csv', delimiter=\",\")\n",
    "cl_lit_HE = (cl_lit_HE[cl_lit_HE[:, 0].argsort()])\n",
    "cl_lit = np.loadtxt('../data/CL_PONE.csv', delimiter=\",\")\n",
    "cl_lit = (cl_lit[cl_lit[:, 0].argsort()])\n",
    "th_cl = np.loadtxt(open(\"../data/thermal_relic.csv\"), delimiter = \",\")\n",
    "th_cl = (th_cl[th_cl[:, 0].argsort()])\n",
    "unitarity = np.loadtxt(open('../data/Unitarity_bound.csv'), delimiter = ',')\n",
    "unitarity = (unitarity[unitarity[:, 0].argsort()])\n",
    "\n",
    "m_1e4 = np.loadtxt(\"../data/m_1e4.csv\",delimiter=\",\")\n",
    "m_1e4 = (m_1e4[m_1e4[:, 0].argsort()])\n",
    "m_1e2 = np.loadtxt(\"../data/m_1e2.csv\",delimiter=\",\")\n",
    "m_1e2 = (m_1e2[m_1e2[:, 0].argsort()])\n",
    "m_1e6 = np.loadtxt(\"../data/m_1e6.csv\",delimiter=\",\")\n",
    "m_1e6 = (m_1e6[m_1e6[:, 0].argsort()])\n",
    "\n",
    "#l_c_un = np.loadtxt('../data/limits_combined_un.csv',  delimiter=',')\n",
    "#l_c_un = (l_c_un[l_c_un[:, 0].argsort()])\n",
    "\n",
    "#l_c_sm = np.loadtxt('../data/limits_combined_sm.csv',  delimiter=',')\n",
    "#l_c_sm = (l_c_sm[l_c_sm[:, 0].argsort()])\n"
   ]
  },
  {
   "cell_type": "code",
   "execution_count": null,
   "metadata": {},
   "outputs": [],
   "source": []
  },
  {
   "cell_type": "code",
   "execution_count": 9,
   "metadata": {},
   "outputs": [],
   "source": [
    "\n",
    "xx,yy = np.meshgrid(np.log10(mass_grid),np.log10(sv_grid))\n",
    "\n",
    "xx_1,yy_1 = np.meshgrid(np.log10(mass_grid_1),np.log10(sv_grid_1))\n"
   ]
  },
  {
   "cell_type": "code",
   "execution_count": 10,
   "metadata": {},
   "outputs": [],
   "source": [
    "#sp_c_un = UnivariateSpline(l_c_un[:,0], l_c_un[:,1], k=5, s=1)\n",
    "#sp_c_sm = UnivariateSpline(l_c_sm[:,0], l_c_sm[:,1], k=5, s=1)\n"
   ]
  },
  {
   "cell_type": "code",
   "execution_count": 21,
   "metadata": {},
   "outputs": [
    {
     "name": "stderr",
     "output_type": "stream",
     "text": [
      "/tmp/ipykernel_4235/2579100313.py:17: UserWarning: The following kwargs were not used by contour: 'linewidth', 'labels'\n",
      "  C_pone_unsm = ax1.contour(xx,yy, limits_pone_unsm[i], linestyles='--', levels=[0.9], linewidth=15, colors=color_pone, labels= r'P-ONE unsmeared')\n",
      "/tmp/ipykernel_4235/2579100313.py:18: UserWarning: The following kwargs were not used by contour: 'linewidth', 'labels'\n",
      "  C_pone_sm = ax1.contour(xx,yy, limits_pone_45_25[i], linestyles='-.', levels=[0.9], linewidth=15,colors=color_pone, labels=r'P-ONE smeared')\n"
     ]
    },
    {
     "data": {
      "image/png": "[encoded data removed]",
      "text/plain": [
       "<Figure size 432x432 with 1 Axes>"
      ]
     },
     "metadata": {
      "needs_background": "light"
     },
     "output_type": "display_data"
    }
   ],
   "source": [
    "# Limits Comparision ---- TODO: low mass cutoff\n",
    "#figure, (ax1) = plt.subplots(1, 1, figsize=(std_size,std_size), sharex=True)\n",
    "#'b', 'g', 'r', 'c', 'm', 'y', 'k', 'w'\n",
    "p_name = [r'$\\nu_{\\mu}$', r'$\\nu_{e}$', r'$\\nu_{\\tau}$']\n",
    "figure, (ax1) = plt.subplots(1, 1, figsize=(std_size,std_size), sharex=True)\n",
    "\n",
    "smoothing_val = 3\n",
    "\n",
    "#ax1.fill_between(np.log10(mass_ext), \n",
    "#  sp_c_sm(np.log10(mass_ext)),\n",
    "#    sp_c_un(np.log10(mass_ext)),\n",
    "#\n",
    "#    color='yellow', alpha=0.5\n",
    "#)\n",
    "\n",
    "for j,i in enumerate(['numu', 'nue', 'nutau']):\n",
    "    C_pone_unsm = ax1.contour(xx,yy, limits_pone_unsm[i], linestyles='--', levels=[0.9], linewidth=15, colors=color_pone, labels= r'P-ONE unsmeared')\n",
    "    C_pone_sm = ax1.contour(xx,yy, limits_pone_45_25[i], linestyles='-.', levels=[0.9], linewidth=15,colors=color_pone, labels=r'P-ONE smeared')\n",
    "    break\n",
    "#C_pone_sm_old =  ax1.contour(xx,yy, limits_pone_sm_old[i], linestyles='dotted', linewidth=15,colors=color_pone, levels=[0.9]) \n",
    "#C_ice = ax1.contour(xx,yy, limits_ice[i],linestyles='--', linewidth=3, colors=color_ice, labels=r'IceCube simulation', levels=[0.9])\n",
    "#C_ice_DM = ax1.contour(xx,yy, limits_ice_DM[i],linestyles='-.', linewidth=3, colors=color_ice, labels=r'IceCube simulation', levels=[0.9])\n",
    "\n",
    "#C_com_unsm = ax1.contour(xx,yy, limits_com_unsm[i], linestyles='-', linewidth=15, colors=color_combined, labels=r'Combined', levels=[0.9])\n",
    "#C_com_sm = ax1.contour(xx,yy, limits_com_sm[i], linestyles='-.', linewidth=15, colors=color_combined, labels=r'Combined P-ONE smeared', levels=[0.9])\n",
    "#C_com_sm_old = ax1.contour(xx,yy, limits_com_sm_old[i], colors=color_combined, linewidth=15, linestyles='dotted', levels=[0.9])\n",
    "\n",
    "#ax1.plot(np.log10(cl_lit_HE[:, 0]), np.log10(cl_lit_HE[:, 1]), color_ice , label=r'IceCube')\n",
    "ax1.plot(np.log10(cl_lit[:, 0]), np.log10(cl_lit[:, 1]), color_pone, label=r'P-ONE')\n",
    "ax1.plot(np.log10(th_cl[:, 0]), np.log10(th_cl[:, 1]), color=color_thermal, \n",
    "     label=r'Thermal Relic Abundance')\n",
    "ax1.plot(np.log10(unitarity[:, 0]), np.log10(unitarity[:, 1]), '.',color=color_unitary, \n",
    "     label=r'Unitarity Bound')\n",
    "\n",
    "#h_ice, l_ice= C_ice.legend_elements()\n",
    "#h_com_unsm, l_com_unsm = C_com_unsm.legend_elements()\n",
    "#h_com_sm, l_com_sm = C_com_sm.legend_elements() \n",
    "h_pone_unsm, l_pone_unsm = C_pone_unsm.legend_elements()\n",
    "h_pone_sm, l_pone_sm = C_pone_sm.legend_elements()\n",
    "C_s = [C_pone_unsm, C_pone_sm] # [C_ice, C_com_unsm, C_com_sm,\n",
    "h_list = [h_pone_unsm[0], h_pone_sm[0]] # h_ice[0], h_com_unsm[0], h_com_sm[0],\n",
    "labels = [l_pone_unsm, l_pone_sm] # l_ice, l_com_unsm, l_com_sm, , l_com_sm\n",
    "for k in range(0, len(labels)):\n",
    "    ax1.clabel(C_s[k], inline=1, fontsize=fontsize)\n",
    "    C_s[k].collections[0].set_label(labels[k])\n",
    "#C_s[1].collections[0].set_label(labels[1])\n",
    "\n",
    "h, l = ax1.get_legend_handles_labels()\n",
    "legend_elements_s = [Line2D([0], [0], color=color_pone, lw=2),\n",
    "                   Line2D([0], [0], color=color_thermal,  lw=2),\n",
    "                   Line2D([0], [0], color=color_unitary,  lw=2)\n",
    "                  ]\n",
    "labels_s = [r'$\\textrm{P}$-$\\textrm{ONE}$',\n",
    "          r'$\\textrm{Thermal Relic Abundance}$',\n",
    "          r'$\\textrm{Unitarity Bound}$',\n",
    "          ]\n",
    "\n",
    "lgd1 = ax1.legend(legend_elements_s, labels_s, loc=7, bbox_to_anchor=(0.95, +1.1),\n",
    "             ncol=2, fontsize=fontsize-2, handlelength=h_length,\n",
    "             fancybox=True, frameon=False)\n",
    "\n",
    "\n",
    "\n",
    "legend_elements = [Line2D([0], [0], color=color_pone, lw=1),\n",
    "                   Line2D([0], [0], linestyle='--', color=color_pone,  lw=1.1),\n",
    "                   Line2D([0], [0], linestyle='-.', color=color_pone,  lw=1)\n",
    "                  ]\n",
    "labels = [r'$\\textrm{Literature}$',\n",
    "          r'$\\textrm{Energy reconstruction}$',\n",
    "          r'$\\textrm{Without reconstruction}$']\n",
    "lgd2= ax1.legend(legend_elements, labels, loc=7, bbox_to_anchor=(0.95, 0.2),\n",
    "                 ncol=1, fontsize=fontsize, handlelength=h_length,\n",
    "                 fancybox=True, frameon=False)\n",
    "ax1.add_artist(lgd2)            \n",
    "#lgd2 = ax1.legend(h_list, labels, loc=7, bbox_to_anchor=(0.8, +0.3),\n",
    "#             fontsize=fontsize-2, handlelength=h_length, \n",
    "#             fancybox=True, frameon=True)\n",
    "#ax1.add_artist(lgd2)\n",
    "ax1.set_title(r'Confidence Level Limits ', y = 1.2, fontsize=fontsize+1)\n",
    "ax1.add_artist(lgd1)\n",
    "ax1.set_xscale(\"linear\")\n",
    "ax1.set_yscale(\"linear\")\n",
    "ax1.set_xlabel(r\"$\\log_{10}$ ( $m_{\\chi}$ / $\\textrm{MeV}$ )\", fontsize=fontsize+1)\n",
    "ax1.set_ylabel(r\"$\\log_{10}$ ( $<\\sigma \\nu>$ / $\\textrm{cm}^{3}$ $\\textrm{s}^{-1}$ )\", fontsize=fontsize+1)\n",
    "#ax1.tick_params(axis = 'both', which='major', labelsize=fontsize, direction='in')\n",
    "ax1.tick_params(axis = 'both', which='major', labelsize=fontsize, direction='in')\n",
    "ax1.tick_params(axis = 'both', which = 'minor', labelsize=fontsize, direction='in')\n",
    "ax1.set_xlim(3.9, max(np.log10(mass_grid)))\n",
    "ax1.set_ylim(min(np.log10(sv_grid)), -22)  # min(np.log10(sv_grid)), -21\n",
    "\n",
    "figure.savefig('../pics/Limits_result_pone.png',bbox_inches='tight', dpi=export_dpi, facecolor='white')"
   ]
  },
  {
   "cell_type": "code",
   "execution_count": 24,
   "metadata": {},
   "outputs": [
    {
     "name": "stderr",
     "output_type": "stream",
     "text": [
      "/tmp/ipykernel_4235/3499817822.py:22: UserWarning: The following kwargs were not used by contour: 'linewidth', 'labels'\n",
      "  C_ice_DM = ax1.contour(xx,yy, limits_ice_DM[i],linestyles='--', linewidth=3, colors=color_ice, labels=r'IceCube simulation', levels=[0.9])\n"
     ]
    },
    {
     "data": {
      "image/png": "[encoded data removed]",
      "text/plain": [
       "<Figure size 432x432 with 1 Axes>"
      ]
     },
     "metadata": {
      "needs_background": "light"
     },
     "output_type": "display_data"
    }
   ],
   "source": [
    "# Limits Comparision ---- TODO: low mass cutoff\n",
    "#figure, (ax1) = plt.subplots(1, 1, figsize=(std_size,std_size), sharex=True)\n",
    "#'b', 'g', 'r', 'c', 'm', 'y', 'k', 'w'\n",
    "p_name = [r'$\\nu_{\\mu}$', r'$\\nu_{e}$', r'$\\nu_{\\tau}$']\n",
    "figure, (ax1) = plt.subplots(1, 1, figsize=(std_size,std_size), sharex=True)\n",
    "\n",
    "smoothing_val = 3\n",
    "\n",
    "#ax1.fill_between(np.log10(mass_ext), \n",
    "#  sp_c_sm(np.log10(mass_ext)),\n",
    "#    sp_c_un(np.log10(mass_ext)),\n",
    "#\n",
    "#    color='yellow', alpha=0.5\n",
    "#)\n",
    "\n",
    "#for j,i in enumerate(['numu', 'nue', 'nutau']):\n",
    "#    C_pone_unsm = ax1.contour(xx,yy, limits_pone_unsm[i], linestyles='--',linewidth=15, colors=color_pone, labels= r'P-ONE unsmeared', levels=[0.9])\n",
    "#    C_pone_sm = ax1.contour(xx,yy, limits_pone_sm[i], linestyles='-.', linewidth=15,colors=color_pone, labels=r'P-ONE smeared', levels=[0.9])\n",
    "#    break\n",
    "#C_pone_sm_old =  ax1.contour(xx,yy, limits_pone_sm_old[i], linestyles='dotted', linewidth=15,colors=color_pone, levels=[0.9]) \n",
    "#C_ice = ax1.contour(xx,yy, limits_ice[i],linestyles='--', linewidth=3, colors=color_ice, labels=r'IceCube simulation', levels=[0.9])\n",
    "C_ice_DM = ax1.contour(xx,yy, limits_ice_DM[i],linestyles='--', linewidth=3, colors=color_ice, labels=r'IceCube simulation', levels=[0.9])\n",
    "\n",
    "#C_com_unsm = ax1.contour(xx,yy, limits_com_unsm[i], linestyles='-', linewidth=15, colors=color_combined, labels=r'Combined', levels=[0.9])\n",
    "#C_com_sm = ax1.contour(xx,yy, limits_com_sm[i], linestyles='-.', linewidth=15, colors=color_combined, labels=r'Combined P-ONE smeared', levels=[0.9])\n",
    "#C_com_sm_old = ax1.contour(xx,yy, limits_com_sm_old[i], colors=color_combined, linewidth=15, linestyles='dotted', levels=[0.9])\n",
    "\n",
    "ax1.plot(np.log10(cl_lit_HE[:, 0]), np.log10(cl_lit_HE[:, 1]), color_ice , label=r' \\textrm{IceCube}')\n",
    "#ax1.plot(np.log10(cl_lit[:, 0]), np.log10(cl_lit[:, 1]), color_pone, label=r'P-ONE')\n",
    "ax1.plot(np.log10(th_cl[:, 0]), np.log10(th_cl[:, 1]), color=color_thermal, \n",
    "     label=r'\\textrm{Thermal Relic Abundance}')\n",
    "ax1.plot(np.log10(unitarity[:, 0]), np.log10(unitarity[:, 1]), '.',color=color_unitary, \n",
    "     label=r'\\textrm{Unitarity Bound}')\n",
    "\n",
    "h_ice, l_ice= C_ice.legend_elements()\n",
    "#h_com_unsm, l_com_unsm = C_com_unsm.legend_elements()\n",
    "#h_com_sm, l_com_sm = C_com_sm.legend_elements() \n",
    "#h_pone_unsm, l_pone_unsm = C_pone_unsm.legend_elements()\n",
    "#h_pone_sm, l_pone_sm = C_pone_sm.legend_elements()\n",
    "C_s = [C_ice]#, C_com_unsm, C_com_sm, C_pone_unsm, C_pone_sm]\n",
    "h_list = [h_ice[0]]#, h_com_unsm[0], h_com_sm[0], h_pone_unsm[0], h_pone_sm[0]]\n",
    "labels = [l_ice]#, l_com_unsm, l_com_sm, l_pone_unsm, l_com_sm]\n",
    "#for k in range(0, len(labels)):, , ,, \n",
    "#    ax1.clabel(C_s[i], inline=1, fontsize=fontsize)\n",
    "#    C_s[k].collections[0].set_label(labels[k])\n",
    "#C_s[1].collections[0].set_label(labels[1])\n",
    "h, l = ax1.get_legend_handles_labels()\n",
    "lgd1 = ax1.legend(h, l, loc=7, bbox_to_anchor=(0.97, +1.1),\n",
    "             ncol=2, fontsize=fontsize-2, handlelength=h_length,\n",
    "             fancybox=True, frameon=False)\n",
    "\n",
    "\n",
    "\n",
    "legend_elements = [Line2D([0], [0], color=color_ice, lw=1),\n",
    "                   Line2D([0], [0], linestyle='--', color=color_ice,  lw=1.1)\n",
    "                  ]\n",
    "labels = [r'$\\textrm{Literature}$',\n",
    "           r'$\\textrm{This paper}$']\n",
    "lgd2= ax1.legend(legend_elements, labels, loc=7, bbox_to_anchor=(0.9, 0.25),\n",
    "                 ncol=1, fontsize=fontsize, handlelength=h_length,\n",
    "                 fancybox=True, frameon=False)\n",
    "ax1.add_artist(lgd2)            \n",
    "#lgd2 = ax1.legend(h_list, labels, loc=7, bbox_to_anchor=(0.8, +0.3),\n",
    "#             fontsize=fontsize-2, handlelength=h_length, \n",
    "#             fancybox=True, frameon=True)\n",
    "ax1.add_artist(lgd2)\n",
    "ax1.set_title(r'Confidence Level Limits ', y = 1.2, fontsize=fontsize+1)\n",
    "ax1.add_artist(lgd1)\n",
    "ax1.set_xscale(\"linear\")\n",
    "ax1.set_yscale(\"linear\")\n",
    "ax1.set_xlabel(r\"$\\log_{10}$ ( $m_{\\chi}$ / $\\textrm{GeV}$ )\", fontsize=fontsize+1)\n",
    "ax1.set_ylabel(r\"$\\log_{10}$ ( $<\\sigma \\nu>$ / $\\textrm{cm}^{3}$ $\\textrm{s}^{-1}$ )\", fontsize=fontsize+1)\n",
    "#ax1.tick_params(axis = 'both', which='major', labelsize=fontsize, direction='in')\n",
    "ax1.tick_params(axis = 'both', which='major', labelsize=fontsize, direction='in')\n",
    "ax1.tick_params(axis = 'both', which = 'minor', labelsize=fontsize, direction='in')\n",
    "ax1.set_xlim(3.9, max(np.log10(mass_grid)))\n",
    "ax1.set_ylim(min(np.log10(sv_grid)), -22)  # min(np.log10(sv_grid)), -21\n",
    "\n",
    "figure.savefig('../pics/Limits_result_ice.png',bbox_inches='tight', dpi=export_dpi, facecolor='white')"
   ]
  },
  {
   "cell_type": "code",
   "execution_count": 13,
   "metadata": {},
   "outputs": [],
   "source": [
    "a = []\n",
    "c = []\n",
    "b = []"
   ]
  },
  {
   "cell_type": "code",
   "execution_count": null,
   "metadata": {},
   "outputs": [],
   "source": []
  }
 ],
 "metadata": {
  "interpreter": {
   "hash": "82a3a656d33f35b7f3fe77a22343614a58c995dc979ba6da45d214804d59b344"
  },
  "kernelspec": {
   "display_name": "Python 3.9.5 64-bit ('pdm': conda)",
   "name": "python3"
  },
  "language_info": {
   "codemirror_mode": {
    "name": "ipython",
    "version": 3
   },
   "file_extension": ".py",
   "mimetype": "text/x-python",
   "name": "python",
   "nbconvert_exporter": "python",
   "pygments_lexer": "ipython3",
   "version": "3.9.11"
  },
  "orig_nbformat": 4
 },
 "nbformat": 4,
 "nbformat_minor": 2
}
