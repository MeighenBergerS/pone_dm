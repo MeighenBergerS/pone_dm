{
 "cells": [
  {
   "cell_type": "code",
   "execution_count": 1,
   "source": [
    "#  For sting e changes I made in python files"
   ],
   "outputs": [],
   "metadata": {}
  },
  {
   "cell_type": "code",
   "execution_count": 2,
   "source": [
    "from config import config\n",
    "from pone_aeff import Aeff\n",
    "from dm2nu import DM2Nu\n",
    "from atm_shower import Atm_Shower\n",
    "from detectors import Detector\n",
    "import numpy as np\n",
    "import matplotlib.pyplot as plt"
   ],
   "outputs": [],
   "metadata": {}
  },
  {
   "cell_type": "code",
   "execution_count": 3,
   "source": [
    "config[\"general\"][\"detector\"]=\"IceCube\""
   ],
   "outputs": [],
   "metadata": {}
  },
  {
   "cell_type": "code",
   "execution_count": 4,
   "source": [
    "#b=background(Aeff,DM2Nu,Atm_Shower)"
   ],
   "outputs": [],
   "metadata": {}
  },
  {
   "cell_type": "code",
   "execution_count": 5,
   "source": [
    "x= Detector(Aeff, DM2Nu, Atm_Shower)"
   ],
   "outputs": [],
   "metadata": {}
  },
  {
   "cell_type": "code",
   "execution_count": 6,
   "source": [
    "surface_flux_dic = x.surface_fluxes"
   ],
   "outputs": [],
   "metadata": {}
  },
  {
   "cell_type": "code",
   "execution_count": 7,
   "source": [
    "counts_unsmeared_atmos, counts_unsmeared_astro, m_egrid = x.effective_area_func(x.surface_fluxes, 9)"
   ],
   "outputs": [],
   "metadata": {}
  },
  {
   "cell_type": "code",
   "execution_count": 8,
   "source": [
    "smearing_example = x.smearing_function(1e6, 5, 9)\n",
    "smearing_example"
   ],
   "outputs": [
    {
     "output_type": "execute_result",
     "data": {
      "text/plain": [
       "(array([1.995, 2.324, 2.652, 2.981, 3.309, 3.638, 3.966, 4.295, 4.623,\n",
       "        4.952, 5.28 , 5.609, 5.937, 6.266, 6.595, 6.923, 7.252, 7.58 ,\n",
       "        7.909, 8.237]),\n",
       " array([0.00032751, 0.00360263, 0.03013124, 0.07893109, 0.09039403,\n",
       "        0.11102728, 0.11233721, 0.13100564, 0.14639941, 0.16441199,\n",
       "        0.20404043, 0.22500028, 0.25710003, 0.25677197, 0.27937066,\n",
       "        0.30295042, 0.3144147 , 0.24138018, 0.0890838 , 0.01048037]))"
      ]
     },
     "metadata": {},
     "execution_count": 8
    }
   ],
   "metadata": {}
  },
  {
   "cell_type": "code",
   "execution_count": 9,
   "source": [
    "test = x.sim2dec(surface_flux_dic, 4)"
   ],
   "outputs": [
    {
     "output_type": "stream",
     "name": "stderr",
     "text": [
      "100%|██████████| 91/91 [04:45<00:00,  3.14s/it]\n"
     ]
    }
   ],
   "metadata": {}
  },
  {
   "cell_type": "code",
   "execution_count": 10,
   "source": [
    "test  # labels : neutrino flavours ( total = atro + atmos )"
   ],
   "outputs": [
    {
     "output_type": "execute_result",
     "data": {
      "text/plain": [
       "{'numu': array([0.00000000e+00, 0.00000000e+00, 0.00000000e+00, 0.00000000e+00,\n",
       "        0.00000000e+00, 0.00000000e+00, 0.00000000e+00, 0.00000000e+00,\n",
       "        0.00000000e+00, 0.00000000e+00, 0.00000000e+00, 0.00000000e+00,\n",
       "        0.00000000e+00, 0.00000000e+00, 0.00000000e+00, 0.00000000e+00,\n",
       "        0.00000000e+00, 0.00000000e+00, 0.00000000e+00, 0.00000000e+00,\n",
       "        0.00000000e+00, 2.22454480e+00, 2.63937180e+02, 5.27695295e+02,\n",
       "        1.45242325e+03, 2.61263332e+03, 4.58414132e+03, 6.75431197e+03,\n",
       "        9.14594560e+03, 1.18476469e+04, 1.46158145e+04, 2.16326834e+04,\n",
       "        3.05533552e+04, 7.13107189e+04, 1.39641538e+05, 3.37488487e+05,\n",
       "        6.43938168e+05, 1.12945328e+06, 1.41621703e+06, 1.41437184e+06,\n",
       "        1.07507472e+06, 5.78310926e+05, 2.98536502e+05, 9.74655959e+04,\n",
       "        4.86761715e+04, 1.85804416e+04, 1.00212310e+04, 5.07144543e+03,\n",
       "        2.93297326e+03, 1.61363043e+03, 9.61173265e+02, 5.30151342e+02,\n",
       "        3.15716079e+02, 1.72992721e+02, 1.05863453e+02, 5.87220719e+01,\n",
       "        3.57639611e+01, 2.06667797e+01, 1.34203636e+01, 8.20997808e+00,\n",
       "        5.37045876e+00, 3.58520676e+00, 2.40083170e+00, 1.59284232e+00,\n",
       "        1.11203661e+00, 7.19388038e-01, 5.31662126e-01, 3.63072281e-01,\n",
       "        2.64388500e-01, 1.87711928e-01, 1.15507690e-01, 8.89286952e-02,\n",
       "        6.08228262e-02, 4.38002980e-02, 3.08768082e-02, 1.97620426e-02,\n",
       "        1.51737272e-02, 1.08995744e-02, 6.97394392e-03, 5.30881579e-03,\n",
       "        3.64333204e-03, 2.59238794e-03, 1.84385294e-03, 1.04950264e-03,\n",
       "        7.24081428e-04, 5.06976201e-04, 2.89924099e-04, 1.68616069e-04,\n",
       "        1.20441691e-04, 7.22686394e-05, 2.82461641e-05, 1.97056896e-05,\n",
       "        1.11652151e-05, 0.00000000e+00, 0.00000000e+00, 0.00000000e+00,\n",
       "        0.00000000e+00, 0.00000000e+00, 0.00000000e+00, 0.00000000e+00,\n",
       "        0.00000000e+00, 0.00000000e+00, 0.00000000e+00, 0.00000000e+00,\n",
       "        0.00000000e+00, 0.00000000e+00, 0.00000000e+00, 0.00000000e+00,\n",
       "        0.00000000e+00, 0.00000000e+00, 0.00000000e+00, 0.00000000e+00,\n",
       "        0.00000000e+00, 0.00000000e+00, 0.00000000e+00, 0.00000000e+00,\n",
       "        0.00000000e+00, 0.00000000e+00, 0.00000000e+00, 0.00000000e+00,\n",
       "        0.00000000e+00]),\n",
       " 'nue': array([0.00000000e+00, 0.00000000e+00, 0.00000000e+00, 0.00000000e+00,\n",
       "        0.00000000e+00, 0.00000000e+00, 0.00000000e+00, 0.00000000e+00,\n",
       "        0.00000000e+00, 0.00000000e+00, 0.00000000e+00, 0.00000000e+00,\n",
       "        0.00000000e+00, 0.00000000e+00, 0.00000000e+00, 0.00000000e+00,\n",
       "        0.00000000e+00, 0.00000000e+00, 0.00000000e+00, 0.00000000e+00,\n",
       "        0.00000000e+00, 2.22454480e+00, 2.63937180e+02, 5.27695295e+02,\n",
       "        1.45242325e+03, 2.61263332e+03, 4.58414132e+03, 6.75431197e+03,\n",
       "        9.14594560e+03, 1.18476469e+04, 1.46158145e+04, 2.16326834e+04,\n",
       "        3.05533552e+04, 7.13107189e+04, 1.39641538e+05, 3.37488487e+05,\n",
       "        6.43938168e+05, 1.12945328e+06, 1.41621703e+06, 1.41437184e+06,\n",
       "        1.07507472e+06, 5.78310926e+05, 2.98536502e+05, 9.74655959e+04,\n",
       "        4.86761715e+04, 1.85804416e+04, 1.00212310e+04, 5.07144543e+03,\n",
       "        2.93297326e+03, 1.61363043e+03, 9.61173265e+02, 5.30151342e+02,\n",
       "        3.15716079e+02, 1.72992721e+02, 1.05863453e+02, 5.87220719e+01,\n",
       "        3.57639611e+01, 2.06667797e+01, 1.34203636e+01, 8.20997808e+00,\n",
       "        5.37045876e+00, 3.58520676e+00, 2.40083170e+00, 1.59284232e+00,\n",
       "        1.11203661e+00, 7.19388038e-01, 5.31662126e-01, 3.63072281e-01,\n",
       "        2.64388500e-01, 1.87711928e-01, 1.15507690e-01, 8.89286952e-02,\n",
       "        6.08228262e-02, 4.38002980e-02, 3.08768082e-02, 1.97620426e-02,\n",
       "        1.51737272e-02, 1.08995744e-02, 6.97394392e-03, 5.30881579e-03,\n",
       "        3.64333204e-03, 2.59238794e-03, 1.84385294e-03, 1.04950264e-03,\n",
       "        7.24081428e-04, 5.06976201e-04, 2.89924099e-04, 1.68616069e-04,\n",
       "        1.20441691e-04, 7.22686394e-05, 2.82461641e-05, 1.97056896e-05,\n",
       "        1.11652151e-05, 0.00000000e+00, 0.00000000e+00, 0.00000000e+00,\n",
       "        0.00000000e+00, 0.00000000e+00, 0.00000000e+00, 0.00000000e+00,\n",
       "        0.00000000e+00, 0.00000000e+00, 0.00000000e+00, 0.00000000e+00,\n",
       "        0.00000000e+00, 0.00000000e+00, 0.00000000e+00, 0.00000000e+00,\n",
       "        0.00000000e+00, 0.00000000e+00, 0.00000000e+00, 0.00000000e+00,\n",
       "        0.00000000e+00, 0.00000000e+00, 0.00000000e+00, 0.00000000e+00,\n",
       "        0.00000000e+00, 0.00000000e+00, 0.00000000e+00, 0.00000000e+00,\n",
       "        0.00000000e+00]),\n",
       " 'nutau': array([0.00000000e+00, 0.00000000e+00, 0.00000000e+00, 0.00000000e+00,\n",
       "        0.00000000e+00, 0.00000000e+00, 0.00000000e+00, 0.00000000e+00,\n",
       "        0.00000000e+00, 0.00000000e+00, 0.00000000e+00, 0.00000000e+00,\n",
       "        0.00000000e+00, 0.00000000e+00, 0.00000000e+00, 0.00000000e+00,\n",
       "        0.00000000e+00, 0.00000000e+00, 0.00000000e+00, 0.00000000e+00,\n",
       "        0.00000000e+00, 2.22454480e+00, 2.63937180e+02, 5.27695295e+02,\n",
       "        1.45242325e+03, 2.61263332e+03, 4.58414132e+03, 6.75431197e+03,\n",
       "        9.14594560e+03, 1.18476469e+04, 1.46158145e+04, 2.16326834e+04,\n",
       "        3.05533552e+04, 7.13107189e+04, 1.39641538e+05, 3.37488487e+05,\n",
       "        6.43938168e+05, 1.12945328e+06, 1.41621703e+06, 1.41437184e+06,\n",
       "        1.07507472e+06, 5.78310926e+05, 2.98536502e+05, 9.74655959e+04,\n",
       "        4.86761715e+04, 1.85804416e+04, 1.00212310e+04, 5.07144543e+03,\n",
       "        2.93297326e+03, 1.61363043e+03, 9.61173265e+02, 5.30151342e+02,\n",
       "        3.15716079e+02, 1.72992721e+02, 1.05863453e+02, 5.87220719e+01,\n",
       "        3.57639611e+01, 2.06667797e+01, 1.34203636e+01, 8.20997808e+00,\n",
       "        5.37045876e+00, 3.58520676e+00, 2.40083170e+00, 1.59284232e+00,\n",
       "        1.11203661e+00, 7.19388038e-01, 5.31662126e-01, 3.63072281e-01,\n",
       "        2.64388500e-01, 1.87711928e-01, 1.15507690e-01, 8.89286952e-02,\n",
       "        6.08228262e-02, 4.38002980e-02, 3.08768082e-02, 1.97620426e-02,\n",
       "        1.51737272e-02, 1.08995744e-02, 6.97394392e-03, 5.30881579e-03,\n",
       "        3.64333204e-03, 2.59238794e-03, 1.84385294e-03, 1.04950264e-03,\n",
       "        7.24081428e-04, 5.06976201e-04, 2.89924099e-04, 1.68616069e-04,\n",
       "        1.20441691e-04, 7.22686394e-05, 2.82461641e-05, 1.97056896e-05,\n",
       "        1.11652151e-05, 0.00000000e+00, 0.00000000e+00, 0.00000000e+00,\n",
       "        0.00000000e+00, 0.00000000e+00, 0.00000000e+00, 0.00000000e+00,\n",
       "        0.00000000e+00, 0.00000000e+00, 0.00000000e+00, 0.00000000e+00,\n",
       "        0.00000000e+00, 0.00000000e+00, 0.00000000e+00, 0.00000000e+00,\n",
       "        0.00000000e+00, 0.00000000e+00, 0.00000000e+00, 0.00000000e+00,\n",
       "        0.00000000e+00, 0.00000000e+00, 0.00000000e+00, 0.00000000e+00,\n",
       "        0.00000000e+00, 0.00000000e+00, 0.00000000e+00, 0.00000000e+00,\n",
       "        0.00000000e+00])}"
      ]
     },
     "metadata": {},
     "execution_count": 10
    }
   ],
   "metadata": {}
  },
  {
   "cell_type": "code",
   "execution_count": 20,
   "source": [
    "plt.bar(np.log10(x._egrid), test['numu'])\n",
    "#plt.bar(np.log10(x._egrid), integrated_grid_astro)\n",
    "plt.yscale(\"log\")\n",
    "plt.ylim(1., 1e3)\n",
    "plt.xlim(4, 6.5)"
   ],
   "outputs": [
    {
     "output_type": "execute_result",
     "data": {
      "text/plain": [
       "(4.0, 6.5)"
      ]
     },
     "metadata": {},
     "execution_count": 20
    },
    {
     "output_type": "display_data",
     "data": {
      "image/png": "[encoded data removed]",
      "text/plain": [
       "<Figure size 432x288 with 1 Axes>"
      ]
     },
     "metadata": {
      "needs_background": "light"
     }
    }
   ],
   "metadata": {}
  },
  {
   "cell_type": "code",
   "execution_count": null,
   "source": [],
   "outputs": [],
   "metadata": {}
  }
 ],
 "metadata": {
  "orig_nbformat": 4,
  "language_info": {
   "name": "python",
   "version": "3.9.5",
   "mimetype": "text/x-python",
   "codemirror_mode": {
    "name": "ipython",
    "version": 3
   },
   "pygments_lexer": "ipython3",
   "nbconvert_exporter": "python",
   "file_extension": ".py"
  },
  "kernelspec": {
   "name": "python3",
   "display_name": "Python 3.9.5 64-bit ('pdm': conda)"
  },
  "interpreter": {
   "hash": "3a7673f786b35a19d50e5cf2cf3b9e2e95b6450e9b11bcd8718b86195d64c4be"
  }
 },
 "nbformat": 4,
 "nbformat_minor": 2
}