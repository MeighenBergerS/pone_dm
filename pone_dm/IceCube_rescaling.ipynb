{
 "cells": [
  {
   "cell_type": "code",
   "execution_count": 1,
   "metadata": {},
   "outputs": [],
   "source": [
    "# imports\n",
    "from constants import pdm_constants as const\n",
    "from config import config\n",
    "from pone_aeff import Aeff\n",
    "from dm2nu import DM2Nu\n",
    "from atm_shower import Atm_Shower\n",
    "from detectors import Detector\n",
    "import numpy as np\n",
    "\n",
    "import matplotlib.pyplot as plt\n",
    "from matplotlib.lines import Line2D\n",
    "import matplotlib.patches as mpatches\n",
    "\n",
    "from limit_calc import Limits\n",
    "from bkgrd_calc import Background\n",
    "from signal_calc import Signal\n",
    "from pdm import PDM\n",
    "from scipy.interpolate import UnivariateSpline\n",
    "from scipy.stats import chi2\n",
    "from scipy.stats import *\n",
    "from pone_aeff import Aeff\n",
    "import pickle\n",
    "from matplotlib import rc\n",
    "\n",
    "import os\n",
    "import shutil\n",
    "def find_nearest(array, value: float):\n",
    "    \n",
    "    \"\"\" Returns: index of the nearest vlaue of an array to the given number\n",
    "    --------------\n",
    "    idx :  float\n",
    "    \"\"\"\n",
    "    array = np.array(array)\n",
    "    idx = (np.abs(array - value)).argmin()\n",
    "    return idx"
   ]
  },
  {
   "cell_type": "code",
   "execution_count": 2,
   "metadata": {},
   "outputs": [],
   "source": [
    "# picture path\n",
    "PICS = '../pics/'\n",
    "name=[r'$\\nu_{\\mu}$', r\"$\\nu_e$\", r\"$\\nu_{\\tau}$\"]  # ,r'$\\nu_{e}$',r'$\\nu_{\\tau}$'\n",
    "# Plotting standards\n",
    "std_size = 6.  # Size of the plot\n",
    "fontsize = 15.  # Fontsize in the plot\n",
    "\n",
    "h_length=1.5  # Handle length for the legends\n",
    "export_dpi = 500  # Dpi for the image export\n",
    "color_pone='#7570b3'\n",
    "color_ice='#e7298a'\n",
    "color_combined='#33a02c'\n",
    "color_thermal='#1f78b4'\n",
    "color_unitary='k'\n",
    "color_4='#1b9e77'\n",
    "color_6='#d95f02'\n",
    "color_km = '#1a9641'\n",
    "rc('font',**{'family':'sans-serif','sans-serif':['Helvetica']})\n",
    "rc('text', usetex=True)"
   ]
  },
  {
   "cell_type": "code",
   "execution_count": 3,
   "metadata": {},
   "outputs": [],
   "source": [
    "low_E_sigma = {\n",
    "                'numu': [0.45, 0.35, 0.25, 0.15],\n",
    "                'nue': [0.55, 0.45, 0.35, 0.25],\n",
    "                'nutau': [0.55, 0.45, 0.35, 0.25]},\n",
    "high_E_sigma = {\n",
    "                'numu': [0.25, 0.15, 0.10, 0.09],\n",
    "                'nue': [0.15, 0.12, 0.09, 0.07],\n",
    "                'nutau': [0.15, 0.12, 0.09, 0.07] }"
   ]
  },
  {
   "cell_type": "code",
   "execution_count": 7,
   "metadata": {},
   "outputs": [],
   "source": [
    "name_part=['All']#,'\\[Tau]', \"W\"]\n"
   ]
  },
  {
   "cell_type": "code",
   "execution_count": 8,
   "metadata": {},
   "outputs": [
    {
     "name": "stdout",
     "output_type": "stream",
     "text": [
      "unsmeared\n",
      "ICeCube... Effective Areas\n",
      "ICeCube... Effective Areas\n",
      "Loading Effective Area\n",
      "IceCube\n"
     ]
    },
    {
     "name": "stderr",
     "output_type": "stream",
     "text": [
      "/home/kruteesh/Desktop/DM_nu_simulation_P-One/PONE_git/pone_work/pone_dm/dm2nu.py:372: RuntimeWarning: overflow encountered in exp\n",
      "  dd = np.exp(d_2 / s_in(x)**2)\n",
      "/home/kruteesh/Desktop/DM_nu_simulation_P-One/PONE_git/pone_work/pone_dm/dm2nu.py:373: RuntimeWarning: overflow encountered in multiply\n",
      "  return A * aa * dd\n",
      "100%|██████████| 91/91 [08:02<00:00,  5.30s/it]\n",
      "100%|██████████| 91/91 [07:54<00:00,  5.21s/it]\n",
      " 84%|████████▎ | 76/91 [07:57<01:34,  6.28s/it]\n"
     ]
    },
    {
     "ename": "KeyboardInterrupt",
     "evalue": "",
     "output_type": "error",
     "traceback": [
      "\u001b[0;31m---------------------------------------------------------------------------\u001b[0m",
      "\u001b[0;31mFileNotFoundError\u001b[0m                         Traceback (most recent call last)",
      "File \u001b[0;32m~/Desktop/DM_nu_simulation_P-One/PONE_git/pone_work/pone_dm/limit_calc.py:92\u001b[0m, in \u001b[0;36mLimits.limit_calc_ice\u001b[0;34m(self, mass_grid, sv_grid)\u001b[0m\n\u001b[1;32m     91\u001b[0m     _log\u001b[39m.\u001b[39minfo(\u001b[39m'\u001b[39m\u001b[39mFetching precalculated signal grid for IceCube\u001b[39m\u001b[39m'\u001b[39m)\n\u001b[0;32m---> 92\u001b[0m     \u001b[39mself\u001b[39m\u001b[39m.\u001b[39m_signal_grid \u001b[39m=\u001b[39m pickle\u001b[39m.\u001b[39mload(\u001b[39mopen\u001b[39;49m(\n\u001b[1;32m     93\u001b[0m                     \u001b[39m'\u001b[39;49m\u001b[39m../data/limits_signal_IceCube.pkl\u001b[39;49m\u001b[39m'\u001b[39;49m, \u001b[39m'\u001b[39;49m\u001b[39mrb\u001b[39;49m\u001b[39m'\u001b[39;49m))\n\u001b[1;32m     94\u001b[0m \u001b[39mexcept\u001b[39;00m \u001b[39mFileNotFoundError\u001b[39;00m:\n",
      "\u001b[0;31mFileNotFoundError\u001b[0m: [Errno 2] No such file or directory: '../data/limits_signal_IceCube.pkl'",
      "\nDuring handling of the above exception, another exception occurred:\n",
      "\u001b[0;31mKeyboardInterrupt\u001b[0m                         Traceback (most recent call last)",
      "\u001b[1;32m/home/kruteesh/Desktop/DM_nu_simulation_P-One/PONE_git/pone_work/pone_dm/IceCube_rescaling.ipynb Cell 5\u001b[0m in \u001b[0;36m<cell line: 5>\u001b[0;34m()\u001b[0m\n\u001b[1;32m     <a href='vscode-notebook-cell:/home/kruteesh/Desktop/DM_nu_simulation_P-One/PONE_git/pone_work/pone_dm/IceCube_rescaling.ipynb#W4sZmlsZQ%3D%3D?line=24'>25</a>\u001b[0m \u001b[39mif\u001b[39;00m i\u001b[39m==\u001b[39m\u001b[39m'\u001b[39m\u001b[39mAll\u001b[39m\u001b[39m'\u001b[39m:\n\u001b[1;32m     <a href='vscode-notebook-cell:/home/kruteesh/Desktop/DM_nu_simulation_P-One/PONE_git/pone_work/pone_dm/IceCube_rescaling.ipynb#W4sZmlsZQ%3D%3D?line=25'>26</a>\u001b[0m     config[\u001b[39m\"\u001b[39m\u001b[39matmospheric showers\u001b[39m\u001b[39m\"\u001b[39m][\u001b[39m'\u001b[39m\u001b[39mparticles of interest\u001b[39m\u001b[39m'\u001b[39m] \u001b[39m=\u001b[39m [\u001b[39m'\u001b[39m\u001b[39mnumu\u001b[39m\u001b[39m'\u001b[39m]\n\u001b[0;32m---> <a href='vscode-notebook-cell:/home/kruteesh/Desktop/DM_nu_simulation_P-One/PONE_git/pone_work/pone_dm/IceCube_rescaling.ipynb#W4sZmlsZQ%3D%3D?line=26'>27</a>\u001b[0m     pdm \u001b[39m=\u001b[39m PDM()\n\u001b[1;32m     <a href='vscode-notebook-cell:/home/kruteesh/Desktop/DM_nu_simulation_P-One/PONE_git/pone_work/pone_dm/IceCube_rescaling.ipynb#W4sZmlsZQ%3D%3D?line=28'>29</a>\u001b[0m \u001b[39melif\u001b[39;00m i\u001b[39m==\u001b[39m\u001b[39m'\u001b[39m\u001b[39m\\\u001b[39m\u001b[39m[Tau]\u001b[39m\u001b[39m'\u001b[39m:\n\u001b[1;32m     <a href='vscode-notebook-cell:/home/kruteesh/Desktop/DM_nu_simulation_P-One/PONE_git/pone_work/pone_dm/IceCube_rescaling.ipynb#W4sZmlsZQ%3D%3D?line=29'>30</a>\u001b[0m     config[\u001b[39m\"\u001b[39m\u001b[39matmospheric showers\u001b[39m\u001b[39m\"\u001b[39m][\u001b[39m'\u001b[39m\u001b[39mparticles of interest\u001b[39m\u001b[39m'\u001b[39m] \u001b[39m=\u001b[39m [\u001b[39m'\u001b[39m\u001b[39mnue\u001b[39m\u001b[39m'\u001b[39m]\n",
      "File \u001b[0;32m~/Desktop/DM_nu_simulation_P-One/PONE_git/pone_work/pone_dm/pdm.py:140\u001b[0m, in \u001b[0;36mPDM.__init__\u001b[0;34m(self, userconfig)\u001b[0m\n\u001b[1;32m    138\u001b[0m \u001b[39mself\u001b[39m\u001b[39m.\u001b[39msv_grid \u001b[39m=\u001b[39m config[\u001b[39m\"\u001b[39m\u001b[39msimulation parameters\u001b[39m\u001b[39m\"\u001b[39m][\u001b[39m\"\u001b[39m\u001b[39msv grid\u001b[39m\u001b[39m\"\u001b[39m]\n\u001b[1;32m    139\u001b[0m \u001b[39mif\u001b[39;00m \u001b[39mself\u001b[39m\u001b[39m.\u001b[39m_detector_name \u001b[39m==\u001b[39m \u001b[39m\"\u001b[39m\u001b[39mIceCube\u001b[39m\u001b[39m\"\u001b[39m:\n\u001b[0;32m--> 140\u001b[0m     \u001b[39mself\u001b[39m\u001b[39m.\u001b[39m_results, \u001b[39mself\u001b[39m\u001b[39m.\u001b[39m_signal_data, \u001b[39mself\u001b[39m\u001b[39m.\u001b[39mprob_mat \u001b[39m=\u001b[39m \u001b[39mself\u001b[39;49m\u001b[39m.\u001b[39;49m_limit_calc\u001b[39m.\u001b[39;49mlimits(\n\u001b[1;32m    141\u001b[0m         \u001b[39mself\u001b[39;49m\u001b[39m.\u001b[39;49mmass_grid, \u001b[39mself\u001b[39;49m\u001b[39m.\u001b[39;49msv_grid)\n\u001b[1;32m    142\u001b[0m     \u001b[39m# --------------------------------------------------------------\u001b[39;00m\n\u001b[1;32m    143\u001b[0m     \u001b[39m# Dumping the config settings for later debugging\u001b[39;00m\n\u001b[1;32m    144\u001b[0m     pickle\u001b[39m.\u001b[39mdump(\u001b[39mself\u001b[39m\u001b[39m.\u001b[39m_results, \u001b[39mopen\u001b[39m(\n\u001b[1;32m    145\u001b[0m         \u001b[39m'\u001b[39m\u001b[39m../data/tmp_files/\u001b[39m\u001b[39m%s\u001b[39;00m\u001b[39m/limits_results_\u001b[39m\u001b[39m%s\u001b[39;00m\u001b[39m_\u001b[39m\u001b[39m%s\u001b[39;00m\u001b[39m.pkl\u001b[39m\u001b[39m'\u001b[39m \u001b[39m%\u001b[39m (\n\u001b[1;32m    146\u001b[0m             \u001b[39mself\u001b[39m\u001b[39m.\u001b[39m_smea_folder,\n\u001b[1;32m    147\u001b[0m             \u001b[39mself\u001b[39m\u001b[39m.\u001b[39m_detector_name,\n\u001b[1;32m    148\u001b[0m             \u001b[39mself\u001b[39m\u001b[39m.\u001b[39m_smea), \u001b[39m'\u001b[39m\u001b[39mwb\u001b[39m\u001b[39m'\u001b[39m))\n",
      "File \u001b[0;32m~/Desktop/DM_nu_simulation_P-One/PONE_git/pone_work/pone_dm/limit_calc.py:98\u001b[0m, in \u001b[0;36mLimits.limit_calc_ice\u001b[0;34m(self, mass_grid, sv_grid)\u001b[0m\n\u001b[1;32m     96\u001b[0m     _log\u001b[39m.\u001b[39minfo(\u001b[39m'\u001b[39m\u001b[39mCalculating the signal grid for IceCube\u001b[39m\u001b[39m'\u001b[39m)\n\u001b[1;32m     97\u001b[0m     \u001b[39m# for more generations adding the loop ----\u001b[39;00m\n\u001b[0;32m---> 98\u001b[0m     \u001b[39mself\u001b[39m\u001b[39m.\u001b[39m_signal_grid \u001b[39m=\u001b[39m np\u001b[39m.\u001b[39marray([[\n\u001b[1;32m     99\u001b[0m              np\u001b[39m.\u001b[39msum(\u001b[39mself\u001b[39m\u001b[39m.\u001b[39m_signal(\u001b[39mself\u001b[39m\u001b[39m.\u001b[39m_egrid, mass, sv),\n\u001b[1;32m    100\u001b[0m                     axis\u001b[39m=\u001b[39m\u001b[39m0\u001b[39m) \u001b[39m*\u001b[39m config[\u001b[39m\"\u001b[39m\u001b[39madvanced\u001b[39m\u001b[39m\"\u001b[39m][\u001b[39m\"\u001b[39m\u001b[39mscaling correction\u001b[39m\u001b[39m\"\u001b[39m]\n\u001b[1;32m    101\u001b[0m              \u001b[39mfor\u001b[39;00m mass \u001b[39min\u001b[39;00m mass_grid]\n\u001b[1;32m    102\u001b[0m              \u001b[39mfor\u001b[39;00m sv \u001b[39min\u001b[39;00m sv_grid]\n\u001b[1;32m    103\u001b[0m              )\n\u001b[1;32m    105\u001b[0m \u001b[39mfor\u001b[39;00m i \u001b[39min\u001b[39;00m (\u001b[39mself\u001b[39m\u001b[39m.\u001b[39mparticles):\n\u001b[1;32m    106\u001b[0m \n\u001b[1;32m    107\u001b[0m     \u001b[39m# Poissonian Method for Likelihood analysis\u001b[39;00m\n\u001b[0;32m   (...)\u001b[0m\n\u001b[1;32m    113\u001b[0m     \u001b[39m#     sample_count=10000)\u001b[39;00m\n\u001b[1;32m    114\u001b[0m     \u001b[39m# With only data no projections for background -------\u001b[39;00m\n\u001b[1;32m    115\u001b[0m     \u001b[39mself\u001b[39m\u001b[39m.\u001b[39m_signal_grid \u001b[39m=\u001b[39m (\u001b[39mself\u001b[39m\u001b[39m.\u001b[39m_signal_grid \u001b[39m*\u001b[39m\n\u001b[1;32m    116\u001b[0m                          config[\u001b[39m\"\u001b[39m\u001b[39madvanced\u001b[39m\u001b[39m\"\u001b[39m][\u001b[39m\"\u001b[39m\u001b[39mscaling correction\u001b[39m\u001b[39m\"\u001b[39m])\n",
      "File \u001b[0;32m~/Desktop/DM_nu_simulation_P-One/PONE_git/pone_work/pone_dm/limit_calc.py:98\u001b[0m, in \u001b[0;36m<listcomp>\u001b[0;34m(.0)\u001b[0m\n\u001b[1;32m     96\u001b[0m     _log\u001b[39m.\u001b[39minfo(\u001b[39m'\u001b[39m\u001b[39mCalculating the signal grid for IceCube\u001b[39m\u001b[39m'\u001b[39m)\n\u001b[1;32m     97\u001b[0m     \u001b[39m# for more generations adding the loop ----\u001b[39;00m\n\u001b[0;32m---> 98\u001b[0m     \u001b[39mself\u001b[39m\u001b[39m.\u001b[39m_signal_grid \u001b[39m=\u001b[39m np\u001b[39m.\u001b[39marray([[\n\u001b[1;32m     99\u001b[0m              np\u001b[39m.\u001b[39msum(\u001b[39mself\u001b[39m\u001b[39m.\u001b[39m_signal(\u001b[39mself\u001b[39m\u001b[39m.\u001b[39m_egrid, mass, sv),\n\u001b[1;32m    100\u001b[0m                     axis\u001b[39m=\u001b[39m\u001b[39m0\u001b[39m) \u001b[39m*\u001b[39m config[\u001b[39m\"\u001b[39m\u001b[39madvanced\u001b[39m\u001b[39m\"\u001b[39m][\u001b[39m\"\u001b[39m\u001b[39mscaling correction\u001b[39m\u001b[39m\"\u001b[39m]\n\u001b[1;32m    101\u001b[0m              \u001b[39mfor\u001b[39;00m mass \u001b[39min\u001b[39;00m mass_grid]\n\u001b[1;32m    102\u001b[0m              \u001b[39mfor\u001b[39;00m sv \u001b[39min\u001b[39;00m sv_grid]\n\u001b[1;32m    103\u001b[0m              )\n\u001b[1;32m    105\u001b[0m \u001b[39mfor\u001b[39;00m i \u001b[39min\u001b[39;00m (\u001b[39mself\u001b[39m\u001b[39m.\u001b[39mparticles):\n\u001b[1;32m    106\u001b[0m \n\u001b[1;32m    107\u001b[0m     \u001b[39m# Poissonian Method for Likelihood analysis\u001b[39;00m\n\u001b[0;32m   (...)\u001b[0m\n\u001b[1;32m    113\u001b[0m     \u001b[39m#     sample_count=10000)\u001b[39;00m\n\u001b[1;32m    114\u001b[0m     \u001b[39m# With only data no projections for background -------\u001b[39;00m\n\u001b[1;32m    115\u001b[0m     \u001b[39mself\u001b[39m\u001b[39m.\u001b[39m_signal_grid \u001b[39m=\u001b[39m (\u001b[39mself\u001b[39m\u001b[39m.\u001b[39m_signal_grid \u001b[39m*\u001b[39m\n\u001b[1;32m    116\u001b[0m                          config[\u001b[39m\"\u001b[39m\u001b[39madvanced\u001b[39m\u001b[39m\"\u001b[39m][\u001b[39m\"\u001b[39m\u001b[39mscaling correction\u001b[39m\u001b[39m\"\u001b[39m])\n",
      "File \u001b[0;32m~/Desktop/DM_nu_simulation_P-One/PONE_git/pone_work/pone_dm/limit_calc.py:99\u001b[0m, in \u001b[0;36m<listcomp>\u001b[0;34m(.0)\u001b[0m\n\u001b[1;32m     96\u001b[0m     _log\u001b[39m.\u001b[39minfo(\u001b[39m'\u001b[39m\u001b[39mCalculating the signal grid for IceCube\u001b[39m\u001b[39m'\u001b[39m)\n\u001b[1;32m     97\u001b[0m     \u001b[39m# for more generations adding the loop ----\u001b[39;00m\n\u001b[1;32m     98\u001b[0m     \u001b[39mself\u001b[39m\u001b[39m.\u001b[39m_signal_grid \u001b[39m=\u001b[39m np\u001b[39m.\u001b[39marray([[\n\u001b[0;32m---> 99\u001b[0m              np\u001b[39m.\u001b[39msum(\u001b[39mself\u001b[39;49m\u001b[39m.\u001b[39;49m_signal(\u001b[39mself\u001b[39;49m\u001b[39m.\u001b[39;49m_egrid, mass, sv),\n\u001b[1;32m    100\u001b[0m                     axis\u001b[39m=\u001b[39m\u001b[39m0\u001b[39m) \u001b[39m*\u001b[39m config[\u001b[39m\"\u001b[39m\u001b[39madvanced\u001b[39m\u001b[39m\"\u001b[39m][\u001b[39m\"\u001b[39m\u001b[39mscaling correction\u001b[39m\u001b[39m\"\u001b[39m]\n\u001b[1;32m    101\u001b[0m              \u001b[39mfor\u001b[39;00m mass \u001b[39min\u001b[39;00m mass_grid]\n\u001b[1;32m    102\u001b[0m              \u001b[39mfor\u001b[39;00m sv \u001b[39min\u001b[39;00m sv_grid]\n\u001b[1;32m    103\u001b[0m              )\n\u001b[1;32m    105\u001b[0m \u001b[39mfor\u001b[39;00m i \u001b[39min\u001b[39;00m (\u001b[39mself\u001b[39m\u001b[39m.\u001b[39mparticles):\n\u001b[1;32m    106\u001b[0m \n\u001b[1;32m    107\u001b[0m     \u001b[39m# Poissonian Method for Likelihood analysis\u001b[39;00m\n\u001b[0;32m   (...)\u001b[0m\n\u001b[1;32m    113\u001b[0m     \u001b[39m#     sample_count=10000)\u001b[39;00m\n\u001b[1;32m    114\u001b[0m     \u001b[39m# With only data no projections for background -------\u001b[39;00m\n\u001b[1;32m    115\u001b[0m     \u001b[39mself\u001b[39m\u001b[39m.\u001b[39m_signal_grid \u001b[39m=\u001b[39m (\u001b[39mself\u001b[39m\u001b[39m.\u001b[39m_signal_grid \u001b[39m*\u001b[39m\n\u001b[1;32m    116\u001b[0m                          config[\u001b[39m\"\u001b[39m\u001b[39madvanced\u001b[39m\u001b[39m\"\u001b[39m][\u001b[39m\"\u001b[39m\u001b[39mscaling correction\u001b[39m\u001b[39m\"\u001b[39m])\n",
      "File \u001b[0;32m~/Desktop/DM_nu_simulation_P-One/PONE_git/pone_work/pone_dm/signal_calc.py:148\u001b[0m, in \u001b[0;36mSignal._signal_calc_ice\u001b[0;34m(self, egrid, mass, sv)\u001b[0m\n\u001b[1;32m    144\u001b[0m     \u001b[39mfor\u001b[39;00m y \u001b[39min\u001b[39;00m \u001b[39mself\u001b[39m\u001b[39m.\u001b[39m_year:\n\u001b[1;32m    145\u001b[0m         _log\u001b[39m.\u001b[39minfo(\u001b[39m\"\u001b[39m\u001b[39m signal ice year =\u001b[39m\u001b[39m\"\u001b[39m \u001b[39m+\u001b[39m\n\u001b[1;32m    146\u001b[0m                   \u001b[39m\"\u001b[39m\u001b[39m%e\u001b[39;00m\u001b[39m, mass = \u001b[39m\u001b[39m%.1e\u001b[39;00m\u001b[39m, sv = \u001b[39m\u001b[39m%.1e\u001b[39;00m\u001b[39m\"\u001b[39m \u001b[39m%\u001b[39m (y, mass, sv))\n\u001b[1;32m    147\u001b[0m         total_new_counts\u001b[39m.\u001b[39mappend(\n\u001b[0;32m--> 148\u001b[0m             np\u001b[39m.\u001b[39marray(\u001b[39mself\u001b[39;49m\u001b[39m.\u001b[39;49m_detector\u001b[39m.\u001b[39;49msim2dec(total_flux,\n\u001b[1;32m    149\u001b[0m                                             y)[\u001b[39m'\u001b[39m\u001b[39mnumu\u001b[39m\u001b[39m'\u001b[39m]))\n\u001b[1;32m    151\u001b[0m \u001b[39m# the sim_to_dec omits the dict but we assume\u001b[39;00m\n\u001b[1;32m    152\u001b[0m \u001b[39m# same for all neutrino flavours\u001b[39;00m\n\u001b[1;32m    154\u001b[0m \u001b[39mreturn\u001b[39;00m total_new_counts\n",
      "File \u001b[0;32m~/Desktop/DM_nu_simulation_P-One/PONE_git/pone_work/pone_dm/detectors.py:261\u001b[0m, in \u001b[0;36mDetector.sim_to_dec\u001b[0;34m(self, flux, year)\u001b[0m\n\u001b[1;32m    259\u001b[0m tmp_2 \u001b[39m=\u001b[39m []\n\u001b[1;32m    260\u001b[0m \u001b[39mfor\u001b[39;00m id_check \u001b[39min\u001b[39;00m \u001b[39mrange\u001b[39m(\u001b[39mlen\u001b[39m(log_egrid)):\n\u001b[0;32m--> 261\u001b[0m     smearing_e, smearing \u001b[39m=\u001b[39m \u001b[39mself\u001b[39;49m\u001b[39m.\u001b[39;49msmearing_function(\n\u001b[1;32m    262\u001b[0m                                                 log_egrid[\n\u001b[1;32m    263\u001b[0m                                                     id_check],\n\u001b[1;32m    264\u001b[0m                                                 check_angle,\n\u001b[1;32m    265\u001b[0m                                                 year)\n\u001b[1;32m    266\u001b[0m     \u001b[39m# print(len(at_counts_unsm[theta]), len(smearing))\u001b[39;00m\n\u001b[1;32m    267\u001b[0m     \u001b[39mif\u001b[39;00m \u001b[39mlen\u001b[39m(smearing) \u001b[39m<\u001b[39m \u001b[39m3\u001b[39m:\n",
      "File \u001b[0;32m~/Desktop/DM_nu_simulation_P-One/PONE_git/pone_work/pone_dm/detectors.py:202\u001b[0m, in \u001b[0;36mDetector.smearing_function\u001b[0;34m(self, true_e, true_dec, year)\u001b[0m\n\u001b[1;32m    200\u001b[0m idtheta \u001b[39m=\u001b[39m np\u001b[39m.\u001b[39mabs(ch_theta \u001b[39m-\u001b[39m angle_test)\u001b[39m.\u001b[39margmin()\n\u001b[1;32m    201\u001b[0m all_near_theta \u001b[39m=\u001b[39m (np\u001b[39m.\u001b[39mwhere(ch_theta \u001b[39m==\u001b[39m ch_theta[idtheta])[\u001b[39m0\u001b[39m])\n\u001b[0;32m--> 202\u001b[0m elements_of_interest \u001b[39m=\u001b[39m np\u001b[39m.\u001b[39;49mintersect1d(all_near_e, all_near_theta)\n\u001b[1;32m    203\u001b[0m tmp_sme \u001b[39m=\u001b[39m local_smearing[elements_of_interest]\n\u001b[1;32m    204\u001b[0m smearing_e_grid \u001b[39m=\u001b[39m np\u001b[39m.\u001b[39munique(tmp_sme[:, \u001b[39m4\u001b[39m])\n",
      "File \u001b[0;32m<__array_function__ internals>:5\u001b[0m, in \u001b[0;36mintersect1d\u001b[0;34m(*args, **kwargs)\u001b[0m\n",
      "File \u001b[0;32m~/miniconda3/envs/pdm/lib/python3.9/site-packages/numpy/lib/arraysetops.py:430\u001b[0m, in \u001b[0;36mintersect1d\u001b[0;34m(ar1, ar2, assume_unique, return_indices)\u001b[0m\n\u001b[1;32m    428\u001b[0m     aux \u001b[39m=\u001b[39m aux[aux_sort_indices]\n\u001b[1;32m    429\u001b[0m \u001b[39melse\u001b[39;00m:\n\u001b[0;32m--> 430\u001b[0m     aux\u001b[39m.\u001b[39;49msort()\n\u001b[1;32m    432\u001b[0m mask \u001b[39m=\u001b[39m aux[\u001b[39m1\u001b[39m:] \u001b[39m==\u001b[39m aux[:\u001b[39m-\u001b[39m\u001b[39m1\u001b[39m]\n\u001b[1;32m    433\u001b[0m int1d \u001b[39m=\u001b[39m aux[:\u001b[39m-\u001b[39m\u001b[39m1\u001b[39m][mask]\n",
      "\u001b[0;31mKeyboardInterrupt\u001b[0m: "
     ]
    }
   ],
   "source": [
    "# Some example settings\n",
    "#config['atmospheric showers']['interaction model'] = 'SIBYLL2.3c'\n",
    "#config['atmospheric showers']['theta angles'] = np.linspace(0., 90., 91)|\n",
    "#config['atmospheric showers']['particles of interest']=['nue']\n",
    "for i in name_part:\n",
    "    config['general']['detector'] = 'IceCube'\n",
    "    config['general']['pone type'] = 'old'\n",
    "    config['general']['density'] = \"NFW\" #\"Burkert\" # 'NFW'\n",
    "    config['general'][\"channel\"] = i #\"\\[Tau]\"   # \"\\\\[Nu]\\\\[Mu]\" \n",
    "    config['pone']['smearing'] = 'unsmeared'\n",
    "    config['pone']['low E sigma'] = {'numu': 0.25,\n",
    "                                     'nue': 0.25,\n",
    "                                     'nutau': 0.25}\n",
    "    config['pone']['high E sigma'] = {'numu': 0.15,\n",
    "                                     'nue': 0.07,\n",
    "                                     'nutau': 0.07}\n",
    "    #low E sigma': {\n",
    "    #                'numu': [0.45, 0.35, 0.25, 0.15],\n",
    "    #                'nue': [0.55, 0.45, 0.35, 0.25],\n",
    "    #                'nutau': [0.55, 0.45, 0.35, 0.25]},\n",
    "    #            'high E sigma': {\n",
    "    #                'numu': [0.25, 0.15, 0.10, 0.09],\n",
    "    #                'nue': [0.15, 0.12, 0.09, 0.07],\n",
    "    #                'nutau': [0.15, 0.12, 0.09, 0.07]\n",
    "    if i=='All':\n",
    "        config[\"atmospheric showers\"]['particles of interest'] = ['numu']\n",
    "        shutil.copy('/home/kruteesh/Desktop/dm_data_server/28_04_DM/limits_signal_grid.pkl', '../data/limits_signal_IceCube.pkl')\n",
    "        pdm = PDM()\n",
    "\n",
    "    elif i=='\\[Tau]':\n",
    "        config[\"atmospheric showers\"]['particles of interest'] = ['nue']\n",
    "        shutil.copy('/home/kruteesh/Desktop/dm_data_server/19_09_22/data/limits_signal_grid.pkl', '../data/limits_signal_IceCube.pkl')\n",
    "        pdm = PDM()\n",
    "\n",
    "    elif i=='W':\n",
    "        config[\"atmospheric showers\"]['particles of interest'] = ['numu']\n",
    "        shutil.copy('/home/kruteesh/Desktop/dm_data_server/14_10_22/data/limits_signal_grid.pkl', '../data/limits_signal_IceCube.pkl')\n",
    "        pdm = PDM()\n",
    "    os.replace('../data/limits_signal_IceCube.pkl', '../data/rescaled_IceCube/limits_signal_grid_ice_NFW_re_%s.pkl' %(i))\n",
    "    os.replace('../data/tmp_files/unsmeared/limits_results_IceCube_un.pkl', '../data/rescaled_IceCube/limits_results_IceCube_NFW_re_%s.pkl' %(i))\n",
    "    \n"
   ]
  },
  {
   "cell_type": "code",
   "execution_count": null,
   "metadata": {},
   "outputs": [],
   "source": []
  },
  {
   "cell_type": "code",
   "execution_count": null,
   "metadata": {},
   "outputs": [],
   "source": []
  }
 ],
 "metadata": {
  "kernelspec": {
   "display_name": "Python 3.9.11 ('pdm')",
   "language": "python",
   "name": "python3"
  },
  "language_info": {
   "codemirror_mode": {
    "name": "ipython",
    "version": 3
   },
   "file_extension": ".py",
   "mimetype": "text/x-python",
   "name": "python",
   "nbconvert_exporter": "python",
   "pygments_lexer": "ipython3",
   "version": "3.9.11"
  },
  "orig_nbformat": 4,
  "vscode": {
   "interpreter": {
    "hash": "82a3a656d33f35b7f3fe77a22343614a58c995dc979ba6da45d214804d59b344"
   }
  }
 },
 "nbformat": 4,
 "nbformat_minor": 2
}
