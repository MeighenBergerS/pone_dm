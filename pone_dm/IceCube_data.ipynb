{
 "cells": [
  {
   "cell_type": "code",
   "execution_count": 4,
   "metadata": {},
   "outputs": [],
   "source": [
    "import numpy as np\n",
    "import matplotlib.pyplot as plt\n",
    "from atm_shower import Atm_Shower\n",
    "import pickle\n",
    "from config import config\n",
    "from pone_aeff import Aeff\n",
    "import csv"
   ]
  },
  {
   "cell_type": "code",
   "execution_count": 5,
   "metadata": {},
   "outputs": [],
   "source": [
    "signal_ice = pickle.load(open('/home/kruteesh/Desktop/dm_data_server/limits_signal_IceCube.pkl','rb'))\n",
    "signal_pone = pickle.load(open('/home/kruteesh/Desktop/signla_pone_27,10.pkl','rb'))"
   ]
  },
  {
   "cell_type": "code",
   "execution_count": 6,
   "metadata": {},
   "outputs": [],
   "source": [
    "config['general']['Detector'] = 'IceCube'\n",
    "signal_dict = pickle.load(open('/home/kruteesh/Desktop/dm_data_server/limits_signal_IceCube.pkl','rb'))\n",
    "background_ice = pickle.load(open('/home/kruteesh/Desktop/DM_nu_simulation_P-One/PONE_git/pone_work/data/background_ice.pkl','rb'))\n",
    "b = Atm_Shower()\n",
    "#ea = Aeff()"
   ]
  },
  {
   "cell_type": "code",
   "execution_count": 29,
   "metadata": {},
   "outputs": [],
   "source": [
    "b = pickle.load(open(\"../data/surf_store_v1.p\", \"rb\"))\n",
    "e_grid = b[0][0]\n",
    "mass_grid = np.logspace(1,6,40)\n",
    "sv_grid = np.logspace(-24,-17,40)#config['simulation parameters']['sv grid']"
   ]
  },
  {
   "cell_type": "code",
   "execution_count": 8,
   "metadata": {},
   "outputs": [],
   "source": [
    "def find_nearest(array: np.array, value: float):\n",
    "    \n",
    "        \"\"\" Returns: index of the nearest vlaue of an array to the given number\n",
    "        --------------\n",
    "        idx :  float\n",
    "        \"\"\"\n",
    "        array = np.array(array)\n",
    "        idx = (np.abs(array - value)).argmin()\n",
    "        return idx\n"
   ]
  },
  {
   "cell_type": "code",
   "execution_count": 9,
   "metadata": {},
   "outputs": [],
   "source": [
    "background = background_ice['numu']\n",
    "t = find_nearest(e_grid,5e2)"
   ]
  },
  {
   "cell_type": "code",
   "execution_count": 10,
   "metadata": {},
   "outputs": [
    {
     "data": {
      "text/plain": [
       "<matplotlib.legend.Legend at 0x7f7794487b50>"
      ]
     },
     "execution_count": 10,
     "metadata": {},
     "output_type": "execute_result"
    },
    {
     "data": {
      "image/png": "[encoded data removed]",
      "text/plain": [
       "<Figure size 720x720 with 1 Axes>"
      ]
     },
     "metadata": {
      "needs_background": "light"
     },
     "output_type": "display_data"
    }
   ],
   "source": [
    "plt.figure(figsize=(10,10))\n",
    "for i,_ in enumerate(signal_ice[:1]):\n",
    "    for j,_ in enumerate(signal_ice[i][:1]):\n",
    "        #plt.step(e_grid[t:],signal_pone[i][j][t:],label=r'P-ONE $m_{x} = $'+'{:.1e}'.format(mass_grid[i])+r' $\\sigma_{\\nu}$ ='+ '{:.1e}'.format(sv_grid[j]))\n",
    "        plt.step(e_grid[t:],signal_ice[i][j],label=r'$m_{x} = $'+'{:.1e}'.format(mass_grid[i])+r' $\\sigma_{\\nu}$ ='+ '{:.1e}'.format(sv_grid[j]))\n",
    "\n",
    "plt.step(e_grid[t:], background[t:], label='background')\n",
    "\n",
    "plt.ylabel('# Counts')\n",
    "plt.xlabel('E [ GeV]')\n",
    "plt.xscale('log')\n",
    "plt.yscale('log')\n",
    "plt.legend()\n"
   ]
  },
  {
   "cell_type": "code",
   "execution_count": 11,
   "metadata": {},
   "outputs": [],
   "source": [
    "def ice_parser(filename):\n",
    "    \n",
    "        store = []\n",
    "        with open(filename, newline='') as csvfile:\n",
    "            reader = csv.reader(csvfile)\n",
    "            for row_num, row in enumerate(reader):\n",
    "                if row_num == 0:\n",
    "                    continue\n",
    "                store.append(row[0].split())\n",
    "        store = np.array(store, dtype=float)\n",
    "\n",
    "        return store"
   ]
  },
  {
   "cell_type": "code",
   "execution_count": 12,
   "metadata": {},
   "outputs": [],
   "source": [
    "def ice_parser(filename):\n",
    "    \n",
    "        store = []\n",
    "        with open(filename, newline='') as csvfile:\n",
    "            reader = csv.reader(csvfile)\n",
    "            for row_num, row in enumerate(reader):\n",
    "                if row_num == 0:\n",
    "                    continue\n",
    "                store.append(row[0].split())\n",
    "        store = np.array(store, dtype=float)\n",
    "\n",
    "        return store\n"
   ]
  },
  {
   "cell_type": "code",
   "execution_count": 13,
   "metadata": {},
   "outputs": [],
   "source": [
    "eff_areas = [\n",
    "                    '../data/icecube_10year_ps/irfs/IC40_effectiveArea.csv',\n",
    "                    '../data/icecube_10year_ps/irfs/IC59_effectiveArea.csv',\n",
    "                    '../data/icecube_10year_ps/irfs/IC79_effectiveArea.csv',\n",
    "                    '../data/icecube_10year_ps/irfs/IC86_I_effectiveArea.csv',\n",
    "                    '../data/icecube_10year_ps/irfs/IC86_II_effectiveArea.csv',\n",
    "                ]\n",
    "\n",
    "eff_dic = {\n",
    "                        0: ice_parser(eff_areas[0]),\n",
    "                        1: ice_parser(eff_areas[1]),\n",
    "                        2: ice_parser(eff_areas[2]),\n",
    "                        3: ice_parser(eff_areas[3]),\n",
    "                        4: ice_parser(eff_areas[4]),\n",
    "                        5: ice_parser(eff_areas[4]),\n",
    "                        6: ice_parser(eff_areas[4]),\n",
    "                        7: ice_parser(eff_areas[4]),\n",
    "                        8: ice_parser(eff_areas[4]),\n",
    "                        9: ice_parser(eff_areas[4]),\n",
    "                    }\n"
   ]
  },
  {
   "cell_type": "code",
   "execution_count": 14,
   "metadata": {},
   "outputs": [],
   "source": [
    "\n",
    "year = 8\n",
    "ch_egrid = (eff_dic[year][:, 1] + eff_dic[year][:, 0])/2.\n",
    "ch_theta = (eff_dic[year][:, 2] + eff_dic[year][:, 3])/2.\n",
    "loc_eff_area={}\n",
    "for theta in config['atmospheric showers']['theta angles']:\n",
    "    tmp_eff = []\n",
    "    check_angle = (theta)\n",
    "    for energy in e_grid:\n",
    "        if energy < 1e1:\n",
    "            tmp_eff.append(0)\n",
    "        else:\n",
    "            loge = np.log10(energy)\n",
    "            idE = np.abs(ch_egrid - loge).argmin()\n",
    "            all_near = (np.where(ch_egrid == ch_egrid[idE])[0])\n",
    "            idTheta = np.abs(ch_theta[all_near] - check_angle).argmin()\n",
    "            tmp_eff.append(eff_dic[year][all_near, -1][idTheta])\n",
    "    loc_eff_area[theta] = np.array(tmp_eff)\n"
   ]
  },
  {
   "cell_type": "code",
   "execution_count": 15,
   "metadata": {},
   "outputs": [
    {
     "data": {
      "text/plain": [
       "array([0.00000000e+00, 0.00000000e+00, 0.00000000e+00, 0.00000000e+00,\n",
       "       0.00000000e+00, 0.00000000e+00, 0.00000000e+00, 0.00000000e+00,\n",
       "       0.00000000e+00, 0.00000000e+00, 0.00000000e+00, 0.00000000e+00,\n",
       "       0.00000000e+00, 0.00000000e+00, 0.00000000e+00, 0.00000000e+00,\n",
       "       0.00000000e+00, 0.00000000e+00, 0.00000000e+00, 0.00000000e+00,\n",
       "       0.00000000e+00, 5.52000000e+00, 5.52000000e+00, 5.52000000e+00,\n",
       "       5.52000000e+00, 5.52000000e+00, 5.52000000e+00, 5.52000000e+00,\n",
       "       5.52000000e+00, 5.52000000e+00, 5.52000000e+00, 5.52000000e+00,\n",
       "       5.52000000e+00, 4.22400000e+01, 4.22400000e+01, 1.72880000e+02,\n",
       "       1.72880000e+02, 5.37350000e+02, 5.37350000e+02, 1.43335000e+03,\n",
       "       1.43335000e+03, 3.57828000e+03, 3.57828000e+03, 8.30077000e+03,\n",
       "       8.30077000e+03, 1.78956800e+04, 1.78956800e+04, 3.65920100e+04,\n",
       "       3.65920100e+04, 6.88934400e+04, 6.88934400e+04, 1.28840440e+05,\n",
       "       1.28840440e+05, 2.17484440e+05, 2.17484440e+05, 3.69041370e+05,\n",
       "       3.69041370e+05, 5.65954650e+05, 5.65954650e+05, 8.64317980e+05,\n",
       "       8.64317980e+05, 1.21930002e+06, 1.21930002e+06, 1.76205249e+06,\n",
       "       1.76205249e+06, 2.53837120e+06, 2.53837120e+06, 3.40513017e+06,\n",
       "       3.40513017e+06, 4.26797196e+06, 4.26797196e+06, 5.69931730e+06,\n",
       "       5.69931730e+06, 7.58071985e+06, 7.58071985e+06, 8.62794213e+06,\n",
       "       8.62794213e+06, 1.09913982e+07, 1.09913982e+07, 1.30288679e+07,\n",
       "       1.30288679e+07, 1.71252149e+07, 1.71252149e+07, 1.82322477e+07,\n",
       "       1.82322477e+07, 2.18658055e+07, 2.18658055e+07, 2.10296306e+07,\n",
       "       2.10296306e+07, 2.36006649e+07, 2.36006649e+07, 2.61563549e+07,\n",
       "       2.61563549e+07, 2.51532231e+07, 2.51532231e+07, 2.06205630e+07,\n",
       "       2.06205630e+07, 2.00740071e+07, 2.00740071e+07, 2.06402713e+07,\n",
       "       2.06402713e+07, 0.00000000e+00, 0.00000000e+00, 0.00000000e+00,\n",
       "       0.00000000e+00, 0.00000000e+00, 0.00000000e+00, 0.00000000e+00,\n",
       "       0.00000000e+00, 0.00000000e+00, 0.00000000e+00, 0.00000000e+00,\n",
       "       0.00000000e+00, 0.00000000e+00, 0.00000000e+00, 0.00000000e+00,\n",
       "       0.00000000e+00, 0.00000000e+00, 0.00000000e+00, 0.00000000e+00,\n",
       "       0.00000000e+00])"
      ]
     },
     "execution_count": 15,
     "metadata": {},
     "output_type": "execute_result"
    }
   ],
   "source": [
    "loc_eff_area[5.0]"
   ]
  },
  {
   "cell_type": "code",
   "execution_count": null,
   "metadata": {},
   "outputs": [],
   "source": [
    "\n",
    "for k in loc_eff_area.keys():\n",
    "    plt.figure()\n",
    "    plt.step(e_grid,loc_eff_area[k], label='angle = '+str(k))\n",
    "    plt.legend()\n",
    "    plt.xscale('log')\n",
    "    plt.yscale('log')\n",
    "    plt.xlabel('E [GeV]')\n",
    "    plt.ylabel(r'Effective Area $[m^2]$')\n"
   ]
  },
  {
   "cell_type": "code",
   "execution_count": 21,
   "metadata": {},
   "outputs": [],
   "source": [
    "limits_re = pickle.load(open('/home/kruteesh/Desktop/dm_data_server/limits_results_IceCube.pkl','rb'))"
   ]
  },
  {
   "cell_type": "code",
   "execution_count": 30,
   "metadata": {},
   "outputs": [
    {
     "data": {
      "text/plain": [
       "<matplotlib.contour.QuadContourSet at 0x7f7790426a00>"
      ]
     },
     "execution_count": 30,
     "metadata": {},
     "output_type": "execute_result"
    },
    {
     "data": {
      "image/png": "[encoded data removed]",
      "text/plain": [
       "<Figure size 432x288 with 1 Axes>"
      ]
     },
     "metadata": {
      "needs_background": "light"
     },
     "output_type": "display_data"
    }
   ],
   "source": [
    "\n",
    "plt.contour(limits_re, levels=[0.9], colors='purple',\n",
    "                origin='lower', extent=(min(np.log10(mass_grid)), max(np.log10(mass_grid)),\n",
    "                                        min(np.log10(sv_grid)), max(np.log10(sv_grid))))\n"
   ]
  },
  {
   "cell_type": "code",
   "execution_count": 27,
   "metadata": {},
   "outputs": [],
   "source": [
    "std_size = 15.  # Size of the plot\n",
    "fontsize = 25.  # Fontsize in the plot\n",
    "lw=0.5  # Linewidth\n",
    "h_length=0.5  # Handle length for the legends\n",
    "export_dpi = 500  # Dpi for the image export\n",
    "name=[r'$\\nu_{\\mu}$',r'$\\nu_{e}$',r'$\\nu_{\\tau}$']\n",
    "\n",
    "# Loading comparison data\n",
    "\n",
    "cl_lit = np.loadtxt('/home/kruteesh/Desktop/DM_nu_simulation_P-One/Literature/limits_Ice.csv', delimiter=\",\")\n",
    "cl_lit = (cl_lit[cl_lit[:, 0].argsort()])\n"
   ]
  },
  {
   "cell_type": "code",
   "execution_count": 31,
   "metadata": {},
   "outputs": [
    {
     "data": {
      "image/png": "[encoded data removed]",
      "text/plain": [
       "<Figure size 1080x810 with 2 Axes>"
      ]
     },
     "metadata": {
      "needs_background": "light"
     },
     "output_type": "display_data"
    }
   ],
   "source": [
    "# Limits\n",
    "# ---------------------------------------------\n",
    "# Setup\n",
    "figure, (ax1) = plt.subplots(1, 1, figsize=(std_size, std_size * 6. / 8.), sharex=True)\n",
    "# ---------------------------------------------\n",
    "# Plotting\n",
    "plt.title('IceCube 9th year')\n",
    "ax1.contour(limits_re, levels = [0.9], colors='purple',\n",
    "             origin='lower',extent=(min(np.log10(mass_grid)), max(np.log10(mass_grid)),\n",
    "                                    min(np.log10(sv_grid)), max(np.log10(sv_grid))))\n",
    "pos = ax1.imshow(limits_re,origin='lower', extent=(min(np.log10(mass_grid)), max(np.log10(mass_grid)),\n",
    "                                          min(np.log10(sv_grid)), max(np.log10(sv_grid))),\n",
    "                 aspect='auto',cmap=plt.cm.afmhot)\n",
    "figure.colorbar(pos, ax=ax1)\n",
    "ax1.plot(np.log10(cl_lit[:, 0]), np.log10(cl_lit[:, 1]), 'g', label='literature 90% C.L')\n",
    "# ---------------------------------------------\n",
    "# Axis options\n",
    "ax1.set_xscale(\"linear\")\n",
    "ax1.set_yscale(\"linear\")\n",
    "ax1.set_xlabel(r\"$\\log$ $m_{\\chi}$\", fontsize=fontsize)\n",
    "ax1.set_ylabel(r\"$\\log$ $<\\sigma \\nu$>\", fontsize=fontsize)\n",
    "ax1.tick_params(axis = 'both', which = 'major', labelsize=fontsize-5)\n",
    "ax1.tick_params(axis = 'both', which = 'minor', labelsize=fontsize-5)\n",
    "ax1.set_xlim(min(np.log10(mass_grid)), max(np.log10(mass_grid)))\n",
    "ax1.set_ylim(min(np.log10(sv_grid)), max(np.log10(sv_grid)))\n",
    "# ---------------------------------------------\n",
    "# Legend\n",
    "# plt.legend(fontsize=fontsize)\n",
    "h, l = ax1.get_legend_handles_labels()\n",
    "lgd1 = ax1.legend(h, l, loc=9, bbox_to_anchor=(0.5, +0.5),\n",
    "                 ncol=2, fontsize=fontsize-5, handlelength=h_length,\n",
    "                 fancybox=True, frameon=False)\n",
    "ax1.add_artist(lgd1)\n",
    "# ---------------------------------------------\n",
    "# Showing the image\n",
    "plt.show()\n",
    "# ---------------------------------------------\n",
    "# Storing the image\n"
   ]
  },
  {
   "cell_type": "code",
   "execution_count": null,
   "metadata": {},
   "outputs": [],
   "source": []
  },
  {
   "cell_type": "code",
   "execution_count": null,
   "metadata": {},
   "outputs": [],
   "source": []
  }
 ],
 "metadata": {
  "interpreter": {
   "hash": "82a3a656d33f35b7f3fe77a22343614a58c995dc979ba6da45d214804d59b344"
  },
  "kernelspec": {
   "display_name": "Python 3.9.5 64-bit ('pdm': conda)",
   "name": "python3"
  },
  "language_info": {
   "codemirror_mode": {
    "name": "ipython",
    "version": 3
   },
   "file_extension": ".py",
   "mimetype": "text/x-python",
   "name": "python",
   "nbconvert_exporter": "python",
   "pygments_lexer": "ipython3",
   "version": "3.10.6"
  },
  "orig_nbformat": 4
 },
 "nbformat": 4,
 "nbformat_minor": 2
}
