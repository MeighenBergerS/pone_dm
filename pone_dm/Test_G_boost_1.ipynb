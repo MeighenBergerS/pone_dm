{
 "cells": [
  {
   "cell_type": "code",
   "execution_count": 1,
   "id": "ee5e7598",
   "metadata": {},
   "outputs": [],
   "source": [
    "import numpy as np\n",
    "import matplotlib.pyplot as plt\n",
    "from scipy import integrate\n",
    "import pickle\n",
    "import pickle\n",
    "from matplotlib.lines import Line2D\n",
    "import matplotlib.patches as mpatches\n",
    "from matplotlib import rc\n",
    "\n",
    "# picture path\n",
    "PICS = '../pics/'\n",
    "name=[r'$\\nu_{\\mu}$', r\"$\\nu_e$\", r\"$\\nu_{\\tau}$\"]  # ,r'$\\nu_{e}$',r'$\\nu_{\\tau}$'\n",
    "# Plotting standards\n",
    "std_size = 6.  # Size of the plot\n",
    "fontsize = 15.  # Fontsize in the plot\n",
    "\n",
    "h_length=1.5  # Handle length for the legends\n",
    "export_dpi = 500  # Dpi for the image export\n",
    "color_pone='#7570b3'\n",
    "color_ice='#e7298a'\n",
    "color_combined='#33a02c'\n",
    "color_thermal='#1f78b4'\n",
    "color_unitary='k'\n",
    "color_4='#1b9e77'\n",
    "color_6='#d95f02'\n",
    "color_km = '#1a9641'\n",
    "rc('font',**{'family':'sans-serif','sans-serif':['Helvetica']})\n",
    "rc('text', usetex=True)"
   ]
  },
  {
   "cell_type": "markdown",
   "id": "b817bdaf",
   "metadata": {},
   "source": [
    "### galactic ###"
   ]
  },
  {
   "cell_type": "code",
   "execution_count": 2,
   "id": "c3a23f62",
   "metadata": {},
   "outputs": [],
   "source": [
    "energy_grid = np.logspace(1,5,51) #in GeV\n",
    "m_chi= 1000 #in GeV\n",
    "J_allsky=2.3e23 #from Carlos"
   ]
  },
  {
   "cell_type": "code",
   "execution_count": 3,
   "id": "8a7688bd",
   "metadata": {},
   "outputs": [],
   "source": [
    "def find_nearest(array, value):\n",
    "    array = np.asarray(array)\n",
    "    idx = (np.abs(array - value)).argmin()\n",
    "    return idx"
   ]
  },
  {
   "cell_type": "code",
   "execution_count": 4,
   "id": "e7bfc65a",
   "metadata": {},
   "outputs": [],
   "source": [
    "def dNdE_nu(m_chi, E):\n",
    "    tmp = np.zeros_like(E)\n",
    "    # Since we work on a grid, the delta function is the closest val\n",
    "    idE = find_nearest(E, m_chi) - 1\n",
    "    tmp[idE] = 2 / E[idE]\n",
    "    return tmp"
   ]
  },
  {
   "cell_type": "code",
   "execution_count": 5,
   "id": "a4f90a52",
   "metadata": {},
   "outputs": [],
   "source": [
    "# flux=dNdE_nu(m_chi,energy_grid)\n",
    "# plt.plot(energy_grid,flux)\n",
    "# plt.xscale(\"log\")"
   ]
  },
  {
   "cell_type": "code",
   "execution_count": 6,
   "id": "e1ba5462",
   "metadata": {},
   "outputs": [],
   "source": [
    "# def J(theta):\n",
    "#     #add intepr line\n",
    "#     return"
   ]
  },
  {
   "cell_type": "code",
   "execution_count": 7,
   "id": "e2d85f1b",
   "metadata": {},
   "outputs": [],
   "source": [
    "def galactic_flux(E, m_chi, sv, J):\n",
    "        \"\"\" Fetches the galactic flux\n",
    "        E : Energy Grid\n",
    "        m_x : Dark Matter mass\n",
    "        sv : signma_nu\n",
    "        k : k factor (majorana: 2 otherwise 4)\n",
    "        J : J-factor\n",
    "        \"\"\"\n",
    "        k=2\n",
    "        return (1 / (4 * np.pi)) * (sv / (3 * k * m_chi**2)) * J * dNdE_nu(m_chi, E)"
   ]
  },
  {
   "cell_type": "markdown",
   "id": "95c52399",
   "metadata": {},
   "source": [
    "### extra-galactic ###"
   ]
  },
  {
   "cell_type": "code",
   "execution_count": 8,
   "id": "709efcd6",
   "metadata": {},
   "outputs": [],
   "source": [
    "omega_m=0.25\n",
    "omega_L=0.75\n",
    "omega_r=4.75e-5\n",
    "omega_dm = 0.23\n",
    "h=0.67\n",
    "rho_c=1.053e-5 * h**2 #GeV/cm^3\n",
    "massOfSun_grid=np.logspace(-9, 17, 151)"
   ]
  },
  {
   "cell_type": "code",
   "execution_count": 9,
   "id": "08697317",
   "metadata": {},
   "outputs": [],
   "source": [
    "def a_z(z):\n",
    "    return 1 / (1+z)"
   ]
  },
  {
   "cell_type": "code",
   "execution_count": 10,
   "id": "711c147c",
   "metadata": {},
   "outputs": [],
   "source": [
    "def H_z(z):\n",
    "    a=a_z(z)\n",
    "    H_0= 70/3.086e19 #km/s/Mpc->\n",
    "    return H_0* ((omega_m/a**3) + omega_L)**(1/2)"
   ]
  },
  {
   "cell_type": "code",
   "execution_count": 11,
   "id": "453423e0",
   "metadata": {},
   "outputs": [],
   "source": [
    "def omega_mz(z):\n",
    "    a = a_z(z)\n",
    "    return  (omega_m/a**3) / (omega_L + omega_m/a**3 )"
   ]
  },
  {
   "cell_type": "code",
   "execution_count": 12,
   "id": "0060f089",
   "metadata": {},
   "outputs": [],
   "source": [
    "def omega_Lz(z):\n",
    "    a = a_z(z)\n",
    "    return  (omega_L) / (omega_L + omega_m/a**3)"
   ]
  },
  {
   "cell_type": "markdown",
   "id": "bfbea7d8",
   "metadata": {},
   "source": [
    "### lopez parametrization ###"
   ]
  },
  {
   "cell_type": "code",
   "execution_count": 13,
   "id": "207353b2",
   "metadata": {},
   "outputs": [],
   "source": [
    "def D_prada(z):\n",
    "    a=a_z(z)\n",
    "    x_values=(omega_L/omega_m)**(1/3) * a_z(z)\n",
    "    D_result=[]\n",
    "    if isinstance(x_values,float):\n",
    "        x=x_values\n",
    "        prefactor = np.sqrt(1+x**3)/x**(3/2)\n",
    "        D= lambda x: x**(3/2)/(1+x**3)**(3/2)\n",
    "        x_int = integrate.quad(D,0, x)\n",
    "        result = (5/2)*(omega_L/omega_m)**(1/3)*prefactor* x_int[0]\n",
    "        D_result.append(result)\n",
    "    elif len(x_values)>= 1:\n",
    "        for x in x_values:\n",
    "            prefactor = np.sqrt(1+x**3)/x**(3/2)\n",
    "            D= lambda x: x**(3/2)/(1+x**3)**(3/2)\n",
    "            x_int = integrate.quad(D,0, x)\n",
    "            result = (5/2)*(omega_L/omega_m)**(1/3)*prefactor* x_int[0]\n",
    "            D_result.append(result)\n",
    "    else:\n",
    "        print('error!')\n",
    "    return np.array(D_result)"
   ]
  },
  {
   "cell_type": "code",
   "execution_count": 14,
   "id": "8fb6e69b",
   "metadata": {},
   "outputs": [],
   "source": [
    "def D_lopez(z):\n",
    "    return (5/2)*omega_mz(z) / (omega_mz(z)**(4/7)-omega_Lz(z)+(1+omega_mz(z)/2)*(1+omega_Lz(z)/70)) /(1+z)"
   ]
  },
  {
   "cell_type": "code",
   "execution_count": 15,
   "id": "056628b2",
   "metadata": {},
   "outputs": [],
   "source": [
    "#D_lopez(1),D_prada(1)"
   ]
  },
  {
   "cell_type": "code",
   "execution_count": 16,
   "id": "730a35bc",
   "metadata": {},
   "outputs": [
    {
     "data": {
      "text/plain": [
       "<matplotlib.legend.Legend at 0x7feef263f280>"
      ]
     },
     "execution_count": 16,
     "metadata": {},
     "output_type": "execute_result"
    },
    {
     "data": {
      "image/png": "[encoded data removed]",
      "text/plain": [
       "<Figure size 640x480 with 1 Axes>"
      ]
     },
     "metadata": {},
     "output_type": "display_data"
    }
   ],
   "source": [
    "z_grid=np.arange(0,5,0.1)\n",
    "plt.plot(z_grid,D_prada(z_grid),'b-',label=\"Prada\")\n",
    "plt.plot(z_grid,D_lopez(z_grid)*2,'r-',label=\"Lopez\")\n",
    "plt.xlabel('z')\n",
    "plt.ylabel('D(z)')\n",
    "plt.legend()"
   ]
  },
  {
   "cell_type": "code",
   "execution_count": 17,
   "id": "c376675e",
   "metadata": {},
   "outputs": [],
   "source": [
    "#lopez eq.B15 convert M 10^[-9,17]\n",
    "def sigma_lopez(M):\n",
    "    return np.exp((2.6 * M**(0.001745)) - 0.2506 * M**0.07536)\n",
    "\n",
    "#lopez eq.B15\n",
    "def ln_inv_sigma_lopez(M):\n",
    "    return 2.6 * M**0.001745 - 0.2506 * M**0.07536"
   ]
  },
  {
   "cell_type": "code",
   "execution_count": 18,
   "id": "791a519e",
   "metadata": {},
   "outputs": [],
   "source": [
    "#prada eq.23, M 10^[10-15]\n",
    "def sigma_prada(M):\n",
    "    y = (M*h/1e12)**(-1)\n",
    "    return 16.9*(y**0.41)/(1 + 1.102*(y**0.2) + 6.22*(y**0.333))"
   ]
  },
  {
   "cell_type": "code",
   "execution_count": 19,
   "id": "d869e4b8",
   "metadata": {},
   "outputs": [
    {
     "data": {
      "image/png": "[encoded data removed]",
      "text/plain": [
       "<Figure size 600x600 with 1 Axes>"
      ]
     },
     "metadata": {},
     "output_type": "display_data"
    }
   ],
   "source": [
    "massOfSun_grid=np.logspace(-10, 15, 30)\n",
    "figure, ax1 = plt.subplots(1, 1, figsize=(std_size,std_size), sharex=True) \n",
    "\n",
    "ax1.plot(massOfSun_grid,sigma_prada(massOfSun_grid),'b-',label=\"Prada et.al\")\n",
    "ax1.plot(massOfSun_grid,sigma_lopez(massOfSun_grid),'r-',label=\"Lopez et.al\")\n",
    "ax1.set_xscale('log')\n",
    "ax1.set_yscale('log')\n",
    "ax1.set_xlabel(r'$M/M_{\\odot}$', fontsize=fontsize)\n",
    "ax1.set_ylabel(r'$\\sigma(M,z=0)$', fontsize=fontsize)\n",
    "ax1.set_xlim(1e-10,1e15)\n",
    "ax1.set_ylim(0.5,2e2)\n",
    "\n",
    "ax1.tick_params(axis = 'both', which = 'major', labelsize=fontsize, direction='in')\n",
    "ax1.tick_params(axis = 'both', which = 'minor', labelsize=fontsize, direction='in')\n",
    "\n",
    "h, l = ax1.get_legend_handles_labels()\n",
    "lgd1 = ax1.legend(h, l, loc=7, bbox_to_anchor=(1.05, +1.05),\n",
    "             ncol=2, fontsize=fontsize, handlelength=h_length,\n",
    "             fancybox=True, frameon=False)\n",
    "\n",
    "\n",
    "figure.savefig(PICS + \"sigma\"+\".png\",\n",
    "               bbox_inches='tight', dpi=export_dpi, facecolor='white')\n",
    "\n"
   ]
  },
  {
   "cell_type": "code",
   "execution_count": 20,
   "id": "c16876b4",
   "metadata": {},
   "outputs": [],
   "source": [
    "#c_200 and lnsigma(z=0) comparison of lopez/prada/ibarra"
   ]
  },
  {
   "cell_type": "code",
   "execution_count": 21,
   "id": "a9fb15bd",
   "metadata": {},
   "outputs": [],
   "source": [
    "def c_200_prada(M,z):\n",
    "    return B_0(z)*C_sigma_quote_prada(M,z)\n",
    "\n",
    "def c_200_lopez(M,z):\n",
    "    return B_0(z)*C_sigma_quote_lopez(M,z)"
   ]
  },
  {
   "cell_type": "code",
   "execution_count": 22,
   "id": "f64c7292",
   "metadata": {},
   "outputs": [],
   "source": [
    "def C_sigma_quote_prada(M,z):\n",
    "    quote = sigma_quote_prada(M,z)\n",
    "    A = 2.881\n",
    "    b = 1.257\n",
    "    c = 1.022\n",
    "    d = 0.060\n",
    "    return A * ((quote / b)**c + 1) * np.exp(d / quote**2)\n",
    "\n",
    "def C_sigma_quote_lopez(M,z):\n",
    "    quote = sigma_quote_lopez(M,z)\n",
    "    A = 2.881\n",
    "    b = 1.257\n",
    "    c = 1.022\n",
    "    d = 0.060\n",
    "    return A * ((quote / b)**c + 1) * np.exp(d / quote**2)"
   ]
  },
  {
   "cell_type": "code",
   "execution_count": 23,
   "id": "1bbb519f",
   "metadata": {},
   "outputs": [],
   "source": [
    "def sigma_quote_lopez(M,z):\n",
    "    return B_1(z)*sigma_final_lopez(M,z)\n",
    "\n",
    "def sigma_final_lopez(M,z):\n",
    "    return sigma_lopez(M)*D_lopez(z)/D_lopez(0)"
   ]
  },
  {
   "cell_type": "code",
   "execution_count": 24,
   "id": "6002266e",
   "metadata": {},
   "outputs": [],
   "source": [
    "def sigma_quote_prada(M,z):\n",
    "    return B_1(z)*sigma_final_prada(M,z)\n",
    "\n",
    "def sigma_final_prada(M,z):\n",
    "    return sigma_prada(M)*D_prada(z)"
   ]
  },
  {
   "cell_type": "code",
   "execution_count": 25,
   "id": "fa304226",
   "metadata": {},
   "outputs": [],
   "source": [
    "def sigma_inv_min(x):\n",
    "    sigma_inv_0 = 1.047\n",
    "    sigma_inv_1 = 1.646\n",
    "    beta = 7.386\n",
    "    x_1 = 0.526\n",
    "    return sigma_inv_0 + (sigma_inv_1 - sigma_inv_0) * ((np.arctan(beta * (x - x_1)) / np.pi) + (1/2))\n",
    "\n",
    "def B_1(z):\n",
    "    a=a_z(z)\n",
    "    x=(omega_L/omega_m)**(1/3) * a_z(z)\n",
    "    return sigma_inv_min(x)/sigma_inv_min(1.393)"
   ]
  },
  {
   "cell_type": "code",
   "execution_count": 26,
   "id": "3a60a8c8",
   "metadata": {},
   "outputs": [],
   "source": [
    "def c_min(x):\n",
    "    c0 = 3.681\n",
    "    c1 = 5.033\n",
    "    alpha = 6.948\n",
    "    x_0 = 0.424\n",
    "    return c0 + (c1 - c0) * ((np.arctan(alpha * (x - x_0)) / np.pi) + (1/2))\n",
    "\n",
    "def B_0(z):\n",
    "    a=a_z(z)\n",
    "    x=(omega_L/omega_m)**(1/3) * a_z(z)\n",
    "    return c_min(x)/c_min(1.393)"
   ]
  },
  {
   "cell_type": "code",
   "execution_count": 27,
   "id": "c3af7383",
   "metadata": {},
   "outputs": [],
   "source": [
    "def ln_sigma_inv_lopez(M):\n",
    "    return 0.2506 * M**(0.07536) - 2.6 * M**0.001745"
   ]
  },
  {
   "cell_type": "code",
   "execution_count": 28,
   "id": "9dfd45dd",
   "metadata": {},
   "outputs": [],
   "source": [
    "def ln_sigma_inv_prada(M):\n",
    "    return np.log((sigma_final_prada(M,z=0))**(-1))"
   ]
  },
  {
   "cell_type": "code",
   "execution_count": 29,
   "id": "c31ef235",
   "metadata": {},
   "outputs": [],
   "source": [
    "#ibarra c\n",
    "#conservative estimation between M_200 mas and M_vir mass\n",
    "def c_ibarra(M_vir,z,M_to_Mvir=1.2):\n",
    "    w =0.029\n",
    "    m =0.097\n",
    "    a = w*z-m\n",
    "    alpha= -110.001\n",
    "    beta=2469.720\n",
    "    gamma=16.885\n",
    "    b = alpha/(z+gamma)+beta/(z+gamma)**2\n",
    "    M_200_grid = M_vir #*M_to_Mvir\n",
    "    return 10**(a*np.log10(M_200_grid*h)+b)"
   ]
  },
  {
   "cell_type": "code",
   "execution_count": 30,
   "id": "9c7e5a66",
   "metadata": {},
   "outputs": [],
   "source": [
    "#multidark c,look into table, only test z=0 case\n",
    "def c_200_multidark(M,z):\n",
    "    z=0\n",
    "    C_0=7.40\n",
    "    gamma=0.120\n",
    "    M_0=5.5e12 * 1e12/ h #include mass of sun\n",
    "    return C_0 *(M*h/1e12)**(-gamma)*(1+(M/M_0)**0.4)"
   ]
  },
  {
   "cell_type": "markdown",
   "id": "20974299",
   "metadata": {},
   "source": [
    "### compare c(M,z)-M relationship ###"
   ]
  },
  {
   "cell_type": "code",
   "execution_count": 31,
   "id": "43133a4a",
   "metadata": {},
   "outputs": [],
   "source": [
    "#for later vector multiplication, the two array must have same length\n",
    "massOfSun_grid=np.logspace(-9, 15, 151)\n",
    "z_grid=np.linspace(0,5,42)\n",
    "c_prada_all = pickle.load(open('../data/tmp_files/C_para/c_All_prada_.pkl', 'rb'))\n",
    "c_prada_tau = pickle.load(open('../data/tmp_files/C_para/c_\\[Tau]_prada_.pkl', 'rb'))"
   ]
  },
  {
   "cell_type": "code",
   "execution_count": 32,
   "id": "b842325e",
   "metadata": {},
   "outputs": [],
   "source": [
    "c_prada_tau = c_prada_tau.T"
   ]
  },
  {
   "cell_type": "code",
   "execution_count": 33,
   "id": "af8631d4",
   "metadata": {},
   "outputs": [
    {
     "data": {
      "text/plain": [
       "(151,)"
      ]
     },
     "execution_count": 33,
     "metadata": {},
     "output_type": "execute_result"
    }
   ],
   "source": [
    "c_prada_tau[2].shape"
   ]
  },
  {
   "cell_type": "code",
   "execution_count": 34,
   "id": "60546028",
   "metadata": {
    "scrolled": false
   },
   "outputs": [
    {
     "name": "stdout",
     "output_type": "stream",
     "text": [
      "Unexpected exception formatting exception. Falling back to standard exception\n"
     ]
    },
    {
     "name": "stderr",
     "output_type": "stream",
     "text": [
      "Traceback (most recent call last):\n",
      "  File \"/home/kruteesh/miniconda3/envs/pdm/lib/python3.10/site-packages/IPython/core/interactiveshell.py\", line 3398, in run_code\n",
      "    exec(code_obj, self.user_global_ns, self.user_ns)\n",
      "  File \"/tmp/ipykernel_4938/842435815.py\", line 14, in <cell line: 14>\n",
      "    ax1.plot(np.log10(massOfSun_grid),np.log10(c_200_prada(massOfSun_grid,z_3_grid)),'-',label='Prada et. al analytical z=3')\n",
      "  File \"/tmp/ipykernel_4938/744482976.py\", line 2, in c_200_prada\n",
      "    return B_0(z)*C_sigma_quote_prada(M,z)\n",
      "  File \"/tmp/ipykernel_4938/2075404716.py\", line 2, in C_sigma_quote_prada\n",
      "    quote = sigma_quote_prada(M,z)\n",
      "  File \"/tmp/ipykernel_4938/308346936.py\", line 2, in sigma_quote_prada\n",
      "    return B_1(z)*sigma_final_prada(M,z)\n",
      "  File \"/tmp/ipykernel_4938/308346936.py\", line 5, in sigma_final_prada\n",
      "    return sigma_prada(M)*D_prada(z)\n",
      "  File \"/tmp/ipykernel_4938/64457072.py\", line 3, in sigma_prada\n",
      "    y = (M*h/1e12)**(-1)\n",
      "ValueError: operands could not be broadcast together with shapes (151,) (2,) \n",
      "\n",
      "During handling of the above exception, another exception occurred:\n",
      "\n",
      "Traceback (most recent call last):\n",
      "  File \"/home/kruteesh/miniconda3/envs/pdm/lib/python3.10/site-packages/executing/executing.py\", line 317, in executing\n",
      "    args = executing_cache[key]\n",
      "KeyError: (<code object run_code at 0x7fef2dfca760, file \"/home/kruteesh/miniconda3/envs/pdm/lib/python3.10/site-packages/IPython/core/interactiveshell.py\", line 3362>, 140665245443936, 76)\n",
      "\n",
      "During handling of the above exception, another exception occurred:\n",
      "\n",
      "Traceback (most recent call last):\n",
      "  File \"/home/kruteesh/miniconda3/envs/pdm/lib/python3.10/site-packages/IPython/core/interactiveshell.py\", line 1993, in showtraceback\n",
      "    stb = self.InteractiveTB.structured_traceback(\n",
      "  File \"/home/kruteesh/miniconda3/envs/pdm/lib/python3.10/site-packages/IPython/core/ultratb.py\", line 1118, in structured_traceback\n",
      "    return FormattedTB.structured_traceback(\n",
      "  File \"/home/kruteesh/miniconda3/envs/pdm/lib/python3.10/site-packages/IPython/core/ultratb.py\", line 1012, in structured_traceback\n",
      "    return VerboseTB.structured_traceback(\n",
      "  File \"/home/kruteesh/miniconda3/envs/pdm/lib/python3.10/site-packages/IPython/core/ultratb.py\", line 865, in structured_traceback\n",
      "    formatted_exception = self.format_exception_as_a_whole(etype, evalue, etb, number_of_lines_of_context,\n",
      "  File \"/home/kruteesh/miniconda3/envs/pdm/lib/python3.10/site-packages/IPython/core/ultratb.py\", line 799, in format_exception_as_a_whole\n",
      "    self.get_records(etb, number_of_lines_of_context, tb_offset) if etb else []\n",
      "  File \"/home/kruteesh/miniconda3/envs/pdm/lib/python3.10/site-packages/IPython/core/ultratb.py\", line 854, in get_records\n",
      "    return list(stack_data.FrameInfo.stack_data(etb, options=options))[tb_offset:]\n",
      "  File \"/home/kruteesh/miniconda3/envs/pdm/lib/python3.10/site-packages/stack_data/core.py\", line 565, in stack_data\n",
      "    yield from collapse_repeated(\n",
      "  File \"/home/kruteesh/miniconda3/envs/pdm/lib/python3.10/site-packages/stack_data/utils.py\", line 84, in collapse_repeated\n",
      "    yield from map(mapper, original_group)\n",
      "  File \"/home/kruteesh/miniconda3/envs/pdm/lib/python3.10/site-packages/stack_data/core.py\", line 555, in mapper\n",
      "    return cls(f, options)\n",
      "  File \"/home/kruteesh/miniconda3/envs/pdm/lib/python3.10/site-packages/stack_data/core.py\", line 520, in __init__\n",
      "    self.executing = Source.executing(frame_or_tb)\n",
      "  File \"/home/kruteesh/miniconda3/envs/pdm/lib/python3.10/site-packages/executing/executing.py\", line 369, in executing\n",
      "    args = find(source=cls.for_frame(frame), retry_cache=True)\n",
      "  File \"/home/kruteesh/miniconda3/envs/pdm/lib/python3.10/site-packages/executing/executing.py\", line 252, in for_frame\n",
      "    return cls.for_filename(frame.f_code.co_filename, frame.f_globals or {}, use_cache)\n",
      "  File \"/home/kruteesh/miniconda3/envs/pdm/lib/python3.10/site-packages/executing/executing.py\", line 270, in for_filename\n",
      "    result = source_cache[filename] = cls._for_filename_and_lines(filename, lines)\n",
      "  File \"/home/kruteesh/miniconda3/envs/pdm/lib/python3.10/site-packages/executing/executing.py\", line 281, in _for_filename_and_lines\n",
      "    result = source_cache[(filename, lines)] = cls(filename, lines)\n",
      "  File \"/home/kruteesh/miniconda3/envs/pdm/lib/python3.10/site-packages/stack_data/core.py\", line 81, in __init__\n",
      "    self.asttokens()\n",
      "  File \"/home/kruteesh/miniconda3/envs/pdm/lib/python3.10/site-packages/executing/executing.py\", line 413, in asttokens\n",
      "    return ASTTokens(\n",
      "  File \"/home/kruteesh/miniconda3/envs/pdm/lib/python3.10/site-packages/asttokens/asttokens.py\", line 65, in __init__\n",
      "    self.mark_tokens(self._tree)\n",
      "  File \"/home/kruteesh/miniconda3/envs/pdm/lib/python3.10/site-packages/asttokens/asttokens.py\", line 76, in mark_tokens\n",
      "    MarkTokens(self).visit_tree(root_node)\n",
      "  File \"/home/kruteesh/miniconda3/envs/pdm/lib/python3.10/site-packages/asttokens/mark_tokens.py\", line 47, in visit_tree\n",
      "    util.visit_tree(node, self._visit_before_children, self._visit_after_children)\n",
      "  File \"/home/kruteesh/miniconda3/envs/pdm/lib/python3.10/site-packages/asttokens/util.py\", line 192, in visit_tree\n",
      "    ret = postvisit(current, par_value, value)\n",
      "  File \"/home/kruteesh/miniconda3/envs/pdm/lib/python3.10/site-packages/asttokens/mark_tokens.py\", line 90, in _visit_after_children\n",
      "    nfirst, nlast = self._methods.get(self, node.__class__)(node, first, last)\n",
      "  File \"/home/kruteesh/miniconda3/envs/pdm/lib/python3.10/site-packages/asttokens/mark_tokens.py\", line 268, in visit_keyword\n",
      "    util.expect_token(name, token.NAME, node.arg)\n",
      "  File \"/home/kruteesh/miniconda3/envs/pdm/lib/python3.10/site-packages/asttokens/util.py\", line 56, in expect_token\n",
      "    raise ValueError(\"Expected token %s, got %s on line %s col %s\" % (\n",
      "ValueError: Expected token NAME:'help', got NAME:'ast_transformers' on line 264 col 5\n"
     ]
    },
    {
     "data": {
      "image/png": "[encoded data removed]",
      "text/plain": [
       "<Figure size 600x600 with 1 Axes>"
      ]
     },
     "metadata": {},
     "output_type": "display_data"
    }
   ],
   "source": [
    "z_0_grid=np.linspace(0,0,151)\n",
    "z_1_grid=np.linspace(1,1,151)\n",
    "z_2_grid=np.linspace(2,2,151)\n",
    "z_3_grid=np.linspace(3,3,151)\n",
    "\n",
    "figure, ax1 = plt.subplots(1, 1, figsize=(std_size,std_size), sharex=True) \n",
    "#plt.plot(ln_sigma_inv_lopez(massOfSun_grid),c_200(massOfSun_grid,z_zero_grid,sigma_quote_lopez),'b-',label='lopez')\n",
    "#plt.plot(ln_sigma_inv_prada(massOfSun_grid),c_200(massOfSun_grid,z_zero_grid,sigma_quote_prada),'r-',label='prada')\n",
    "#plt.plot(np.log10((sigma_prada(massOfSun_grid))**(-1)),c_200_prada(massOfSun_grid,z_0_grid),'r-',label='prada')\n",
    "#plt.plot(np.log10((sigma_prada(massOfSun_grid))**(-1)),c_200_prada(massOfSun_grid,z_1_grid),'r-',label='prada')\n",
    "#plt.plot(np.log10((sigma_prada(massOfSun_grid))**(-1)),c_200_prada(massOfSun_grid,z_2_grid),'r-',label='prada')\n",
    "#plt.plot(np.log10((sigma_prada(massOfSun_grid))**(-1)),c_200_prada(massOfSun_grid,z_3_grid),'r-',label='prada')\n",
    "#plt.plot(massOfSun_grid,ln_sigma_inv_prada(massOfSun_grid),'r-',label='prada')\n",
    "ax1.plot(np.log10(massOfSun_grid),np.log10(c_200_prada(massOfSun_grid,z_3_grid)),'-',label='Prada et. al analytical z=3')\n",
    "#ax1.plot(np.log10(massOfSun_grid),np.log10(c_prada_tau[2]),'-',label='prada tau z=3')\n",
    "#ax1.plot(np.log10(massOfSun_grid),np.log10(c_200_prada(massOfSun_grid,z_2_grid)),'-',label='prada z=2')\n",
    "#ax1.plot(np.log10(massOfSun_grid),np.log10(c_200_prada(massOfSun_grid,z_3_grid)),'-',label='Prada et. al z=3')\n",
    "ax1.plot(np.log10(massOfSun_grid),np.log10(c_ibarra(massOfSun_grid,z_3_grid)),'-',label='A. Dutton et.al z=3')\n",
    "ax1.plot(np.log10(massOfSun_grid),np.log10(c_200_multidark(massOfSun_grid,z_3_grid)),'-',label='Prada et.al.(multidark) z=3')\n",
    "#ax1.plot(np.log10(massOfSun_grid),np.log10(c_200_lopez(massOfSun_grid,z_3_grid)),'r-',label='lopez z=3')\n",
    "ax1.set_xlabel(r'$log_{10} (M_{200}/h^{-1} M_\\odot)$', fontsize=fontsize)\n",
    "ax1.set_ylabel(r'$log_{10}(c_{200})$', fontsize=fontsize)\n",
    "ax1.set_xlim(-6,15)\n",
    "#plt.ylim([0.5,1.2])\n",
    "\n",
    "h, l = ax1.get_legend_handles_labels()\n",
    "\n",
    "lgd1 = ax1.legend(h, l, loc=7, bbox_to_anchor=(1.05, +1.01),\n",
    "             ncol=2, fontsize=fontsize, handlelength=h_length,\n",
    "             fancybox=True, frameon=False)\n",
    "ax1.tick_params(axis = 'both', which = 'major', labelsize=fontsize, direction='in')\n",
    "ax1.tick_params(axis = 'both', which = 'minor', labelsize=fontsize, direction='in')\n",
    "\n",
    "\n",
    "figure.savefig(PICS + \"c_\"+\".png\",\n",
    "               bbox_inches='tight', dpi=export_dpi, facecolor='white')"
   ]
  },
  {
   "cell_type": "code",
   "execution_count": 35,
   "id": "734b757f",
   "metadata": {},
   "outputs": [],
   "source": [
    "def g_tild(M,z,c_200_function):\n",
    "    c_200=c_200_function(M,z)\n",
    "    return ((c_200**3) * (1 - (1 + c_200)**(-3))) / (3 * (np.log(1 + c_200) - c_200 * (1 + c_200)**(-1))**2)"
   ]
  },
  {
   "cell_type": "code",
   "execution_count": 36,
   "id": "b185e456",
   "metadata": {},
   "outputs": [
    {
     "name": "stdout",
     "output_type": "stream",
     "text": [
      "Unexpected exception formatting exception. Falling back to standard exception\n"
     ]
    },
    {
     "name": "stderr",
     "output_type": "stream",
     "text": [
      "Traceback (most recent call last):\n",
      "  File \"/home/kruteesh/miniconda3/envs/pdm/lib/python3.10/site-packages/IPython/core/interactiveshell.py\", line 3398, in run_code\n",
      "    exec(code_obj, self.user_global_ns, self.user_ns)\n",
      "  File \"/tmp/ipykernel_4938/2298438189.py\", line 5, in <cell line: 5>\n",
      "    plt.plot(massOfSun_grid,g_tild(massOfSun_grid,z_0_grid,c_200_prada),'-',label='prada z=0')\n",
      "  File \"/tmp/ipykernel_4938/1090215601.py\", line 2, in g_tild\n",
      "    c_200=c_200_function(M,z)\n",
      "  File \"/tmp/ipykernel_4938/744482976.py\", line 2, in c_200_prada\n",
      "    return B_0(z)*C_sigma_quote_prada(M,z)\n",
      "  File \"/tmp/ipykernel_4938/2075404716.py\", line 2, in C_sigma_quote_prada\n",
      "    quote = sigma_quote_prada(M,z)\n",
      "  File \"/tmp/ipykernel_4938/308346936.py\", line 2, in sigma_quote_prada\n",
      "    return B_1(z)*sigma_final_prada(M,z)\n",
      "  File \"/tmp/ipykernel_4938/308346936.py\", line 5, in sigma_final_prada\n",
      "    return sigma_prada(M)*D_prada(z)\n",
      "  File \"/tmp/ipykernel_4938/64457072.py\", line 3, in sigma_prada\n",
      "    y = (M*h/1e12)**(-1)\n",
      "ValueError: operands could not be broadcast together with shapes (151,) (2,) \n",
      "\n",
      "During handling of the above exception, another exception occurred:\n",
      "\n",
      "Traceback (most recent call last):\n",
      "  File \"/home/kruteesh/miniconda3/envs/pdm/lib/python3.10/site-packages/executing/executing.py\", line 317, in executing\n",
      "    args = executing_cache[key]\n",
      "KeyError: (<code object run_code at 0x7fef2dfca760, file \"/home/kruteesh/miniconda3/envs/pdm/lib/python3.10/site-packages/IPython/core/interactiveshell.py\", line 3362>, 140665245443936, 76)\n",
      "\n",
      "During handling of the above exception, another exception occurred:\n",
      "\n",
      "Traceback (most recent call last):\n",
      "  File \"/home/kruteesh/miniconda3/envs/pdm/lib/python3.10/site-packages/IPython/core/interactiveshell.py\", line 1993, in showtraceback\n",
      "    stb = self.InteractiveTB.structured_traceback(\n",
      "  File \"/home/kruteesh/miniconda3/envs/pdm/lib/python3.10/site-packages/IPython/core/ultratb.py\", line 1118, in structured_traceback\n",
      "    return FormattedTB.structured_traceback(\n",
      "  File \"/home/kruteesh/miniconda3/envs/pdm/lib/python3.10/site-packages/IPython/core/ultratb.py\", line 1012, in structured_traceback\n",
      "    return VerboseTB.structured_traceback(\n",
      "  File \"/home/kruteesh/miniconda3/envs/pdm/lib/python3.10/site-packages/IPython/core/ultratb.py\", line 865, in structured_traceback\n",
      "    formatted_exception = self.format_exception_as_a_whole(etype, evalue, etb, number_of_lines_of_context,\n",
      "  File \"/home/kruteesh/miniconda3/envs/pdm/lib/python3.10/site-packages/IPython/core/ultratb.py\", line 799, in format_exception_as_a_whole\n",
      "    self.get_records(etb, number_of_lines_of_context, tb_offset) if etb else []\n",
      "  File \"/home/kruteesh/miniconda3/envs/pdm/lib/python3.10/site-packages/IPython/core/ultratb.py\", line 854, in get_records\n",
      "    return list(stack_data.FrameInfo.stack_data(etb, options=options))[tb_offset:]\n",
      "  File \"/home/kruteesh/miniconda3/envs/pdm/lib/python3.10/site-packages/stack_data/core.py\", line 565, in stack_data\n",
      "    yield from collapse_repeated(\n",
      "  File \"/home/kruteesh/miniconda3/envs/pdm/lib/python3.10/site-packages/stack_data/utils.py\", line 84, in collapse_repeated\n",
      "    yield from map(mapper, original_group)\n",
      "  File \"/home/kruteesh/miniconda3/envs/pdm/lib/python3.10/site-packages/stack_data/core.py\", line 555, in mapper\n",
      "    return cls(f, options)\n",
      "  File \"/home/kruteesh/miniconda3/envs/pdm/lib/python3.10/site-packages/stack_data/core.py\", line 520, in __init__\n",
      "    self.executing = Source.executing(frame_or_tb)\n",
      "  File \"/home/kruteesh/miniconda3/envs/pdm/lib/python3.10/site-packages/executing/executing.py\", line 369, in executing\n",
      "    args = find(source=cls.for_frame(frame), retry_cache=True)\n",
      "  File \"/home/kruteesh/miniconda3/envs/pdm/lib/python3.10/site-packages/executing/executing.py\", line 252, in for_frame\n",
      "    return cls.for_filename(frame.f_code.co_filename, frame.f_globals or {}, use_cache)\n",
      "  File \"/home/kruteesh/miniconda3/envs/pdm/lib/python3.10/site-packages/executing/executing.py\", line 270, in for_filename\n",
      "    result = source_cache[filename] = cls._for_filename_and_lines(filename, lines)\n",
      "  File \"/home/kruteesh/miniconda3/envs/pdm/lib/python3.10/site-packages/executing/executing.py\", line 281, in _for_filename_and_lines\n",
      "    result = source_cache[(filename, lines)] = cls(filename, lines)\n",
      "  File \"/home/kruteesh/miniconda3/envs/pdm/lib/python3.10/site-packages/stack_data/core.py\", line 81, in __init__\n",
      "    self.asttokens()\n",
      "  File \"/home/kruteesh/miniconda3/envs/pdm/lib/python3.10/site-packages/executing/executing.py\", line 413, in asttokens\n",
      "    return ASTTokens(\n",
      "  File \"/home/kruteesh/miniconda3/envs/pdm/lib/python3.10/site-packages/asttokens/asttokens.py\", line 65, in __init__\n",
      "    self.mark_tokens(self._tree)\n",
      "  File \"/home/kruteesh/miniconda3/envs/pdm/lib/python3.10/site-packages/asttokens/asttokens.py\", line 76, in mark_tokens\n",
      "    MarkTokens(self).visit_tree(root_node)\n",
      "  File \"/home/kruteesh/miniconda3/envs/pdm/lib/python3.10/site-packages/asttokens/mark_tokens.py\", line 47, in visit_tree\n",
      "    util.visit_tree(node, self._visit_before_children, self._visit_after_children)\n",
      "  File \"/home/kruteesh/miniconda3/envs/pdm/lib/python3.10/site-packages/asttokens/util.py\", line 192, in visit_tree\n",
      "    ret = postvisit(current, par_value, value)\n",
      "  File \"/home/kruteesh/miniconda3/envs/pdm/lib/python3.10/site-packages/asttokens/mark_tokens.py\", line 90, in _visit_after_children\n",
      "    nfirst, nlast = self._methods.get(self, node.__class__)(node, first, last)\n",
      "  File \"/home/kruteesh/miniconda3/envs/pdm/lib/python3.10/site-packages/asttokens/mark_tokens.py\", line 268, in visit_keyword\n",
      "    util.expect_token(name, token.NAME, node.arg)\n",
      "  File \"/home/kruteesh/miniconda3/envs/pdm/lib/python3.10/site-packages/asttokens/util.py\", line 56, in expect_token\n",
      "    raise ValueError(\"Expected token %s, got %s on line %s col %s\" % (\n",
      "ValueError: Expected token NAME:'help', got NAME:'ast_transformers' on line 264 col 5\n"
     ]
    }
   ],
   "source": [
    "z_0_grid=np.linspace(0,0,42)\n",
    "z_1_grid=np.linspace(1,1,42)\n",
    "z_2_grid=np.linspace(2,2,42)\n",
    "z_3_grid=np.linspace(3,3,42)\n",
    "plt.plot(massOfSun_grid,g_tild(massOfSun_grid,z_0_grid,c_200_prada),'-',label='prada z=0')\n",
    "plt.plot(massOfSun_grid,g_tild(massOfSun_grid,z_0_grid,c_ibarra),'-',label='ibarra z=0')\n",
    "plt.plot(massOfSun_grid,g_tild(massOfSun_grid,z_0_grid,c_200_multidark),'-',label='multidark z=0')\n",
    "plt.plot(massOfSun_grid,g_tild(massOfSun_grid,z_0_grid,c_200_lopez),'r-',label='lopez z=0')\n",
    "plt.xlabel(r'$log_{10} (M_{200}/h^{-1} M_\\odot)$')\n",
    "plt.ylabel(r'$\\tilde{g}(c_{200}(M,z))$')\n",
    "plt.xscale('log')\n",
    "plt.yscale('log')\n",
    "plt.xlim([1e-5,1e15])\n",
    "#plt.ylim([0, 0.5e8])\n",
    "plt.legend()"
   ]
  },
  {
   "cell_type": "code",
   "execution_count": 37,
   "id": "7f0974c7",
   "metadata": {},
   "outputs": [],
   "source": [
    "def f_178(sigma_function,M,z):\n",
    "    sigma=sigma_function(M,z)\n",
    "    A = omega_mz(z)*(1.097*(1+z)**(-3.216) + 0.074)\n",
    "    alpha = omega_mz(z)*(5.907*(1+z)**(-3.599) + 2.344)\n",
    "    beta = omega_mz(z)*(3.136*(1+z)**(-3.068) + 2.349)\n",
    "    gamma = 1.318\n",
    "    \n",
    "    return A * ((sigma / beta)**(-alpha) + 1) * np.exp(-gamma / sigma**2)"
   ]
  },
  {
   "cell_type": "code",
   "execution_count": 38,
   "id": "ca8645b8",
   "metadata": {},
   "outputs": [],
   "source": [
    "def f_delta(sigma_function,M,z):\n",
    "    delta=200\n",
    "    sigma=sigma_function(M,z)\n",
    "    return (np.exp(((delta / 178) - 1) * (0.023 - (0.072 / sigma**2.13))) *\n",
    "            (delta / 178)**(-0.456 *omega_mz(z) - 0.139)) * f_178(sigma_function,M,z)"
   ]
  },
  {
   "cell_type": "code",
   "execution_count": 39,
   "id": "eb5378bb",
   "metadata": {},
   "outputs": [
    {
     "name": "stdout",
     "output_type": "stream",
     "text": [
      "Unexpected exception formatting exception. Falling back to standard exception\n"
     ]
    },
    {
     "name": "stderr",
     "output_type": "stream",
     "text": [
      "Traceback (most recent call last):\n",
      "  File \"/home/kruteesh/miniconda3/envs/pdm/lib/python3.10/site-packages/IPython/core/interactiveshell.py\", line 3398, in run_code\n",
      "    exec(code_obj, self.user_global_ns, self.user_ns)\n",
      "  File \"/tmp/ipykernel_4938/3035147861.py\", line 5, in <cell line: 5>\n",
      "    plt.plot(massOfSun_grid,f_delta(sigma_final_prada,massOfSun_grid,z_0_grid),'-',label='prada z=0')\n",
      "  File \"/tmp/ipykernel_4938/444432515.py\", line 3, in f_delta\n",
      "    sigma=sigma_function(M,z)\n",
      "  File \"/tmp/ipykernel_4938/308346936.py\", line 5, in sigma_final_prada\n",
      "    return sigma_prada(M)*D_prada(z)\n",
      "  File \"/tmp/ipykernel_4938/64457072.py\", line 3, in sigma_prada\n",
      "    y = (M*h/1e12)**(-1)\n",
      "ValueError: operands could not be broadcast together with shapes (151,) (2,) \n",
      "\n",
      "During handling of the above exception, another exception occurred:\n",
      "\n",
      "Traceback (most recent call last):\n",
      "  File \"/home/kruteesh/miniconda3/envs/pdm/lib/python3.10/site-packages/executing/executing.py\", line 317, in executing\n",
      "    args = executing_cache[key]\n",
      "KeyError: (<code object run_code at 0x7fef2dfca760, file \"/home/kruteesh/miniconda3/envs/pdm/lib/python3.10/site-packages/IPython/core/interactiveshell.py\", line 3362>, 140665245443936, 76)\n",
      "\n",
      "During handling of the above exception, another exception occurred:\n",
      "\n",
      "Traceback (most recent call last):\n",
      "  File \"/home/kruteesh/miniconda3/envs/pdm/lib/python3.10/site-packages/IPython/core/interactiveshell.py\", line 1993, in showtraceback\n",
      "    stb = self.InteractiveTB.structured_traceback(\n",
      "  File \"/home/kruteesh/miniconda3/envs/pdm/lib/python3.10/site-packages/IPython/core/ultratb.py\", line 1118, in structured_traceback\n",
      "    return FormattedTB.structured_traceback(\n",
      "  File \"/home/kruteesh/miniconda3/envs/pdm/lib/python3.10/site-packages/IPython/core/ultratb.py\", line 1012, in structured_traceback\n",
      "    return VerboseTB.structured_traceback(\n",
      "  File \"/home/kruteesh/miniconda3/envs/pdm/lib/python3.10/site-packages/IPython/core/ultratb.py\", line 865, in structured_traceback\n",
      "    formatted_exception = self.format_exception_as_a_whole(etype, evalue, etb, number_of_lines_of_context,\n",
      "  File \"/home/kruteesh/miniconda3/envs/pdm/lib/python3.10/site-packages/IPython/core/ultratb.py\", line 799, in format_exception_as_a_whole\n",
      "    self.get_records(etb, number_of_lines_of_context, tb_offset) if etb else []\n",
      "  File \"/home/kruteesh/miniconda3/envs/pdm/lib/python3.10/site-packages/IPython/core/ultratb.py\", line 854, in get_records\n",
      "    return list(stack_data.FrameInfo.stack_data(etb, options=options))[tb_offset:]\n",
      "  File \"/home/kruteesh/miniconda3/envs/pdm/lib/python3.10/site-packages/stack_data/core.py\", line 565, in stack_data\n",
      "    yield from collapse_repeated(\n",
      "  File \"/home/kruteesh/miniconda3/envs/pdm/lib/python3.10/site-packages/stack_data/utils.py\", line 84, in collapse_repeated\n",
      "    yield from map(mapper, original_group)\n",
      "  File \"/home/kruteesh/miniconda3/envs/pdm/lib/python3.10/site-packages/stack_data/core.py\", line 555, in mapper\n",
      "    return cls(f, options)\n",
      "  File \"/home/kruteesh/miniconda3/envs/pdm/lib/python3.10/site-packages/stack_data/core.py\", line 520, in __init__\n",
      "    self.executing = Source.executing(frame_or_tb)\n",
      "  File \"/home/kruteesh/miniconda3/envs/pdm/lib/python3.10/site-packages/executing/executing.py\", line 369, in executing\n",
      "    args = find(source=cls.for_frame(frame), retry_cache=True)\n",
      "  File \"/home/kruteesh/miniconda3/envs/pdm/lib/python3.10/site-packages/executing/executing.py\", line 252, in for_frame\n",
      "    return cls.for_filename(frame.f_code.co_filename, frame.f_globals or {}, use_cache)\n",
      "  File \"/home/kruteesh/miniconda3/envs/pdm/lib/python3.10/site-packages/executing/executing.py\", line 270, in for_filename\n",
      "    result = source_cache[filename] = cls._for_filename_and_lines(filename, lines)\n",
      "  File \"/home/kruteesh/miniconda3/envs/pdm/lib/python3.10/site-packages/executing/executing.py\", line 281, in _for_filename_and_lines\n",
      "    result = source_cache[(filename, lines)] = cls(filename, lines)\n",
      "  File \"/home/kruteesh/miniconda3/envs/pdm/lib/python3.10/site-packages/stack_data/core.py\", line 81, in __init__\n",
      "    self.asttokens()\n",
      "  File \"/home/kruteesh/miniconda3/envs/pdm/lib/python3.10/site-packages/executing/executing.py\", line 413, in asttokens\n",
      "    return ASTTokens(\n",
      "  File \"/home/kruteesh/miniconda3/envs/pdm/lib/python3.10/site-packages/asttokens/asttokens.py\", line 65, in __init__\n",
      "    self.mark_tokens(self._tree)\n",
      "  File \"/home/kruteesh/miniconda3/envs/pdm/lib/python3.10/site-packages/asttokens/asttokens.py\", line 76, in mark_tokens\n",
      "    MarkTokens(self).visit_tree(root_node)\n",
      "  File \"/home/kruteesh/miniconda3/envs/pdm/lib/python3.10/site-packages/asttokens/mark_tokens.py\", line 47, in visit_tree\n",
      "    util.visit_tree(node, self._visit_before_children, self._visit_after_children)\n",
      "  File \"/home/kruteesh/miniconda3/envs/pdm/lib/python3.10/site-packages/asttokens/util.py\", line 192, in visit_tree\n",
      "    ret = postvisit(current, par_value, value)\n",
      "  File \"/home/kruteesh/miniconda3/envs/pdm/lib/python3.10/site-packages/asttokens/mark_tokens.py\", line 90, in _visit_after_children\n",
      "    nfirst, nlast = self._methods.get(self, node.__class__)(node, first, last)\n",
      "  File \"/home/kruteesh/miniconda3/envs/pdm/lib/python3.10/site-packages/asttokens/mark_tokens.py\", line 268, in visit_keyword\n",
      "    util.expect_token(name, token.NAME, node.arg)\n",
      "  File \"/home/kruteesh/miniconda3/envs/pdm/lib/python3.10/site-packages/asttokens/util.py\", line 56, in expect_token\n",
      "    raise ValueError(\"Expected token %s, got %s on line %s col %s\" % (\n",
      "ValueError: Expected token NAME:'help', got NAME:'ast_transformers' on line 264 col 5\n"
     ]
    }
   ],
   "source": [
    "z_0_grid=np.linspace(0,0,42)\n",
    "z_1_grid=np.linspace(1,1,42)\n",
    "z_2_grid=np.linspace(2,2,42)\n",
    "z_3_grid=np.linspace(3,3,42)\n",
    "plt.plot(massOfSun_grid,f_delta(sigma_final_prada,massOfSun_grid,z_0_grid),'-',label='prada z=0')\n",
    "plt.plot(massOfSun_grid,f_delta(sigma_final_lopez,massOfSun_grid,z_0_grid),'-',label='lopez z=0')\n",
    "plt.xlabel(r'$log_{10} (M_{200}/h^{-1} M_\\odot)$')\n",
    "plt.ylabel(r'$f_{\\Delta=200}(\\sigma,z)$')\n",
    "plt.xscale('log')\n",
    "#plt.yscale('log')\n",
    "plt.xlim([1e-5,1e15])\n",
    "#plt.ylim([0, 0.5e8])\n",
    "plt.legend()"
   ]
  },
  {
   "cell_type": "markdown",
   "id": "1dfae64c",
   "metadata": {},
   "source": [
    "### compare $ln(\\sigma^-1)$ and final integral of extragalactic flux ###"
   ]
  },
  {
   "cell_type": "code",
   "execution_count": 40,
   "id": "3203181b",
   "metadata": {},
   "outputs": [],
   "source": [
    "def dln_inv_dlogM_lopez(M):\n",
    "    return 0.2506 * 0.07536 * (M)**(0.07536 - 1) - 2.6 * 0.001745 * (M)**(0.001745 - 1)\n",
    "\n",
    "def dln_inv_dlogM_prada(M): # change the results --- \n",
    "    y = (M * h / (1e12 ))**(-1)\n",
    "    dln_sigma_inv_dy = -(0.0372058*(y**1.997+10.9392*y**1.8+1.77167*y**1.797))/((y**0.003+0.17717*y**0.2+0.160772)*y**2.797)\n",
    "    dy_dm = -y/M\n",
    "    dln_sigma_inv_dm = dln_sigma_inv_dy * dy_dm\n",
    "    return dln_sigma_inv_dm"
   ]
  },
  {
   "cell_type": "code",
   "execution_count": 41,
   "id": "1c1f6077",
   "metadata": {},
   "outputs": [],
   "source": [
    "M=np.logspace(-9, 15, 42)\n",
    "z=np.linspace(0,20,42)\n",
    "def G_lopez(z):\n",
    "    delta=200\n",
    "    lopez_int_grid=np.logspace(-5, 17, 151)\n",
    "    def integrand(M):\n",
    "        return dln_inv_dlogM_lopez(M) * f_delta(sigma_final_lopez,M,z) * g_tild(M, z,c_200_lopez)\n",
    "    \n",
    "    prefactor = ((omega_m/omega_dm)**2) * (delta/(3*omega_m/a_z(z)**3))\n",
    "    \n",
    "    to_int_values=np.array([integrand(M) for M in lopez_int_grid])\n",
    "    \n",
    "    int_values = np.trapz(to_int_values, x=lopez_int_grid,axis=0)\n",
    "    \n",
    "    return prefactor*int_values\n",
    "\n",
    "def G_prada(z):\n",
    "    delta=200\n",
    "    lopez_int_grid=np.logspace(-5, 17, 151)\n",
    "    def integrand(M):\n",
    "        return dln_inv_dlogM_prada(M) * f_delta(sigma_final_prada,M,z) * g_tild(M, z,c_200_prada)\n",
    "    prefactor = ((omega_m/omega_dm)**2) * (delta/(3*omega_m/a_z(z)**3))\n",
    "    to_int_values=np.array([integrand(M) for M in lopez_int_grid])\n",
    "    int_values = np.trapz(to_int_values, x=lopez_int_grid,axis=0)\n",
    "    \n",
    "    return prefactor*int_values\n",
    "\n",
    "def G_ibarra(z):\n",
    "    delta=200\n",
    "    lopez_int_grid=np.logspace(-9, 17, 151)\n",
    "    def integrand(M):\n",
    "        return dln_inv_dlogM_prada(M) * f_delta(sigma_final_prada,M,z) * g_tild(M, z,c_ibarra)\n",
    "    prefactor = ((omega_m/omega_dm)**2) * (delta/(3*omega_m/a_z(z)**3))\n",
    "    to_int_values=np.array([integrand(M) for M in lopez_int_grid])\n",
    "    int_values = np.trapz(to_int_values, x=lopez_int_grid,axis=0)\n",
    "    \n",
    "    return prefactor*int_values"
   ]
  },
  {
   "cell_type": "code",
   "execution_count": 42,
   "id": "b4f61210",
   "metadata": {},
   "outputs": [
    {
     "name": "stdout",
     "output_type": "stream",
     "text": [
      "Unexpected exception formatting exception. Falling back to standard exception\n"
     ]
    },
    {
     "name": "stderr",
     "output_type": "stream",
     "text": [
      "Traceback (most recent call last):\n",
      "  File \"/home/kruteesh/miniconda3/envs/pdm/lib/python3.10/site-packages/IPython/core/interactiveshell.py\", line 3398, in run_code\n",
      "    exec(code_obj, self.user_global_ns, self.user_ns)\n",
      "  File \"/tmp/ipykernel_4938/370697876.py\", line 1, in <cell line: 1>\n",
      "    G_prada(z)*(1+z)**3\n",
      "  File \"/tmp/ipykernel_4938/1061617900.py\", line 23, in G_prada\n",
      "    to_int_values=np.array([integrand(M) for M in lopez_int_grid])\n",
      "  File \"/tmp/ipykernel_4938/1061617900.py\", line 23, in <listcomp>\n",
      "    to_int_values=np.array([integrand(M) for M in lopez_int_grid])\n",
      "  File \"/tmp/ipykernel_4938/1061617900.py\", line 21, in integrand\n",
      "    return dln_inv_dlogM_prada(M) * f_delta(sigma_final_prada,M,z) * g_tild(M, z,c_200_prada)\n",
      "  File \"/tmp/ipykernel_4938/1012555996.py\", line 5, in dln_inv_dlogM_prada\n",
      "    y = (M * h / (1e12 ))**(-1)\n",
      "TypeError: can't multiply sequence by non-int of type 'numpy.float64'\n",
      "\n",
      "During handling of the above exception, another exception occurred:\n",
      "\n",
      "Traceback (most recent call last):\n",
      "  File \"/home/kruteesh/miniconda3/envs/pdm/lib/python3.10/site-packages/executing/executing.py\", line 317, in executing\n",
      "    args = executing_cache[key]\n",
      "KeyError: (<code object run_code at 0x7fef2dfca760, file \"/home/kruteesh/miniconda3/envs/pdm/lib/python3.10/site-packages/IPython/core/interactiveshell.py\", line 3362>, 140665245443936, 76)\n",
      "\n",
      "During handling of the above exception, another exception occurred:\n",
      "\n",
      "Traceback (most recent call last):\n",
      "  File \"/home/kruteesh/miniconda3/envs/pdm/lib/python3.10/site-packages/IPython/core/interactiveshell.py\", line 1993, in showtraceback\n",
      "    stb = self.InteractiveTB.structured_traceback(\n",
      "  File \"/home/kruteesh/miniconda3/envs/pdm/lib/python3.10/site-packages/IPython/core/ultratb.py\", line 1118, in structured_traceback\n",
      "    return FormattedTB.structured_traceback(\n",
      "  File \"/home/kruteesh/miniconda3/envs/pdm/lib/python3.10/site-packages/IPython/core/ultratb.py\", line 1012, in structured_traceback\n",
      "    return VerboseTB.structured_traceback(\n",
      "  File \"/home/kruteesh/miniconda3/envs/pdm/lib/python3.10/site-packages/IPython/core/ultratb.py\", line 865, in structured_traceback\n",
      "    formatted_exception = self.format_exception_as_a_whole(etype, evalue, etb, number_of_lines_of_context,\n",
      "  File \"/home/kruteesh/miniconda3/envs/pdm/lib/python3.10/site-packages/IPython/core/ultratb.py\", line 799, in format_exception_as_a_whole\n",
      "    self.get_records(etb, number_of_lines_of_context, tb_offset) if etb else []\n",
      "  File \"/home/kruteesh/miniconda3/envs/pdm/lib/python3.10/site-packages/IPython/core/ultratb.py\", line 854, in get_records\n",
      "    return list(stack_data.FrameInfo.stack_data(etb, options=options))[tb_offset:]\n",
      "  File \"/home/kruteesh/miniconda3/envs/pdm/lib/python3.10/site-packages/stack_data/core.py\", line 565, in stack_data\n",
      "    yield from collapse_repeated(\n",
      "  File \"/home/kruteesh/miniconda3/envs/pdm/lib/python3.10/site-packages/stack_data/utils.py\", line 84, in collapse_repeated\n",
      "    yield from map(mapper, original_group)\n",
      "  File \"/home/kruteesh/miniconda3/envs/pdm/lib/python3.10/site-packages/stack_data/core.py\", line 555, in mapper\n",
      "    return cls(f, options)\n",
      "  File \"/home/kruteesh/miniconda3/envs/pdm/lib/python3.10/site-packages/stack_data/core.py\", line 520, in __init__\n",
      "    self.executing = Source.executing(frame_or_tb)\n",
      "  File \"/home/kruteesh/miniconda3/envs/pdm/lib/python3.10/site-packages/executing/executing.py\", line 369, in executing\n",
      "    args = find(source=cls.for_frame(frame), retry_cache=True)\n",
      "  File \"/home/kruteesh/miniconda3/envs/pdm/lib/python3.10/site-packages/executing/executing.py\", line 252, in for_frame\n",
      "    return cls.for_filename(frame.f_code.co_filename, frame.f_globals or {}, use_cache)\n",
      "  File \"/home/kruteesh/miniconda3/envs/pdm/lib/python3.10/site-packages/executing/executing.py\", line 270, in for_filename\n",
      "    result = source_cache[filename] = cls._for_filename_and_lines(filename, lines)\n",
      "  File \"/home/kruteesh/miniconda3/envs/pdm/lib/python3.10/site-packages/executing/executing.py\", line 281, in _for_filename_and_lines\n",
      "    result = source_cache[(filename, lines)] = cls(filename, lines)\n",
      "  File \"/home/kruteesh/miniconda3/envs/pdm/lib/python3.10/site-packages/stack_data/core.py\", line 81, in __init__\n",
      "    self.asttokens()\n",
      "  File \"/home/kruteesh/miniconda3/envs/pdm/lib/python3.10/site-packages/executing/executing.py\", line 413, in asttokens\n",
      "    return ASTTokens(\n",
      "  File \"/home/kruteesh/miniconda3/envs/pdm/lib/python3.10/site-packages/asttokens/asttokens.py\", line 65, in __init__\n",
      "    self.mark_tokens(self._tree)\n",
      "  File \"/home/kruteesh/miniconda3/envs/pdm/lib/python3.10/site-packages/asttokens/asttokens.py\", line 76, in mark_tokens\n",
      "    MarkTokens(self).visit_tree(root_node)\n",
      "  File \"/home/kruteesh/miniconda3/envs/pdm/lib/python3.10/site-packages/asttokens/mark_tokens.py\", line 47, in visit_tree\n",
      "    util.visit_tree(node, self._visit_before_children, self._visit_after_children)\n",
      "  File \"/home/kruteesh/miniconda3/envs/pdm/lib/python3.10/site-packages/asttokens/util.py\", line 192, in visit_tree\n",
      "    ret = postvisit(current, par_value, value)\n",
      "  File \"/home/kruteesh/miniconda3/envs/pdm/lib/python3.10/site-packages/asttokens/mark_tokens.py\", line 90, in _visit_after_children\n",
      "    nfirst, nlast = self._methods.get(self, node.__class__)(node, first, last)\n",
      "  File \"/home/kruteesh/miniconda3/envs/pdm/lib/python3.10/site-packages/asttokens/mark_tokens.py\", line 268, in visit_keyword\n",
      "    util.expect_token(name, token.NAME, node.arg)\n",
      "  File \"/home/kruteesh/miniconda3/envs/pdm/lib/python3.10/site-packages/asttokens/util.py\", line 56, in expect_token\n",
      "    raise ValueError(\"Expected token %s, got %s on line %s col %s\" % (\n",
      "ValueError: Expected token NAME:'help', got NAME:'ast_transformers' on line 264 col 5\n"
     ]
    }
   ],
   "source": [
    "G_prada(z)*(1+z)**3"
   ]
  },
  {
   "cell_type": "code",
   "execution_count": 43,
   "id": "2ff95298",
   "metadata": {
    "scrolled": false
   },
   "outputs": [
    {
     "name": "stdout",
     "output_type": "stream",
     "text": [
      "Unexpected exception formatting exception. Falling back to standard exception\n"
     ]
    },
    {
     "name": "stderr",
     "output_type": "stream",
     "text": [
      "Traceback (most recent call last):\n",
      "  File \"/home/kruteesh/miniconda3/envs/pdm/lib/python3.10/site-packages/IPython/core/interactiveshell.py\", line 3398, in run_code\n",
      "    exec(code_obj, self.user_global_ns, self.user_ns)\n",
      "  File \"/tmp/ipykernel_4938/1095731344.py\", line 3, in <cell line: 3>\n",
      "    ax1.plot((1+z),G_prada(z)*(1+z)**3,label='Simulation')\n",
      "  File \"/tmp/ipykernel_4938/1061617900.py\", line 23, in G_prada\n",
      "    to_int_values=np.array([integrand(M) for M in lopez_int_grid])\n",
      "  File \"/tmp/ipykernel_4938/1061617900.py\", line 23, in <listcomp>\n",
      "    to_int_values=np.array([integrand(M) for M in lopez_int_grid])\n",
      "  File \"/tmp/ipykernel_4938/1061617900.py\", line 21, in integrand\n",
      "    return dln_inv_dlogM_prada(M) * f_delta(sigma_final_prada,M,z) * g_tild(M, z,c_200_prada)\n",
      "  File \"/tmp/ipykernel_4938/1012555996.py\", line 5, in dln_inv_dlogM_prada\n",
      "    y = (M * h / (1e12 ))**(-1)\n",
      "TypeError: can't multiply sequence by non-int of type 'numpy.float64'\n",
      "\n",
      "During handling of the above exception, another exception occurred:\n",
      "\n",
      "Traceback (most recent call last):\n",
      "  File \"/home/kruteesh/miniconda3/envs/pdm/lib/python3.10/site-packages/executing/executing.py\", line 317, in executing\n",
      "    args = executing_cache[key]\n",
      "KeyError: (<code object run_code at 0x7fef2dfca760, file \"/home/kruteesh/miniconda3/envs/pdm/lib/python3.10/site-packages/IPython/core/interactiveshell.py\", line 3362>, 140665245443936, 76)\n",
      "\n",
      "During handling of the above exception, another exception occurred:\n",
      "\n",
      "Traceback (most recent call last):\n",
      "  File \"/home/kruteesh/miniconda3/envs/pdm/lib/python3.10/site-packages/IPython/core/interactiveshell.py\", line 1993, in showtraceback\n",
      "    stb = self.InteractiveTB.structured_traceback(\n",
      "  File \"/home/kruteesh/miniconda3/envs/pdm/lib/python3.10/site-packages/IPython/core/ultratb.py\", line 1118, in structured_traceback\n",
      "    return FormattedTB.structured_traceback(\n",
      "  File \"/home/kruteesh/miniconda3/envs/pdm/lib/python3.10/site-packages/IPython/core/ultratb.py\", line 1012, in structured_traceback\n",
      "    return VerboseTB.structured_traceback(\n",
      "  File \"/home/kruteesh/miniconda3/envs/pdm/lib/python3.10/site-packages/IPython/core/ultratb.py\", line 865, in structured_traceback\n",
      "    formatted_exception = self.format_exception_as_a_whole(etype, evalue, etb, number_of_lines_of_context,\n",
      "  File \"/home/kruteesh/miniconda3/envs/pdm/lib/python3.10/site-packages/IPython/core/ultratb.py\", line 799, in format_exception_as_a_whole\n",
      "    self.get_records(etb, number_of_lines_of_context, tb_offset) if etb else []\n",
      "  File \"/home/kruteesh/miniconda3/envs/pdm/lib/python3.10/site-packages/IPython/core/ultratb.py\", line 854, in get_records\n",
      "    return list(stack_data.FrameInfo.stack_data(etb, options=options))[tb_offset:]\n",
      "  File \"/home/kruteesh/miniconda3/envs/pdm/lib/python3.10/site-packages/stack_data/core.py\", line 565, in stack_data\n",
      "    yield from collapse_repeated(\n",
      "  File \"/home/kruteesh/miniconda3/envs/pdm/lib/python3.10/site-packages/stack_data/utils.py\", line 84, in collapse_repeated\n",
      "    yield from map(mapper, original_group)\n",
      "  File \"/home/kruteesh/miniconda3/envs/pdm/lib/python3.10/site-packages/stack_data/core.py\", line 555, in mapper\n",
      "    return cls(f, options)\n",
      "  File \"/home/kruteesh/miniconda3/envs/pdm/lib/python3.10/site-packages/stack_data/core.py\", line 520, in __init__\n",
      "    self.executing = Source.executing(frame_or_tb)\n",
      "  File \"/home/kruteesh/miniconda3/envs/pdm/lib/python3.10/site-packages/executing/executing.py\", line 369, in executing\n",
      "    args = find(source=cls.for_frame(frame), retry_cache=True)\n",
      "  File \"/home/kruteesh/miniconda3/envs/pdm/lib/python3.10/site-packages/executing/executing.py\", line 252, in for_frame\n",
      "    return cls.for_filename(frame.f_code.co_filename, frame.f_globals or {}, use_cache)\n",
      "  File \"/home/kruteesh/miniconda3/envs/pdm/lib/python3.10/site-packages/executing/executing.py\", line 270, in for_filename\n",
      "    result = source_cache[filename] = cls._for_filename_and_lines(filename, lines)\n",
      "  File \"/home/kruteesh/miniconda3/envs/pdm/lib/python3.10/site-packages/executing/executing.py\", line 281, in _for_filename_and_lines\n",
      "    result = source_cache[(filename, lines)] = cls(filename, lines)\n",
      "  File \"/home/kruteesh/miniconda3/envs/pdm/lib/python3.10/site-packages/stack_data/core.py\", line 81, in __init__\n",
      "    self.asttokens()\n",
      "  File \"/home/kruteesh/miniconda3/envs/pdm/lib/python3.10/site-packages/executing/executing.py\", line 413, in asttokens\n",
      "    return ASTTokens(\n",
      "  File \"/home/kruteesh/miniconda3/envs/pdm/lib/python3.10/site-packages/asttokens/asttokens.py\", line 65, in __init__\n",
      "    self.mark_tokens(self._tree)\n",
      "  File \"/home/kruteesh/miniconda3/envs/pdm/lib/python3.10/site-packages/asttokens/asttokens.py\", line 76, in mark_tokens\n",
      "    MarkTokens(self).visit_tree(root_node)\n",
      "  File \"/home/kruteesh/miniconda3/envs/pdm/lib/python3.10/site-packages/asttokens/mark_tokens.py\", line 47, in visit_tree\n",
      "    util.visit_tree(node, self._visit_before_children, self._visit_after_children)\n",
      "  File \"/home/kruteesh/miniconda3/envs/pdm/lib/python3.10/site-packages/asttokens/util.py\", line 192, in visit_tree\n",
      "    ret = postvisit(current, par_value, value)\n",
      "  File \"/home/kruteesh/miniconda3/envs/pdm/lib/python3.10/site-packages/asttokens/mark_tokens.py\", line 90, in _visit_after_children\n",
      "    nfirst, nlast = self._methods.get(self, node.__class__)(node, first, last)\n",
      "  File \"/home/kruteesh/miniconda3/envs/pdm/lib/python3.10/site-packages/asttokens/mark_tokens.py\", line 268, in visit_keyword\n",
      "    util.expect_token(name, token.NAME, node.arg)\n",
      "  File \"/home/kruteesh/miniconda3/envs/pdm/lib/python3.10/site-packages/asttokens/util.py\", line 56, in expect_token\n",
      "    raise ValueError(\"Expected token %s, got %s on line %s col %s\" % (\n",
      "ValueError: Expected token NAME:'help', got NAME:'ast_transformers' on line 264 col 5\n"
     ]
    },
    {
     "data": {
      "image/png": "[encoded data removed]",
      "text/plain": [
       "<Figure size 600x600 with 1 Axes>"
      ]
     },
     "metadata": {},
     "output_type": "display_data"
    }
   ],
   "source": [
    "figure, ax1 = plt.subplots(1, 1, figsize=(std_size,std_size), sharex=True) \n",
    "#ax1.plot((1+z),G_lopez(z)*(1+z)**3,label='Simulation')\n",
    "ax1.plot((1+z),G_prada(z)*(1+z)**3,label='Simulation')\n",
    "ax1.plot((1+z),G_ibarra(z)*(1+z)**3, '-.',label='A. Moline et.al. ')\n",
    "ax1.set_xlabel(r'$(1+z)$', fontsize=fontsize)\n",
    "ax1.set_ylabel(r'$(1+z)^3 \\times G(z)$', fontsize=fontsize)\n",
    "ax1.set_yscale('log')\n",
    "ax1.set_xscale('log')\n",
    "ax1.set_xlim(0, 20)\n",
    "h, l = ax1.get_legend_handles_labels()\n",
    "lgd1 = ax1.legend(h, l, loc=7, bbox_to_anchor=(1.05, +1.01),\n",
    "             ncol=2, fontsize=fontsize, handlelength=h_length,\n",
    "             fancybox=True, frameon=False)\n",
    "ax1.tick_params(axis = 'both', which = 'major', labelsize=fontsize, direction='in')\n",
    "ax1.tick_params(axis = 'both', which = 'minor', labelsize=fontsize, direction='in')\n",
    "\n",
    "\n",
    "figure.savefig(PICS + \"G_\"+\".png\",\n",
    "               bbox_inches='tight', dpi=export_dpi, facecolor='white')"
   ]
  },
  {
   "cell_type": "code",
   "execution_count": 44,
   "id": "5f1c9d8e",
   "metadata": {},
   "outputs": [],
   "source": [
    "def dPhidE_extra(E, m_x, sv, G_function):\n",
    "    z = m_x / E - 1  # To apply the delta function integral\n",
    "    z_tmp = z[z > 0]\n",
    "\n",
    "    Cosmos = (1 + G_function(z_tmp)) *(1 + z_tmp**3)/H_z(z_tmp)\n",
    "    Physics = sv * (omega_dm * rho_c) ** 2\n",
    "    factor = 8 * np.pi * m_x**2\n",
    "    \n",
    "    res = 2* Cosmos * Physics / (3 * E[E<m_x] *factor)\n",
    "    \n",
    "    result = np.zeros_like(E)\n",
    "    result[0:len(res)] = res\n",
    "    \n",
    "    return result\n",
    "#try different method"
   ]
  },
  {
   "cell_type": "code",
   "execution_count": 45,
   "id": "0fc90c70",
   "metadata": {},
   "outputs": [],
   "source": [
    "def dPhidE_extra_test(E, m_x, sv, G_function):\n",
    "    z = m_x / E - 1  # To apply the delta function integral\n",
    "    E_1= E*(1+z)\n",
    "    z_tmp = z[z > 0]\n",
    "\n",
    "    Cosmos = ((1+G_function(z_tmp)) * (1+z_tmp)**3)/H_z(z_tmp)\n",
    "    Physics = sv * (rho_c*omega_m)**2 / (2 * m_x**2)\n",
    "    \n",
    "    res= 2 * 4* np.pi * Cosmos*Physics/ (E_1[E<m_x])\n",
    "    \n",
    "    result = np.zeros_like(E)\n",
    "    result[0:len(res)] = res\n",
    "    \n",
    "    return result\n",
    "#try different method"
   ]
  },
  {
   "cell_type": "code",
   "execution_count": 46,
   "id": "8a7c3259",
   "metadata": {},
   "outputs": [
    {
     "name": "stderr",
     "output_type": "stream",
     "text": [
      "/tmp/ipykernel_4938/1090215601.py:3: RuntimeWarning: overflow encountered in power\n",
      "  return ((c_200**3) * (1 - (1 + c_200)**(-3))) / (3 * (np.log(1 + c_200) - c_200 * (1 + c_200)**(-1))**2)\n",
      "/tmp/ipykernel_4938/1061617900.py:7: RuntimeWarning: invalid value encountered in multiply\n",
      "  return dln_inv_dlogM_lopez(M) * f_delta(sigma_final_lopez,M,z) * g_tild(M, z,c_200_lopez)\n",
      "/tmp/ipykernel_4938/2075404716.py:15: RuntimeWarning: overflow encountered in exp\n",
      "  return A * ((quote / b)**c + 1) * np.exp(d / quote**2)\n",
      "/tmp/ipykernel_4938/1090215601.py:3: RuntimeWarning: invalid value encountered in multiply\n",
      "  return ((c_200**3) * (1 - (1 + c_200)**(-3))) / (3 * (np.log(1 + c_200) - c_200 * (1 + c_200)**(-1))**2)\n",
      "Traceback (most recent call last):\n",
      "  File \"/home/kruteesh/miniconda3/envs/pdm/lib/python3.10/site-packages/IPython/core/interactiveshell.py\", line 3398, in run_code\n",
      "    exec(code_obj, self.user_global_ns, self.user_ns)\n",
      "  File \"/tmp/ipykernel_4938/3290927614.py\", line 6, in <cell line: 6>\n",
      "    plt.plot(E_log_grid,dPhidE_extra_test(E_log_grid,m_x,sv,G_prada)*(E_log_grid**2),label='prada extra')\n",
      "  File \"/tmp/ipykernel_4938/1226935249.py\", line 6, in dPhidE_extra_test\n",
      "    Cosmos = ((1+G_function(z_tmp)) * (1+z_tmp)**3)/H_z(z_tmp)\n",
      "  File \"/tmp/ipykernel_4938/1061617900.py\", line 23, in G_prada\n",
      "    to_int_values=np.array([integrand(M) for M in lopez_int_grid])\n",
      "  File \"/tmp/ipykernel_4938/1061617900.py\", line 23, in <listcomp>\n",
      "    to_int_values=np.array([integrand(M) for M in lopez_int_grid])\n",
      "  File \"/tmp/ipykernel_4938/1061617900.py\", line 21, in integrand\n",
      "    return dln_inv_dlogM_prada(M) * f_delta(sigma_final_prada,M,z) * g_tild(M, z,c_200_prada)\n",
      "  File \"/tmp/ipykernel_4938/1012555996.py\", line 5, in dln_inv_dlogM_prada\n",
      "    y = (M * h / (1e12 ))**(-1)\n",
      "TypeError: can't multiply sequence by non-int of type 'numpy.float64'\n",
      "\n",
      "During handling of the above exception, another exception occurred:\n",
      "\n",
      "Traceback (most recent call last):\n",
      "  File \"/home/kruteesh/miniconda3/envs/pdm/lib/python3.10/site-packages/executing/executing.py\", line 317, in executing\n",
      "    args = executing_cache[key]\n",
      "KeyError: (<code object run_code at 0x7fef2dfca760, file \"/home/kruteesh/miniconda3/envs/pdm/lib/python3.10/site-packages/IPython/core/interactiveshell.py\", line 3362>, 140665245443936, 76)\n",
      "\n",
      "During handling of the above exception, another exception occurred:\n",
      "\n",
      "Traceback (most recent call last):\n",
      "  File \"/home/kruteesh/miniconda3/envs/pdm/lib/python3.10/site-packages/IPython/core/interactiveshell.py\", line 1993, in showtraceback\n",
      "    stb = self.InteractiveTB.structured_traceback(\n",
      "  File \"/home/kruteesh/miniconda3/envs/pdm/lib/python3.10/site-packages/IPython/core/ultratb.py\", line 1118, in structured_traceback\n",
      "    return FormattedTB.structured_traceback(\n",
      "  File \"/home/kruteesh/miniconda3/envs/pdm/lib/python3.10/site-packages/IPython/core/ultratb.py\", line 1012, in structured_traceback\n",
      "    return VerboseTB.structured_traceback(\n",
      "  File \"/home/kruteesh/miniconda3/envs/pdm/lib/python3.10/site-packages/IPython/core/ultratb.py\", line 865, in structured_traceback\n",
      "    formatted_exception = self.format_exception_as_a_whole(etype, evalue, etb, number_of_lines_of_context,\n",
      "  File \"/home/kruteesh/miniconda3/envs/pdm/lib/python3.10/site-packages/IPython/core/ultratb.py\", line 799, in format_exception_as_a_whole\n",
      "    self.get_records(etb, number_of_lines_of_context, tb_offset) if etb else []\n",
      "  File \"/home/kruteesh/miniconda3/envs/pdm/lib/python3.10/site-packages/IPython/core/ultratb.py\", line 854, in get_records\n",
      "    return list(stack_data.FrameInfo.stack_data(etb, options=options))[tb_offset:]\n",
      "  File \"/home/kruteesh/miniconda3/envs/pdm/lib/python3.10/site-packages/stack_data/core.py\", line 565, in stack_data\n",
      "    yield from collapse_repeated(\n",
      "  File \"/home/kruteesh/miniconda3/envs/pdm/lib/python3.10/site-packages/stack_data/utils.py\", line 84, in collapse_repeated\n",
      "    yield from map(mapper, original_group)\n",
      "  File \"/home/kruteesh/miniconda3/envs/pdm/lib/python3.10/site-packages/stack_data/core.py\", line 555, in mapper\n",
      "    return cls(f, options)\n",
      "  File \"/home/kruteesh/miniconda3/envs/pdm/lib/python3.10/site-packages/stack_data/core.py\", line 520, in __init__\n",
      "    self.executing = Source.executing(frame_or_tb)\n",
      "  File \"/home/kruteesh/miniconda3/envs/pdm/lib/python3.10/site-packages/executing/executing.py\", line 369, in executing\n",
      "    args = find(source=cls.for_frame(frame), retry_cache=True)\n",
      "  File \"/home/kruteesh/miniconda3/envs/pdm/lib/python3.10/site-packages/executing/executing.py\", line 252, in for_frame\n",
      "    return cls.for_filename(frame.f_code.co_filename, frame.f_globals or {}, use_cache)\n",
      "  File \"/home/kruteesh/miniconda3/envs/pdm/lib/python3.10/site-packages/executing/executing.py\", line 270, in for_filename\n",
      "    result = source_cache[filename] = cls._for_filename_and_lines(filename, lines)\n",
      "  File \"/home/kruteesh/miniconda3/envs/pdm/lib/python3.10/site-packages/executing/executing.py\", line 281, in _for_filename_and_lines\n",
      "    result = source_cache[(filename, lines)] = cls(filename, lines)\n",
      "  File \"/home/kruteesh/miniconda3/envs/pdm/lib/python3.10/site-packages/stack_data/core.py\", line 81, in __init__\n",
      "    self.asttokens()\n",
      "  File \"/home/kruteesh/miniconda3/envs/pdm/lib/python3.10/site-packages/executing/executing.py\", line 413, in asttokens\n",
      "    return ASTTokens(\n",
      "  File \"/home/kruteesh/miniconda3/envs/pdm/lib/python3.10/site-packages/asttokens/asttokens.py\", line 65, in __init__\n",
      "    self.mark_tokens(self._tree)\n",
      "  File \"/home/kruteesh/miniconda3/envs/pdm/lib/python3.10/site-packages/asttokens/asttokens.py\", line 76, in mark_tokens\n",
      "    MarkTokens(self).visit_tree(root_node)\n",
      "  File \"/home/kruteesh/miniconda3/envs/pdm/lib/python3.10/site-packages/asttokens/mark_tokens.py\", line 47, in visit_tree\n",
      "    util.visit_tree(node, self._visit_before_children, self._visit_after_children)\n",
      "  File \"/home/kruteesh/miniconda3/envs/pdm/lib/python3.10/site-packages/asttokens/util.py\", line 192, in visit_tree\n",
      "    ret = postvisit(current, par_value, value)\n",
      "  File \"/home/kruteesh/miniconda3/envs/pdm/lib/python3.10/site-packages/asttokens/mark_tokens.py\", line 90, in _visit_after_children\n",
      "    nfirst, nlast = self._methods.get(self, node.__class__)(node, first, last)\n",
      "  File \"/home/kruteesh/miniconda3/envs/pdm/lib/python3.10/site-packages/asttokens/mark_tokens.py\", line 268, in visit_keyword\n",
      "    util.expect_token(name, token.NAME, node.arg)\n",
      "  File \"/home/kruteesh/miniconda3/envs/pdm/lib/python3.10/site-packages/asttokens/util.py\", line 56, in expect_token\n",
      "    raise ValueError(\"Expected token %s, got %s on line %s col %s\" % (\n",
      "ValueError: Expected token NAME:'help', got NAME:'ast_transformers' on line 264 col 5\n"
     ]
    },
    {
     "name": "stdout",
     "output_type": "stream",
     "text": [
      "Unexpected exception formatting exception. Falling back to standard exception\n"
     ]
    },
    {
     "data": {
      "image/png": "[encoded data removed]",
      "text/plain": [
       "<Figure size 640x480 with 1 Axes>"
      ]
     },
     "metadata": {},
     "output_type": "display_data"
    }
   ],
   "source": [
    "sv=1e-25\n",
    "m_x=1000\n",
    "E_log_grid=np.logspace(1, 5, 50)\n",
    "\n",
    "plt.plot(E_log_grid,dPhidE_extra_test(E_log_grid,m_x,sv,G_lopez)*(E_log_grid**2),label='lopez extra')\n",
    "plt.plot(E_log_grid,dPhidE_extra_test(E_log_grid,m_x,sv,G_prada)*(E_log_grid**2),label='prada extra')\n",
    "plt.plot(E_log_grid,dPhidE_extra_test(E_log_grid,m_x,sv,G_ibarra)*(E_log_grid**2),label='ibarra extra')\n",
    "plt.xlabel('$E[GeV]$')\n",
    "plt.ylabel(r'$E^2 d\\Phi/dE [GeV cm^{-2} s^{-1}]$')\n",
    "plt.xscale('log')\n",
    "plt.yscale('log')\n",
    "plt.xlim([1e2,1e4])\n",
    "plt.ylim([1e-20, 1e-8])\n",
    "plt.legend()"
   ]
  },
  {
   "cell_type": "markdown",
   "id": "81c242ac",
   "metadata": {},
   "source": [
    "### compare galactic and extragalactic contribution ###"
   ]
  },
  {
   "cell_type": "code",
   "execution_count": 47,
   "id": "9714950d",
   "metadata": {},
   "outputs": [
    {
     "data": {
      "text/plain": [
       "<matplotlib.legend.Legend at 0x7feef1cc3310>"
      ]
     },
     "execution_count": 47,
     "metadata": {},
     "output_type": "execute_result"
    },
    {
     "data": {
      "image/png": "[encoded data removed]",
      "text/plain": [
       "<Figure size 640x480 with 1 Axes>"
      ]
     },
     "metadata": {},
     "output_type": "display_data"
    }
   ],
   "source": [
    "sv=1e-25\n",
    "m_x=1000\n",
    "E_log_grid=np.logspace(1, 5, 50)\n",
    "\n",
    "plt.plot(E_log_grid,galactic_flux(E_log_grid,m_x,sv,J_allsky)*(E_log_grid**2),label='lopez galactic')\n",
    "plt.xlabel('$E[GeV]$')\n",
    "plt.ylabel(r'$E^2 d\\Phi/dE [GeV cm^{-2} s^{-1}]$')\n",
    "plt.xscale('log')\n",
    "plt.yscale('log')\n",
    "#plt.xlim([1e-5,1e15])\n",
    "#plt.ylim([0, 0.5e8])\n",
    "plt.legend()"
   ]
  },
  {
   "cell_type": "code",
   "execution_count": null,
   "id": "dcdff362",
   "metadata": {},
   "outputs": [],
   "source": []
  }
 ],
 "metadata": {
  "kernelspec": {
   "display_name": "Python 3.10.6 ('pdm')",
   "language": "python",
   "name": "python3"
  },
  "language_info": {
   "codemirror_mode": {
    "name": "ipython",
    "version": 3
   },
   "file_extension": ".py",
   "mimetype": "text/x-python",
   "name": "python",
   "nbconvert_exporter": "python",
   "pygments_lexer": "ipython3",
   "version": "3.10.6"
  },
  "vscode": {
   "interpreter": {
    "hash": "82a3a656d33f35b7f3fe77a22343614a58c995dc979ba6da45d214804d59b344"
   }
  }
 },
 "nbformat": 4,
 "nbformat_minor": 5
}
