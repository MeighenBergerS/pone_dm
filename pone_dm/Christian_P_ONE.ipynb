{
 "cells": [
  {
   "cell_type": "code",
   "execution_count": null,
   "metadata": {},
   "outputs": [],
   "source": [
    "# Name: example_basic\n",
    "# Authors: Stephan Meighen-Berger, Kruteesh Desai\n",
    "# An analysis script for Christian on P-ONE new effective areas"
   ]
  },
  {
   "cell_type": "code",
   "execution_count": null,
   "metadata": {},
   "outputs": [],
   "source": [
    "# imports\n",
    "from constants import pdm_constants as const\n",
    "from config import config\n",
    "from pone_aeff import Aeff\n",
    "from dm2nu import DM2Nu\n",
    "from atm_shower import Atm_Shower\n",
    "from detectors import Detector\n",
    "import numpy as np\n",
    "import matplotlib.pyplot as plt\n",
    "from limit_calc import Limits\n",
    "from bkgrd_calc import Background\n",
    "from signal_calc import Signal\n",
    "from pdm import PDM\n",
    "from scipy.interpolate import UnivariateSpline\n",
    "from scipy.stats import chi2\n",
    "from scipy.stats import *\n",
    "from pone_aeff import Aeff\n",
    "import pickle\n",
    "import math\n",
    "import pandas as pd\n",
    "import csv\n",
    "from matplotlib.lines import Line2D\n",
    "from matplotlib import rc"
   ]
  },
  {
   "cell_type": "code",
   "execution_count": null,
   "metadata": {},
   "outputs": [],
   "source": [
    "# picture path\n",
    "PICS = '../pics/'\n",
    "name=[r'$\\nu_{\\mu}$', r\"$\\nu_e$\", r\"$\\nu_{\\tau}$\"]  # ,r'$\\nu_{e}$',r'$\\nu_{\\tau}$'\n",
    "# Plotting standards\n",
    "std_size = 6.  # Size of the plot\n",
    "fontsize = 15.  # Fontsize in the plot\n",
    "lw=0.1  # Linewidth\n",
    "h_length=0.5  # Handle length for the legends\n",
    "export_dpi = 500  # Dpi for the image export\n",
    "color_pone='#7570b3'\n",
    "color_ice='#e7298a'\n",
    "color_combined='#33a02c'\n",
    "color_thermal='#1f78b4'\n",
    "color_unitary='k'\n",
    "color_4='#1b9e77'\n",
    "color_6='#d95f02'\n",
    "rc('font',**{'family':'sans-serif','sans-serif':['Helvetica']})\n",
    "rc('text', usetex=True)"
   ]
  },
  {
   "cell_type": "code",
   "execution_count": null,
   "metadata": {},
   "outputs": [],
   "source": [
    "mass_grid = config[\"simulation parameters\"][\"mass grid\"]\n",
    "sv_grid = config[\"simulation parameters\"][\"sv grid\"]"
   ]
  },
  {
   "cell_type": "code",
   "execution_count": null,
   "metadata": {},
   "outputs": [],
   "source": [
    "hits = [2]\n",
    "modules = [3]\n",
    "spacing = [50, 80, 110, 140, 200]\n",
    "pos_res = [2]"
   ]
  },
  {
   "cell_type": "code",
   "execution_count": null,
   "metadata": {},
   "outputs": [],
   "source": [
    "pdm_res = {}\n",
    "for i,sp in enumerate(spacing):\n",
    "    config['general']['detector'] = 'POne'\n",
    "    config['general']['pone type'] = 'new'\n",
    "    config['pone']['smearing'] = 'smeared'\n",
    "    config['pone_christian']['hit'] = hits[0]\n",
    "    config['pone_christian']['module'] = modules[0]\n",
    "    config['pone_christian']['spacing'] = sp\n",
    "    config['pone_christian']['pos res'] = pos_res[0]\n",
    "    pdm_t = PDM()\n",
    "    pdm_res[hits[0], modules[0], sp, pos_res[0]] = pdm_t.results"
   ]
  },
  {
   "cell_type": "code",
   "execution_count": null,
   "metadata": {},
   "outputs": [],
   "source": [
    "pickle.dump(pdm_res,open('../data/tmp_files/smeared_limits.pkl', 'wb'))\n"
   ]
  },
  {
   "cell_type": "code",
   "execution_count": null,
   "metadata": {},
   "outputs": [],
   "source": [
    "# Loading comparison data\n",
    "th_cl = np.loadtxt(open(\"../data/thermal_relic.csv\"), delimiter = \",\")\n",
    "unitarity = np.loadtxt(open('../data/Unitarity_bound.csv'), delimiter = ',')\n",
    "cl_lit = np.loadtxt('../data/CL_PONE.csv', delimiter=\",\")\n",
    "cl_lit = (cl_lit[cl_lit[:, 0].argsort()])\n",
    "unitarity = (unitarity[unitarity[:, 0].argsort()])\n",
    "\n",
    "#limits_ice = pickle.load(open('/home/kruteesh/Desktop/dm_data_server/28_03_desk/data/limits_results_IceCube.pkl','rb'))\n",
    "limits_pone_unsm = pickle.load(open(\"../data/28_03_02/unsmeared/limits_results_POne_unsm.pkl\",\"rb\"))\n",
    "#limits_com = pickle.load(open(\"/home/kruteesh/Desktop/dm_data_server/14_03/data/limits_results.pkl\", \"rb\"))\n",
    "#limits_pone_unsm = pickle.load(open(\"../data/28_03_02/unsmeared/limits_results_POne_unsm.pkl\",\"rb\"))\n",
    "\n",
    "limits_pone_45_25= pickle.load(open(\"../data/14_04/smeared/45_25/limits_results_POne_sm.pkl\",\"rb\"))\n",
    "\n",
    "limits_pone_35_15= pickle.load(open(\"../data/14_04/smeared/35_15/limits_results_POne_sm.pkl\",\"rb\"))\n",
    "\n",
    "limits_pone_25_10= pickle.load(open(\"../data/14_04/smeared/25_10/limits_results_POne_sm.pkl\",\"rb\"))\n",
    "\n",
    "limits_pone_15_009= pickle.load(open(\"../data/14_04/smeared/15_009/limits_results_POne_sm.pkl\",\"rb\"))\n",
    "\n",
    "\n",
    "cl_lit_ice = np.loadtxt('../data/IceCube_HE.csv', delimiter=\",\")\n",
    "cl_lit_ice = (cl_lit_ice[cl_lit_ice[:, 0].argsort()])\n",
    "xx,yy = np.meshgrid(np.log10( np.logspace(1, 6, 20)),np.log10( np.logspace(1, 6, 20)))"
   ]
  },
  {
   "cell_type": "code",
   "execution_count": null,
   "metadata": {},
   "outputs": [],
   "source": [
    "limits_sm_christ = pickle.load(open('../data/tmp_files/smeared_limits.pkl', 'rb'))"
   ]
  },
  {
   "cell_type": "code",
   "execution_count": null,
   "metadata": {},
   "outputs": [],
   "source": [
    "color = ['black', 'orange', 'purple']\n",
    "color_sm = ['red', 'black', 'purple']\n",
    "color_pa = ['']\n",
    "color_pa = ['']\n",
    "color_pa = ['']\n",
    "color_pa = ['']\n",
    "\n",
    "ll = ['-','--', '-.', 'dotted']\n",
    " # std_size, std_size * 6. / 8.),\n",
    "for i in pdm_res.keys():\n",
    "    # Limits\n",
    "    # ---------------------------------------------\n",
    "    # Setup\n",
    "    # print(i, type(i))\n",
    "    figure, (ax1) = plt.subplots(1, 1, figsize=(std_size,std_size), sharex=True) \n",
    "    # ---------------------------------------------\n",
    "    # Plotting\n",
    "    ax1.set_title('spacing =  %f' % (i[2]),fontsize=fontsize)  # +' Scaling Correction = '+str(config['advanced']['scaling correction'])\n",
    "\n",
    "    ax1.contour(pdm_res[i][\"numu\"], levels = [0.9],  linestyles='-',\n",
    "               origin='lower', extent=(min(np.log10(mass_grid)), max(np.log10(mass_grid)),\n",
    "                                       min(np.log10(sv_grid)), max(np.log10(sv_grid))))\n",
    "    ax1.contour(limits_sm_christ[i][\"numu\"], levels = [0.9],  linestyles='--',\n",
    "               origin='lower', extent=(min(np.log10(mass_grid)), max(np.log10(mass_grid)),\n",
    "                                       min(np.log10(sv_grid)), max(np.log10(sv_grid))))\n",
    "\n",
    "    ax1.plot(np.log10(cl_lit[:, 0]), np.log10(cl_lit[:, 1]), 'g', label='literature P-ONE')\n",
    "    #ax1.plot(np.log10(cl_lit_ice[:, 0]), np.log10(cl_lit_ice[:, 1]),'m',label='literature  IceCube')\n",
    "    ax1.plot(np.log10(th_cl[:, 0]), np.log10(th_cl[:, 1]), 'b', \n",
    "             label='Thermal Relic Abundance')\n",
    "    #ax1.plot(np.log10(unitarity[:, 0]), np.log10(unitarity[:, 1]), '.k', \n",
    "    #         label='Unitarity Bound')\n",
    "    # ---------------------------------------------\n",
    "    # Axis options\n",
    "    ax1.set_xscale(\"linear\")\n",
    "    ax1.set_yscale(\"linear\")\n",
    "    ax1.set_xlabel(r\"$\\log$ $m_{\\chi}$[\\textrm{GeV}]\", fontsize=fontsize)\n",
    "    ax1.set_ylabel(r\"$\\log$ $<\\sigma \\nu>$[$cm^{3} s^{-1}$]\", fontsize=fontsize)\n",
    "    ax1.tick_params(axis = 'both', which = 'major', labelsize=fontsize)\n",
    "    ax1.tick_params(axis = 'both', which = 'minor', labelsize=fontsize)\n",
    "    ax1.set_xlim(2.8, max(np.log10(mass_grid)))\n",
    "    ax1.set_ylim(min(np.log10(sv_grid)), -21)  # \n",
    "    #ax1.text(3.5, -23.7, \"IceCube Simulation\", fontsize=fontsize)\n",
    "    #ax1.text(3.2, -24.8, r\"P-ONE $\\nu_\\mu$\", fontsize=fontsize)\n",
    "    #ax1.text(3.2, -24.9, r\" $\\nu_e$\", fontsize=fontsize)\n",
    "    #ax1.text(3.1, -25.3, r\" $\\nu_\\tau$\", fontsize=fontsize)\n",
    "    # ---------------------------------------------\n",
    "    # Legend\n",
    "    # plt.legend(fontsize=fontsize)\n",
    "    h, l = ax1.get_legend_handles_labels()\n",
    "    lgd1 = ax1.legend(h, l, loc=7, bbox_to_anchor=(1.09, +1.09),\n",
    "                     ncol=2, fontsize=fontsize, handlelength=h_length,\n",
    "                     fancybox=True, frameon=False)\n",
    "    ax1.add_artist(lgd1)\n",
    "    # legend_elements = [Line2D([0], [0], color=color_sm[j], lw=1),\n",
    "    #                Line2D([0], [0], linestyle='--', color=color_sm[j],  lw=1),\n",
    "    #                Line2D([0], [0], linestyle='-.', color=color_sm[j],  lw=1.3),\n",
    "#                Line2D([0], [0], linestyle=':',  color=color_sm[j], lw=1),\n",
    "#                #Line2D([0], [0], color=color_sm[j], linestyle='dotted', lw=2),\n",
    "#               ]\n",
    "# labels = [r'0.45, 0.25',\n",
    "#        r'0.35, 0.15',\n",
    "#        r'0.25, 0.10',\n",
    "#        r'0.15, 0.09']\n",
    "# plt.legend(legend_elements, labels)\n",
    "#h, _ = ax1.get_legend_handles_labels([legend_elements])\n",
    "#lgd2= ax1.legend(h, labels, loc=7, bbox_to_anchor=(1, 0.8),\n",
    "#                 ncol=1, fontsize=fontsize, handlelength=h_length,\n",
    "#                 fancybox=True, frameon=False)\n",
    "#ax1.add_artist(lgd2)\n",
    "    plt.grid()\n",
    "# ---------------------------------------------\n",
    "# Showing the image\n",
    "    plt.show()\n",
    "# ---------------------------------------------\n",
    "# Storing the image\n",
    "    figure.savefig(PICS + \"Limits_christ_%s.png\" %(i[2]),\n",
    "           bbox_inches='tight', dpi=export_dpi, facecolor=\"white\")\n"
   ]
  },
  {
   "cell_type": "code",
   "execution_count": null,
   "metadata": {},
   "outputs": [],
   "source": [
    "back_t = pickle.load(open('../data/Back_christ.pkl', 'rb'))\n",
    "# back_ang = pickle.load(open('../data/Back_christ_ang.pkl', 'rb')) \n",
    "atm = Atm_Shower()"
   ]
  },
  {
   "cell_type": "code",
   "execution_count": null,
   "metadata": {},
   "outputs": [],
   "source": [
    "figure, ax1 = plt.subplots(1,1,figsize=(std_size,std_size), sharex=True) \n",
    "\n",
    "\n",
    "ax1.step(np.log10(atm._egrid), 2*back_t['numu'], color='b', label=r'P-ONE' )\n",
    "\n",
    "ax1.set_yscale(\"log\")\n",
    "\n",
    "ax1.set_xlabel(r'$\\log_{10}$ ( $E$ / $ \\textrm{GeV} )$ ', fontsize=fontsize)\n",
    "\n",
    "ax1.set_ylabel(r'\\# $Counts$', fontsize=fontsize)\n",
    "\n",
    "ax1.tick_params(axis = 'both', which = 'major', labelsize=fontsize, direction='in')\n",
    "ax1.tick_params(axis = 'both', which = 'minor', labelsize=fontsize, direction='in')\n",
    "\n",
    "\n",
    "\n",
    "ax1.set_xlim(3, 6)\n",
    "\n",
    "ax1.set_ylim(1,1e6)\n",
    "h, l = ax1.get_legend_handles_labels()\n",
    "lgd1 = ax1.legend(h, l, loc=7, bbox_to_anchor=(0.85, +1.03),\n",
    "                 ncol=2, fontsize=fontsize, handlelength=h_length,\n",
    "                 fancybox=True, frameon=False)\n",
    "ax1.add_artist(lgd1)\n",
    "\n",
    "# ---------------------------------------------\n",
    "# Showing the image\n",
    "plt.show()\n",
    "#figure.savefig(PICS + \"Final_eff_area\"+\".png\",\n",
    " #              bbox_inches='tight', dpi=export_dpi, facecolor='white')"
   ]
  },
  {
   "cell_type": "code",
   "execution_count": null,
   "metadata": {},
   "outputs": [],
   "source": [
    "# for i,a in enumerate(config['pone_christian']['angles']):\n",
    "#     figure, ax1 = plt.subplots(1,1,figsize=(std_size,std_size), sharex=True) \n",
    "#     ax1.set_title('Zenith angle = %f' % (a))\n",
    "# \n",
    "#     ax1.step(np.log10(atm._egrid), 2*back_ang['numu'][i], color='b', label=r'P-ONE' )\n",
    "#     \n",
    "#     ax1.set_yscale(\"log\")\n",
    "#     \n",
    "#     ax1.set_xlabel(r'$\\log_{10}$ ( $E$ / $ \\textrm{GeV} )$ ', fontsize=fontsize)\n",
    "#     \n",
    "#     ax1.set_ylabel(r'\\# Counts', fontsize=fontsize)\n",
    "#     \n",
    "#     ax1.tick_params(axis = 'both', which = 'major', labelsize=fontsize, direction='in')\n",
    "#     ax1.tick_params(axis = 'both', which = 'minor', labelsize=fontsize, direction='in')\n",
    "#     \n",
    "#     \n",
    "#     \n",
    "#     \n",
    "#     ax1.set_xlim(3, 6)\n",
    "#     #ax1.set_ylim(1,1e10)\n",
    "#     h, l = ax1.get_legend_handles_labels()\n",
    "#     lgd1 = ax1.legend(h, l, loc=7, bbox_to_anchor=(0.85, +1.09),\n",
    "#                      ncol=2, fontsize=fontsize, handlelength=h_length,\n",
    "#                      fancybox=True, frameon=False)\n",
    "#     ax1.add_artist(lgd1)\n",
    "#     \n",
    "#     # ---------------------------------------------\n",
    "#     # Showing the image\n",
    "#     plt.show()\n",
    "#     #figure.savefig(PICS + \"Final_eff_area\"+\".png\",\n",
    "#      #              bbox_inches='tight', dpi=export_dpi, facecolor='white')\n",
    "#     break"
   ]
  },
  {
   "cell_type": "markdown",
   "metadata": {},
   "source": [
    "Sample of file system "
   ]
  },
  {
   "cell_type": "code",
   "execution_count": null,
   "metadata": {},
   "outputs": [],
   "source": [
    "a_eff_file = pickle.load(open(\"../data/aeff_cluster_nuecc.pkl\",'rb'))\n",
    "smearing_file = pickle.load(open(\"../data/fisher_casc.pkl\",'rb'))"
   ]
  },
  {
   "cell_type": "code",
   "execution_count": null,
   "metadata": {},
   "outputs": [],
   "source": [
    "a_eff_file"
   ]
  },
  {
   "cell_type": "code",
   "execution_count": null,
   "metadata": {},
   "outputs": [],
   "source": [
    "cos_zen_edges, log10E_edges, aeff_hist = a_eff_file"
   ]
  },
  {
   "cell_type": "code",
   "execution_count": null,
   "metadata": {},
   "outputs": [],
   "source": [
    "np.abs(np.rad2deg(np.arccos(cos_zen_edges)) - 90)"
   ]
  },
  {
   "cell_type": "markdown",
   "metadata": {},
   "source": []
  },
  {
   "cell_type": "code",
   "execution_count": null,
   "metadata": {},
   "outputs": [],
   "source": [
    "aeff = aeff_hist.loc[2, 3, 2, 50][\"aeff_hist\"]\n",
    "\n",
    "plt.pcolormesh(cos_zen_edges, log10E_edges, aeff.T)"
   ]
  },
  {
   "cell_type": "code",
   "execution_count": null,
   "metadata": {},
   "outputs": [],
   "source": [
    "m_log10E = []\n",
    "for i,e in enumerate(log10E_edges):\n",
    "    if i == 0:\n",
    "        m_log10E.append(log10E_edges[i])\n",
    "    elif i == 40:\n",
    "        break\n",
    "    else:\n",
    "        m_log10E.append((log10E_edges[i] + log10E_edges[i-1]) / 2)\n",
    "    "
   ]
  },
  {
   "cell_type": "code",
   "execution_count": null,
   "metadata": {},
   "outputs": [],
   "source": [
    "aeff_hist.index.get_level_values(0)"
   ]
  },
  {
   "cell_type": "code",
   "execution_count": null,
   "metadata": {},
   "outputs": [],
   "source": [
    "aeff_hist.loc[2, 3, 2, 50][\"aeff_hist\"][0]"
   ]
  },
  {
   "cell_type": "code",
   "execution_count": null,
   "metadata": {},
   "outputs": [],
   "source": [
    "aeff.shape, cos_zen_edges.shape, log10E_edges.shape"
   ]
  },
  {
   "cell_type": "code",
   "execution_count": null,
   "metadata": {},
   "outputs": [],
   "source": [
    "smearing_file.index.get_level_values(1)"
   ]
  },
  {
   "cell_type": "code",
   "execution_count": null,
   "metadata": {},
   "outputs": [],
   "source": [
    "x = 'abc' "
   ]
  },
  {
   "cell_type": "code",
   "execution_count": null,
   "metadata": {},
   "outputs": [],
   "source": [
    "smearing_file"
   ]
  },
  {
   "cell_type": "markdown",
   "metadata": {},
   "source": []
  },
  {
   "cell_type": "code",
   "execution_count": null,
   "metadata": {},
   "outputs": [],
   "source": [
    "\"Full pessimistic triang\""
   ]
  },
  {
   "cell_type": "code",
   "execution_count": null,
   "metadata": {},
   "outputs": [],
   "source": [
    "e_bin = np.logspace(2, 6, 21, base=10)\n",
    "cos_bin = np.linspace(-1,1,20)\n",
    "energies = smearing_file.loc[(\"Full pessimistic cluster\", 50, slice(None), 16), \"logE\"].index.get_level_values(2)\n",
    "log10Esigmas = smearing_file.loc[(\"Full pessimistic cluster\", 50, slice(None), 16), \"logE\"].values\n",
    "sp = UnivariateSpline(energies, log10Esigmas )"
   ]
  },
  {
   "cell_type": "code",
   "execution_count": null,
   "metadata": {},
   "outputs": [],
   "source": [
    "smearing_file.loc[(\"Full pessimistic cluster\", 50, energies[2], 16), \"logE\"]"
   ]
  },
  {
   "cell_type": "code",
   "execution_count": null,
   "metadata": {},
   "outputs": [],
   "source": [
    "energies.shape, log10Esigmas.shape"
   ]
  },
  {
   "cell_type": "code",
   "execution_count": null,
   "metadata": {},
   "outputs": [],
   "source": [
    "log10Esigmas"
   ]
  },
  {
   "cell_type": "code",
   "execution_count": null,
   "metadata": {},
   "outputs": [],
   "source": [
    "smearing_file.loc[(\"Full pessimistic cluster\", 50, slice(None), 16), \"logE\"].index.get_level_values(2)"
   ]
  },
  {
   "cell_type": "code",
   "execution_count": null,
   "metadata": {},
   "outputs": [],
   "source": [
    "e_bin"
   ]
  },
  {
   "cell_type": "code",
   "execution_count": null,
   "metadata": {},
   "outputs": [],
   "source": [
    "def local_log_normal(x, mu, s):\n",
    "    \"\"\"Distribution function \n",
    "    x = log10(E_grid)\n",
    "    mu = log10(E) \n",
    "    sigma = ( standard deviation as per definition ) ( so no percentage or fraction )\n",
    "    \"\"\"\n",
    "    s = ( s  )\n",
    "    pdf = np.exp(-( np.log10(x) - mu )**2 / (2 * s**2)) / (x * s * np.sqrt(2 * np.pi))\n",
    "\n",
    "    return pdf"
   ]
  },
  {
   "cell_type": "code",
   "execution_count": null,
   "metadata": {},
   "outputs": [],
   "source": [
    "def local_normal(x, mu, s):\n",
    "    \"\"\"Gaussian distribution function\n",
    "    x = E grid\n",
    "    mu = mean E, log10E\n",
    "    s = sigma, log10E(standard deviation )\n",
    "    \"\"\"\n",
    "    x = np.log10(x)\n",
    "    pdf = np.exp(-(((x - mu) / s)**2) / 2) / (s * np.sqrt(2 * np.pi))\n",
    "    return pdf"
   ]
  },
  {
   "cell_type": "code",
   "execution_count": null,
   "metadata": {},
   "outputs": [],
   "source": [
    "e_grid = atm.egrid"
   ]
  },
  {
   "cell_type": "code",
   "execution_count": null,
   "metadata": {},
   "outputs": [],
   "source": [
    "def find_nearest(array: np.array, value: float):\n",
    "\n",
    "    \"\"\" Returns: index of the nearest vlaue of an array to the given number\n",
    "    --------------\n",
    "    idx :  float\n",
    "    \"\"\"\n",
    "    array = np.array(array)\n",
    "    idx = (np.abs(array - value)).argmin()\n",
    "    return idx"
   ]
  },
  {
   "cell_type": "code",
   "execution_count": null,
   "metadata": {},
   "outputs": [],
   "source": [
    "find_nearest(e_grid, energies[0])"
   ]
  },
  {
   "cell_type": "code",
   "execution_count": null,
   "metadata": {},
   "outputs": [],
   "source": [
    "spl_sigma = UnivariateSpline(energies, log10Esigmas, k=1, s=0, ext=3)\n",
    "sigmas = spl_sigma(e_grid)"
   ]
  },
  {
   "cell_type": "code",
   "execution_count": null,
   "metadata": {},
   "outputs": [],
   "source": [
    "print('energies_low = %.1e, _high = %.1e' % (e_grid[40], e_grid[67]))"
   ]
  },
  {
   "cell_type": "code",
   "execution_count": null,
   "metadata": {},
   "outputs": [],
   "source": [
    "#for j,s in enumerate(sigmas): \n",
    "#    if s < 0.01:\n",
    "#       sigmas[j] = 0.01"
   ]
  },
  {
   "cell_type": "code",
   "execution_count": null,
   "metadata": {},
   "outputs": [],
   "source": [
    "t_p = 40\n",
    "e_grid_c = e_grid[t_p:]\n",
    "e_bin_c = np.log10(e_grid_c)\n",
    "sigmas_c = sigmas[t_p:]"
   ]
  },
  {
   "cell_type": "code",
   "execution_count": null,
   "metadata": {},
   "outputs": [],
   "source": []
  },
  {
   "cell_type": "code",
   "execution_count": null,
   "metadata": {},
   "outputs": [],
   "source": [
    "grid_recon = []\n",
    "for i,e in enumerate(e_grid_c):\n",
    "    tmp_e_recon = local_normal(e_grid_c, np.log10(e), sigmas_c)\n",
    "    norm = (np.sum(np.nan_to_num(tmp_e_recon)))\n",
    "    grid_recon.append(np.log10(e) * np.nan_to_num(tmp_e_recon) / norm) \n"
   ]
  },
  {
   "cell_type": "code",
   "execution_count": null,
   "metadata": {},
   "outputs": [],
   "source": [
    "grid_recon"
   ]
  },
  {
   "cell_type": "markdown",
   "metadata": {},
   "source": []
  },
  {
   "cell_type": "code",
   "execution_count": null,
   "metadata": {},
   "outputs": [],
   "source": [
    "e_bin = np.log10(e_grid_c) #np.log10(energies)\n",
    "figure, (ax1) = plt.subplots(1, 1, figsize=(std_size, std_size * 6./8. ), sharex=True)\n",
    "z_p=ax1.imshow((np.array(grid_recon)), origin='lower', extent=( min(e_bin), max(e_bin), min(e_bin), max(e_bin)),\n",
    "               cmap=plt.get_cmap('bone_r'))\n",
    "\n",
    "#ax1.contour(np.array(grid_recon).T, levels = [0.68], colors='red', linestyles='-',\n",
    "#            origin='lower', extent=( min((e_bin)), max((e_bin)), min((e_bin)), max((e_bin))) )\n",
    "figure.colorbar(z_p, ax=(ax1))\n",
    "#ax1.contour((samples_fun*e_grid).T, levels = [1.2], colors='purple', linestyles='-',\n",
    "#            origin='lower', extent=( min(np.log10(e_grid)), max(np.log10(e_grid)), min(np.log10(e_grid)), max(np.log10(e_grid))) )\n",
    "\n",
    "\n",
    "ax1.set_xlabel(r\"$\\log_{10}$ $E_{true} / \\textrm{GeV}$\", fontsize=fontsize)\n",
    "ax1.set_ylabel(r\"$\\log_{10}$ $E_{Recon} / \\textrm{GeV}$\", fontsize=fontsize)\n",
    "#ax1.set_ylabel(r\"Distribution fraction\", fontsize=fontsize)\n",
    "ax1.tick_params(axis = 'both', which = 'major', labelsize=fontsize, direction='in')\n",
    "ax1.tick_params(axis = 'both', which = 'minor', labelsize=fontsize, direction='in')\n",
    "ax1.set_xlim(2,7)\n",
    "ax1.set_ylim(2,7)\n",
    "# ---------------------------------------------\n",
    "# Legend\n",
    "# plt.legend(fontsize=fontsize)\n",
    "h, l = ax1.get_legend_handles_labels()\n",
    "lgd1 = ax1.legend(h, l, loc=9, bbox_to_anchor=(0.4, +1.),\n",
    "                 ncol=1, fontsize=fontsize, handlelength=h_length,\n",
    "                 fancybox=True, frameon=False)\n",
    "ax1.add_artist(lgd1)\n",
    "figure.savefig(PICS + \"Reconstruction_\"+\".png\",\n",
    "               bbox_inches='tight', dpi=export_dpi, facecolor='white')\n"
   ]
  },
  {
   "cell_type": "code",
   "execution_count": null,
   "metadata": {},
   "outputs": [],
   "source": []
  },
  {
   "cell_type": "code",
   "execution_count": null,
   "metadata": {},
   "outputs": [],
   "source": [
    "smearing_file.columns"
   ]
  },
  {
   "cell_type": "code",
   "execution_count": null,
   "metadata": {},
   "outputs": [],
   "source": [
    "a_eff_file[0].shape, a_eff_file[1].shape"
   ]
  },
  {
   "cell_type": "code",
   "execution_count": null,
   "metadata": {},
   "outputs": [],
   "source": [
    "a_eff_file[2]['aeff_hist'][1, 1, math.nan, 50]"
   ]
  },
  {
   "cell_type": "code",
   "execution_count": null,
   "metadata": {},
   "outputs": [],
   "source": [
    "test_keys_aeff_11 = [[1, 1, 'nan',  50.0], [1, 1, 'nan',  80.0], [1, 1, 'nan',  110.0], [1, 1, 'nan',  140.0], [1, 1, 'nan',  200.0]]\n",
    "test_keys_aeff_12 = [[1, 2, 'nan', 50.0], [1, 2, 'nan', 80.0], [1, 2, 'nan', 110.0],  [1, 2, 'nan', 140.0], [1, 2, 'nan', 200.0] ]\n",
    "test_keys_aeff_21 = [[2, 1, 'nan', 50.0], [2, 1, 'nan', 80.0], [2, 1, 'nan', 110.0], [2, 1, 'nan', 140.0],  [2, 1, 'nan', 200.0]]\n",
    "test_keys_aeff_22 = [[2, 2, 'nan', 50.0],  [2, 2, 'nan', 80.0], [2, 2, 'nan', 110.0], [2, 2, 'nan', 140.0],  [2, 2, 'nan', 200.0]]\n",
    "spacing = [50, 80, 110, 140, 200]\n",
    "hit = [1, 2]\n",
    "module = [1, 2]"
   ]
  },
  {
   "cell_type": "code",
   "execution_count": null,
   "metadata": {},
   "outputs": [],
   "source": [
    "spacing"
   ]
  },
  {
   "cell_type": "code",
   "execution_count": null,
   "metadata": {},
   "outputs": [],
   "source": [
    "for i,k in enumerate(spacing):\n",
    "    print(np.array(a_eff_file[2]['aeff_hist'][1, 1, math.nan, spacing[i]]).shape)\n",
    "    print(np.array(a_eff_file[2]['aeff_hist'][1, 2, math.nan, spacing[i]]).shape)\n",
    "    print(np.array(a_eff_file[2]['aeff_hist'][2, 1, math.nan, spacing[i]]).shape)\n",
    "    print(np.array(a_eff_file[2]['aeff_hist'][2, 2, math.nan, spacing[i]]).shape)\n",
    "    "
   ]
  }
 ],
 "metadata": {
  "interpreter": {
   "hash": "82a3a656d33f35b7f3fe77a22343614a58c995dc979ba6da45d214804d59b344"
  },
  "kernelspec": {
   "display_name": "Python 3.9.11 ('pdm')",
   "language": "python",
   "name": "python3"
  },
  "language_info": {
   "codemirror_mode": {
    "name": "ipython",
    "version": 3
   },
   "file_extension": ".py",
   "mimetype": "text/x-python",
   "name": "python",
   "nbconvert_exporter": "python",
   "pygments_lexer": "ipython3",
   "version": "3.9.11"
  },
  "orig_nbformat": 4
 },
 "nbformat": 4,
 "nbformat_minor": 2
}
